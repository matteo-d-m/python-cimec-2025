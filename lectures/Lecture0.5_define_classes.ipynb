{
 "cells": [
  {
   "cell_type": "markdown",
   "id": "65417ae8",
   "metadata": {
    "slideshow": {
     "slide_type": "slide"
    }
   },
   "source": [
    "# Python for (open) Neuroscience\n",
    "\n",
    "_Lecture 0.5_ - Classes (second part)\n",
    "\n",
    "Luigi Petrucco\n",
    "\n",
    "[![Open In Colab](https://colab.research.google.com/assets/colab-badge.svg)](https://colab.research.google.com/github/vigji/python-cimec-2024/blob/main/lectures/Lecture0.5_define_classes.ipynb)"
   ]
  },
  {
   "cell_type": "markdown",
   "id": "f472cbc4",
   "metadata": {
    "slideshow": {
     "slide_type": "subslide"
    }
   },
   "source": [
    "## Lecture outline\n",
    "\n",
    "- Object-oriented programming: objects (and practicals)\n",
    "- Defining objects (and practicals)\n",
    "- Adding methods (and practicals)\n",
    "\n",
    "(If you finish early and want to get deeper in classes and objects, there is additional material at the end of the lecture)"
   ]
  },
  {
   "cell_type": "markdown",
   "id": "7220db85",
   "metadata": {
    "slideshow": {
     "slide_type": "slide"
    }
   },
   "source": [
    "## Classes and objects\n",
    "\n",
    "Deep down the rabbit (Python) hole..."
   ]
  },
  {
   "cell_type": "markdown",
   "id": "5a55f23c",
   "metadata": {
    "slideshow": {
     "slide_type": "subslide"
    }
   },
   "source": [
    "<span style=\"color:indianred\">Object-oriented programming</span> is a programming paradigm based on the concept of <span style=\"color:indianred\">objects</span>, entities that _bind together data and operations on those data_."
   ]
  },
  {
   "cell_type": "markdown",
   "id": "19d90171",
   "metadata": {
    "slideshow": {
     "slide_type": "subslide"
    }
   },
   "source": [
    "## Objects\n",
    "\n",
    "Objects are entities that keep together:"
   ]
  },
  {
   "cell_type": "markdown",
   "id": "13789edb",
   "metadata": {},
   "source": [
    " - <span style=\"color:indianred\">Attributes</span>: similar to entries in a dictionary, values of any types kept together in the same place"
   ]
  },
  {
   "cell_type": "markdown",
   "id": "6fa873ef",
   "metadata": {},
   "source": [
    " - <span style=\"color:indianred\">Methods</span>: similar to functions, but operating with and on the attributes of an object (and potentially taking additional inputs)"
   ]
  },
  {
   "cell_type": "markdown",
   "id": "a7be77eb",
   "metadata": {
    "slideshow": {
     "slide_type": "subslide"
    }
   },
   "source": [
    "## An example\n",
    "\n",
    "Let's look at an example: an object keeping together experimental metadata info and loading functions."
   ]
  },
  {
   "cell_type": "code",
   "execution_count": 82,
   "id": "0798fcbf",
   "metadata": {
    "slideshow": {
     "slide_type": "subslide"
    }
   },
   "outputs": [],
   "source": [
    "# Don't be scared by the code below,\n",
    "# you don't need to look at code in this cell for now! \n",
    "# (Here we are defining the class for our object)\n",
    "class ParticipantData:\n",
    "    \"\"\"Represent data from an experimental subject.\n",
    "    \n",
    "    Methods:\n",
    "    =======\n",
    "    \n",
    "    get_data_path: ...\n",
    "    \n",
    "    get_exp_data: ...\n",
    "    \n",
    "    get_exp_metadata: ...\n",
    "    \n",
    "    Attributes:\n",
    "    ===========\n",
    "    ...\n",
    "    \n",
    "    \"\"\"\n",
    "    def __init__(self, participant_id, age, condition, base_path=\"/path/to/data\"):\n",
    "        self.participant_id = participant_id\n",
    "        self.age = age\n",
    "        self.condition = condition\n",
    "        self.base_path = base_path\n",
    "        self.experiment_name = \"Experiment 1\"\n",
    "    \n",
    "    def get_data_path(self):\n",
    "        \"\"\"Generates a file path for participant data based on their ID and condition.\"\"\"\n",
    "        return f\"{self.base_path}/subject_{self.participant_id}_{self.condition}.csv\"\n",
    "    \n",
    "    def get_exp_metadata(self):\n",
    "        \"\"\"Return participant matadata.\"\"\"\n",
    "        return {\n",
    "            \"id\": self.participant_id,\n",
    "            \"age\": self.age,\n",
    "            \"condition\": self.condition,\n",
    "        }\n",
    "    \n",
    "    def get_exp_data(self):\n",
    "        \"\"\"Loads data for the participant from a file.\n",
    "        (not for real, generate dummy data)\"\"\"\n",
    "        data_path = self.get_data_path()\n",
    "        print(f\"Loading data from {data_path}...\")  # We are not really loading here\n",
    "        return [1, 2, 3]  # Dummy measurements"
   ]
  },
  {
   "cell_type": "code",
   "execution_count": 83,
   "id": "d261245c",
   "metadata": {
    "slideshow": {
     "slide_type": "subslide"
    }
   },
   "outputs": [],
   "source": [
    "# Creation of a ParticipantData object: we pass relevant arguments in round brackets,\n",
    "# as when calling functions. This operation is called \"instantiation\":\n",
    "\n",
    "participant_a_data = ParticipantData(participant_id=\"A\", age=28, condition=\"treatment\")"
   ]
  },
  {
   "cell_type": "markdown",
   "id": "093f5fca",
   "metadata": {
    "slideshow": {
     "slide_type": "subslide"
    }
   },
   "source": [
    "### Attributes"
   ]
  },
  {
   "cell_type": "code",
   "execution_count": 84,
   "id": "86e29d18",
   "metadata": {},
   "outputs": [
    {
     "name": "stdout",
     "output_type": "stream",
     "text": [
      "Age:  28\n",
      "Experiment name:  Experiment 1\n"
     ]
    }
   ],
   "source": [
    "# This object has a bunch of attributes; \n",
    "# in this case, participant_id, age, condition, experiment_name\n",
    "# (Note that objects can have attributes that \n",
    "# we did not pass in the instantiation!\n",
    "# in this case, experiment_name)\n",
    "\n",
    "# We access them using the `object_name.attribute_name` syntax:\n",
    "print(\"Age: \", participant_a_data.age)\n",
    "\n",
    "print(\"Experiment name: \", participant_a_data.experiment_name)"
   ]
  },
  {
   "cell_type": "markdown",
   "id": "4fd7b9f7",
   "metadata": {
    "slideshow": {
     "slide_type": "subslide"
    }
   },
   "source": [
    "There are several advantages with using an object:\n",
    " - we force all objects to have some entries (_e.g._ id, age, condition)\n",
    " - we can implement methods operating on those entries (see later)"
   ]
  },
  {
   "cell_type": "markdown",
   "id": "7fec9873",
   "metadata": {
    "slideshow": {
     "slide_type": "subslide"
    }
   },
   "source": [
    "### Methods\n",
    "\n",
    "Methods are functions that are called directly from objects and operate upon their values.\n",
    "\n",
    "You can generally read about methods in the object documentation (accessible with the usual `?` syntax)"
   ]
  },
  {
   "cell_type": "code",
   "execution_count": 91,
   "id": "e87ba0a7",
   "metadata": {
    "slideshow": {
     "slide_type": "subslide"
    }
   },
   "outputs": [
    {
     "data": {
      "text/plain": [
       "'/path/to/data/subject_A_treatment.csv'"
      ]
     },
     "execution_count": 91,
     "metadata": {},
     "output_type": "execute_result"
    }
   ],
   "source": [
    "participant_a_data.get_data_path()  # get location of subject data"
   ]
  },
  {
   "cell_type": "code",
   "execution_count": 92,
   "id": "a71b045b",
   "metadata": {},
   "outputs": [
    {
     "name": "stdout",
     "output_type": "stream",
     "text": [
      "Loading data from /path/to/data/subject_A_treatment.csv...\n"
     ]
    }
   ],
   "source": [
    "data = participant_a_data.get_exp_data()  # load subject data"
   ]
  },
  {
   "cell_type": "markdown",
   "id": "b9403d51",
   "metadata": {
    "slideshow": {
     "slide_type": "fragment"
    }
   },
   "source": [
    "Many times we don't need to pass arguments to methods! They already have all the attributes of the object to operate on. Sometimes we do though.\n",
    "\n",
    "Example:"
   ]
  },
  {
   "cell_type": "code",
   "execution_count": 1,
   "id": "92116542",
   "metadata": {},
   "outputs": [],
   "source": [
    "a_list = [1, 2, 3]\n",
    "a_list.pop()  # this is a method that takes no arguments\n",
    "\n",
    "a_list.append(4)  # this is a method that takes one argument\n"
   ]
  },
  {
   "cell_type": "markdown",
   "id": "1e419111",
   "metadata": {
    "slideshow": {
     "slide_type": "subslide"
    }
   },
   "source": [
    "### Classes and objects\n",
    "\n",
    "To use objects, we first have to define (or to import) classes."
   ]
  },
  {
   "cell_type": "markdown",
   "id": "ed94fbe0",
   "metadata": {
    "slideshow": {
     "slide_type": "fragment"
    }
   },
   "source": [
    "- Classes are the blueprint/template from which we generate objects: in the definition of a class, we define all its attributes (but not necessarily their specific values!) and its methods"
   ]
  },
  {
   "cell_type": "markdown",
   "id": "efb4e4c1",
   "metadata": {
    "slideshow": {
     "slide_type": "subslide"
    }
   },
   "source": [
    "- A class stands to objects in the way the concept of a chair stands to each of the real-world chairs you see around, with their specific material, number of legs, etc."
   ]
  },
  {
   "cell_type": "markdown",
   "id": "ae2cd982",
   "metadata": {
    "slideshow": {
     "slide_type": "subslide"
    }
   },
   "source": [
    "For example, using the same \"template\" for subject data above (the class), we can produce different objects for different subjects. Objects will have the same methods, and same attributes with different values:"
   ]
  },
  {
   "cell_type": "code",
   "execution_count": null,
   "id": "c2156f00",
   "metadata": {},
   "outputs": [],
   "source": [
    "# An object of the `ParticipantData` class:\n",
    "participant_a_data = ParticipantData(participant_id=\"A\", age=28, condition=\"treatment\")\n",
    "\n",
    "# A different object of the same `ParticipantData` class:\n",
    "participant_b_data = ParticipantData(participant_id=\"B\", age=35, condition=\"control\")"
   ]
  },
  {
   "cell_type": "markdown",
   "id": "c78c2542",
   "metadata": {
    "slideshow": {
     "slide_type": "subslide"
    }
   },
   "source": [
    "## Objects and types in Python\n",
    "\n",
    "You were not aware of this, but you're already a proficient user of classes and objects!\n",
    "\n",
    "In fact, in Python all variables are objects of different classes (the data types). If you remember, we were calling  methods many times!"
   ]
  },
  {
   "cell_type": "code",
   "execution_count": null,
   "id": "4757cba3",
   "metadata": {},
   "outputs": [],
   "source": [
    "text = \"Some text\"  # this is just an object of \"str\" class!\n",
    "text.split()  # this is just a method!"
   ]
  },
  {
   "cell_type": "markdown",
   "id": "4ad9315f",
   "metadata": {
    "slideshow": {
     "slide_type": "subslide"
    }
   },
   "source": [
    "In Python, even simpler variables are actually objects! For example, integers:"
   ]
  },
  {
   "cell_type": "code",
   "execution_count": 93,
   "id": "332859d6",
   "metadata": {
    "slideshow": {
     "slide_type": "-"
    }
   },
   "outputs": [
    {
     "data": {
      "text/plain": [
       "b'\\x01'"
      ]
     },
     "execution_count": 93,
     "metadata": {},
     "output_type": "execute_result"
    }
   ],
   "source": [
    "a_int = 1\n",
    "a_int.to_bytes()  # even integers actually have methods!"
   ]
  },
  {
   "cell_type": "markdown",
   "id": "d892bb19",
   "metadata": {
    "slideshow": {
     "slide_type": "skip"
    }
   },
   "source": [
    "([Advanced]: if you play around with standard types, you'll see that they do not really have attributes as we described above, only methods; this is because they are implemented in a way that keep the user away from accessing the data represented in the variable to avoid screw-ups. \n",
    "\n",
    "But this is something you do not need to dig into: be aware that variables are objects and forget about it!"
   ]
  },
  {
   "cell_type": "markdown",
   "id": "c7a3fb17",
   "metadata": {
    "slideshow": {
     "slide_type": "subslide"
    }
   },
   "source": [
    "## Anatomy of a class"
   ]
  },
  {
   "cell_type": "markdown",
   "id": "fa8559f1",
   "metadata": {
    "slideshow": {
     "slide_type": "subslide"
    }
   },
   "source": [
    "What do we need to define a class?"
   ]
  },
  {
   "cell_type": "code",
   "execution_count": null,
   "id": "db809db0",
   "metadata": {},
   "outputs": [],
   "source": [
    "class TestClass:\n",
    "    \"\"\"Showcase the definition of a class.\"\"\"\n",
    "\n",
    "    def __init__(self, an_argument):\n",
    "        self.an_attribute_from_argument = an_argument\n",
    "        self.an_attribute = 1  \n",
    "        \n",
    "    def a_stupid_method(self, a):\n",
    "        \"\"\"Method returning the input times self.an_attribute\n",
    "        \"\"\"\n",
    "        b = a * self.an_attribute\n",
    "        return b\n",
    "    \n",
    "    def another_method(self):\n",
    "        ..."
   ]
  },
  {
   "cell_type": "markdown",
   "id": "cd1eb370",
   "metadata": {
    "slideshow": {
     "slide_type": "slide"
    }
   },
   "source": [
    "<p align=\"center\">\n",
    "  <img src=\"./files/class_anatomy1.pdf\" width=\"900\" height=\"auto\"/>\n",
    "</p>"
   ]
  },
  {
   "cell_type": "markdown",
   "id": "55a0afbd",
   "metadata": {
    "slideshow": {
     "slide_type": "subslide"
    }
   },
   "source": [
    "  - a <span style=\"color:indianred\">name</span> that describes it. To <span style=\"color:indianred\">istantiate</span> (_i.e_ to make) objects, we use will use this name followed by `()`. CamelCase formatting\n",
    "  - <span style=\"color:indianred\">attributes</span>, variables that are attributed to the object (or to the class - see later)\n",
    "  -  <span style=\"color:indianred\">methods</span>, functions that operate on the attributes (and other arguments)\n",
    "  - (optional but strongly recommended): a <span style=\"color:indianred\">docstring</span> (a documentation string)"
   ]
  },
  {
   "cell_type": "markdown",
   "id": "52cf7206",
   "metadata": {
    "slideshow": {
     "slide_type": "subslide"
    }
   },
   "source": [
    "The best way to look at classes is as a constructor method where all attributes are set, plut a bunch of other methods. Each method look very similar to a function!"
   ]
  },
  {
   "cell_type": "markdown",
   "id": "77708367",
   "metadata": {
    "slideshow": {
     "slide_type": "subslide"
    }
   },
   "source": [
    "<p align=\"center\">\n",
    "  <img src=\"./files/class_anatomy2.pdf\" width=\"900\" height=\"auto\"/>\n",
    "</p>"
   ]
  },
  {
   "cell_type": "markdown",
   "id": "3c48f065",
   "metadata": {
    "slideshow": {
     "slide_type": "subslide"
    }
   },
   "source": [
    "### Instantiating objects"
   ]
  },
  {
   "cell_type": "markdown",
   "id": "1a8563bf",
   "metadata": {},
   "source": [
    "The syntax to create new objects is: \n",
    "\n",
    "```python\n",
    "an_object = NameOfTheClass(arguments)\n",
    "```"
   ]
  },
  {
   "cell_type": "markdown",
   "id": "a03d70d3",
   "metadata": {
    "slideshow": {
     "slide_type": "subslide"
    }
   },
   "source": [
    "### The `.__init__()` method"
   ]
  },
  {
   "cell_type": "markdown",
   "id": "5031d8ec",
   "metadata": {
    "slideshow": {
     "slide_type": "-"
    }
   },
   "source": [
    "Each time we istantiate a new object from a class, the `.__init__(self)` method is called.\n",
    "\n",
    "This method is called the _constructor_ and it is where all the attributes of the object are set!\n",
    "\n",
    "Note that you do not need to call this method explicitely. Python magically understands that it has to call it every time you are creating an object instance"
   ]
  },
  {
   "cell_type": "markdown",
   "id": "5c409bfa",
   "metadata": {
    "slideshow": {
     "slide_type": "subslide"
    }
   },
   "source": [
    "You can imagine that when you do this:\n",
    "```python\n",
    "an_object = NameOfTheClass(...)\n",
    "```\n",
    "\n",
    "Python is implicitely reading it as:\n",
    "```python\n",
    "an_object = NameOfTheClass.__init__(...)\n",
    "```\n",
    "\n",
    "[This is not 100% of what is happening, but it gives the idea. Do not  write `NameOfTheClass.__init__()` in your code!]"
   ]
  },
  {
   "cell_type": "markdown",
   "id": "226ef7f0",
   "metadata": {
    "slideshow": {
     "slide_type": "subslide"
    }
   },
   "source": [
    "We can pass arguments to the `.__init__()` method as we would do for any other function!"
   ]
  },
  {
   "cell_type": "code",
   "execution_count": 99,
   "id": "42498d37",
   "metadata": {
    "slideshow": {
     "slide_type": "-"
    }
   },
   "outputs": [
    {
     "ename": "TypeError",
     "evalue": "Student.__init__() missing 1 required positional argument: 'age'",
     "output_type": "error",
     "traceback": [
      "\u001b[0;31m---------------------------------------------------------------------------\u001b[0m",
      "\u001b[0;31mTypeError\u001b[0m                                 Traceback (most recent call last)",
      "Cell \u001b[0;32mIn[99], line 8\u001b[0m\n\u001b[1;32m      5\u001b[0m         \u001b[38;5;28mself\u001b[39m\u001b[38;5;241m.\u001b[39menrollment \u001b[38;5;241m=\u001b[39m enrollment\n\u001b[1;32m      6\u001b[0m         \u001b[38;5;28mself\u001b[39m\u001b[38;5;241m.\u001b[39mage \u001b[38;5;241m=\u001b[39m age\n\u001b[0;32m----> 8\u001b[0m a_student \u001b[38;5;241m=\u001b[39m \u001b[43mStudent\u001b[49m\u001b[43m(\u001b[49m\u001b[38;5;124;43m\"\u001b[39;49m\u001b[38;5;124;43mPippo\u001b[39;49m\u001b[38;5;124;43m\"\u001b[39;49m\u001b[43m)\u001b[49m\n",
      "\u001b[0;31mTypeError\u001b[0m: Student.__init__() missing 1 required positional argument: 'age'"
     ]
    }
   ],
   "source": [
    "class Student:\n",
    "    def __init__(self, name, age, enrollment=\"CIMeC PhD\"):\n",
    "        # print(\"I'm creating a student object\")\n",
    "        self.name = name\n",
    "        self.enrollment = enrollment\n",
    "        self.age = age\n",
    "\n",
    "a_student = Student(\"Pippo\")"
   ]
  },
  {
   "cell_type": "markdown",
   "id": "51387588",
   "metadata": {
    "slideshow": {
     "slide_type": "subslide"
    }
   },
   "source": [
    "### Using the `__init__()` method"
   ]
  },
  {
   "cell_type": "markdown",
   "id": "c3a09ea4",
   "metadata": {},
   "source": [
    "Methods are (almost entirely) just functions! `__init__()` is no exception\n",
    "\n",
    "Arguments work in exactly the same way as for functions:\n",
    " - you can pass values by position or by keyword \n",
    " - you can specifying default values"
   ]
  },
  {
   "cell_type": "code",
   "execution_count": 100,
   "id": "175f83bc",
   "metadata": {
    "slideshow": {
     "slide_type": "subslide"
    }
   },
   "outputs": [],
   "source": [
    "# Instantiation passing arguments by position:\n",
    "a_student = Student(\"Pippo\", 26, \"rocket science master\")\n",
    "\n",
    "# Instantiation passing arguments by keyword:\n",
    "an_identical_student = Student(name=\"Pippo\", age=26, enrollment=\"rocket science master\")\n",
    "\n",
    "# Instantiation leaving default value for `enrollment`:\n",
    "student_with_defaults = Student(\"Peppa\", 27)"
   ]
  },
  {
   "cell_type": "markdown",
   "id": "339748c8",
   "metadata": {
    "slideshow": {
     "slide_type": "subslide"
    }
   },
   "source": [
    "### A class and its `self`"
   ]
  },
  {
   "cell_type": "markdown",
   "id": "949130b7",
   "metadata": {},
   "source": [
    "    ⚠️ Confusion legit here! ⚠️\n",
    "    \n",
    "`self.` is the way in which the specific object instance is referenced to inside the class. this is why we are passing it always to every method - so that for each object, it can operate on the attributes of that object"
   ]
  },
  {
   "cell_type": "code",
   "execution_count": 2,
   "id": "df4f7eac",
   "metadata": {
    "slideshow": {
     "slide_type": "subslide"
    }
   },
   "outputs": [
    {
     "name": "stdout",
     "output_type": "stream",
     "text": [
      "Who am I? I seem to be: <__main__.IntrospectiveClass object at 0x107acffa0>\n",
      "My attribute value is: 1\n"
     ]
    }
   ],
   "source": [
    "class IntrospectiveClass:\n",
    "    def __init__(self, attribute=0):\n",
    "        a = 1\n",
    "        b = 2\n",
    "        self.my_attribute = attribute\n",
    "    \n",
    "    def introspect(self):\n",
    "        print(f\"Who am I? I seem to be: {self}\")\n",
    "        print(f\"My attribute value is: {self.my_attribute}\")\n",
    "\n",
    "\n",
    "an_instance = IntrospectiveClass(1)\n",
    "an_instance.introspect()"
   ]
  },
  {
   "cell_type": "code",
   "execution_count": 3,
   "id": "71480093",
   "metadata": {},
   "outputs": [
    {
     "name": "stdout",
     "output_type": "stream",
     "text": [
      "Who am I? I seem to be: <__main__.IntrospectiveClass object at 0x107d32020>\n",
      "My attribute value is: 2\n"
     ]
    }
   ],
   "source": [
    "another_instance = IntrospectiveClass(2)\n",
    "another_instance.introspect()"
   ]
  },
  {
   "cell_type": "markdown",
   "id": "ead49c89",
   "metadata": {
    "slideshow": {
     "slide_type": "subslide"
    }
   },
   "source": [
    "This can be the source of a funny but very common bug:"
   ]
  },
  {
   "cell_type": "code",
   "execution_count": 103,
   "id": "3b01d845",
   "metadata": {},
   "outputs": [
    {
     "ename": "TypeError",
     "evalue": "IntrospectiveClass.introspect() missing 1 required positional argument: 'self'",
     "output_type": "error",
     "traceback": [
      "\u001b[0;31m---------------------------------------------------------------------------\u001b[0m",
      "\u001b[0;31mTypeError\u001b[0m                                 Traceback (most recent call last)",
      "Cell \u001b[0;32mIn[103], line 4\u001b[0m\n\u001b[1;32m      1\u001b[0m \u001b[38;5;66;03m# here we forgot to use the round brackets! Hence\u001b[39;00m\n\u001b[1;32m      2\u001b[0m introspective_obj_wrong \u001b[38;5;241m=\u001b[39m IntrospectiveClass\n\u001b[0;32m----> 4\u001b[0m \u001b[43mintrospective_obj_wrong\u001b[49m\u001b[38;5;241;43m.\u001b[39;49m\u001b[43mintrospect\u001b[49m\u001b[43m(\u001b[49m\u001b[43m)\u001b[49m  \u001b[38;5;66;03m# therefore, this has no self and will crash\u001b[39;00m\n",
      "\u001b[0;31mTypeError\u001b[0m: IntrospectiveClass.introspect() missing 1 required positional argument: 'self'"
     ]
    }
   ],
   "source": [
    "# here we forgot to use the round brackets! Hence\n",
    "introspective_obj_wrong = IntrospectiveClass\n",
    "\n",
    "introspective_obj_wrong.introspect()  # therefore, this has no self and will crash"
   ]
  },
  {
   "cell_type": "markdown",
   "id": "78ffb0a9",
   "metadata": {
    "slideshow": {
     "slide_type": "subslide"
    }
   },
   "source": [
    "(Practical 0.5.0)"
   ]
  },
  {
   "cell_type": "markdown",
   "id": "5f26e183",
   "metadata": {
    "slideshow": {
     "slide_type": "subslide"
    }
   },
   "source": [
    "### Add custom methods to the class"
   ]
  },
  {
   "cell_type": "markdown",
   "id": "17396148",
   "metadata": {},
   "source": [
    "We can create new custom methods in the class. Those will look mostly just like functions, but they will have always a `self` argument which is implicitely passed (_i.e._, without us specifying it explicitely). \n",
    "\n",
    "Through `self`, methods have always access to the values of the object's attributes:"
   ]
  },
  {
   "cell_type": "code",
   "execution_count": 75,
   "id": "db43d626",
   "metadata": {
    "slideshow": {
     "slide_type": "slide"
    }
   },
   "outputs": [
    {
     "data": {
      "text/plain": [
       "0.625"
      ]
     },
     "execution_count": 75,
     "metadata": {},
     "output_type": "execute_result"
    }
   ],
   "source": [
    "class ReactionTimesAnalyzer:\n",
    "    \"\"\"Class to analyze reaction time data.\n",
    "    \"\"\"\n",
    "    \n",
    "    def __init__(self, rt_data, correct_responses):\n",
    "        \"\"\"Takes a list of reaction times and list of booleans for correct responses\"\"\"\n",
    "        self.rt_data = rt_data\n",
    "        self.correct_responses = correct_responses\n",
    "\n",
    "    def get_average_rt(self):\n",
    "        \"\"\"Calculate and return average reaction time.\"\"\"\n",
    "        return sum(self.rt_data) / len(self.rt_data)\n",
    "    \n",
    "rt_analyzer = ReactionTimesAnalyzer([0.5, 0.2, 0.8, 1], [1, 0, 0, 1])\n",
    "rt_analyzer.get_average_rt()"
   ]
  },
  {
   "cell_type": "markdown",
   "id": "137a4818",
   "metadata": {
    "slideshow": {
     "slide_type": "subslide"
    }
   },
   "source": [
    "Apart from taking self as the first argument, a method is then just a simple function! It can have positional or keyword values, default values, should be annotated in the same way, etc."
   ]
  },
  {
   "cell_type": "code",
   "execution_count": 76,
   "id": "c4cb0f06",
   "metadata": {},
   "outputs": [
    {
     "data": {
      "text/plain": [
       "[0.8, 1]"
      ]
     },
     "execution_count": 76,
     "metadata": {},
     "output_type": "execute_result"
    }
   ],
   "source": [
    "class ReactionTimesAnalyzer:\n",
    "    \"\"\"Class to analyze reaction time data.\n",
    "    \"\"\"\n",
    "    \n",
    "    def __init__(self, rt_data, correct_responses):\n",
    "        \"\"\"Takes a list of reaction times and list of booleans for correct responses\"\"\"\n",
    "        self.rt_data = rt_data\n",
    "        self.correct_responses = correct_responses\n",
    "        self.last_used_threshold = 0.6\n",
    "\n",
    "    def filter_rt_on_threshold(self, threshold=0.6):\n",
    "        \"\"\"Filter out reaction times longer than a threshold.\"\"\"\n",
    "        self.last_used_threshold = threshold \n",
    "        return [rt for rt in self.rt_data if rt > threshold]\n",
    "    \n",
    "rt_analyzer = ReactionTimesAnalyzer([0.5, 0.2, 0.8, 1], [1, 0, 0, 1])\n",
    "rt_analyzer.filter_rt_on_threshold(0.5)"
   ]
  },
  {
   "cell_type": "markdown",
   "id": "91213da0",
   "metadata": {
    "slideshow": {
     "slide_type": "subslide"
    }
   },
   "source": [
    "It can happen that methods set attributes to new values; that is to say, they change _inplace_ the object: "
   ]
  },
  {
   "cell_type": "code",
   "execution_count": 15,
   "id": "f0cb9c24",
   "metadata": {},
   "outputs": [
    {
     "name": "stdout",
     "output_type": "stream",
     "text": [
      "Before method call: [0.4, 0.8]\n",
      "After method call: [0.4, 0.8, 0.6]\n"
     ]
    }
   ],
   "source": [
    "class ReactionTimesAnalyzer:\n",
    "    \"\"\"Class to analyze reaction time data.\n",
    "    \"\"\"\n",
    "    \n",
    "    def __init__(self, reaction_times):\n",
    "        \"\"\"Takes a list of reaction times for further processing.\"\"\"\n",
    "        self.reaction_times = reaction_times\n",
    "\n",
    "    def append_new_trial(self, reaction_time):\n",
    "        \"\"\"Add new reaction times.\"\"\"\n",
    "        self.reaction_times.append(reaction_time)\n",
    "\n",
    "reaction_time_list = [0.4, 0.8]\n",
    "        \n",
    "rt_analyzer = ReactionTimesAnalyzer(reaction_time_list)\n",
    "print(\"Before method call:\", rt_analyzer.reaction_times)\n",
    "rt_analyzer.append_new_trial(0.6)\n",
    "print(\"After method call:\", rt_analyzer.reaction_times)"
   ]
  },
  {
   "cell_type": "code",
   "execution_count": null,
   "id": "5f3a8df4",
   "metadata": {},
   "outputs": [],
   "source": [
    "Practicals 0.5.1"
   ]
  },
  {
   "cell_type": "markdown",
   "id": "ef13e3db",
   "metadata": {},
   "source": [
    "### Properties\n",
    "\n",
    "Properties are special attributes that combine the simplicity of attribute access with the power of method calls. They allow you to:\n",
    "- Access computed values as if they were regular attributes\n",
    "- Add validation when setting values (see Bonus tracks - setters)\n",
    "- Make attributes read-only\n",
    "- Calculate values on-demand rather than storing them\n",
    "\n",
    "Think of properties as \"smart attributes\" that can run code behind the scenes when accessed or modified."
   ]
  },
  {
   "cell_type": "code",
   "execution_count": 7,
   "id": "2c2fc5db",
   "metadata": {},
   "outputs": [
    {
     "name": "stdout",
     "output_type": "stream",
     "text": [
      "Mean RT: 0.440 seconds\n",
      "Mean RT: 0.772 seconds\n"
     ]
    }
   ],
   "source": [
    "class BehavioralExperiment:\n",
    "    def __init__(self, reaction_times):\n",
    "        self.reaction_times = reaction_times.copy()  # what happens if we do not copy?\n",
    "\n",
    "    def append_new_trial_rt(self, reaction_time):\n",
    "        self.reaction_times.append(reaction_time)\n",
    "    \n",
    "    @property\n",
    "    def mean_rt(self):\n",
    "        \"\"\"Compute mean reaction time on-demand.\"\"\"\n",
    "        if len(self.reaction_times) > 0:\n",
    "            return sum(self.reaction_times) / len(self.reaction_times)\n",
    "\n",
    "# Example usage of computed properties\n",
    "exp = BehavioralExperiment(reaction_times=[0.45, 0.52, 0.38, 0.41])\n",
    "print(f\"Mean RT: {exp.mean_rt:.3f} seconds\")  # Computed on-demand\n",
    "exp.append_new_trial_rt(2.1)\n",
    "print(f\"Mean RT: {exp.mean_rt:.3f} seconds\")  # This will update automatically the print"
   ]
  },
  {
   "cell_type": "markdown",
   "id": "e04cb43c",
   "metadata": {},
   "source": [
    "### Protecting attributes with properties\n",
    "\n",
    "An advantage of using properties is that we can protect attributes of a class (i.e., prevent direct and potentially wrong changing of if by donwstream users)\n",
    "\n",
    "For example, in the following code the subject_id attribute can't be changed after object definition:\n",
    "\n"
   ]
  },
  {
   "cell_type": "code",
   "execution_count": 4,
   "id": "bb55e586",
   "metadata": {},
   "outputs": [
    {
     "name": "stdout",
     "output_type": "stream",
     "text": [
      "Subject 1\n"
     ]
    },
    {
     "ename": "AttributeError",
     "evalue": "can't set attribute 'subject_id'",
     "output_type": "error",
     "traceback": [
      "\u001b[0;31m---------------------------------------------------------------------------\u001b[0m",
      "\u001b[0;31mAttributeError\u001b[0m                            Traceback (most recent call last)",
      "Cell \u001b[0;32mIn[4], line 15\u001b[0m\n\u001b[1;32m     13\u001b[0m subject1_data \u001b[38;5;241m=\u001b[39m BehavioralExperiment(\u001b[38;5;124m\"\u001b[39m\u001b[38;5;124mSubject 1\u001b[39m\u001b[38;5;124m\"\u001b[39m, [\u001b[38;5;241m1\u001b[39m,\u001b[38;5;241m2\u001b[39m,\u001b[38;5;241m3\u001b[39m])\n\u001b[1;32m     14\u001b[0m \u001b[38;5;28mprint\u001b[39m(subject1_data\u001b[38;5;241m.\u001b[39msubject_id)\n\u001b[0;32m---> 15\u001b[0m \u001b[43msubject1_data\u001b[49m\u001b[38;5;241;43m.\u001b[39;49m\u001b[43msubject_id\u001b[49m \u001b[38;5;241m=\u001b[39m \u001b[38;5;124m\"\u001b[39m\u001b[38;5;124mMistake name\u001b[39m\u001b[38;5;124m\"\u001b[39m\n",
      "\u001b[0;31mAttributeError\u001b[0m: can't set attribute 'subject_id'"
     ]
    }
   ],
   "source": [
    "class BehavioralExperiment:\n",
    "    def __init__(self, subject_id, reaction_times):\n",
    "        self.reaction_times = reaction_times.copy()  # what happens if we do not copy?\n",
    "        self._subject_id = subject_id\n",
    "\n",
    "    def append_new_trial_rt(self, reaction_time):\n",
    "        self.reaction_times.append(reaction_time)\n",
    "\n",
    "    @property\n",
    "    def subject_id(self):\n",
    "        return self._subject_id\n",
    "    \n",
    "subject1_data = BehavioralExperiment(\"Subject 1\", [1,2,3])\n",
    "print(subject1_data.subject_id)\n",
    "subject1_data.subject_id = \"Mistake name\""
   ]
  },
  {
   "cell_type": "markdown",
   "id": "1c4b21ac",
   "metadata": {},
   "source": [
    "### Keeping class business private"
   ]
  },
  {
   "cell_type": "markdown",
   "id": "81e89c50",
   "metadata": {},
   "source": [
    "There is a convention for classes to define attributes and methods that are only accessed internally with a leading `_`. This is just a convention, and will not change the behavior of such attributes and methods!"
   ]
  },
  {
   "cell_type": "code",
   "execution_count": 6,
   "id": "7645aec1",
   "metadata": {},
   "outputs": [],
   "source": [
    "# Trom the  the previous example, we could bypass property setting in this way:\n",
    "\n",
    "subject1_data._subject_id = \"Mistake name\"  # this would work but you're not supposed to use ._named attributes"
   ]
  },
  {
   "cell_type": "markdown",
   "id": "a6f8de96",
   "metadata": {},
   "source": [
    "With this syntax, you know that if you are accessing that value from the outside you are using the class out of the intended ways."
   ]
  },
  {
   "cell_type": "markdown",
   "id": "3be0516a",
   "metadata": {
    "slideshow": {
     "slide_type": "subslide"
    }
   },
   "source": [
    "(Practical 0.5.2)"
   ]
  },
  {
   "cell_type": "markdown",
   "id": "ac285552",
   "metadata": {},
   "source": [
    "## [Bonus tracks]\n",
    "\n",
    "We have just scratched the surface!\n",
    "\n",
    "If you want to venture deeper in the realm of classes by yourself, below you find a compilation of more interesting things to be known about classes.\n",
    "\n",
    "If you are reading those, feel free to ask questions any time even if we have not covered those topics in class!"
   ]
  },
  {
   "cell_type": "markdown",
   "id": "af8036cd",
   "metadata": {},
   "source": [
    "### The property `setter`\n",
    "\n",
    "We can also define ways in which the object can try to set the value of a property (the so-called setter). In this way, we can implement some checks on the values we are setting, or update multiple attributes at once when one new value is set.\n"
   ]
  },
  {
   "cell_type": "code",
   "execution_count": 1,
   "id": "27f01f80",
   "metadata": {},
   "outputs": [],
   "source": [
    "class Student:\n",
    "    def __init__(self, name, age):\n",
    "        self.name = name\n",
    "        self._age = age  # underscore indicates it's meant to be protected/private.\n",
    "\n",
    "    @property\n",
    "    def age(self):\n",
    "        \"\"\"Property getter for age.\"\"\"\n",
    "        return self._age\n",
    "\n",
    "    @age.setter\n",
    "    def age(self, value):\n",
    "        \"\"\"Property setter for age with validation.\"\"\"\n",
    "        if value < 0:\n",
    "            raise ValueError(\"Age cannot be negative.\")\n",
    "        self._age = value"
   ]
  },
  {
   "cell_type": "code",
   "execution_count": 3,
   "id": "1a7cbb47",
   "metadata": {},
   "outputs": [
    {
     "name": "stdout",
     "output_type": "stream",
     "text": [
      "20\n",
      "21\n"
     ]
    },
    {
     "ename": "ValueError",
     "evalue": "Age cannot be negative.",
     "output_type": "error",
     "traceback": [
      "\u001b[0;31m---------------------------------------------------------------------------\u001b[0m",
      "\u001b[0;31mValueError\u001b[0m                                Traceback (most recent call last)",
      "Cell \u001b[0;32mIn[3], line 10\u001b[0m\n\u001b[1;32m      7\u001b[0m \u001b[38;5;28mprint\u001b[39m(student\u001b[38;5;241m.\u001b[39mage)\n\u001b[1;32m      9\u001b[0m \u001b[38;5;66;03m# This will raise an error because the age is negative\u001b[39;00m\n\u001b[0;32m---> 10\u001b[0m \u001b[43mstudent\u001b[49m\u001b[38;5;241;43m.\u001b[39;49m\u001b[43mage\u001b[49m \u001b[38;5;241m=\u001b[39m \u001b[38;5;241m-\u001b[39m\u001b[38;5;241m1\u001b[39m\n",
      "Cell \u001b[0;32mIn[1], line 15\u001b[0m, in \u001b[0;36mStudent.age\u001b[0;34m(self, value)\u001b[0m\n\u001b[1;32m     13\u001b[0m \u001b[38;5;250m\u001b[39m\u001b[38;5;124;03m\"\"\"Property setter for age with validation.\"\"\"\u001b[39;00m\n\u001b[1;32m     14\u001b[0m \u001b[38;5;28;01mif\u001b[39;00m value \u001b[38;5;241m<\u001b[39m \u001b[38;5;241m0\u001b[39m:\n\u001b[0;32m---> 15\u001b[0m     \u001b[38;5;28;01mraise\u001b[39;00m \u001b[38;5;167;01mValueError\u001b[39;00m(\u001b[38;5;124m\"\u001b[39m\u001b[38;5;124mAge cannot be negative.\u001b[39m\u001b[38;5;124m\"\u001b[39m)\n\u001b[1;32m     16\u001b[0m \u001b[38;5;28mself\u001b[39m\u001b[38;5;241m.\u001b[39m_age \u001b[38;5;241m=\u001b[39m value\n",
      "\u001b[0;31mValueError\u001b[0m: Age cannot be negative."
     ]
    }
   ],
   "source": [
    "# Example of using the class\n",
    "student = Student(\"Alex\", 20)\n",
    "\n",
    "print(student.age)  # Accessing age using the property\n",
    "\n",
    "student.age = 21  # Setting a new age using the property setter with validation\n",
    "print(student.age)\n",
    "\n",
    "# This will raise an error because the age is negative\n",
    "student.age = -1"
   ]
  },
  {
   "cell_type": "markdown",
   "id": "ac592a04",
   "metadata": {
    "slideshow": {
     "slide_type": "subslide"
    }
   },
   "source": [
    "### Why all those underscores?"
   ]
  },
  {
   "cell_type": "markdown",
   "id": "194581d7",
   "metadata": {},
   "source": [
    "The `__xxxxx__()` name of a method that we encountered in `__init__()` distinguishes it graphically as a <span style=\"color:indianred\">default method</span>.\n",
    "\n",
    "Usually the methods with the underscores are funny methods that are called without you writing their name explicitely! (as we saw above). \n",
    "\n",
    "**They give us powerful ways to control the behavior our objects!** [see below]"
   ]
  },
  {
   "cell_type": "markdown",
   "id": "51b4cfbb",
   "metadata": {
    "slideshow": {
     "slide_type": "subslide"
    }
   },
   "source": [
    "Other examples:\n",
    " - `__repr__()` and `__str__()` change how an object is shown/printed:"
   ]
  },
  {
   "cell_type": "code",
   "execution_count": null,
   "id": "55d916b0",
   "metadata": {},
   "outputs": [],
   "source": [
    "class Student:\n",
    "    def __init__(self, name, age, enrollment=\"CIMeC PhD\"):\n",
    "        # print(\"I'm creating a student object\")\n",
    "        self.name = name\n",
    "        self.enrollment = enrollment\n",
    "        self.age = age\n",
    "\n",
    "student_with_defaults = Student(\"Peppa\", 27)"
   ]
  },
  {
   "cell_type": "markdown",
   "id": "33e654da",
   "metadata": {},
   "source": [
    "- `__eq__(self, other)` changes how the object is compared with another object:"
   ]
  },
  {
   "cell_type": "code",
   "execution_count": 47,
   "id": "1178a548",
   "metadata": {},
   "outputs": [
    {
     "data": {
      "text/plain": [
       "True"
      ]
     },
     "execution_count": 47,
     "metadata": {},
     "output_type": "execute_result"
    }
   ],
   "source": [
    "class ShopList:\n",
    "    def __init__(self, items):\n",
    "        self.items = items\n",
    "\n",
    "    def __eq__(self, other_element_in_the_comparison):\n",
    "        \"\"\"Make sure that when comparing self with other items\n",
    "        we compare them as set. But first we check if the other obj\n",
    "        is a member of the same class: \"\"\"\n",
    "        assert isinstance(other_element_in_the_comparison, ShopList)\n",
    "        return set(self.items) == set(other_element_in_the_comparison.items)\n",
    "\n",
    "\n",
    "a_shop_list = ShopList([\"bread\", \"salt\"])\n",
    "another_shop_list = ShopList([\"salt\", \"bread\"])\n",
    "a_third_shop_list = ShopList([\"salt\", \"bread\", \"coffee\"])\n",
    "\n",
    "a_shop_list == another_shop_list"
   ]
  },
  {
   "cell_type": "code",
   "execution_count": 48,
   "id": "4adad2fc",
   "metadata": {},
   "outputs": [
    {
     "data": {
      "text/plain": [
       "False"
      ]
     },
     "execution_count": 48,
     "metadata": {},
     "output_type": "execute_result"
    }
   ],
   "source": [
    "a_shop_list == a_third_shop_list"
   ]
  },
  {
   "cell_type": "markdown",
   "id": "50543a21",
   "metadata": {},
   "source": [
    "- `__getitem__(self, item)` allow us to index the object with square brackets, making it <span style=\"color:indianred\">subscriptable</span> (as lists are!). This can be a super powerful option to implement! \n",
    "\n",
    "It enables all the data analysis libraries we will explore in the next lectures."
   ]
  },
  {
   "cell_type": "code",
   "execution_count": 73,
   "id": "96f192a5",
   "metadata": {},
   "outputs": [
    {
     "name": "stdout",
     "output_type": "stream",
     "text": [
      "bread\n"
     ]
    }
   ],
   "source": [
    "# As an example, we can make a new list-like class that \n",
    "# can be indexed starting from 1 instead of 0!\n",
    "# (the fact that we can does not mean that we should...)\n",
    "\n",
    "class MATLABList:\n",
    "    def __init__(self, items):\n",
    "        self.items = items\n",
    "\n",
    "    def __getitem__(self, item_idx):\n",
    "        assert item_idx > 0, \"Indexing in MATLABList starts from 1!\"\n",
    "        return self.items[item_idx - 1]\n",
    "\n",
    "\n",
    "shop_list = MATLABList([\"bread\", \"salt\"])\n",
    "print(shop_list[1])\n"
   ]
  },
  {
   "cell_type": "markdown",
   "id": "8516a064",
   "metadata": {},
   "source": [
    "Working with those special methods can be very powerful! There is almost nothing in core Python that we cannot use/emulate/modify in the behavior of our new classes!"
   ]
  },
  {
   "cell_type": "markdown",
   "id": "122e2972",
   "metadata": {},
   "source": [
    "## Inheritance"
   ]
  },
  {
   "cell_type": "markdown",
   "id": "3a5991df",
   "metadata": {},
   "source": [
    "An important feature of objects is the concept of <span style=\"color:indianred\">inheritance</span>"
   ]
  },
  {
   "cell_type": "markdown",
   "id": "eeeae2c0",
   "metadata": {},
   "source": [
    "After we have defined a general class, we can build on it in <span style=\"color:indianred\">children classes</span> or <span style=\"color:indianred\">subclasses</span> to define subtypologies of that entity "
   ]
  },
  {
   "cell_type": "markdown",
   "id": "aab1ca77",
   "metadata": {},
   "source": [
    "An example:"
   ]
  },
  {
   "cell_type": "markdown",
   "id": "2cfcfca5",
   "metadata": {},
   "source": [
    "### `super()` methods\n",
    "Alternatively, we can keep the operations in the parent methods and mix them with some new functionality. To invoke the methods of the parent class we use the `super()` syntax:"
   ]
  },
  {
   "cell_type": "code",
   "execution_count": 68,
   "id": "e4c54067",
   "metadata": {},
   "outputs": [
    {
     "name": "stdout",
     "output_type": "stream",
     "text": [
      "My name is Bob and I am 15 years old.\n"
     ]
    }
   ],
   "source": [
    "class Person:\n",
    "    def __init__(self, name, age):\n",
    "        self.name = name\n",
    "        self.age = age\n",
    "\n",
    "    def introduce(self):\n",
    "        print(f\"My name is {self.name} and I am {self.age} years old.\")\n",
    "\n",
    "\n",
    "a_person = Person(\"Bob\", 15)\n",
    "a_person.introduce()"
   ]
  },
  {
   "cell_type": "code",
   "execution_count": 78,
   "id": "a2a043d4",
   "metadata": {},
   "outputs": [],
   "source": [
    "# When we subclass, we inherit everything that was defined in the parent class.\n",
    "# To call methods of the parent class, we can write `super().method_name`\n",
    "\n",
    "class Student(Person):\n",
    "    def __init__(self, name, age, student_id):\n",
    "        super().__init__(name, age)  # this calls the init of the parent class\n",
    "        self.student_id = student_id\n",
    "\n",
    "    def introduce(self):\n",
    "        # This method overrides the introduce method in the Person class\n",
    "        # return f\"My name is {self.name}, and my student ID is {self.student_id}.\"\n",
    "        super().introduce()\n",
    "        print(f\"My student ID is {self.student_id}.\")\n"
   ]
  },
  {
   "cell_type": "code",
   "execution_count": 79,
   "id": "5d43bb24",
   "metadata": {},
   "outputs": [
    {
     "name": "stdout",
     "output_type": "stream",
     "text": [
      "My name is Bob and I am 15 years old.\n",
      "My student ID is 128654.\n"
     ]
    }
   ],
   "source": [
    "# This will have all the attributes and methods of the parent:\n",
    "\n",
    "a_student = Student(\"Bob\", 15, student_id=\"128654\")\n",
    "a_student.introduce()  # greetings() was implemented only at the parent class\n",
    "\n"
   ]
  },
  {
   "cell_type": "markdown",
   "id": "693426d9",
   "metadata": {},
   "source": [
    "### The `*args` `**kwargs` syntax"
   ]
  },
  {
   "cell_type": "markdown",
   "id": "437352a2",
   "metadata": {},
   "source": [
    "    ⚠️ Confusion legit here! ⚠️\n",
    "    \n",
    "With the `*args`, `**kwargs` trick we can pass to the parent class method all the arguments passed to the `__init__()` method by position or by keyword without having to specify them."
   ]
  },
  {
   "cell_type": "markdown",
   "id": "ed9ae6f5",
   "metadata": {},
   "source": [
    "Brace yourself! Expect non-trivial behavior if you venture into this syntax usage! "
   ]
  },
  {
   "cell_type": "markdown",
   "id": "a53d88d4",
   "metadata": {},
   "source": [
    "The `*args` trick works as a \"catch-all\" placeholder that gets all positional arguments that are not explicitely defined in a single tuple:"
   ]
  },
  {
   "cell_type": "code",
   "execution_count": null,
   "id": "f05dc360",
   "metadata": {},
   "outputs": [],
   "source": [
    "def arbitrary_inputs_function(first_argument, *args):\n",
    "    print(f\"Captured argument: {first_argument}\")\n",
    "    print(type(args), args)\n",
    "\n",
    "\n",
    "arbitrary_inputs_function(1, 2, 3)"
   ]
  },
  {
   "cell_type": "markdown",
   "id": "333c480c",
   "metadata": {},
   "source": [
    "The `**kwargs` works in the same way: a \"catch-all\" placeholder that gets all keyword arguments in a single dictionary:"
   ]
  },
  {
   "cell_type": "code",
   "execution_count": null,
   "id": "453266c6",
   "metadata": {},
   "outputs": [],
   "source": [
    "def arbitrary_inputs_function(first_argument, *args, **kwargs):\n",
    "    print(f\"Captured argument: {first_argument}\")\n",
    "    print(f\"args ({type(args)}): {args}\")\n",
    "    print(f\"kwargs ({type(kwargs)}): {kwargs}\")\n",
    "\n",
    "\n",
    "arbitrary_inputs_function(1, 2, 3, random_kwarg=5)"
   ]
  },
  {
   "cell_type": "markdown",
   "id": "5a6fe03a",
   "metadata": {},
   "source": [
    "Using them in a class:"
   ]
  },
  {
   "cell_type": "code",
   "execution_count": null,
   "id": "8f4fa070",
   "metadata": {},
   "outputs": [],
   "source": [
    "class Horse(Animal):  # Subclass Animal\n",
    "    def __init__(self, *args, color=\"black\"):\n",
    "        super().__init__(*args)\n",
    "\n",
    "        self.color = color\n",
    "\n",
    "    def greetings(self):\n",
    "        print(self.color, \"name\", self.name)\n",
    "\n",
    "\n",
    "h = Horse(\"bob\", color=\"white\")\n",
    "h.greetings()"
   ]
  },
  {
   "cell_type": "markdown",
   "id": "b0bfc7d2",
   "metadata": {},
   "source": [
    "### Class attributes"
   ]
  },
  {
   "cell_type": "markdown",
   "id": "9d537111",
   "metadata": {},
   "source": [
    "We can specify attributes at the level of the class - _i.e._ out of the init, and without referencing the self"
   ]
  },
  {
   "cell_type": "code",
   "execution_count": null,
   "id": "0bc75f03",
   "metadata": {},
   "outputs": [],
   "source": [
    "class ClassWithClassAttributes:\n",
    "    class_attribute = []\n",
    "\n",
    "    def __init__(self):\n",
    "        self.object_attribute = []\n",
    "\n",
    "\n",
    "an_obj = ClassWithClassAttributes()\n",
    "another_obj = ClassWithClassAttributes()\n",
    "\n",
    "another_obj.object_attribute.append(1)  # this will modify only the object\n",
    "\n",
    "print(\n",
    "    f\"Object attributes after changing one: {an_obj.object_attribute}, {another_obj.object_attribute} \"\n",
    ")\n",
    "\n",
    "another_obj.class_attribute.append(\n",
    "    1\n",
    ")  # this will modify the list in all instances of the class\n",
    "print(\n",
    "    f\"Class attributes after changing one: {an_obj.class_attribute},  {another_obj.class_attribute}\"\n",
    ")"
   ]
  },
  {
   "cell_type": "markdown",
   "id": "a10e21c9",
   "metadata": {},
   "source": [
    "### Enforcing privacy"
   ]
  },
  {
   "cell_type": "markdown",
   "id": "c3aac319",
   "metadata": {},
   "source": [
    "If you want something to be really not reachable from the outside, you can use double leading `__` (called dunder)."
   ]
  },
  {
   "cell_type": "code",
   "execution_count": null,
   "id": "3d6d6333",
   "metadata": {},
   "outputs": [],
   "source": [
    "class TestUnderscores:\n",
    "    def __init__(self):\n",
    "        self.__private_var = 0\n",
    "\n",
    "    def update_private_var(self):\n",
    "        # this is called from inside the function so it is fine!\n",
    "        self.__private_var = 1\n",
    "\n",
    "\n",
    "TestUnderscores().update_private_var()"
   ]
  },
  {
   "cell_type": "markdown",
   "id": "4fbcfd62",
   "metadata": {},
   "source": [
    "But, this is not really private! Python is just hiding it from us...If we use the dir() function we can se what is happening!"
   ]
  },
  {
   "cell_type": "code",
   "execution_count": null,
   "id": "a05f797d",
   "metadata": {},
   "outputs": [],
   "source": [
    "dir(TestUnderscores())"
   ]
  },
  {
   "cell_type": "markdown",
   "id": "22c2803f",
   "metadata": {},
   "source": [
    "## Properties"
   ]
  },
  {
   "cell_type": "markdown",
   "id": "b29621b2",
   "metadata": {},
   "source": [
    "Properties are methods pretending to be attributes. In long, properties are accessed as attributes (`object.property_name` instead of `object.property_name()`).  But, asking for their value prompt the object to run a method to determine it.\n",
    "\n",
    "This is the syntax to define properties (`@property` is a decorator. Not going into that other rabbit hole here):"
   ]
  },
  {
   "cell_type": "code",
   "execution_count": 80,
   "id": "9e6e4dd7",
   "metadata": {},
   "outputs": [
    {
     "name": "stdout",
     "output_type": "stream",
     "text": [
      "I am computing the area\n"
     ]
    },
    {
     "data": {
      "text/plain": [
       "3.141592"
      ]
     },
     "execution_count": 80,
     "metadata": {},
     "output_type": "execute_result"
    }
   ],
   "source": [
    "class Circle:\n",
    "    def __init__(self, radius):\n",
    "        self.radius = radius  # Public attribute\n",
    "\n",
    "    @property\n",
    "    def area(self):\n",
    "        \"\"\"Compute the area of the circle dynamically.\"\"\"\n",
    "        print(\"I am computing the area\")\n",
    "        return 3.141592 * self.radius ** 2\n",
    "    \n",
    "a_circle = Circle(radius=1)\n",
    "a_circle.area  # this looks like an attribute but it is calling the @property method!"
   ]
  },
  {
   "cell_type": "markdown",
   "id": "811b533a",
   "metadata": {},
   "source": [
    "### Functions as objects"
   ]
  },
  {
   "cell_type": "markdown",
   "id": "e8db7caf",
   "metadata": {},
   "source": [
    "We can also define ways in which the object can try to set the value of a property (the so-called setter). In this way, we can implement some checks on the values we are setting, or update multiple attributes at once when one new value is set."
   ]
  },
  {
   "cell_type": "code",
   "execution_count": null,
   "id": "b57e0c74",
   "metadata": {},
   "outputs": [],
   "source": [
    "class Student:\n",
    "    def __init__(self, name, age):\n",
    "        self.name = name\n",
    "        self._age = age  # underscore indicates it's meant to be protected/private.\n",
    "\n",
    "    @property\n",
    "    def age(self):\n",
    "        \"\"\"Property getter for age.\"\"\"\n",
    "        return self._age\n",
    "\n",
    "    @age.setter\n",
    "    def age(self, value):\n",
    "        \"\"\"Property setter for age with validation.\"\"\"\n",
    "        if value < 0:\n",
    "            raise ValueError(\"Age cannot be negative.\")\n",
    "        self._age = value"
   ]
  },
  {
   "cell_type": "code",
   "execution_count": null,
   "id": "8e8636e3",
   "metadata": {},
   "outputs": [],
   "source": [
    "# Example of using the class\n",
    "student = Student(\"Alex\", 20)\n",
    "\n",
    "print(student.age)  # Accessing age using the property\n",
    "\n",
    "student.age = 21  # Setting a new age using the property setter with validation\n",
    "print(student.age)\n",
    "\n",
    "# This will raise an error because the age is negative\n",
    "try:\n",
    "    student.age = -1"
   ]
  },
  {
   "cell_type": "code",
   "execution_count": null,
   "id": "8ea09cb2",
   "metadata": {},
   "outputs": [
    {
     "data": {
      "text/plain": [
       "'get_product'"
      ]
     },
     "metadata": {},
     "output_type": "display_data"
    }
   ],
   "source": [
    "def get_product(a, b=1):\n",
    "    return a * b\n",
    "\n",
    "def get_power(a, b):\n",
    "    return a ** b\n",
    "\n",
    "# Even those functions as objects (so, as variables!)\n",
    "# For example, they have an attribute keeping track of their name:\n",
    "get_product.__name__\n"
   ]
  },
  {
   "cell_type": "code",
   "execution_count": null,
   "id": "92347eae",
   "metadata": {},
   "outputs": [
    {
     "data": {
      "text/plain": [
       "6"
      ]
     },
     "metadata": {},
     "output_type": "display_data"
    }
   ],
   "source": [
    "# I can treat functions as variables!\n",
    "# For example, I can create a functions dictionary:\n",
    "func_dict = {\"product\": get_product,\n",
    "              \"power\": get_power}\n",
    "\n",
    "choosen_function = func_dict[\"product\"]\n",
    "choosen_function(3, 2)"
   ]
  },
  {
   "cell_type": "code",
   "execution_count": null,
   "id": "41ba692e",
   "metadata": {},
   "outputs": [
    {
     "data": {
      "text/plain": [
       "'get_product'"
      ]
     },
     "metadata": {},
     "output_type": "display_data"
    }
   ],
   "source": [
    "# Quiz: what will this print?\n",
    "choosen_function.__name__"
   ]
  },
  {
   "cell_type": "markdown",
   "id": "ea499818",
   "metadata": {},
   "source": [
    "(Practicals bonus tracks)"
   ]
  },
  {
   "cell_type": "code",
   "execution_count": null,
   "id": "a02a99c7",
   "metadata": {},
   "outputs": [],
   "source": []
  }
 ],
 "metadata": {
  "celltoolbar": "Slideshow",
  "kernelspec": {
   "display_name": "course-env",
   "language": "python",
   "name": "python3"
  },
  "language_info": {
   "codemirror_mode": {
    "name": "ipython",
    "version": 3
   },
   "file_extension": ".py",
   "mimetype": "text/x-python",
   "name": "python",
   "nbconvert_exporter": "python",
   "pygments_lexer": "ipython3",
   "version": "3.10.13"
  }
 },
 "nbformat": 4,
 "nbformat_minor": 5
}
