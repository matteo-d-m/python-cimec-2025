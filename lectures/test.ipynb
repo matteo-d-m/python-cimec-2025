{
 "cells": [
  {
   "cell_type": "markdown",
   "id": "142c8979",
   "metadata": {
    "slideshow": {
     "slide_type": "subslide"
    }
   },
   "source": [
    "# Python for (open) Neuroscience\n",
    "\n",
    "_Lecture 0.4_ - Object-Oriented Programming for Scientific Computing\n",
    "\n",
    "[![Open In Colab](https://colab.research.google.com/assets/colab-badge.svg)](https://colab.research.google.com/github/vigji/python-cimec-2025/blob/main/lectures/Lecture0.4_alternative.ipynb)"
   ]
  },
  {
   "cell_type": "markdown",
   "id": "ef091a6d",
   "metadata": {
    "slideshow": {
     "slide_type": "subslide"
    }
   },
   "source": [
    "## Learning Objectives\n",
    "\n",
    "By the end of this lecture, you will be able to:\n",
    "1. Explain the core concepts of object-oriented programming (OOP)\n",
    "2. Design and implement Python classes with appropriate attributes and methods\n",
    "3. Apply encapsulation principles to protect data integrity\n",
    "4. Utilize inheritance to create specialized classes\n",
    "5. Implement polymorphism through method overriding\n",
    "6. Recognize when OOP is appropriate for scientific computing tasks"
   ]
  },
  {
   "cell_type": "markdown",
   "id": "problem-solving",
   "metadata": {
    "slideshow": {
     "slide_type": "subslide"
    }
   },
   "source": [
    "## Why Object-Oriented Programming?\n",
    "\n",
    "In scientific computing and neuroscience, we often work with complex data structures that have both:\n",
    "- **Properties** (data values like experimental parameters, recording metadata)\n",
    "- **Operations** (calculations, transformations, visualizations)\n",
    "\n",
    "OOP allows us to bundle related data and operations together in a logical way.\n",
    "\n",
    "### When to use OOP:\n",
    "- When modeling real-world entities (experiments, participants, recording devices)\n",
    "- When managing complex data with associated behaviors\n",
    "- When code organization and reuse are priorities\n",
    "- When implementing specialized data structures\n",
    "\n",
    "### When NOT to use OOP:\n",
    "- For simple numerical calculations\n",
    "- For one-off scripts\n",
    "- When functional approaches would be clearer\n",
    "- When performance is the absolute priority (sometimes)"
   ]
  },
  {
   "cell_type": "markdown",
   "id": "7220db85",
   "metadata": {
    "slideshow": {
     "slide_type": "subslide"
    }
   },
   "source": [
    "## Class vs Object: A Concrete Analogy\n",
    "\n",
    "<div style=\"display: block; margin-left: auto; margin-right: auto; width: 70%;\">\n",
    "  <img src=\"https://raw.githubusercontent.com/vigji/python-cimec-2025/main/lectures/files/class_structure.jpeg\" width=\"500\" height=\"auto\" />\n",
    "</div>\n",
    "\n",
    "- A **class** is like a blueprint for a building\n",
    "- An **object** is like an actual building constructed from that blueprint\n",
    "- **Attributes** are the building's features (windows, doors, color)\n",
    "- **Methods** are the things you can do with the building (enter, exit, renovate)"
   ]
  },
  {
   "cell_type": "markdown",
   "id": "5568f623",
   "metadata": {
    "slideshow": {
     "slide_type": "subslide"
    }
   },
   "source": [
    "## Core Concepts of OOP\n",
    "\n",
    "1. **Encapsulation**: Bundling data and methods that work on that data within a single unit (class)\n",
    "2. **Abstraction**: Exposing only what's necessary while hiding implementation details\n",
    "3. **Inheritance**: Creating new classes that inherit attributes and methods from existing classes\n",
    "4. **Polymorphism**: Using a single interface to represent different underlying forms\n",
    "\n",
    "These principles help create code that is:\n",
    "- Organized\n",
    "- Reusable\n",
    "- Maintainable\n",
    "- Extensible"
   ]
  },
  {
   "cell_type": "markdown",
   "id": "scientific-example",
   "metadata": {
    "slideshow": {
     "slide_type": "subslide"
    }
   },
   "source": [
    "## Basic Class Structure in Python\n",
    "\n",
    "Let's start with a simple example that might be relevant to neuroscience research:"
   ]
  },
  {
   "cell_type": "code",
   "execution_count": 1,
   "id": "basic-class",
   "metadata": {},
   "outputs": [],
   "source": [
    "class NeuronRecording:\n",
    "    \"\"\"A class to represent a single neuron recording session.\n",
    "    \n",
    "    This class stores metadata about a recording session and provides\n",
    "    methods to analyze the data.\n",
    "    \"\"\"\n",
    "    \n",
    "    def __init__(self, cell_id, recording_date, sampling_rate_hz):\n",
    "        \"\"\"Initialize a new NeuronRecording object.\n",
    "        \n",
    "        Parameters\n",
    "        ----------\n",
    "        cell_id : str\n",
    "            Unique identifier for the recorded cell\n",
    "        recording_date : str\n",
    "            Date of recording in YYYY-MM-DD format\n",
    "        sampling_rate_hz : float\n",
    "            Sampling rate in Hertz\n",
    "        \"\"\"\n",
    "        self.cell_id = cell_id\n",
    "        self.recording_date = recording_date\n",
    "        self.sampling_rate_hz = sampling_rate_hz\n",
    "        self.spike_times = []  # Will store spike times in seconds\n",
    "        \n",
    "    def add_spike_times(self, spike_times):\n",
    "        \"\"\"Add spike times to the recording.\n",
    "        \n",
    "        Parameters\n",
    "        ----------\n",
    "        spike_times : list\n",
    "            List of spike times in seconds\n",
    "        \"\"\"\n",
    "        self.spike_times.extend(spike_times)\n",
    "        # Sort times to ensure chronological order\n",
    "        self.spike_times.sort()\n",
    "        \n",
    "    def get_firing_rate(self, window_start=0, window_end=None):\n",
    "        \"\"\"Calculate firing rate within a specified time window.\n",
    "        \n",
    "        Parameters\n",
    "        ----------\n",
    "        window_start : float, optional\n",
    "            Start time for calculation window in seconds (default: 0)\n",
    "        window_end : float, optional\n",
    "            End time for calculation window in seconds (default: max spike time)\n",
    "            \n",
    "        Returns\n",
    "        -------\n",
    "        float\n",
    "            Firing rate in Hz\n",
    "        \"\"\"\n",
    "        if not self.spike_times:\n",
    "            return 0.0\n",
    "            \n",
    "        if window_end is None:\n",
    "            window_end = max(self.spike_times)\n",
    "            \n",
    "        # Count spikes within the window\n",
    "        spikes_in_window = [t for t in self.spike_times \n",
    "                           if window_start <= t <= window_end]\n",
    "        \n",
    "        duration = window_end - window_start\n",
    "        if duration <= 0:\n",
    "            raise ValueError(\"Window duration must be positive\")\n",
    "            \n",
    "        return len(spikes_in_window) / duration"
   ]
  },
  {
   "cell_type": "markdown",
   "id": "class-anatomy",
   "metadata": {
    "slideshow": {
     "slide_type": "subslide"
    }
   },
   "source": [
    "## Class Anatomy\n",
    "\n",
    "Let's break down the components of our `NeuronRecording` class:\n",
    "\n",
    "1. **Class Definition**: `class NeuronRecording:` - Defines the class name\n",
    "2. **Docstring**: Describes what the class represents and its purpose\n",
    "3. **Initializer** (`__init__`): A special method called when creating a new object\n",
    "4. **Attributes**: Data stored in the object (e.g., `self.cell_id`, `self.spike_times`)\n",
    "5. **Methods**: Functions bound to the class that operate on its data\n",
    "\n",
    "The `self` parameter refers to the instance of the class and allows methods to access and modify the object's attributes."
   ]
  },
  {
   "cell_type": "markdown",
   "id": "class-usage",
   "metadata": {
    "slideshow": {
     "slide_type": "subslide"
    }
   },
   "source": [
    "## Creating and Using Objects\n",
    "\n",
    "Now let's create some objects (instances) of our class and use them:"
   ]
  },
  {
   "cell_type": "code",
   "execution_count": 2,
   "id": "create-objects",
   "metadata": {},
   "outputs": [
    {
     "name": "stdout",
     "output_type": "stream",
     "text": [
      "Cell ID: neuron_123\n",
      "Recording Date: 2023-05-15\n",
      "Sampling Rate: 10000.0 Hz\n",
      "\n",
      "Spike times: [0.1, 0.15, 0.35, 0.5, 0.65, 0.8, 0.95]\n",
      "Firing rate: 7.0 Hz\n",
      "Firing rate (first half): 8.0 Hz\n",
      "Firing rate (second half): 6.0 Hz\n"
     ]
    }
   ],
   "source": [
    "# Create a new neuron recording object\n",
    "neuron1 = NeuronRecording(cell_id=\"neuron_123\", \n",
    "                          recording_date=\"2023-05-15\", \n",
    "                          sampling_rate_hz=10000.0)\n",
    "\n",
    "# Access attributes\n",
    "print(f\"Cell ID: {neuron1.cell_id}\")\n",
    "print(f\"Recording Date: {neuron1.recording_date}\")\n",
    "print(f\"Sampling Rate: {neuron1.sampling_rate_hz} Hz\")\n",
    "print()\n",
    "\n",
    "# Add data and use methods\n",
    "neuron1.add_spike_times([0.15, 0.5, 0.8, 0.35, 0.65, 0.95, 0.1])\n",
    "print(f\"Spike times: {neuron1.spike_times}\")\n",
    "print(f\"Firing rate: {neuron1.get_firing_rate():.1f} Hz\")\n",
    "\n",
    "# Calculate firing rates for different time windows\n",
    "first_half_rate = neuron1.get_firing_rate(0, 0.5)\n",
    "second_half_rate = neuron1.get_firing_rate(0.5, 1.0)\n",
    "print(f\"Firing rate (first half): {first_half_rate:.1f} Hz\")\n",
    "print(f\"Firing rate (second half): {second_half_rate:.1f} Hz\")"
   ]
  },
  {
   "cell_type": "markdown",
   "id": "multiple-objects",
   "metadata": {
    "slideshow": {
     "slide_type": "subslide"
    }
   },
   "source": [
    "## Multiple Objects from the Same Class\n",
    "\n",
    "We can create multiple objects from the same class, each with its own set of attributes:"
   ]
  },
  {
   "cell_type": "code",
   "execution_count": 3,
   "id": "create-multiple",
   "metadata": {},
   "outputs": [
    {
     "name": "stdout",
     "output_type": "stream",
     "text": [
      "Neuron 1 firing rate: 7.0 Hz\n",
      "Neuron 2 firing rate: 15.0 Hz\n"
     ]
    }
   ],
   "source": [
    "# Create a second neuron recording\n",
    "neuron2 = NeuronRecording(cell_id=\"neuron_456\", \n",
    "                          recording_date=\"2023-05-16\", \n",
    "                          sampling_rate_hz=20000.0)\n",
    "\n",
    "# Add different spike times\n",
    "neuron2.add_spike_times([0.05, 0.12, 0.18, 0.25, 0.32, 0.38, 0.45, 0.52, 0.58, 0.65, \n",
    "                         0.72, 0.78, 0.85, 0.92, 0.98])\n",
    "\n",
    "# Compare firing rates\n",
    "print(f\"Neuron 1 firing rate: {neuron1.get_firing_rate():.1f} Hz\")\n",
    "print(f\"Neuron 2 firing rate: {neuron2.get_firing_rate():.1f} Hz\")"
   ]
  },
  {
   "cell_type": "markdown",
   "id": "encapsulation",
   "metadata": {
    "slideshow": {
     "slide_type": "subslide"
    }
   },
   "source": [
    "## Encapsulation and Data Protection\n",
    "\n",
    "Currently, we can access and modify our object's attributes directly, which can lead to errors if values are changed inappropriately. Let's improve our class with proper encapsulation:"
   ]
  },
  {
   "cell_type": "code",
   "execution_count": 4,
   "id": "better-encapsulation",
   "metadata": {},
   "outputs": [],
   "source": [
    "class ImprovedNeuronRecording:\n",
    "    \"\"\"An improved neuron recording class with data validation and protection.\"\"\"\n",
    "    \n",
    "    def __init__(self, cell_id, recording_date, sampling_rate_hz):\n",
    "        # Use name mangling with double underscore for \"private\" attributes\n",
    "        self.__cell_id = cell_id\n",
    "        self.__recording_date = recording_date\n",
    "        \n",
    "        # Validate sampling rate\n",
    "        if sampling_rate_hz <= 0:\n",
    "            raise ValueError(\"Sampling rate must be positive\")\n",
    "        self.__sampling_rate_hz = sampling_rate_hz\n",
    "        \n",
    "        self.__spike_times = []\n",
    "    \n",
    "    # Properties for controlled access to attributes\n",
    "    @property\n",
    "    def cell_id(self):\n",
    "        \"\"\"Get the cell identifier.\"\"\"\n",
    "        return self.__cell_id\n",
    "    \n",
    "    @property\n",
    "    def recording_date(self):\n",
    "        \"\"\"Get the recording date.\"\"\"\n",
    "        return self.__recording_date\n",
    "    \n",
    "    @property\n",
    "    def sampling_rate_hz(self):\n",
    "        \"\"\"Get the sampling rate in Hz.\"\"\"\n",
    "        return self.__sampling_rate_hz\n",
    "    \n",
    "    @sampling_rate_hz.setter\n",
    "    def sampling_rate_hz(self, value):\n",
    "        \"\"\"Set the sampling rate with validation.\"\"\"\n",
    "        if value <= 0:\n",
    "            raise ValueError(\"Sampling rate must be positive\")\n",
    "        self.__sampling_rate_hz = value\n",
    "    \n",
    "    @property\n",
    "    def spike_times(self):\n",
    "        \"\"\"Get a copy of spike times to prevent direct modification.\"\"\"\n",
    "        return self.__spike_times.copy()\n",
    "    \n",
    "    def add_spike_times(self, spike_times):\n",
    "        \"\"\"Add and validate spike times.\"\"\"\n",
    "        # Validate spike times\n",
    "        for t in spike_times:\n",
    "            if t < 0:\n",
    "                raise ValueError(\"Spike times cannot be negative\")\n",
    "                \n",
    "        self.__spike_times.extend(spike_times)\n",
    "        self.__spike_times.sort()\n",
    "    \n",
    "    def get_firing_rate(self, window_start=0, window_end=None):\n",
    "        \"\"\"Calculate firing rate (same as before).\"\"\"\n",
    "        if not self.__spike_times:\n",
    "            return 0.0\n",
    "            \n",
    "        if window_end is None:\n",
    "            window_end = max(self.__spike_times)\n",
    "            \n",
    "        spikes_in_window = [t for t in self.__spike_times \n",
    "                           if window_start <= t <= window_end]\n",
    "        \n",
    "        duration = window_end - window_start\n",
    "        if duration <= 0:\n",
    "            raise ValueError(\"Window duration must be positive\")\n",
    "            \n",
    "        return len(spikes_in_window) / duration\n",
    "    \n",
    "    def __str__(self):\n",
    "        \"\"\"String representation of the neuron recording.\"\"\"\n",
    "        return (f\"NeuronRecording(cell_id={self.__cell_id}, \"\n",
    "                f\"date={self.__recording_date}, \"\n",
    "                f\"rate={self.__sampling_rate_hz} Hz, \"\n",
    "                f\"spikes={len(self.__spike_times)})\")"
   ]
  },
  {
   "cell_type": "markdown",
   "id": "encapsulation-details",
   "metadata": {
    "slideshow": {
     "slide_type": "subslide"
    }
   },
   "source": [
    "## Encapsulation Features\n",
    "\n",
    "Our improved class demonstrates several important OOP principles:\n",
    "\n",
    "1. **Private attributes** (name mangling with double underscores)\n",
    "   - Indicates these shouldn't be accessed directly\n",
    "   - Provides a layer of protection (though not true privacy)\n",
    "\n",
    "2. **Properties** (using `@property` decorator)\n",
    "   - Controlled access to attributes\n",
    "   - Can be read-only or have custom getters/setters\n",
    "   - Allow validation when values are set\n",
    "\n",
    "3. **Data validation**\n",
    "   - Checking values before assigning them\n",
    "   - Raising informative errors for invalid data\n",
    "\n",
    "4. **Special methods** (like `__str__`)\n",
    "   - Customize behavior of built-in operations"
   ]
  },
  {
   "cell_type": "code",
   "execution_count": 5,
   "id": "using-improved",
   "metadata": {},
   "outputs": [
    {
     "name": "stdout",
     "output_type": "stream",
     "text": [
      "NeuronRecording(cell_id=neuron_789, date=2023-05-17, rate=30000.0 Hz, spikes=5)\n",
      "Firing rate: 10.0 Hz\n",
      "Spike times: [0.1, 0.2, 0.3, 0.4, 0.5]\n"
     ]
    },
    {
     "name": "stderr",
     "output_type": "stream",
     "text": [
      "Error: 'ImprovedNeuronRecording' object has no attribute '__spike_times'\n",
      "Error: Sampling rate must be positive\n"
     ]
    }
   ],
   "source": [
    "# Create an instance of our improved class\n",
    "neuron3 = ImprovedNeuronRecording(cell_id=\"neuron_789\", \n",
    "                                 recording_date=\"2023-05-17\", \n",
    "                                 sampling_rate_hz=30000.0)\n",
    "\n",
    "# Add some spike times\n",
    "neuron3.add_spike_times([0.3, 0.1, 0.5, 0.2, 0.4])\n",
    "\n",
    "# Print the object (using the __str__ method)\n",
    "print(neuron3)\n",
    "print(f\"Firing rate: {neuron3.get_firing_rate():.1f} Hz\")\n",
    "\n",
    "# We can access spike times through the property (which returns a copy)\n",
    "print(f\"Spike times: {neuron3.spike_times}\")\n",
    "\n",
    "# Trying to access private attributes directly will fail\n",
    "try:\n",
    "    # This will raise an AttributeError\n",
    "    print(neuron3.__spike_times)\n",
    "except AttributeError as e:\n",
    "    print(f\"Error: {e}\")\n",
    "\n",
    "# Data validation prevents invalid values\n",
    "try:\n",
    "    # This will raise a ValueError\n",
    "    neuron3.sampling_rate_hz = -1000\n",
    "except ValueError as e:\n",
    "    print(f\"Error: {e}\")"
   ]
  },
  {
   "cell_type": "markdown",
   "id": "inheritance",
   "metadata": {
    "slideshow": {
     "slide_type": "subslide"
    }
   },
   "source": [
    "## Inheritance: Creating Specialized Classes\n",
    "\n",
    "Inheritance allows us to create new classes that inherit attributes and methods from existing classes, while adding or overriding functionality as needed.\n",
    "\n",
    "Let's create a specialized version of our neuron recording class for calcium imaging data:"
   ]
  },
  {
   "cell_type": "code",
   "execution_count": 6,
   "id": "inheritance-example",
   "metadata": {},
   "outputs": [],
   "source": [
    "class CalciumImagingRecording(ImprovedNeuronRecording):\n",
    "    \"\"\"A specialized recording class for calcium imaging data.\n",
    "    \n",
    "    Extends ImprovedNeuronRecording with calcium-specific functionality.\n",
    "    \"\"\"\n",
    "    \n",
    "    def __init__(self, cell_id, recording_date, sampling_rate_hz, indicator=\"GCaMP6f\", decay_time_constant=0.7):\n",
    "        # Call the parent class's __init__ method\n",
    "        super().__init__(cell_id, recording_date, sampling_rate_hz)\n",
    "        \n",
    "        # Add calcium-specific attributes\n",
    "        self.__indicator = indicator\n",
    "        self.__decay_time_constant = decay_time_constant\n",
    "        self.__calcium_trace = []\n",
    "        self.__timestamps = []\n",
    "    \n",
    "    @property\n",
    "    def indicator(self):\n",
    "        return self.__indicator\n",
    "    \n",
    "    @property\n",
    "    def decay_time_constant(self):\n",
    "        return self.__decay_time_constant\n",
    "    \n",
    "    def add_calcium_data(self, timestamps, fluorescence_values):\n",
    "        \"\"\"Add calcium imaging data.\n",
    "        \n",
    "        Parameters\n",
    "        ----------\n",
    "        timestamps : list\n",
    "            Time points in seconds\n",
    "        fluorescence_values : list\n",
    "            Fluorescence intensity values at each time point\n",
    "        \"\"\"\n",
    "        if len(timestamps) != len(fluorescence_values):\n",
    "            raise ValueError(\"Timestamps and values must have the same length\")\n",
    "            \n",
    "        self.__timestamps = timestamps\n",
    "        self.__calcium_trace = fluorescence_values\n",
    "    \n",
    "    def detect_spikes(self, threshold=2.0):\n",
    "        \"\"\"Detect spikes from calcium trace using a simple threshold.\n",
    "        \n",
    "        This is a simplified spike detection method for demonstration.\n",
    "        Real implementations would use more sophisticated algorithms.\n",
    "        \n",
    "        Parameters\n",
    "        ----------\n",
    "        threshold : float\n",
    "            Detection threshold in standard deviations above baseline\n",
    "        \"\"\"\n",
    "        if not self.__calcium_trace:\n",
    "            return\n",
    "            \n",
    "        # Simple spike detection using threshold crossing\n",
    "        import numpy as np\n",
    "        \n",
    "        # Convert to numpy arrays for analysis\n",
    "        trace = np.array(self.__calcium_trace)\n",
    "        times = np.array(self.__timestamps)\n",
    "        \n",
    "        # Calculate baseline and standard deviation\n",
    "        baseline = np.median(trace)\n",
    "        noise_std = np.median(np.abs(trace - baseline)) * 1.4826  # Robust std estimate\n",
    "        \n",
    "        # Find threshold crossings\n",
    "        threshold_value = baseline + threshold * noise_std\n",
    "        above_threshold = trace > threshold_value\n",
    "        \n",
    "        # Find rising edges (potential spike starts)\n",
    "        rising_edges = np.where(np.diff(above_threshold.astype(int)) > 0)[0]\n",
    "        \n",
    "        # Extract spike times at rising edges\n",
    "        spike_times = [times[i+1] for i in rising_edges]\n",
    "        \n",
    "        # Add detected spikes to our parent class's spike collection\n",
    "        if spike_times:\n",
    "            self.add_spike_times(spike_times)\n",
    "            \n",
    "        return spike_times\n",
    "    \n",
    "    def get_mean_fluorescence(self):\n",
    "        \"\"\"Calculate mean fluorescence value.\"\"\"\n",
    "        if not self.__calcium_trace:\n",
    "            return 0\n",
    "        return sum(self.__calcium_trace) / len(self.__calcium_trace)\n",
    "    \n",
    "    def __str__(self):\n",
    "        \"\"\"Override string representation to include calcium info.\"\"\"\n",
    "        # Get the base representation from the parent class\n",
    "        base_str = super().__str__()[:-1]  # Remove closing parenthesis\n",
    "        \n",
    "        # Add calcium-specific information\n",
    "        return (f\"{base_str}, \"\n",
    "                f\"indicator={self.__indicator}, \"\n",
    "                f\"samples={len(self.__calcium_trace)})\")"
   ]
  },
  {
   "cell_type": "markdown",
   "id": "inheritance-points",
   "metadata": {
    "slideshow": {
     "slide_type": "subslide"
    }
   },
   "source": [
    "## Key Inheritance Concepts\n",
    "\n",
    "Our `CalciumImagingRecording` class demonstrates several inheritance principles:\n",
    "\n",
    "1. **Extending functionality**: Adding new methods and attributes while keeping existing ones\n",
    "2. **Super() calls**: Using the parent class's implementation where appropriate\n",
    "3. **Method overriding**: Replacing parent methods with specialized versions\n",
    "4. **Specialized behavior**: Adding domain-specific functionality"
   ]
  },
  {
   "cell_type": "code",
   "execution_count": 7,
   "id": "using-inheritance",
   "metadata": {},
   "outputs": [
    {
     "name": "stdout",
     "output_type": "stream",
     "text": [
      "NeuronRecording(cell_id=CA1_neuron_42, date=2023-06-01, rate=10.0 Hz, spikes=0, indicator=GCaMP6f, samples=100)\n",
      "\n",
      "Indicator: GCaMP6f\n",
      "Decay time constant: 0.7\n",
      "Mean fluorescence: 1.2\n",
      "\n",
      "Detected spikes: [1.0, 2.0, 5.0, 9.0]\n",
      "Updated firing rate: 0.4 Hz\n"
     ]
    }
   ],
   "source": [
    "# Create a calcium imaging recording\n",
    "ca_recording = CalciumImagingRecording(\n",
    "    cell_id=\"CA1_neuron_42\",\n",
    "    recording_date=\"2023-06-01\",\n",
    "    sampling_rate_hz=10.0,  # 10 Hz imaging\n",
    "    indicator=\"GCaMP6f\",\n",
    "    decay_time_constant=0.7\n",
    ")\n",
    "\n",
    "# Print the object\n",
    "print(ca_recording)\n",
    "print()\n",
    "\n",
    "# Access calcium-specific properties\n",
    "print(f\"Indicator: {ca_recording.indicator}\")\n",
    "print(f\"Decay time constant: {ca_recording.decay_time_constant}\")\n",
    "\n",
    "# Add some simulated calcium data (100 samples)\n",
    "import random\n",
    "times = [i/10 for i in range(100)]  # 0 to 9.9 seconds at 10 Hz\n",
    "baseline = 1.0\n",
    "# Generate a trace with a few calcium events\n",
    "trace = []\n",
    "for t in times:\n",
    "    value = baseline + random.uniform(-0.1, 0.1)  # Noise\n",
    "    # Add calcium transients at specific times\n",
    "    if t in [1.0, 2.0, 5.0, 9.0]:\n",
    "        value += 2.0  # Large calcium event\n",
    "    trace.append(value)\n",
    "\n",
    "ca_recording.add_calcium_data(times, trace)\n",
    "print(f\"Mean fluorescence: {ca_recording.get_mean_fluorescence():.1f}\")\n",
    "print()\n",
    "\n",
    "# Detect spikes from the calcium trace\n",
    "spikes = ca_recording.detect_spikes(threshold=1.5)\n",
    "print(f\"Detected spikes: {spikes}\")\n",
    "\n",
    "# We can still use methods from the parent class\n",
    "print(f\"Updated firing rate: {ca_recording.get_firing_rate():.1f} Hz\")"
   ]
  },
  {
   "cell_type": "markdown",
   "id": "polymorphism",
   "metadata": {
    "slideshow": {
     "slide_type": "subslide"
    }
   },
   "source": [
    "## Polymorphism in Action\n",
    "\n",
    "Polymorphism allows us to use a single interface (like a method name) to represent different behaviors based on the object type. Let's demonstrate this with a function that works with different recording types:"
   ]
  },
  {
   "cell_type": "code",
   "execution_count": 8,
   "id": "polymorphism-example",
   "metadata": {},
   "outputs": [
    {
     "name": "stdout",
     "output_type": "stream",
     "text": [
      "Analysis for neuron_789:\n",
      "Cell ID: neuron_789\n",
      "Recording Date: 2023-05-17\n",
      "Firing Rate: 10.0 Hz\n",
      "\n",
      "Analysis for CA1_neuron_42:\n",
      "Cell ID: CA1_neuron_42\n",
      "Recording Date: 2023-06-01\n",
      "Firing Rate: 0.4 Hz\n"
     ]
    }
   ],
   "source": [
    "def analyze_recording(recording):\n",
    "    \"\"\"Analyze any type of neuron recording.\n",
    "    \n",
    "    This function works with any object that has the required attributes\n",
    "    and methods, demonstrating \"duck typing\" polymorphism.\n",
    "    \"\"\"\n",
    "    print(f\"Analysis for {recording.cell_id}:\")\n",
    "    print(f\"Cell ID: {recording.cell_id}\")\n",
    "    print(f\"Recording Date: {recording.recording_date}\")\n",
    "    print(f\"Firing Rate: {recording.get_firing_rate():.1f} Hz\")\n",
    "\n",
    "# Analyze different types of recordings with the same function\n",
    "analyze_recording(neuron3)  # ImprovedNeuronRecording object\n",
    "print()\n",
    "analyze_recording(ca_recording)  # CalciumImagingRecording object"
   ]
  },
  {
   "cell_type": "markdown",
   "id": "special-methods",
   "metadata": {
    "slideshow": {
     "slide_type": "subslide"
    }
   },
   "source": [
    "## Special Methods (Dunder Methods)\n",
    "\n",
    "Python classes can implement special methods (surrounded by double underscores) to customize behavior with built-in operations. We've already seen `__init__` and `__str__`, but there are many others.\n",
    "\n",
    "Let's enhance our `ImprovedNeuronRecording` class with some special methods:"
   ]
  }
 ],
 "metadata": {
  "language_info": {
   "name": "python"
  }
 },
 "nbformat": 4,
 "nbformat_minor": 2
}
