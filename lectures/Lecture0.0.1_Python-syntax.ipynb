{
 "cells": [
  {
   "cell_type": "markdown",
   "id": "3ca811a3",
   "metadata": {
    "slideshow": {
     "slide_type": "slide"
    }
   },
   "source": [
    "# Python for (open) Neuroscience\n",
    "\n",
    "_Lecture 0.0.1_: Introduction to Python (comments, variables, types)\n",
    "\n",
    "Luigi Petrucco\n",
    "\n",
    "(To use this notebook interactively, click here:\n",
    "[![Open In Colab](https://colab.research.google.com/assets/colab-badge.svg)](https://colab.research.google.com/github/vigji/python-cimec-2025/blob/main/lectures/Lecture0.0.1_Python-syntax.ipynb))"
   ]
  },
  {
   "cell_type": "markdown",
   "id": "080ed674",
   "metadata": {
    "slideshow": {
     "slide_type": "slide"
    }
   },
   "source": [
    "## Introduction to Python syntax"
   ]
  },
  {
   "cell_type": "markdown",
   "id": "91449a81",
   "metadata": {
    "slideshow": {
     "slide_type": "subslide"
    }
   },
   "source": [
    "A Python program constists of written instructions given to a <span style=\"color:indianred\">Python interpreter</span> "
   ]
  },
  {
   "cell_type": "code",
   "execution_count": 1,
   "id": "0582e20d",
   "metadata": {
    "slideshow": {
     "slide_type": "-"
    }
   },
   "outputs": [
    {
     "name": "stdout",
     "output_type": "stream",
     "text": [
      "Hello World\n"
     ]
    }
   ],
   "source": [
    "# (To run this code in a notebook, select this cell and press Shift+Enter)\n",
    "print(\"Hello World\") "
   ]
  },
  {
   "cell_type": "markdown",
   "id": "8db9d05e",
   "metadata": {
    "slideshow": {
     "slide_type": "fragment"
    }
   },
   "source": [
    "Those lines could be written in a text file with extension `.py` fed into an interpreter (more on this later), or written in cells of a notebook like those ones."
   ]
  },
  {
   "cell_type": "markdown",
   "id": "da4331f7",
   "metadata": {
    "slideshow": {
     "slide_type": "subslide"
    }
   },
   "source": [
    "Comments that have no effect on the program can be introduced using `#`:"
   ]
  },
  {
   "cell_type": "code",
   "execution_count": 5,
   "id": "3a2932ac",
   "metadata": {
    "slideshow": {
     "slide_type": "-"
    }
   },
   "outputs": [
    {
     "name": "stdout",
     "output_type": "stream",
     "text": [
      "Hello World\n"
     ]
    }
   ],
   "source": [
    "# We're about to print Hello World:\n",
    "print(\"Hello World\")"
   ]
  },
  {
   "cell_type": "markdown",
   "id": "56bc3f42",
   "metadata": {
    "slideshow": {
     "slide_type": "slide"
    }
   },
   "source": [
    "### Python code layout"
   ]
  },
  {
   "cell_type": "markdown",
   "id": "e1f87b6b",
   "metadata": {
    "slideshow": {
     "slide_type": "fragment"
    }
   },
   "source": [
    "New line separates instructions sent to Python, called <span style=\"color:indianred\">statements</span>:"
   ]
  },
  {
   "cell_type": "code",
   "execution_count": 6,
   "id": "5779c700",
   "metadata": {
    "slideshow": {
     "slide_type": "-"
    }
   },
   "outputs": [
    {
     "name": "stdout",
     "output_type": "stream",
     "text": [
      "We are adding numbers\n",
      "3\n"
     ]
    }
   ],
   "source": [
    "print(\"We are adding numbers\")  # a statement\n",
    "a_sum = 1 + 2  # another statement\n",
    "\n",
    "print(a_sum)  # another statement"
   ]
  },
  {
   "cell_type": "markdown",
   "id": "2cec2728",
   "metadata": {
    "slideshow": {
     "slide_type": "subslide"
    }
   },
   "source": [
    "**Indentation counts** to segregate logical blocks:"
   ]
  },
  {
   "cell_type": "code",
   "execution_count": 9,
   "id": "8e0bbb38",
   "metadata": {},
   "outputs": [
    {
     "name": "stdout",
     "output_type": "stream",
     "text": [
      "In the for loop!\n",
      "In the for loop!\n",
      "In the for loop!\n",
      "Outside the for loop\n"
     ]
    }
   ],
   "source": [
    "# The indentation defines what is included in the loop\n",
    "for i in range(3):\n",
    "    print(\"In the for loop!\")  # everything indented at this level happens in the loop\n",
    "    \n",
    "print(\"Outside the for loop\")"
   ]
  },
  {
   "cell_type": "markdown",
   "id": "2ef30d14",
   "metadata": {},
   "source": [
    "(indentation: arbitrary but consistent number of tab/white spaces)"
   ]
  },
  {
   "cell_type": "markdown",
   "id": "62839ac1",
   "metadata": {
    "slideshow": {
     "slide_type": "subslide"
    }
   },
   "source": [
    "So, mind empty spaces!"
   ]
  },
  {
   "cell_type": "code",
   "execution_count": 2,
   "id": "7674d3da",
   "metadata": {},
   "outputs": [
    {
     "ename": "IndentationError",
     "evalue": "unexpected indent (2325034925.py, line 3)",
     "output_type": "error",
     "traceback": [
      "\u001b[0;36m  Cell \u001b[0;32mIn[2], line 3\u001b[0;36m\u001b[0m\n\u001b[0;31m    print(\"A line with empty space at the beginning will produce an error\")\u001b[0m\n\u001b[0m    ^\u001b[0m\n\u001b[0;31mIndentationError\u001b[0m\u001b[0;31m:\u001b[0m unexpected indent\n"
     ]
    }
   ],
   "source": [
    "print(\"A correct line\")\n",
    "\n",
    " print(\"A line with empty space at the beginning will produce an error\")"
   ]
  },
  {
   "cell_type": "markdown",
   "id": "265c72ac",
   "metadata": {
    "slideshow": {
     "slide_type": "slide"
    }
   },
   "source": [
    "### Understand code layout and execution order is key!"
   ]
  },
  {
   "cell_type": "markdown",
   "id": "1c563b64",
   "metadata": {
    "slideshow": {
     "slide_type": "fragment"
    }
   },
   "source": [
    "- Pay attention to indendation blocks"
   ]
  },
  {
   "cell_type": "markdown",
   "id": "b1c00b41",
   "metadata": {
    "slideshow": {
     "slide_type": "fragment"
    }
   },
   "source": [
    "- **Always think about the execution flow of your programs**"
   ]
  },
  {
   "cell_type": "markdown",
   "id": "bcd935fc",
   "metadata": {
    "slideshow": {
     "slide_type": "slide"
    }
   },
   "source": [
    "## Variables"
   ]
  },
  {
   "cell_type": "markdown",
   "id": "d6662d46",
   "metadata": {
    "slideshow": {
     "slide_type": "fragment"
    }
   },
   "source": [
    "We assign values to variables when we want to remember them, or refer to them elsewhere in our program. "
   ]
  },
  {
   "cell_type": "markdown",
   "id": "e38a226a",
   "metadata": {
    "slideshow": {
     "slide_type": "fragment"
    }
   },
   "source": [
    "We define variables by using a single `=` sign. This tells Python that we want it to use a specific name to refer to some value."
   ]
  },
  {
   "cell_type": "code",
   "execution_count": 5,
   "id": "488b5e54",
   "metadata": {
    "slideshow": {
     "slide_type": "fragment"
    }
   },
   "outputs": [
    {
     "name": "stdout",
     "output_type": "stream",
     "text": [
      "2\n"
     ]
    }
   ],
   "source": [
    "an_int = 1\n",
    "an_int = 2\n",
    "\n",
    "print(an_int)"
   ]
  },
  {
   "cell_type": "markdown",
   "id": "fc986676",
   "metadata": {
    "slideshow": {
     "slide_type": "subslide"
    }
   },
   "source": [
    "## A note on checking out variables"
   ]
  },
  {
   "cell_type": "markdown",
   "id": "00c632eb",
   "metadata": {
    "slideshow": {
     "slide_type": "subslide"
    }
   },
   "source": [
    "In a notebook, we do not have to always use print. If we write a variable as the last code line in a cell, its value will be printed:"
   ]
  },
  {
   "cell_type": "code",
   "execution_count": 8,
   "id": "e2c17298",
   "metadata": {},
   "outputs": [
    {
     "name": "stdout",
     "output_type": "stream",
     "text": [
      "1\n"
     ]
    }
   ],
   "source": [
    "an_int = 1\n",
    "print(an_int)\n",
    "another = 2"
   ]
  },
  {
   "cell_type": "markdown",
   "id": "6acf4727",
   "metadata": {
    "slideshow": {
     "slide_type": "subslide"
    }
   },
   "source": [
    "Variable names:\n",
    "\n",
    "- cannot contain spaces\n",
    "- cannot start with a number\n",
    "- cannot contain `$`, `@`, `#`, `\\`\n",
    "- could contain unicode characters, but ASCII are recommended\n",
    "- cannot be named as  <span style=\"color:indianred\">reserved keywords</span>!"
   ]
  },
  {
   "cell_type": "code",
   "execution_count": 15,
   "id": "3b44be10",
   "metadata": {
    "slideshow": {
     "slide_type": "fragment"
    }
   },
   "outputs": [
    {
     "name": "stdout",
     "output_type": "stream",
     "text": [
      "\n",
      "Here is a list of the Python keywords.  Enter any keyword to get more help.\n",
      "\n",
      "False               class               from                or\n",
      "None                continue            global              pass\n",
      "True                def                 if                  raise\n",
      "and                 del                 import              return\n",
      "as                  elif                in                  try\n",
      "assert              else                is                  while\n",
      "async               except              lambda              with\n",
      "await               finally             nonlocal            yield\n",
      "break               for                 not                 \n",
      "\n"
     ]
    }
   ],
   "source": [
    "help(\"keywords\")"
   ]
  },
  {
   "cell_type": "markdown",
   "id": "9bba3132",
   "metadata": {
    "slideshow": {
     "slide_type": "subslide"
    }
   },
   "source": [
    "You cannot use emoji as variable names (one of the major Python drawbacks):"
   ]
  },
  {
   "cell_type": "code",
   "execution_count": 16,
   "id": "4c96318a",
   "metadata": {},
   "outputs": [
    {
     "ename": "SyntaxError",
     "evalue": "invalid character '😂' (U+1F602) (3384108546.py, line 1)",
     "output_type": "error",
     "traceback": [
      "\u001b[0;36m  Cell \u001b[0;32mIn[16], line 1\u001b[0;36m\u001b[0m\n\u001b[0;31m    😂 = 12.5\u001b[0m\n\u001b[0m    ^\u001b[0m\n\u001b[0;31mSyntaxError\u001b[0m\u001b[0;31m:\u001b[0m invalid character '😂' (U+1F602)\n"
     ]
    }
   ],
   "source": [
    "😂 = 12.5"
   ]
  },
  {
   "cell_type": "code",
   "execution_count": 9,
   "id": "4fcf4164",
   "metadata": {
    "slideshow": {
     "slide_type": "slide"
    }
   },
   "outputs": [],
   "source": [
    "a_good_name = 1\n"
   ]
  },
  {
   "cell_type": "markdown",
   "id": "368bfaa1",
   "metadata": {
    "slideshow": {
     "slide_type": "slide"
    }
   },
   "source": [
    "## Types"
   ]
  },
  {
   "cell_type": "markdown",
   "id": "496366d7",
   "metadata": {},
   "source": [
    "Variables can have different types. The most basic are: \n",
    " - `int`: integer numbers (e.g., `42`)\n",
    " - `float`: floating point numbers (e.g., `3.14`)\n",
    " - `bool`: booleans: `True`/`False`\n",
    " - `str`: strings; text in single or double quotes: `\"string\"`/`'string'`"
   ]
  },
  {
   "cell_type": "code",
   "execution_count": 15,
   "id": "15b769b2",
   "metadata": {
    "slideshow": {
     "slide_type": "subslide"
    }
   },
   "outputs": [
    {
     "data": {
      "text/plain": [
       "str"
      ]
     },
     "execution_count": 15,
     "metadata": {},
     "output_type": "execute_result"
    }
   ],
   "source": [
    "var = \"text\"\n",
    "\n",
    "type(var)"
   ]
  },
  {
   "cell_type": "code",
   "execution_count": 18,
   "id": "17b7b63b",
   "metadata": {
    "slideshow": {
     "slide_type": "subslide"
    }
   },
   "outputs": [
    {
     "data": {
      "text/plain": [
       "int"
      ]
     },
     "execution_count": 18,
     "metadata": {},
     "output_type": "execute_result"
    }
   ],
   "source": [
    "var = 1\n",
    "\n",
    "type(var)"
   ]
  },
  {
   "cell_type": "code",
   "execution_count": 19,
   "id": "91614986",
   "metadata": {
    "slideshow": {
     "slide_type": "subslide"
    }
   },
   "outputs": [
    {
     "data": {
      "text/plain": [
       "float"
      ]
     },
     "execution_count": 19,
     "metadata": {},
     "output_type": "execute_result"
    }
   ],
   "source": [
    "var = 1.2\n",
    "\n",
    "type(var)"
   ]
  },
  {
   "cell_type": "code",
   "execution_count": 5,
   "id": "e565f10a",
   "metadata": {
    "slideshow": {
     "slide_type": "subslide"
    }
   },
   "outputs": [
    {
     "data": {
      "text/plain": [
       "str"
      ]
     },
     "execution_count": 5,
     "metadata": {},
     "output_type": "execute_result"
    }
   ],
   "source": [
    "var = \"True\"\n",
    "\n",
    "type(var)"
   ]
  },
  {
   "cell_type": "markdown",
   "id": "274be00e",
   "metadata": {
    "slideshow": {
     "slide_type": "subslide"
    }
   },
   "source": [
    "**Note**: `print()`, `type()` are  <span style=\"color:indianred\">functions</span>. \n",
    "We can give inputs to a function writing variables inside the parenteses:\n",
    "\n",
    "```\n",
    "function_name(argument)\n",
    "```\n",
    "\n",
    "We will see more about functions in the next lecture!\n"
   ]
  },
  {
   "cell_type": "markdown",
   "id": "bbd55037",
   "metadata": {
    "slideshow": {
     "slide_type": "subslide"
    }
   },
   "source": [
    "**Warning**: `type` or `print` are special terms that we should avoid when assigning variable names. \n",
    "\n",
    "If you call a variable `type`, Python will overwrite it, and the function won't work anymore!"
   ]
  },
  {
   "cell_type": "markdown",
   "id": "604f686e",
   "metadata": {},
   "source": [
    "```python\n",
    "# Don't do something like:\n",
    "type = 1  # wrong!!!\n",
    "\n",
    "# After running this we would not be able to use the type() function anymore\n",
    "```"
   ]
  },
  {
   "cell_type": "markdown",
   "id": "a791ea6e",
   "metadata": {
    "slideshow": {
     "slide_type": "subslide"
    }
   },
   "source": [
    "### `int` "
   ]
  },
  {
   "cell_type": "markdown",
   "id": "10d15ace",
   "metadata": {
    "slideshow": {
     "slide_type": "fragment"
    }
   },
   "source": [
    "Describe integer numbers, positive or negative, **of any magnitude**"
   ]
  },
  {
   "cell_type": "code",
   "execution_count": 21,
   "id": "24365b83",
   "metadata": {},
   "outputs": [
    {
     "data": {
      "text/plain": [
       "-15"
      ]
     },
     "execution_count": 21,
     "metadata": {},
     "output_type": "execute_result"
    }
   ],
   "source": [
    "an_integer = 1\n",
    "\n",
    "a_negative_int = -15\n",
    "\n",
    "a_negative_int"
   ]
  },
  {
   "cell_type": "markdown",
   "id": "78cd0d48",
   "metadata": {
    "slideshow": {
     "slide_type": "subslide"
    }
   },
   "source": [
    "Aritmetical operators are quite intuitive:\n",
    " - `+`, `-`, `*`, `/`,`**`  "
   ]
  },
  {
   "cell_type": "code",
   "execution_count": 16,
   "id": "25e1f17e",
   "metadata": {},
   "outputs": [
    {
     "data": {
      "text/plain": [
       "8"
      ]
     },
     "execution_count": 16,
     "metadata": {},
     "output_type": "execute_result"
    }
   ],
   "source": [
    "2**3"
   ]
  },
  {
   "cell_type": "code",
   "execution_count": 22,
   "id": "9ecb562f",
   "metadata": {},
   "outputs": [
    {
     "name": "stdout",
     "output_type": "stream",
     "text": [
      "44\n"
     ]
    }
   ],
   "source": [
    "a = 42\n",
    "\n",
    "print(a + 2)"
   ]
  },
  {
   "cell_type": "markdown",
   "id": "c96b134f",
   "metadata": {
    "slideshow": {
     "slide_type": "subslide"
    }
   },
   "source": [
    " - `**` power, `//` integer division, `%` modulo"
   ]
  },
  {
   "cell_type": "code",
   "execution_count": 19,
   "id": "32d1299e",
   "metadata": {
    "slideshow": {
     "slide_type": "subslide"
    }
   },
   "outputs": [
    {
     "data": {
      "text/plain": [
       "2"
      ]
     },
     "execution_count": 19,
     "metadata": {},
     "output_type": "execute_result"
    }
   ],
   "source": [
    "a = 42\n",
    "a // 5\n",
    "a % 40  # Module (reminder of integer division)"
   ]
  },
  {
   "cell_type": "code",
   "execution_count": 24,
   "id": "f323db7d",
   "metadata": {
    "slideshow": {
     "slide_type": "subslide"
    }
   },
   "outputs": [
    {
     "data": {
      "text/plain": [
       "1764"
      ]
     },
     "execution_count": 24,
     "metadata": {},
     "output_type": "execute_result"
    }
   ],
   "source": [
    "a ** 2  # power elevation "
   ]
  },
  {
   "cell_type": "code",
   "execution_count": 26,
   "id": "b07a8986",
   "metadata": {
    "slideshow": {
     "slide_type": "subslide"
    }
   },
   "outputs": [
    {
     "data": {
      "text/plain": [
       "8"
      ]
     },
     "execution_count": 26,
     "metadata": {},
     "output_type": "execute_result"
    }
   ],
   "source": [
    "a // 5  # note the difference with a / 2 "
   ]
  },
  {
   "cell_type": "markdown",
   "id": "32fc5f0d",
   "metadata": {
    "slideshow": {
     "slide_type": "fragment"
    }
   },
   "source": [
    "The result of the division is always `float`, not `int`! This unless we do the integer division `//`"
   ]
  },
  {
   "cell_type": "code",
   "execution_count": 20,
   "id": "b8eca93a",
   "metadata": {},
   "outputs": [
    {
     "data": {
      "text/plain": [
       "2"
      ]
     },
     "execution_count": 20,
     "metadata": {},
     "output_type": "execute_result"
    }
   ],
   "source": [
    "2 // 1"
   ]
  },
  {
   "cell_type": "markdown",
   "id": "7117c671",
   "metadata": {
    "slideshow": {
     "slide_type": "slide"
    }
   },
   "source": [
    "### `float`"
   ]
  },
  {
   "cell_type": "markdown",
   "id": "1ddd4c2f",
   "metadata": {
    "slideshow": {
     "slide_type": "-"
    }
   },
   "source": [
    "Floats describe rational numbers with finite precision\n",
    "\n",
    "(pro info: Python uses 64 bits for representing floats; up to 15 significant decimal digits precision, all integers in the interval $(-2^{53}, 2^{53})$\n",
    "\n",
    "! You will have only **an approximation** of e.g. $\\sqrt 2$ or $\\pi$\n",
    "\n",
    "! Finite precision can produce curious effects (see practicals)"
   ]
  },
  {
   "cell_type": "code",
   "execution_count": 28,
   "id": "ee15154f",
   "metadata": {
    "slideshow": {
     "slide_type": "subslide"
    }
   },
   "outputs": [
    {
     "data": {
      "text/plain": [
       "float"
      ]
     },
     "execution_count": 28,
     "metadata": {},
     "output_type": "execute_result"
    }
   ],
   "source": [
    "a = 2.33  # a float\n",
    "type(a)"
   ]
  },
  {
   "cell_type": "code",
   "execution_count": 30,
   "id": "89935494",
   "metadata": {
    "slideshow": {
     "slide_type": "fragment"
    }
   },
   "outputs": [
    {
     "data": {
      "text/plain": [
       "float"
      ]
     },
     "execution_count": 30,
     "metadata": {},
     "output_type": "execute_result"
    }
   ],
   "source": [
    "b =  .1  # a float even if there is no decimals - the point is enough\n",
    "type(b)"
   ]
  },
  {
   "cell_type": "markdown",
   "id": "ca807290",
   "metadata": {
    "slideshow": {
     "slide_type": "slide"
    }
   },
   "source": [
    "### `bool`"
   ]
  },
  {
   "cell_type": "markdown",
   "id": "c209664c",
   "metadata": {
    "slideshow": {
     "slide_type": "fragment"
    }
   },
   "source": [
    "Describe logical (truth) values"
   ]
  },
  {
   "cell_type": "code",
   "execution_count": 22,
   "id": "27e16e89",
   "metadata": {},
   "outputs": [
    {
     "data": {
      "text/plain": [
       "True"
      ]
     },
     "execution_count": 22,
     "metadata": {},
     "output_type": "execute_result"
    }
   ],
   "source": [
    "a = True\n",
    "a"
   ]
  },
  {
   "cell_type": "markdown",
   "id": "2c9f77d5",
   "metadata": {
    "slideshow": {
     "slide_type": "subslide"
    }
   },
   "source": [
    "## Boolean arithmetic"
   ]
  },
  {
   "cell_type": "markdown",
   "id": "f68ccf31",
   "metadata": {
    "slideshow": {
     "slide_type": "subslide"
    }
   },
   "source": [
    "To make boolean arithmetic, we can simply use `not`, `and`, `or`:"
   ]
  },
  {
   "cell_type": "code",
   "execution_count": 23,
   "id": "53217f3a",
   "metadata": {},
   "outputs": [
    {
     "data": {
      "text/plain": [
       "False"
      ]
     },
     "execution_count": 23,
     "metadata": {},
     "output_type": "execute_result"
    }
   ],
   "source": [
    "True and False"
   ]
  },
  {
   "cell_type": "code",
   "execution_count": 24,
   "id": "82bb4741",
   "metadata": {},
   "outputs": [
    {
     "data": {
      "text/plain": [
       "True"
      ]
     },
     "execution_count": 24,
     "metadata": {},
     "output_type": "execute_result"
    }
   ],
   "source": [
    "True or False"
   ]
  },
  {
   "cell_type": "code",
   "execution_count": 25,
   "id": "0455aa0e",
   "metadata": {},
   "outputs": [
    {
     "data": {
      "text/plain": [
       "False"
      ]
     },
     "execution_count": 25,
     "metadata": {},
     "output_type": "execute_result"
    }
   ],
   "source": [
    "not True"
   ]
  },
  {
   "cell_type": "markdown",
   "id": "2898c3b0",
   "metadata": {
    "slideshow": {
     "slide_type": "subslide"
    }
   },
   "source": [
    "## Comparators"
   ]
  },
  {
   "cell_type": "markdown",
   "id": "4eddb814",
   "metadata": {
    "slideshow": {
     "slide_type": "-"
    }
   },
   "source": [
    "Usually bools come from comparisons:\n",
    " - `>`  `<`: bigger, smaller (excluding extremes)\n",
    " - `>=`  `<=`: bigger, smaller (including extremes)\n",
    " - `==`: equal\n",
    " - `!=`: different"
   ]
  },
  {
   "cell_type": "code",
   "execution_count": 30,
   "id": "806e915c",
   "metadata": {
    "slideshow": {
     "slide_type": "subslide"
    }
   },
   "outputs": [
    {
     "name": "stdout",
     "output_type": "stream",
     "text": [
      "False\n",
      "True\n",
      "True\n"
     ]
    }
   ],
   "source": [
    "a = 0\n",
    "b = 1\n",
    "\n",
    "print(a > 1) # or \n",
    "print(b < 2)\n",
    "print((a > 1) or (b < 2)) "
   ]
  },
  {
   "cell_type": "code",
   "execution_count": 31,
   "id": "40fd9781",
   "metadata": {
    "slideshow": {
     "slide_type": "subslide"
    }
   },
   "outputs": [
    {
     "data": {
      "text/plain": [
       "True"
      ]
     },
     "execution_count": 31,
     "metadata": {},
     "output_type": "execute_result"
    }
   ],
   "source": [
    "# We can assign the results of individual comparisons to bool variables\n",
    "a_comparison = 4 >= 3\n",
    "another_comparison = 5 < 8\n",
    "\n",
    "a_comparison and not another_comparison"
   ]
  },
  {
   "cell_type": "markdown",
   "id": "d6539d32",
   "metadata": {
    "slideshow": {
     "slide_type": "subslide"
    }
   },
   "source": [
    "### Booleans as numbers"
   ]
  },
  {
   "cell_type": "markdown",
   "id": "85f80cae",
   "metadata": {
    "slideshow": {
     "slide_type": "-"
    }
   },
   "source": [
    "`True` and `False` are **the same as** `1` and `0` in Python!"
   ]
  },
  {
   "cell_type": "code",
   "execution_count": 32,
   "id": "fb59e3f6",
   "metadata": {},
   "outputs": [
    {
     "data": {
      "text/plain": [
       "True"
      ]
     },
     "execution_count": 32,
     "metadata": {},
     "output_type": "execute_result"
    }
   ],
   "source": [
    "False == 0"
   ]
  },
  {
   "cell_type": "code",
   "execution_count": 33,
   "id": "1bba1a89",
   "metadata": {},
   "outputs": [
    {
     "data": {
      "text/plain": [
       "True"
      ]
     },
     "execution_count": 33,
     "metadata": {},
     "output_type": "execute_result"
    }
   ],
   "source": [
    "True == 1"
   ]
  },
  {
   "cell_type": "markdown",
   "id": "aa95b1ab",
   "metadata": {
    "slideshow": {
     "slide_type": "subslide"
    }
   },
   "source": [
    "`⚠️ Warning ⚠️` \n",
    "\n",
    "Using classic arithmetic operators (`+`, `-`, `*`, `/`) and comparators (`>`, `<`) on boolean variables will make them to be considered as integers!"
   ]
  },
  {
   "cell_type": "code",
   "execution_count": 35,
   "id": "23be4154",
   "metadata": {},
   "outputs": [
    {
     "data": {
      "text/plain": [
       "0"
      ]
     },
     "execution_count": 35,
     "metadata": {},
     "output_type": "execute_result"
    }
   ],
   "source": [
    "True * False"
   ]
  },
  {
   "cell_type": "code",
   "execution_count": 36,
   "id": "3a92b15a",
   "metadata": {},
   "outputs": [
    {
     "data": {
      "text/plain": [
       "True"
      ]
     },
     "execution_count": 36,
     "metadata": {},
     "output_type": "execute_result"
    }
   ],
   "source": [
    "0.5 > False"
   ]
  },
  {
   "cell_type": "code",
   "execution_count": 37,
   "id": "38ee5cf3",
   "metadata": {},
   "outputs": [
    {
     "data": {
      "text/plain": [
       "False"
      ]
     },
     "execution_count": 37,
     "metadata": {},
     "output_type": "execute_result"
    }
   ],
   "source": [
    "0.5 > True"
   ]
  },
  {
   "cell_type": "markdown",
   "id": "bdeabbd2",
   "metadata": {
    "slideshow": {
     "slide_type": "slide"
    }
   },
   "source": [
    "(Practicals 0.0.1-3)"
   ]
  },
  {
   "cell_type": "markdown",
   "id": "52614a4a",
   "metadata": {
    "slideshow": {
     "slide_type": "slide"
    }
   },
   "source": []
  }
 ],
 "metadata": {
  "celltoolbar": "Slideshow",
  "kernelspec": {
   "display_name": "course-env",
   "language": "python",
   "name": "python3"
  },
  "language_info": {
   "codemirror_mode": {
    "name": "ipython",
    "version": 3
   },
   "file_extension": ".py",
   "mimetype": "text/x-python",
   "name": "python",
   "nbconvert_exporter": "python",
   "pygments_lexer": "ipython3",
   "version": "3.10.13"
  }
 },
 "nbformat": 4,
 "nbformat_minor": 5
}
