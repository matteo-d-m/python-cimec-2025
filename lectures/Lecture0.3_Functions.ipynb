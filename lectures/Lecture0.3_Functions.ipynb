{
 "cells": [
  {
   "cell_type": "markdown",
   "id": "3ca811a3",
   "metadata": {
    "slideshow": {
     "slide_type": "subslide"
    }
   },
   "source": [
    "# Python for (open) Neuroscience\n",
    "\n",
    "_Lecture 0.3_ - Functions\n",
    "\n",
    "Luigi Petrucco\n",
    "\n",
    "[![Open In Colab](https://colab.research.google.com/assets/colab-badge.svg)](https://colab.research.google.com/github/vigji/python-cimec-2025/blob/main/lectures/Lecture0.3_Functions.ipynb)"
   ]
  },
  {
   "cell_type": "code",
   "execution_count": null,
   "id": "db0e7b3d",
   "metadata": {},
   "outputs": [],
   "source": []
  },
  {
   "cell_type": "markdown",
   "id": "a964e0ca",
   "metadata": {
    "slideshow": {
     "slide_type": "subslide"
    }
   },
   "source": [
    "## Lecture outline\n",
    " - `while` loops\n",
    " - debugging tips\n",
    " - functions"
   ]
  },
  {
   "cell_type": "markdown",
   "id": "67120cb3",
   "metadata": {
    "slideshow": {
     "slide_type": "subslide"
    }
   },
   "source": [
    "### `while` loops"
   ]
  },
  {
   "cell_type": "markdown",
   "id": "b358df84",
   "metadata": {},
   "source": [
    "With `while` we can keep repeating code until one condition is met."
   ]
  },
  {
   "cell_type": "code",
   "execution_count": 25,
   "id": "b759daf8",
   "metadata": {
    "slideshow": {
     "slide_type": "subslide"
    }
   },
   "outputs": [
    {
     "name": "stdout",
     "output_type": "stream",
     "text": [
      "Value of i:  0\n",
      "Value of i:  1\n",
      "Value of i:  2\n",
      "Value of i:  3\n",
      "Value of i:  4\n",
      "Value of i:  5\n",
      "Value of i:  6\n",
      "Value of i:  7\n",
      "Value of i:  8\n",
      "Value of i:  9\n"
     ]
    }
   ],
   "source": [
    "# Very simple example (this would normally be a \"for\" loop):\n",
    "\n",
    "i = 0\n",
    "\n",
    "while i < 10:\n",
    "    print(\"Value of i: \", i)\n",
    "    i = i + 1"
   ]
  },
  {
   "cell_type": "code",
   "execution_count": 8,
   "id": "65109c7d",
   "metadata": {
    "slideshow": {
     "slide_type": "subslide"
    }
   },
   "outputs": [
    {
     "name": "stdout",
     "output_type": "stream",
     "text": [
      "Flip:  0\n",
      "Flip:  0\n",
      "Flip:  1\n"
     ]
    }
   ],
   "source": [
    "# a better example with random. Loop until coin flip is 1:\n",
    "import random\n",
    "\n",
    "coin_flip = 0\n",
    "\n",
    "while coin_flip == 0:\n",
    "    coin_flip = random.randint(0, 1)\n",
    "    print(\"Flip: \", coin_flip)"
   ]
  },
  {
   "cell_type": "markdown",
   "id": "e17ea982",
   "metadata": {},
   "source": [
    "Sometimes we can use alternatively `for` or `while`, but in general:\n",
    " - we use `for` when we know in advance the number of iterations\n",
    " - we use `while` if we do not know number of iterations beforehand"
   ]
  },
  {
   "cell_type": "markdown",
   "id": "e3fbba40",
   "metadata": {
    "slideshow": {
     "slide_type": "subslide"
    }
   },
   "source": [
    "#### `break`"
   ]
  },
  {
   "cell_type": "markdown",
   "id": "58f64232",
   "metadata": {},
   "source": [
    "We can `break` out of a loop:"
   ]
  },
  {
   "cell_type": "code",
   "execution_count": 9,
   "id": "1ae5a83f",
   "metadata": {},
   "outputs": [
    {
     "name": "stdout",
     "output_type": "stream",
     "text": [
      "0\n",
      "1\n",
      "2\n"
     ]
    }
   ],
   "source": [
    "i = 0\n",
    "\n",
    "while True:\n",
    "    if i == 3:\n",
    "        break\n",
    "    print(i)\n",
    "    i = i + 1"
   ]
  },
  {
   "cell_type": "markdown",
   "id": "3ed7dc2d",
   "metadata": {
    "slideshow": {
     "slide_type": "subslide"
    }
   },
   "source": [
    "It works both for `while` and `for` loops:"
   ]
  },
  {
   "cell_type": "code",
   "execution_count": 10,
   "id": "7a49e6d4",
   "metadata": {},
   "outputs": [
    {
     "name": "stdout",
     "output_type": "stream",
     "text": [
      "0\n",
      "1\n",
      "2\n"
     ]
    }
   ],
   "source": [
    "for i in range(10):\n",
    "    if i == 3:\n",
    "        break\n",
    "    print(i)\n"
   ]
  },
  {
   "cell_type": "markdown",
   "id": "cc2aa9f9",
   "metadata": {
    "slideshow": {
     "slide_type": "subslide"
    }
   },
   "source": [
    "(Practicals 0.3.0)"
   ]
  },
  {
   "cell_type": "markdown",
   "id": "5ca5eb5d",
   "metadata": {
    "slideshow": {
     "slide_type": "subslide"
    }
   },
   "source": [
    "## Reading errors"
   ]
  },
  {
   "cell_type": "markdown",
   "id": "b2ff56da",
   "metadata": {},
   "source": [
    "Python error messages can sometimes be informative (sometimes)."
   ]
  },
  {
   "cell_type": "markdown",
   "id": "4ac91a74",
   "metadata": {
    "slideshow": {
     "slide_type": "subslide"
    }
   },
   "source": [
    "## How to read error messages"
   ]
  },
  {
   "cell_type": "markdown",
   "id": "bac376cb",
   "metadata": {},
   "source": [
    "Error messages contain information about the code that was running when we got the issue - the so called <span style=\"color:indianred\">traceback</span>"
   ]
  },
  {
   "cell_type": "markdown",
   "id": "07209b14",
   "metadata": {},
   "source": [
    "<p align=\"center\">\n",
    "  <img src=\"./files/python_traceback_2.b27a4eb060a8.png\" />\n",
    "</p>"
   ]
  },
  {
   "cell_type": "markdown",
   "id": "4466627f",
   "metadata": {},
   "source": [
    "([source](https://www.google.com/url?sa=i&url=https%3A%2F%2Frealpython.com%2Fpython-traceback%2F&psig=AOvVaw0wTv9SSwmjCbWsFCTSqi1E&ust=1709943032292000&source=images&cd=vfe&opi=89978449&ved=2ahUKEwikhb2psOOEAxXN_7sIHQSUC8IQ3YkBegQIABAY) of the image and more on traceback interpretation)"
   ]
  },
  {
   "cell_type": "markdown",
   "id": "44acc438",
   "metadata": {
    "slideshow": {
     "slide_type": "subslide"
    }
   },
   "source": [
    "In simple code with no dependencies, the traceback will be very small and interpretable:"
   ]
  },
  {
   "cell_type": "code",
   "execution_count": 29,
   "id": "0216d514",
   "metadata": {},
   "outputs": [
    {
     "ename": "KeyError",
     "evalue": "'c'",
     "output_type": "error",
     "traceback": [
      "\u001b[0;31m---------------------------------------------------------------------------\u001b[0m",
      "\u001b[0;31mKeyError\u001b[0m                                  Traceback (most recent call last)",
      "Cell \u001b[0;32mIn[29], line 2\u001b[0m\n\u001b[1;32m      1\u001b[0m a_dict \u001b[38;5;241m=\u001b[39m {\u001b[38;5;124m\"\u001b[39m\u001b[38;5;124ma\u001b[39m\u001b[38;5;124m\"\u001b[39m: \u001b[38;5;241m1\u001b[39m, \u001b[38;5;124m\"\u001b[39m\u001b[38;5;124mb\u001b[39m\u001b[38;5;124m\"\u001b[39m: \u001b[38;5;241m2\u001b[39m}\n\u001b[0;32m----> 2\u001b[0m \u001b[43ma_dict\u001b[49m\u001b[43m[\u001b[49m\u001b[38;5;124;43m\"\u001b[39;49m\u001b[38;5;124;43mc\u001b[39;49m\u001b[38;5;124;43m\"\u001b[39;49m\u001b[43m]\u001b[49m\n",
      "\u001b[0;31mKeyError\u001b[0m: 'c'"
     ]
    }
   ],
   "source": [
    "a_dict = {\"a\": 1, \"b\": 2}\n",
    "a_dict[\"c\"]"
   ]
  },
  {
   "cell_type": "markdown",
   "id": "b633b7fb",
   "metadata": {
    "slideshow": {
     "slide_type": "subslide"
    }
   },
   "source": [
    "If we use functions and libraries, the traceback grows in length, and we need to know how to read it!"
   ]
  },
  {
   "cell_type": "code",
   "execution_count": 32,
   "id": "9592f479",
   "metadata": {},
   "outputs": [
    {
     "ename": "TypeError",
     "evalue": "can only concatenate str (not \"int\") to str",
     "output_type": "error",
     "traceback": [
      "\u001b[0;31m---------------------------------------------------------------------------\u001b[0m",
      "\u001b[0;31mTypeError\u001b[0m                                 Traceback (most recent call last)",
      "Cell \u001b[0;32mIn[32], line 3\u001b[0m\n\u001b[1;32m      1\u001b[0m \u001b[38;5;28;01mimport\u001b[39;00m \u001b[38;5;21;01mrandom\u001b[39;00m\n\u001b[0;32m----> 3\u001b[0m \u001b[43mrandom\u001b[49m\u001b[38;5;241;43m.\u001b[39;49m\u001b[43mrandint\u001b[49m\u001b[43m(\u001b[49m\u001b[38;5;241;43m0\u001b[39;49m\u001b[43m,\u001b[49m\u001b[43m \u001b[49m\u001b[38;5;124;43m\"\u001b[39;49m\u001b[38;5;124;43ma\u001b[39;49m\u001b[38;5;124;43m\"\u001b[39;49m\u001b[43m)\u001b[49m\n",
      "File \u001b[0;32m~/miniconda3/lib/python3.11/random.py:362\u001b[0m, in \u001b[0;36mRandom.randint\u001b[0;34m(self, a, b)\u001b[0m\n\u001b[1;32m    358\u001b[0m \u001b[38;5;28;01mdef\u001b[39;00m \u001b[38;5;21mrandint\u001b[39m(\u001b[38;5;28mself\u001b[39m, a, b):\n\u001b[1;32m    359\u001b[0m \u001b[38;5;250m    \u001b[39m\u001b[38;5;124;03m\"\"\"Return random integer in range [a, b], including both end points.\u001b[39;00m\n\u001b[1;32m    360\u001b[0m \u001b[38;5;124;03m    \"\"\"\u001b[39;00m\n\u001b[0;32m--> 362\u001b[0m     \u001b[38;5;28;01mreturn\u001b[39;00m \u001b[38;5;28mself\u001b[39m\u001b[38;5;241m.\u001b[39mrandrange(a, \u001b[43mb\u001b[49m\u001b[38;5;241;43m+\u001b[39;49m\u001b[38;5;241;43m1\u001b[39;49m)\n",
      "\u001b[0;31mTypeError\u001b[0m: can only concatenate str (not \"int\") to str"
     ]
    }
   ],
   "source": [
    "import random\n",
    "\n",
    "random.randint(0, \"a\")"
   ]
  },
  {
   "cell_type": "markdown",
   "id": "36f0fb13",
   "metadata": {
    "slideshow": {
     "slide_type": "subslide"
    }
   },
   "source": [
    "### Why errors can be tricky\n",
    "\n",
    "Many times, the ultimate problematic line that produces the error is the symptom of mistakes that happened upstream in the code (still, it is a good starting point for the diagnosis!)"
   ]
  },
  {
   "cell_type": "code",
   "execution_count": 34,
   "id": "6e0ba7b3",
   "metadata": {
    "slideshow": {
     "slide_type": "subslide"
    }
   },
   "outputs": [
    {
     "ename": "NameError",
     "evalue": "name 'non_existent_variable' is not defined",
     "output_type": "error",
     "traceback": [
      "\u001b[0;31m---------------------------------------------------------------------------\u001b[0m",
      "\u001b[0;31mNameError\u001b[0m                                 Traceback (most recent call last)",
      "Cell \u001b[0;32mIn[34], line 2\u001b[0m\n\u001b[1;32m      1\u001b[0m \u001b[38;5;66;03m# Simple: the variable just does not exist:\u001b[39;00m\n\u001b[0;32m----> 2\u001b[0m \u001b[38;5;28mprint\u001b[39m(\u001b[43mnon_existent_variable\u001b[49m)\n",
      "\u001b[0;31mNameError\u001b[0m: name 'non_existent_variable' is not defined"
     ]
    }
   ],
   "source": [
    "# Simple: the variable just does not exist:\n",
    "print(non_existent_variable)"
   ]
  },
  {
   "cell_type": "code",
   "execution_count": 35,
   "id": "4f405f0c",
   "metadata": {
    "slideshow": {
     "slide_type": "subslide"
    }
   },
   "outputs": [
    {
     "ename": "NameError",
     "evalue": "name 'supposedly_existent_variable' is not defined",
     "output_type": "error",
     "traceback": [
      "\u001b[0;31m---------------------------------------------------------------------------\u001b[0m",
      "\u001b[0;31mNameError\u001b[0m                                 Traceback (most recent call last)",
      "Cell \u001b[0;32mIn[35], line 3\u001b[0m\n\u001b[1;32m      1\u001b[0m \u001b[38;5;66;03m# Subtle: we just have a typo\u001b[39;00m\n\u001b[1;32m      2\u001b[0m supposedy_existent_variable \u001b[38;5;241m=\u001b[39m \u001b[38;5;241m1\u001b[39m\n\u001b[0;32m----> 3\u001b[0m \u001b[38;5;28mprint\u001b[39m(\u001b[43msupposedly_existent_variable\u001b[49m)\n",
      "\u001b[0;31mNameError\u001b[0m: name 'supposedly_existent_variable' is not defined"
     ]
    }
   ],
   "source": [
    "# Subtle: we just have a typo\n",
    "supposedy_existent_variable = 1\n",
    "print(supposedly_existent_variable)"
   ]
  },
  {
   "cell_type": "code",
   "execution_count": 36,
   "id": "239db948",
   "metadata": {
    "slideshow": {
     "slide_type": "subslide"
    }
   },
   "outputs": [
    {
     "ename": "NameError",
     "evalue": "name 'supposedly_existent_variable' is not defined",
     "output_type": "error",
     "traceback": [
      "\u001b[0;31m---------------------------------------------------------------------------\u001b[0m",
      "\u001b[0;31mNameError\u001b[0m                                 Traceback (most recent call last)",
      "Cell \u001b[0;32mIn[36], line 5\u001b[0m\n\u001b[1;32m      3\u001b[0m \u001b[38;5;28;01mif\u001b[39;00m a \u001b[38;5;129;01mis\u001b[39;00m \u001b[38;5;28;01mNone\u001b[39;00m:\n\u001b[1;32m      4\u001b[0m     supposedly_existent_variable \u001b[38;5;241m=\u001b[39m \u001b[38;5;241m1\u001b[39m\n\u001b[0;32m----> 5\u001b[0m \u001b[38;5;28mprint\u001b[39m(\u001b[43msupposedly_existent_variable\u001b[49m)\n",
      "\u001b[0;31mNameError\u001b[0m: name 'supposedly_existent_variable' is not defined"
     ]
    }
   ],
   "source": [
    "# Indirect: code we rely upon was not executed:\n",
    "a = 10\n",
    "if a is None:\n",
    "    supposedly_existent_variable = 1\n",
    "print(supposedly_existent_variable)"
   ]
  },
  {
   "cell_type": "markdown",
   "id": "a77f7b8e",
   "metadata": {
    "slideshow": {
     "slide_type": "subslide"
    }
   },
   "source": [
    "## A simple debugging strategy"
   ]
  },
  {
   "cell_type": "markdown",
   "id": "46e8540b",
   "metadata": {},
   "source": [
    "Many times debugging consists in:\n",
    " - finding problems in the expected flow of the code\n",
    " - finding problems in the expected outcome of code lines\n",
    " \n",
    "For both, printing out variable from time to time can be a very effective debugging strategy"
   ]
  },
  {
   "cell_type": "code",
   "execution_count": 37,
   "id": "3a9b1e7c",
   "metadata": {
    "slideshow": {
     "slide_type": "subslide"
    }
   },
   "outputs": [
    {
     "ename": "NameError",
     "evalue": "name 'supposedly_existent_variable' is not defined",
     "output_type": "error",
     "traceback": [
      "\u001b[0;31m---------------------------------------------------------------------------\u001b[0m",
      "\u001b[0;31mNameError\u001b[0m                                 Traceback (most recent call last)",
      "Cell \u001b[0;32mIn[37], line 6\u001b[0m\n\u001b[1;32m      4\u001b[0m     \u001b[38;5;28mprint\u001b[39m(\u001b[38;5;124m\"\u001b[39m\u001b[38;5;124mI\u001b[39m\u001b[38;5;124m'\u001b[39m\u001b[38;5;124mm assuming this line is executed\u001b[39m\u001b[38;5;124m\"\u001b[39m)\n\u001b[1;32m      5\u001b[0m     supposedly_existent_variable \u001b[38;5;241m=\u001b[39m \u001b[38;5;241m1\u001b[39m\n\u001b[0;32m----> 6\u001b[0m \u001b[38;5;28mprint\u001b[39m(\u001b[43msupposedly_existent_variable\u001b[49m)\n",
      "\u001b[0;31mNameError\u001b[0m: name 'supposedly_existent_variable' is not defined"
     ]
    }
   ],
   "source": [
    "# For the previous example:\n",
    "a = 10\n",
    "if a is None:\n",
    "    print(\"I'm assuming this line is executed\")\n",
    "    supposedly_existent_variable = 1\n",
    "print(supposedly_existent_variable)"
   ]
  },
  {
   "cell_type": "markdown",
   "id": "aff2b94a",
   "metadata": {
    "slideshow": {
     "slide_type": "subslide"
    }
   },
   "source": [
    "### Very important: how to approach errors\n",
    "\n",
    "When learning how to code, you spend most of your time fixing bugs, and that is normal!\n",
    "\n",
    "Remember that errors are The Way To Learn Stuff\n",
    "\n",
    "Here's some useful principles to keep in mind:"
   ]
  },
  {
   "cell_type": "markdown",
   "id": "cc4a605e",
   "metadata": {
    "slideshow": {
     "slide_type": "subslide"
    }
   },
   "source": [
    "<p align=\"center\">\n",
    "  <img src=\"./files/errors_0.png\" />\n",
    "</p>"
   ]
  },
  {
   "cell_type": "markdown",
   "id": "d8c30fc6",
   "metadata": {
    "slideshow": {
     "slide_type": "subslide"
    }
   },
   "source": [
    "<p align=\"center\">\n",
    "  <img src=\"./files/errors_1.png\" />\n",
    "</p>"
   ]
  },
  {
   "cell_type": "markdown",
   "id": "3878a761",
   "metadata": {
    "slideshow": {
     "slide_type": "subslide"
    }
   },
   "source": [
    "<p align=\"center\">\n",
    "  <img src=\"./files/errors_2.png\" />\n",
    "</p>"
   ]
  },
  {
   "cell_type": "markdown",
   "id": "37be4b27",
   "metadata": {
    "slideshow": {
     "slide_type": "subslide"
    }
   },
   "source": [
    "<p align=\"center\">\n",
    "  <img src=\"./files/errors_3.png\" />\n",
    "</p>"
   ]
  },
  {
   "cell_type": "markdown",
   "id": "23bfe2ab",
   "metadata": {},
   "source": [
    "(Comics [source](https://jvns.ca/blog/2022/12/08/a-debugging-manifesto/))\n",
    "\n",
    "(also, the [ultimate](https://xkcd.com/1024/) suggestion for error code management)"
   ]
  },
  {
   "cell_type": "markdown",
   "id": "00e0bad3",
   "metadata": {
    "slideshow": {
     "slide_type": "slide"
    }
   },
   "source": [
    "## Functions"
   ]
  },
  {
   "cell_type": "markdown",
   "id": "acb8c43d",
   "metadata": {},
   "source": [
    "A function is a re-usable piece of code that performs operations on a specified set of variables, and returns the result."
   ]
  },
  {
   "cell_type": "markdown",
   "id": "99b2f110",
   "metadata": {},
   "source": [
    "Every time you are duplicating a bunch of code you might need a function!"
   ]
  },
  {
   "cell_type": "code",
   "execution_count": 2,
   "id": "ca2f9276",
   "metadata": {
    "slideshow": {
     "slide_type": "subslide"
    }
   },
   "outputs": [],
   "source": [
    "# let's calculate the mean of those values:\n",
    "list_1 = [1, 2, 3, 4]\n",
    "list_2 = [4, 5, 6, 7]\n",
    "\n",
    "mean_1 = sum(list_1) / len(list_1)\n",
    "mean_2 = sum(list_2) / len(list_2)"
   ]
  },
  {
   "cell_type": "code",
   "execution_count": 4,
   "id": "642f4dd5",
   "metadata": {
    "slideshow": {
     "slide_type": "subslide"
    }
   },
   "outputs": [
    {
     "ename": "NameError",
     "evalue": "name 'mean' is not defined",
     "output_type": "error",
     "traceback": [
      "\u001b[0;31m---------------------------------------------------------------------------\u001b[0m",
      "\u001b[0;31mNameError\u001b[0m                                 Traceback (most recent call last)",
      "Cell \u001b[0;32mIn[4], line 10\u001b[0m\n\u001b[1;32m      6\u001b[0m     \u001b[38;5;28;01mreturn\u001b[39;00m mean\n\u001b[1;32m      9\u001b[0m mean_1 \u001b[38;5;241m=\u001b[39m list_average(list_1)\n\u001b[0;32m---> 10\u001b[0m \u001b[38;5;28mprint\u001b[39m(\u001b[43mmean\u001b[49m)\n",
      "\u001b[0;31mNameError\u001b[0m: name 'mean' is not defined"
     ]
    }
   ],
   "source": [
    "def list_average(input_list):\n",
    "    \"\"\"Compute the average of values in a list\"\"\"\n",
    "\n",
    "    mean = sum(input_list) / len(input_list)\n",
    "\n",
    "    return mean\n",
    "\n",
    "\n",
    "mean_1 = list_average(list_1)\n",
    "print(mean)"
   ]
  },
  {
   "cell_type": "markdown",
   "id": "e3555b23",
   "metadata": {
    "slideshow": {
     "slide_type": "subslide"
    }
   },
   "source": [
    "### Anatomy of a function"
   ]
  },
  {
   "cell_type": "markdown",
   "id": "59812e75",
   "metadata": {},
   "source": [
    "<p align=\"center\">\n",
    "  <img src=\"./files/function_anatomy.png\" />\n",
    "</p>"
   ]
  },
  {
   "cell_type": "markdown",
   "id": "075254e3",
   "metadata": {
    "slideshow": {
     "slide_type": "subslide"
    }
   },
   "source": [
    "**A function definition has**:\n",
    "  - a <span style=\"color:indianred\">name</span> that describes it, that we use to call it in the code (followed by `()`)\n",
    "  - <span style=\"color:indianred\">arguments</span> that we pass between the round brackets\n",
    "  -  <span style=\"color:indianred\">`return`ed values</span> that we can assign to new variables\n",
    "  - (optional but strongly recommended): a <span style=\"color:indianred\">docstring</span> (a documentation string)"
   ]
  },
  {
   "cell_type": "markdown",
   "id": "68012f3d",
   "metadata": {
    "slideshow": {
     "slide_type": "subslide"
    }
   },
   "source": [
    "### Arguments of a function"
   ]
  },
  {
   "cell_type": "markdown",
   "id": "1a0d1c55",
   "metadata": {},
   "source": [
    "A function can have multiple input values:"
   ]
  },
  {
   "cell_type": "code",
   "execution_count": 6,
   "id": "270f40e1",
   "metadata": {},
   "outputs": [
    {
     "name": "stdout",
     "output_type": "stream",
     "text": [
      "Something!\n"
     ]
    }
   ],
   "source": [
    "# write a function that print the exponentiation of a number by the other:\n",
    "def print_something():\n",
    "    print(\"Something!\")\n",
    "\n",
    "def exponentiate(a, b):\n",
    "    return a**b\n",
    "c = 2\n",
    "d = 3\n",
    "exponentiate(d, c)\n",
    "print_something()"
   ]
  },
  {
   "cell_type": "markdown",
   "id": "b7d4c09d",
   "metadata": {
    "slideshow": {
     "slide_type": "subslide"
    }
   },
   "source": [
    "Some of the function arguments can have default values:"
   ]
  },
  {
   "cell_type": "code",
   "execution_count": 9,
   "id": "1b2aafcc",
   "metadata": {},
   "outputs": [
    {
     "ename": "TypeError",
     "evalue": "print_args() missing 1 required positional argument: 'b'",
     "output_type": "error",
     "traceback": [
      "\u001b[0;31m---------------------------------------------------------------------------\u001b[0m",
      "\u001b[0;31mTypeError\u001b[0m                                 Traceback (most recent call last)",
      "Cell \u001b[0;32mIn[9], line 8\u001b[0m\n\u001b[1;32m      4\u001b[0m \u001b[38;5;28;01mdef\u001b[39;00m \u001b[38;5;21mprint_args\u001b[39m(a, b, c\u001b[38;5;241m=\u001b[39m\u001b[38;5;241m3\u001b[39m):\n\u001b[1;32m      5\u001b[0m     \u001b[38;5;28mprint\u001b[39m(\u001b[38;5;124mf\u001b[39m\u001b[38;5;124m\"\u001b[39m\u001b[38;5;124ma=\u001b[39m\u001b[38;5;132;01m{\u001b[39;00ma\u001b[38;5;132;01m}\u001b[39;00m\u001b[38;5;124m, b=\u001b[39m\u001b[38;5;132;01m{\u001b[39;00mb\u001b[38;5;132;01m}\u001b[39;00m\u001b[38;5;124m, c=\u001b[39m\u001b[38;5;132;01m{\u001b[39;00mc\u001b[38;5;132;01m}\u001b[39;00m\u001b[38;5;124m\"\u001b[39m)\n\u001b[0;32m----> 8\u001b[0m \u001b[43mprint_args\u001b[49m\u001b[43m(\u001b[49m\u001b[38;5;241;43m1\u001b[39;49m\u001b[43m)\u001b[49m\n",
      "\u001b[0;31mTypeError\u001b[0m: print_args() missing 1 required positional argument: 'b'"
     ]
    }
   ],
   "source": [
    "# A function with default values:\n",
    "\n",
    "\n",
    "def print_args(a, b, c=3):\n",
    "    print(f\"a={a}, b={b}, c={c}\")\n",
    "\n",
    "\n",
    "print_args(1)"
   ]
  },
  {
   "cell_type": "markdown",
   "id": "cacfc9aa",
   "metadata": {
    "slideshow": {
     "slide_type": "subslide"
    }
   },
   "source": [
    "We can pass the function values:\n",
    "  - by position (**positional arguments**)\n",
    "  - by keyword  (**keyword arguments**)\n",
    "  \n",
    "Positional arguments should precede keyword arguments!"
   ]
  },
  {
   "cell_type": "code",
   "execution_count": 47,
   "id": "7e6a341a",
   "metadata": {
    "slideshow": {
     "slide_type": "subslide"
    }
   },
   "outputs": [
    {
     "name": "stdout",
     "output_type": "stream",
     "text": [
      "By position, variable identity is inferred based on the arguments order\n",
      "a=1, b=2, c=3\n",
      "By keyword, we can specify separately each variable\n",
      "a=2, b=3, c=1\n"
     ]
    }
   ],
   "source": [
    "def print_args(a, b, c=2):\n",
    "    print(f\"a={a}, b={b}, c={c}\")\n",
    "\n",
    "\n",
    "# try passing stuff by position\n",
    "print(\"By position, variable identity is inferred based on the arguments order\")\n",
    "print_args(1, 2, 3)\n",
    "\n",
    "print(\"By keyword, we can specify separately each variable\")\n",
    "# try passing stuff by keyword:\n",
    "print_args(c=1, a=2, b=3)"
   ]
  },
  {
   "cell_type": "markdown",
   "id": "1c8d78f7",
   "metadata": {
    "slideshow": {
     "slide_type": "subslide"
    }
   },
   "source": [
    "**Note**: positional and keyword arguments can be specified regardless of whether they are required or default-valued (in the function above, we can pass any of `a`, `b`, `c` by position or by value)"
   ]
  },
  {
   "cell_type": "markdown",
   "id": "d2d88b59",
   "metadata": {},
   "source": [
    "(Practicals 0.3.1)"
   ]
  },
  {
   "cell_type": "markdown",
   "id": "58ed67ff",
   "metadata": {
    "slideshow": {
     "slide_type": "subslide"
    }
   },
   "source": [
    "Unless we specifically implement type checks, a function will not control for the type of the inputs, but will work with whatever we pass"
   ]
  },
  {
   "cell_type": "code",
   "execution_count": 14,
   "id": "fee83430",
   "metadata": {
    "slideshow": {
     "slide_type": "subslide"
    }
   },
   "outputs": [
    {
     "name": "stdout",
     "output_type": "stream",
     "text": [
      "Input: 2 (<class 'int'>); result: 10\n",
      "Input: 2.0 (<class 'float'>); result: 10.0\n",
      "Input: 2 (<class 'str'>); result: 22222\n"
     ]
    }
   ],
   "source": [
    "# This will run the function and produce unexpected\n",
    "# results with the wrong input type, without giving errors:\n",
    "def square_numbers(input_number):\n",
    "    return input_number * 5\n",
    "\n",
    "# Test different inputs to the function:\n",
    "for input_to_test in [2, 2., \"2\"]:\n",
    "    print(f\"Input: {input_to_test} ({type(input_to_test)}); result: {square_numbers(input_to_test)}\")"
   ]
  },
  {
   "cell_type": "markdown",
   "id": "c2dfc5a8",
   "metadata": {
    "slideshow": {
     "slide_type": "subslide"
    }
   },
   "source": [
    "### The principle of duck typing"
   ]
  },
  {
   "cell_type": "markdown",
   "id": "83f4c343",
   "metadata": {},
   "source": [
    "The duck test:\n",
    "\n",
    "    🦆 If it walks like a duck \n",
    "    and it quacks like a duck, \n",
    "    then it's probably a duck 🦆"
   ]
  },
  {
   "cell_type": "markdown",
   "id": "d781dbf1",
   "metadata": {},
   "source": [
    "With duck typing we mean that Python does not impose or check automatically the type of the variables passed to a function."
   ]
  },
  {
   "cell_type": "markdown",
   "id": "f3d3498f",
   "metadata": {
    "slideshow": {
     "slide_type": "subslide"
    }
   },
   "source": [
    "<p align=\"center\">\n",
    "  <img src=\"./files/duck_typing.png\" />\n",
    "</p>\n"
   ]
  },
  {
   "cell_type": "markdown",
   "id": "3d20ccc0",
   "metadata": {
    "slideshow": {
     "slide_type": "subslide"
    }
   },
   "source": [
    "### Type hints"
   ]
  },
  {
   "cell_type": "markdown",
   "id": "0c928570",
   "metadata": {},
   "source": [
    "In modern python there are ways of suggesting the best type for a function's argument."
   ]
  },
  {
   "cell_type": "code",
   "execution_count": null,
   "id": "54ebc51e",
   "metadata": {
    "slideshow": {
     "slide_type": "subslide"
    }
   },
   "outputs": [],
   "source": [
    "def repeat_string(string: str, num: int = 5) -> str:\n",
    "    \"\"\"Repeat a string num times.\"\"\"\n",
    "    return string * num"
   ]
  },
  {
   "cell_type": "markdown",
   "id": "127d0f71",
   "metadata": {},
   "source": [
    "In this way, smart IDEs can tell us when we code if there is something strange, and type checkers can be run on code to make sure functions are called with the correct inputs."
   ]
  },
  {
   "cell_type": "markdown",
   "id": "fbf8fc87",
   "metadata": {
    "slideshow": {
     "slide_type": "subslide"
    }
   },
   "source": [
    "### Values returned by a function"
   ]
  },
  {
   "cell_type": "markdown",
   "id": "ea12bb38",
   "metadata": {},
   "source": [
    "We use the special `return` keyword to specify what is the function output:"
   ]
  },
  {
   "cell_type": "code",
   "execution_count": 7,
   "id": "fa70e441",
   "metadata": {},
   "outputs": [
    {
     "data": {
      "text/plain": [
       "1"
      ]
     },
     "execution_count": 7,
     "metadata": {},
     "output_type": "execute_result"
    }
   ],
   "source": [
    "def simple_function():\n",
    "    return 1\n",
    "\n",
    "result = simple_function()\n",
    "result"
   ]
  },
  {
   "cell_type": "markdown",
   "id": "80f78d55",
   "metadata": {
    "slideshow": {
     "slide_type": "subslide"
    }
   },
   "source": [
    "Functions always have a `return` even when we don't see it! \n",
    "\n",
    "If we do not specify it (as we should), it is `None`."
   ]
  },
  {
   "cell_type": "code",
   "execution_count": 16,
   "id": "b0b750ae",
   "metadata": {
    "slideshow": {
     "slide_type": "subslide"
    }
   },
   "outputs": [
    {
     "name": "stdout",
     "output_type": "stream",
     "text": [
      "Function 1 called\n",
      "None\n"
     ]
    }
   ],
   "source": [
    "# Those two functions return the same value:\n",
    "def print_function_0():\n",
    "    print(\"Function 0 called\")\n",
    "    return \n",
    "\n",
    "def print_function_1():\n",
    "    print(\"Function 1 called\")\n",
    "\n",
    "print(print_function_1())"
   ]
  },
  {
   "cell_type": "code",
   "execution_count": 17,
   "id": "481dfbd2",
   "metadata": {
    "slideshow": {
     "slide_type": "subslide"
    }
   },
   "outputs": [],
   "source": [
    "\n",
    "def return_fixed_values():\n",
    "    return 1, \"a\""
   ]
  },
  {
   "cell_type": "code",
   "execution_count": 23,
   "id": "c7afc366",
   "metadata": {},
   "outputs": [
    {
     "name": "stdout",
     "output_type": "stream",
     "text": [
      "1\n",
      "a\n"
     ]
    }
   ],
   "source": [
    "value0, value1 = return_fixed_values()\n",
    "print(value0)\n",
    "print(value1)"
   ]
  },
  {
   "cell_type": "markdown",
   "id": "5fe6749d",
   "metadata": {
    "slideshow": {
     "slide_type": "subslide"
    }
   },
   "source": [
    "### Naming functions"
   ]
  },
  {
   "cell_type": "markdown",
   "id": "83cad83f",
   "metadata": {},
   "source": [
    "Always use the `lowercase_underscore()` syntax that we use for variables."
   ]
  },
  {
   "cell_type": "markdown",
   "id": "092a74fd",
   "metadata": {},
   "source": [
    "Use names that describe the main aim of the function! Ideally, use verbs!"
   ]
  },
  {
   "cell_type": "code",
   "execution_count": null,
   "id": "2497c7c5",
   "metadata": {
    "slideshow": {
     "slide_type": "subslide"
    }
   },
   "outputs": [],
   "source": [
    "def foo():  # bad\n",
    "    pass\n",
    "\n",
    "def mean():  # good\n",
    "    pass\n",
    "\n",
    "def calculate_mean():  # better\n",
    "    pass\n"
   ]
  },
  {
   "cell_type": "markdown",
   "id": "e6725c24",
   "metadata": {
    "slideshow": {
     "slide_type": "subslide"
    }
   },
   "source": [
    "Using function names, you can treat them as variables of any kind.\n",
    "\n",
    "_E.g._ you can create lists or dictionaries of functions! "
   ]
  },
  {
   "cell_type": "code",
   "execution_count": null,
   "id": "c9642772",
   "metadata": {},
   "outputs": [],
   "source": [
    "def multiply_numbers(x, y):\n",
    "    return x * y\n",
    "\n",
    "\n",
    "def add_numbers(x, y):\n",
    "    return x + y\n",
    "\n",
    "\n",
    "function_dict = {\"multiply\": multiply_numbers, \"add\": add_numbers}"
   ]
  },
  {
   "cell_type": "markdown",
   "id": "57c1e217",
   "metadata": {
    "slideshow": {
     "slide_type": "subslide"
    }
   },
   "source": [
    "### Function docstrings"
   ]
  },
  {
   "cell_type": "markdown",
   "id": "bcf19dc3",
   "metadata": {},
   "source": [
    "Functions should have docstrings! Those document a bit the process of the function, and describe what the arguments and the returned values are."
   ]
  },
  {
   "cell_type": "code",
   "execution_count": 24,
   "id": "14717eb1",
   "metadata": {
    "slideshow": {
     "slide_type": "subslide"
    }
   },
   "outputs": [],
   "source": [
    "def exponentiate(a, b=2):\n",
    "    \"\"\"Compute a power using argument a as base and b as exponent\n",
    "\n",
    "    Parameters:\n",
    "        a : int or float\n",
    "            base of the exponentiation\n",
    "        b : int or float (optional, default 2)\n",
    "            power of the exponentiation\n",
    "\n",
    "    Return:\n",
    "        int or float\n",
    "            The computed power\n",
    "\n",
    "    \"\"\"\n",
    "    return a**b"
   ]
  },
  {
   "cell_type": "code",
   "execution_count": 25,
   "id": "e648b1c4",
   "metadata": {
    "slideshow": {
     "slide_type": "subslide"
    }
   },
   "outputs": [],
   "source": [
    "# We can read out documentation for our custom functions:\n",
    "?exponentiate"
   ]
  },
  {
   "cell_type": "markdown",
   "id": "d6ae0ba8",
   "metadata": {},
   "source": [
    "Docstrings can be easily retrieved in an IDE such as a notebook!"
   ]
  },
  {
   "cell_type": "markdown",
   "id": "382895ef",
   "metadata": {},
   "source": [
    "(Practicals 0.3.2)"
   ]
  },
  {
   "cell_type": "markdown",
   "id": "0800d31d",
   "metadata": {
    "slideshow": {
     "slide_type": "subslide"
    }
   },
   "source": [
    "## [optional] The `is` comparator"
   ]
  },
  {
   "cell_type": "markdown",
   "id": "7efdcdf0",
   "metadata": {},
   "source": [
    "`is` normally checks if two things are **really, really the same** - that is, if they refer to the same object in memory:"
   ]
  },
  {
   "cell_type": "code",
   "execution_count": 31,
   "id": "936a9f80",
   "metadata": {
    "slideshow": {
     "slide_type": "subslide"
    }
   },
   "outputs": [
    {
     "data": {
      "text/plain": [
       "True"
      ]
     },
     "execution_count": 31,
     "metadata": {},
     "output_type": "execute_result"
    }
   ],
   "source": [
    "a_list = [1,2,3]\n",
    "identical_list = [1,2,3]\n",
    "\n",
    "a_list == identical_list"
   ]
  },
  {
   "cell_type": "code",
   "execution_count": 32,
   "id": "845fcc0f",
   "metadata": {},
   "outputs": [
    {
     "data": {
      "text/plain": [
       "False"
      ]
     },
     "execution_count": 32,
     "metadata": {},
     "output_type": "execute_result"
    }
   ],
   "source": [
    "a_list is identical_list"
   ]
  },
  {
   "cell_type": "code",
   "execution_count": 33,
   "id": "7a13d7d5",
   "metadata": {},
   "outputs": [
    {
     "data": {
      "text/plain": [
       "True"
      ]
     },
     "execution_count": 33,
     "metadata": {},
     "output_type": "execute_result"
    }
   ],
   "source": [
    "memory_alias_list = a_list  # in this way we are pointing in the same memory place\n",
    "\n",
    "memory_alias_list is a_list"
   ]
  }
 ],
 "metadata": {
  "celltoolbar": "Slideshow",
  "kernelspec": {
   "display_name": "Python 3 (ipykernel)",
   "language": "python",
   "name": "python3"
  },
  "language_info": {
   "codemirror_mode": {
    "name": "ipython",
    "version": 3
   },
   "file_extension": ".py",
   "mimetype": "text/x-python",
   "name": "python",
   "nbconvert_exporter": "python",
   "pygments_lexer": "ipython3",
   "version": "3.11.6"
  }
 },
 "nbformat": 4,
 "nbformat_minor": 5
}
