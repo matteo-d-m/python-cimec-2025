{
 "cells": [
  {
   "cell_type": "markdown",
   "id": "3ca811a3",
   "metadata": {
    "slideshow": {
     "slide_type": "slide"
    }
   },
   "source": [
    "# Python for (open) Neuroscience\n",
    "\n",
    "_Lecture 1.0_ - Introduction to `numpy`\n",
    "\n",
    "Luigi Petrucco\n",
    "\n",
    "[![Open In Colab](https://colab.research.google.com/assets/colab-badge.svg)](https://colab.research.google.com/github/vigji/python-cimec-2024/blob/main/lectures/Lecture1.0_Numpy-intro.ipynb)"
   ]
  },
  {
   "cell_type": "markdown",
   "id": "675a5de0",
   "metadata": {
    "slideshow": {
     "slide_type": "slide"
    }
   },
   "source": [
    "## Working with libraries (/packages/modules)"
   ]
  },
  {
   "cell_type": "markdown",
   "id": "bbb8cdbc",
   "metadata": {},
   "source": [
    "We can import external libraries using `import`.\n",
    "\n",
    "Sometimes, external libraries will need to be installed (but Colab already features the ones we will be using now). We will see in a future lecture more on installing libraries."
   ]
  },
  {
   "cell_type": "code",
   "execution_count": null,
   "id": "a4765f8f",
   "metadata": {
    "slideshow": {
     "slide_type": "subslide"
    }
   },
   "outputs": [],
   "source": [
    "# this command adds a whole bunch of functions and classes for us to use:\n",
    "import numpy\n",
    "\n",
    "# This function creates an array from a list:\n",
    "numpy.array([1,2,3])"
   ]
  },
  {
   "cell_type": "markdown",
   "id": "b48e2ada",
   "metadata": {
    "slideshow": {
     "slide_type": "subslide"
    }
   },
   "source": [
    "We can give aliases to the library we import for the sake of brevity:"
   ]
  },
  {
   "cell_type": "code",
   "execution_count": null,
   "id": "672eb10a",
   "metadata": {},
   "outputs": [],
   "source": [
    "import numpy as np\n",
    "np.array([1,2,3])"
   ]
  },
  {
   "cell_type": "markdown",
   "id": "86a06e74",
   "metadata": {
    "slideshow": {
     "slide_type": "subslide"
    }
   },
   "source": [
    "We can also import specific functions (or classes) from a library with this syntax:"
   ]
  },
  {
   "cell_type": "code",
   "execution_count": null,
   "id": "374999a1",
   "metadata": {},
   "outputs": [],
   "source": [
    "from numpy import array\n",
    "array([1,2,3])"
   ]
  },
  {
   "cell_type": "markdown",
   "id": "7220db85",
   "metadata": {
    "slideshow": {
     "slide_type": "subslide"
    }
   },
   "source": [
    "## The `numpy` library"
   ]
  },
  {
   "cell_type": "markdown",
   "id": "cfd35672",
   "metadata": {},
   "source": [
    "NumPy is a Python library to create, manipulate, and combine arrays. \n",
    "\n",
    "An array is an ordered collection of items that can be accessed via an index. \n",
    "\n",
    "While they may seem similar to lists, arrays are much more powerful because they support a wealth of operations that cannot be performed on lists. "
   ]
  },
  {
   "cell_type": "markdown",
   "id": "747bfdc9",
   "metadata": {
    "slideshow": {
     "slide_type": "subslide"
    }
   },
   "source": [
    "## Array arithmetics\n",
    "\n",
    "Arrays let us do entirely new operations:"
   ]
  },
  {
   "cell_type": "code",
   "execution_count": null,
   "id": "6b26a3e6",
   "metadata": {},
   "outputs": [],
   "source": [
    "# With lists, there is no way to do vector operations:\n",
    "[5, 5, 5] - [1, 1, 1]  "
   ]
  },
  {
   "cell_type": "code",
   "execution_count": null,
   "id": "0ac09a24",
   "metadata": {},
   "outputs": [],
   "source": [
    "import numpy as np\n",
    "np.array([5, 5, 5]) - np.array([1, 1, 1])"
   ]
  },
  {
   "cell_type": "markdown",
   "id": "2ac5b7eb",
   "metadata": {
    "slideshow": {
     "slide_type": "subslide"
    }
   },
   "source": [
    "### A small note on credit & citations"
   ]
  },
  {
   "cell_type": "markdown",
   "id": "153fd9c3",
   "metadata": {},
   "source": [
    "Many times we forget to do so, but remember: there's scientists behind many open-source tools, and citations are the way we can reward them in academic currency! \n",
    "\n",
    "(but buy them beer if you ever encounter them in person 🍺)"
   ]
  },
  {
   "cell_type": "markdown",
   "id": "a244d341",
   "metadata": {},
   "source": [
    "    Harris, C.R., Millman, K.J., van der Walt, S.J. et al. Array programming with NumPy. Nature 585, 357–362 (2020). DOI: 10.1038/s41586-020-2649-2"
   ]
  },
  {
   "cell_type": "markdown",
   "id": "d040df72",
   "metadata": {
    "slideshow": {
     "slide_type": "subslide"
    }
   },
   "source": [
    "Let's import the library!"
   ]
  },
  {
   "cell_type": "code",
   "execution_count": 5,
   "id": "f08a99d7",
   "metadata": {},
   "outputs": [],
   "source": [
    "import numpy as np"
   ]
  },
  {
   "cell_type": "markdown",
   "id": "e7ef3f90",
   "metadata": {
    "slideshow": {
     "slide_type": "subslide"
    }
   },
   "source": [
    "## `np.ndarray`"
   ]
  },
  {
   "cell_type": "markdown",
   "id": "d1e4f825",
   "metadata": {
    "slideshow": {
     "slide_type": "fragment"
    }
   },
   "source": [
    "Data type (a class!) representing N-dimensional arrays"
   ]
  },
  {
   "cell_type": "markdown",
   "id": "36b9d61c",
   "metadata": {
    "slideshow": {
     "slide_type": "fragment"
    }
   },
   "source": [
    "Workhorse of scientific computing!"
   ]
  },
  {
   "cell_type": "markdown",
   "id": "c9f8c53b",
   "metadata": {
    "slideshow": {
     "slide_type": "subslide"
    }
   },
   "source": [
    "A note on language: when we say `array` we do not imply any number (`n`) of dimensions:\n",
    "- <span style=\"color:indianred\">vectors</span> will be arrays with `n=1` (i.e., 1D)\n",
    "- <span style=\"color:indianred\">matrices</span> will be arrays with `n=2` (i.e., 2D)\n",
    "- <span style=\"color:indianred\">tensors</span> will be arrays with `n>=3` (i.e., 3D or more)"
   ]
  },
  {
   "cell_type": "markdown",
   "id": "fd7d3f21",
   "metadata": {
    "slideshow": {
     "slide_type": "subslide"
    }
   },
   "source": [
    "Related note: there is a `np.matrix` class in `numpy`, but you **should not** use it; it has not been adopted much and  it might be removed soon!"
   ]
  },
  {
   "cell_type": "markdown",
   "id": "0f8d645d",
   "metadata": {
    "slideshow": {
     "slide_type": "subslide"
    }
   },
   "source": [
    "`np.ndarray` is a powerful data storing structure:"
   ]
  },
  {
   "cell_type": "markdown",
   "id": "f8266d94",
   "metadata": {
    "slideshow": {
     "slide_type": "fragment"
    }
   },
   "source": [
    "- it uses memory very efficiently even for large data (imaging data, movies, ephys...)"
   ]
  },
  {
   "cell_type": "markdown",
   "id": "d8e97eb1",
   "metadata": {
    "slideshow": {
     "slide_type": "fragment"
    }
   },
   "source": [
    "- it gives powerful indexing functionalities"
   ]
  },
  {
   "cell_type": "markdown",
   "id": "cf785c08",
   "metadata": {
    "slideshow": {
     "slide_type": "fragment"
    }
   },
   "source": [
    "- implements vectors/matrices algebric operations"
   ]
  },
  {
   "cell_type": "markdown",
   "id": "66ed055a",
   "metadata": {
    "slideshow": {
     "slide_type": "subslide"
    }
   },
   "source": [
    "### Note for the MATLAB addicts"
   ]
  },
  {
   "cell_type": "markdown",
   "id": "347397f7",
   "metadata": {},
   "source": [
    "The NumPy documentation provides a [useful cheatsheet](https://numpy.org/doc/stable/user/numpy-for-matlab-users.html) to facilitate the transition from MATLAB to NumPy arrays!"
   ]
  },
  {
   "cell_type": "markdown",
   "id": "dde2a7b1",
   "metadata": {
    "slideshow": {
     "slide_type": "subslide"
    }
   },
   "source": [
    "## Creating arrays"
   ]
  },
  {
   "cell_type": "markdown",
   "id": "5b0ce913",
   "metadata": {
    "slideshow": {
     "slide_type": "subslide"
    }
   },
   "source": [
    "### Initialize empty arrays"
   ]
  },
  {
   "cell_type": "markdown",
   "id": "c42d5a3b",
   "metadata": {},
   "source": [
    "#### `np.zeros()`\n",
    "\n",
    "We can create a simple array of zeros using the `np.zeros` function, and passing it a single integer n to create a 1D vector of length n:\n"
   ]
  },
  {
   "cell_type": "code",
   "execution_count": null,
   "id": "e7474a19",
   "metadata": {},
   "outputs": [],
   "source": [
    "np.zeros(2)  # we pass a single integer for a 1D array"
   ]
  },
  {
   "cell_type": "markdown",
   "id": "2fc0222e",
   "metadata": {
    "slideshow": {
     "slide_type": "subslide"
    }
   },
   "source": [
    "If we want a multidimensional array (eg 2D matrix), we pass a tuple of numbers indicating the size for every dimension:"
   ]
  },
  {
   "cell_type": "code",
   "execution_count": null,
   "id": "9e751a5d",
   "metadata": {},
   "outputs": [],
   "source": [
    "np.zeros((3,2))  # we pass the tuple (3, 2) to have a 3 x 2 matrix"
   ]
  },
  {
   "cell_type": "markdown",
   "id": "ac46b4f8",
   "metadata": {
    "slideshow": {
     "slide_type": "subslide"
    }
   },
   "source": [
    "#### `np.ones()`\n",
    "\n",
    "The `np.ones` function works in the same way but creates a matrix of ones:"
   ]
  },
  {
   "cell_type": "code",
   "execution_count": null,
   "id": "5be13ba2",
   "metadata": {},
   "outputs": [],
   "source": [
    "np.ones((3,2))"
   ]
  },
  {
   "cell_type": "markdown",
   "id": "c69bdd24",
   "metadata": {
    "slideshow": {
     "slide_type": "subslide"
    }
   },
   "source": [
    "#### `np.full()`\n",
    "\n",
    "We can inizialize a matrix with arbitrary values using `np.full`:"
   ]
  },
  {
   "cell_type": "code",
   "execution_count": null,
   "id": "4091bf3e",
   "metadata": {},
   "outputs": [],
   "source": [
    "np.full((2,3), 20)"
   ]
  },
  {
   "cell_type": "markdown",
   "id": "f0bd4a16",
   "metadata": {
    "slideshow": {
     "slide_type": "slide"
    }
   },
   "source": [
    "## Types of values in arrays"
   ]
  },
  {
   "cell_type": "markdown",
   "id": "766593fa",
   "metadata": {},
   "source": [
    "In numpy arrays, **all elements must be of the same type**! (This is important to make arrays efficient)"
   ]
  },
  {
   "cell_type": "markdown",
   "id": "b95059c3",
   "metadata": {},
   "source": [
    "By default, `np.nparray`s will be initialized with `float` values:"
   ]
  },
  {
   "cell_type": "code",
   "execution_count": null,
   "id": "0173cb56",
   "metadata": {},
   "outputs": [],
   "source": [
    "np.ones((2,3))"
   ]
  },
  {
   "cell_type": "markdown",
   "id": "0271d145",
   "metadata": {
    "slideshow": {
     "slide_type": "subslide"
    }
   },
   "source": [
    "To specify the data type of our array, we can pass the `dtype` argument (for data type). For example, we can make it `int`:"
   ]
  },
  {
   "cell_type": "code",
   "execution_count": null,
   "id": "17d960a7",
   "metadata": {},
   "outputs": [],
   "source": [
    "np.zeros((2,3), dtype=bool)"
   ]
  },
  {
   "cell_type": "markdown",
   "id": "c25bf585",
   "metadata": {
    "slideshow": {
     "slide_type": "subslide"
    }
   },
   "source": [
    "To change the data type of an existing array, we can use the `.astype(new_type)` method:"
   ]
  },
  {
   "cell_type": "code",
   "execution_count": null,
   "id": "0235128a",
   "metadata": {},
   "outputs": [],
   "source": [
    "my_arr = np.full((2,3), 1.)\n",
    "my_arr.astype(int)"
   ]
  },
  {
   "cell_type": "markdown",
   "id": "1007c78b",
   "metadata": {
    "slideshow": {
     "slide_type": "subslide"
    }
   },
   "source": [
    "## `np.nan`\n",
    "\n",
    "The `numpy` equivalent of `None` is `nan` (Not a Number). We can add nans in an array of floats:"
   ]
  },
  {
   "cell_type": "code",
   "execution_count": null,
   "id": "5c8668ae",
   "metadata": {
    "slideshow": {
     "slide_type": "subslide"
    }
   },
   "outputs": [],
   "source": [
    "my_arr = np.ones((2,3))\n",
    "my_arr[0, 0] = np.nan\n",
    "my_arr"
   ]
  },
  {
   "cell_type": "code",
   "execution_count": null,
   "id": "a917e41f",
   "metadata": {
    "slideshow": {
     "slide_type": "subslide"
    }
   },
   "outputs": [],
   "source": [
    "# this code will fail, as the array type is int:\n",
    "my_arr = np.full((2,3), 1)\n",
    "my_arr[0] = np.nan"
   ]
  },
  {
   "cell_type": "markdown",
   "id": "657f9b5f",
   "metadata": {
    "slideshow": {
     "slide_type": "subslide"
    }
   },
   "source": [
    "### Memory-efficient types\n",
    "\n",
    "We can also use some special data type from numpy, for memory saving purposes:\n",
    " - `np.uint8` (numbers from 0 to 255)\n",
    " - `np.int8` (numbers from -128 to 127)\n",
    " - `np.uint16` (numbers from 0 to 65535)\n",
    " - `np.int16` (numbers from -32768 to 32767)\n",
    " \n",
    "The number (8 or 16) represents the number of **bits** used for every entry in the array!"
   ]
  },
  {
   "cell_type": "code",
   "execution_count": null,
   "id": "e0b5ce04",
   "metadata": {
    "slideshow": {
     "slide_type": "subslide"
    }
   },
   "outputs": [],
   "source": [
    "a_python_int_array = np.ones((200, 300), dtype=int)\n",
    "\n",
    "# With this code we can ask for the size of the array in RAM memory, with the (default) sys library:\n",
    "import sys\n",
    "sys.getsizeof(a_python_int_array) "
   ]
  },
  {
   "cell_type": "code",
   "execution_count": null,
   "id": "d565f5cb",
   "metadata": {},
   "outputs": [],
   "source": [
    "a_uint8_array = np.ones((200, 300), dtype=np.uint8)\n",
    "\n",
    "sys.getsizeof(a_uint8_array)  # the np.uint8 type is much more efficient!"
   ]
  },
  {
   "cell_type": "markdown",
   "id": "ba90b04d",
   "metadata": {
    "slideshow": {
     "slide_type": "subslide"
    }
   },
   "source": [
    "We can also make arrays of text! "
   ]
  },
  {
   "cell_type": "code",
   "execution_count": null,
   "id": "b096ccab",
   "metadata": {},
   "outputs": [],
   "source": [
    "txt = np.full((300,2000), \"some text\")\n",
    "\n",
    "txt  # look at the dtype! the number you read will be the number of characters:"
   ]
  },
  {
   "cell_type": "markdown",
   "id": "1a5cff36",
   "metadata": {
    "slideshow": {
     "slide_type": "subslide"
    }
   },
   "source": [
    "### Useful attributes of `np.ndarray` objects"
   ]
  },
  {
   "cell_type": "markdown",
   "id": "25249f55",
   "metadata": {},
   "source": [
    "Being objects, `np.ndarray`s have **attributes** (or, most likely, properties) that can be useful to check out how they are structured!"
   ]
  },
  {
   "cell_type": "markdown",
   "id": "0cb5ff62",
   "metadata": {
    "slideshow": {
     "slide_type": "subslide"
    }
   },
   "source": [
    "### `.shape` and `.ndim`"
   ]
  },
  {
   "cell_type": "markdown",
   "id": "52116cc5",
   "metadata": {},
   "source": [
    "The `.ndim` attribute gives us the number of dimensions of the array"
   ]
  },
  {
   "cell_type": "code",
   "execution_count": null,
   "id": "abbc84bd",
   "metadata": {},
   "outputs": [],
   "source": [
    "my_array = np.zeros((4,3, 5, 10))\n",
    "\n",
    "my_array.ndim"
   ]
  },
  {
   "cell_type": "markdown",
   "id": "6ba3fca0",
   "metadata": {
    "slideshow": {
     "slide_type": "subslide"
    }
   },
   "source": [
    "The `.shape` attribute gives us the shape (the number of elements along each dimension of the array):"
   ]
  },
  {
   "cell_type": "code",
   "execution_count": 27,
   "id": "afc2a8ae",
   "metadata": {},
   "outputs": [],
   "source": [
    "my_array = np.ones((4, 3, 3, 10))"
   ]
  },
  {
   "cell_type": "code",
   "execution_count": null,
   "id": "3e344e12",
   "metadata": {},
   "outputs": [],
   "source": [
    "my_array.shape"
   ]
  },
  {
   "cell_type": "markdown",
   "id": "d911ff8c",
   "metadata": {
    "slideshow": {
     "slide_type": "subslide"
    }
   },
   "source": [
    "### `.dtype`\n",
    "\n",
    "The `.dtype` attribute gives the type of the elements in the array:"
   ]
  },
  {
   "cell_type": "code",
   "execution_count": null,
   "id": "b9d2a6ef",
   "metadata": {},
   "outputs": [],
   "source": [
    "my_array = np.full((4,3,5), 10.)\n",
    "my_array.dtype"
   ]
  },
  {
   "cell_type": "markdown",
   "id": "2146f10c",
   "metadata": {
    "slideshow": {
     "slide_type": "subslide"
    }
   },
   "source": [
    "### `.size`\n",
    "\n",
    "Do not confuse `.shape` with `.size`! `.size` gives the numbers of elements in the whole matrix:"
   ]
  },
  {
   "cell_type": "code",
   "execution_count": null,
   "id": "556efcc0",
   "metadata": {},
   "outputs": [],
   "source": [
    "my_array = np.full((4,3), 3)\n",
    "my_array.size"
   ]
  },
  {
   "cell_type": "markdown",
   "id": "1e35ff8d",
   "metadata": {},
   "source": [
    "Note that an array's size is the product of its shape's elements (i.e., a (4,3) array contains 12 elements because 4*3 = 12)"
   ]
  },
  {
   "cell_type": "code",
   "execution_count": null,
   "id": "92e9c6f5",
   "metadata": {},
   "outputs": [],
   "source": [
    "my_array.size == (my_array.shape[0] * my_array.shape[1])"
   ]
  },
  {
   "cell_type": "markdown",
   "id": "58bfd10b",
   "metadata": {
    "slideshow": {
     "slide_type": "subslide"
    }
   },
   "source": [
    "### Convert lists to arrays\n",
    "\n",
    "One way of creating an array is to convert an existing list into an array with the `np.array()` function:"
   ]
  },
  {
   "cell_type": "code",
   "execution_count": null,
   "id": "1c810d05",
   "metadata": {},
   "outputs": [],
   "source": [
    "my_list = [1,2,3,4]\n",
    "np.array(my_list)"
   ]
  },
  {
   "cell_type": "markdown",
   "id": "d1096bea",
   "metadata": {
    "slideshow": {
     "slide_type": "subslide"
    }
   },
   "source": [
    "Converting **lists of lists** will add more dimensions:"
   ]
  },
  {
   "cell_type": "code",
   "execution_count": null,
   "id": "c9c71f62",
   "metadata": {},
   "outputs": [],
   "source": [
    "my_list = [[1,2,3,4], [2,3,4,5]]\n",
    "np.array(my_list)"
   ]
  },
  {
   "cell_type": "markdown",
   "id": "01276631",
   "metadata": {},
   "source": [
    "If you do so, make sure that all lists have the same length!"
   ]
  },
  {
   "cell_type": "markdown",
   "id": "b8bfbbed",
   "metadata": {
    "slideshow": {
     "slide_type": "subslide"
    }
   },
   "source": [
    "#### `np.arange()`\n",
    "\n",
    "We can create ordered sequences of numbers using `np.arange()`:"
   ]
  },
  {
   "cell_type": "code",
   "execution_count": null,
   "id": "588557e6",
   "metadata": {},
   "outputs": [],
   "source": [
    "np.arange(10)  # numbers from 0 to 9"
   ]
  },
  {
   "cell_type": "markdown",
   "id": "7623410a",
   "metadata": {
    "slideshow": {
     "slide_type": "subslide"
    }
   },
   "source": [
    "We can optionally specify start, end, and step of the sequence (start and steps are optional; the logic is the same as for the list indexing)"
   ]
  },
  {
   "cell_type": "code",
   "execution_count": null,
   "id": "4c769391",
   "metadata": {},
   "outputs": [],
   "source": [
    "np.arange(1, 10,3)  # numbers from 1 to 10 in steps of 2:"
   ]
  },
  {
   "cell_type": "markdown",
   "id": "a6c21540",
   "metadata": {
    "slideshow": {
     "slide_type": "subslide"
    }
   },
   "source": [
    "#### `np.linspace()`\n",
    "\n",
    "Alternatively, we can use `np.linspace()` to generate n=`num` equally spaced numbers in a specified range:"
   ]
  },
  {
   "cell_type": "code",
   "execution_count": null,
   "id": "0be75f75",
   "metadata": {},
   "outputs": [],
   "source": [
    "# 5 equispaced values between 0 and 10, included:\n",
    "np.linspace(0, 1, 100) # aka np.linspace(0, 10, num=5)"
   ]
  },
  {
   "cell_type": "markdown",
   "id": "6c43ec0f",
   "metadata": {
    "slideshow": {
     "slide_type": "subslide"
    }
   },
   "source": [
    "### Random arrays\n",
    "\n",
    "We can use the `np.random` submodule to create random arrays. For example:"
   ]
  },
  {
   "cell_type": "code",
   "execution_count": null,
   "id": "71bdfe61",
   "metadata": {},
   "outputs": [],
   "source": [
    "np.random.randint(0, 10, (3,2))  # we pass min, max, and desired shape of the random array"
   ]
  },
  {
   "cell_type": "markdown",
   "id": "f682a745",
   "metadata": {
    "slideshow": {
     "slide_type": "subslide"
    }
   },
   "source": [
    "(Practicals 1.0.0)"
   ]
  },
  {
   "cell_type": "markdown",
   "id": "d75a5b6a",
   "metadata": {
    "slideshow": {
     "slide_type": "subslide"
    }
   },
   "source": [
    "## Indexing arrays\n",
    "\n",
    "We have three ways of indexing arrays:\n",
    " - **slicing**: as for lists (specifying single values, or start/end/steps)\n",
    " - **integer indexing**: specifying with lists/arrays/tuples of indexes which elements to keep\n",
    " - **boolean indexing**: using `True`/`False` lists/arrays/tuples to specify which elements to keep"
   ]
  },
  {
   "cell_type": "markdown",
   "id": "0815bbdc",
   "metadata": {
    "slideshow": {
     "slide_type": "subslide"
    }
   },
   "source": [
    "### Slicing\n",
    "\n",
    "We can index arrays as we were doing with lists (this operation is called array **slicing**). For a 1D array:"
   ]
  },
  {
   "cell_type": "code",
   "execution_count": null,
   "id": "6f91139e",
   "metadata": {},
   "outputs": [],
   "source": [
    "my_vect = np.arange(0, 10)\n",
    "print(my_vect[:5])  # first 5\n",
    "print(my_vect[-3:])  # last 3\n",
    "print(my_vect[:6:2])  # first 6, one every two\n",
    "\n",
    "print(my_vect[:])  # this is a \"null\" indexing that returns all values"
   ]
  },
  {
   "cell_type": "markdown",
   "id": "546a29c3",
   "metadata": {},
   "source": [
    "But! With `np.ndarray`s we have more flexibility than with lists!"
   ]
  },
  {
   "cell_type": "markdown",
   "id": "09b4fd21",
   "metadata": {
    "slideshow": {
     "slide_type": "subslide"
    }
   },
   "source": [
    "### Indexing with arrays (or lists) of integer indexes\n",
    "\n",
    "We can index passing an array (or a list) of the index values that we want to retrieve!"
   ]
  },
  {
   "cell_type": "code",
   "execution_count": null,
   "id": "b919ba08",
   "metadata": {},
   "outputs": [],
   "source": [
    "my_vect = np.random.normal(0, 10, 4)  # 4 values from a normal distribution of mean 0, std 10\n",
    "print(my_vect)"
   ]
  },
  {
   "cell_type": "code",
   "execution_count": null,
   "id": "47d23929",
   "metadata": {},
   "outputs": [],
   "source": [
    "index_list = [0, 2]  # to be indexes, those values have to be integers!\n",
    "\n",
    "my_vect[index_list]  # we pass the index list (or array) in square brackets"
   ]
  },
  {
   "cell_type": "code",
   "execution_count": null,
   "id": "1c9aa815",
   "metadata": {
    "slideshow": {
     "slide_type": "subslide"
    }
   },
   "outputs": [],
   "source": [
    "index_list = [0.0, 2.0]  # won't work with floats\n",
    "\n",
    "my_vect[index_list]"
   ]
  },
  {
   "cell_type": "markdown",
   "id": "c2a79972",
   "metadata": {
    "slideshow": {
     "slide_type": "subslide"
    }
   },
   "source": [
    "### Boolean indexing\n",
    "\n",
    "Alternatively, we can use arrays of boolean values.\n",
    "\n",
    "The boolean indexing vector must have the same shape of the array to be indexed!"
   ]
  },
  {
   "cell_type": "code",
   "execution_count": null,
   "id": "0c5f372c",
   "metadata": {},
   "outputs": [],
   "source": [
    "my_vect = np.array([1,2,3,4, 5])\n",
    "\n",
    "boolean_selector = [True, False, True, False, False]\n",
    "\n",
    "my_vect[boolean_selector]"
   ]
  },
  {
   "cell_type": "markdown",
   "id": "aa86c5d4",
   "metadata": {
    "slideshow": {
     "slide_type": "subslide"
    }
   },
   "source": [
    "Boolean indexing is a powerful way of filtering arrays based on some criterion:"
   ]
  },
  {
   "cell_type": "code",
   "execution_count": null,
   "id": "3014bf0d",
   "metadata": {},
   "outputs": [],
   "source": [
    "thr = 3\n",
    "boolean_selector = my_vect > thr  # this operation returns a boolean array with the element-wise results\n",
    "print(boolean_selector)"
   ]
  },
  {
   "cell_type": "code",
   "execution_count": null,
   "id": "034d6bfd",
   "metadata": {},
   "outputs": [],
   "source": [
    "my_vect[boolean_selector]"
   ]
  },
  {
   "cell_type": "markdown",
   "id": "ac025c36",
   "metadata": {
    "slideshow": {
     "slide_type": "subslide"
    }
   },
   "source": [
    "### Multidimensional indexing\n",
    "\n",
    "Many times, we want to index independently one or many axes of an n-dimensional array.\n",
    "\n",
    "We can index over multiple dimensions specifying **comma-separated** indexes along each dimension:"
   ]
  },
  {
   "cell_type": "code",
   "execution_count": null,
   "id": "8c388453",
   "metadata": {
    "slideshow": {
     "slide_type": "subslide"
    }
   },
   "outputs": [],
   "source": [
    "my_mat = np.array([[1,   2,  3,  4, 5],\n",
    "                   [6,   7,  8,  9, 10],\n",
    "                   [11, 12, 13, 14, 15]])\n",
    "\n",
    "# this idexes the first dimension (select the 3rd row) and leaves all elements over the second (:):\n",
    "print(my_mat[2, :])\n",
    "\n",
    "# this idexes the second dimension (select the 1st column) and leaves all elements over the rows (:):\n",
    "print(my_mat[:, 0])"
   ]
  },
  {
   "cell_type": "code",
   "execution_count": null,
   "id": "89b1120a",
   "metadata": {
    "slideshow": {
     "slide_type": "subslide"
    }
   },
   "outputs": [],
   "source": [
    "# this takes one every 2 columns, for the first 2 rows:\n",
    "my_mat[:2, ::2]"
   ]
  },
  {
   "cell_type": "markdown",
   "id": "2748e211",
   "metadata": {
    "slideshow": {
     "slide_type": "subslide"
    }
   },
   "source": [
    "If we specify a single index, `numpy` assumes you're indexing the first dimension:\n"
   ]
  },
  {
   "cell_type": "code",
   "execution_count": null,
   "id": "e0df5278",
   "metadata": {},
   "outputs": [],
   "source": [
    "my_mat[2]  # the same as writing my_mat[2, :], but discouraged!"
   ]
  },
  {
   "cell_type": "markdown",
   "id": "3cb1dadb",
   "metadata": {
    "slideshow": {
     "slide_type": "subslide"
    }
   },
   "source": [
    "### Combining indexing\n",
    "\n",
    "We can use any combination of indexes and boolean selectors for each axis, as long as the dimension matches:"
   ]
  },
  {
   "cell_type": "code",
   "execution_count": null,
   "id": "ebfe84fa",
   "metadata": {},
   "outputs": [],
   "source": [
    "my_mat = np.array([[1,   2,  3,  4, 5],\n",
    "                   [6,   7,  8,  9, 10],\n",
    "                   [11, 12, 13, 14, 15]])\n",
    "\n",
    "# Boolean indexing over one dimesion\n",
    "boolean_selector = np.array([True, False, False])\n",
    "my_mat[boolean_selector, :]"
   ]
  },
  {
   "cell_type": "code",
   "execution_count": null,
   "id": "adcabab8",
   "metadata": {
    "slideshow": {
     "slide_type": "subslide"
    }
   },
   "outputs": [],
   "source": [
    "# Boolean selector over one axis, numerical indexing over another axis, slicing over the third axis:\n",
    "my_mat[boolean_selector, [1,2, 4]]"
   ]
  },
  {
   "cell_type": "markdown",
   "id": "d2c80599",
   "metadata": {
    "slideshow": {
     "slide_type": "subslide"
    }
   },
   "source": [
    "## array views"
   ]
  },
  {
   "cell_type": "markdown",
   "id": "79b2c68a",
   "metadata": {},
   "source": [
    "Indexing operations return **views** on the original arrays, NOT COPIES! Changing values in the slice we will also alter the original array!"
   ]
  },
  {
   "cell_type": "code",
   "execution_count": null,
   "id": "3f768a0f",
   "metadata": {},
   "outputs": [],
   "source": [
    "# import numpy as np\n",
    "my_mat = np.array([[1,   2,  3,  4, 5],\n",
    "                   [6,   7,  8,  9, 10],\n",
    "                   [11, 12, 13, 14, 15]])\n",
    "\n",
    "a_slice = my_mat[2, :].copy()  # this is a view of the original data, not a copy!\n",
    "print(a_slice)\n",
    "\n",
    "a_slice[0] = 2000  # change the entry unless we use the .copy()\n"
   ]
  },
  {
   "cell_type": "code",
   "execution_count": null,
   "id": "c21fe18e",
   "metadata": {},
   "outputs": [],
   "source": [
    "my_mat"
   ]
  },
  {
   "cell_type": "markdown",
   "id": "25ecf9c7",
   "metadata": {
    "slideshow": {
     "slide_type": "subslide"
    }
   },
   "source": [
    "### Mind singleton dimensions!"
   ]
  },
  {
   "cell_type": "markdown",
   "id": "97a686ec",
   "metadata": {},
   "source": [
    "Arrays can have **singleton dimensions** - _i.e._ dimensions along which there is a single entry.\n",
    "In python, an array of size `(4,)` and an array of size `(4,1)` are different even if they look the same!"
   ]
  },
  {
   "cell_type": "code",
   "execution_count": null,
   "id": "5568dca5",
   "metadata": {},
   "outputs": [],
   "source": [
    "my_arr = np.zeros(4)  # this is a 1D array\n",
    "\n",
    "print(f\"{my_arr}; shape: {my_arr.shape}\")"
   ]
  },
  {
   "cell_type": "code",
   "execution_count": null,
   "id": "dffa006c",
   "metadata": {},
   "outputs": [],
   "source": [
    "my_arr_1 = np.zeros((4, 1))  # this is a 2D array with a singleton dimension!\n",
    "print(f\"{my_arr_1}; shape: {my_arr_1.shape}\")"
   ]
  },
  {
   "cell_type": "markdown",
   "id": "43480c19",
   "metadata": {
    "slideshow": {
     "slide_type": "subslide"
    }
   },
   "source": [
    "Sometimes, it can be useful to quickly add a singleton dimension:"
   ]
  },
  {
   "cell_type": "code",
   "execution_count": null,
   "id": "009690b0",
   "metadata": {},
   "outputs": [],
   "source": [
    "my_arr = np.zeros(4)  # 1D array\n",
    "\n",
    "# With this special indexing, we artificially add a singleton dimension on first dim:\n",
    "my_arr = my_arr[np.newaxis, :]  \n",
    "\n",
    "print(f\"{my_arr}; shape: {my_arr.shape}\")"
   ]
  },
  {
   "cell_type": "markdown",
   "id": "df6f9726",
   "metadata": {
    "slideshow": {
     "slide_type": "subslide"
    }
   },
   "source": [
    "## Visualize arrays and matrices"
   ]
  },
  {
   "cell_type": "markdown",
   "id": "8a9e3fbb",
   "metadata": {},
   "source": [
    "We can visualize arrays and matrices using the `matplotlib.pyplot` library."
   ]
  },
  {
   "cell_type": "code",
   "execution_count": 62,
   "id": "3c4bb711",
   "metadata": {},
   "outputs": [],
   "source": [
    "from matplotlib import pyplot as plt  # code you'll write many times in Python...\n",
    "import numpy as np"
   ]
  },
  {
   "cell_type": "markdown",
   "id": "cdcd60b8",
   "metadata": {
    "slideshow": {
     "slide_type": "subslide"
    }
   },
   "source": [
    "We can plot 1D arrays (or lists!) using `plt.plot()`:"
   ]
  },
  {
   "cell_type": "code",
   "execution_count": null,
   "id": "07ad4f1a",
   "metadata": {},
   "outputs": [],
   "source": [
    "random_vect = np.random.randn(100)  # normal random vals array of shape 100\n",
    "plt.plot(random_vect)"
   ]
  },
  {
   "cell_type": "markdown",
   "id": "d6e58cb5",
   "metadata": {
    "slideshow": {
     "slide_type": "subslide"
    }
   },
   "source": [
    "We can also plot multiple arrays together:"
   ]
  },
  {
   "cell_type": "code",
   "execution_count": null,
   "id": "2f3388e6",
   "metadata": {},
   "outputs": [],
   "source": [
    "# each line will be an element over the second dimension, in this case we will have 2 lines):\n",
    "random_vect = np.random.randn(100, 2)  # normal random vals array of shape (100, 2)\n",
    "plt.plot(random_vect)"
   ]
  },
  {
   "cell_type": "markdown",
   "id": "32691fd1",
   "metadata": {
    "slideshow": {
     "slide_type": "subslide"
    }
   },
   "source": [
    "We can visualize 2D matrices with `plt.matshow()`"
   ]
  },
  {
   "cell_type": "code",
   "execution_count": null,
   "id": "cc3857d6",
   "metadata": {},
   "outputs": [],
   "source": [
    "random_mat = np.random.randint(0, 255, (100, 200))  # (100, 200) shape array of random integers between 0 and 255:\n",
    "\n",
    "plt.matshow(random_mat)  # plt.imshow()\n",
    "plt.colorbar()"
   ]
  },
  {
   "cell_type": "markdown",
   "id": "6272ad39",
   "metadata": {
    "slideshow": {
     "slide_type": "subslide"
    }
   },
   "source": [
    "This can be convenient to check quickly the results of slicing:"
   ]
  },
  {
   "cell_type": "code",
   "execution_count": null,
   "id": "cdedb674",
   "metadata": {},
   "outputs": [],
   "source": [
    "plt.matshow(random_mat[:3, ::10])"
   ]
  },
  {
   "cell_type": "markdown",
   "id": "441b5c88",
   "metadata": {},
   "source": [
    "There's much more to the matplotlib library, we'll discover more things as we go!"
   ]
  },
  {
   "cell_type": "markdown",
   "id": "545ef2d3",
   "metadata": {
    "slideshow": {
     "slide_type": "subslide"
    }
   },
   "source": [
    "(Practicals 1.0.1)"
   ]
  },
  {
   "cell_type": "code",
   "execution_count": null,
   "id": "a4324f0c",
   "metadata": {},
   "outputs": [],
   "source": [
    "a = np.concatenate([np.full((1,4), i) for i in range(5)], axis=0)\n",
    "print(a)"
   ]
  },
  {
   "cell_type": "code",
   "execution_count": null,
   "id": "cf0db310",
   "metadata": {
    "slideshow": {
     "slide_type": "-"
    }
   },
   "outputs": [],
   "source": [
    "b = np.ones(5)\n",
    "print(\"shape a: \", a.shape)\n",
    "print(\"shape b: \", b.shape)\n",
    "\n",
    "# this will not work as the rightmost dimensions are 5 and 4:\n",
    "a + b "
   ]
  },
  {
   "cell_type": "markdown",
   "id": "44862a7e",
   "metadata": {},
   "source": [
    "To make it work, we can use a trick: add a new \"dummy\" singleton dimension to `b` that will be broadcasted with the syntax `[:, np.newaxis]`"
   ]
  },
  {
   "cell_type": "code",
   "execution_count": null,
   "id": "afd2e35a",
   "metadata": {},
   "outputs": [],
   "source": [
    "b_twodim = b[:, np.newaxis]  # This does the trick by adding a dummy singleton dimension\n",
    "print(\"shape a: \", a.shape)\n",
    "print(\"shape b_twodim: \", b_twodim.shape)\n",
    "a + b_twodim  # now the last dimension is compatible between the two arrays:"
   ]
  },
  {
   "cell_type": "markdown",
   "id": "cece27c9",
   "metadata": {
    "slideshow": {
     "slide_type": "subslide"
    }
   },
   "source": [
    "Practicals 1.0.1"
   ]
  }
 ],
 "metadata": {
  "celltoolbar": "Slideshow",
  "kernelspec": {
   "display_name": "course-env",
   "language": "python",
   "name": "course-env"
  },
  "language_info": {
   "codemirror_mode": {
    "name": "ipython",
    "version": 3
   },
   "file_extension": ".py",
   "mimetype": "text/x-python",
   "name": "python",
   "nbconvert_exporter": "python",
   "pygments_lexer": "ipython3",
   "version": "3.10.13"
  }
 },
 "nbformat": 4,
 "nbformat_minor": 5
}
