{
 "cells": [
  {
   "cell_type": "markdown",
   "id": "3ca811a3",
   "metadata": {
    "slideshow": {
     "slide_type": "slide"
    }
   },
   "source": [
    "# Python for (open) Neuroscience\n",
    "\n",
    "_Lecture 1.0_ - Introduction to `numpy`\n",
    "\n",
    "Luigi Petrucco\n",
    "\n",
    "[![Open In Colab](https://colab.research.google.com/assets/colab-badge.svg)](https://colab.research.google.com/github/vigji/python-cimec-2025/blob/main/lectures/Lecture1.0_Numpy-intro.ipynb)"
   ]
  },
  {
   "cell_type": "code",
   "execution_count": null,
   "id": "a5dc842f",
   "metadata": {},
   "outputs": [],
   "source": []
  },
  {
   "cell_type": "markdown",
   "id": "675a5de0",
   "metadata": {
    "slideshow": {
     "slide_type": "slide"
    }
   },
   "source": [
    "## Working with libraries (/packages/modules)"
   ]
  },
  {
   "cell_type": "markdown",
   "id": "bbb8cdbc",
   "metadata": {},
   "source": [
    "We can import external libraries using `import`.\n",
    "\n",
    "Sometimes, external libraries will need to be installed (but Colab already features the ones we will be using now). We will see in a future lecture more on installing libraries."
   ]
  },
  {
   "cell_type": "code",
   "execution_count": null,
   "id": "a4765f8f",
   "metadata": {
    "slideshow": {
     "slide_type": "subslide"
    }
   },
   "outputs": [],
   "source": [
    "# this command adds a whole bunch of functions and classes for us to use:\n",
    "import numpy\n",
    "\n",
    "# This function creates an array from a list:\n",
    "numpy.array([1,2,3])"
   ]
  },
  {
   "cell_type": "markdown",
   "id": "b48e2ada",
   "metadata": {
    "slideshow": {
     "slide_type": "subslide"
    }
   },
   "source": [
    "We can give aliases to the library we import for the sake of brevity:"
   ]
  },
  {
   "cell_type": "code",
   "execution_count": 1,
   "id": "672eb10a",
   "metadata": {},
   "outputs": [
    {
     "data": {
      "text/plain": [
       "array([1, 2, 3])"
      ]
     },
     "execution_count": 1,
     "metadata": {},
     "output_type": "execute_result"
    }
   ],
   "source": [
    "import numpy as np\n",
    "np.array([1,2,3])"
   ]
  },
  {
   "cell_type": "markdown",
   "id": "86a06e74",
   "metadata": {
    "slideshow": {
     "slide_type": "subslide"
    }
   },
   "source": [
    "We can also import specific functions (or classes) from a library with this syntax:"
   ]
  },
  {
   "cell_type": "code",
   "execution_count": 2,
   "id": "374999a1",
   "metadata": {},
   "outputs": [
    {
     "data": {
      "text/plain": [
       "array([1, 2, 3])"
      ]
     },
     "execution_count": 2,
     "metadata": {},
     "output_type": "execute_result"
    }
   ],
   "source": [
    "from numpy import array\n",
    "array([1,2,3])"
   ]
  },
  {
   "cell_type": "markdown",
   "id": "7220db85",
   "metadata": {
    "slideshow": {
     "slide_type": "subslide"
    }
   },
   "source": [
    "## The `numpy` library"
   ]
  },
  {
   "cell_type": "markdown",
   "id": "cfd35672",
   "metadata": {},
   "source": [
    "NumPy is a Python library to create, manipulate, and combine arrays. \n",
    "\n",
    "An array is an ordered collection of items that can be accessed via an index. \n",
    "\n",
    "While they may seem similar to lists, arrays are much more powerful because they support a wealth of operations that cannot be performed on lists. "
   ]
  },
  {
   "cell_type": "markdown",
   "id": "747bfdc9",
   "metadata": {
    "slideshow": {
     "slide_type": "subslide"
    }
   },
   "source": [
    "## Array arithmetics\n",
    "\n",
    "Arrays let us do entirely new operations:"
   ]
  },
  {
   "cell_type": "code",
   "execution_count": 3,
   "id": "6b26a3e6",
   "metadata": {},
   "outputs": [
    {
     "ename": "TypeError",
     "evalue": "unsupported operand type(s) for -: 'list' and 'list'",
     "output_type": "error",
     "traceback": [
      "\u001b[0;31m---------------------------------------------------------------------------\u001b[0m",
      "\u001b[0;31mTypeError\u001b[0m                                 Traceback (most recent call last)",
      "Cell \u001b[0;32mIn[3], line 2\u001b[0m\n\u001b[1;32m      1\u001b[0m \u001b[38;5;66;03m# With lists, there is no way to do vector operations:\u001b[39;00m\n\u001b[0;32m----> 2\u001b[0m \u001b[43m[\u001b[49m\u001b[38;5;241;43m5\u001b[39;49m\u001b[43m,\u001b[49m\u001b[43m \u001b[49m\u001b[38;5;241;43m5\u001b[39;49m\u001b[43m,\u001b[49m\u001b[43m \u001b[49m\u001b[38;5;241;43m5\u001b[39;49m\u001b[43m]\u001b[49m\u001b[43m \u001b[49m\u001b[38;5;241;43m-\u001b[39;49m\u001b[43m \u001b[49m\u001b[43m[\u001b[49m\u001b[38;5;241;43m1\u001b[39;49m\u001b[43m,\u001b[49m\u001b[43m \u001b[49m\u001b[38;5;241;43m1\u001b[39;49m\u001b[43m,\u001b[49m\u001b[43m \u001b[49m\u001b[38;5;241;43m1\u001b[39;49m\u001b[43m]\u001b[49m  \n",
      "\u001b[0;31mTypeError\u001b[0m: unsupported operand type(s) for -: 'list' and 'list'"
     ]
    }
   ],
   "source": [
    "# With lists, there is no way to do vector operations:\n",
    "[5, 5, 5] - [1, 1, 1]  "
   ]
  },
  {
   "cell_type": "code",
   "execution_count": 4,
   "id": "0ac09a24",
   "metadata": {},
   "outputs": [
    {
     "data": {
      "text/plain": [
       "array([4, 4, 4])"
      ]
     },
     "execution_count": 4,
     "metadata": {},
     "output_type": "execute_result"
    }
   ],
   "source": [
    "import numpy as np\n",
    "np.array([5, 5, 5]) - np.array([1, 1, 1])"
   ]
  },
  {
   "cell_type": "markdown",
   "id": "2ac5b7eb",
   "metadata": {
    "slideshow": {
     "slide_type": "subslide"
    }
   },
   "source": [
    "### A small note on credit & citations"
   ]
  },
  {
   "cell_type": "markdown",
   "id": "153fd9c3",
   "metadata": {},
   "source": [
    "Many times we forget to do so, but remember: there's scientists behind many open-source tools, and citations are the way we can reward them in academic currency! \n",
    "\n",
    "(but buy them beer if you ever encounter them in person 🍺)"
   ]
  },
  {
   "cell_type": "markdown",
   "id": "a244d341",
   "metadata": {},
   "source": [
    "    Harris, C.R., Millman, K.J., van der Walt, S.J. et al. Array programming with NumPy. Nature 585, 357–362 (2020). DOI: 10.1038/s41586-020-2649-2"
   ]
  },
  {
   "cell_type": "markdown",
   "id": "d040df72",
   "metadata": {
    "slideshow": {
     "slide_type": "subslide"
    }
   },
   "source": [
    "Let's import the library!"
   ]
  },
  {
   "cell_type": "code",
   "execution_count": 6,
   "id": "f08a99d7",
   "metadata": {},
   "outputs": [],
   "source": [
    "import numpy as np"
   ]
  },
  {
   "cell_type": "markdown",
   "id": "e7ef3f90",
   "metadata": {
    "slideshow": {
     "slide_type": "subslide"
    }
   },
   "source": [
    "## `np.ndarray`"
   ]
  },
  {
   "cell_type": "markdown",
   "id": "d1e4f825",
   "metadata": {
    "slideshow": {
     "slide_type": "fragment"
    }
   },
   "source": [
    "Data type (a class!) representing N-dimensional arrays"
   ]
  },
  {
   "cell_type": "markdown",
   "id": "36b9d61c",
   "metadata": {
    "slideshow": {
     "slide_type": "fragment"
    }
   },
   "source": [
    "Workhorse of scientific computing!"
   ]
  },
  {
   "cell_type": "markdown",
   "id": "c9f8c53b",
   "metadata": {
    "slideshow": {
     "slide_type": "subslide"
    }
   },
   "source": [
    "A note on language: when we say `array` we do not imply any number (`n`) of dimensions:\n",
    "- <span style=\"color:indianred\">vectors</span> will be arrays with `n=1` (i.e., 1D)\n",
    "- <span style=\"color:indianred\">matrices</span> will be arrays with `n=2` (i.e., 2D)\n",
    "- <span style=\"color:indianred\">tensors</span> will be arrays with `n>=3` (i.e., 3D or more)"
   ]
  },
  {
   "cell_type": "markdown",
   "id": "fd7d3f21",
   "metadata": {
    "slideshow": {
     "slide_type": "subslide"
    }
   },
   "source": [
    "Related note: there is a `np.matrix` class in `numpy`, but you **should not** use it; it has not been adopted much and  it might be removed soon!"
   ]
  },
  {
   "cell_type": "markdown",
   "id": "0f8d645d",
   "metadata": {
    "slideshow": {
     "slide_type": "subslide"
    }
   },
   "source": [
    "`np.ndarray` is a powerful data storing structure:"
   ]
  },
  {
   "cell_type": "markdown",
   "id": "f8266d94",
   "metadata": {
    "slideshow": {
     "slide_type": "fragment"
    }
   },
   "source": [
    "- it uses memory very efficiently even for large data (imaging data, movies, ephys...)"
   ]
  },
  {
   "cell_type": "markdown",
   "id": "d8e97eb1",
   "metadata": {
    "slideshow": {
     "slide_type": "fragment"
    }
   },
   "source": [
    "- it gives powerful indexing functionalities"
   ]
  },
  {
   "cell_type": "markdown",
   "id": "cf785c08",
   "metadata": {
    "slideshow": {
     "slide_type": "fragment"
    }
   },
   "source": [
    "- implements vectors/matrices algebric operations"
   ]
  },
  {
   "cell_type": "markdown",
   "id": "66ed055a",
   "metadata": {
    "slideshow": {
     "slide_type": "subslide"
    }
   },
   "source": [
    "### Note for the MATLAB addicts"
   ]
  },
  {
   "cell_type": "markdown",
   "id": "347397f7",
   "metadata": {},
   "source": [
    "The NumPy documentation provides a [useful cheatsheet](https://numpy.org/doc/stable/user/numpy-for-matlab-users.html) to facilitate the transition from MATLAB to NumPy arrays!"
   ]
  },
  {
   "cell_type": "markdown",
   "id": "dde2a7b1",
   "metadata": {
    "slideshow": {
     "slide_type": "subslide"
    }
   },
   "source": [
    "## Creating arrays"
   ]
  },
  {
   "cell_type": "markdown",
   "id": "5b0ce913",
   "metadata": {
    "slideshow": {
     "slide_type": "subslide"
    }
   },
   "source": [
    "### Initialize empty arrays"
   ]
  },
  {
   "cell_type": "markdown",
   "id": "c42d5a3b",
   "metadata": {},
   "source": [
    "#### `np.zeros()`\n",
    "\n",
    "We can create a simple array of zeros using the `np.zeros` function, and passing it a single integer n to create a 1D vector of length n:\n"
   ]
  },
  {
   "cell_type": "code",
   "execution_count": 7,
   "id": "e7474a19",
   "metadata": {},
   "outputs": [
    {
     "data": {
      "text/plain": [
       "array([0., 0.])"
      ]
     },
     "execution_count": 7,
     "metadata": {},
     "output_type": "execute_result"
    }
   ],
   "source": [
    "np.zeros(2)  # we pass a single integer for a 1D array"
   ]
  },
  {
   "cell_type": "markdown",
   "id": "2fc0222e",
   "metadata": {
    "slideshow": {
     "slide_type": "subslide"
    }
   },
   "source": [
    "If we want a multidimensional array (eg 2D matrix), we pass a tuple of numbers indicating the size for every dimension:"
   ]
  },
  {
   "cell_type": "code",
   "execution_count": 11,
   "id": "9e751a5d",
   "metadata": {},
   "outputs": [
    {
     "data": {
      "text/plain": [
       "array([[0., 0.],\n",
       "       [0., 0.],\n",
       "       [0., 0.]])"
      ]
     },
     "execution_count": 11,
     "metadata": {},
     "output_type": "execute_result"
    }
   ],
   "source": [
    "np.zeros((3,2))  # we pass the tuple (3, 2) to have a 3 x 2 matrix"
   ]
  },
  {
   "cell_type": "markdown",
   "id": "ac46b4f8",
   "metadata": {
    "slideshow": {
     "slide_type": "subslide"
    }
   },
   "source": [
    "#### `np.ones()`\n",
    "\n",
    "The `np.ones` function works in the same way but creates a matrix of ones:"
   ]
  },
  {
   "cell_type": "code",
   "execution_count": 13,
   "id": "5be13ba2",
   "metadata": {},
   "outputs": [
    {
     "data": {
      "text/plain": [
       "array([[[1., 1., 1., 1.],\n",
       "        [1., 1., 1., 1.]],\n",
       "\n",
       "       [[1., 1., 1., 1.],\n",
       "        [1., 1., 1., 1.]],\n",
       "\n",
       "       [[1., 1., 1., 1.],\n",
       "        [1., 1., 1., 1.]]])"
      ]
     },
     "execution_count": 13,
     "metadata": {},
     "output_type": "execute_result"
    }
   ],
   "source": [
    "np.ones((3,2, 4))"
   ]
  },
  {
   "cell_type": "markdown",
   "id": "c69bdd24",
   "metadata": {
    "slideshow": {
     "slide_type": "subslide"
    }
   },
   "source": [
    "#### `np.full()`\n",
    "\n",
    "We can inizialize a matrix with arbitrary values using `np.full`:"
   ]
  },
  {
   "cell_type": "code",
   "execution_count": 14,
   "id": "4091bf3e",
   "metadata": {},
   "outputs": [
    {
     "data": {
      "text/plain": [
       "array([[20, 20, 20],\n",
       "       [20, 20, 20]])"
      ]
     },
     "execution_count": 14,
     "metadata": {},
     "output_type": "execute_result"
    }
   ],
   "source": [
    "np.full((2,3), 20)"
   ]
  },
  {
   "cell_type": "markdown",
   "id": "f0bd4a16",
   "metadata": {
    "slideshow": {
     "slide_type": "slide"
    }
   },
   "source": [
    "## Types of values in arrays"
   ]
  },
  {
   "cell_type": "markdown",
   "id": "766593fa",
   "metadata": {},
   "source": [
    "In numpy arrays, **all elements must be of the same type**! (This is important to make arrays efficient)"
   ]
  },
  {
   "cell_type": "markdown",
   "id": "b95059c3",
   "metadata": {},
   "source": [
    "By default, `np.nparray`s will be initialized with `float` values:"
   ]
  },
  {
   "cell_type": "code",
   "execution_count": 15,
   "id": "0173cb56",
   "metadata": {},
   "outputs": [
    {
     "data": {
      "text/plain": [
       "array([[1., 1., 1.],\n",
       "       [1., 1., 1.]])"
      ]
     },
     "execution_count": 15,
     "metadata": {},
     "output_type": "execute_result"
    }
   ],
   "source": [
    "np.ones((2,3))"
   ]
  },
  {
   "cell_type": "markdown",
   "id": "0271d145",
   "metadata": {
    "slideshow": {
     "slide_type": "subslide"
    }
   },
   "source": [
    "To specify the data type of our array, we can pass the `dtype` argument (for data type). For example, we can make it `int`:"
   ]
  },
  {
   "cell_type": "code",
   "execution_count": 16,
   "id": "17d960a7",
   "metadata": {},
   "outputs": [
    {
     "data": {
      "text/plain": [
       "array([[False, False, False],\n",
       "       [False, False, False]])"
      ]
     },
     "execution_count": 16,
     "metadata": {},
     "output_type": "execute_result"
    }
   ],
   "source": [
    "np.zeros((2,3), dtype=bool)"
   ]
  },
  {
   "cell_type": "markdown",
   "id": "c25bf585",
   "metadata": {
    "slideshow": {
     "slide_type": "subslide"
    }
   },
   "source": [
    "To change the data type of an existing array, we can use the `.astype(new_type)` method:"
   ]
  },
  {
   "cell_type": "code",
   "execution_count": 17,
   "id": "0235128a",
   "metadata": {},
   "outputs": [
    {
     "data": {
      "text/plain": [
       "array([[1, 1, 1],\n",
       "       [1, 1, 1]])"
      ]
     },
     "execution_count": 17,
     "metadata": {},
     "output_type": "execute_result"
    }
   ],
   "source": [
    "my_arr = np.full((2,3), 1.)\n",
    "my_arr.astype(int)"
   ]
  },
  {
   "cell_type": "markdown",
   "id": "1007c78b",
   "metadata": {
    "slideshow": {
     "slide_type": "subslide"
    }
   },
   "source": [
    "## `np.nan`\n",
    "\n",
    "The `numpy` equivalent of `None` is `nan` (Not a Number). We can add nans in an array of floats:"
   ]
  },
  {
   "cell_type": "code",
   "execution_count": 18,
   "id": "5c8668ae",
   "metadata": {
    "slideshow": {
     "slide_type": "subslide"
    }
   },
   "outputs": [
    {
     "data": {
      "text/plain": [
       "array([[nan, nan, nan],\n",
       "       [nan, nan, nan]])"
      ]
     },
     "execution_count": 18,
     "metadata": {},
     "output_type": "execute_result"
    }
   ],
   "source": [
    "my_arr = np.full((2,3), np.nan)\n",
    "my_arr"
   ]
  },
  {
   "cell_type": "code",
   "execution_count": 19,
   "id": "a917e41f",
   "metadata": {
    "slideshow": {
     "slide_type": "subslide"
    }
   },
   "outputs": [
    {
     "ename": "ValueError",
     "evalue": "cannot convert float NaN to integer",
     "output_type": "error",
     "traceback": [
      "\u001b[0;31m---------------------------------------------------------------------------\u001b[0m",
      "\u001b[0;31mValueError\u001b[0m                                Traceback (most recent call last)",
      "Cell \u001b[0;32mIn[19], line 3\u001b[0m\n\u001b[1;32m      1\u001b[0m \u001b[38;5;66;03m# this code will fail, as the array type is int:\u001b[39;00m\n\u001b[1;32m      2\u001b[0m my_arr \u001b[38;5;241m=\u001b[39m np\u001b[38;5;241m.\u001b[39mfull((\u001b[38;5;241m2\u001b[39m,\u001b[38;5;241m3\u001b[39m), \u001b[38;5;241m1\u001b[39m)\n\u001b[0;32m----> 3\u001b[0m \u001b[43mmy_arr\u001b[49m\u001b[43m[\u001b[49m\u001b[38;5;241;43m0\u001b[39;49m\u001b[43m]\u001b[49m \u001b[38;5;241m=\u001b[39m np\u001b[38;5;241m.\u001b[39mnan\n",
      "\u001b[0;31mValueError\u001b[0m: cannot convert float NaN to integer"
     ]
    }
   ],
   "source": [
    "# this code will fail, as the array type is int:\n",
    "my_arr = np.full((2,3), 1)\n",
    "my_arr[0] = np.nan"
   ]
  },
  {
   "cell_type": "markdown",
   "id": "657f9b5f",
   "metadata": {
    "slideshow": {
     "slide_type": "subslide"
    }
   },
   "source": [
    "### Memory-efficient types\n",
    "\n",
    "We can also use some special data type from numpy, for memory saving purposes:\n",
    " - `np.uint8` (numbers from 0 to 255)\n",
    " - `np.int8` (numbers from -128 to 127)\n",
    " - `np.uint16` (numbers from 0 to 65535)\n",
    " - `np.int16` (numbers from -32768 to 32767)\n",
    " \n",
    "The number (8 or 16) represents the number of **bits** used for every entry in the array!"
   ]
  },
  {
   "cell_type": "code",
   "execution_count": 25,
   "id": "e0b5ce04",
   "metadata": {
    "slideshow": {
     "slide_type": "subslide"
    }
   },
   "outputs": [
    {
     "data": {
      "text/plain": [
       "480128"
      ]
     },
     "execution_count": 25,
     "metadata": {},
     "output_type": "execute_result"
    }
   ],
   "source": [
    "a_python_int_array = np.ones((200, 300), dtype=int)\n",
    "\n",
    "# With this code we can ask for the size of the array in RAM memory, with the (default) sys library:\n",
    "import sys\n",
    "sys.getsizeof(a_python_int_array) "
   ]
  },
  {
   "cell_type": "code",
   "execution_count": null,
   "id": "d565f5cb",
   "metadata": {},
   "outputs": [],
   "source": [
    "a_uint8_array = np.ones((200, 300), dtype=np.uint8)\n",
    "\n",
    "sys.getsizeof(a_uint8_array)  # the np.uint8 type is much more efficient!"
   ]
  },
  {
   "cell_type": "markdown",
   "id": "ba90b04d",
   "metadata": {
    "slideshow": {
     "slide_type": "subslide"
    }
   },
   "source": [
    "We can also make arrays of text! "
   ]
  },
  {
   "cell_type": "code",
   "execution_count": 26,
   "id": "b096ccab",
   "metadata": {},
   "outputs": [
    {
     "data": {
      "text/plain": [
       "array([['some text', 'some text', 'some text', ..., 'some text',\n",
       "        'some text', 'some text'],\n",
       "       ['some text', 'some text', 'some text', ..., 'some text',\n",
       "        'some text', 'some text'],\n",
       "       ['some text', 'some text', 'some text', ..., 'some text',\n",
       "        'some text', 'some text'],\n",
       "       ...,\n",
       "       ['some text', 'some text', 'some text', ..., 'some text',\n",
       "        'some text', 'some text'],\n",
       "       ['some text', 'some text', 'some text', ..., 'some text',\n",
       "        'some text', 'some text'],\n",
       "       ['some text', 'some text', 'some text', ..., 'some text',\n",
       "        'some text', 'some text']], dtype='<U9')"
      ]
     },
     "execution_count": 26,
     "metadata": {},
     "output_type": "execute_result"
    }
   ],
   "source": [
    "txt = np.full((300,2000), \"some text\")\n",
    "\n",
    "txt  # look at the dtype! the number you read will be the number of characters:"
   ]
  },
  {
   "cell_type": "markdown",
   "id": "1a5cff36",
   "metadata": {
    "slideshow": {
     "slide_type": "subslide"
    }
   },
   "source": [
    "### Useful attributes of `np.ndarray` objects"
   ]
  },
  {
   "cell_type": "markdown",
   "id": "25249f55",
   "metadata": {},
   "source": [
    "Being objects, `np.ndarray`s have **attributes** (or, most likely, properties) that can be useful to check out how they are structured!"
   ]
  },
  {
   "cell_type": "markdown",
   "id": "0cb5ff62",
   "metadata": {
    "slideshow": {
     "slide_type": "subslide"
    }
   },
   "source": [
    "### `.shape` and `.ndim`"
   ]
  },
  {
   "cell_type": "markdown",
   "id": "52116cc5",
   "metadata": {},
   "source": [
    "The `.ndim` attribute gives us the number of dimensions of the array"
   ]
  },
  {
   "cell_type": "code",
   "execution_count": 27,
   "id": "abbc84bd",
   "metadata": {},
   "outputs": [
    {
     "data": {
      "text/plain": [
       "4"
      ]
     },
     "execution_count": 27,
     "metadata": {},
     "output_type": "execute_result"
    }
   ],
   "source": [
    "my_array = np.zeros((4,3, 5, 10))\n",
    "\n",
    "my_array.ndim"
   ]
  },
  {
   "cell_type": "markdown",
   "id": "6ba3fca0",
   "metadata": {
    "slideshow": {
     "slide_type": "subslide"
    }
   },
   "source": [
    "The `.shape` attribute gives us the shape (the number of elements along each dimension of the array):"
   ]
  },
  {
   "cell_type": "code",
   "execution_count": 28,
   "id": "afc2a8ae",
   "metadata": {},
   "outputs": [],
   "source": [
    "my_array = np.ones((4, 3, 3, 10))"
   ]
  },
  {
   "cell_type": "code",
   "execution_count": 29,
   "id": "3e344e12",
   "metadata": {},
   "outputs": [
    {
     "data": {
      "text/plain": [
       "(4, 3, 3, 10)"
      ]
     },
     "execution_count": 29,
     "metadata": {},
     "output_type": "execute_result"
    }
   ],
   "source": [
    "my_array.shape"
   ]
  },
  {
   "cell_type": "markdown",
   "id": "d911ff8c",
   "metadata": {
    "slideshow": {
     "slide_type": "subslide"
    }
   },
   "source": [
    "### `.dtype`\n",
    "\n",
    "The `.dtype` attribute gives the type of the elements in the array:"
   ]
  },
  {
   "cell_type": "code",
   "execution_count": 30,
   "id": "b9d2a6ef",
   "metadata": {},
   "outputs": [
    {
     "data": {
      "text/plain": [
       "dtype('float64')"
      ]
     },
     "execution_count": 30,
     "metadata": {},
     "output_type": "execute_result"
    }
   ],
   "source": [
    "my_array = np.full((4,3,5), 10.)\n",
    "my_array.dtype"
   ]
  },
  {
   "cell_type": "markdown",
   "id": "2146f10c",
   "metadata": {
    "slideshow": {
     "slide_type": "subslide"
    }
   },
   "source": [
    "### `.size`\n",
    "\n",
    "Do not confuse `.shape` with `.size`! `.size` gives the numbers of elements in the whole matrix:"
   ]
  },
  {
   "cell_type": "code",
   "execution_count": 31,
   "id": "556efcc0",
   "metadata": {},
   "outputs": [
    {
     "data": {
      "text/plain": [
       "12"
      ]
     },
     "execution_count": 31,
     "metadata": {},
     "output_type": "execute_result"
    }
   ],
   "source": [
    "my_array = np.full((4,3), 3)\n",
    "my_array.size"
   ]
  },
  {
   "cell_type": "markdown",
   "id": "1e35ff8d",
   "metadata": {},
   "source": [
    "Note that an array's size is the product of its shape's elements (i.e., a (4,3) array contains 12 elements because 4*3 = 12)"
   ]
  },
  {
   "cell_type": "code",
   "execution_count": null,
   "id": "92e9c6f5",
   "metadata": {},
   "outputs": [],
   "source": [
    "my_array.size == (my_array.shape[0] * my_array.shape[1])"
   ]
  },
  {
   "cell_type": "markdown",
   "id": "58bfd10b",
   "metadata": {
    "slideshow": {
     "slide_type": "subslide"
    }
   },
   "source": [
    "### Convert lists to arrays\n",
    "\n",
    "One way of creating an array is to convert an existing list into an array with the `np.array()` function:"
   ]
  },
  {
   "cell_type": "code",
   "execution_count": null,
   "id": "1c810d05",
   "metadata": {},
   "outputs": [],
   "source": [
    "my_list = [1,2,3,4]\n",
    "np.array(my_list)"
   ]
  },
  {
   "cell_type": "markdown",
   "id": "d1096bea",
   "metadata": {
    "slideshow": {
     "slide_type": "subslide"
    }
   },
   "source": [
    "Converting **lists of lists** will add more dimensions:"
   ]
  },
  {
   "cell_type": "code",
   "execution_count": 34,
   "id": "c9c71f62",
   "metadata": {},
   "outputs": [
    {
     "data": {
      "text/plain": [
       "array([[1, 2, 3, 4],\n",
       "       [2, 3, 4, 5]])"
      ]
     },
     "execution_count": 34,
     "metadata": {},
     "output_type": "execute_result"
    }
   ],
   "source": [
    "my_list = [[1,2,3,4], \n",
    "           [2,3,4,5]]\n",
    "np.array(my_list)"
   ]
  },
  {
   "cell_type": "markdown",
   "id": "01276631",
   "metadata": {},
   "source": [
    "If you do so, make sure that all lists have the same length!"
   ]
  },
  {
   "cell_type": "markdown",
   "id": "b8bfbbed",
   "metadata": {
    "slideshow": {
     "slide_type": "subslide"
    }
   },
   "source": [
    "#### `np.arange()`\n",
    "\n",
    "We can create ordered sequences of numbers using `np.arange()`:"
   ]
  },
  {
   "cell_type": "code",
   "execution_count": 35,
   "id": "588557e6",
   "metadata": {},
   "outputs": [
    {
     "data": {
      "text/plain": [
       "array([0, 1, 2, 3, 4, 5, 6, 7, 8, 9])"
      ]
     },
     "execution_count": 35,
     "metadata": {},
     "output_type": "execute_result"
    }
   ],
   "source": [
    "np.arange(10)  # numbers from 0 to 9"
   ]
  },
  {
   "cell_type": "markdown",
   "id": "7623410a",
   "metadata": {
    "slideshow": {
     "slide_type": "subslide"
    }
   },
   "source": [
    "We can optionally specify start, end, and step of the sequence (start and steps are optional; the logic is the same as for the list indexing)"
   ]
  },
  {
   "cell_type": "code",
   "execution_count": 36,
   "id": "4c769391",
   "metadata": {},
   "outputs": [
    {
     "data": {
      "text/plain": [
       "array([1, 4, 7])"
      ]
     },
     "execution_count": 36,
     "metadata": {},
     "output_type": "execute_result"
    }
   ],
   "source": [
    "np.arange(1, 10, 3)  # numbers from 1 to 10 in steps of 2:"
   ]
  },
  {
   "cell_type": "markdown",
   "id": "a6c21540",
   "metadata": {
    "slideshow": {
     "slide_type": "subslide"
    }
   },
   "source": [
    "#### `np.linspace()`\n",
    "\n",
    "Alternatively, we can use `np.linspace()` to generate n=`num` equally spaced numbers in a specified range:"
   ]
  },
  {
   "cell_type": "code",
   "execution_count": 37,
   "id": "0be75f75",
   "metadata": {},
   "outputs": [
    {
     "data": {
      "text/plain": [
       "array([0.        , 0.01010101, 0.02020202, 0.03030303, 0.04040404,\n",
       "       0.05050505, 0.06060606, 0.07070707, 0.08080808, 0.09090909,\n",
       "       0.1010101 , 0.11111111, 0.12121212, 0.13131313, 0.14141414,\n",
       "       0.15151515, 0.16161616, 0.17171717, 0.18181818, 0.19191919,\n",
       "       0.2020202 , 0.21212121, 0.22222222, 0.23232323, 0.24242424,\n",
       "       0.25252525, 0.26262626, 0.27272727, 0.28282828, 0.29292929,\n",
       "       0.3030303 , 0.31313131, 0.32323232, 0.33333333, 0.34343434,\n",
       "       0.35353535, 0.36363636, 0.37373737, 0.38383838, 0.39393939,\n",
       "       0.4040404 , 0.41414141, 0.42424242, 0.43434343, 0.44444444,\n",
       "       0.45454545, 0.46464646, 0.47474747, 0.48484848, 0.49494949,\n",
       "       0.50505051, 0.51515152, 0.52525253, 0.53535354, 0.54545455,\n",
       "       0.55555556, 0.56565657, 0.57575758, 0.58585859, 0.5959596 ,\n",
       "       0.60606061, 0.61616162, 0.62626263, 0.63636364, 0.64646465,\n",
       "       0.65656566, 0.66666667, 0.67676768, 0.68686869, 0.6969697 ,\n",
       "       0.70707071, 0.71717172, 0.72727273, 0.73737374, 0.74747475,\n",
       "       0.75757576, 0.76767677, 0.77777778, 0.78787879, 0.7979798 ,\n",
       "       0.80808081, 0.81818182, 0.82828283, 0.83838384, 0.84848485,\n",
       "       0.85858586, 0.86868687, 0.87878788, 0.88888889, 0.8989899 ,\n",
       "       0.90909091, 0.91919192, 0.92929293, 0.93939394, 0.94949495,\n",
       "       0.95959596, 0.96969697, 0.97979798, 0.98989899, 1.        ])"
      ]
     },
     "execution_count": 37,
     "metadata": {},
     "output_type": "execute_result"
    }
   ],
   "source": [
    "# 5 equispaced values between 0 and 10, included:\n",
    "np.linspace(0, 1, 100) # aka np.linspace(0, 10, num=5)"
   ]
  },
  {
   "cell_type": "markdown",
   "id": "6c43ec0f",
   "metadata": {
    "slideshow": {
     "slide_type": "subslide"
    }
   },
   "source": [
    "### Random arrays\n",
    "\n",
    "We can use the `np.random` submodule to create random arrays. For example:"
   ]
  },
  {
   "cell_type": "code",
   "execution_count": 38,
   "id": "71bdfe61",
   "metadata": {},
   "outputs": [
    {
     "data": {
      "text/plain": [
       "array([[6, 2],\n",
       "       [6, 1],\n",
       "       [3, 0]])"
      ]
     },
     "execution_count": 38,
     "metadata": {},
     "output_type": "execute_result"
    }
   ],
   "source": [
    "np.random.randint(0, 10, (3,2))  # we pass min, max, and desired shape of the random array"
   ]
  },
  {
   "cell_type": "markdown",
   "id": "f682a745",
   "metadata": {
    "slideshow": {
     "slide_type": "subslide"
    }
   },
   "source": [
    "(Practicals 1.0.0)"
   ]
  },
  {
   "cell_type": "markdown",
   "id": "d75a5b6a",
   "metadata": {
    "slideshow": {
     "slide_type": "subslide"
    }
   },
   "source": [
    "## Indexing arrays\n",
    "\n",
    "We have three ways of indexing arrays:\n",
    " - **slicing**: as for lists (specifying single values, or start/end/steps)\n",
    " - **integer indexing**: specifying with lists/arrays/tuples of indexes which elements to keep\n",
    " - **boolean indexing**: using `True`/`False` lists/arrays/tuples to specify which elements to keep"
   ]
  },
  {
   "cell_type": "markdown",
   "id": "0815bbdc",
   "metadata": {
    "slideshow": {
     "slide_type": "subslide"
    }
   },
   "source": [
    "### Slicing\n",
    "\n",
    "We can index arrays as we were doing with lists (this operation is called array **slicing**). For a 1D array:"
   ]
  },
  {
   "cell_type": "code",
   "execution_count": 3,
   "id": "6f91139e",
   "metadata": {},
   "outputs": [
    {
     "name": "stdout",
     "output_type": "stream",
     "text": [
      "[0 1 2 3 4 5 6 7 8 9]\n",
      "[0 1 2 3 4]\n",
      "[7 8 9]\n",
      "[0 2 4]\n",
      "[0 1 2 3 4 5 6 7 8 9]\n"
     ]
    }
   ],
   "source": [
    "my_vect = np.arange(0, 10)\n",
    "print(my_vect)\n",
    "print(my_vect[:5])  # first 5\n",
    "print(my_vect[-3:])  # last 3\n",
    "print(my_vect[:6:2])  # first 6, one every two\n",
    "\n",
    "print(my_vect[:])  # this is a \"null\" indexing that returns all values"
   ]
  },
  {
   "cell_type": "markdown",
   "id": "546a29c3",
   "metadata": {},
   "source": [
    "But! With `np.ndarray`s we have more flexibility than with lists!"
   ]
  },
  {
   "cell_type": "markdown",
   "id": "09b4fd21",
   "metadata": {
    "slideshow": {
     "slide_type": "subslide"
    }
   },
   "source": [
    "### Indexing with arrays (or lists) of integer indexes\n",
    "\n",
    "We can index passing an array (or a list) of the index values that we want to retrieve!"
   ]
  },
  {
   "cell_type": "code",
   "execution_count": 5,
   "id": "b919ba08",
   "metadata": {},
   "outputs": [
    {
     "name": "stdout",
     "output_type": "stream",
     "text": [
      "[ -6.31054481  -3.2324502    2.76922287  -6.78739881 -10.31540009\n",
      " -11.72610999   5.76359461]\n"
     ]
    }
   ],
   "source": [
    "my_vect = np.random.normal(0, 10, 7)  # 4 values from a normal distribution of mean 0, std 10\n",
    "print(my_vect)"
   ]
  },
  {
   "cell_type": "code",
   "execution_count": 6,
   "id": "47d23929",
   "metadata": {},
   "outputs": [
    {
     "data": {
      "text/plain": [
       "array([-6.31054481, -3.2324502 ,  5.76359461])"
      ]
     },
     "execution_count": 6,
     "metadata": {},
     "output_type": "execute_result"
    }
   ],
   "source": [
    "index_list = [0, 1, 6]  # to be indexes, those values have to be integers!\n",
    "\n",
    "my_vect[index_list]  # we pass the index list (or array) in square brackets"
   ]
  },
  {
   "cell_type": "code",
   "execution_count": 7,
   "id": "1c9aa815",
   "metadata": {
    "slideshow": {
     "slide_type": "subslide"
    }
   },
   "outputs": [
    {
     "ename": "IndexError",
     "evalue": "only integers, slices (`:`), ellipsis (`...`), numpy.newaxis (`None`) and integer or boolean arrays are valid indices",
     "output_type": "error",
     "traceback": [
      "\u001b[0;31m---------------------------------------------------------------------------\u001b[0m",
      "\u001b[0;31mIndexError\u001b[0m                                Traceback (most recent call last)",
      "Cell \u001b[0;32mIn[7], line 3\u001b[0m\n\u001b[1;32m      1\u001b[0m index_list \u001b[38;5;241m=\u001b[39m [\u001b[38;5;241m0.0\u001b[39m, \u001b[38;5;241m2.0\u001b[39m]  \u001b[38;5;66;03m# won't work with floats\u001b[39;00m\n\u001b[0;32m----> 3\u001b[0m \u001b[43mmy_vect\u001b[49m\u001b[43m[\u001b[49m\u001b[43mindex_list\u001b[49m\u001b[43m]\u001b[49m\n",
      "\u001b[0;31mIndexError\u001b[0m: only integers, slices (`:`), ellipsis (`...`), numpy.newaxis (`None`) and integer or boolean arrays are valid indices"
     ]
    }
   ],
   "source": [
    "index_list = [0.0, 2.0]  # won't work with floats\n",
    "\n",
    "my_vect[index_list]"
   ]
  },
  {
   "cell_type": "markdown",
   "id": "c2a79972",
   "metadata": {
    "slideshow": {
     "slide_type": "subslide"
    }
   },
   "source": [
    "### Boolean indexing\n",
    "\n",
    "Alternatively, we can use arrays of boolean values.\n",
    "\n",
    "The boolean indexing vector must have the same shape of the array to be indexed!"
   ]
  },
  {
   "cell_type": "code",
   "execution_count": 10,
   "id": "0c5f372c",
   "metadata": {},
   "outputs": [
    {
     "data": {
      "text/plain": [
       "array([1, 3])"
      ]
     },
     "execution_count": 10,
     "metadata": {},
     "output_type": "execute_result"
    }
   ],
   "source": [
    "my_vect = np.array([1,2,3,4, 5])\n",
    "\n",
    "boolean_selector = [True, False, True, False, False]\n",
    "\n",
    "my_vect[boolean_selector]"
   ]
  },
  {
   "cell_type": "markdown",
   "id": "aa86c5d4",
   "metadata": {
    "slideshow": {
     "slide_type": "subslide"
    }
   },
   "source": [
    "Boolean indexing is a powerful way of filtering arrays based on some criterion:"
   ]
  },
  {
   "cell_type": "code",
   "execution_count": 11,
   "id": "3014bf0d",
   "metadata": {},
   "outputs": [
    {
     "name": "stdout",
     "output_type": "stream",
     "text": [
      "[False False False  True  True]\n"
     ]
    }
   ],
   "source": [
    "thr = 3\n",
    "boolean_selector = my_vect > thr  # this operation returns a boolean array with the element-wise results\n",
    "print(boolean_selector)"
   ]
  },
  {
   "cell_type": "code",
   "execution_count": 12,
   "id": "034d6bfd",
   "metadata": {},
   "outputs": [
    {
     "data": {
      "text/plain": [
       "array([4, 5])"
      ]
     },
     "execution_count": 12,
     "metadata": {},
     "output_type": "execute_result"
    }
   ],
   "source": [
    "my_vect[boolean_selector]"
   ]
  },
  {
   "cell_type": "markdown",
   "id": "ac025c36",
   "metadata": {
    "slideshow": {
     "slide_type": "subslide"
    }
   },
   "source": [
    "### Multidimensional indexing\n",
    "\n",
    "Many times, we want to index independently one or many axes of an n-dimensional array.\n",
    "\n",
    "We can index over multiple dimensions specifying **comma-separated** indexes along each dimension:"
   ]
  },
  {
   "cell_type": "code",
   "execution_count": 15,
   "id": "8c388453",
   "metadata": {
    "slideshow": {
     "slide_type": "subslide"
    }
   },
   "outputs": [
    {
     "name": "stdout",
     "output_type": "stream",
     "text": [
      "[[ 1  2  3  4  5]\n",
      " [ 6  7  8  9 10]\n",
      " [11 12 13 14 15]]\n",
      "----\n",
      "[11 12 13 14 15]\n",
      "[ 1  6 11]\n"
     ]
    }
   ],
   "source": [
    "my_mat = np.array([[1,   2,  3,  4, 5],\n",
    "                   [6,   7,  8,  9, 10],\n",
    "                   [11, 12, 13, 14, 15]])\n",
    "print(my_mat)\n",
    "print(\"----\")\n",
    "# this idexes the first dimension (select the 3rd row) and leaves all elements over the second (:):\n",
    "print(my_mat[2, :])\n",
    "\n",
    "# this idexes the second dimension (select the 1st column) and leaves all elements over the rows (:):\n",
    "print(my_mat[:, 0])"
   ]
  },
  {
   "cell_type": "code",
   "execution_count": 16,
   "id": "89b1120a",
   "metadata": {
    "slideshow": {
     "slide_type": "subslide"
    }
   },
   "outputs": [
    {
     "data": {
      "text/plain": [
       "array([[ 1,  3,  5],\n",
       "       [ 6,  8, 10]])"
      ]
     },
     "execution_count": 16,
     "metadata": {},
     "output_type": "execute_result"
    }
   ],
   "source": [
    "# this takes one every 2 columns, for the first 2 rows:\n",
    "my_mat[:2, ::2]"
   ]
  },
  {
   "cell_type": "markdown",
   "id": "2748e211",
   "metadata": {
    "slideshow": {
     "slide_type": "subslide"
    }
   },
   "source": [
    "If we specify a single index, `numpy` assumes you're indexing the first dimension:\n"
   ]
  },
  {
   "cell_type": "code",
   "execution_count": 17,
   "id": "e0df5278",
   "metadata": {},
   "outputs": [
    {
     "data": {
      "text/plain": [
       "array([11, 12, 13, 14, 15])"
      ]
     },
     "execution_count": 17,
     "metadata": {},
     "output_type": "execute_result"
    }
   ],
   "source": [
    "my_mat[2, :]  # the same as writing my_mat[2, :], but discouraged!"
   ]
  },
  {
   "cell_type": "markdown",
   "id": "3cb1dadb",
   "metadata": {
    "slideshow": {
     "slide_type": "subslide"
    }
   },
   "source": [
    "### Combining indexing\n",
    "\n",
    "We can use any combination of indexes and boolean selectors for each axis, as long as the dimension matches:"
   ]
  },
  {
   "cell_type": "code",
   "execution_count": 19,
   "id": "ebfe84fa",
   "metadata": {},
   "outputs": [
    {
     "ename": "IndexError",
     "evalue": "boolean index did not match indexed array along dimension 1; dimension is 5 but corresponding boolean dimension is 3",
     "output_type": "error",
     "traceback": [
      "\u001b[0;31m---------------------------------------------------------------------------\u001b[0m",
      "\u001b[0;31mIndexError\u001b[0m                                Traceback (most recent call last)",
      "Cell \u001b[0;32mIn[19], line 7\u001b[0m\n\u001b[1;32m      5\u001b[0m \u001b[38;5;66;03m# Boolean indexing over one dimesion\u001b[39;00m\n\u001b[1;32m      6\u001b[0m boolean_selector \u001b[38;5;241m=\u001b[39m np\u001b[38;5;241m.\u001b[39marray([\u001b[38;5;28;01mTrue\u001b[39;00m, \u001b[38;5;28;01mFalse\u001b[39;00m, \u001b[38;5;28;01mFalse\u001b[39;00m])\n\u001b[0;32m----> 7\u001b[0m \u001b[43mmy_mat\u001b[49m\u001b[43m[\u001b[49m\u001b[43m:\u001b[49m\u001b[43m,\u001b[49m\u001b[43m \u001b[49m\u001b[43mboolean_selector\u001b[49m\u001b[43m]\u001b[49m\n",
      "\u001b[0;31mIndexError\u001b[0m: boolean index did not match indexed array along dimension 1; dimension is 5 but corresponding boolean dimension is 3"
     ]
    }
   ],
   "source": [
    "my_mat = np.array([[1,   2,  3,  4, 5],\n",
    "                   [6,   7,  8,  9, 10],\n",
    "                   [11, 12, 13, 14, 15]])\n",
    "\n",
    "# Boolean indexing over one dimesion\n",
    "boolean_selector = np.array([True, False, False])\n",
    "my_mat[:, boolean_selector]"
   ]
  },
  {
   "cell_type": "code",
   "execution_count": 21,
   "id": "adcabab8",
   "metadata": {
    "slideshow": {
     "slide_type": "subslide"
    }
   },
   "outputs": [
    {
     "data": {
      "text/plain": [
       "array([2])"
      ]
     },
     "execution_count": 21,
     "metadata": {},
     "output_type": "execute_result"
    }
   ],
   "source": [
    "# Boolean selector over one axis, numerical indexing over another axis, slicing over the third axis:\n",
    "my_mat[boolean_selector, 1]"
   ]
  },
  {
   "cell_type": "markdown",
   "id": "d2c80599",
   "metadata": {
    "slideshow": {
     "slide_type": "subslide"
    }
   },
   "source": [
    "## array views"
   ]
  },
  {
   "cell_type": "markdown",
   "id": "79b2c68a",
   "metadata": {},
   "source": [
    "Indexing operations return **views** on the original arrays, NOT COPIES! Changing values in the slice we will also alter the original array!"
   ]
  },
  {
   "cell_type": "code",
   "execution_count": 25,
   "id": "3f768a0f",
   "metadata": {},
   "outputs": [
    {
     "name": "stdout",
     "output_type": "stream",
     "text": [
      "[11 12 13 14 15]\n",
      "[[ 1  2  3  4  5]\n",
      " [ 6  7  8  9 10]\n",
      " [11 12 13 14 15]]\n"
     ]
    }
   ],
   "source": [
    "# import numpy as np\n",
    "my_mat = np.array([[1,   2,  3,  4, 5],\n",
    "                   [6,   7,  8,  9, 10],\n",
    "                   [11, 12, 13, 14, 15]])\n",
    "\n",
    "a_slice = my_mat[2, :] .copy() # this is a view of the original data, not a copy!\n",
    "print(a_slice)\n",
    "a_slice[0] = 100\n",
    "print(my_mat)"
   ]
  },
  {
   "cell_type": "code",
   "execution_count": null,
   "id": "c21fe18e",
   "metadata": {},
   "outputs": [],
   "source": [
    "my_mat"
   ]
  },
  {
   "cell_type": "markdown",
   "id": "25ecf9c7",
   "metadata": {
    "slideshow": {
     "slide_type": "subslide"
    }
   },
   "source": [
    "### Mind singleton dimensions!"
   ]
  },
  {
   "cell_type": "markdown",
   "id": "97a686ec",
   "metadata": {},
   "source": [
    "Arrays can have **singleton dimensions** - _i.e._ dimensions along which there is a single entry.\n",
    "In python, an array of size `(4,)` and an array of size `(4,1)` are different even if they look the same!"
   ]
  },
  {
   "cell_type": "code",
   "execution_count": 26,
   "id": "5568dca5",
   "metadata": {},
   "outputs": [
    {
     "name": "stdout",
     "output_type": "stream",
     "text": [
      "[0. 0. 0. 0.]; shape: (4,)\n"
     ]
    }
   ],
   "source": [
    "my_arr = np.zeros(4)  # this is a 1D array\n",
    "\n",
    "print(f\"{my_arr}; shape: {my_arr.shape}\")"
   ]
  },
  {
   "cell_type": "code",
   "execution_count": 27,
   "id": "dffa006c",
   "metadata": {},
   "outputs": [
    {
     "name": "stdout",
     "output_type": "stream",
     "text": [
      "[[0.]\n",
      " [0.]\n",
      " [0.]\n",
      " [0.]]; shape: (4, 1)\n"
     ]
    }
   ],
   "source": [
    "my_arr_1 = np.zeros((4, 1))  # this is a 2D array with a singleton dimension!\n",
    "print(f\"{my_arr_1}; shape: {my_arr_1.shape}\")"
   ]
  },
  {
   "cell_type": "markdown",
   "id": "43480c19",
   "metadata": {
    "slideshow": {
     "slide_type": "subslide"
    }
   },
   "source": [
    "Sometimes, it can be useful to quickly add a singleton dimension:"
   ]
  },
  {
   "cell_type": "code",
   "execution_count": 29,
   "id": "009690b0",
   "metadata": {},
   "outputs": [
    {
     "name": "stdout",
     "output_type": "stream",
     "text": [
      "[[0.]\n",
      " [0.]\n",
      " [0.]\n",
      " [0.]]; shape: (4, 1)\n"
     ]
    }
   ],
   "source": [
    "my_arr = np.zeros(4)  # 1D array\n",
    "\n",
    "# With this special indexing, we artificially add a singleton dimension on first dim:\n",
    "my_arr = my_arr[:, np.newaxis]  \n",
    "\n",
    "print(f\"{my_arr}; shape: {my_arr.shape}\")"
   ]
  },
  {
   "cell_type": "markdown",
   "id": "df6f9726",
   "metadata": {
    "slideshow": {
     "slide_type": "subslide"
    }
   },
   "source": [
    "## Visualize arrays and matrices"
   ]
  },
  {
   "cell_type": "markdown",
   "id": "8a9e3fbb",
   "metadata": {},
   "source": [
    "We can visualize arrays and matrices using the `matplotlib.pyplot` library."
   ]
  },
  {
   "cell_type": "code",
   "execution_count": 30,
   "id": "3c4bb711",
   "metadata": {},
   "outputs": [],
   "source": [
    "from matplotlib import pyplot as plt  # code you'll write many times in Python...\n",
    "import numpy as np"
   ]
  },
  {
   "cell_type": "markdown",
   "id": "cdcd60b8",
   "metadata": {
    "slideshow": {
     "slide_type": "subslide"
    }
   },
   "source": [
    "We can plot 1D arrays (or lists!) using `plt.plot()`:"
   ]
  },
  {
   "cell_type": "code",
   "execution_count": 31,
   "id": "07ad4f1a",
   "metadata": {},
   "outputs": [
    {
     "data": {
      "text/plain": [
       "[<matplotlib.lines.Line2D at 0x1102d5780>]"
      ]
     },
     "execution_count": 31,
     "metadata": {},
     "output_type": "execute_result"
    },
    {
     "data": {
      "image/png": "[encoded data removed]",
      "text/plain": [
       "<Figure size 640x480 with 1 Axes>"
      ]
     },
     "metadata": {},
     "output_type": "display_data"
    }
   ],
   "source": [
    "random_vect = np.random.randn(100)  # normal random vals array of shape 100\n",
    "plt.plot(random_vect)"
   ]
  },
  {
   "cell_type": "markdown",
   "id": "d6e58cb5",
   "metadata": {
    "slideshow": {
     "slide_type": "subslide"
    }
   },
   "source": [
    "We can also plot multiple arrays together:"
   ]
  },
  {
   "cell_type": "code",
   "execution_count": 32,
   "id": "2f3388e6",
   "metadata": {},
   "outputs": [
    {
     "data": {
      "text/plain": [
       "[<matplotlib.lines.Line2D at 0x110392ec0>,\n",
       " <matplotlib.lines.Line2D at 0x110392fb0>]"
      ]
     },
     "execution_count": 32,
     "metadata": {},
     "output_type": "execute_result"
    },
    {
     "data": {
      "image/png": "[encoded data removed]",
      "text/plain": [
       "<Figure size 640x480 with 1 Axes>"
      ]
     },
     "metadata": {},
     "output_type": "display_data"
    }
   ],
   "source": [
    "# each line will be an element over the second dimension, in this case we will have 2 lines):\n",
    "random_vect = np.random.randn(100, 2)  # normal random vals array of shape (100, 2)\n",
    "plt.plot(random_vect)"
   ]
  },
  {
   "cell_type": "markdown",
   "id": "32691fd1",
   "metadata": {
    "slideshow": {
     "slide_type": "subslide"
    }
   },
   "source": [
    "We can visualize 2D matrices with `plt.matshow()`"
   ]
  },
  {
   "cell_type": "code",
   "execution_count": 33,
   "id": "cc3857d6",
   "metadata": {},
   "outputs": [
    {
     "data": {
      "text/plain": [
       "<matplotlib.colorbar.Colorbar at 0x1103eb1c0>"
      ]
     },
     "execution_count": 33,
     "metadata": {},
     "output_type": "execute_result"
    },
    {
     "data": {
      "image/png": "[encoded data removed]",
      "text/plain": [
       "<Figure size 960x480 with 2 Axes>"
      ]
     },
     "metadata": {},
     "output_type": "display_data"
    }
   ],
   "source": [
    "random_mat = np.random.randint(0, 255, (100, 200))  # (100, 200) shape array of random integers between 0 and 255:\n",
    "\n",
    "plt.matshow(random_mat)  # plt.imshow()\n",
    "plt.colorbar()"
   ]
  },
  {
   "cell_type": "markdown",
   "id": "6272ad39",
   "metadata": {
    "slideshow": {
     "slide_type": "subslide"
    }
   },
   "source": [
    "This can be convenient to check quickly the results of slicing:"
   ]
  },
  {
   "cell_type": "code",
   "execution_count": 34,
   "id": "cdedb674",
   "metadata": {},
   "outputs": [
    {
     "data": {
      "text/plain": [
       "<matplotlib.image.AxesImage at 0x110510580>"
      ]
     },
     "execution_count": 34,
     "metadata": {},
     "output_type": "execute_result"
    },
    {
     "data": {
      "image/png": "[encoded data removed]",
      "text/plain": [
       "<Figure size 1600x240 with 1 Axes>"
      ]
     },
     "metadata": {},
     "output_type": "display_data"
    }
   ],
   "source": [
    "plt.matshow(random_mat[:3, ::10])"
   ]
  },
  {
   "cell_type": "markdown",
   "id": "441b5c88",
   "metadata": {},
   "source": [
    "There's much more to the matplotlib library, we'll discover more things as we go!"
   ]
  },
  {
   "cell_type": "markdown",
   "id": "545ef2d3",
   "metadata": {
    "slideshow": {
     "slide_type": "subslide"
    }
   },
   "source": [
    "(Practicals 1.0.1)"
   ]
  },
  {
   "cell_type": "markdown",
   "id": "9b99acf8",
   "metadata": {},
   "source": [
    "[if we still have time]"
   ]
  },
  {
   "cell_type": "markdown",
   "id": "c13fc91a",
   "metadata": {
    "slideshow": {
     "slide_type": "subslide"
    }
   },
   "source": [
    "### `.T`"
   ]
  },
  {
   "cell_type": "markdown",
   "id": "f6eba3f5",
   "metadata": {},
   "source": [
    "We can get a **transposed view** (NOT A COPY) of a matrix with the `.T` attribute:"
   ]
  },
  {
   "cell_type": "code",
   "execution_count": null,
   "id": "3f81260f",
   "metadata": {},
   "outputs": [],
   "source": [
    "m = np.ones((3,2))\n",
    "print(m)"
   ]
  },
  {
   "cell_type": "code",
   "execution_count": null,
   "id": "334c461b",
   "metadata": {},
   "outputs": [],
   "source": [
    "m_t = m.T\n",
    "print(m_t)"
   ]
  },
  {
   "cell_type": "code",
   "execution_count": null,
   "id": "c07c472e",
   "metadata": {
    "slideshow": {
     "slide_type": "subslide"
    }
   },
   "outputs": [],
   "source": [
    "m_t[0, 0] = 2  # this is a view: if we change values in the transposed array, we change the original as well:\n",
    "m"
   ]
  },
  {
   "cell_type": "markdown",
   "id": "2abd3f73",
   "metadata": {
    "slideshow": {
     "slide_type": "subslide"
    }
   },
   "source": [
    "### `.flatten()`\n",
    "\n",
    "We can flatten all values of an N-dimensional array into a 1D array with the `.flatten()` syntax. This will make **a copy of the array**!"
   ]
  },
  {
   "cell_type": "code",
   "execution_count": null,
   "id": "17f26b2c",
   "metadata": {},
   "outputs": [],
   "source": [
    "m = np.ones((3,2,3))\n",
    "m_flat = m.flatten()\n",
    "\n",
    "print(m.shape, m_flat.shape)\n",
    "m_flat"
   ]
  },
  {
   "cell_type": "markdown",
   "id": "6f895b43",
   "metadata": {
    "slideshow": {
     "slide_type": "subslide"
    }
   },
   "source": [
    "### `np.concatenate()`\n",
    "\n",
    "We can concatenate arrays along any dimension by putting them in a list and pass the list to the `np.concatenate()` function:"
   ]
  },
  {
   "cell_type": "code",
   "execution_count": null,
   "id": "d000d326",
   "metadata": {},
   "outputs": [],
   "source": [
    "arr_list = [np.zeros(3), np.ones(3)]\n",
    "\n",
    "np.concatenate(arr_list) "
   ]
  },
  {
   "cell_type": "markdown",
   "id": "2cf30e5c",
   "metadata": {
    "slideshow": {
     "slide_type": "subslide"
    }
   },
   "source": [
    "By default, we concatenate over the first dimension:"
   ]
  },
  {
   "cell_type": "code",
   "execution_count": null,
   "id": "0ad897fe",
   "metadata": {},
   "outputs": [],
   "source": [
    "arr_list = [np.zeros((2,3)), np.ones((1,3))]\n",
    "arr_list"
   ]
  },
  {
   "cell_type": "code",
   "execution_count": null,
   "id": "a137337e",
   "metadata": {},
   "outputs": [],
   "source": [
    "np.concatenate(arr_list)  # if ndims > 1 by default we concatenate over the first dimension"
   ]
  },
  {
   "cell_type": "markdown",
   "id": "afcf316a",
   "metadata": {
    "slideshow": {
     "slide_type": "subslide"
    }
   },
   "source": [
    "but we can pass an `axis` argument to change the default behavior:"
   ]
  },
  {
   "cell_type": "code",
   "execution_count": null,
   "id": "0cffde82",
   "metadata": {},
   "outputs": [],
   "source": [
    "arr_list = [np.zeros((3,2)), np.ones((3,2))]\n",
    "\n",
    "np.concatenate(arr_list, axis=1) "
   ]
  },
  {
   "cell_type": "markdown",
   "id": "ec1b45ef",
   "metadata": {
    "slideshow": {
     "slide_type": "subslide"
    }
   },
   "source": [
    "### `np.stack()`"
   ]
  },
  {
   "cell_type": "markdown",
   "id": "fd09cca0",
   "metadata": {},
   "source": [
    "We can pile up arrays over a new dimension with  `np.stack()`:"
   ]
  },
  {
   "cell_type": "code",
   "execution_count": null,
   "id": "5c079461",
   "metadata": {},
   "outputs": [],
   "source": [
    "arr_list = [np.zeros((3, 2)), np.ones((3, 2))]\n",
    "\n",
    "np.stack(arr_list).shape"
   ]
  },
  {
   "cell_type": "markdown",
   "id": "0ac9540d",
   "metadata": {
    "slideshow": {
     "slide_type": "subslide"
    }
   },
   "source": [
    "## Array operations"
   ]
  },
  {
   "cell_type": "markdown",
   "id": "3347af5c",
   "metadata": {},
   "source": [
    "We obviously want to do some math with those arrays!"
   ]
  },
  {
   "cell_type": "markdown",
   "id": "9f174807",
   "metadata": {
    "slideshow": {
     "slide_type": "subslide"
    }
   },
   "source": [
    "### Operations with numbers"
   ]
  },
  {
   "cell_type": "markdown",
   "id": "8f022018",
   "metadata": {},
   "source": [
    "Operations with arrays are **by default element-wise**! (performed separately on every number of the array)"
   ]
  },
  {
   "cell_type": "markdown",
   "id": "621cdca1",
   "metadata": {
    "slideshow": {
     "slide_type": "subslide"
    }
   },
   "source": [
    "Sum / subtraction / multiplication / division apply to individual entries of the array:"
   ]
  },
  {
   "cell_type": "code",
   "execution_count": null,
   "id": "235c1b07",
   "metadata": {},
   "outputs": [],
   "source": [
    "np.ones(3) + 1"
   ]
  },
  {
   "cell_type": "code",
   "execution_count": null,
   "id": "47cea6e6",
   "metadata": {},
   "outputs": [],
   "source": [
    "my_arr = np.ones((4,3))\n",
    "my_arr[0, :] *= 100  # syntax equivalent to my_arr[0, :] = my_arr[0, :] * 100\n",
    "my_arr"
   ]
  },
  {
   "cell_type": "markdown",
   "id": "c8a487de",
   "metadata": {
    "slideshow": {
     "slide_type": "subslide"
    }
   },
   "source": [
    "Exponentiation also works element-wise:"
   ]
  },
  {
   "cell_type": "code",
   "execution_count": null,
   "id": "3527a015",
   "metadata": {},
   "outputs": [],
   "source": [
    "np.array((1,2,3))**3"
   ]
  },
  {
   "cell_type": "markdown",
   "id": "962c5c09",
   "metadata": {
    "slideshow": {
     "slide_type": "subslide"
    }
   },
   "source": [
    "### Operations between arrays"
   ]
  },
  {
   "cell_type": "markdown",
   "id": "fe14e1fc",
   "metadata": {
    "slideshow": {
     "slide_type": "subslide"
    }
   },
   "source": [
    "`numpy` works element-wise also when operating between arrays:"
   ]
  },
  {
   "cell_type": "code",
   "execution_count": null,
   "id": "41326888",
   "metadata": {},
   "outputs": [],
   "source": [
    "arr_1 = np.array([[1,2],\n",
    "                  [3,4]])\n",
    "arr_2 = np.array([[0,0],\n",
    "                  [0,2]])\n",
    "\n",
    "arr_1 * arr_2"
   ]
  },
  {
   "cell_type": "code",
   "execution_count": null,
   "id": "bff59d1a",
   "metadata": {},
   "outputs": [],
   "source": [
    "arr_1 ** arr_2"
   ]
  },
  {
   "cell_type": "markdown",
   "id": "c9335267",
   "metadata": {
    "slideshow": {
     "slide_type": "subslide"
    }
   },
   "source": [
    "Therefore, we normally expect arrays of matching shapes, or we get a `ValueError`!"
   ]
  },
  {
   "cell_type": "code",
   "execution_count": null,
   "id": "a32540cf",
   "metadata": {},
   "outputs": [],
   "source": [
    "np.ones((2, 3)) * np.ones((4, 5))"
   ]
  },
  {
   "cell_type": "markdown",
   "id": "13fd963f",
   "metadata": {
    "slideshow": {
     "slide_type": "subslide"
    }
   },
   "source": [
    "### Broadcasting"
   ]
  },
  {
   "cell_type": "markdown",
   "id": "692edac2",
   "metadata": {},
   "source": [
    "`numpy` has a smart way of dealing with some scenarios of non-matching dimensions, and we should use it!"
   ]
  },
  {
   "cell_type": "markdown",
   "id": "67687757",
   "metadata": {
    "slideshow": {
     "slide_type": "subslide"
    }
   },
   "source": [
    "Can be a bit tricky at the beginning, but it is very important: we can write very efficient and readable code with it!"
   ]
  },
  {
   "cell_type": "code",
   "execution_count": null,
   "id": "0a63614f",
   "metadata": {},
   "outputs": [],
   "source": [
    "# Assume we have a matrix of data:\n",
    "data = np.array([[ 0.0,  0.0,  0.0],\n",
    "                 [10.0, 10.0, 10.0],\n",
    "                 [20.0, 20.0, 20.0],\n",
    "                 [30.0, 30.0, 30.0]])\n",
    "\n",
    "data.shape"
   ]
  },
  {
   "cell_type": "code",
   "execution_count": null,
   "id": "d26f1a29",
   "metadata": {},
   "outputs": [],
   "source": [
    "offsets = np.array([1.0, 2.0, 3.0])  # we want to add an offset to each data column:\n",
    "data + offsets"
   ]
  },
  {
   "cell_type": "markdown",
   "id": "4dc85980",
   "metadata": {
    "slideshow": {
     "slide_type": "subslide"
    }
   },
   "source": [
    "### What is happening?"
   ]
  },
  {
   "cell_type": "markdown",
   "id": "04b925c2",
   "metadata": {},
   "source": [
    "Numpy automatically infer missing values to create arrays of matching shape, where it can the operate element-wise!"
   ]
  },
  {
   "cell_type": "markdown",
   "id": "ebe2bb1c",
   "metadata": {},
   "source": [
    "![Alt Text](https://numpy.org/doc/stable/_images/broadcasting_2.png)"
   ]
  },
  {
   "cell_type": "markdown",
   "id": "c03397ad",
   "metadata": {
    "slideshow": {
     "slide_type": "subslide"
    }
   },
   "source": [
    "## How does broadcasting work"
   ]
  },
  {
   "cell_type": "markdown",
   "id": "70f356d3",
   "metadata": {},
   "source": [
    "When operating on two arrays, NumPy compares their shapes. It starts **with the trailing** dimension - i.e., the rightmost dimension in the `shape` tuple - and works its way left. In a `(2,3)` matrix, broadcasting will start from columns (the `3` in `(2,3)`) and move on to rows (the `2` in `(2,3)`).\n",
    "\n",
    "Two dimensions are compatible when:\n",
    "\n",
    " - they are equal, or\n",
    " - one of them is 1."
   ]
  },
  {
   "cell_type": "markdown",
   "id": "17bb7075",
   "metadata": {
    "slideshow": {
     "slide_type": "subslide"
    }
   },
   "source": [
    "![Alt Text](https://i0.wp.com/andrewm4894.com/wp-content/uploads/2020/10/Annotation-2020-10-15-133235.jpg?w=486&ssl=1)"
   ]
  },
  {
   "cell_type": "markdown",
   "id": "a5e5dd20",
   "metadata": {
    "slideshow": {
     "slide_type": "subslide"
    }
   },
   "source": [
    "In our case:"
   ]
  },
  {
   "cell_type": "code",
   "execution_count": null,
   "id": "ea8e1c7a",
   "metadata": {},
   "outputs": [],
   "source": [
    "print(f\"shape a: {a.shape}\")\n",
    "print(f\"shape b: {b.shape}\")"
   ]
  },
  {
   "cell_type": "markdown",
   "id": "129e59f5",
   "metadata": {},
   "source": [
    "Shape b matches shape a over the last dimension, and is propagated over the rest of the dimensions"
   ]
  },
  {
   "cell_type": "markdown",
   "id": "8449c080",
   "metadata": {
    "slideshow": {
     "slide_type": "subslide"
    }
   },
   "source": [
    "For example, this operation will not work!"
   ]
  },
  {
   "cell_type": "code",
   "execution_count": null,
   "id": "a4324f0c",
   "metadata": {},
   "outputs": [],
   "source": [
    "a = np.concatenate([np.full((1,4), i) for i in range(5)], axis=0)\n",
    "print(a)"
   ]
  },
  {
   "cell_type": "code",
   "execution_count": null,
   "id": "cf0db310",
   "metadata": {
    "slideshow": {
     "slide_type": "-"
    }
   },
   "outputs": [],
   "source": [
    "b = np.ones(5)\n",
    "print(\"shape a: \", a.shape)\n",
    "print(\"shape b: \", b.shape)\n",
    "\n",
    "# this will not work as the rightmost dimensions are 5 and 4:\n",
    "a + b "
   ]
  },
  {
   "cell_type": "markdown",
   "id": "44862a7e",
   "metadata": {},
   "source": [
    "To make it work, we can use a trick: add a new \"dummy\" singleton dimension to `b` that will be broadcasted with the syntax `[:, np.newaxis]`"
   ]
  },
  {
   "cell_type": "code",
   "execution_count": null,
   "id": "afd2e35a",
   "metadata": {},
   "outputs": [],
   "source": [
    "b_twodim = b[:, np.newaxis]  # This does the trick by adding a dummy singleton dimension\n",
    "print(\"shape a: \", a.shape)\n",
    "print(\"shape b_twodim: \", b_twodim.shape)\n",
    "a + b_twodim  # now the last dimension is compatible between the two arrays:"
   ]
  }
 ],
 "metadata": {
  "celltoolbar": "Slideshow",
  "kernelspec": {
   "display_name": "course-env",
   "language": "python",
   "name": "course-env"
  },
  "language_info": {
   "codemirror_mode": {
    "name": "ipython",
    "version": 3
   },
   "file_extension": ".py",
   "mimetype": "text/x-python",
   "name": "python",
   "nbconvert_exporter": "python",
   "pygments_lexer": "ipython3",
   "version": "3.10.13"
  }
 },
 "nbformat": 4,
 "nbformat_minor": 5
}
