{
 "cells": [
  {
   "cell_type": "markdown",
   "id": "3ca811a3",
   "metadata": {
    "slideshow": {
     "slide_type": "slide"
    }
   },
   "source": [
    "# Python for (open) Neuroscience\n",
    "\n",
    "_Lecture 0.1_ - Data containers and flow controllers\n",
    "\n",
    "Luigi Petrucco\n",
    "\n",
    "[![Open In Colab](https://colab.research.google.com/assets/colab-badge.svg)](https://colab.research.google.com/github/vigji/python-cimec-2025/blob/main/lectures/Lecture0.1_Containers.ipynb)"
   ]
  },
  {
   "cell_type": "markdown",
   "id": "ca913d83",
   "metadata": {
    "slideshow": {
     "slide_type": "slide"
    }
   },
   "source": [
    "### Communications\n",
    "\n",
    "- Info homework submission\n",
    "- Info homework help"
   ]
  },
  {
   "cell_type": "markdown",
   "id": "64a35e08",
   "metadata": {
    "slideshow": {
     "slide_type": "slide"
    }
   },
   "source": [
    "## Overview of the lecture\n",
    "- the `str` type\n",
    "- Special variables: data containers\n",
    "    - `list`\n",
    "    - `dict`\n",
    "    - `tuple`\n",
    "    - `set`"
   ]
  },
  {
   "cell_type": "markdown",
   "id": "cd421e57",
   "metadata": {
    "slideshow": {
     "slide_type": "slide"
    }
   },
   "source": [
    "### `str`"
   ]
  },
  {
   "cell_type": "markdown",
   "id": "18ba6311",
   "metadata": {},
   "source": [
    "A variable type to represent text (of any length!)\n",
    "\n",
    "Delimited by either `\"` or `'` (just try to be consistent)"
   ]
  },
  {
   "cell_type": "code",
   "execution_count": 1,
   "id": "6ab17ddd",
   "metadata": {},
   "outputs": [
    {
     "data": {
      "text/plain": [
       "str"
      ]
     },
     "execution_count": 1,
     "metadata": {},
     "output_type": "execute_result"
    }
   ],
   "source": [
    "type('s')"
   ]
  },
  {
   "cell_type": "code",
   "execution_count": 2,
   "id": "86257c07",
   "metadata": {},
   "outputs": [
    {
     "data": {
      "text/plain": [
       "str"
      ]
     },
     "execution_count": 2,
     "metadata": {},
     "output_type": "execute_result"
    }
   ],
   "source": [
    "type(\"sasdfasdf\")"
   ]
  },
  {
   "cell_type": "markdown",
   "id": "9dd09704",
   "metadata": {
    "slideshow": {
     "slide_type": "subslide"
    }
   },
   "source": [
    " some operators can be used on strings: \n",
    "   - `+` (with another string)\n",
    "   - `*` (with an `int`)"
   ]
  },
  {
   "cell_type": "code",
   "execution_count": 4,
   "id": "ebf67769",
   "metadata": {},
   "outputs": [
    {
     "data": {
      "text/plain": [
       "'a_stringa_stringa_stringa_stringa_stringa_stringa_stringa_stringa_stringa_string'"
      ]
     },
     "execution_count": 4,
     "metadata": {},
     "output_type": "execute_result"
    }
   ],
   "source": [
    "\"a_string\" * 10"
   ]
  },
  {
   "cell_type": "code",
   "execution_count": 7,
   "id": "e20d6bbd",
   "metadata": {},
   "outputs": [
    {
     "data": {
      "text/plain": [
       "'ab1'"
      ]
     },
     "execution_count": 7,
     "metadata": {},
     "output_type": "execute_result"
    }
   ],
   "source": [
    "\"ab\" + \"1\""
   ]
  },
  {
   "cell_type": "markdown",
   "id": "5876cf43",
   "metadata": {
    "slideshow": {
     "slide_type": "subslide"
    }
   },
   "source": [
    "### Special string methods"
   ]
  },
  {
   "cell_type": "markdown",
   "id": "4d3f3b13",
   "metadata": {},
   "source": [
    "Strings have special  <span style=\"color:indianred\">methods</span> to do operations on them"
   ]
  },
  {
   "cell_type": "markdown",
   "id": "9faf8d04",
   "metadata": {},
   "source": [
    "A **method** is like a function called directly from a variable, getting as argument the variable itself\n"
   ]
  },
  {
   "cell_type": "markdown",
   "id": "2c7fde34",
   "metadata": {
    "slideshow": {
     "slide_type": "subslide"
    }
   },
   "source": [
    "Instead of:\n",
    "```python\n",
    "a_function(a_variable)\n",
    "```\n",
    "\n",
    "We will write:\n",
    "```python\n",
    "a_variable.its_method()\n",
    "```\n",
    "(we'll define more precisely methods in a future lecture) "
   ]
  },
  {
   "cell_type": "code",
   "execution_count": 8,
   "id": "3856ce88",
   "metadata": {
    "slideshow": {
     "slide_type": "subslide"
    }
   },
   "outputs": [],
   "source": [
    "a_string = \"Some text with many features: {} <- what are those brackets?\""
   ]
  },
  {
   "cell_type": "code",
   "execution_count": 9,
   "id": "2fdd34b2",
   "metadata": {},
   "outputs": [
    {
     "data": {
      "text/plain": [
       "'SOME TEXT WITH MANY FEATURES: {} <- WHAT ARE THOSE BRACKETS?'"
      ]
     },
     "execution_count": 9,
     "metadata": {},
     "output_type": "execute_result"
    }
   ],
   "source": [
    "a_string.upper()  # turn text uppercase"
   ]
  },
  {
   "cell_type": "code",
   "execution_count": 10,
   "id": "329b1d8a",
   "metadata": {
    "slideshow": {
     "slide_type": "subslide"
    }
   },
   "outputs": [
    {
     "data": {
      "text/plain": [
       "'some text with many features: {} <- what are those brackets?'"
      ]
     },
     "execution_count": 10,
     "metadata": {},
     "output_type": "execute_result"
    }
   ],
   "source": [
    "a_string.lower()  # turn text lowercase"
   ]
  },
  {
   "cell_type": "code",
   "execution_count": 14,
   "id": "6d79c563",
   "metadata": {
    "slideshow": {
     "slide_type": "subslide"
    }
   },
   "outputs": [
    {
     "data": {
      "text/plain": [
       "'SOME TEXT WITH MANY FEATURES: {} <- WHAT ARE THOSE BRACKETS?'"
      ]
     },
     "execution_count": 14,
     "metadata": {},
     "output_type": "execute_result"
    }
   ],
   "source": [
    "# We can assign the result of a method call to a new variable:\n",
    "\n",
    "uppercase_version = a_string.upper()  # turn text uppercase\n",
    "\n",
    "uppercase_version"
   ]
  },
  {
   "cell_type": "code",
   "execution_count": 15,
   "id": "6304f1e7",
   "metadata": {
    "slideshow": {
     "slide_type": "subslide"
    }
   },
   "outputs": [
    {
     "data": {
      "text/plain": [
       "['Some',\n",
       " 'text',\n",
       " 'with',\n",
       " 'many',\n",
       " 'features:',\n",
       " '{}',\n",
       " '<-',\n",
       " 'what',\n",
       " 'are',\n",
       " 'those',\n",
       " 'brackets?']"
      ]
     },
     "execution_count": 15,
     "metadata": {},
     "output_type": "execute_result"
    }
   ],
   "source": [
    "# Split string based on some value (by default, empty spaces)\n",
    "\n",
    "a_string.split()  # by default equivalent to a_string.split(\" \")"
   ]
  },
  {
   "cell_type": "code",
   "execution_count": null,
   "id": "ea7012bc",
   "metadata": {},
   "outputs": [],
   "source": [
    "a_string"
   ]
  },
  {
   "cell_type": "code",
   "execution_count": 19,
   "id": "afd0d9c4",
   "metadata": {
    "slideshow": {
     "slide_type": "subslide"
    }
   },
   "outputs": [
    {
     "data": {
      "text/plain": [
       "5"
      ]
     },
     "execution_count": 19,
     "metadata": {},
     "output_type": "execute_result"
    }
   ],
   "source": [
    "# Find the index of a given substring:\n",
    "a_string.find(\"text\")"
   ]
  },
  {
   "cell_type": "markdown",
   "id": "40c56b1a",
   "metadata": {
    "slideshow": {
     "slide_type": "subslide"
    }
   },
   "source": [
    "Strings can incorporate variables values in a space defined by curly brackets with the `.format()` method:"
   ]
  },
  {
   "cell_type": "code",
   "execution_count": 20,
   "id": "5d9adf29",
   "metadata": {},
   "outputs": [
    {
     "data": {
      "text/plain": [
       "'This place: 0.3333333333333333 :will be filled with the value'"
      ]
     },
     "execution_count": 20,
     "metadata": {},
     "output_type": "execute_result"
    }
   ],
   "source": [
    "\"This place: {} :will be filled with the value\".format(1/3)"
   ]
  },
  {
   "cell_type": "markdown",
   "id": "abff387a",
   "metadata": {
    "slideshow": {
     "slide_type": "subslide"
    }
   },
   "source": [
    "If we go back to our previous string:"
   ]
  },
  {
   "cell_type": "code",
   "execution_count": 21,
   "id": "29e87479",
   "metadata": {},
   "outputs": [
    {
     "name": "stdout",
     "output_type": "stream",
     "text": [
      "Some text with many features: {} <- what are those brackets?\n"
     ]
    }
   ],
   "source": [
    "print(a_string)"
   ]
  },
  {
   "cell_type": "code",
   "execution_count": 22,
   "id": "72c86fbc",
   "metadata": {},
   "outputs": [
    {
     "name": "stdout",
     "output_type": "stream",
     "text": [
      "Some text with many features: 1234 <- what are those brackets?\n",
      "Some text with many features: some text <- what are those brackets?\n"
     ]
    }
   ],
   "source": [
    "print(a_string.format(1234))\n",
    "print(a_string.format(\"some text\"))"
   ]
  },
  {
   "cell_type": "markdown",
   "id": "bf179504",
   "metadata": {
    "slideshow": {
     "slide_type": "subslide"
    }
   },
   "source": [
    "An alternative syntax, often preferred for shortness, is `f\"{a_variable}\"`:"
   ]
  },
  {
   "cell_type": "code",
   "execution_count": 24,
   "id": "11eda51d",
   "metadata": {},
   "outputs": [
    {
     "data": {
      "text/plain": [
       "\"The value of 'a' is: 2; different from 23\""
      ]
     },
     "execution_count": 24,
     "metadata": {},
     "output_type": "execute_result"
    }
   ],
   "source": [
    "a = 2\n",
    "f\"The value of 'a' is: {a}; different from {23}\""
   ]
  },
  {
   "cell_type": "markdown",
   "id": "3d8189e1",
   "metadata": {
    "slideshow": {
     "slide_type": "subslide"
    }
   },
   "source": [
    "### Indexing strings"
   ]
  },
  {
   "cell_type": "markdown",
   "id": "ff98d3e9",
   "metadata": {},
   "source": [
    "Strings can be indexed using integer numbers to get single characters. \n",
    "\n",
    "**Remember**: Python starts indexing from 0!"
   ]
  },
  {
   "cell_type": "code",
   "execution_count": 31,
   "id": "7fbc66fb",
   "metadata": {},
   "outputs": [
    {
     "data": {
      "text/plain": [
       "'l'"
      ]
     },
     "execution_count": 31,
     "metadata": {},
     "output_type": "execute_result"
    }
   ],
   "source": [
    "a_long_string = \"Some long string of any kind\"\n",
    "a_long_string[5]"
   ]
  },
  {
   "cell_type": "markdown",
   "id": "bad9733c",
   "metadata": {
    "slideshow": {
     "slide_type": "subslide"
    }
   },
   "source": [
    "We can also index whole segments using the colons syntax:\n",
    " \n",
    "   `start_index : end_index : step`"
   ]
  },
  {
   "cell_type": "code",
   "execution_count": 34,
   "id": "f2f95ba1",
   "metadata": {},
   "outputs": [
    {
     "name": "stdout",
     "output_type": "stream",
     "text": [
      "Some long string of any kind\n",
      "Some long string of \n"
     ]
    }
   ],
   "source": [
    "print(a_long_string)\n",
    "print(a_long_string[0:20:1])"
   ]
  },
  {
   "cell_type": "markdown",
   "id": "83fd22b2",
   "metadata": {
    "slideshow": {
     "slide_type": "subslide"
    }
   },
   "source": [
    "We can use the colons syntax and omit some of the numbers, python will assume what their values are:"
   ]
  },
  {
   "cell_type": "code",
   "execution_count": null,
   "id": "f8ba0b79",
   "metadata": {},
   "outputs": [],
   "source": [
    "a_long_string[5:]  # start from 5th element and get to the end in steps of 1"
   ]
  },
  {
   "cell_type": "code",
   "execution_count": null,
   "id": "e6573535",
   "metadata": {},
   "outputs": [],
   "source": [
    "a_long_string[:5] # start from beginning until element 5 in steps of 1"
   ]
  },
  {
   "cell_type": "code",
   "execution_count": null,
   "id": "6ff0b32a",
   "metadata": {},
   "outputs": [],
   "source": [
    "a_long_string[::2]  # from beginning to end, in steps of 2"
   ]
  },
  {
   "cell_type": "markdown",
   "id": "2e348272",
   "metadata": {
    "slideshow": {
     "slide_type": "subslide"
    }
   },
   "source": [
    "Negative values for start and stop will count from the end of the string:"
   ]
  },
  {
   "cell_type": "code",
   "execution_count": 35,
   "id": "50f26a83",
   "metadata": {},
   "outputs": [
    {
     "data": {
      "text/plain": [
       "'Some long string of any kind'"
      ]
     },
     "execution_count": 35,
     "metadata": {},
     "output_type": "execute_result"
    }
   ],
   "source": [
    "a_long_string"
   ]
  },
  {
   "cell_type": "code",
   "execution_count": 36,
   "id": "6ced304e",
   "metadata": {},
   "outputs": [
    {
     "data": {
      "text/plain": [
       "'y'"
      ]
     },
     "execution_count": 36,
     "metadata": {},
     "output_type": "execute_result"
    }
   ],
   "source": [
    "a_long_string[-6]  # 6th to last element  "
   ]
  },
  {
   "cell_type": "code",
   "execution_count": 37,
   "id": "ecdf61ed",
   "metadata": {},
   "outputs": [
    {
     "data": {
      "text/plain": [
       "'y kind'"
      ]
     },
     "execution_count": 37,
     "metadata": {},
     "output_type": "execute_result"
    }
   ],
   "source": [
    "a_long_string[-6:]  # last 6 elements"
   ]
  },
  {
   "cell_type": "code",
   "execution_count": 38,
   "id": "f8d5ca83",
   "metadata": {},
   "outputs": [
    {
     "data": {
      "text/plain": [
       "'Some long string of an'"
      ]
     },
     "execution_count": 38,
     "metadata": {},
     "output_type": "execute_result"
    }
   ],
   "source": [
    "a_long_string[:-6]  # all elements until the 6th to last"
   ]
  },
  {
   "cell_type": "markdown",
   "id": "9cccc113",
   "metadata": {
    "slideshow": {
     "slide_type": "subslide"
    }
   },
   "source": [
    "We can go backward using negative steps:"
   ]
  },
  {
   "cell_type": "code",
   "execution_count": 39,
   "id": "cc904004",
   "metadata": {},
   "outputs": [
    {
     "data": {
      "text/plain": [
       "'dnik yna fo gnirts gnol emoS'"
      ]
     },
     "execution_count": 39,
     "metadata": {},
     "output_type": "execute_result"
    }
   ],
   "source": [
    "a_long_string[::-1]"
   ]
  },
  {
   "cell_type": "markdown",
   "id": "dec6871c",
   "metadata": {
    "slideshow": {
     "slide_type": "subslide"
    }
   },
   "source": [
    "### The `len()` function\n",
    "\n",
    "We can use `len()` to get the length of a string:"
   ]
  },
  {
   "cell_type": "code",
   "execution_count": 40,
   "id": "e1fb8c34",
   "metadata": {},
   "outputs": [
    {
     "data": {
      "text/plain": [
       "28"
      ]
     },
     "execution_count": 40,
     "metadata": {},
     "output_type": "execute_result"
    }
   ],
   "source": [
    "len(a_long_string)"
   ]
  },
  {
   "cell_type": "markdown",
   "id": "5238f562",
   "metadata": {
    "slideshow": {
     "slide_type": "slide"
    }
   },
   "source": [
    "_Practicals 0.1.0_"
   ]
  },
  {
   "cell_type": "markdown",
   "id": "b9ef6814",
   "metadata": {
    "slideshow": {
     "slide_type": "slide"
    }
   },
   "source": [
    "## Data containers\n",
    "\n",
    "We can store multiple values in a single variable.\n",
    "\n",
    "<span style=\"color:indianred\">Built-in</span> data container types:\n",
    " - `list`\n",
    " - `tuple`\n",
    " - `dictionary`\n",
    " - `set`"
   ]
  },
  {
   "cell_type": "markdown",
   "id": "d5597932",
   "metadata": {
    "slideshow": {
     "slide_type": "subslide"
    }
   },
   "source": [
    "Data containers from common libraries (we'll have a look at those later):\n",
    " - `numpy.array`: arrays and matrices\n",
    " - `pandas.DataFrame`: data tables"
   ]
  },
  {
   "cell_type": "markdown",
   "id": "7e36da63",
   "metadata": {
    "slideshow": {
     "slide_type": "slide"
    }
   },
   "source": [
    "### `list`"
   ]
  },
  {
   "cell_type": "markdown",
   "id": "3409456b",
   "metadata": {
    "slideshow": {
     "slide_type": "fragment"
    }
   },
   "source": [
    " A **ordered** sequence of values of any type."
   ]
  },
  {
   "cell_type": "code",
   "execution_count": 41,
   "id": "c3f0c85e",
   "metadata": {},
   "outputs": [
    {
     "data": {
      "text/plain": [
       "[1, True, 'something', 3.14]"
      ]
     },
     "execution_count": 41,
     "metadata": {},
     "output_type": "execute_result"
    }
   ],
   "source": [
    "a_list = [1, True, \"something\", 3.14]\n",
    "\n",
    "a_list"
   ]
  },
  {
   "cell_type": "code",
   "execution_count": 42,
   "id": "d51112a3",
   "metadata": {},
   "outputs": [
    {
     "data": {
      "text/plain": [
       "4"
      ]
     },
     "execution_count": 42,
     "metadata": {},
     "output_type": "execute_result"
    }
   ],
   "source": [
    "# The len() function gives us the length:\n",
    "\n",
    "len(a_list)"
   ]
  },
  {
   "cell_type": "markdown",
   "id": "8e11325b",
   "metadata": {
    "slideshow": {
     "slide_type": "subslide"
    }
   },
   "source": [
    "Values are retrieved from a list using numerical indexing (**Note:** Numerical indexes start from 0!!!)"
   ]
  },
  {
   "cell_type": "code",
   "execution_count": 48,
   "id": "5374572b",
   "metadata": {
    "scrolled": true
   },
   "outputs": [
    {
     "name": "stdout",
     "output_type": "stream",
     "text": [
      "[1, True, 'something', 3.14]\n",
      "something <class 'str'>\n",
      "['something', 3.14] <class 'list'>\n"
     ]
    }
   ],
   "source": [
    "# Index list:\n",
    "print(a_list)\n",
    "third_element = a_list[2]\n",
    "print(third_element, type(third_element))\n",
    "\n",
    "last_two = a_list[-2:]\n",
    "print(last_two, type(last_two))"
   ]
  },
  {
   "cell_type": "markdown",
   "id": "8acfabfd",
   "metadata": {
    "slideshow": {
     "slide_type": "subslide"
    }
   },
   "source": [
    "The content of a list can be modified:"
   ]
  },
  {
   "cell_type": "code",
   "execution_count": 49,
   "id": "53121c00",
   "metadata": {},
   "outputs": [
    {
     "data": {
      "text/plain": [
       "[1, True, 'new_content', 3.14]"
      ]
     },
     "execution_count": 49,
     "metadata": {},
     "output_type": "execute_result"
    }
   ],
   "source": [
    "a_list = [1, True, \"something\", 3.14]\n",
    "a_list[2] = \"new_content\"\n",
    "a_list"
   ]
  },
  {
   "cell_type": "markdown",
   "id": "e7bbeb45",
   "metadata": {
    "slideshow": {
     "slide_type": "fragment"
    }
   },
   "source": [
    "We can simultaneously modify multiple parts of a list as long as indexing and assigned values match in length:"
   ]
  },
  {
   "cell_type": "code",
   "execution_count": 52,
   "id": "9bc035bc",
   "metadata": {},
   "outputs": [
    {
     "data": {
      "text/plain": [
       "[1, True, 1, 2]"
      ]
     },
     "execution_count": 52,
     "metadata": {},
     "output_type": "execute_result"
    }
   ],
   "source": [
    "a_list[-2:] = [1, 2]\n",
    "a_list"
   ]
  },
  {
   "cell_type": "markdown",
   "id": "90816696",
   "metadata": {
    "slideshow": {
     "slide_type": "subslide"
    }
   },
   "source": [
    "Lists are not bounded in length and can be extended using the `.append()` method, to add a single element:"
   ]
  },
  {
   "cell_type": "code",
   "execution_count": 54,
   "id": "a67ee44f",
   "metadata": {},
   "outputs": [
    {
     "data": {
      "text/plain": [
       "['new value']"
      ]
     },
     "execution_count": 54,
     "metadata": {},
     "output_type": "execute_result"
    }
   ],
   "source": [
    "# Append:\n",
    "a_list = [] # [1, True, \"something\", 3.14]\n",
    "a_list.append(\"new value\")\n",
    "a_list"
   ]
  },
  {
   "cell_type": "markdown",
   "id": "b6623ff2",
   "metadata": {
    "slideshow": {
     "slide_type": "subslide"
    }
   },
   "source": [
    "Or with `.extend()` to add multiple elements:"
   ]
  },
  {
   "cell_type": "code",
   "execution_count": 55,
   "id": "46b73a8a",
   "metadata": {},
   "outputs": [
    {
     "data": {
      "text/plain": [
       "[1, True, 'something', 3.14, 'new value1', 2, 'new value 3']"
      ]
     },
     "execution_count": 55,
     "metadata": {},
     "output_type": "execute_result"
    }
   ],
   "source": [
    "# Append:\n",
    "a_list = [1, True, \"something\", 3.14]\n",
    "a_list.extend([\"new value1\", 2, \"new value 3\"])\n",
    "a_list"
   ]
  },
  {
   "cell_type": "markdown",
   "id": "8ad0a267",
   "metadata": {
    "slideshow": {
     "slide_type": "subslide"
    }
   },
   "source": [
    "Or with `.insert()` to add elements in the middle, specifying the position:"
   ]
  },
  {
   "cell_type": "code",
   "execution_count": 56,
   "id": "9af0dc9f",
   "metadata": {},
   "outputs": [
    {
     "data": {
      "text/plain": [
       "['Val0', 'Val1', 'value inserted', 'Val2', 'Val3', 'Val4']"
      ]
     },
     "execution_count": 56,
     "metadata": {},
     "output_type": "execute_result"
    }
   ],
   "source": [
    "a_list = [\"Val0\", \"Val1\", \"Val2\", \"Val3\", \"Val4\"]\n",
    "a_list.insert(2, \"value inserted\")\n",
    "a_list"
   ]
  },
  {
   "cell_type": "markdown",
   "id": "689f0de0",
   "metadata": {
    "slideshow": {
     "slide_type": "subslide"
    }
   },
   "source": [
    "...or shortened (not very common):"
   ]
  },
  {
   "cell_type": "code",
   "execution_count": 58,
   "id": "96d3d672",
   "metadata": {},
   "outputs": [
    {
     "name": "stdout",
     "output_type": "stream",
     "text": [
      "1\n",
      "[True, 'something', True, 3.14]\n"
     ]
    }
   ],
   "source": [
    "a_list = [1, True, \"something\", True, 3.14]\n",
    "popped_value = a_list.pop(0)\n",
    "print(popped_value)\n",
    "print(a_list)"
   ]
  },
  {
   "cell_type": "markdown",
   "id": "527604c1",
   "metadata": {
    "slideshow": {
     "slide_type": "subslide"
    }
   },
   "source": [
    "## in-place methods\n",
    "\n",
    "`append()`, `extend()`, `pop()` are all methods that modify the variable when they are called! \n",
    "\n",
    "Those are called **in-place** methods"
   ]
  },
  {
   "cell_type": "code",
   "execution_count": 61,
   "id": "0c0d4037",
   "metadata": {
    "slideshow": {
     "slide_type": "subslide"
    }
   },
   "outputs": [
    {
     "name": "stdout",
     "output_type": "stream",
     "text": [
      "None\n"
     ]
    }
   ],
   "source": [
    "a_list = [1, 2]\n",
    "a_list.append(\"new\")\n",
    "a_list  # the variable have been changed, we don't do assignments (new_list = a_list.append(\"new\"))\n",
    "print(something)"
   ]
  },
  {
   "cell_type": "code",
   "execution_count": 60,
   "id": "96ec26d4",
   "metadata": {
    "slideshow": {
     "slide_type": "fragment"
    }
   },
   "outputs": [
    {
     "data": {
      "text/plain": [
       "'text'"
      ]
     },
     "execution_count": 60,
     "metadata": {},
     "output_type": "execute_result"
    }
   ],
   "source": [
    "a_string = \"text\"\n",
    "a_string.upper()  # this returns an uppercase version of the string, but does not change the a_string variable!\n",
    "a_string"
   ]
  },
  {
   "cell_type": "code",
   "execution_count": 65,
   "id": "eed14a7d",
   "metadata": {
    "slideshow": {
     "slide_type": "subslide"
    }
   },
   "outputs": [
    {
     "name": "stdout",
     "output_type": "stream",
     "text": [
      "[1, 2, 3, 4, 5, 6]\n"
     ]
    }
   ],
   "source": [
    "a_list = [1,2, 3]\n",
    "a_list.extend([4,5,6])\n",
    "print(a_list)"
   ]
  },
  {
   "cell_type": "markdown",
   "id": "3d318966",
   "metadata": {
    "slideshow": {
     "slide_type": "subslide"
    }
   },
   "source": [
    "We can also do operations with lists! Very similar to operations on strings."
   ]
  },
  {
   "cell_type": "markdown",
   "id": "4027bcea",
   "metadata": {},
   "source": [
    "We can concatenate strings with `+`:"
   ]
  },
  {
   "cell_type": "code",
   "execution_count": 69,
   "id": "7e9c08cd",
   "metadata": {},
   "outputs": [
    {
     "data": {
      "text/plain": [
       "['Val0', 'Val1', 'Val2', 'Val3', 'Val4', 1, 2, 3]"
      ]
     },
     "execution_count": 69,
     "metadata": {},
     "output_type": "execute_result"
    }
   ],
   "source": [
    "a_list = [\"Val0\", \"Val1\", \"Val2\", \"Val3\", \"Val4\"]\n",
    "another = [1, 2, 3]\n",
    "c = a_list + another\n",
    "c"
   ]
  },
  {
   "cell_type": "markdown",
   "id": "e232db16",
   "metadata": {
    "slideshow": {
     "slide_type": "subslide"
    }
   },
   "source": [
    "Or repeat them with `*`:"
   ]
  },
  {
   "cell_type": "code",
   "execution_count": 70,
   "id": "8ca47084",
   "metadata": {},
   "outputs": [
    {
     "data": {
      "text/plain": [
       "['Val0',\n",
       " 'Val1',\n",
       " 'Val2',\n",
       " 'Val3',\n",
       " 'Val4',\n",
       " 'Val0',\n",
       " 'Val1',\n",
       " 'Val2',\n",
       " 'Val3',\n",
       " 'Val4']"
      ]
     },
     "execution_count": 70,
     "metadata": {},
     "output_type": "execute_result"
    }
   ],
   "source": [
    "a_list * 2"
   ]
  },
  {
   "cell_type": "markdown",
   "id": "1a9a8400",
   "metadata": {
    "slideshow": {
     "slide_type": "slide"
    }
   },
   "source": [
    "(Practical 0.1.1)"
   ]
  },
  {
   "cell_type": "markdown",
   "id": "148d62ad",
   "metadata": {
    "slideshow": {
     "slide_type": "slide"
    }
   },
   "source": [
    "### `dict`"
   ]
  },
  {
   "cell_type": "markdown",
   "id": "a0cb7e1b",
   "metadata": {
    "slideshow": {
     "slide_type": "fragment"
    }
   },
   "source": [
    "A structure where values are associated with a key (and not with a position):"
   ]
  },
  {
   "cell_type": "code",
   "execution_count": null,
   "id": "60c3ba37",
   "metadata": {},
   "outputs": [],
   "source": [
    "a_list_with_same_data = [\"gino\", 0.4, 0.9]"
   ]
  },
  {
   "cell_type": "code",
   "execution_count": 72,
   "id": "ad0eb8b6",
   "metadata": {},
   "outputs": [
    {
     "data": {
      "text/plain": [
       "0.9"
      ]
     },
     "execution_count": 72,
     "metadata": {},
     "output_type": "execute_result"
    }
   ],
   "source": [
    "a_dict = {\"subject_name\": \"gino\",\n",
    "          \"reaction_time\": 0.4,\n",
    "          \"accuracy\": 0.9}\n",
    "a_dict[\"accuracy\"]"
   ]
  },
  {
   "cell_type": "code",
   "execution_count": 73,
   "id": "97ce0363",
   "metadata": {},
   "outputs": [
    {
     "data": {
      "text/plain": [
       "1"
      ]
     },
     "execution_count": 73,
     "metadata": {},
     "output_type": "execute_result"
    }
   ],
   "source": [
    "same_dict = dict(item_a=1, item_b=2)  # alternative way of defining a dictionary\n",
    "same_dict[\"item_a\"]"
   ]
  },
  {
   "cell_type": "markdown",
   "id": "95abdb81",
   "metadata": {
    "slideshow": {
     "slide_type": "subslide"
    }
   },
   "source": [
    "Values are then retrieved with a key; keys are usually strings, but they do not have to:"
   ]
  },
  {
   "cell_type": "code",
   "execution_count": 74,
   "id": "c28b5db6",
   "metadata": {},
   "outputs": [
    {
     "data": {
      "text/plain": [
       "True"
      ]
     },
     "execution_count": 74,
     "metadata": {},
     "output_type": "execute_result"
    }
   ],
   "source": [
    "dict_with_float_keys = {10: False, \n",
    "                        20: True}\n",
    "\n",
    "# here 20 is not a numerical index as in a list (there's only 2 elements)\n",
    "# but an integer keyword:\n",
    "\n",
    "dict_with_float_keys[20]  "
   ]
  },
  {
   "cell_type": "markdown",
   "id": "707e64c8",
   "metadata": {
    "slideshow": {
     "slide_type": "subslide"
    }
   },
   "source": [
    "Like a list, dictionary can be modified in its values:"
   ]
  },
  {
   "cell_type": "code",
   "execution_count": 75,
   "id": "62379f19",
   "metadata": {},
   "outputs": [
    {
     "data": {
      "text/plain": [
       "{'item_a': 5, 'item_b': 1}"
      ]
     },
     "execution_count": 75,
     "metadata": {},
     "output_type": "execute_result"
    }
   ],
   "source": [
    "a_dict = {\"item_a\": 0, \n",
    "          \"item_b\": 1}\n",
    "a_dict[\"item_a\"] = 5\n",
    "a_dict"
   ]
  },
  {
   "cell_type": "markdown",
   "id": "d219ded4",
   "metadata": {
    "slideshow": {
     "slide_type": "subslide"
    }
   },
   "source": [
    "Like a list, a dictionary can be extended..."
   ]
  },
  {
   "cell_type": "code",
   "execution_count": 77,
   "id": "311d34fb",
   "metadata": {},
   "outputs": [
    {
     "data": {
      "text/plain": [
       "{'item_a': 0, 'item_b': 1, 'new_key': 5}"
      ]
     },
     "execution_count": 77,
     "metadata": {},
     "output_type": "execute_result"
    }
   ],
   "source": [
    "a_dict = {\"item_a\": 0, \n",
    "          \"item_b\": 1}\n",
    "a_dict[\"new_key\"] = 5\n",
    "a_dict"
   ]
  },
  {
   "cell_type": "markdown",
   "id": "9f0b2bdb",
   "metadata": {
    "slideshow": {
     "slide_type": "fragment"
    }
   },
   "source": [
    "...or shortened:"
   ]
  },
  {
   "cell_type": "code",
   "execution_count": 78,
   "id": "e1cdddae",
   "metadata": {},
   "outputs": [
    {
     "data": {
      "text/plain": [
       "{'item_b': 1}"
      ]
     },
     "execution_count": 78,
     "metadata": {},
     "output_type": "execute_result"
    }
   ],
   "source": [
    "a_dict = dict(item_a=0, item_b=1)\n",
    "a_dict.pop(\"item_a\")\n",
    "a_dict"
   ]
  },
  {
   "cell_type": "markdown",
   "id": "7e2356ef",
   "metadata": {
    "slideshow": {
     "slide_type": "subslide"
    }
   },
   "source": [
    "### Concatenated indexing\n",
    "\n",
    "We can nest containers one inside the other! E.g., lists of lists, dictionary of lists, dictionary of dictionaries...\n",
    "\n",
    "In these cases, we can index nexted elements adding square brakets one after the other:"
   ]
  },
  {
   "cell_type": "code",
   "execution_count": 80,
   "id": "3e23f34d",
   "metadata": {},
   "outputs": [
    {
     "data": {
      "text/plain": [
       "3"
      ]
     },
     "execution_count": 80,
     "metadata": {},
     "output_type": "execute_result"
    }
   ],
   "source": [
    "dict_of_lists = {\"list_a\": [0,1,2],\n",
    "                 \"list_b\": [3,4,5]}\n",
    "\n",
    "dict_of_lists[\"list_b\"][0]"
   ]
  },
  {
   "cell_type": "markdown",
   "id": "4aaf1b92",
   "metadata": {
    "slideshow": {
     "slide_type": "subslide"
    }
   },
   "source": [
    "```🐍 Very Pythonic 🐍```\n",
    "\n",
    "Dictionaries are many times ignored by beginners but provide a very useful way of grouping together variables (e.g., groups of parameters, metadata, etc.). Try to use them!"
   ]
  },
  {
   "cell_type": "markdown",
   "id": "f6aa4fa3",
   "metadata": {
    "slideshow": {
     "slide_type": "subslide"
    }
   },
   "source": [
    "### What happens when we make copies of lists and dictionaries?"
   ]
  },
  {
   "cell_type": "markdown",
   "id": "45362b76",
   "metadata": {},
   "source": [
    "**Careful!**: Changing the content of lists and dictionaries can have funny results! \n",
    "\n",
    "If we define a new variable from a list, and change the content of the original, the copy will also change:"
   ]
  },
  {
   "cell_type": "code",
   "execution_count": 85,
   "id": "a6cd3fd5",
   "metadata": {},
   "outputs": [
    {
     "data": {
      "text/plain": [
       "{'a': [0, 2]}"
      ]
     },
     "execution_count": 85,
     "metadata": {},
     "output_type": "execute_result"
    }
   ],
   "source": [
    "a_list = [0, 1]\n",
    "a_dictionary = {\"a\": a_list}\n",
    "a_list[1] = 2 \n",
    "a_dictionary"
   ]
  },
  {
   "cell_type": "markdown",
   "id": "43b53f3e",
   "metadata": {
    "slideshow": {
     "slide_type": "subslide"
    }
   },
   "source": [
    "Think about this as a list not storing actual numbers, but location in computer memory where to find them. When we do \n",
    "\n",
    "```python\n",
    "another_list = a_list\n",
    "```\n",
    "\n",
    "We are assigning a new variable `another_list` that keeps pointing at the same position in the computer memory as `a_list`"
   ]
  },
  {
   "cell_type": "markdown",
   "id": "3a5c8472",
   "metadata": {
    "slideshow": {
     "slide_type": "subslide"
    }
   },
   "source": [
    "This, unless we use the `.copy()` method:"
   ]
  },
  {
   "cell_type": "code",
   "execution_count": 87,
   "id": "97e24ca5",
   "metadata": {},
   "outputs": [
    {
     "data": {
      "text/plain": [
       "[0, 1]"
      ]
     },
     "execution_count": 87,
     "metadata": {},
     "output_type": "execute_result"
    }
   ],
   "source": [
    "a_list = [0, 1]\n",
    "another_list = a_list.copy()\n",
    "\n",
    "a_list[1] = 2\n",
    "another_list"
   ]
  },
  {
   "cell_type": "code",
   "execution_count": null,
   "id": "01873ca3",
   "metadata": {
    "slideshow": {
     "slide_type": "subslide"
    }
   },
   "outputs": [],
   "source": [
    "a_tuple = (1, 2, 3)\n",
    "list_from_a_tuple = list(a_tuple)\n",
    "list_from_a_tuple[0] = \"blaaa\"\n",
    "tuple(list_from_a_tuple)"
   ]
  },
  {
   "cell_type": "markdown",
   "id": "0f0d53b2",
   "metadata": {
    "slideshow": {
     "slide_type": "subslide"
    }
   },
   "source": [
    "The same concept applies to dictionaries!"
   ]
  },
  {
   "cell_type": "markdown",
   "id": "f6c12f3d",
   "metadata": {
    "slideshow": {
     "slide_type": "slide"
    }
   },
   "source": [
    "(Practical 0.1.2)"
   ]
  }
 ],
 "metadata": {
  "celltoolbar": "Slideshow",
  "kernelspec": {
   "display_name": "course-env",
   "language": "python",
   "name": "python3"
  },
  "language_info": {
   "codemirror_mode": {
    "name": "ipython",
    "version": 3
   },
   "file_extension": ".py",
   "mimetype": "text/x-python",
   "name": "python",
   "nbconvert_exporter": "python",
   "pygments_lexer": "ipython3",
   "version": "3.10.13"
  }
 },
 "nbformat": 4,
 "nbformat_minor": 5
}
