{
 "cells": [
  {
   "cell_type": "markdown",
   "id": "3ca811a3",
   "metadata": {
    "slideshow": {
     "slide_type": "slide"
    }
   },
   "source": [
    "# Python for (open) Neuroscience\n",
    "\n",
    "_Lecture 0.1_ - Data containers and flow controllers\n",
    "\n",
    "Luigi Petrucco\n",
    "\n",
    "[![Open In Colab](https://colab.research.google.com/assets/colab-badge.svg)](https://colab.research.google.com/github/vigji/python-cimec-2025/blob/main/lectures/Lecture0.1_Containers.ipynb)"
   ]
  },
  {
   "cell_type": "markdown",
   "id": "64a35e08",
   "metadata": {
    "slideshow": {
     "slide_type": "slide"
    }
   },
   "source": [
    "## Overview of the lecture\n",
    "- the `str` type\n",
    "- Special variables: data containers\n",
    "    - `list`\n",
    "    - `dict`\n",
    "    - `tuple`\n",
    "    - `set`\n",
    "- (If we get there) The first real programs: flow control\n",
    "    - `if`/`else`\n",
    "    - `for`"
   ]
  },
  {
   "cell_type": "markdown",
   "id": "cd421e57",
   "metadata": {},
   "source": [
    "### `str`"
   ]
  },
  {
   "cell_type": "markdown",
   "id": "18ba6311",
   "metadata": {},
   "source": [
    "A variable type to represent text (of any length!)\n",
    "\n",
    "Delimited by either `\"` or `'` (just try to be consistent)"
   ]
  },
  {
   "cell_type": "code",
   "execution_count": null,
   "id": "6ab17ddd",
   "metadata": {},
   "outputs": [
    {
     "data": {
      "text/plain": [
       "str"
      ]
     },
     "metadata": {},
     "output_type": "display_data"
    }
   ],
   "source": [
    "type('s')"
   ]
  },
  {
   "cell_type": "code",
   "execution_count": null,
   "id": "86257c07",
   "metadata": {},
   "outputs": [
    {
     "data": {
      "text/plain": [
       "str"
      ]
     },
     "metadata": {},
     "output_type": "display_data"
    }
   ],
   "source": [
    "type(\"sasdfasdf\")"
   ]
  },
  {
   "cell_type": "markdown",
   "id": "9dd09704",
   "metadata": {},
   "source": [
    " some operators can be used on strings: \n",
    "   - `+` (with another string)\n",
    "   - `*` (with an `int`)"
   ]
  },
  {
   "cell_type": "code",
   "execution_count": null,
   "id": "ebf67769",
   "metadata": {},
   "outputs": [
    {
     "data": {
      "text/plain": [
       "'aaaaaaaaaa'"
      ]
     },
     "metadata": {},
     "output_type": "display_data"
    }
   ],
   "source": [
    "\"a\" * 10"
   ]
  },
  {
   "cell_type": "code",
   "execution_count": null,
   "id": "e20d6bbd",
   "metadata": {},
   "outputs": [
    {
     "data": {
      "text/plain": [
       "'abbiocco'"
      ]
     },
     "metadata": {},
     "output_type": "display_data"
    }
   ],
   "source": [
    "\"ab\" + \"biocco\""
   ]
  },
  {
   "cell_type": "markdown",
   "id": "5876cf43",
   "metadata": {},
   "source": [
    "### Special string methods"
   ]
  },
  {
   "cell_type": "markdown",
   "id": "4d3f3b13",
   "metadata": {},
   "source": [
    "Strings have special  <span style=\"color:indianred\">methods</span> to do operations on them"
   ]
  },
  {
   "cell_type": "markdown",
   "id": "9faf8d04",
   "metadata": {},
   "source": [
    "A **method** is like a function called directly from a variable, getting as argument the variable itself\n"
   ]
  },
  {
   "cell_type": "markdown",
   "id": "2c7fde34",
   "metadata": {},
   "source": [
    "Instead of:\n",
    "```python\n",
    "a_function(a_variable)\n",
    "```\n",
    "\n",
    "We will write:\n",
    "```python\n",
    "a_variable.its_method()\n",
    "```\n",
    "(we'll define more precisely methods in a future lecture) "
   ]
  },
  {
   "cell_type": "code",
   "execution_count": null,
   "id": "3856ce88",
   "metadata": {},
   "outputs": [],
   "source": [
    "a_string = \"Some text with many features: {} <- what are those brackets?\""
   ]
  },
  {
   "cell_type": "code",
   "execution_count": null,
   "id": "2fdd34b2",
   "metadata": {},
   "outputs": [
    {
     "data": {
      "text/plain": [
       "'SOME TEXT WITH MANY FEATURES: {} <- WHAT ARE THOSE BRACKETS?'"
      ]
     },
     "metadata": {},
     "output_type": "display_data"
    }
   ],
   "source": [
    "a_string.upper()  # turn text uppercase"
   ]
  },
  {
   "cell_type": "code",
   "execution_count": null,
   "id": "329b1d8a",
   "metadata": {},
   "outputs": [
    {
     "data": {
      "text/plain": [
       "'some text with many features: {} <- what are those brackets?'"
      ]
     },
     "metadata": {},
     "output_type": "display_data"
    }
   ],
   "source": [
    "a_string.lower()  # turn text lowercase"
   ]
  },
  {
   "cell_type": "code",
   "execution_count": null,
   "id": "6d79c563",
   "metadata": {},
   "outputs": [
    {
     "data": {
      "text/plain": [
       "'SOME TEXT WITH MANY FEATURES: {} <- WHAT ARE THOSE BRACKETS?'"
      ]
     },
     "metadata": {},
     "output_type": "display_data"
    }
   ],
   "source": [
    "# We can assign the result of a method call to a new variable:\n",
    "\n",
    "uppercase_string = a_string.upper()  # turn text uppercase\n",
    "\n",
    "uppercase_string"
   ]
  },
  {
   "cell_type": "code",
   "execution_count": null,
   "id": "6304f1e7",
   "metadata": {},
   "outputs": [
    {
     "data": {
      "text/plain": [
       "['Some',\n",
       " 'text',\n",
       " 'with',\n",
       " 'many',\n",
       " 'features:',\n",
       " '{}',\n",
       " '<-',\n",
       " 'what',\n",
       " 'are',\n",
       " 'those',\n",
       " 'brackets?']"
      ]
     },
     "metadata": {},
     "output_type": "display_data"
    }
   ],
   "source": [
    "# Split string based on some value (by default, empty spaces)\n",
    "\n",
    "a_string.split()  # by default equivalent to a_string.split(\" \")"
   ]
  },
  {
   "cell_type": "code",
   "execution_count": null,
   "id": "ea7012bc",
   "metadata": {},
   "outputs": [
    {
     "data": {
      "text/plain": [
       "'Some text with many features: {} <- what are those brackets?'"
      ]
     },
     "metadata": {},
     "output_type": "display_data"
    }
   ],
   "source": [
    "a_string"
   ]
  },
  {
   "cell_type": "code",
   "execution_count": null,
   "id": "afd0d9c4",
   "metadata": {},
   "outputs": [
    {
     "data": {
      "text/plain": [
       "5"
      ]
     },
     "metadata": {},
     "output_type": "display_data"
    }
   ],
   "source": [
    "# Find the index of a given substring:\n",
    "a_string.find(\"text\")"
   ]
  },
  {
   "cell_type": "markdown",
   "id": "40c56b1a",
   "metadata": {},
   "source": [
    "Strings can incorporate variables values in a space defined by curly brackets with the `.format()` method:"
   ]
  },
  {
   "cell_type": "code",
   "execution_count": null,
   "id": "5d9adf29",
   "metadata": {},
   "outputs": [
    {
     "data": {
      "text/plain": [
       "'This place: 0.3333333333333333 :will be filled with the value'"
      ]
     },
     "metadata": {},
     "output_type": "display_data"
    }
   ],
   "source": [
    "\"This place: {} :will be filled with the value\".format(1/3)"
   ]
  },
  {
   "cell_type": "markdown",
   "id": "abff387a",
   "metadata": {},
   "source": [
    "If we go back to our previous string:"
   ]
  },
  {
   "cell_type": "code",
   "execution_count": null,
   "id": "29e87479",
   "metadata": {},
   "outputs": [
    {
     "name": "stdout",
     "output_type": "stream",
     "text": [
      "Some text with many features: {} <- what are those brackets?\n"
     ]
    }
   ],
   "source": [
    "print(a_string)"
   ]
  },
  {
   "cell_type": "code",
   "execution_count": null,
   "id": "72c86fbc",
   "metadata": {},
   "outputs": [
    {
     "name": "stdout",
     "output_type": "stream",
     "text": [
      "Some text with many features: 1234 <- what are those brackets?\n",
      "Some text with many features: some text <- what are those brackets?\n"
     ]
    }
   ],
   "source": [
    "print(a_string.format(1234))\n",
    "print(a_string.format(\"some text\"))"
   ]
  },
  {
   "cell_type": "markdown",
   "id": "bf179504",
   "metadata": {},
   "source": [
    "An alternative syntax, often preferred for shortness, is `f\"{a_variable}\"`:"
   ]
  },
  {
   "cell_type": "code",
   "execution_count": null,
   "id": "11eda51d",
   "metadata": {},
   "outputs": [
    {
     "data": {
      "text/plain": [
       "\"The value of 'a' is: 2\""
      ]
     },
     "metadata": {},
     "output_type": "display_data"
    }
   ],
   "source": [
    "a = 2\n",
    "f\"The value of 'a' is: {a}\""
   ]
  },
  {
   "cell_type": "markdown",
   "id": "3d8189e1",
   "metadata": {},
   "source": [
    "### Indexing strings"
   ]
  },
  {
   "cell_type": "markdown",
   "id": "ff98d3e9",
   "metadata": {},
   "source": [
    "Strings can be indexed using integer numbers to get single characters. \n",
    "\n",
    "**Remember**: Python starts indexing from 0!"
   ]
  },
  {
   "cell_type": "code",
   "execution_count": null,
   "id": "7fbc66fb",
   "metadata": {},
   "outputs": [
    {
     "data": {
      "text/plain": [
       "'e'"
      ]
     },
     "metadata": {},
     "output_type": "display_data"
    }
   ],
   "source": [
    "a_long_string = \"Some long string of any kind\"\n",
    "a_long_string[3]"
   ]
  },
  {
   "cell_type": "markdown",
   "id": "bad9733c",
   "metadata": {},
   "source": [
    "We can also index longer parts using the colons syntax:\n",
    " \n",
    "   `start_index : end_index : step`"
   ]
  },
  {
   "cell_type": "code",
   "execution_count": null,
   "id": "f2f95ba1",
   "metadata": {},
   "outputs": [
    {
     "data": {
      "text/plain": [
       "'e long string of any kind'"
      ]
     },
     "metadata": {},
     "output_type": "display_data"
    }
   ],
   "source": [
    "a_long_string[3:]"
   ]
  },
  {
   "cell_type": "markdown",
   "id": "81c09cf7",
   "metadata": {},
   "source": [
    "Practicals 0.0.4"
   ]
  },
  {
   "cell_type": "markdown",
   "id": "5238f562",
   "metadata": {},
   "source": [
    "_Practicals 0.1.0_"
   ]
  },
  {
   "cell_type": "markdown",
   "id": "b9ef6814",
   "metadata": {
    "slideshow": {
     "slide_type": "slide"
    }
   },
   "source": [
    "## Data containers\n",
    "\n",
    "We can store multiple values in a single variable.\n",
    "\n",
    "<span style=\"color:indianred\">Built-in</span> data container types:\n",
    " - `list`\n",
    " - `tuple`\n",
    " - `dictionary`"
   ]
  },
  {
   "cell_type": "markdown",
   "id": "d5597932",
   "metadata": {
    "slideshow": {
     "slide_type": "subslide"
    }
   },
   "source": [
    "Data containers from common libraries (we'll have a look at those later):\n",
    " - `numpy.array`: arrays and matrices\n",
    " - `pandas.DataFrame`: data tables"
   ]
  },
  {
   "cell_type": "markdown",
   "id": "7e36da63",
   "metadata": {
    "slideshow": {
     "slide_type": "slide"
    }
   },
   "source": [
    "### `list`"
   ]
  },
  {
   "cell_type": "markdown",
   "id": "3409456b",
   "metadata": {
    "slideshow": {
     "slide_type": "fragment"
    }
   },
   "source": [
    " A **ordered** sequence of values of any type."
   ]
  },
  {
   "cell_type": "code",
   "execution_count": 6,
   "id": "c3f0c85e",
   "metadata": {},
   "outputs": [
    {
     "data": {
      "text/plain": [
       "[1, True, 'something', 3.14]"
      ]
     },
     "execution_count": 6,
     "metadata": {},
     "output_type": "execute_result"
    }
   ],
   "source": [
    "a_list = [1, True, \"something\", 3.14]\n",
    "\n",
    "a_list"
   ]
  },
  {
   "cell_type": "code",
   "execution_count": 8,
   "id": "d51112a3",
   "metadata": {},
   "outputs": [
    {
     "data": {
      "text/plain": [
       "4"
      ]
     },
     "execution_count": 8,
     "metadata": {},
     "output_type": "execute_result"
    }
   ],
   "source": [
    "# The len() function gives us the length:\n",
    "\n",
    "len(a_list)"
   ]
  },
  {
   "cell_type": "markdown",
   "id": "8e11325b",
   "metadata": {
    "slideshow": {
     "slide_type": "subslide"
    }
   },
   "source": [
    "Values are retrieved from a list using numerical indexing (**Note:** Numerical indexes start from 0!!!)"
   ]
  },
  {
   "cell_type": "code",
   "execution_count": 11,
   "id": "5374572b",
   "metadata": {
    "scrolled": true
   },
   "outputs": [
    {
     "data": {
      "text/plain": [
       "'something'"
      ]
     },
     "execution_count": 11,
     "metadata": {},
     "output_type": "execute_result"
    }
   ],
   "source": [
    "# Index list:\n",
    "third_element = a_list[2]\n",
    "third_element"
   ]
  },
  {
   "cell_type": "markdown",
   "id": "8acfabfd",
   "metadata": {
    "slideshow": {
     "slide_type": "subslide"
    }
   },
   "source": [
    "The content of a list can be modified:"
   ]
  },
  {
   "cell_type": "code",
   "execution_count": 14,
   "id": "53121c00",
   "metadata": {},
   "outputs": [
    {
     "data": {
      "text/plain": [
       "[1, True, 'new_content', 3.14]"
      ]
     },
     "execution_count": 14,
     "metadata": {},
     "output_type": "execute_result"
    }
   ],
   "source": [
    "a_list[2] = \"new_content\"\n",
    "a_list"
   ]
  },
  {
   "cell_type": "markdown",
   "id": "e7bbeb45",
   "metadata": {
    "slideshow": {
     "slide_type": "fragment"
    }
   },
   "source": [
    "We can simultaneously modify multiple parts of a list as long as indexing and assigned values match in length:"
   ]
  },
  {
   "cell_type": "code",
   "execution_count": 35,
   "id": "9bc035bc",
   "metadata": {},
   "outputs": [
    {
     "data": {
      "text/plain": [
       "[5, 3.14]"
      ]
     },
     "execution_count": 35,
     "metadata": {},
     "output_type": "execute_result"
    }
   ],
   "source": [
    "a_list[-2:]"
   ]
  },
  {
   "cell_type": "markdown",
   "id": "90816696",
   "metadata": {
    "slideshow": {
     "slide_type": "subslide"
    }
   },
   "source": [
    "Lists are not bounded in length and can be extended using the `.append()` method:"
   ]
  },
  {
   "cell_type": "code",
   "execution_count": 41,
   "id": "a67ee44f",
   "metadata": {},
   "outputs": [],
   "source": [
    "# Append:\n",
    "a_list = [1, True, \"something\", 3.14]\n",
    "a_list.append(\"new value\")"
   ]
  },
  {
   "cell_type": "markdown",
   "id": "689f0de0",
   "metadata": {
    "slideshow": {
     "slide_type": "subslide"
    }
   },
   "source": [
    "...or shortened (not very common):"
   ]
  },
  {
   "cell_type": "code",
   "execution_count": 47,
   "id": "96d3d672",
   "metadata": {},
   "outputs": [
    {
     "data": {
      "text/plain": [
       "1"
      ]
     },
     "execution_count": 47,
     "metadata": {},
     "output_type": "execute_result"
    }
   ],
   "source": [
    "a_list = [1, True, \"something\", True, 3.14]\n",
    "popped_value = a_list.pop(0)\n",
    "popped_value"
   ]
  },
  {
   "cell_type": "markdown",
   "id": "3d318966",
   "metadata": {
    "slideshow": {
     "slide_type": "subslide"
    }
   },
   "source": [
    "We can also do operations with lists! Very similar to operations on strings."
   ]
  },
  {
   "cell_type": "markdown",
   "id": "4027bcea",
   "metadata": {},
   "source": [
    "We can concatenate strings with `+`:"
   ]
  },
  {
   "cell_type": "code",
   "execution_count": 59,
   "id": "7e9c08cd",
   "metadata": {},
   "outputs": [
    {
     "data": {
      "text/plain": [
       "[1, True, 'value inserted', 'something', True, 3.14]"
      ]
     },
     "execution_count": 59,
     "metadata": {},
     "output_type": "execute_result"
    }
   ],
   "source": [
    "a_list = [1, True, \"something\", True, 3.14]\n",
    "a_list.insert(2, \"value inserted\")\n",
    "a_list"
   ]
  },
  {
   "cell_type": "markdown",
   "id": "e232db16",
   "metadata": {
    "slideshow": {
     "slide_type": "fragment"
    }
   },
   "source": [
    "Or repeat them with `*`:"
   ]
  },
  {
   "cell_type": "code",
   "execution_count": 60,
   "id": "8ca47084",
   "metadata": {},
   "outputs": [
    {
     "data": {
      "text/plain": [
       "[1,\n",
       " True,\n",
       " 'value inserted',\n",
       " 'something',\n",
       " True,\n",
       " 3.14,\n",
       " 1,\n",
       " True,\n",
       " 'value inserted',\n",
       " 'something',\n",
       " True,\n",
       " 3.14]"
      ]
     },
     "execution_count": 60,
     "metadata": {},
     "output_type": "execute_result"
    }
   ],
   "source": [
    "a_list * 2"
   ]
  },
  {
   "cell_type": "markdown",
   "id": "1a9a8400",
   "metadata": {
    "slideshow": {
     "slide_type": "slide"
    }
   },
   "source": [
    "(Practical 0.1.1)"
   ]
  },
  {
   "cell_type": "markdown",
   "id": "148d62ad",
   "metadata": {
    "slideshow": {
     "slide_type": "slide"
    }
   },
   "source": [
    "### `dict`"
   ]
  },
  {
   "cell_type": "markdown",
   "id": "a0cb7e1b",
   "metadata": {
    "slideshow": {
     "slide_type": "fragment"
    }
   },
   "source": [
    "A structure where values are associated with a key (and not with a position):"
   ]
  },
  {
   "cell_type": "code",
   "execution_count": 61,
   "id": "ad0eb8b6",
   "metadata": {},
   "outputs": [
    {
     "data": {
      "text/plain": [
       "1"
      ]
     },
     "execution_count": 61,
     "metadata": {},
     "output_type": "execute_result"
    }
   ],
   "source": [
    "a_dict = {\"item_a\": 1, \n",
    "          \"item_b\": 2}\n",
    "a_dict[\"item_a\"]"
   ]
  },
  {
   "cell_type": "code",
   "execution_count": null,
   "id": "97ce0363",
   "metadata": {},
   "outputs": [],
   "source": [
    "same_dict = dict(item_a=1, item_b=2)\n",
    "same_dict[\"item_a\"]"
   ]
  },
  {
   "cell_type": "markdown",
   "id": "95abdb81",
   "metadata": {
    "slideshow": {
     "slide_type": "subslide"
    }
   },
   "source": [
    "Values are then retrieved with a key; keys are usually strings, but they do not have to:"
   ]
  },
  {
   "cell_type": "code",
   "execution_count": null,
   "id": "c28b5db6",
   "metadata": {},
   "outputs": [],
   "source": [
    "dict_with_float_keys = {10: False, \n",
    "                        20: True}\n",
    "\n",
    "# here 20 is not a numerical index as in a list (there's only 2 elements)\n",
    "# but an integer keyword:\n",
    "\n",
    "dict_with_float_keys[20]  "
   ]
  },
  {
   "cell_type": "markdown",
   "id": "707e64c8",
   "metadata": {
    "slideshow": {
     "slide_type": "subslide"
    }
   },
   "source": [
    "Like a list, dictionary can be modified in its values:"
   ]
  },
  {
   "cell_type": "code",
   "execution_count": 63,
   "id": "62379f19",
   "metadata": {},
   "outputs": [
    {
     "data": {
      "text/plain": [
       "{'item_a': 5, 'item_b': 1}"
      ]
     },
     "execution_count": 63,
     "metadata": {},
     "output_type": "execute_result"
    }
   ],
   "source": [
    "a_dict = {\"item_a\": 0, \n",
    "          \"item_b\": 1}\n",
    "a_dict[\"item_a\"] = 5\n",
    "a_dict"
   ]
  },
  {
   "cell_type": "markdown",
   "id": "d219ded4",
   "metadata": {
    "slideshow": {
     "slide_type": "subslide"
    }
   },
   "source": [
    "Like a list, a dictionary can be extended..."
   ]
  },
  {
   "cell_type": "code",
   "execution_count": 71,
   "id": "311d34fb",
   "metadata": {},
   "outputs": [],
   "source": [
    "a_dict = {\"item_a\": 0, \n",
    "          \"item_b\": 1}\n",
    "a_dict[\"new_index\"] = 5"
   ]
  },
  {
   "cell_type": "markdown",
   "id": "9f0b2bdb",
   "metadata": {
    "slideshow": {
     "slide_type": "fragment"
    }
   },
   "source": [
    "...or shortened:"
   ]
  },
  {
   "cell_type": "code",
   "execution_count": 72,
   "id": "e1cdddae",
   "metadata": {},
   "outputs": [
    {
     "data": {
      "text/plain": [
       "{'item_b': 1}"
      ]
     },
     "execution_count": 72,
     "metadata": {},
     "output_type": "execute_result"
    }
   ],
   "source": [
    "a_dict = dict(item_a=0, item_b=1)\n",
    "a_dict.pop(\"item_a\")\n",
    "a_dict"
   ]
  },
  {
   "cell_type": "markdown",
   "id": "4aaf1b92",
   "metadata": {
    "slideshow": {
     "slide_type": "subslide"
    }
   },
   "source": [
    "```🐍 Very Pythonic 🐍```\n",
    "\n",
    "Dictionaries are many times ignored by beginners but provide a very useful way of grouping together variables (e.g., groups of parameters, metadata, etc.). Try to use them!"
   ]
  },
  {
   "cell_type": "markdown",
   "id": "f6aa4fa3",
   "metadata": {
    "slideshow": {
     "slide_type": "subslide"
    }
   },
   "source": [
    "### What happens when we make copies of lists and dictionaries?"
   ]
  },
  {
   "cell_type": "markdown",
   "id": "45362b76",
   "metadata": {},
   "source": [
    "**Careful!**: The behavior of lists and dictionaries is different from standard variables! \n",
    "If we make a copy, and change the content of the original, the copy will also change"
   ]
  },
  {
   "cell_type": "code",
   "execution_count": 76,
   "id": "a6cd3fd5",
   "metadata": {},
   "outputs": [
    {
     "data": {
      "text/plain": [
       "[0, 1]"
      ]
     },
     "execution_count": 76,
     "metadata": {},
     "output_type": "execute_result"
    }
   ],
   "source": [
    "a_list = [0, 1]\n",
    "another_list = a_list + [\"a\"]\n",
    "another_list[0] = True\n",
    "a_list"
   ]
  },
  {
   "cell_type": "markdown",
   "id": "43b53f3e",
   "metadata": {
    "slideshow": {
     "slide_type": "subslide"
    }
   },
   "source": [
    "Think about this as a list not storing actual numbers, but location in computer memory where to find them. When we do \n",
    "\n",
    "```python\n",
    "another_list = a_list\n",
    "```\n",
    "\n",
    "We are assigning a new variable `another_list` that keeps pointing at the same position in the computer memory as `a_list`"
   ]
  },
  {
   "cell_type": "markdown",
   "id": "3a5c8472",
   "metadata": {
    "slideshow": {
     "slide_type": "subslide"
    }
   },
   "source": [
    "This, unless we use the `.copy()` method:"
   ]
  },
  {
   "cell_type": "code",
   "execution_count": null,
   "id": "97e24ca5",
   "metadata": {},
   "outputs": [],
   "source": [
    "a_list = [0, 1]\n",
    "another_list = a_list.copy()  # This will allocate new space in memory and uncouple the variables\n",
    "\n",
    "print(f\"List values: {a_list}, {another_list}\")\n",
    "\n",
    "another_list[0] = 5  # we redefine the list values\n",
    "print(f\"List values: {a_list}, {another_list}\")"
   ]
  },
  {
   "cell_type": "code",
   "execution_count": 83,
   "id": "01873ca3",
   "metadata": {
    "slideshow": {
     "slide_type": "subslide"
    }
   },
   "outputs": [
    {
     "data": {
      "text/plain": [
       "('blaaa', 2, 3)"
      ]
     },
     "execution_count": 83,
     "metadata": {},
     "output_type": "execute_result"
    }
   ],
   "source": [
    "a_tuple = (1, 2, 3)\n",
    "list_from_a_tuple = list(a_tuple)\n",
    "list_from_a_tuple[0] = \"blaaa\"\n",
    "tuple(list_from_a_tuple)"
   ]
  },
  {
   "cell_type": "markdown",
   "id": "0f0d53b2",
   "metadata": {
    "slideshow": {
     "slide_type": "subslide"
    }
   },
   "source": [
    "The same concept applies to dictionaries!"
   ]
  },
  {
   "cell_type": "markdown",
   "id": "f6c12f3d",
   "metadata": {
    "slideshow": {
     "slide_type": "slide"
    }
   },
   "source": [
    "(Practical 0.1.2)"
   ]
  },
  {
   "cell_type": "markdown",
   "id": "3d2033d2",
   "metadata": {
    "slideshow": {
     "slide_type": "slide"
    }
   },
   "source": [
    "### `tuple`"
   ]
  },
  {
   "cell_type": "markdown",
   "id": "63cbff44",
   "metadata": {
    "slideshow": {
     "slide_type": "fragment"
    }
   },
   "source": [
    "Tuples are ordered collections, similar to lists, but **unchangeable** in length and content:"
   ]
  },
  {
   "cell_type": "code",
   "execution_count": 77,
   "id": "92edbba9",
   "metadata": {},
   "outputs": [],
   "source": [
    "a_tuple = (1, 2, 3)"
   ]
  },
  {
   "cell_type": "code",
   "execution_count": 78,
   "id": "f9ff13b8",
   "metadata": {},
   "outputs": [
    {
     "data": {
      "text/plain": [
       "1"
      ]
     },
     "execution_count": 78,
     "metadata": {},
     "output_type": "execute_result"
    }
   ],
   "source": [
    "a_tuple[0]"
   ]
  },
  {
   "cell_type": "code",
   "execution_count": 79,
   "id": "75734be8",
   "metadata": {},
   "outputs": [
    {
     "ename": "TypeError",
     "evalue": "'tuple' object does not support item assignment",
     "output_type": "error",
     "traceback": [
      "\u001b[0;31m---------------------------------------------------------------------------\u001b[0m",
      "\u001b[0;31mTypeError\u001b[0m                                 Traceback (most recent call last)",
      "Cell \u001b[0;32mIn[79], line 1\u001b[0m\n\u001b[0;32m----> 1\u001b[0m \u001b[43ma_tuple\u001b[49m\u001b[43m[\u001b[49m\u001b[38;5;241;43m0\u001b[39;49m\u001b[43m]\u001b[49m \u001b[38;5;241m=\u001b[39m \u001b[38;5;241m1\u001b[39m\n",
      "\u001b[0;31mTypeError\u001b[0m: 'tuple' object does not support item assignment"
     ]
    }
   ],
   "source": [
    "a_tuple[0] = 1"
   ]
  },
  {
   "cell_type": "markdown",
   "id": "e6725dc4",
   "metadata": {
    "slideshow": {
     "slide_type": "subslide"
    }
   },
   "source": [
    "```🐍 Very Pythonic 🐍```\n",
    "\n",
    "Usually, if your collection of data will not change length/content you should use tuples!"
   ]
  },
  {
   "cell_type": "markdown",
   "id": "018d7111",
   "metadata": {
    "slideshow": {
     "slide_type": "subslide"
    }
   },
   "source": [
    "### `set`"
   ]
  },
  {
   "cell_type": "markdown",
   "id": "72e74fef",
   "metadata": {
    "slideshow": {
     "slide_type": "fragment"
    }
   },
   "source": [
    "Unordered collection of items; useful when precise order does not matter"
   ]
  },
  {
   "cell_type": "code",
   "execution_count": 90,
   "id": "be467f9a",
   "metadata": {},
   "outputs": [
    {
     "data": {
      "text/plain": [
       "{1, 2, 3}"
      ]
     },
     "execution_count": 90,
     "metadata": {},
     "output_type": "execute_result"
    }
   ],
   "source": [
    "a_list = [1, 2, 3, 3]\n",
    "set(a_list)\n"
   ]
  },
  {
   "cell_type": "markdown",
   "id": "18e8c851",
   "metadata": {
    "slideshow": {
     "slide_type": "fragment"
    }
   },
   "source": [
    "New items can be added or removed:"
   ]
  },
  {
   "cell_type": "code",
   "execution_count": 94,
   "id": "5a07156a",
   "metadata": {
    "slideshow": {
     "slide_type": "subslide"
    }
   },
   "outputs": [],
   "source": [
    "a_set = {\"a\", \"b\", \"c\", \"d\"}"
   ]
  },
  {
   "cell_type": "markdown",
   "id": "8f44c60e",
   "metadata": {
    "slideshow": {
     "slide_type": "subslide"
    }
   },
   "source": [
    "Sets can be useful for set operations of difference / intersection / union:"
   ]
  },
  {
   "cell_type": "code",
   "execution_count": 98,
   "id": "12096689",
   "metadata": {
    "slideshow": {
     "slide_type": "-"
    }
   },
   "outputs": [
    {
     "data": {
      "text/plain": [
       "{'c', 'd'}"
      ]
     },
     "execution_count": 98,
     "metadata": {},
     "output_type": "execute_result"
    }
   ],
   "source": [
    "set_a = {\"a\", \"b\", \"c\", \"d\"}\n",
    "set_b = {\"c\", \"d\", \"e\", \"f\"}\n",
    "set_a.intersection(set_b)\n"
   ]
  },
  {
   "cell_type": "markdown",
   "id": "9bf409c5",
   "metadata": {
    "slideshow": {
     "slide_type": "subslide"
    }
   },
   "source": [
    "### Choice of data collector type"
   ]
  },
  {
   "cell_type": "markdown",
   "id": "3ae5136e",
   "metadata": {},
   "source": [
    "In general, to decide among `list`, `tuple`, `dict` or `set` you should think about what you are going to do with your variable:\n",
    "\n",
    "- it makes sens to call each data entry with a name? --> `dict`\n",
    "- you want to be sure content is unchanged? --> `tuple`\n",
    "- you want to avoid duplicated entries? --> `set`\n",
    "- you won't know the length in advance? --> `list`\n",
    "- ..."
   ]
  },
  {
   "cell_type": "markdown",
   "id": "45205c68",
   "metadata": {
    "slideshow": {
     "slide_type": "subslide"
    }
   },
   "source": [
    "Many times multiple options will work..."
   ]
  },
  {
   "cell_type": "markdown",
   "id": "17414cbd",
   "metadata": {
    "slideshow": {
     "slide_type": "fragment"
    }
   },
   "source": [
    "...but remember!\n",
    "\n",
    "\n",
    "    🪷 The Zen of Python 🪷\n",
    "        \n",
    "        In the face of ambiguity, refuse the \n",
    "           temptation to guess.\n",
    "        There should be one -and preferably only one-\n",
    "           obvious way to do it."
   ]
  },
  {
   "cell_type": "markdown",
   "id": "19ab4292",
   "metadata": {
    "slideshow": {
     "slide_type": "slide"
    }
   },
   "source": [
    "(Practical 0.1.3-4)"
   ]
  },
  {
   "cell_type": "markdown",
   "id": "0e75c341",
   "metadata": {},
   "source": []
  }
 ],
 "metadata": {
  "celltoolbar": "Slideshow",
  "kernelspec": {
   "display_name": "course-env",
   "language": "python",
   "name": "course-env"
  },
  "language_info": {
   "codemirror_mode": {
    "name": "ipython",
    "version": 3
   },
   "file_extension": ".py",
   "mimetype": "text/x-python",
   "name": "python",
   "nbconvert_exporter": "python",
   "pygments_lexer": "ipython3",
   "version": "3.10.13"
  }
 },
 "nbformat": 4,
 "nbformat_minor": 5
}
