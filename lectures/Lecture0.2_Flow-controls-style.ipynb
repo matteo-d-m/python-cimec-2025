{
 "cells": [
  {
   "cell_type": "markdown",
   "id": "3ca811a3",
   "metadata": {},
   "source": [
    "# Python for (open) Neuroscience\n",
    "\n",
    "_Lecture 0.2_ - Flow control\n",
    "\n",
    "Luigi Petrucco\n",
    "\n",
    "[![Open In Colab](https://colab.research.google.com/assets/colab-badge.svg)](https://colab.research.google.com/github/vigji/python-cimec-2025/blob/main/lectures/Lecture0.2_Flow-controls-style.ipynb)"
   ]
  },
  {
   "cell_type": "markdown",
   "id": "49d0bd96",
   "metadata": {
    "slideshow": {
     "slide_type": "subslide"
    }
   },
   "source": [
    "## Lecture outline"
   ]
  },
  {
   "cell_type": "markdown",
   "id": "fdb7ad25",
   "metadata": {
    "slideshow": {
     "slide_type": "-"
    }
   },
   "source": [
    "- Leftovers on data containers\n",
    "- What coding is really about: flow control\n",
    "- Some comments on style and structure\n"
   ]
  },
  {
   "cell_type": "markdown",
   "id": "5361032c",
   "metadata": {
    "slideshow": {
     "slide_type": "subslide"
    }
   },
   "source": [
    "## Some more operations with data containers"
   ]
  },
  {
   "cell_type": "markdown",
   "id": "ed25ccdd",
   "metadata": {
    "slideshow": {
     "slide_type": "subslide"
    }
   },
   "source": [
    "### Sum\n",
    "\n",
    "`sum()` works on `list`s, `tuple`s, `set`s with values that can be added (`bool`s, `float`s, `int`s)"
   ]
  },
  {
   "cell_type": "code",
   "execution_count": null,
   "id": "5dcdd443",
   "metadata": {
    "slideshow": {
     "slide_type": "subslide"
    }
   },
   "outputs": [],
   "source": [
    "a_list = [1,2,3]\n",
    "sum(a_list)"
   ]
  },
  {
   "cell_type": "code",
   "execution_count": null,
   "id": "d9899ea0",
   "metadata": {},
   "outputs": [],
   "source": [
    "a_tuple = (True, False, True)\n",
    "sum(a_tuple)"
   ]
  },
  {
   "cell_type": "markdown",
   "id": "eccae8bb",
   "metadata": {
    "slideshow": {
     "slide_type": "subslide"
    }
   },
   "source": [
    "## Check values with `in`"
   ]
  },
  {
   "cell_type": "markdown",
   "id": "5042ff01",
   "metadata": {},
   "source": [
    "To check if something is in a data container we can use `in`:"
   ]
  },
  {
   "cell_type": "code",
   "execution_count": null,
   "id": "784bd337",
   "metadata": {
    "slideshow": {
     "slide_type": "subslide"
    }
   },
   "outputs": [],
   "source": [
    "a_list = [1,2,3]\n",
    "\n",
    "1 in a_list"
   ]
  },
  {
   "cell_type": "code",
   "execution_count": null,
   "id": "501255e0",
   "metadata": {},
   "outputs": [],
   "source": [
    "regions = {\"Forebrain\", \"Midbrain\", \"Hindbrain\"}\n",
    "\n",
    "\"Forebrain\" in regions"
   ]
  },
  {
   "cell_type": "markdown",
   "id": "86a3a688",
   "metadata": {
    "slideshow": {
     "slide_type": "subslide"
    }
   },
   "source": [
    "For dictionaries, we have to check separately `keys()` and `values()`"
   ]
  },
  {
   "cell_type": "code",
   "execution_count": null,
   "id": "2f3372db",
   "metadata": {},
   "outputs": [],
   "source": [
    "a_dict = {\"key_0\": 1, \n",
    "          \"key_1\": 2}\n",
    "\n",
    "1 in a_dict.values()"
   ]
  },
  {
   "cell_type": "code",
   "execution_count": null,
   "id": "5f2d24be",
   "metadata": {},
   "outputs": [],
   "source": [
    "\"key_0\" in a_dict.keys()"
   ]
  },
  {
   "cell_type": "markdown",
   "id": "9793fe35",
   "metadata": {
    "slideshow": {
     "slide_type": "slide"
    }
   },
   "source": [
    "## What can we do with variables?"
   ]
  },
  {
   "cell_type": "markdown",
   "id": "c2f9ba40",
   "metadata": {
    "slideshow": {
     "slide_type": "fragment"
    }
   },
   "source": [
    "operations on variables and the flow of the program are managed with control structures:\n",
    " - `if` / `elif` / `else`\n",
    " - `for`\n",
    " - `while`"
   ]
  },
  {
   "cell_type": "markdown",
   "id": "5a462a1f",
   "metadata": {
    "slideshow": {
     "slide_type": "slide"
    }
   },
   "source": [
    "### `if` / `elif` / `else`"
   ]
  },
  {
   "cell_type": "markdown",
   "id": "86e5e978",
   "metadata": {},
   "source": [
    "With a `if` statement we can make the execution of some lines of code optional:"
   ]
  },
  {
   "cell_type": "code",
   "execution_count": null,
   "id": "5a225215",
   "metadata": {},
   "outputs": [],
   "source": [
    "a = 10\n",
    "\n",
    "if a == 10:\n",
    "    print(\"equal 10\")"
   ]
  },
  {
   "cell_type": "markdown",
   "id": "b093bb99",
   "metadata": {
    "slideshow": {
     "slide_type": "subslide"
    }
   },
   "source": [
    "We can combine multiple conditions:"
   ]
  },
  {
   "cell_type": "code",
   "execution_count": null,
   "id": "051255bb",
   "metadata": {},
   "outputs": [],
   "source": [
    "a = 2\n",
    "b = 80\n",
    "\n",
    "if a > 1 and b < 10:\n",
    "    print(a, b)"
   ]
  },
  {
   "cell_type": "markdown",
   "id": "397b8631",
   "metadata": {
    "slideshow": {
     "slide_type": "subslide"
    }
   },
   "source": [
    "We can specify an alternative execution with `else`; this is optional"
   ]
  },
  {
   "cell_type": "code",
   "execution_count": null,
   "id": "96ee6604",
   "metadata": {},
   "outputs": [],
   "source": [
    "a = 11\n",
    "if a > 10:\n",
    "    print(\"greater than 10\")\n",
    "else:\n",
    "    print(\"smaller than 10\")"
   ]
  },
  {
   "cell_type": "markdown",
   "id": "01606c8c",
   "metadata": {
    "slideshow": {
     "slide_type": "subslide"
    }
   },
   "source": [
    "We can specify multiple alternative executions with `elif`:"
   ]
  },
  {
   "cell_type": "code",
   "execution_count": null,
   "id": "b121c670",
   "metadata": {},
   "outputs": [],
   "source": [
    "a = 1\n",
    "if a < 5:\n",
    "    print(\"smaller than 5\")\n",
    "elif a == 5:\n",
    "    print(\"equal 5\")\n",
    "else:\n",
    "    print(\"greater than 5\")"
   ]
  },
  {
   "cell_type": "markdown",
   "id": "02536d0d",
   "metadata": {
    "slideshow": {
     "slide_type": "slide"
    }
   },
   "source": [
    "### `for`"
   ]
  },
  {
   "cell_type": "markdown",
   "id": "ecf329a2",
   "metadata": {
    "slideshow": {
     "slide_type": "fragment"
    }
   },
   "source": [
    "With a `for` loop we can repeat many times the same code lines:"
   ]
  },
  {
   "cell_type": "code",
   "execution_count": null,
   "id": "2593c6d4",
   "metadata": {},
   "outputs": [],
   "source": [
    "pippo = \"A string\"\n",
    "\n",
    "for pippo in range(3):\n",
    "    print(i)\n",
    "    \n",
    "pippo"
   ]
  },
  {
   "cell_type": "markdown",
   "id": "8b0d0c8e",
   "metadata": {
    "slideshow": {
     "slide_type": "subslide"
    }
   },
   "source": [
    "With `for` loops we can easily go through lists:"
   ]
  },
  {
   "cell_type": "code",
   "execution_count": null,
   "id": "1422301d",
   "metadata": {},
   "outputs": [],
   "source": [
    "a_list = [\"a\", \"simple\", \"list\"]\n",
    "\n",
    "for element in a_list:\n",
    "    print(element)"
   ]
  },
  {
   "cell_type": "markdown",
   "id": "7f689932",
   "metadata": {
    "slideshow": {
     "slide_type": "subslide"
    }
   },
   "source": [
    "We can loop over lists while having also indexes with `enumerate`:"
   ]
  },
  {
   "cell_type": "code",
   "execution_count": null,
   "id": "31165b5a",
   "metadata": {},
   "outputs": [],
   "source": [
    "for idx, pippo in enumerate(a_list):\n",
    "    print(idx, pippo)"
   ]
  },
  {
   "cell_type": "markdown",
   "id": "fbae133c",
   "metadata": {
    "slideshow": {
     "slide_type": "subslide"
    }
   },
   "source": [
    "Finally, we can iterate through multiple things at the same time with `zip`:\n"
   ]
  },
  {
   "cell_type": "code",
   "execution_count": null,
   "id": "23e5990b",
   "metadata": {},
   "outputs": [],
   "source": [
    "a_list_of_words = [\"a\", \"simple\", \"list\"]\n",
    "another_list_of_numbers = [10, 30, 42]\n",
    "\n",
    "for i in range(len(a_list_of_words)):\n",
    "    word = a_list_of_words[i]\n",
    "    number = another_list_of_numbers[i]\n",
    "    print(word, number)"
   ]
  },
  {
   "cell_type": "markdown",
   "id": "f15b1d1a",
   "metadata": {
    "slideshow": {
     "slide_type": "subslide"
    }
   },
   "source": [
    "We can use `for` loops to go over anything that is <span style=\"color:indianred\">iterable</span>: eg lists, tuples"
   ]
  },
  {
   "cell_type": "markdown",
   "id": "0b9fa803",
   "metadata": {
    "slideshow": {
     "slide_type": "subslide"
    }
   },
   "source": [
    "but also dictionaries, if we use the correct methods to specify how we want to loop:"
   ]
  },
  {
   "cell_type": "code",
   "execution_count": null,
   "id": "6a02ae6f",
   "metadata": {
    "slideshow": {
     "slide_type": "-"
    }
   },
   "outputs": [],
   "source": [
    "a_dict = dict(sam=3, lisa=1, joe=0)\n",
    "\n",
    "# loop over keys:\n",
    "for key in a_dict.keys():\n",
    "    print(key)"
   ]
  },
  {
   "cell_type": "code",
   "execution_count": null,
   "id": "973c75f9",
   "metadata": {
    "slideshow": {
     "slide_type": "subslide"
    }
   },
   "outputs": [],
   "source": [
    "# loop over values:\n",
    "for val in a_dict.keys():\n",
    "    print(val)"
   ]
  },
  {
   "cell_type": "code",
   "execution_count": null,
   "id": "e028730a",
   "metadata": {
    "slideshow": {
     "slide_type": "subslide"
    }
   },
   "outputs": [],
   "source": [
    "# loop over keys and values:\n",
    "for key in a_dict.keys():\n",
    "    val = a_dict[key]"
   ]
  },
  {
   "cell_type": "markdown",
   "id": "f82d7b3e",
   "metadata": {
    "slideshow": {
     "slide_type": "subslide"
    }
   },
   "source": [
    "### `for` loops meet `list`s: list comprehension"
   ]
  },
  {
   "cell_type": "markdown",
   "id": "698863e6",
   "metadata": {
    "slideshow": {
     "slide_type": "fragment"
    }
   },
   "source": [
    "Many times, the syntax for generating a list can be tediously long:"
   ]
  },
  {
   "cell_type": "code",
   "execution_count": null,
   "id": "f9f45f25",
   "metadata": {
    "slideshow": {
     "slide_type": "subslide"
    }
   },
   "outputs": [],
   "source": [
    "word_list = \"Many times, the syntax for generating a list can be tediously long\".split()\n",
    "\n",
    "first_letter = []\n",
    "for word in word_list:\n",
    "    first_letter.append(word[0])\n",
    "    \n"
   ]
  },
  {
   "cell_type": "markdown",
   "id": "78400cbb",
   "metadata": {
    "slideshow": {
     "slide_type": "subslide"
    }
   },
   "source": [
    "Instead, we can use <span style=\"color:indianred\">list comprehensions</span>:"
   ]
  },
  {
   "cell_type": "code",
   "execution_count": null,
   "id": "a4a69259",
   "metadata": {},
   "outputs": [],
   "source": [
    "first_letters = [word[0] for word in word_list]\n",
    "first_letters"
   ]
  },
  {
   "cell_type": "markdown",
   "id": "04bb0b13",
   "metadata": {
    "slideshow": {
     "slide_type": "subslide"
    }
   },
   "source": [
    "`🐍  Very Pythonic  🐍`\n",
    "\n",
    "Not just nicer sintax! List comprehensions are also more efficient!"
   ]
  },
  {
   "cell_type": "markdown",
   "id": "5eda2e12",
   "metadata": {
    "slideshow": {
     "slide_type": "subslide"
    }
   },
   "source": [
    "We can even incorporate conditions in list comprehensions:"
   ]
  },
  {
   "cell_type": "code",
   "execution_count": null,
   "id": "0814e29e",
   "metadata": {},
   "outputs": [],
   "source": [
    "first_letter = [word[0] for word in word_list if len(word) > 3]\n",
    "first_letter"
   ]
  },
  {
   "cell_type": "markdown",
   "id": "e7833ba6",
   "metadata": {
    "slideshow": {
     "slide_type": "fragment"
    }
   },
   "source": [
    "...but remember!\n",
    "\n",
    "\n",
    "    🪷 The Zen of Python 🪷\n",
    "        \n",
    "        Readability counts.\n"
   ]
  },
  {
   "cell_type": "markdown",
   "id": "082eb749",
   "metadata": {
    "slideshow": {
     "slide_type": "subslide"
    }
   },
   "source": [
    "So avoid nesting too many conditions inside a list comprehension!"
   ]
  },
  {
   "cell_type": "code",
   "execution_count": null,
   "id": "3054f029",
   "metadata": {},
   "outputs": [],
   "source": [
    "fruits = [\n",
    "    {\"name\": \"apple\", \"state\": \"ripe\", \"weight\": 10},\n",
    "    {\"name\": \"cherry\", \"state\": \"ripe\", \"weight\": 10},\n",
    "    {\"name\": \"grape\", \"state\": \"unripe\", \"weight\": 20}\n",
    "]\n",
    "\n",
    "# Select if ripe and > 50 weight or if ripe and apple:\n",
    "selected_fruits = [\n",
    "    fruit[\"name\"] for fruit in fruits\n",
    "    if (fruit[\"state\"] == \"ripe\" and fruit[\"weight\"] > 50) \n",
    "        or (fruit[\"name\"] == \"apple\" and fruit[\"state\"] == \"ripe\")\n",
    "    ]\n",
    "selected_fruits"
   ]
  },
  {
   "cell_type": "code",
   "execution_count": null,
   "id": "61576e1a",
   "metadata": {
    "slideshow": {
     "slide_type": "subslide"
    }
   },
   "outputs": [],
   "source": [
    "# In this case, it is better something like this: \n",
    "\n",
    "selected_fruits = []\n",
    "for fruit in fruits:\n",
    "    if fruit[\"state\"] == \"ripe\":\n",
    "        if fruit[\"name\"] == \"apple\":\n",
    "            selected_fruits.append(fruit[\"name\"])\n",
    "        elif fruit[\"weight\"] > 50:\n",
    "            selected_fruits.append(fruit[\"name\"])"
   ]
  },
  {
   "cell_type": "code",
   "execution_count": null,
   "id": "d30ee0c7",
   "metadata": {
    "slideshow": {
     "slide_type": "subslide"
    }
   },
   "outputs": [],
   "source": [
    "a_list_of_stuff = [1,2,3,4]\n",
    "another_list = [3,4,5,6]\n",
    "\n",
    "intersection = [element for element in a_list_of_stuff if element in another_list]\n",
    "intersection"
   ]
  },
  {
   "cell_type": "markdown",
   "id": "1779cdfc",
   "metadata": {
    "slideshow": {
     "slide_type": "subslide"
    }
   },
   "source": [
    "### `for` loop meets `dict`: dictionary comprehension"
   ]
  },
  {
   "cell_type": "markdown",
   "id": "d7b7a307",
   "metadata": {},
   "source": [
    "We can use a similar trick to define dictionaries; the syntax will be:\n",
    "```python\n",
    "{key: val for something in something_iterable}\n",
    "```"
   ]
  },
  {
   "cell_type": "code",
   "execution_count": null,
   "id": "9b6316f8",
   "metadata": {},
   "outputs": [],
   "source": [
    "word_len_dict = {word: len(word) for word in word_list}\n",
    "word_len_dict"
   ]
  },
  {
   "cell_type": "markdown",
   "id": "2c54583a",
   "metadata": {
    "slideshow": {
     "slide_type": "slide"
    }
   },
   "source": [
    "(Practical 0.2.0-1)"
   ]
  }
 ],
 "metadata": {
  "celltoolbar": "Slideshow",
  "kernelspec": {
   "display_name": "Python 3 (ipykernel)",
   "language": "python",
   "name": "python3"
  },
  "language_info": {
   "codemirror_mode": {
    "name": "ipython",
    "version": 3
   },
   "file_extension": ".py",
   "mimetype": "text/x-python",
   "name": "python",
   "nbconvert_exporter": "python",
   "pygments_lexer": "ipython3",
   "version": "3.11.6"
  }
 },
 "nbformat": 4,
 "nbformat_minor": 5
}
