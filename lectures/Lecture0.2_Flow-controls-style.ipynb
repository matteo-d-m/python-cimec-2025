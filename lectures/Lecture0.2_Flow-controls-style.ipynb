{
 "cells": [
  {
   "cell_type": "markdown",
   "id": "3ca811a3",
   "metadata": {},
   "source": [
    "# Python for (open) Neuroscience\n",
    "\n",
    "_Lecture 0.2_ - Flow control\n",
    "\n",
    "Luigi Petrucco\n",
    "\n",
    "[![Open In Colab](https://colab.research.google.com/assets/colab-badge.svg)](https://colab.research.google.com/github/vigji/python-cimec-2025/blob/main/lectures/Lecture0.2_Flow-controls-style.ipynb)"
   ]
  },
  {
   "cell_type": "markdown",
   "id": "49d0bd96",
   "metadata": {
    "slideshow": {
     "slide_type": "subslide"
    }
   },
   "source": [
    "## Lecture outline"
   ]
  },
  {
   "cell_type": "markdown",
   "id": "9f9b703f",
   "metadata": {
    "slideshow": {
     "slide_type": "-"
    }
   },
   "source": [
    "- Leftovers on data containers\n",
    "- What coding is really about: flow control\n",
    "- Some comments on style and structure\n"
   ]
  },
  {
   "cell_type": "markdown",
   "id": "3d2033d2",
   "metadata": {
    "slideshow": {
     "slide_type": "slide"
    }
   },
   "source": [
    "### `tuple`"
   ]
  },
  {
   "cell_type": "markdown",
   "id": "63cbff44",
   "metadata": {
    "slideshow": {
     "slide_type": "fragment"
    }
   },
   "source": [
    "Tuples are ordered collections, similar to lists, but **unchangeable** in length and content:"
   ]
  },
  {
   "cell_type": "code",
   "execution_count": 1,
   "id": "92edbba9",
   "metadata": {},
   "outputs": [],
   "source": [
    "a_tuple = (1, 2, 3)"
   ]
  },
  {
   "cell_type": "code",
   "execution_count": 2,
   "id": "f9ff13b8",
   "metadata": {},
   "outputs": [
    {
     "data": {
      "text/plain": [
       "1"
      ]
     },
     "execution_count": 2,
     "metadata": {},
     "output_type": "execute_result"
    }
   ],
   "source": [
    "a_tuple[0]"
   ]
  },
  {
   "cell_type": "code",
   "execution_count": 3,
   "id": "75734be8",
   "metadata": {},
   "outputs": [
    {
     "ename": "TypeError",
     "evalue": "'tuple' object does not support item assignment",
     "output_type": "error",
     "traceback": [
      "\u001b[0;31m---------------------------------------------------------------------------\u001b[0m",
      "\u001b[0;31mTypeError\u001b[0m                                 Traceback (most recent call last)",
      "Cell \u001b[0;32mIn[3], line 1\u001b[0m\n\u001b[0;32m----> 1\u001b[0m \u001b[43ma_tuple\u001b[49m\u001b[43m[\u001b[49m\u001b[38;5;241;43m0\u001b[39;49m\u001b[43m]\u001b[49m \u001b[38;5;241m=\u001b[39m \u001b[38;5;241m2\u001b[39m\n",
      "\u001b[0;31mTypeError\u001b[0m: 'tuple' object does not support item assignment"
     ]
    }
   ],
   "source": [
    "a_tuple[0] = 2"
   ]
  },
  {
   "cell_type": "markdown",
   "id": "e6725dc4",
   "metadata": {
    "slideshow": {
     "slide_type": "subslide"
    }
   },
   "source": [
    "```🐍 Very Pythonic 🐍```\n",
    "\n",
    "Usually, if your collection of data will not change length/content you should use tuples!"
   ]
  },
  {
   "cell_type": "markdown",
   "id": "018d7111",
   "metadata": {
    "slideshow": {
     "slide_type": "subslide"
    }
   },
   "source": [
    "### `set`"
   ]
  },
  {
   "cell_type": "markdown",
   "id": "72e74fef",
   "metadata": {
    "slideshow": {
     "slide_type": "fragment"
    }
   },
   "source": [
    "Unordered collection of items; useful when precise order does not matter"
   ]
  },
  {
   "cell_type": "code",
   "execution_count": 4,
   "id": "be467f9a",
   "metadata": {},
   "outputs": [
    {
     "data": {
      "text/plain": [
       "{1, 2, 3}"
      ]
     },
     "execution_count": 4,
     "metadata": {},
     "output_type": "execute_result"
    }
   ],
   "source": [
    "a_list = [1, 2, 3, 3]\n",
    "set(a_list)\n"
   ]
  },
  {
   "cell_type": "markdown",
   "id": "18e8c851",
   "metadata": {
    "slideshow": {
     "slide_type": "fragment"
    }
   },
   "source": [
    "New items can be added or removed:"
   ]
  },
  {
   "cell_type": "code",
   "execution_count": 5,
   "id": "5a07156a",
   "metadata": {
    "slideshow": {
     "slide_type": "subslide"
    }
   },
   "outputs": [],
   "source": [
    "a_set = {\"a\", \"b\", \"c\", \"d\"}\n",
    "a_set.upda"
   ]
  },
  {
   "cell_type": "markdown",
   "id": "8f44c60e",
   "metadata": {
    "slideshow": {
     "slide_type": "subslide"
    }
   },
   "source": [
    "Sets can be useful for set operations of difference / intersection / union:"
   ]
  },
  {
   "cell_type": "code",
   "execution_count": 8,
   "id": "02224e9a",
   "metadata": {},
   "outputs": [
    {
     "data": {
      "text/plain": [
       "True"
      ]
     },
     "execution_count": 8,
     "metadata": {},
     "output_type": "execute_result"
    }
   ],
   "source": [
    "set([1, 2, 3]) == set([1, 3, 2])"
   ]
  },
  {
   "cell_type": "code",
   "execution_count": 16,
   "id": "12096689",
   "metadata": {
    "slideshow": {
     "slide_type": "-"
    }
   },
   "outputs": [
    {
     "data": {
      "text/plain": [
       "{False, 'e', 'f'}"
      ]
     },
     "execution_count": 16,
     "metadata": {},
     "output_type": "execute_result"
    }
   ],
   "source": [
    "set_a = {\"a\", \"b\", \"c\", \"d\", 1}\n",
    "set_b = {\"c\", \"d\", \"e\", \"f\", False}\n",
    "set_b - set_a\n"
   ]
  },
  {
   "cell_type": "markdown",
   "id": "9bf409c5",
   "metadata": {
    "slideshow": {
     "slide_type": "subslide"
    }
   },
   "source": [
    "### Choice of data collector type"
   ]
  },
  {
   "cell_type": "markdown",
   "id": "3ae5136e",
   "metadata": {},
   "source": [
    "In general, to decide among `list`, `tuple`, `dict` or `set` you should think about what you are going to do with your variable:\n",
    "\n",
    "- it makes sens to call each data entry with a name? --> `dict`\n",
    "- you want to be sure content is unchanged? --> `tuple`\n",
    "- you want to avoid duplicated entries? --> `set`\n",
    "- you won't know the length in advance? --> `list`\n",
    "- ..."
   ]
  },
  {
   "cell_type": "markdown",
   "id": "45205c68",
   "metadata": {
    "slideshow": {
     "slide_type": "subslide"
    }
   },
   "source": [
    "Many times multiple options will work..."
   ]
  },
  {
   "cell_type": "markdown",
   "id": "17414cbd",
   "metadata": {
    "slideshow": {
     "slide_type": "fragment"
    }
   },
   "source": [
    "...but remember!\n",
    "\n",
    "\n",
    "    🪷 The Zen of Python 🪷\n",
    "        \n",
    "        In the face of ambiguity, refuse the \n",
    "           temptation to guess.\n",
    "        There should be one -and preferably only one-\n",
    "           obvious way to do it."
   ]
  },
  {
   "cell_type": "markdown",
   "id": "5361032c",
   "metadata": {
    "slideshow": {
     "slide_type": "subslide"
    }
   },
   "source": [
    "## Some more operations with data containers"
   ]
  },
  {
   "cell_type": "markdown",
   "id": "ed25ccdd",
   "metadata": {
    "slideshow": {
     "slide_type": "subslide"
    }
   },
   "source": [
    "### Sum\n",
    "\n",
    "`sum()` works on `list`s, `tuple`s, `set`s with values that can be added (`bool`s, `float`s, `int`s)"
   ]
  },
  {
   "cell_type": "code",
   "execution_count": 19,
   "id": "5dcdd443",
   "metadata": {
    "slideshow": {
     "slide_type": "subslide"
    }
   },
   "outputs": [
    {
     "ename": "TypeError",
     "evalue": "unsupported operand type(s) for +: 'int' and 'str'",
     "output_type": "error",
     "traceback": [
      "\u001b[0;31m---------------------------------------------------------------------------\u001b[0m",
      "\u001b[0;31mTypeError\u001b[0m                                 Traceback (most recent call last)",
      "Cell \u001b[0;32mIn[19], line 2\u001b[0m\n\u001b[1;32m      1\u001b[0m a_list \u001b[38;5;241m=\u001b[39m [\u001b[38;5;124m\"\u001b[39m\u001b[38;5;124md\u001b[39m\u001b[38;5;124m\"\u001b[39m,\u001b[38;5;241m2\u001b[39m,\u001b[38;5;241m3\u001b[39m]\n\u001b[0;32m----> 2\u001b[0m \u001b[38;5;28;43msum\u001b[39;49m\u001b[43m(\u001b[49m\u001b[43ma_list\u001b[49m\u001b[43m)\u001b[49m\n",
      "\u001b[0;31mTypeError\u001b[0m: unsupported operand type(s) for +: 'int' and 'str'"
     ]
    }
   ],
   "source": [
    "a_list = [\"d\",2,3]\n",
    "sum(a_list)"
   ]
  },
  {
   "cell_type": "code",
   "execution_count": 18,
   "id": "d9899ea0",
   "metadata": {},
   "outputs": [
    {
     "data": {
      "text/plain": [
       "2"
      ]
     },
     "execution_count": 18,
     "metadata": {},
     "output_type": "execute_result"
    }
   ],
   "source": [
    "a_tuple = (True, False, True)\n",
    "sum(a_tuple)"
   ]
  },
  {
   "cell_type": "markdown",
   "id": "eccae8bb",
   "metadata": {
    "slideshow": {
     "slide_type": "subslide"
    }
   },
   "source": [
    "## Check values with `in`"
   ]
  },
  {
   "cell_type": "markdown",
   "id": "5042ff01",
   "metadata": {},
   "source": [
    "To check if something is in a data container we can use `in`:"
   ]
  },
  {
   "cell_type": "code",
   "execution_count": 22,
   "id": "784bd337",
   "metadata": {
    "slideshow": {
     "slide_type": "subslide"
    }
   },
   "outputs": [
    {
     "data": {
      "text/plain": [
       "False"
      ]
     },
     "execution_count": 22,
     "metadata": {},
     "output_type": "execute_result"
    }
   ],
   "source": [
    "a_list = (1,2,3)\n",
    "\n",
    "\"g\" in a_list"
   ]
  },
  {
   "cell_type": "code",
   "execution_count": 23,
   "id": "501255e0",
   "metadata": {},
   "outputs": [
    {
     "data": {
      "text/plain": [
       "True"
      ]
     },
     "execution_count": 23,
     "metadata": {},
     "output_type": "execute_result"
    }
   ],
   "source": [
    "regions = {\"Forebrain\", \"Midbrain\", \"Hindbrain\"}  # defining a set\n",
    "#alternative : regions = set([\"Forebrain\", \"Midbrain\", \"Hindbrain\"])  # defining a set\n",
    "\n",
    "\n",
    "\"Forebrain\" in regions"
   ]
  },
  {
   "cell_type": "markdown",
   "id": "86a3a688",
   "metadata": {
    "slideshow": {
     "slide_type": "subslide"
    }
   },
   "source": [
    "For dictionaries, we have to check separately `keys()` and `values()`"
   ]
  },
  {
   "cell_type": "code",
   "execution_count": 24,
   "id": "2f3372db",
   "metadata": {},
   "outputs": [
    {
     "data": {
      "text/plain": [
       "True"
      ]
     },
     "execution_count": 24,
     "metadata": {},
     "output_type": "execute_result"
    }
   ],
   "source": [
    "a_dict = {\"key_0\": 1, \n",
    "          \"key_1\": 2}\n",
    "\n",
    "1 in a_dict.values()"
   ]
  },
  {
   "cell_type": "code",
   "execution_count": 26,
   "id": "5f2d24be",
   "metadata": {},
   "outputs": [
    {
     "data": {
      "text/plain": [
       "True"
      ]
     },
     "execution_count": 26,
     "metadata": {},
     "output_type": "execute_result"
    }
   ],
   "source": [
    "\"key_0\" in a_dict.keys()"
   ]
  },
  {
   "cell_type": "markdown",
   "id": "6335b49a",
   "metadata": {
    "slideshow": {
     "slide_type": "slide"
    }
   },
   "source": [
    "(Practical 0.2.0-1)"
   ]
  },
  {
   "cell_type": "markdown",
   "id": "d992d181",
   "metadata": {
    "slideshow": {
     "slide_type": "subslide"
    }
   },
   "source": [
    "## A special variable type I forgot: `None`"
   ]
  },
  {
   "cell_type": "markdown",
   "id": "18dcfac2",
   "metadata": {},
   "source": [
    "If a variable is `None` no value is assigned to it!"
   ]
  },
  {
   "cell_type": "code",
   "execution_count": 1,
   "id": "e0e365ba",
   "metadata": {},
   "outputs": [],
   "source": [
    "a = None\n",
    "a"
   ]
  },
  {
   "cell_type": "markdown",
   "id": "8cb500a0",
   "metadata": {
    "slideshow": {
     "slide_type": "subslide"
    }
   },
   "source": [
    "`None` is different from `0`, `False`, or empty string `\"\"`"
   ]
  },
  {
   "cell_type": "code",
   "execution_count": 2,
   "id": "a959ba04",
   "metadata": {},
   "outputs": [
    {
     "data": {
      "text/plain": [
       "False"
      ]
     },
     "execution_count": 2,
     "metadata": {},
     "output_type": "execute_result"
    }
   ],
   "source": [
    "a = None\n",
    "a == 0"
   ]
  },
  {
   "cell_type": "code",
   "execution_count": 5,
   "id": "ab25f91a",
   "metadata": {},
   "outputs": [
    {
     "data": {
      "text/plain": [
       "False"
      ]
     },
     "execution_count": 5,
     "metadata": {},
     "output_type": "execute_result"
    }
   ],
   "source": [
    "a == False"
   ]
  },
  {
   "cell_type": "markdown",
   "id": "402ece02",
   "metadata": {
    "slideshow": {
     "slide_type": "subslide"
    }
   },
   "source": [
    "## Check if `None`"
   ]
  },
  {
   "cell_type": "markdown",
   "id": "27542f78",
   "metadata": {
    "slideshow": {
     "slide_type": "-"
    }
   },
   "source": [
    "The correct comparison to check if something is `None` is `is`, not `==`"
   ]
  },
  {
   "cell_type": "code",
   "execution_count": 6,
   "id": "37c1fa9f",
   "metadata": {
    "slideshow": {
     "slide_type": "subslide"
    }
   },
   "outputs": [],
   "source": [
    "x = None"
   ]
  },
  {
   "cell_type": "code",
   "execution_count": 10,
   "id": "4748879e",
   "metadata": {},
   "outputs": [
    {
     "data": {
      "text/plain": [
       "True"
      ]
     },
     "execution_count": 10,
     "metadata": {},
     "output_type": "execute_result"
    }
   ],
   "source": [
    "x is None  # way to go"
   ]
  },
  {
   "cell_type": "code",
   "execution_count": 11,
   "id": "b1d0955a",
   "metadata": {},
   "outputs": [
    {
     "data": {
      "text/plain": [
       "False"
      ]
     },
     "execution_count": 11,
     "metadata": {},
     "output_type": "execute_result"
    }
   ],
   "source": [
    "x is not None  # also way to go"
   ]
  },
  {
   "cell_type": "code",
   "execution_count": 7,
   "id": "711fcc9b",
   "metadata": {},
   "outputs": [
    {
     "data": {
      "text/plain": [
       "True"
      ]
     },
     "execution_count": 7,
     "metadata": {},
     "output_type": "execute_result"
    }
   ],
   "source": [
    "x == None  # this will (mostly) work, but it is not the way to go - we'll see why"
   ]
  },
  {
   "cell_type": "markdown",
   "id": "9793fe35",
   "metadata": {
    "slideshow": {
     "slide_type": "slide"
    }
   },
   "source": [
    "## What can we do with variables?"
   ]
  },
  {
   "cell_type": "markdown",
   "id": "c2f9ba40",
   "metadata": {
    "slideshow": {
     "slide_type": "fragment"
    }
   },
   "source": [
    "operations on variables and the flow of the program are managed with control structures:\n",
    " - `if` / `elif` / `else`\n",
    " - `for`\n",
    " - `while`"
   ]
  },
  {
   "cell_type": "markdown",
   "id": "5a462a1f",
   "metadata": {
    "slideshow": {
     "slide_type": "slide"
    }
   },
   "source": [
    "### `if` / `elif` / `else`"
   ]
  },
  {
   "cell_type": "markdown",
   "id": "86e5e978",
   "metadata": {},
   "source": [
    "With a `if` statement we can make the execution of some lines of code optional:"
   ]
  },
  {
   "cell_type": "code",
   "execution_count": 16,
   "id": "5a225215",
   "metadata": {},
   "outputs": [
    {
     "name": "stdout",
     "output_type": "stream",
     "text": [
      "anyway\n"
     ]
    }
   ],
   "source": [
    "a = 12\n",
    "\n",
    "if a == 10:\n",
    "    print(\"equal 10\")\n",
    "    \n",
    "print(\"anyway\")"
   ]
  },
  {
   "cell_type": "markdown",
   "id": "b093bb99",
   "metadata": {
    "slideshow": {
     "slide_type": "subslide"
    }
   },
   "source": [
    "We can combine multiple conditions:"
   ]
  },
  {
   "cell_type": "code",
   "execution_count": 21,
   "id": "051255bb",
   "metadata": {},
   "outputs": [
    {
     "name": "stdout",
     "output_type": "stream",
     "text": [
      "False <class 'bool'>\n",
      "2 80\n"
     ]
    }
   ],
   "source": [
    "a = 2\n",
    "b = 80\n",
    "\n",
    "boolean_result = a > 1 and b < 10\n",
    "print(boolean_result, type(boolean_result))\n",
    "\n",
    "if boolean_result or True:  # a > 1 and b < 10:\n",
    "    print(a, b)"
   ]
  },
  {
   "cell_type": "markdown",
   "id": "397b8631",
   "metadata": {
    "slideshow": {
     "slide_type": "subslide"
    }
   },
   "source": [
    "We can specify an alternative execution with `else`; this is optional"
   ]
  },
  {
   "cell_type": "code",
   "execution_count": 22,
   "id": "96ee6604",
   "metadata": {},
   "outputs": [
    {
     "name": "stdout",
     "output_type": "stream",
     "text": [
      "greater than 10\n"
     ]
    }
   ],
   "source": [
    "a = 11\n",
    "if a > 10:\n",
    "    print(\"greater than 10\")\n",
    "else:\n",
    "    print(\"smaller than 10\")"
   ]
  },
  {
   "cell_type": "markdown",
   "id": "01606c8c",
   "metadata": {
    "slideshow": {
     "slide_type": "subslide"
    }
   },
   "source": [
    "We can specify multiple alternative executions with `elif`:"
   ]
  },
  {
   "cell_type": "code",
   "execution_count": 27,
   "id": "b121c670",
   "metadata": {},
   "outputs": [
    {
     "name": "stdout",
     "output_type": "stream",
     "text": [
      "bigger but smaller than 10\n"
     ]
    }
   ],
   "source": [
    "a = 6\n",
    "if a < 5:\n",
    "    print(\"smaller than 5\")\n",
    "elif a == 5:\n",
    "    print(\"equal 5\")\n",
    "elif a > 5 and a < 10:\n",
    "    print(\"bigger but smaller than 10\")\n",
    "elif a > 5 and a < 15:\n",
    "    print(\"bigger but smaller than 15\")\n",
    "else:\n",
    "    print(\"greater than 5\")"
   ]
  },
  {
   "cell_type": "markdown",
   "id": "02536d0d",
   "metadata": {
    "slideshow": {
     "slide_type": "slide"
    }
   },
   "source": [
    "### `for`"
   ]
  },
  {
   "cell_type": "markdown",
   "id": "ecf329a2",
   "metadata": {
    "slideshow": {
     "slide_type": "fragment"
    }
   },
   "source": [
    "With a `for` loop we can repeat many times the same code lines:"
   ]
  },
  {
   "cell_type": "code",
   "execution_count": 39,
   "id": "2593c6d4",
   "metadata": {},
   "outputs": [
    {
     "name": "stdout",
     "output_type": "stream",
     "text": [
      "a text\n",
      "a text\n",
      "a text\n"
     ]
    },
    {
     "data": {
      "text/plain": [
       "2"
      ]
     },
     "execution_count": 39,
     "metadata": {},
     "output_type": "execute_result"
    }
   ],
   "source": [
    "pippo = \"A string\"\n",
    "\n",
    "for pippo in range(3):\n",
    "    print(\"a text\")\n",
    "    # print(a_variable)\n",
    "    \n",
    "pippo"
   ]
  },
  {
   "cell_type": "markdown",
   "id": "8b0d0c8e",
   "metadata": {
    "slideshow": {
     "slide_type": "subslide"
    }
   },
   "source": [
    "With `for` loops we can easily go through lists:"
   ]
  },
  {
   "cell_type": "code",
   "execution_count": 45,
   "id": "1422301d",
   "metadata": {},
   "outputs": [
    {
     "name": "stdout",
     "output_type": "stream",
     "text": [
      "a\n",
      "simple\n",
      "list\n"
     ]
    }
   ],
   "source": [
    "a_list = (\"a\", \"simple\", \"list\")\n",
    "\n",
    "for element in a_list:\n",
    "    print(element)"
   ]
  },
  {
   "cell_type": "markdown",
   "id": "7f689932",
   "metadata": {
    "slideshow": {
     "slide_type": "subslide"
    }
   },
   "source": [
    "We can loop over lists while having also indexes with `enumerate`:"
   ]
  },
  {
   "cell_type": "code",
   "execution_count": 49,
   "id": "31165b5a",
   "metadata": {},
   "outputs": [
    {
     "name": "stdout",
     "output_type": "stream",
     "text": [
      "0 a\n",
      "1 simple\n",
      "2 list\n"
     ]
    }
   ],
   "source": [
    "a_list = [\"a\", \"simple\", \"list\"]\n",
    "for idx, pippo in enumerate(a_list):\n",
    "    print(idx, pippo)"
   ]
  },
  {
   "cell_type": "markdown",
   "id": "fbae133c",
   "metadata": {
    "slideshow": {
     "slide_type": "subslide"
    }
   },
   "source": [
    "Finally, we can iterate through multiple things at the same time with `zip`:\n"
   ]
  },
  {
   "cell_type": "code",
   "execution_count": 52,
   "id": "23e5990b",
   "metadata": {},
   "outputs": [
    {
     "name": "stdout",
     "output_type": "stream",
     "text": [
      "a 10\n",
      "simple 30\n",
      "list 42\n",
      "Now with zip()\n",
      "a 10\n",
      "simple 30\n",
      "list 42\n"
     ]
    }
   ],
   "source": [
    "a_list_of_words = [\"a\", \"simple\", \"list\"]\n",
    "another_list_of_numbers = [10, 30, 42]\n",
    "\n",
    "for i in range(len(a_list_of_words)):\n",
    "    word = a_list_of_words[i]\n",
    "    number = another_list_of_numbers[i]\n",
    "    print(word, number)\n",
    "print(\"Now with zip()\")   \n",
    "for word, number in zip(a_list_of_words, another_list_of_numbers):\n",
    "    print(word, number)"
   ]
  },
  {
   "cell_type": "markdown",
   "id": "f15b1d1a",
   "metadata": {
    "slideshow": {
     "slide_type": "subslide"
    }
   },
   "source": [
    "We can use `for` loops to go over anything that is <span style=\"color:indianred\">iterable</span>: eg lists, tuples"
   ]
  },
  {
   "cell_type": "markdown",
   "id": "0b9fa803",
   "metadata": {
    "slideshow": {
     "slide_type": "subslide"
    }
   },
   "source": [
    "but also dictionaries, if we use the correct methods to specify how we want to loop:"
   ]
  },
  {
   "cell_type": "code",
   "execution_count": 53,
   "id": "6a02ae6f",
   "metadata": {
    "slideshow": {
     "slide_type": "-"
    }
   },
   "outputs": [
    {
     "name": "stdout",
     "output_type": "stream",
     "text": [
      "sam\n",
      "lisa\n",
      "joe\n"
     ]
    }
   ],
   "source": [
    "a_dict = dict(sam=3, lisa=1, joe=0)\n",
    "\n",
    "# loop over keys:\n",
    "for key in a_dict.keys():\n",
    "    print(key)"
   ]
  },
  {
   "cell_type": "code",
   "execution_count": 54,
   "id": "973c75f9",
   "metadata": {
    "slideshow": {
     "slide_type": "subslide"
    }
   },
   "outputs": [
    {
     "name": "stdout",
     "output_type": "stream",
     "text": [
      "3\n",
      "1\n",
      "0\n"
     ]
    }
   ],
   "source": [
    "# loop over values:\n",
    "for val in a_dict.values():\n",
    "    print(val)"
   ]
  },
  {
   "cell_type": "code",
   "execution_count": 55,
   "id": "e028730a",
   "metadata": {
    "slideshow": {
     "slide_type": "subslide"
    }
   },
   "outputs": [
    {
     "name": "stdout",
     "output_type": "stream",
     "text": [
      "sam 3\n",
      "lisa 1\n",
      "joe 0\n"
     ]
    }
   ],
   "source": [
    "# loop over keys and values:\n",
    "for key, value in a_dict.items():\n",
    "    print(key, value)"
   ]
  },
  {
   "cell_type": "markdown",
   "id": "f82d7b3e",
   "metadata": {
    "slideshow": {
     "slide_type": "subslide"
    }
   },
   "source": [
    "### `for` loops meet `list`s: list comprehension"
   ]
  },
  {
   "cell_type": "markdown",
   "id": "698863e6",
   "metadata": {
    "slideshow": {
     "slide_type": "fragment"
    }
   },
   "source": [
    "Many times, the syntax for generating a list can be tediously long:"
   ]
  },
  {
   "cell_type": "code",
   "execution_count": 58,
   "id": "f9f45f25",
   "metadata": {
    "slideshow": {
     "slide_type": "subslide"
    }
   },
   "outputs": [
    {
     "name": "stdout",
     "output_type": "stream",
     "text": [
      "first letter is M\n",
      "first letter is t\n",
      "first letter is t\n",
      "first letter is s\n",
      "first letter is f\n",
      "first letter is g\n",
      "first letter is a\n",
      "first letter is l\n",
      "first letter is c\n",
      "first letter is b\n",
      "first letter is t\n",
      "first letter is l\n"
     ]
    },
    {
     "data": {
      "text/plain": [
       "['M', 't', 't', 's', 'f', 'g', 'a', 'l', 'c', 'b', 't', 'l']"
      ]
     },
     "execution_count": 58,
     "metadata": {},
     "output_type": "execute_result"
    }
   ],
   "source": [
    "word_list = \"Many times, the syntax for generating a list can be tediously long\".split()\n",
    "\n",
    "first_letter_list = []\n",
    "for word in word_list:\n",
    "    first_letter = word[0]\n",
    "    print(\"first letter is\", first_letter)\n",
    "    first_letter_list.append(first_letter)\n",
    "first_letter_list\n"
   ]
  },
  {
   "cell_type": "markdown",
   "id": "78400cbb",
   "metadata": {
    "slideshow": {
     "slide_type": "subslide"
    }
   },
   "source": [
    "Instead, we can use <span style=\"color:indianred\">list comprehensions</span>:"
   ]
  },
  {
   "cell_type": "code",
   "execution_count": null,
   "id": "a4a69259",
   "metadata": {},
   "outputs": [],
   "source": [
    "first_letter_list = [word[0] for word in word_list]\n",
    "first_letter_list "
   ]
  },
  {
   "cell_type": "markdown",
   "id": "04bb0b13",
   "metadata": {
    "slideshow": {
     "slide_type": "subslide"
    }
   },
   "source": [
    "`🐍  Very Pythonic  🐍`\n",
    "\n",
    "Not just nicer sintax! List comprehensions are also more efficient!"
   ]
  },
  {
   "cell_type": "markdown",
   "id": "5eda2e12",
   "metadata": {
    "slideshow": {
     "slide_type": "subslide"
    }
   },
   "source": [
    "We can even incorporate conditions in list comprehensions:"
   ]
  },
  {
   "cell_type": "code",
   "execution_count": 59,
   "id": "0814e29e",
   "metadata": {
    "scrolled": true
   },
   "outputs": [
    {
     "data": {
      "text/plain": [
       "['M', 't', 's', 'g', 'l', 't', 'l']"
      ]
     },
     "execution_count": 59,
     "metadata": {},
     "output_type": "execute_result"
    }
   ],
   "source": [
    "first_letter = [word[0] for word in word_list if len(word) > 3]\n",
    "first_letter"
   ]
  },
  {
   "cell_type": "markdown",
   "id": "e7833ba6",
   "metadata": {
    "slideshow": {
     "slide_type": "fragment"
    }
   },
   "source": [
    "...but remember!\n",
    "\n",
    "\n",
    "    🪷 The Zen of Python 🪷\n",
    "        \n",
    "        Readability counts.\n"
   ]
  },
  {
   "cell_type": "markdown",
   "id": "082eb749",
   "metadata": {
    "slideshow": {
     "slide_type": "subslide"
    }
   },
   "source": [
    "So avoid nesting too many conditions inside a list comprehension!"
   ]
  },
  {
   "cell_type": "code",
   "execution_count": null,
   "id": "3054f029",
   "metadata": {},
   "outputs": [],
   "source": [
    "fruits = [\n",
    "    {\"name\": \"apple\", \"state\": \"ripe\", \"weight\": 10},\n",
    "    {\"name\": \"cherry\", \"state\": \"ripe\", \"weight\": 10},\n",
    "    {\"name\": \"grape\", \"state\": \"unripe\", \"weight\": 20}\n",
    "]\n",
    "\n",
    "# Select if ripe and > 50 weight or if ripe and apple:\n",
    "selected_fruits = [\n",
    "    fruit[\"name\"] for fruit in fruits\n",
    "    if (fruit[\"state\"] == \"ripe\" and fruit[\"weight\"] > 50) \n",
    "        or (fruit[\"name\"] == \"apple\" and fruit[\"state\"] == \"ripe\")\n",
    "    ]\n",
    "selected_fruits"
   ]
  },
  {
   "cell_type": "code",
   "execution_count": null,
   "id": "61576e1a",
   "metadata": {
    "slideshow": {
     "slide_type": "subslide"
    }
   },
   "outputs": [],
   "source": [
    "# In this case, it is better something like this: \n",
    "\n",
    "selected_fruits = []\n",
    "for fruit in fruits:\n",
    "    if fruit[\"state\"] == \"ripe\":\n",
    "        if fruit[\"name\"] == \"apple\":\n",
    "            selected_fruits.append(fruit[\"name\"])\n",
    "        elif fruit[\"weight\"] > 50:\n",
    "            selected_fruits.append(fruit[\"name\"])"
   ]
  },
  {
   "cell_type": "code",
   "execution_count": 60,
   "id": "d30ee0c7",
   "metadata": {
    "slideshow": {
     "slide_type": "subslide"
    }
   },
   "outputs": [
    {
     "data": {
      "text/plain": [
       "[3, 4]"
      ]
     },
     "execution_count": 60,
     "metadata": {},
     "output_type": "execute_result"
    }
   ],
   "source": [
    "a_list_of_stuff = [1,2,3,4]\n",
    "another_list = [3,4,5,6]\n",
    "\n",
    "intersection = [element for element in a_list_of_stuff if element in another_list]\n",
    "intersection"
   ]
  },
  {
   "cell_type": "markdown",
   "id": "1779cdfc",
   "metadata": {
    "slideshow": {
     "slide_type": "subslide"
    }
   },
   "source": [
    "### `for` loop meets `dict`: dictionary comprehension"
   ]
  },
  {
   "cell_type": "markdown",
   "id": "d7b7a307",
   "metadata": {},
   "source": [
    "We can use a similar trick to define dictionaries; the syntax will be:\n",
    "```python\n",
    "{key: val for something in something_iterable}\n",
    "```"
   ]
  },
  {
   "cell_type": "code",
   "execution_count": 61,
   "id": "9b6316f8",
   "metadata": {},
   "outputs": [
    {
     "data": {
      "text/plain": [
       "{'Many': 4,\n",
       " 'times,': 6,\n",
       " 'the': 3,\n",
       " 'syntax': 6,\n",
       " 'for': 3,\n",
       " 'generating': 10,\n",
       " 'a': 1,\n",
       " 'list': 4,\n",
       " 'can': 3,\n",
       " 'be': 2,\n",
       " 'tediously': 9,\n",
       " 'long': 4}"
      ]
     },
     "execution_count": 61,
     "metadata": {},
     "output_type": "execute_result"
    }
   ],
   "source": [
    "word_len_dict = {word: len(word) for word in word_list}\n",
    "word_len_dict"
   ]
  },
  {
   "cell_type": "markdown",
   "id": "2c54583a",
   "metadata": {
    "slideshow": {
     "slide_type": "slide"
    }
   },
   "source": [
    "(Practical 0.2.2-3)"
   ]
  },
  {
   "cell_type": "code",
   "execution_count": null,
   "id": "6cd18a44",
   "metadata": {},
   "outputs": [],
   "source": []
  }
 ],
 "metadata": {
  "celltoolbar": "Slideshow",
  "kernelspec": {
   "display_name": "Python 3 (ipykernel)",
   "language": "python",
   "name": "python3"
  },
  "language_info": {
   "codemirror_mode": {
    "name": "ipython",
    "version": 3
   },
   "file_extension": ".py",
   "mimetype": "text/x-python",
   "name": "python",
   "nbconvert_exporter": "python",
   "pygments_lexer": "ipython3",
   "version": "3.11.6"
  }
 },
 "nbformat": 4,
 "nbformat_minor": 5
}
