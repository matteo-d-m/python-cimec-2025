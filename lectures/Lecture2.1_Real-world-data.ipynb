{
 "cells": [
  {
   "cell_type": "markdown",
   "id": "3ca811a3",
   "metadata": {
    "slideshow": {
     "slide_type": "slide"
    }
   },
   "source": [
    "# Python for (open) Neuroscience\n",
    "\n",
    "_Lecture 2.1_ - Real world Python on real world data \n",
    "\n",
    "Luigi Petrucco"
   ]
  },
  {
   "cell_type": "markdown",
   "id": "f497ce76",
   "metadata": {
    "slideshow": {
     "slide_type": "slide"
    }
   },
   "source": [
    "## Before starting\n",
    "\n",
    "- Last main course lecture!\n",
    "- Final module will consist of optional advanced lectures - refer to the schedule in the group"
   ]
  },
  {
   "cell_type": "markdown",
   "id": "17d2be45",
   "metadata": {
    "slideshow": {
     "slide_type": "slide"
    }
   },
   "source": [
    "## Outline\n",
    "\n",
    "- Working with notebooks\n",
    "- Import code in notebooks and scripts\n",
    "- Exploring and organizing files with Python"
   ]
  },
  {
   "cell_type": "markdown",
   "id": "eda7cc42",
   "metadata": {
    "slideshow": {
     "slide_type": "slide"
    }
   },
   "source": [
    "## Notebooks & interactive prompts"
   ]
  },
  {
   "cell_type": "markdown",
   "id": "faf11289",
   "metadata": {},
   "source": [
    "What is the difference between running a script, or work in an interactive environment? (Jupyter or Spyder)"
   ]
  },
  {
   "cell_type": "markdown",
   "id": "71479661",
   "metadata": {
    "slideshow": {
     "slide_type": "subslide"
    }
   },
   "source": [
    "### Running scripts\n",
    "\n",
    "```bash\n",
    "> python script_to_run.py \n",
    "```\n",
    "\n",
    "An interpreter is opened, some Python code (previously existing in a file) is processed, and at the end the interpreter is closed. Variables are created and destroyed in the course of the process."
   ]
  },
  {
   "cell_type": "markdown",
   "id": "6f7d5eb9",
   "metadata": {
    "slideshow": {
     "slide_type": "subslide"
    }
   },
   "source": [
    "### Running interactive environments\n",
    "\n",
    "An interpreter is opened, and remains open waiting for code lines to be passed. Code can be passed by writing and running cells (as in a notebook), writing commands in an interpreter (Terminal interpreter, Spyder), or executing scripts or parts of scripts (Spyder). Variables remain defined as long as the session is open."
   ]
  },
  {
   "cell_type": "markdown",
   "id": "59542fa9",
   "metadata": {
    "slideshow": {
     "slide_type": "subslide"
    }
   },
   "source": [
    "### `Jupyter` notebooks\n",
    "\n",
    "Interactive Python development platform based on a browser interface (The whole thing is powered by some python and javascript code that is provided by the `Jupyter` project)"
   ]
  },
  {
   "cell_type": "markdown",
   "id": "8bd3d968",
   "metadata": {
    "slideshow": {
     "slide_type": "subslide"
    }
   },
   "source": [
    "There's two components of the `Jupyter` system: the interface (left) amd the kernel (right)\n",
    "\n",
    "![folderschema](./files/folderschema-08.png)"
   ]
  },
  {
   "cell_type": "markdown",
   "id": "adea57b2",
   "metadata": {
    "slideshow": {
     "slide_type": "subslide"
    }
   },
   "source": [
    "**Practical:** \n",
    "\n",
    "Open jupyter from the terminal invoking `jupyter notebook` (from your `base` environment)"
   ]
  },
  {
   "cell_type": "markdown",
   "id": "c9d6f62e",
   "metadata": {
    "slideshow": {
     "slide_type": "subslide"
    }
   },
   "source": [
    "The **user interface** we see is a browser page divided in markdown cells (for comments) and Python code cells"
   ]
  },
  {
   "cell_type": "markdown",
   "id": "4116dcc7",
   "metadata": {},
   "source": [
    "![folderschema](./files/folderschema-09.png)"
   ]
  },
  {
   "cell_type": "markdown",
   "id": "3387f523",
   "metadata": {
    "slideshow": {
     "slide_type": "subslide"
    }
   },
   "source": [
    "**Practical**: create a new code cell (`+` button above), and write some code. Make a new cell, and covert it to a comment cell (selecting the cell and pressing `M`, or by `Cell > Cell type > Markdown`)"
   ]
  },
  {
   "cell_type": "markdown",
   "id": "1d456a8b",
   "metadata": {
    "slideshow": {
     "slide_type": "subslide"
    }
   },
   "source": [
    "### The python kernel"
   ]
  },
  {
   "cell_type": "markdown",
   "id": "c4da59c4",
   "metadata": {},
   "source": [
    "A notebook is always executing code using its ***kernel***, just a fancy word to call **an open interpreter** from one of your environments (depending on the configuration of the notebook)."
   ]
  },
  {
   "cell_type": "markdown",
   "id": "31c05ef2",
   "metadata": {
    "slideshow": {
     "slide_type": "subslide"
    }
   },
   "source": [
    "![folderschema](./files/folderschema-10.png)"
   ]
  },
  {
   "cell_type": "markdown",
   "id": "cbdc01ae",
   "metadata": {
    "slideshow": {
     "slide_type": "subslide"
    }
   },
   "source": [
    "Notebooks run in a browser but are **NOT** running online if you launch `jupyter notebook` from the terminal! \n",
    "\n",
    "Relying on the browser is just a convenient way to have a nice graphical interface where you can divide and execute code in separated cells, add markdown comments, show plots, etc.\n",
    "\n",
    "Also, the same notebook can run online on remote computing platforms (e.g., colab). One of the nice things about notebooks!"
   ]
  },
  {
   "cell_type": "markdown",
   "id": "86a9ff16",
   "metadata": {
    "slideshow": {
     "slide_type": "subslide"
    }
   },
   "source": [
    "Each notebook interacts with a new Python session! You can open more notebooks after you run jupyter, but each of them will open a new Python kernel, so it won't see the variables and code defined in another notebook!"
   ]
  },
  {
   "cell_type": "markdown",
   "id": "8a9bb376",
   "metadata": {
    "slideshow": {
     "slide_type": "subslide"
    }
   },
   "source": [
    "**Practical**: \n",
    "- create a new notebook, selecting the `course-env` environment. Write a simple `test_function` function that prints `hello` in that notebook.\n",
    " - open a second notebook using the same environment, and try to use `test_function` function without defining it. Can you do that?"
   ]
  },
  {
   "cell_type": "markdown",
   "id": "b2e92f25",
   "metadata": {
    "slideshow": {
     "slide_type": "subslide"
    }
   },
   "source": [
    "### Share code across notebooks"
   ]
  },
  {
   "cell_type": "markdown",
   "id": "c4df3da4",
   "metadata": {},
   "source": [
    "There are multiple ways of making code available across notebooks:\n",
    "\n",
    "- Define functions in scripts in the notebook folder  (a good starting point)\n",
    "- Keep functions in scripts somewhere in your computer, and append their location to `sys` in the notebook  👎\n",
    "- Define pip-installable custom modules from which code can be imported  🤩 💯\n",
    "\n"
   ]
  },
  {
   "cell_type": "markdown",
   "id": "a7b4d515",
   "metadata": {
    "slideshow": {
     "slide_type": "subslide"
    }
   },
   "source": [
    "What we will look at:\n",
    "    \n",
    "- Define functions in scripts in the notebook folder  (a good starting point)"
   ]
  },
  {
   "cell_type": "markdown",
   "id": "bc1ad095",
   "metadata": {
    "slideshow": {
     "slide_type": "subslide"
    }
   },
   "source": [
    "The easiest is to put all functions you want to make available across notebooks in a python `.py` file in the same folder as the notebook, and to import the functions from there.\n",
    "\n",
    "```\n",
    "code-folder\n",
    "        ├── Notebook1.ipynb\n",
    "        ├── Notebook2.ipynb\n",
    "        └── custom_utils.py \n",
    "```\n",
    "\n",
    "Functions defined in `custom_utils.py` can be imported in the notebooks with:\n",
    "```python\n",
    "from custom_utils import function\n",
    "```"
   ]
  },
  {
   "cell_type": "markdown",
   "id": "15ff5727",
   "metadata": {
    "slideshow": {
     "slide_type": "subslide"
    }
   },
   "source": [
    "**Practical**: \n",
    "\n",
    " - Open a new text file in the folder where you created the two notebooks. You can do it in jupyter  \"New\" > \"Text file\"\n",
    " - Rename the file something like `custom_utils.py` (the `.py` extension here is important!), and save it!\n",
    " - Restart the notebook kernel (\"Kernel\" > \"Restart\") \n",
    " - Import the custom function and run it"
   ]
  },
  {
   "cell_type": "markdown",
   "id": "2a45ba1e",
   "metadata": {
    "slideshow": {
     "slide_type": "subslide"
    }
   },
   "source": [
    "## Working with the filesystem"
   ]
  },
  {
   "cell_type": "markdown",
   "id": "4d8c9472",
   "metadata": {},
   "source": [
    "The first important skill when you start working with your local data!"
   ]
  },
  {
   "cell_type": "markdown",
   "id": "f0892e36",
   "metadata": {
    "slideshow": {
     "slide_type": "subslide"
    }
   },
   "source": [
    "###  `Path` objects"
   ]
  },
  {
   "cell_type": "markdown",
   "id": "4f7b09a3",
   "metadata": {},
   "source": [
    "The fundamental tool for working with the filesystem is the `Path` class from the `pathlib` module.\n",
    "\n",
    "(You can find people doing it using the `os` module, but it is old and not recommended as of 2024)"
   ]
  },
  {
   "cell_type": "code",
   "execution_count": 3,
   "id": "49bedb09",
   "metadata": {},
   "outputs": [],
   "source": [
    "from pathlib import Path"
   ]
  },
  {
   "cell_type": "markdown",
   "id": "02ea5245",
   "metadata": {
    "slideshow": {
     "slide_type": "subslide"
    }
   },
   "source": [
    "A `Path` object is initialized with a string indicating a location:"
   ]
  },
  {
   "cell_type": "code",
   "execution_count": 4,
   "id": "fde449d6",
   "metadata": {},
   "outputs": [],
   "source": [
    "a_path = Path(\"/Users/vigji/code\")\n",
    "# Note 1: to run those examples on your machine, you have to change the path strings!\n",
    "# Note 2: in windows backslashes are problematic! To fix, start string with r (for \"raw-string\"):\n",
    "# a_windows_path = Path(r\"C:\\Users\\vigji\\code\")"
   ]
  },
  {
   "cell_type": "markdown",
   "id": "dbf51236",
   "metadata": {
    "slideshow": {
     "slide_type": "subslide"
    }
   },
   "source": [
    "We can define a Path object with a non-existing path, but we can check if a path exists using the exist() method:"
   ]
  },
  {
   "cell_type": "code",
   "execution_count": 6,
   "id": "c34ca644",
   "metadata": {},
   "outputs": [
    {
     "name": "stdout",
     "output_type": "stream",
     "text": [
      "True\n"
     ]
    }
   ],
   "source": [
    "a_path = Path(\"/Users/vigji/code/python-cimec-2024/lectures/Lecture1.0_Numpy-intro.ipynb\")\n",
    "print(a_path.exists())"
   ]
  },
  {
   "cell_type": "code",
   "execution_count": 7,
   "id": "67996061",
   "metadata": {},
   "outputs": [
    {
     "name": "stdout",
     "output_type": "stream",
     "text": [
      "False\n"
     ]
    }
   ],
   "source": [
    "a_wrong_path = Path(\"/Users/pippo\")\n",
    "print(a_wrong_path.exists())"
   ]
  },
  {
   "cell_type": "markdown",
   "id": "a3986fd5",
   "metadata": {
    "slideshow": {
     "slide_type": "subslide"
    }
   },
   "source": [
    "`Path` objects have some useful attributes:"
   ]
  },
  {
   "cell_type": "code",
   "execution_count": 8,
   "id": "dafebc42",
   "metadata": {},
   "outputs": [
    {
     "data": {
      "text/plain": [
       "'Lecture1.0_Numpy-intro.ipynb'"
      ]
     },
     "execution_count": 8,
     "metadata": {},
     "output_type": "execute_result"
    }
   ],
   "source": [
    "a_path.name  # name of the file (string)  "
   ]
  },
  {
   "cell_type": "code",
   "execution_count": 9,
   "id": "937227b6",
   "metadata": {
    "slideshow": {
     "slide_type": "subslide"
    }
   },
   "outputs": [
    {
     "data": {
      "text/plain": [
       "'Lecture1.0_Numpy-intro'"
      ]
     },
     "execution_count": 9,
     "metadata": {},
     "output_type": "execute_result"
    }
   ],
   "source": [
    "a_path.stem  # name of the file without extension (string)"
   ]
  },
  {
   "cell_type": "code",
   "execution_count": 10,
   "id": "2906d58a",
   "metadata": {},
   "outputs": [
    {
     "data": {
      "text/plain": [
       "'.ipynb'"
      ]
     },
     "execution_count": 10,
     "metadata": {},
     "output_type": "execute_result"
    }
   ],
   "source": [
    "a_path.suffix"
   ]
  },
  {
   "cell_type": "code",
   "execution_count": 12,
   "id": "a7875c8d",
   "metadata": {},
   "outputs": [
    {
     "data": {
      "text/plain": [
       "''"
      ]
     },
     "execution_count": 12,
     "metadata": {},
     "output_type": "execute_result"
    }
   ],
   "source": [
    "a_folder_path = Path(\"/Users/vigji/code/python-cimec-2024/lectures\")\n",
    "a_folder_path.suffix"
   ]
  },
  {
   "cell_type": "code",
   "execution_count": 13,
   "id": "0e88e066",
   "metadata": {
    "slideshow": {
     "slide_type": "subslide"
    }
   },
   "outputs": [
    {
     "data": {
      "text/plain": [
       "PosixPath('/Users/vigji/code/python-cimec-2024/lectures')"
      ]
     },
     "execution_count": 13,
     "metadata": {},
     "output_type": "execute_result"
    }
   ],
   "source": [
    "a_path.parent  # folder containing the file (Path object)"
   ]
  },
  {
   "cell_type": "code",
   "execution_count": 14,
   "id": "bb077fb1",
   "metadata": {
    "slideshow": {
     "slide_type": "subslide"
    }
   },
   "outputs": [
    {
     "data": {
      "text/plain": [
       "PosixPath('/Users/vigji/code/python-cimec-2024/lectures')"
      ]
     },
     "execution_count": 14,
     "metadata": {},
     "output_type": "execute_result"
    }
   ],
   "source": [
    "a_path.parent"
   ]
  },
  {
   "cell_type": "markdown",
   "id": "7285ef79",
   "metadata": {
    "slideshow": {
     "slide_type": "subslide"
    }
   },
   "source": [
    "### `glob()` and regular expressions"
   ]
  },
  {
   "cell_type": "markdown",
   "id": "291b4f88",
   "metadata": {},
   "source": [
    "We can browse the filesystem using the `.glob()` method. `.glob()` finds all files in the folder from which it is called that match a specific pattern."
   ]
  },
  {
   "cell_type": "markdown",
   "id": "b0285370",
   "metadata": {
    "slideshow": {
     "slide_type": "subslide"
    }
   },
   "source": [
    "The pattern we pass to `glob()` is a so-called <span style=\"color:indianred\">regular expression</span> (or _regex_). Regular expressions are strings that we can use to specify the features of the string we are looking for."
   ]
  },
  {
   "cell_type": "markdown",
   "id": "9951db34",
   "metadata": {
    "slideshow": {
     "slide_type": "subslide"
    }
   },
   "source": [
    "The most common one is the symbol for \"any string\": `*`. If we just put `*` in our regular expression, we get any possible string match, that is to say, the whole content of the folder:"
   ]
  },
  {
   "cell_type": "code",
   "execution_count": 18,
   "id": "30cd12db",
   "metadata": {},
   "outputs": [
    {
     "name": "stdout",
     "output_type": "stream",
     "text": [
      "/Users/vigji/code/python-cimec-2024/lectures/Lecture1.0_Numpy-intro.ipynb\n",
      "/Users/vigji/code/python-cimec-2024/lectures/Lecture1.5_More-plotting.ipynb\n",
      "/Users/vigji/code/python-cimec-2024/lectures/Lecture2.1_Real-world-data.ipynb\n",
      "/Users/vigji/code/python-cimec-2024/lectures/Lecture0.2_Flow-controls-style.ipynb\n",
      "/Users/vigji/code/python-cimec-2024/lectures/Lecture0.0.1_Python-syntax.ipynb\n",
      "/Users/vigji/code/python-cimec-2024/lectures/Lecture1.2_Intro-pandas.ipynb\n",
      "/Users/vigji/code/python-cimec-2024/lectures/Lecture1.4_More-pandas.ipynb\n",
      "/Users/vigji/code/python-cimec-2024/lectures/Lecture0.1_Containers.ipynb\n",
      "/Users/vigji/code/python-cimec-2024/lectures/Lecture1.1_Numpy.ipynb\n",
      "/Users/vigji/code/python-cimec-2024/lectures/Lecture1.3_More-pandas.ipynb\n",
      "/Users/vigji/code/python-cimec-2024/lectures/Lecture0.3_Functions.ipynb\n",
      "/Users/vigji/code/python-cimec-2024/lectures/Lecture2.0_Real-world-python.ipynb\n",
      "/Users/vigji/code/python-cimec-2024/lectures/Lecture0.0.0_Introduction.ipynb\n",
      "/Users/vigji/code/python-cimec-2024/lectures/Lecture0.5_define_classes.ipynb\n",
      "/Users/vigji/code/python-cimec-2024/lectures/Lecture0.4_Classes-objects.ipynb\n"
     ]
    }
   ],
   "source": [
    "a_path = Path(\"/Users/vigji/code/python-cimec-2024/lectures\")\n",
    "\n",
    "for path in a_path.glob(\"*.ipynb\"):  # match all files in the folder\n",
    "    print(path)"
   ]
  },
  {
   "cell_type": "markdown",
   "id": "86d08723",
   "metadata": {
    "slideshow": {
     "slide_type": "subslide"
    }
   },
   "source": [
    "We can create more complicated patterns to look for specific files, or files with a word in the name. \n",
    "\n",
    "For example, to look for all jupyter notebooks here (extension `\".ipynb\"`), we can write:"
   ]
  },
  {
   "cell_type": "code",
   "execution_count": null,
   "id": "2cf82e79",
   "metadata": {},
   "outputs": [],
   "source": [
    "# match all paths in the folder whose name finishes with .md (and starts with anything):\n",
    "for path in sorted(a_path.glob(\"*.ipynb\")):\n",
    "    print(path)"
   ]
  },
  {
   "cell_type": "markdown",
   "id": "3a8d6bd4",
   "metadata": {
    "slideshow": {
     "slide_type": "subslide"
    }
   },
   "source": [
    "Or to look at all files of the second module - whose name starts with `\"Lecture1.\"`:"
   ]
  },
  {
   "cell_type": "code",
   "execution_count": 19,
   "id": "4ef08fdd",
   "metadata": {},
   "outputs": [],
   "source": [
    "# match all paths in the folder whose name starts with python and (finishes with anything):\n",
    "for path in a_path.glob(\"Lecture1.\"):\n",
    "    print(path)"
   ]
  },
  {
   "cell_type": "markdown",
   "id": "10d4d645",
   "metadata": {
    "slideshow": {
     "slide_type": "subslide"
    }
   },
   "source": [
    "Or look at all files whose name contains `\"pandas\"`:"
   ]
  },
  {
   "cell_type": "code",
   "execution_count": 20,
   "id": "211da705",
   "metadata": {},
   "outputs": [
    {
     "name": "stdout",
     "output_type": "stream",
     "text": [
      "/Users/vigji/code/python-cimec-2024/lectures/Lecture1.2_Intro-pandas.ipynb\n",
      "/Users/vigji/code/python-cimec-2024/lectures/Lecture1.4_More-pandas.ipynb\n",
      "/Users/vigji/code/python-cimec-2024/lectures/Lecture1.3_More-pandas.ipynb\n"
     ]
    }
   ],
   "source": [
    "# match all paths in the folder whose name contains pandas (could find anything before and after):\n",
    "for path in a_path.glob(\"*pandas*\"):\n",
    "    print(path)"
   ]
  },
  {
   "cell_type": "markdown",
   "id": "1d1ae7c5",
   "metadata": {
    "slideshow": {
     "slide_type": "subslide"
    }
   },
   "source": [
    "If we want to look if a path is a folder (as opposed to a file name), we can use the `.isdir()` method:"
   ]
  },
  {
   "cell_type": "code",
   "execution_count": 21,
   "id": "ea49767e",
   "metadata": {},
   "outputs": [
    {
     "name": "stdout",
     "output_type": "stream",
     "text": [
      "/Users/vigji/code/python-cimec-2024/lectures/files\n",
      "/Users/vigji/code/python-cimec-2024/lectures/.ipynb_checkpoints\n"
     ]
    }
   ],
   "source": [
    "# match all paths in the folder that are folders:\n",
    "for path in a_path.glob(\"*\"):\n",
    "    if path.is_dir():\n",
    "        print(path)"
   ]
  },
  {
   "cell_type": "markdown",
   "id": "5fd9ee0e",
   "metadata": {
    "slideshow": {
     "slide_type": "subslide"
    }
   },
   "source": [
    "We can include subfolders in our search using `.rglob()` (short for recursive `.glob()`)"
   ]
  },
  {
   "cell_type": "code",
   "execution_count": 22,
   "id": "4aef22ff",
   "metadata": {},
   "outputs": [
    {
     "name": "stdout",
     "output_type": "stream",
     "text": [
      "/Users/vigji/code/python-cimec-2024/lectures/Lecture1.0_Numpy-intro.ipynb\n",
      "/Users/vigji/code/python-cimec-2024/lectures/Lecture1.5_More-plotting.ipynb\n",
      "/Users/vigji/code/python-cimec-2024/lectures/Lecture2.1_Real-world-data.ipynb\n",
      "/Users/vigji/code/python-cimec-2024/lectures/Lecture0.2_Flow-controls-style.ipynb\n",
      "/Users/vigji/code/python-cimec-2024/lectures/Lecture0.0.1_Python-syntax.ipynb\n",
      "/Users/vigji/code/python-cimec-2024/lectures/.DS_Store\n",
      "/Users/vigji/code/python-cimec-2024/lectures/Lecture1.2_Intro-pandas.ipynb\n",
      "/Users/vigji/code/python-cimec-2024/lectures/Lecture1.4_More-pandas.ipynb\n",
      "/Users/vigji/code/python-cimec-2024/lectures/Lecture0.1_Containers.ipynb\n",
      "/Users/vigji/code/python-cimec-2024/lectures/rise.css\n",
      "/Users/vigji/code/python-cimec-2024/lectures/Lecture1.1_Numpy.ipynb\n",
      "/Users/vigji/code/python-cimec-2024/lectures/Lecture1.3_More-pandas.ipynb\n",
      "/Users/vigji/code/python-cimec-2024/lectures/Lecture0.3_Functions.ipynb\n",
      "/Users/vigji/code/python-cimec-2024/lectures/files\n",
      "/Users/vigji/code/python-cimec-2024/lectures/Lecture2.0_Real-world-python.ipynb\n",
      "/Users/vigji/code/python-cimec-2024/lectures/Lecture0.0.0_Introduction.ipynb\n",
      "/Users/vigji/code/python-cimec-2024/lectures/.ipynb_checkpoints\n",
      "/Users/vigji/code/python-cimec-2024/lectures/Lecture0.5_define_classes.ipynb\n",
      "/Users/vigji/code/python-cimec-2024/lectures/Lecture0.4_Classes-objects.ipynb\n",
      "/Users/vigji/code/python-cimec-2024/lectures/files/stimulus_log.csv\n",
      "/Users/vigji/code/python-cimec-2024/lectures/files/imageschema.png\n",
      "/Users/vigji/code/python-cimec-2024/lectures/files/errors_messages.png\n",
      "/Users/vigji/code/python-cimec-2024/lectures/files/python_traceback_2.b27a4eb060a8.png\n",
      "/Users/vigji/code/python-cimec-2024/lectures/files/errors_2.png\n",
      "/Users/vigji/code/python-cimec-2024/lectures/files/imageschema-01.png\n",
      "/Users/vigji/code/python-cimec-2024/lectures/files/.DS_Store\n",
      "/Users/vigji/code/python-cimec-2024/lectures/files/errors_3.png\n",
      "/Users/vigji/code/python-cimec-2024/lectures/files/errors_1.png\n",
      "/Users/vigji/code/python-cimec-2024/lectures/files/imageschema-02.png\n",
      "/Users/vigji/code/python-cimec-2024/lectures/files/class_anatomy.ai\n",
      "/Users/vigji/code/python-cimec-2024/lectures/files/errors_0.png\n",
      "/Users/vigji/code/python-cimec-2024/lectures/files/folderschema-06.png\n",
      "/Users/vigji/code/python-cimec-2024/lectures/files/octopus.jpg\n",
      "/Users/vigji/code/python-cimec-2024/lectures/files/function_anatomy.png\n",
      "/Users/vigji/code/python-cimec-2024/lectures/files/folderschema-07.png\n",
      "/Users/vigji/code/python-cimec-2024/lectures/files/folderschema.ai\n",
      "/Users/vigji/code/python-cimec-2024/lectures/files/folderschema-05.png\n",
      "/Users/vigji/code/python-cimec-2024/lectures/files/folderschema-04.png\n",
      "/Users/vigji/code/python-cimec-2024/lectures/files/folderschema-10.png\n",
      "/Users/vigji/code/python-cimec-2024/lectures/files/function_anatomy.ai\n",
      "/Users/vigji/code/python-cimec-2024/lectures/files/folderschema-01.png\n",
      "/Users/vigji/code/python-cimec-2024/lectures/files/class_structure.jpeg\n",
      "/Users/vigji/code/python-cimec-2024/lectures/files/folderschema-03.png\n",
      "/Users/vigji/code/python-cimec-2024/lectures/files/folderschema-02.png\n",
      "/Users/vigji/code/python-cimec-2024/lectures/files/questionnaire2024.csv\n",
      "/Users/vigji/code/python-cimec-2024/lectures/files/swarmplot_data.csv\n",
      "/Users/vigji/code/python-cimec-2024/lectures/files/screen_notebook.png\n",
      "/Users/vigji/code/python-cimec-2024/lectures/files/screen_env.png\n",
      "/Users/vigji/code/python-cimec-2024/lectures/files/duck_typing.png\n",
      "/Users/vigji/code/python-cimec-2024/lectures/files/example-stylesheet.mplstyle\n",
      "/Users/vigji/code/python-cimec-2024/lectures/files/imageschema.ai\n",
      "/Users/vigji/code/python-cimec-2024/lectures/files/vector_meme.webp\n",
      "/Users/vigji/code/python-cimec-2024/lectures/files/dynamite.pdf\n",
      "/Users/vigji/code/python-cimec-2024/lectures/files/folderschema-09.png\n",
      "/Users/vigji/code/python-cimec-2024/lectures/files/folderschema-08.png\n",
      "/Users/vigji/code/python-cimec-2024/lectures/files/memory.svg\n",
      "/Users/vigji/code/python-cimec-2024/lectures/files/dynamite.png\n",
      "/Users/vigji/code/python-cimec-2024/lectures/files/arduino.png\n",
      "/Users/vigji/code/python-cimec-2024/lectures/files/.ipynb_checkpoints\n",
      "/Users/vigji/code/python-cimec-2024/lectures/files/seaborn_df.csv\n",
      "/Users/vigji/code/python-cimec-2024/lectures/files/memory.png\n",
      "/Users/vigji/code/python-cimec-2024/lectures/files/class_anatomy1.pdf\n",
      "/Users/vigji/code/python-cimec-2024/lectures/files/screen_conda.png\n",
      "/Users/vigji/code/python-cimec-2024/lectures/files/python_environment_2x.png\n",
      "/Users/vigji/code/python-cimec-2024/lectures/files/class_anatomy2.pdf\n",
      "/Users/vigji/code/python-cimec-2024/lectures/files/serialcomm.png\n",
      "/Users/vigji/code/python-cimec-2024/lectures/.ipynb_checkpoints/Lecture 0.0.1 - Python syntax-checkpoint.ipynb\n",
      "/Users/vigji/code/python-cimec-2024/lectures/.ipynb_checkpoints/Lecture3.0_GitHub-Publishing-code-checkpoint.ipynb\n",
      "/Users/vigji/code/python-cimec-2024/lectures/.ipynb_checkpoints/Practicals_0.0-checkpoint.ipynb\n",
      "/Users/vigji/code/python-cimec-2024/lectures/.ipynb_checkpoints/Lecture0.0.0_Introduction-checkpoint.ipynb\n",
      "/Users/vigji/code/python-cimec-2024/lectures/.ipynb_checkpoints/Lecture0.0.1_Python-syntax-checkpoint.ipynb\n",
      "/Users/vigji/code/python-cimec-2024/lectures/.ipynb_checkpoints/Lecture3.2_Statistics-Machine-learning-checkpoint.ipynb\n",
      "/Users/vigji/code/python-cimec-2024/lectures/.ipynb_checkpoints/Lecture2.3_GitHub-Publishing-code-checkpoint.ipynb\n",
      "/Users/vigji/code/python-cimec-2024/lectures/.ipynb_checkpoints/Lecture0.3_Functions-checkpoint.ipynb\n",
      "/Users/vigji/code/python-cimec-2024/lectures/.ipynb_checkpoints/Lecture2.2_Introduction-imaging-analysis-checkpoint.ipynb\n",
      "/Users/vigji/code/python-cimec-2024/lectures/.ipynb_checkpoints/Lecture0.1_Containers-checkpoint.ipynb\n",
      "/Users/vigji/code/python-cimec-2024/lectures/.ipynb_checkpoints/Lecture1.1_Numpy-checkpoint.ipynb\n",
      "/Users/vigji/code/python-cimec-2024/lectures/.ipynb_checkpoints/Lecture2.1_Real-world-data-checkpoint.ipynb\n",
      "/Users/vigji/code/python-cimec-2024/lectures/.ipynb_checkpoints/Lecture0.2_Flow-controls-style-checkpoint.ipynb\n",
      "/Users/vigji/code/python-cimec-2024/lectures/.ipynb_checkpoints/Lecture1.3_More-pandas-checkpoint.ipynb\n",
      "/Users/vigji/code/python-cimec-2024/lectures/.ipynb_checkpoints/Lecture1.5_More-plotting-checkpoint.ipynb\n",
      "/Users/vigji/code/python-cimec-2024/lectures/.ipynb_checkpoints/Lecture0.4_Classes-objects-checkpoint.ipynb\n",
      "/Users/vigji/code/python-cimec-2024/lectures/.ipynb_checkpoints/Lecture3.1_Neuro-Imaging_V-notebook-checkpoint.ipynb\n",
      "/Users/vigji/code/python-cimec-2024/lectures/.ipynb_checkpoints/Lecture1.2_Intro-pandas-checkpoint.ipynb\n",
      "/Users/vigji/code/python-cimec-2024/lectures/.ipynb_checkpoints/rise-checkpoint.css\n",
      "/Users/vigji/code/python-cimec-2024/lectures/.ipynb_checkpoints/Lecture2.0_Real-world-python-checkpoint.ipynb\n",
      "/Users/vigji/code/python-cimec-2024/lectures/.ipynb_checkpoints/Lecture1.0_Numpy-intro-checkpoint.ipynb\n",
      "/Users/vigji/code/python-cimec-2024/lectures/.ipynb_checkpoints/Lecture0.5_define_classes-checkpoint.ipynb\n",
      "/Users/vigji/code/python-cimec-2024/lectures/.ipynb_checkpoints/Lecture 0.2 - Classes and objects-checkpoint.ipynb\n",
      "/Users/vigji/code/python-cimec-2024/lectures/.ipynb_checkpoints/Lecture3.3_Run-experiments-checkpoint.ipynb\n",
      "/Users/vigji/code/python-cimec-2024/lectures/.ipynb_checkpoints/Lecture 0.1 - Functions and modules-checkpoint.ipynb\n",
      "/Users/vigji/code/python-cimec-2024/lectures/.ipynb_checkpoints/Lecture1.4_More-pandas-checkpoint.ipynb\n",
      "/Users/vigji/code/python-cimec-2024/lectures/.ipynb_checkpoints/Lecture 0.0.0 - Introduction-checkpoint.ipynb\n"
     ]
    }
   ],
   "source": [
    "# match all paths in the folder and its subfolders:\n",
    "for path in a_path.rglob(\"*\"):\n",
    "    print(path)"
   ]
  },
  {
   "cell_type": "markdown",
   "id": "ead8ccf6",
   "metadata": {
    "slideshow": {
     "slide_type": "subslide"
    }
   },
   "source": [
    "Note that `.glob()` does not return a list, but a `generator` object - we can loop on a generator, but not index it!"
   ]
  },
  {
   "cell_type": "code",
   "execution_count": 24,
   "id": "7de05c6e",
   "metadata": {},
   "outputs": [
    {
     "data": {
      "text/plain": [
       "PosixPath('/Users/vigji/code/python-cimec-2024/lectures/Lecture1.5_More-plotting.ipynb')"
      ]
     },
     "execution_count": 24,
     "metadata": {},
     "output_type": "execute_result"
    }
   ],
   "source": [
    "an_assumed_list = list(a_path.glob(\"*\"))\n",
    "an_assumed_list[1]  # this will give an error as a generator is not subscriptable"
   ]
  },
  {
   "cell_type": "markdown",
   "id": "655a1ad4",
   "metadata": {
    "slideshow": {
     "slide_type": "subslide"
    }
   },
   "source": [
    "If you want to index a file path, you have to convert the result to list first!"
   ]
  },
  {
   "cell_type": "code",
   "execution_count": null,
   "id": "8ac73c33",
   "metadata": {},
   "outputs": [],
   "source": [
    "a_file_list = list(a_path.glob(\"*\"))\n",
    "a_file_list"
   ]
  },
  {
   "cell_type": "markdown",
   "id": "1d8b1d02",
   "metadata": {
    "slideshow": {
     "slide_type": "subslide"
    }
   },
   "source": [
    "Also, note that you can't count on the files to be sorted. This can be [very important to remember](https://discuss.python.org/t/a-code-glitch-may-have-caused-errors-in-more-than-100-published-studies/2583/3)!\n",
    "\n",
    "If you want some sorting, you should do it yourself (e.g. using the `sorted()` function):"
   ]
  },
  {
   "cell_type": "code",
   "execution_count": null,
   "id": "50c74b98",
   "metadata": {},
   "outputs": [],
   "source": [
    "for path in sorted(a_path.glob(\"*\")):  # alphabetically sorted() files\n",
    "    print(path)"
   ]
  },
  {
   "cell_type": "markdown",
   "id": "10b99881",
   "metadata": {
    "slideshow": {
     "slide_type": "subslide"
    }
   },
   "source": [
    "### Concatenating paths"
   ]
  },
  {
   "cell_type": "markdown",
   "id": "32a3df9a",
   "metadata": {},
   "source": [
    "We can use the `/` operator to concatenate parts of the path **independently from the OS we are on**. This is because here we use `/` as a python operator, **not as a string**! `pathlib` will know what are the OS requirements for slashes."
   ]
  },
  {
   "cell_type": "code",
   "execution_count": null,
   "id": "3cfa2cf3",
   "metadata": {},
   "outputs": [],
   "source": [
    "course_path = Path(\"/Users/vigji/code/python-cimec\")\n",
    "lectures_path = a_path / \"lectures\"  # this will work regardless of the OS"
   ]
  },
  {
   "cell_type": "markdown",
   "id": "79273ccf",
   "metadata": {
    "slideshow": {
     "slide_type": "subslide"
    }
   },
   "source": [
    "### Create folders"
   ]
  },
  {
   "cell_type": "markdown",
   "id": "66114c97",
   "metadata": {},
   "source": [
    "`Path` objects can be used to write new directories in the filesystem using `.mkdir()`. It throws an error if the folder exists, unless we specify `exist_ok=True` argument:"
   ]
  },
  {
   "cell_type": "code",
   "execution_count": 27,
   "id": "2c53f475",
   "metadata": {},
   "outputs": [],
   "source": [
    "a_path = Path(\"/Users/vigji/new_folder\")\n",
    "a_path.mkdir(exist_ok=True)"
   ]
  },
  {
   "cell_type": "markdown",
   "id": "2f303e57",
   "metadata": {
    "slideshow": {
     "slide_type": "subslide"
    }
   },
   "source": [
    "If we want to create a path in a location that does not exist yet, we can create in one single shot the required parent folders using the `parents=True` argument (if we don't, the method will complain as we are trying to create a directory in a directory that does not exist)."
   ]
  },
  {
   "cell_type": "code",
   "execution_count": 30,
   "id": "d4a3c2c2",
   "metadata": {},
   "outputs": [],
   "source": [
    "a_subfolder_path = a_path / \"subfolder\" / \"subsubfolder\" / \"subsubsubfolder\"\n",
    "a_subfolder_path.mkdir(parents=True)"
   ]
  },
  {
   "cell_type": "markdown",
   "id": "6545848e",
   "metadata": {
    "slideshow": {
     "slide_type": "subslide"
    }
   },
   "source": [
    "### Move files"
   ]
  },
  {
   "cell_type": "markdown",
   "id": "b5ba5b8d",
   "metadata": {},
   "source": [
    "We can use the `.replace()` method of a path to move a file to a new location that we pass as input to the method. "
   ]
  },
  {
   "cell_type": "code",
   "execution_count": 31,
   "id": "57ff8d0d",
   "metadata": {},
   "outputs": [],
   "source": [
    "a_path = Path(\"/Users/vigji/new_container_folder\")\n",
    "a_path.mkdir(exist_ok=True)"
   ]
  },
  {
   "cell_type": "code",
   "execution_count": 32,
   "id": "53488623",
   "metadata": {},
   "outputs": [],
   "source": [
    "path_to_move = Path(\"/Users/vigji/new_folder\")\n",
    "path_to_move.mkdir(exist_ok=True)"
   ]
  },
  {
   "cell_type": "code",
   "execution_count": 33,
   "id": "798e92f7",
   "metadata": {},
   "outputs": [
    {
     "data": {
      "text/plain": [
       "PosixPath('/Users/vigji/new_container_folder/new_folder')"
      ]
     },
     "execution_count": 33,
     "metadata": {},
     "output_type": "execute_result"
    }
   ],
   "source": [
    "path_to_move.replace(a_path / path_to_move.name)"
   ]
  },
  {
   "cell_type": "markdown",
   "id": "ff244409",
   "metadata": {
    "slideshow": {
     "slide_type": "subslide"
    }
   },
   "source": [
    "## Automatically organize data folders"
   ]
  },
  {
   "cell_type": "markdown",
   "id": "a11cd6bb",
   "metadata": {},
   "source": [
    "Every time you end up manually moving and renaming files, consider doing it programmatically!"
   ]
  },
  {
   "cell_type": "code",
   "execution_count": 34,
   "id": "d4b54a29",
   "metadata": {
    "slideshow": {
     "slide_type": "subslide"
    }
   },
   "outputs": [],
   "source": [
    "data_folder = Path(\"/Users/vigji/sample_data_folder\")  # original data folder\n",
    "\n",
    "new_data_folder = Path(\"/Users/vigji/reorganized_data_folder\")  # new reorganized folder\n",
    "new_data_folder.mkdir(exist_ok=True)"
   ]
  },
  {
   "cell_type": "code",
   "execution_count": 35,
   "id": "7de1dc1e",
   "metadata": {},
   "outputs": [
    {
     "ename": "ValueError",
     "evalue": "not enough values to unpack (expected 2, got 1)",
     "output_type": "error",
     "traceback": [
      "\u001b[0;31m---------------------------------------------------------------------------\u001b[0m",
      "\u001b[0;31mValueError\u001b[0m                                Traceback (most recent call last)",
      "Cell \u001b[0;32mIn[35], line 2\u001b[0m\n\u001b[1;32m      1\u001b[0m \u001b[38;5;28;01mfor\u001b[39;00m file \u001b[38;5;129;01min\u001b[39;00m data_folder\u001b[38;5;241m.\u001b[39mglob(\u001b[38;5;124m\"\u001b[39m\u001b[38;5;124m*\u001b[39m\u001b[38;5;124m\"\u001b[39m):\n\u001b[0;32m----> 2\u001b[0m     subject, session \u001b[38;5;241m=\u001b[39m file\u001b[38;5;241m.\u001b[39mstem\u001b[38;5;241m.\u001b[39msplit(\u001b[38;5;124m\"\u001b[39m\u001b[38;5;124m_\u001b[39m\u001b[38;5;124m\"\u001b[39m)  \u001b[38;5;66;03m# remove extension and separate using _\u001b[39;00m\n\u001b[1;32m      3\u001b[0m     new_location \u001b[38;5;241m=\u001b[39m new_data_folder \u001b[38;5;241m/\u001b[39m subject \u001b[38;5;241m/\u001b[39m session  \u001b[38;5;66;03m# create new path using subject and session\u001b[39;00m\n\u001b[1;32m      4\u001b[0m     new_location\u001b[38;5;241m.\u001b[39mmkdir(exist_ok\u001b[38;5;241m=\u001b[39m\u001b[38;5;28;01mTrue\u001b[39;00m, parents\u001b[38;5;241m=\u001b[39m\u001b[38;5;28;01mTrue\u001b[39;00m)  \u001b[38;5;66;03m# if necessary, create also parent folder\u001b[39;00m\n",
      "\u001b[0;31mValueError\u001b[0m: not enough values to unpack (expected 2, got 1)"
     ]
    }
   ],
   "source": [
    "for file in data_folder.glob(\"*\"):\n",
    "    subject, session = file.stem.split(\"_\")  # remove extension and separate using _\n",
    "    new_location = new_data_folder / subject / session  # create new path using subject and session\n",
    "    new_location.mkdir(exist_ok=True, parents=True)  # if necessary, create also parent folder\n",
    "    \n",
    "    file.replace(new_location / file.name)  # move the file"
   ]
  },
  {
   "cell_type": "markdown",
   "id": "326020d5",
   "metadata": {},
   "source": [
    "You can also automatically create dataframes from the filesystem structure as we go! (in the practical)"
   ]
  },
  {
   "cell_type": "markdown",
   "id": "2bf68241",
   "metadata": {
    "slideshow": {
     "slide_type": "subslide"
    }
   },
   "source": [
    "(Practical 2.1.2)"
   ]
  }
 ],
 "metadata": {
  "celltoolbar": "Slideshow",
  "kernelspec": {
   "display_name": "Python (course-env)",
   "language": "python",
   "name": "course-env"
  },
  "language_info": {
   "codemirror_mode": {
    "name": "ipython",
    "version": 3
   },
   "file_extension": ".py",
   "mimetype": "text/x-python",
   "name": "python",
   "nbconvert_exporter": "python",
   "pygments_lexer": "ipython3",
   "version": "3.11.12"
  }
 },
 "nbformat": 4,
 "nbformat_minor": 5
}
