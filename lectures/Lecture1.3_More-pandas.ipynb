{
 "cells": [
  {
   "cell_type": "markdown",
   "id": "3ca811a3",
   "metadata": {},
   "source": [
    "# Python for (open) Neuroscience\n",
    "\n",
    "_Lecture 1.3_ - More on `pandas`\n",
    "\n",
    "Luigi Petrucco\n",
    "\n",
    "[![Open In Colab](https://colab.research.google.com/assets/colab-badge.svg)](https://colab.research.google.com/github/vigji/python-cimec-2024/blob/main/lectures/Lecture1.3_More-pandas.ipynb)"
   ]
  },
  {
   "cell_type": "markdown",
   "id": "7f5d93e8",
   "metadata": {
    "slideshow": {
     "slide_type": "subslide"
    }
   },
   "source": [
    "## Announcements\n"
   ]
  },
  {
   "cell_type": "markdown",
   "id": "6334acf7",
   "metadata": {
    "slideshow": {
     "slide_type": "subslide"
    }
   },
   "source": [
    "## Summary on `pandas`"
   ]
  },
  {
   "cell_type": "code",
   "execution_count": 2,
   "id": "f5588558",
   "metadata": {},
   "outputs": [
    {
     "data": {
      "text/html": [
       "<div>\n",
       "<style scoped>\n",
       "    .dataframe tbody tr th:only-of-type {\n",
       "        vertical-align: middle;\n",
       "    }\n",
       "\n",
       "    .dataframe tbody tr th {\n",
       "        vertical-align: top;\n",
       "    }\n",
       "\n",
       "    .dataframe thead th {\n",
       "        text-align: right;\n",
       "    }\n",
       "</style>\n",
       "<table border=\"1\" class=\"dataframe\">\n",
       "  <thead>\n",
       "    <tr style=\"text-align: right;\">\n",
       "      <th></th>\n",
       "      <th>Radius</th>\n",
       "      <th>Theta</th>\n",
       "      <th>Direction</th>\n",
       "      <th>Timestamp</th>\n",
       "    </tr>\n",
       "  </thead>\n",
       "  <tbody>\n",
       "    <tr>\n",
       "      <th>0</th>\n",
       "      <td>5</td>\n",
       "      <td>3.141500</td>\n",
       "      <td>1</td>\n",
       "      <td>2023-12-17T12:23:48.2339968+01:00</td>\n",
       "    </tr>\n",
       "    <tr>\n",
       "      <th>1</th>\n",
       "      <td>4</td>\n",
       "      <td>2.094395</td>\n",
       "      <td>1</td>\n",
       "      <td>2023-12-17T12:24:09.2596608+01:00</td>\n",
       "    </tr>\n",
       "    <tr>\n",
       "      <th>2</th>\n",
       "      <td>5</td>\n",
       "      <td>3.141500</td>\n",
       "      <td>2</td>\n",
       "      <td>2023-12-17T12:24:16.2907776+01:00</td>\n",
       "    </tr>\n",
       "    <tr>\n",
       "      <th>3</th>\n",
       "      <td>5</td>\n",
       "      <td>3.769911</td>\n",
       "      <td>2</td>\n",
       "      <td>2023-12-17T12:24:29.2541696+01:00</td>\n",
       "    </tr>\n",
       "    <tr>\n",
       "      <th>4</th>\n",
       "      <td>5</td>\n",
       "      <td>3.141500</td>\n",
       "      <td>1</td>\n",
       "      <td>2023-12-17T12:24:36.2617216+01:00</td>\n",
       "    </tr>\n",
       "  </tbody>\n",
       "</table>\n",
       "</div>"
      ],
      "text/plain": [
       "   Radius     Theta  Direction                          Timestamp\n",
       "0       5  3.141500          1  2023-12-17T12:23:48.2339968+01:00\n",
       "1       4  2.094395          1  2023-12-17T12:24:09.2596608+01:00\n",
       "2       5  3.141500          2  2023-12-17T12:24:16.2907776+01:00\n",
       "3       5  3.769911          2  2023-12-17T12:24:29.2541696+01:00\n",
       "4       5  3.141500          1  2023-12-17T12:24:36.2617216+01:00"
      ]
     },
     "execution_count": 2,
     "metadata": {},
     "output_type": "execute_result"
    }
   ],
   "source": [
    "import pandas as pd\n",
    "\n",
    "URL = \"https://raw.githubusercontent.com/vigji/python-cimec-2024/main/lectures/files/stimulus_log.csv\"\n",
    "df = pd.read_csv(URL)\n",
    "\n",
    "df.head()"
   ]
  },
  {
   "cell_type": "markdown",
   "id": "89e08703",
   "metadata": {},
   "source": [
    "### Create `pd.DataFrames`"
   ]
  },
  {
   "cell_type": "markdown",
   "id": "97192672",
   "metadata": {},
   "source": [
    "Tipically, we create a dataframe from a dictionary of arrays (lists):"
   ]
  },
  {
   "cell_type": "code",
   "execution_count": null,
   "id": "3e247691",
   "metadata": {},
   "outputs": [],
   "source": [
    "dict_array = dict(int_col=[1, 2, 3], \n",
    "                  float_col=[4., 5., .6],\n",
    "                  a_constant_val=1,\n",
    "                  str_col=[\"a\", \"b\", \"c\"])\n",
    "\n",
    "pd.DataFrame(dict_array)"
   ]
  },
  {
   "cell_type": "markdown",
   "id": "3dec32a0",
   "metadata": {},
   "source": [
    " or from a list of dictionaries:"
   ]
  },
  {
   "cell_type": "code",
   "execution_count": null,
   "id": "bb180851",
   "metadata": {},
   "outputs": [],
   "source": [
    "pd.DataFrame([dict(int_col=1, float_col=4., str_col=\"a\"),\n",
    "              dict(int_col=2, float_col=5., str_col=\"b\"),\n",
    "              dict(int_col=3, float_col=.6, str_col=\"c\")])"
   ]
  },
  {
   "cell_type": "markdown",
   "id": "7347801d",
   "metadata": {},
   "source": [
    "### From `numpy` arrays\n",
    "\n",
    "We can also create a dataframe from data stored as a numpy array:"
   ]
  },
  {
   "cell_type": "code",
   "execution_count": null,
   "id": "8a06a4aa",
   "metadata": {},
   "outputs": [],
   "source": [
    "twod_array = np.random.rand(3, 3)\n",
    "twod_array"
   ]
  },
  {
   "cell_type": "code",
   "execution_count": null,
   "id": "301aed27",
   "metadata": {},
   "outputs": [],
   "source": [
    "# We just have to specify the columns names and (optionally) the indexes, if different from default:\n",
    "\n",
    "pd.DataFrame(twod_array, \n",
    "             columns=[\"a\", \"b\", \"c\"], # column names\n",
    "             index=[\"row1\", \"row2\", \"row3\"], # non numerical indexing\n",
    "            )"
   ]
  },
  {
   "cell_type": "markdown",
   "id": "71dcb889",
   "metadata": {},
   "source": [
    "### Reading from files\n",
    "\n",
    "Many (most?) times we'll be reading directly from a file (a `.csv`, a `.xlsx`...)"
   ]
  },
  {
   "cell_type": "code",
   "execution_count": null,
   "id": "e23a4d04",
   "metadata": {},
   "outputs": [],
   "source": [
    "# For .csv files, we use the read_csv method.\n",
    "# In this notebook we read from the web; if it was a file from your pc, you'd pass the filename\n",
    "# instead of the URL. read_csv takes a bunch of inputs about how your file is formatted\n",
    "\n",
    "URL = \"https://raw.githubusercontent.com/vigji/python-cimec-2024/main/lectures/files/stimulus_log.csv\"\n",
    "df = pd.read_csv(URL)\n",
    "\n",
    "df.head()  # this will show only the first rows!"
   ]
  },
  {
   "cell_type": "markdown",
   "id": "cbd706d5",
   "metadata": {},
   "source": [
    "## Increment existing dataframes"
   ]
  },
  {
   "cell_type": "markdown",
   "id": "b5f1bd86",
   "metadata": {},
   "source": [
    "### Add new columns"
   ]
  },
  {
   "cell_type": "markdown",
   "id": "5da83ccb",
   "metadata": {},
   "source": [
    "We can add new columns to a dataframe:"
   ]
  },
  {
   "cell_type": "code",
   "execution_count": null,
   "id": "dc87494c",
   "metadata": {},
   "outputs": [],
   "source": [
    "df = pd.DataFrame(np.random.rand(3, 3), columns=[\"a\", \"b\", \"c\"], index=[\"row1\", \"row2\", \"row3\"])\n",
    "df"
   ]
  },
  {
   "cell_type": "markdown",
   "id": "16ab5562",
   "metadata": {},
   "source": [
    "To add data, we can use any multi-element varable: `list`s, `array`s..."
   ]
  },
  {
   "cell_type": "code",
   "execution_count": null,
   "id": "4a598df7",
   "metadata": {},
   "outputs": [],
   "source": [
    "# The length of the assignment has to match the length of the dataframe:\n",
    "df[\"a_new_column\"] = [\"a\", \"b\", \"c\"]\n",
    "df"
   ]
  },
  {
   "cell_type": "code",
   "execution_count": null,
   "id": "9b10a691",
   "metadata": {},
   "outputs": [],
   "source": [
    "# We can also assign a single value to fill the whole column with the same content:\n",
    "df[\"new_boring_column\"] = 42\n",
    "df"
   ]
  },
  {
   "cell_type": "markdown",
   "id": "64d8b339",
   "metadata": {},
   "source": [
    "### Add new rows"
   ]
  },
  {
   "cell_type": "markdown",
   "id": "0bac46ca",
   "metadata": {},
   "source": [
    "We can add new rows to a dataframe (more rare). In this case we use concatenation:"
   ]
  },
  {
   "cell_type": "code",
   "execution_count": null,
   "id": "29ff130a",
   "metadata": {},
   "outputs": [],
   "source": [
    "df1 = pd.DataFrame(dict(col1=[99, 95, 92],\n",
    "                        col2=[95, 90, 99]))\n",
    "df1"
   ]
  },
  {
   "cell_type": "code",
   "execution_count": null,
   "id": "7103700e",
   "metadata": {},
   "outputs": [],
   "source": [
    "# Create another dataframe:\n",
    "df2 = pd.DataFrame(dict(col1=[100],\n",
    "                        col2=[101]))\n",
    "df2"
   ]
  },
  {
   "cell_type": "code",
   "execution_count": null,
   "id": "a6ebbe03",
   "metadata": {},
   "outputs": [],
   "source": [
    "#\n",
    "# Concat dataframes\n",
    "pd.concat([df1, df2])"
   ]
  },
  {
   "cell_type": "markdown",
   "id": "cc149adb",
   "metadata": {},
   "source": [
    "Note how indexes match the indexes of the original arrays! If we want, we can reassign it:"
   ]
  },
  {
   "cell_type": "code",
   "execution_count": null,
   "id": "6caa83ae",
   "metadata": {},
   "outputs": [],
   "source": [
    "pd.concat([df1, df2]).reset_index()"
   ]
  },
  {
   "cell_type": "markdown",
   "id": "1c284825",
   "metadata": {},
   "source": [
    "(Practicals 1.3.0)"
   ]
  },
  {
   "cell_type": "markdown",
   "id": "a03e27bd",
   "metadata": {
    "slideshow": {
     "slide_type": "subslide"
    }
   },
   "source": [
    "### `pd.DataFrame`'s methods"
   ]
  },
  {
   "cell_type": "markdown",
   "id": "940d3497",
   "metadata": {
    "slideshow": {
     "slide_type": "fragment"
    }
   },
   "source": [
    "`pd.DataFrame`s and `pd.Series` have many, many methods!"
   ]
  },
  {
   "cell_type": "markdown",
   "id": "fa24ca0f",
   "metadata": {
    "slideshow": {
     "slide_type": "fragment"
    }
   },
   "source": [
    "It is actually way too many to cover in a single lecture! It is more important to know that they exist, and to know how to find them! (google, stackoverflow, pandas documentation, chatGPT...)"
   ]
  },
  {
   "cell_type": "markdown",
   "id": "d122ea09",
   "metadata": {
    "jupyter": {
     "outputs_hidden": false
    },
    "slideshow": {
     "slide_type": "subslide"
    }
   },
   "source": [
    "### Methods to change the df content"
   ]
  },
  {
   "cell_type": "markdown",
   "id": "1dc8f656",
   "metadata": {},
   "source": [
    "Methods to drop rows/columns:"
   ]
  },
  {
   "cell_type": "code",
   "execution_count": 42,
   "id": "38baff29",
   "metadata": {
    "ExecuteTime": {
     "end_time": "2023-05-14T22:23:27.633433Z",
     "start_time": "2023-05-14T22:23:27.630183Z"
    },
    "jupyter": {
     "outputs_hidden": false
    }
   },
   "outputs": [
    {
     "data": {
      "text/html": [
       "<div>\n",
       "<style scoped>\n",
       "    .dataframe tbody tr th:only-of-type {\n",
       "        vertical-align: middle;\n",
       "    }\n",
       "\n",
       "    .dataframe tbody tr th {\n",
       "        vertical-align: top;\n",
       "    }\n",
       "\n",
       "    .dataframe thead th {\n",
       "        text-align: right;\n",
       "    }\n",
       "</style>\n",
       "<table border=\"1\" class=\"dataframe\">\n",
       "  <thead>\n",
       "    <tr style=\"text-align: right;\">\n",
       "      <th></th>\n",
       "      <th>int_col</th>\n",
       "      <th>float_col</th>\n",
       "      <th>str_col</th>\n",
       "    </tr>\n",
       "  </thead>\n",
       "  <tbody>\n",
       "    <tr>\n",
       "      <th>0</th>\n",
       "      <td>3</td>\n",
       "      <td>4.0</td>\n",
       "      <td>a</td>\n",
       "    </tr>\n",
       "    <tr>\n",
       "      <th>1</th>\n",
       "      <td>2</td>\n",
       "      <td>5.0</td>\n",
       "      <td>d</td>\n",
       "    </tr>\n",
       "    <tr>\n",
       "      <th>2</th>\n",
       "      <td>1</td>\n",
       "      <td>0.6</td>\n",
       "      <td>c</td>\n",
       "    </tr>\n",
       "    <tr>\n",
       "      <th>3</th>\n",
       "      <td>1</td>\n",
       "      <td>7.0</td>\n",
       "      <td>a</td>\n",
       "    </tr>\n",
       "  </tbody>\n",
       "</table>\n",
       "</div>"
      ],
      "text/plain": [
       "   int_col  float_col str_col\n",
       "0        3        4.0       a\n",
       "1        2        5.0       d\n",
       "2        1        0.6       c\n",
       "3        1        7.0       a"
      ]
     },
     "execution_count": 42,
     "metadata": {},
     "output_type": "execute_result"
    }
   ],
   "source": [
    "import pandas as pd\n",
    "\n",
    "dict_array = {\"int_col\": [3, 2, 1, 1], \n",
    "              \"float_col\": [4., 5., .6, 7.], \n",
    "              \"str_col\": [\"a\", \"d\", \"c\", \"a\"]}\n",
    "df = pd.DataFrame(dict_array)\n",
    "\n",
    "df"
   ]
  },
  {
   "cell_type": "code",
   "execution_count": 43,
   "id": "4683cb18",
   "metadata": {
    "ExecuteTime": {
     "end_time": "2023-05-14T22:23:27.862596Z",
     "start_time": "2023-05-14T22:23:27.858945Z"
    },
    "jupyter": {
     "outputs_hidden": false
    },
    "slideshow": {
     "slide_type": "subslide"
    }
   },
   "outputs": [
    {
     "data": {
      "text/html": [
       "<div>\n",
       "<style scoped>\n",
       "    .dataframe tbody tr th:only-of-type {\n",
       "        vertical-align: middle;\n",
       "    }\n",
       "\n",
       "    .dataframe tbody tr th {\n",
       "        vertical-align: top;\n",
       "    }\n",
       "\n",
       "    .dataframe thead th {\n",
       "        text-align: right;\n",
       "    }\n",
       "</style>\n",
       "<table border=\"1\" class=\"dataframe\">\n",
       "  <thead>\n",
       "    <tr style=\"text-align: right;\">\n",
       "      <th></th>\n",
       "      <th>float_col</th>\n",
       "    </tr>\n",
       "  </thead>\n",
       "  <tbody>\n",
       "    <tr>\n",
       "      <th>0</th>\n",
       "      <td>4.0</td>\n",
       "    </tr>\n",
       "    <tr>\n",
       "      <th>1</th>\n",
       "      <td>5.0</td>\n",
       "    </tr>\n",
       "    <tr>\n",
       "      <th>2</th>\n",
       "      <td>0.6</td>\n",
       "    </tr>\n",
       "    <tr>\n",
       "      <th>3</th>\n",
       "      <td>7.0</td>\n",
       "    </tr>\n",
       "  </tbody>\n",
       "</table>\n",
       "</div>"
      ],
      "text/plain": [
       "   float_col\n",
       "0        4.0\n",
       "1        5.0\n",
       "2        0.6\n",
       "3        7.0"
      ]
     },
     "execution_count": 43,
     "metadata": {},
     "output_type": "execute_result"
    }
   ],
   "source": [
    "df.drop(columns=[\"int_col\", \"str_col\"])  # drop columns"
   ]
  },
  {
   "cell_type": "code",
   "execution_count": 44,
   "id": "f65bed68",
   "metadata": {
    "ExecuteTime": {
     "end_time": "2023-05-14T22:23:28.410963Z",
     "start_time": "2023-05-14T22:23:28.407455Z"
    },
    "jupyter": {
     "outputs_hidden": false
    },
    "slideshow": {
     "slide_type": "subslide"
    }
   },
   "outputs": [
    {
     "data": {
      "text/html": [
       "<div>\n",
       "<style scoped>\n",
       "    .dataframe tbody tr th:only-of-type {\n",
       "        vertical-align: middle;\n",
       "    }\n",
       "\n",
       "    .dataframe tbody tr th {\n",
       "        vertical-align: top;\n",
       "    }\n",
       "\n",
       "    .dataframe thead th {\n",
       "        text-align: right;\n",
       "    }\n",
       "</style>\n",
       "<table border=\"1\" class=\"dataframe\">\n",
       "  <thead>\n",
       "    <tr style=\"text-align: right;\">\n",
       "      <th></th>\n",
       "      <th>int_col</th>\n",
       "      <th>float_col</th>\n",
       "      <th>str_col</th>\n",
       "    </tr>\n",
       "  </thead>\n",
       "  <tbody>\n",
       "    <tr>\n",
       "      <th>1</th>\n",
       "      <td>2</td>\n",
       "      <td>5.0</td>\n",
       "      <td>d</td>\n",
       "    </tr>\n",
       "    <tr>\n",
       "      <th>3</th>\n",
       "      <td>1</td>\n",
       "      <td>7.0</td>\n",
       "      <td>a</td>\n",
       "    </tr>\n",
       "  </tbody>\n",
       "</table>\n",
       "</div>"
      ],
      "text/plain": [
       "   int_col  float_col str_col\n",
       "1        2        5.0       d\n",
       "3        1        7.0       a"
      ]
     },
     "execution_count": 44,
     "metadata": {},
     "output_type": "execute_result"
    }
   ],
   "source": [
    "df.drop(index=[0, 2])  # drop rows"
   ]
  },
  {
   "cell_type": "markdown",
   "id": "1ea8a2d7",
   "metadata": {
    "slideshow": {
     "slide_type": "subslide"
    }
   },
   "source": [
    "Methods to sort rows/columns:"
   ]
  },
  {
   "cell_type": "code",
   "execution_count": 41,
   "id": "0ca837cc",
   "metadata": {
    "ExecuteTime": {
     "end_time": "2023-05-14T22:23:49.896491Z",
     "start_time": "2023-05-14T22:23:49.891356Z"
    },
    "jupyter": {
     "outputs_hidden": false
    }
   },
   "outputs": [
    {
     "data": {
      "text/html": [
       "<div>\n",
       "<style scoped>\n",
       "    .dataframe tbody tr th:only-of-type {\n",
       "        vertical-align: middle;\n",
       "    }\n",
       "\n",
       "    .dataframe tbody tr th {\n",
       "        vertical-align: top;\n",
       "    }\n",
       "\n",
       "    .dataframe thead th {\n",
       "        text-align: right;\n",
       "    }\n",
       "</style>\n",
       "<table border=\"1\" class=\"dataframe\">\n",
       "  <thead>\n",
       "    <tr style=\"text-align: right;\">\n",
       "      <th></th>\n",
       "      <th>int_col</th>\n",
       "      <th>float_col</th>\n",
       "      <th>str_col</th>\n",
       "    </tr>\n",
       "  </thead>\n",
       "  <tbody>\n",
       "    <tr>\n",
       "      <th>2</th>\n",
       "      <td>1</td>\n",
       "      <td>0.6</td>\n",
       "      <td>c</td>\n",
       "    </tr>\n",
       "    <tr>\n",
       "      <th>3</th>\n",
       "      <td>1</td>\n",
       "      <td>7.0</td>\n",
       "      <td>a</td>\n",
       "    </tr>\n",
       "    <tr>\n",
       "      <th>1</th>\n",
       "      <td>2</td>\n",
       "      <td>5.0</td>\n",
       "      <td>d</td>\n",
       "    </tr>\n",
       "    <tr>\n",
       "      <th>0</th>\n",
       "      <td>3</td>\n",
       "      <td>4.0</td>\n",
       "      <td>a</td>\n",
       "    </tr>\n",
       "  </tbody>\n",
       "</table>\n",
       "</div>"
      ],
      "text/plain": [
       "   int_col  float_col str_col\n",
       "2        1        0.6       c\n",
       "3        1        7.0       a\n",
       "1        2        5.0       d\n",
       "0        3        4.0       a"
      ]
     },
     "execution_count": 41,
     "metadata": {},
     "output_type": "execute_result"
    }
   ],
   "source": [
    "df.sort_values(by=\"int_col\") # sort by a column"
   ]
  },
  {
   "cell_type": "code",
   "execution_count": 45,
   "id": "bf982f9f",
   "metadata": {
    "ExecuteTime": {
     "end_time": "2023-05-14T22:23:38.158467Z",
     "start_time": "2023-05-14T22:23:38.155604Z"
    },
    "jupyter": {
     "outputs_hidden": false
    },
    "slideshow": {
     "slide_type": "subslide"
    }
   },
   "outputs": [
    {
     "data": {
      "text/html": [
       "<div>\n",
       "<style scoped>\n",
       "    .dataframe tbody tr th:only-of-type {\n",
       "        vertical-align: middle;\n",
       "    }\n",
       "\n",
       "    .dataframe tbody tr th {\n",
       "        vertical-align: top;\n",
       "    }\n",
       "\n",
       "    .dataframe thead th {\n",
       "        text-align: right;\n",
       "    }\n",
       "</style>\n",
       "<table border=\"1\" class=\"dataframe\">\n",
       "  <thead>\n",
       "    <tr style=\"text-align: right;\">\n",
       "      <th></th>\n",
       "      <th>int_col</th>\n",
       "      <th>float_col</th>\n",
       "      <th>str_col</th>\n",
       "    </tr>\n",
       "  </thead>\n",
       "  <tbody>\n",
       "    <tr>\n",
       "      <th>2</th>\n",
       "      <td>1</td>\n",
       "      <td>0.6</td>\n",
       "      <td>c</td>\n",
       "    </tr>\n",
       "    <tr>\n",
       "      <th>3</th>\n",
       "      <td>1</td>\n",
       "      <td>7.0</td>\n",
       "      <td>a</td>\n",
       "    </tr>\n",
       "    <tr>\n",
       "      <th>1</th>\n",
       "      <td>2</td>\n",
       "      <td>5.0</td>\n",
       "      <td>d</td>\n",
       "    </tr>\n",
       "    <tr>\n",
       "      <th>0</th>\n",
       "      <td>3</td>\n",
       "      <td>4.0</td>\n",
       "      <td>a</td>\n",
       "    </tr>\n",
       "  </tbody>\n",
       "</table>\n",
       "</div>"
      ],
      "text/plain": [
       "   int_col  float_col str_col\n",
       "2        1        0.6       c\n",
       "3        1        7.0       a\n",
       "1        2        5.0       d\n",
       "0        3        4.0       a"
      ]
     },
     "execution_count": 45,
     "metadata": {},
     "output_type": "execute_result"
    }
   ],
   "source": [
    "df.sort_values(by=[\"int_col\", \"float_col\"])  # sort by multiple columns"
   ]
  },
  {
   "cell_type": "markdown",
   "id": "16ae3303",
   "metadata": {
    "slideshow": {
     "slide_type": "subslide"
    }
   },
   "source": [
    "### Methods for statistics"
   ]
  },
  {
   "cell_type": "code",
   "execution_count": 46,
   "id": "d9b1673a",
   "metadata": {},
   "outputs": [
    {
     "data": {
      "text/html": [
       "<div>\n",
       "<style scoped>\n",
       "    .dataframe tbody tr th:only-of-type {\n",
       "        vertical-align: middle;\n",
       "    }\n",
       "\n",
       "    .dataframe tbody tr th {\n",
       "        vertical-align: top;\n",
       "    }\n",
       "\n",
       "    .dataframe thead th {\n",
       "        text-align: right;\n",
       "    }\n",
       "</style>\n",
       "<table border=\"1\" class=\"dataframe\">\n",
       "  <thead>\n",
       "    <tr style=\"text-align: right;\">\n",
       "      <th></th>\n",
       "      <th>time</th>\n",
       "      <th>temperature_2m (°C)</th>\n",
       "      <th>relative_humidity_2m (%)</th>\n",
       "      <th>precipitation (mm)</th>\n",
       "      <th>wind_speed_10m (km/h)</th>\n",
       "      <th>winddirection_10m (°)</th>\n",
       "    </tr>\n",
       "  </thead>\n",
       "  <tbody>\n",
       "    <tr>\n",
       "      <th>0</th>\n",
       "      <td>2024-04-01T00:00</td>\n",
       "      <td>10.2</td>\n",
       "      <td>97</td>\n",
       "      <td>0.0</td>\n",
       "      <td>4.1</td>\n",
       "      <td>38</td>\n",
       "    </tr>\n",
       "    <tr>\n",
       "      <th>1</th>\n",
       "      <td>2024-04-01T01:00</td>\n",
       "      <td>10.0</td>\n",
       "      <td>94</td>\n",
       "      <td>0.0</td>\n",
       "      <td>6.0</td>\n",
       "      <td>65</td>\n",
       "    </tr>\n",
       "    <tr>\n",
       "      <th>2</th>\n",
       "      <td>2024-04-01T02:00</td>\n",
       "      <td>9.6</td>\n",
       "      <td>95</td>\n",
       "      <td>0.0</td>\n",
       "      <td>4.0</td>\n",
       "      <td>80</td>\n",
       "    </tr>\n",
       "    <tr>\n",
       "      <th>3</th>\n",
       "      <td>2024-04-01T03:00</td>\n",
       "      <td>9.2</td>\n",
       "      <td>95</td>\n",
       "      <td>0.0</td>\n",
       "      <td>5.4</td>\n",
       "      <td>82</td>\n",
       "    </tr>\n",
       "    <tr>\n",
       "      <th>4</th>\n",
       "      <td>2024-04-01T04:00</td>\n",
       "      <td>9.4</td>\n",
       "      <td>94</td>\n",
       "      <td>0.0</td>\n",
       "      <td>7.4</td>\n",
       "      <td>67</td>\n",
       "    </tr>\n",
       "  </tbody>\n",
       "</table>\n",
       "</div>"
      ],
      "text/plain": [
       "               time  temperature_2m (°C)  relative_humidity_2m (%)  \\\n",
       "0  2024-04-01T00:00                 10.2                        97   \n",
       "1  2024-04-01T01:00                 10.0                        94   \n",
       "2  2024-04-01T02:00                  9.6                        95   \n",
       "3  2024-04-01T03:00                  9.2                        95   \n",
       "4  2024-04-01T04:00                  9.4                        94   \n",
       "\n",
       "   precipitation (mm)  wind_speed_10m (km/h)  winddirection_10m (°)  \n",
       "0                 0.0                    4.1                     38  \n",
       "1                 0.0                    6.0                     65  \n",
       "2                 0.0                    4.0                     80  \n",
       "3                 0.0                    5.4                     82  \n",
       "4                 0.0                    7.4                     67  "
      ]
     },
     "execution_count": 46,
     "metadata": {},
     "output_type": "execute_result"
    }
   ],
   "source": [
    "# get a pandas sample dataset:\n",
    "def get_meteo_dataset():\n",
    "    URL = \"https://api.open-meteo.com/v1/forecast?latitude=52.52&longitude=13.41&current=temperature_2m,wind_speed_10m&hourly=temperature_2m,relative_humidity_2m,precipitation,wind_speed_10m,winddirection_10m&start_date=2024-04-01&end_date=2024-04-20&format=csv\"\n",
    "    return pd.read_csv(URL, skiprows=5)\n",
    "\n",
    "df = get_meteo_dataset()\n",
    "df.head()"
   ]
  },
  {
   "cell_type": "code",
   "execution_count": 49,
   "id": "59a5dcc2",
   "metadata": {
    "ExecuteTime": {
     "end_time": "2023-05-14T22:28:00.182426Z",
     "start_time": "2023-05-14T22:28:00.176234Z"
    },
    "jupyter": {
     "outputs_hidden": false
    },
    "slideshow": {
     "slide_type": "subslide"
    }
   },
   "outputs": [
    {
     "data": {
      "text/plain": [
       "12.509583333333333"
      ]
     },
     "execution_count": 49,
     "metadata": {},
     "output_type": "execute_result"
    }
   ],
   "source": [
    "means = df[\"temperature_2m (°C)\"].mean()\n",
    "means"
   ]
  },
  {
   "cell_type": "code",
   "execution_count": 48,
   "id": "bacce83d",
   "metadata": {
    "ExecuteTime": {
     "end_time": "2023-05-14T22:28:00.547235Z",
     "start_time": "2023-05-14T22:28:00.539351Z"
    },
    "jupyter": {
     "outputs_hidden": false
    }
   },
   "outputs": [
    {
     "data": {
      "text/plain": [
       "12.149999999999999"
      ]
     },
     "execution_count": 48,
     "metadata": {},
     "output_type": "execute_result"
    }
   ],
   "source": [
    "df[\"temperature_2m (°C)\"].median()"
   ]
  },
  {
   "cell_type": "code",
   "execution_count": 39,
   "id": "62d4c14e",
   "metadata": {
    "ExecuteTime": {
     "end_time": "2023-05-14T22:28:01.070462Z",
     "start_time": "2023-05-14T22:28:01.064676Z"
    },
    "jupyter": {
     "outputs_hidden": false
    }
   },
   "outputs": [
    {
     "data": {
      "text/plain": [
       "5.2788813732210365"
      ]
     },
     "execution_count": 39,
     "metadata": {},
     "output_type": "execute_result"
    }
   ],
   "source": [
    "df[\"temperature_2m (°C)\"].std()"
   ]
  },
  {
   "cell_type": "markdown",
   "id": "f3cbf087",
   "metadata": {
    "slideshow": {
     "slide_type": "subslide"
    }
   },
   "source": [
    "We can directly produce a whole summary for columns of the dataset:"
   ]
  },
  {
   "cell_type": "code",
   "execution_count": 40,
   "id": "117f52b9",
   "metadata": {
    "ExecuteTime": {
     "end_time": "2023-05-14T22:28:02.512164Z",
     "start_time": "2023-05-14T22:28:02.500136Z"
    },
    "jupyter": {
     "outputs_hidden": false
    },
    "slideshow": {
     "slide_type": "-"
    }
   },
   "outputs": [
    {
     "data": {
      "text/html": [
       "<div>\n",
       "<style scoped>\n",
       "    .dataframe tbody tr th:only-of-type {\n",
       "        vertical-align: middle;\n",
       "    }\n",
       "\n",
       "    .dataframe tbody tr th {\n",
       "        vertical-align: top;\n",
       "    }\n",
       "\n",
       "    .dataframe thead th {\n",
       "        text-align: right;\n",
       "    }\n",
       "</style>\n",
       "<table border=\"1\" class=\"dataframe\">\n",
       "  <thead>\n",
       "    <tr style=\"text-align: right;\">\n",
       "      <th></th>\n",
       "      <th>temperature_2m (°C)</th>\n",
       "      <th>precipitation (mm)</th>\n",
       "      <th>wind_speed_10m (km/h)</th>\n",
       "    </tr>\n",
       "  </thead>\n",
       "  <tbody>\n",
       "    <tr>\n",
       "      <th>count</th>\n",
       "      <td>480.000000</td>\n",
       "      <td>480.000000</td>\n",
       "      <td>480.000000</td>\n",
       "    </tr>\n",
       "    <tr>\n",
       "      <th>mean</th>\n",
       "      <td>12.509583</td>\n",
       "      <td>0.067500</td>\n",
       "      <td>11.407083</td>\n",
       "    </tr>\n",
       "    <tr>\n",
       "      <th>std</th>\n",
       "      <td>5.278881</td>\n",
       "      <td>0.264902</td>\n",
       "      <td>5.056387</td>\n",
       "    </tr>\n",
       "    <tr>\n",
       "      <th>min</th>\n",
       "      <td>0.700000</td>\n",
       "      <td>0.000000</td>\n",
       "      <td>1.600000</td>\n",
       "    </tr>\n",
       "    <tr>\n",
       "      <th>25%</th>\n",
       "      <td>9.000000</td>\n",
       "      <td>0.000000</td>\n",
       "      <td>7.300000</td>\n",
       "    </tr>\n",
       "    <tr>\n",
       "      <th>50%</th>\n",
       "      <td>12.150000</td>\n",
       "      <td>0.000000</td>\n",
       "      <td>10.500000</td>\n",
       "    </tr>\n",
       "    <tr>\n",
       "      <th>75%</th>\n",
       "      <td>16.000000</td>\n",
       "      <td>0.000000</td>\n",
       "      <td>14.900000</td>\n",
       "    </tr>\n",
       "    <tr>\n",
       "      <th>max</th>\n",
       "      <td>26.800000</td>\n",
       "      <td>2.100000</td>\n",
       "      <td>25.600000</td>\n",
       "    </tr>\n",
       "  </tbody>\n",
       "</table>\n",
       "</div>"
      ],
      "text/plain": [
       "       temperature_2m (°C)  precipitation (mm)  wind_speed_10m (km/h)\n",
       "count           480.000000          480.000000             480.000000\n",
       "mean             12.509583            0.067500              11.407083\n",
       "std               5.278881            0.264902               5.056387\n",
       "min               0.700000            0.000000               1.600000\n",
       "25%               9.000000            0.000000               7.300000\n",
       "50%              12.150000            0.000000              10.500000\n",
       "75%              16.000000            0.000000              14.900000\n",
       "max              26.800000            2.100000              25.600000"
      ]
     },
     "execution_count": 40,
     "metadata": {},
     "output_type": "execute_result"
    }
   ],
   "source": [
    "df[[\"temperature_2m (°C)\", \"precipitation (mm)\", \"wind_speed_10m (km/h)\"]].describe()"
   ]
  },
  {
   "cell_type": "markdown",
   "id": "08ee8cb7",
   "metadata": {
    "slideshow": {
     "slide_type": "subslide"
    }
   },
   "source": [
    "### `pd.DataFrame`'s plotting methods"
   ]
  },
  {
   "cell_type": "markdown",
   "id": "d785ebb4",
   "metadata": {},
   "source": [
    "`pd.DataFrame`s and `pd.Series` have several plotting methods!"
   ]
  },
  {
   "cell_type": "code",
   "execution_count": 41,
   "id": "103ecc2c",
   "metadata": {
    "ExecuteTime": {
     "end_time": "2023-05-14T22:28:12.801832Z",
     "start_time": "2023-05-14T22:28:08.104582Z"
    },
    "jupyter": {
     "outputs_hidden": false
    },
    "slideshow": {
     "slide_type": "subslide"
    }
   },
   "outputs": [
    {
     "data": {
      "text/plain": [
       "<Axes: >"
      ]
     },
     "execution_count": 41,
     "metadata": {},
     "output_type": "execute_result"
    },
    {
     "data": {
      "image/png": "[encoded data removed]",
      "text/plain": [
       "<Figure size 640x480 with 1 Axes>"
      ]
     },
     "metadata": {},
     "output_type": "display_data"
    }
   ],
   "source": [
    "df[\"temperature_2m (°C)\"].plot()"
   ]
  },
  {
   "cell_type": "code",
   "execution_count": 42,
   "id": "c0fca7f2",
   "metadata": {
    "ExecuteTime": {
     "end_time": "2023-05-14T22:29:16.679871Z",
     "start_time": "2023-05-14T22:29:16.624756Z"
    },
    "jupyter": {
     "outputs_hidden": false
    },
    "slideshow": {
     "slide_type": "subslide"
    }
   },
   "outputs": [
    {
     "data": {
      "text/plain": [
       "<Axes: >"
      ]
     },
     "execution_count": 42,
     "metadata": {},
     "output_type": "execute_result"
    },
    {
     "data": {
      "image/png": "[encoded data removed]",
      "text/plain": [
       "<Figure size 640x480 with 1 Axes>"
      ]
     },
     "metadata": {},
     "output_type": "display_data"
    }
   ],
   "source": [
    "df[\"temperature_2m (°C)\"].plot(kind=\"box\")"
   ]
  },
  {
   "cell_type": "code",
   "execution_count": 43,
   "id": "267b9512",
   "metadata": {
    "ExecuteTime": {
     "end_time": "2023-05-14T22:29:24.482579Z",
     "start_time": "2023-05-14T22:29:24.397528Z"
    },
    "jupyter": {
     "outputs_hidden": false
    },
    "slideshow": {
     "slide_type": "subslide"
    }
   },
   "outputs": [
    {
     "data": {
      "text/plain": [
       "<Axes: ylabel='Frequency'>"
      ]
     },
     "execution_count": 43,
     "metadata": {},
     "output_type": "execute_result"
    },
    {
     "data": {
      "image/png": "[encoded data removed]",
      "text/plain": [
       "<Figure size 640x480 with 1 Axes>"
      ]
     },
     "metadata": {},
     "output_type": "display_data"
    }
   ],
   "source": [
    "df[\"temperature_2m (°C)\"].plot(kind=\"hist\")"
   ]
  },
  {
   "cell_type": "code",
   "execution_count": 44,
   "id": "2e88fee5",
   "metadata": {
    "ExecuteTime": {
     "end_time": "2023-05-14T22:29:51.353652Z",
     "start_time": "2023-05-14T22:29:51.264424Z"
    },
    "jupyter": {
     "outputs_hidden": false
    },
    "slideshow": {
     "slide_type": "subslide"
    }
   },
   "outputs": [
    {
     "data": {
      "text/plain": [
       "<Axes: xlabel='temperature_2m (°C)', ylabel='precipitation (mm)'>"
      ]
     },
     "execution_count": 44,
     "metadata": {},
     "output_type": "execute_result"
    },
    {
     "data": {
      "image/png": "[encoded data removed]",
      "text/plain": [
       "<Figure size 640x480 with 1 Axes>"
      ]
     },
     "metadata": {},
     "output_type": "display_data"
    }
   ],
   "source": [
    "df.plot(kind=\"scatter\", x=\"temperature_2m (°C)\", y=\"precipitation (mm)\")"
   ]
  },
  {
   "cell_type": "markdown",
   "id": "21b96d82",
   "metadata": {
    "slideshow": {
     "slide_type": "subslide"
    }
   },
   "source": [
    "### Methods to deal with missing data"
   ]
  },
  {
   "cell_type": "markdown",
   "id": "cfdcdc48",
   "metadata": {},
   "source": [
    "As in numpy, we represent missing data by `NaN` (not a number)."
   ]
  },
  {
   "cell_type": "code",
   "execution_count": 51,
   "id": "a4a0565a",
   "metadata": {
    "jupyter": {
     "outputs_hidden": false
    },
    "slideshow": {
     "slide_type": "-"
    }
   },
   "outputs": [
    {
     "data": {
      "text/html": [
       "<div>\n",
       "<style scoped>\n",
       "    .dataframe tbody tr th:only-of-type {\n",
       "        vertical-align: middle;\n",
       "    }\n",
       "\n",
       "    .dataframe tbody tr th {\n",
       "        vertical-align: top;\n",
       "    }\n",
       "\n",
       "    .dataframe thead th {\n",
       "        text-align: right;\n",
       "    }\n",
       "</style>\n",
       "<table border=\"1\" class=\"dataframe\">\n",
       "  <thead>\n",
       "    <tr style=\"text-align: right;\">\n",
       "      <th></th>\n",
       "      <th>column_a</th>\n",
       "      <th>column_b</th>\n",
       "    </tr>\n",
       "  </thead>\n",
       "  <tbody>\n",
       "    <tr>\n",
       "      <th>0</th>\n",
       "      <td>0.0</td>\n",
       "      <td>7.0</td>\n",
       "    </tr>\n",
       "    <tr>\n",
       "      <th>1</th>\n",
       "      <td>3.0</td>\n",
       "      <td>6.0</td>\n",
       "    </tr>\n",
       "    <tr>\n",
       "      <th>2</th>\n",
       "      <td>1.0</td>\n",
       "      <td>NaN</td>\n",
       "    </tr>\n",
       "    <tr>\n",
       "      <th>3</th>\n",
       "      <td>2.0</td>\n",
       "      <td>4.0</td>\n",
       "    </tr>\n",
       "    <tr>\n",
       "      <th>4</th>\n",
       "      <td>NaN</td>\n",
       "      <td>5.0</td>\n",
       "    </tr>\n",
       "    <tr>\n",
       "      <th>5</th>\n",
       "      <td>4.0</td>\n",
       "      <td>7.0</td>\n",
       "    </tr>\n",
       "    <tr>\n",
       "      <th>6</th>\n",
       "      <td>10.0</td>\n",
       "      <td>8.0</td>\n",
       "    </tr>\n",
       "  </tbody>\n",
       "</table>\n",
       "</div>"
      ],
      "text/plain": [
       "   column_a  column_b\n",
       "0       0.0       7.0\n",
       "1       3.0       6.0\n",
       "2       1.0       NaN\n",
       "3       2.0       4.0\n",
       "4       NaN       5.0\n",
       "5       4.0       7.0\n",
       "6      10.0       8.0"
      ]
     },
     "execution_count": 51,
     "metadata": {},
     "output_type": "execute_result"
    }
   ],
   "source": [
    "import numpy as np\n",
    "\n",
    "df = pd.DataFrame({\"column_a\": [0, 3, 1, 2, np.nan, 4, 10], \n",
    "                   \"column_b\": [7, 6, np.nan, 4, 5, 7, 8]})\n",
    "df"
   ]
  },
  {
   "cell_type": "markdown",
   "id": "f26af9b8",
   "metadata": {
    "slideshow": {
     "slide_type": "subslide"
    }
   },
   "source": [
    "To deal with missing data, we can use `pd.DataFrame`'s interpolation methods. By default, it will use linear interpolation:"
   ]
  },
  {
   "cell_type": "code",
   "execution_count": 52,
   "id": "51eb2891",
   "metadata": {},
   "outputs": [
    {
     "data": {
      "text/plain": [
       "<Axes: >"
      ]
     },
     "execution_count": 52,
     "metadata": {},
     "output_type": "execute_result"
    },
    {
     "data": {
      "image/png": "[encoded data removed]",
      "text/plain": [
       "<Figure size 640x480 with 1 Axes>"
      ]
     },
     "metadata": {},
     "output_type": "display_data"
    }
   ],
   "source": [
    "df.plot()"
   ]
  },
  {
   "cell_type": "code",
   "execution_count": 53,
   "id": "0de76b8c",
   "metadata": {
    "slideshow": {
     "slide_type": "subslide"
    }
   },
   "outputs": [],
   "source": [
    "?df.interpolate"
   ]
  },
  {
   "cell_type": "code",
   "execution_count": 54,
   "id": "38dabaff",
   "metadata": {
    "slideshow": {
     "slide_type": "subslide"
    }
   },
   "outputs": [
    {
     "data": {
      "text/plain": [
       "<Axes: >"
      ]
     },
     "execution_count": 54,
     "metadata": {},
     "output_type": "execute_result"
    },
    {
     "data": {
      "image/png": "[encoded data removed]",
      "text/plain": [
       "<Figure size 640x480 with 1 Axes>"
      ]
     },
     "metadata": {},
     "output_type": "display_data"
    }
   ],
   "source": [
    "df.interpolate().plot()"
   ]
  },
  {
   "cell_type": "markdown",
   "id": "a505b429",
   "metadata": {},
   "source": [
    "### Methods for doing operations on columns\n",
    "\n",
    "Several, but particulary useful one is `isin()`:"
   ]
  },
  {
   "cell_type": "code",
   "execution_count": 3,
   "id": "b4bd1885",
   "metadata": {},
   "outputs": [
    {
     "name": "stdout",
     "output_type": "stream",
     "text": [
      "\n",
      "Rows where int_col is in [1,2]:\n",
      "   int_col str_col\n",
      "0        1       a\n",
      "1        2       b\n",
      "3        1       d\n"
     ]
    }
   ],
   "source": [
    "# Example of isin() function\n",
    "df = pd.DataFrame({\n",
    "    \"int_col\": [1, 2, 3, 1],\n",
    "    \"str_col\": [\"a\", \"b\", \"c\", \"d\"]\n",
    "})\n",
    "\n",
    "# Check which rows have int_col values in [1, 2]\n",
    "mask = df[\"int_col\"].isin([1, 2])  # or on strings: df[\"str_col\"].isin([\"a\", \"d\"])\n",
    "print(\"\\nRows where int_col is in [1,2]:\")\n",
    "print(df[mask])"
   ]
  },
  {
   "cell_type": "markdown",
   "id": "f84e488c",
   "metadata": {},
   "source": [
    "Another useful function is `between()` - it checks if values are within a range\n"
   ]
  },
  {
   "cell_type": "code",
   "execution_count": 4,
   "id": "d7139067",
   "metadata": {},
   "outputs": [
    {
     "name": "stdout",
     "output_type": "stream",
     "text": [
      "\n",
      "Rows where float_col is between 4 and 6:\n",
      "   int_col  float_col str_col\n",
      "0        1        4.0       a\n",
      "1        2        5.0       d\n"
     ]
    }
   ],
   "source": [
    "df = pd.DataFrame({\n",
    "    \"int_col\": [1, 2, 3, 1],\n",
    "    \"float_col\": [4.0, 5.0, 0.6, 7.0],\n",
    "    \"str_col\": [\"a\", \"d\", \"c\", \"a\"]\n",
    "})\n",
    "\n",
    "# Check which rows have float_col values between 4 and 6\n",
    "mask = df[\"float_col\"].between(4, 6)  # inclusive by default\n",
    "print(\"\\nRows where float_col is between 4 and 6:\")\n",
    "print(df[mask])\n"
   ]
  },
  {
   "cell_type": "markdown",
   "id": "c386035b",
   "metadata": {},
   "source": [
    "### Additional Useful Pandas Methods\n",
    "\n",
    "Here are some additional useful pandas methods that weren't covered in the lecture:\n",
    "\n",
    "#### Data Cleaning and Transformation\n",
    "- `df.replace()`: Replace values in DataFrame\n",
    "- `df.duplicated()`: Find duplicate rows\n",
    "- `df.drop_duplicates()`: Remove duplicate rows\n",
    "\n",
    "#### Advanced Indexing and Selection\n",
    "- `df.query()`: Filter using a query expression\n",
    "- `df.where()`: Replace values where condition is False\n",
    "- `df.mask()`: Replace values where condition is True\n",
    "- `df.nlargest()` and `df.nsmallest()`: Get n largest/smallest values\n",
    "\n",
    "#### Time Series Operations\n",
    "- `df.resample()`: Resample time series data\n",
    "- `df.rolling()`: Rolling window calculations\n",
    "- `df.diff()`: Calculate difference between consecutive elements\n",
    "\n",
    "#### Data Aggregation and Grouping\n",
    "- `df.agg()`: Aggregate using multiple operations\n",
    "- `df.transform()`: Transform data using a function\n",
    "- `df.pivot_table()`: Create a pivot table\n",
    "- `df.crosstab()`: Compute a cross-tabulation\n",
    "- `df.melt()`: Unpivot DataFrame from wide to long format\n",
    "\n",
    "#### String Operations\n",
    "- `df.str.contains()`: Test if pattern is contained in string\n",
    "- `df.str.extract()`: Extract capture groups\n",
    "- `df.str.split()`: Split strings on delimiter\n",
    "- `df.str.cat()`: Concatenate strings\n",
    "- `df.str.replace()`: Replace occurrences of pattern\n",
    "\n",
    "#### Memory and Performance\n",
    "- `df.memory_usage()`: Get memory usage of columns\n",
    "- `df.convert_dtypes()`: Convert columns to best possible dtypes\n",
    "- `df.astype()`: Cast to specified dtype\n",
    "- `df.select_dtypes()`: Select columns based on dtype\n",
    "\n",
    "#### Advanced Operations\n",
    "- `df.applymap()`: Apply function element-wise\n",
    "- `df.update()`: Update values in place\n",
    "- `df.merge()`: Merge DataFrames (more flexible than join)"
   ]
  },
  {
   "cell_type": "markdown",
   "id": "77fd47a8",
   "metadata": {
    "slideshow": {
     "slide_type": "slide"
    }
   },
   "source": [
    "(Practicals 1.3.1)"
   ]
  },
  {
   "cell_type": "markdown",
   "id": "fa262222",
   "metadata": {
    "slideshow": {
     "slide_type": "subslide"
    }
   },
   "source": [
    "## Organize data in a dataframe"
   ]
  },
  {
   "cell_type": "markdown",
   "id": "4f26b7d1",
   "metadata": {},
   "source": [
    "A very common scenario in data science is: how to organize our datasets?"
   ]
  },
  {
   "cell_type": "code",
   "execution_count": 16,
   "id": "81ab5c2b",
   "metadata": {
    "slideshow": {
     "slide_type": "subslide"
    }
   },
   "outputs": [
    {
     "data": {
      "text/plain": [
       "[{'accuracy': 0.8470531246048197, 'speed': 0.7909328530201921},\n",
       " {'accuracy': 0.8681903662097734, 'speed': 0.12141483750195237},\n",
       " {'accuracy': 0.6360187633292621, 'speed': 0.6860962357237326}]"
      ]
     },
     "execution_count": 16,
     "metadata": {},
     "output_type": "execute_result"
    }
   ],
   "source": [
    "# Imagine we have 4 experimental subjects; to each one we show a stimulus 3 times (trials); \n",
    "# during every trial, we measure 2 variables (eg, accuracy and speed)\n",
    "n_subjects = 4\n",
    "n_repetitions = 3\n",
    "\n",
    "# We could represent the data entries for each stimulus as a dictionary, \n",
    "# and the data for all trials for a subject as a list of dictionaries:\n",
    "subject_data = [{\"accuracy\":np.random.rand(), \"speed\":np.random.rand()} for _ in range(n_repetitions)]\n",
    "subject_data"
   ]
  },
  {
   "cell_type": "code",
   "execution_count": 17,
   "id": "3318286d",
   "metadata": {
    "slideshow": {
     "slide_type": "subslide"
    }
   },
   "outputs": [
    {
     "data": {
      "text/plain": [
       "{'subj_0': [{'accuracy': 0.8334701509639685, 'speed': 0.8335255203582217},\n",
       "  {'accuracy': 0.22047986263511044, 'speed': 0.5003517240150298},\n",
       "  {'accuracy': 0.5422543681679196, 'speed': 0.68844436706355}],\n",
       " 'subj_1': [{'accuracy': 0.6892195685317982, 'speed': 0.4409711961446108},\n",
       "  {'accuracy': 0.2472501352394637, 'speed': 0.4513066252583344},\n",
       "  {'accuracy': 0.7288542100955676, 'speed': 0.9351710588119406}],\n",
       " 'subj_2': [{'accuracy': 0.2705196067775386, 'speed': 0.431741185792221},\n",
       "  {'accuracy': 0.3013894600385709, 'speed': 0.29999425019948844},\n",
       "  {'accuracy': 0.6566833099142121, 'speed': 0.612239227775612}],\n",
       " 'subj_3': [{'accuracy': 0.4606952901711916, 'speed': 0.47340287928353475},\n",
       "  {'accuracy': 0.011102375862298008, 'speed': 0.3068648187021741},\n",
       "  {'accuracy': 0.17649808041893766, 'speed': 0.4032187032055008}]}"
      ]
     },
     "execution_count": 17,
     "metadata": {},
     "output_type": "execute_result"
    }
   ],
   "source": [
    "# We could then pool the data for all subjects as a dictionary of lists of dictionaries:\n",
    "all_subjects_data = dict()\n",
    "\n",
    "for i in range(n_subjects):\n",
    "    all_subjects_data[f\"subj_{i}\"] = \\\n",
    "        [{\"accuracy\":np.random.rand(), \"speed\":np.random.rand()} for _ in range(n_repetitions)]\n",
    "all_subjects_data"
   ]
  },
  {
   "cell_type": "markdown",
   "id": "dc9b504f",
   "metadata": {
    "slideshow": {
     "slide_type": "subslide"
    }
   },
   "source": [
    "This is now organized but very nested! it is not easy to perform statistics on it."
   ]
  },
  {
   "cell_type": "code",
   "execution_count": 18,
   "id": "00cf09dd",
   "metadata": {},
   "outputs": [
    {
     "data": {
      "text/plain": [
       "0.5314359630508515"
      ]
     },
     "execution_count": 18,
     "metadata": {},
     "output_type": "execute_result"
    }
   ],
   "source": [
    "# Imagine we want to average the results across all subjects for variable_1:\n",
    "means = []\n",
    "for subject_results in all_subjects_data.values():\n",
    "    for result in subject_results:\n",
    "        means.append(result[\"speed\"])\n",
    "np.mean(means)"
   ]
  },
  {
   "cell_type": "markdown",
   "id": "124af170",
   "metadata": {
    "slideshow": {
     "slide_type": "subslide"
    }
   },
   "source": [
    "When we organize data in pandas dataframes, there is an important principle to keep in mind:\n",
    "\n",
    "**keep them as flat as possible**"
   ]
  },
  {
   "cell_type": "markdown",
   "id": "d4264009",
   "metadata": {},
   "source": [
    "`flat` = opposite of nested\n",
    "\n",
    "`nested` = lists of dictionaries of lists of dictionaries of dataframes of...\n",
    "\n"
   ]
  },
  {
   "cell_type": "markdown",
   "id": "461f77b8",
   "metadata": {
    "slideshow": {
     "slide_type": "subslide"
    }
   },
   "source": [
    "Remember!\n",
    "\n",
    "\n",
    "    🪷 The Zen of Python 🪷\n",
    "        \n",
    "        Flat is better than nested"
   ]
  },
  {
   "cell_type": "code",
   "execution_count": 21,
   "id": "8b8c2c8c",
   "metadata": {
    "slideshow": {
     "slide_type": "subslide"
    }
   },
   "outputs": [
    {
     "data": {
      "text/html": [
       "<div>\n",
       "<style scoped>\n",
       "    .dataframe tbody tr th:only-of-type {\n",
       "        vertical-align: middle;\n",
       "    }\n",
       "\n",
       "    .dataframe tbody tr th {\n",
       "        vertical-align: top;\n",
       "    }\n",
       "\n",
       "    .dataframe thead th {\n",
       "        text-align: right;\n",
       "    }\n",
       "</style>\n",
       "<table border=\"1\" class=\"dataframe\">\n",
       "  <thead>\n",
       "    <tr style=\"text-align: right;\">\n",
       "      <th></th>\n",
       "      <th>accuracy</th>\n",
       "      <th>speed</th>\n",
       "      <th>subject</th>\n",
       "      <th>repetition</th>\n",
       "    </tr>\n",
       "  </thead>\n",
       "  <tbody>\n",
       "    <tr>\n",
       "      <th>0</th>\n",
       "      <td>0.833470</td>\n",
       "      <td>0.833526</td>\n",
       "      <td>subj_0</td>\n",
       "      <td>0</td>\n",
       "    </tr>\n",
       "    <tr>\n",
       "      <th>1</th>\n",
       "      <td>0.220480</td>\n",
       "      <td>0.500352</td>\n",
       "      <td>subj_0</td>\n",
       "      <td>1</td>\n",
       "    </tr>\n",
       "    <tr>\n",
       "      <th>2</th>\n",
       "      <td>0.542254</td>\n",
       "      <td>0.688444</td>\n",
       "      <td>subj_0</td>\n",
       "      <td>2</td>\n",
       "    </tr>\n",
       "    <tr>\n",
       "      <th>3</th>\n",
       "      <td>0.689220</td>\n",
       "      <td>0.440971</td>\n",
       "      <td>subj_1</td>\n",
       "      <td>0</td>\n",
       "    </tr>\n",
       "    <tr>\n",
       "      <th>4</th>\n",
       "      <td>0.247250</td>\n",
       "      <td>0.451307</td>\n",
       "      <td>subj_1</td>\n",
       "      <td>1</td>\n",
       "    </tr>\n",
       "    <tr>\n",
       "      <th>5</th>\n",
       "      <td>0.728854</td>\n",
       "      <td>0.935171</td>\n",
       "      <td>subj_1</td>\n",
       "      <td>2</td>\n",
       "    </tr>\n",
       "    <tr>\n",
       "      <th>6</th>\n",
       "      <td>0.270520</td>\n",
       "      <td>0.431741</td>\n",
       "      <td>subj_2</td>\n",
       "      <td>0</td>\n",
       "    </tr>\n",
       "    <tr>\n",
       "      <th>7</th>\n",
       "      <td>0.301389</td>\n",
       "      <td>0.299994</td>\n",
       "      <td>subj_2</td>\n",
       "      <td>1</td>\n",
       "    </tr>\n",
       "    <tr>\n",
       "      <th>8</th>\n",
       "      <td>0.656683</td>\n",
       "      <td>0.612239</td>\n",
       "      <td>subj_2</td>\n",
       "      <td>2</td>\n",
       "    </tr>\n",
       "    <tr>\n",
       "      <th>9</th>\n",
       "      <td>0.460695</td>\n",
       "      <td>0.473403</td>\n",
       "      <td>subj_3</td>\n",
       "      <td>0</td>\n",
       "    </tr>\n",
       "    <tr>\n",
       "      <th>10</th>\n",
       "      <td>0.011102</td>\n",
       "      <td>0.306865</td>\n",
       "      <td>subj_3</td>\n",
       "      <td>1</td>\n",
       "    </tr>\n",
       "    <tr>\n",
       "      <th>11</th>\n",
       "      <td>0.176498</td>\n",
       "      <td>0.403219</td>\n",
       "      <td>subj_3</td>\n",
       "      <td>2</td>\n",
       "    </tr>\n",
       "  </tbody>\n",
       "</table>\n",
       "</div>"
      ],
      "text/plain": [
       "    accuracy     speed subject  repetition\n",
       "0   0.833470  0.833526  subj_0           0\n",
       "1   0.220480  0.500352  subj_0           1\n",
       "2   0.542254  0.688444  subj_0           2\n",
       "3   0.689220  0.440971  subj_1           0\n",
       "4   0.247250  0.451307  subj_1           1\n",
       "5   0.728854  0.935171  subj_1           2\n",
       "6   0.270520  0.431741  subj_2           0\n",
       "7   0.301389  0.299994  subj_2           1\n",
       "8   0.656683  0.612239  subj_2           2\n",
       "9   0.460695  0.473403  subj_3           0\n",
       "10  0.011102  0.306865  subj_3           1\n",
       "11  0.176498  0.403219  subj_3           2"
      ]
     },
     "execution_count": 21,
     "metadata": {},
     "output_type": "execute_result"
    }
   ],
   "source": [
    "# We can turn the data into a dataframe (does not matter how we do it here! this is just an ugly example)\n",
    "flat_list_of_dicts = []\n",
    "\n",
    "for sub in all_subjects_data.keys():\n",
    "    for n_rep in range(n_repetitions):\n",
    "        trial_dict = all_subjects_data[sub][n_rep]\n",
    "        trial_dict.update({\"subject\": sub, \"repetition\": n_rep})\n",
    "        \n",
    "        flat_list_of_dicts.append(trial_dict)\n",
    "                    \n",
    "trials_df = pd.DataFrame(flat_list_of_dicts)\n",
    "trials_df\n"
   ]
  },
  {
   "cell_type": "markdown",
   "id": "a849e7aa",
   "metadata": {
    "slideshow": {
     "slide_type": "subslide"
    }
   },
   "source": [
    "We can now easily perform statistics on the data:"
   ]
  },
  {
   "cell_type": "code",
   "execution_count": 74,
   "id": "d61f1080",
   "metadata": {},
   "outputs": [
    {
     "data": {
      "text/plain": [
       "0.5109582589857121"
      ]
     },
     "execution_count": 74,
     "metadata": {},
     "output_type": "execute_result"
    }
   ],
   "source": [
    "trials_df[\"speed\"].mean()"
   ]
  },
  {
   "cell_type": "markdown",
   "id": "31210503",
   "metadata": {
    "slideshow": {
     "slide_type": "subslide"
    }
   },
   "source": [
    "### Principles for organizing `pandas` dataframes"
   ]
  },
  {
   "cell_type": "markdown",
   "id": "8bed0db5",
   "metadata": {},
   "source": [
    "Keep in the same dataset all the data of the same type you have across groups (such as subjects). \n",
    "\n",
    "If you load lists of dataframes concatenate before working on them!"
   ]
  },
  {
   "cell_type": "markdown",
   "id": "032ee21d",
   "metadata": {
    "slideshow": {
     "slide_type": "subslide"
    }
   },
   "source": [
    "Consider having multiple dataframes to describe different aspects of your experiment. For example:\n",
    "- a `subject_dataframe` with the info on your subjects\n",
    "- a `trials_dataframe` with the trial responses across subjects"
   ]
  },
  {
   "cell_type": "markdown",
   "id": "eac1ad3d",
   "metadata": {},
   "source": [
    "And keep consistent ids / nomenclature to easily work over both!"
   ]
  },
  {
   "cell_type": "markdown",
   "id": "29cd3855",
   "metadata": {
    "slideshow": {
     "slide_type": "subslide"
    }
   },
   "source": [
    "Example:"
   ]
  },
  {
   "cell_type": "code",
   "execution_count": 25,
   "id": "ff51dbab",
   "metadata": {},
   "outputs": [
    {
     "data": {
      "text/html": [
       "<div>\n",
       "<style scoped>\n",
       "    .dataframe tbody tr th:only-of-type {\n",
       "        vertical-align: middle;\n",
       "    }\n",
       "\n",
       "    .dataframe tbody tr th {\n",
       "        vertical-align: top;\n",
       "    }\n",
       "\n",
       "    .dataframe thead th {\n",
       "        text-align: right;\n",
       "    }\n",
       "</style>\n",
       "<table border=\"1\" class=\"dataframe\">\n",
       "  <thead>\n",
       "    <tr style=\"text-align: right;\">\n",
       "      <th></th>\n",
       "      <th>sex</th>\n",
       "      <th>handedness</th>\n",
       "      <th>age</th>\n",
       "    </tr>\n",
       "  </thead>\n",
       "  <tbody>\n",
       "    <tr>\n",
       "      <th>subj_0</th>\n",
       "      <td>F</td>\n",
       "      <td>left</td>\n",
       "      <td>26</td>\n",
       "    </tr>\n",
       "    <tr>\n",
       "      <th>subj_1</th>\n",
       "      <td>M</td>\n",
       "      <td>right</td>\n",
       "      <td>38</td>\n",
       "    </tr>\n",
       "    <tr>\n",
       "      <th>subj_2</th>\n",
       "      <td>F</td>\n",
       "      <td>left</td>\n",
       "      <td>30</td>\n",
       "    </tr>\n",
       "    <tr>\n",
       "      <th>subj_3</th>\n",
       "      <td>F</td>\n",
       "      <td>left</td>\n",
       "      <td>30</td>\n",
       "    </tr>\n",
       "  </tbody>\n",
       "</table>\n",
       "</div>"
      ],
      "text/plain": [
       "       sex handedness  age\n",
       "subj_0   F       left   26\n",
       "subj_1   M      right   38\n",
       "subj_2   F       left   30\n",
       "subj_3   F       left   30"
      ]
     },
     "execution_count": 25,
     "metadata": {},
     "output_type": "execute_result"
    }
   ],
   "source": [
    "# Let's build a subjects dataframe for the experiment above:\n",
    "np.random.seed(42)\n",
    "subjects_df = pd.DataFrame({\"sex\":np.random.choice([\"F\", \"M\"], size=n_subjects),\n",
    "                            \"handedness\": np.random.choice([\"left\", \"right\"], size=n_subjects),\n",
    "                            \"age\": np.random.randint(20, 40, size=n_subjects)})\n",
    "subjects_df.index = [f\"subj_{i}\" for i in range(n_subjects)]\n",
    "subjects_df"
   ]
  },
  {
   "cell_type": "markdown",
   "id": "0c7f6ca9",
   "metadata": {
    "slideshow": {
     "slide_type": "subslide"
    }
   },
   "source": [
    "We can now easily filter the subjects we want to work on based on categories:"
   ]
  },
  {
   "cell_type": "code",
   "execution_count": 26,
   "id": "7c1b7ea7",
   "metadata": {
    "slideshow": {
     "slide_type": "-"
    }
   },
   "outputs": [
    {
     "data": {
      "text/html": [
       "<div>\n",
       "<style scoped>\n",
       "    .dataframe tbody tr th:only-of-type {\n",
       "        vertical-align: middle;\n",
       "    }\n",
       "\n",
       "    .dataframe tbody tr th {\n",
       "        vertical-align: top;\n",
       "    }\n",
       "\n",
       "    .dataframe thead th {\n",
       "        text-align: right;\n",
       "    }\n",
       "</style>\n",
       "<table border=\"1\" class=\"dataframe\">\n",
       "  <thead>\n",
       "    <tr style=\"text-align: right;\">\n",
       "      <th></th>\n",
       "      <th>sex</th>\n",
       "      <th>handedness</th>\n",
       "      <th>age</th>\n",
       "    </tr>\n",
       "  </thead>\n",
       "  <tbody>\n",
       "    <tr>\n",
       "      <th>subj_2</th>\n",
       "      <td>F</td>\n",
       "      <td>left</td>\n",
       "      <td>30</td>\n",
       "    </tr>\n",
       "    <tr>\n",
       "      <th>subj_3</th>\n",
       "      <td>F</td>\n",
       "      <td>left</td>\n",
       "      <td>30</td>\n",
       "    </tr>\n",
       "  </tbody>\n",
       "</table>\n",
       "</div>"
      ],
      "text/plain": [
       "       sex handedness  age\n",
       "subj_2   F       left   30\n",
       "subj_3   F       left   30"
      ]
     },
     "execution_count": 26,
     "metadata": {},
     "output_type": "execute_result"
    }
   ],
   "source": [
    "selected_subjects_df = subjects_df[(subjects_df[\"sex\"] == \"F\") & (subjects_df[\"age\"] >=30)]\n",
    "selected_subjects_df"
   ]
  },
  {
   "cell_type": "code",
   "execution_count": 27,
   "id": "d156076a",
   "metadata": {},
   "outputs": [
    {
     "data": {
      "text/plain": [
       "Index(['subj_2', 'subj_3'], dtype='object')"
      ]
     },
     "execution_count": 27,
     "metadata": {},
     "output_type": "execute_result"
    }
   ],
   "source": [
    "selected_subjects_df.index"
   ]
  },
  {
   "cell_type": "markdown",
   "id": "c95f9aa4",
   "metadata": {
    "slideshow": {
     "slide_type": "subslide"
    }
   },
   "source": [
    "And restrain our analysis of the `trials_df` to these subjects :"
   ]
  },
  {
   "cell_type": "code",
   "execution_count": 34,
   "id": "abc65939",
   "metadata": {},
   "outputs": [
    {
     "data": {
      "text/plain": [
       "0     False\n",
       "1     False\n",
       "2     False\n",
       "3     False\n",
       "4     False\n",
       "5     False\n",
       "6      True\n",
       "7      True\n",
       "8      True\n",
       "9      True\n",
       "10     True\n",
       "11     True\n",
       "Name: subject, dtype: bool"
      ]
     },
     "execution_count": 34,
     "metadata": {},
     "output_type": "execute_result"
    }
   ],
   "source": [
    "# Here, we'll use another handy pandas method: `isin()`:\n",
    "\n",
    "selection = trials_df[\"subject\"].isin(selected_subjects_df.index)\n",
    "selection\n"
   ]
  },
  {
   "cell_type": "code",
   "execution_count": 37,
   "id": "43dc9881",
   "metadata": {},
   "outputs": [
    {
     "data": {
      "text/plain": [
       "0.4212435108264218"
      ]
     },
     "execution_count": 37,
     "metadata": {},
     "output_type": "execute_result"
    }
   ],
   "source": [
    "trials_df.loc[selection, \"speed\"].mean()"
   ]
  },
  {
   "cell_type": "markdown",
   "id": "ddfec30d",
   "metadata": {
    "slideshow": {
     "slide_type": "subslide"
    }
   },
   "source": [
    "## When not to use `pandas`\n",
    "\n",
    "You do not always need pandas dataframes! E.g., it is not efficient with many columns.\n",
    "\n",
    "Many times your raw data (ephys, imaging...) can live in numpy array and you work in `pandas` only with  derived quantities."
   ]
  },
  {
   "cell_type": "markdown",
   "id": "47d6dc11",
   "metadata": {},
   "source": [
    "(Practicals 1.3.2)"
   ]
  }
 ],
 "metadata": {
  "celltoolbar": "Slideshow",
  "kernelspec": {
   "display_name": "course-env",
   "language": "python",
   "name": "python3"
  },
  "language_info": {
   "codemirror_mode": {
    "name": "ipython",
    "version": 3
   },
   "file_extension": ".py",
   "mimetype": "text/x-python",
   "name": "python",
   "nbconvert_exporter": "python",
   "pygments_lexer": "ipython3",
   "version": "3.10.13"
  }
 },
 "nbformat": 4,
 "nbformat_minor": 5
}
