{
 "cells": [
  {
   "cell_type": "markdown",
   "id": "3ca811a3",
   "metadata": {},
   "source": [
    "# Python for (open) Neuroscience\n",
    "\n",
    "_Lecture 1.3_ - More on `pandas`\n",
    "\n",
    "Luigi Petrucco\n",
    "\n",
    "[![Open In Colab](https://colab.research.google.com/assets/colab-badge.svg)](https://colab.research.google.com/github/vigji/python-cimec-2025/blob/main/lectures/Lecture1.3_More-pandas.ipynb)"
   ]
  },
  {
   "cell_type": "code",
   "execution_count": null,
   "id": "3988284b",
   "metadata": {},
   "outputs": [],
   "source": []
  },
  {
   "cell_type": "markdown",
   "id": "4483486c",
   "metadata": {
    "slideshow": {
     "slide_type": "subslide"
    }
   },
   "source": [
    "## Overview\n",
    " - summary on `pandas` dataframes\n",
    " - creating and using dataframes\n",
    " - data organization principles"
   ]
  },
  {
   "cell_type": "markdown",
   "id": "6334acf7",
   "metadata": {
    "slideshow": {
     "slide_type": "subslide"
    }
   },
   "source": [
    "## Summary on `pandas`"
   ]
  },
  {
   "cell_type": "code",
   "execution_count": 1,
   "id": "f5588558",
   "metadata": {},
   "outputs": [
    {
     "data": {
      "text/html": [
       "<div>\n",
       "<style scoped>\n",
       "    .dataframe tbody tr th:only-of-type {\n",
       "        vertical-align: middle;\n",
       "    }\n",
       "\n",
       "    .dataframe tbody tr th {\n",
       "        vertical-align: top;\n",
       "    }\n",
       "\n",
       "    .dataframe thead th {\n",
       "        text-align: right;\n",
       "    }\n",
       "</style>\n",
       "<table border=\"1\" class=\"dataframe\">\n",
       "  <thead>\n",
       "    <tr style=\"text-align: right;\">\n",
       "      <th></th>\n",
       "      <th>Radius</th>\n",
       "      <th>Theta</th>\n",
       "      <th>Direction</th>\n",
       "      <th>Timestamp</th>\n",
       "    </tr>\n",
       "  </thead>\n",
       "  <tbody>\n",
       "    <tr>\n",
       "      <th>0</th>\n",
       "      <td>5</td>\n",
       "      <td>3.141500</td>\n",
       "      <td>1</td>\n",
       "      <td>2023-12-17T12:23:48.2339968+01:00</td>\n",
       "    </tr>\n",
       "    <tr>\n",
       "      <th>1</th>\n",
       "      <td>4</td>\n",
       "      <td>2.094395</td>\n",
       "      <td>1</td>\n",
       "      <td>2023-12-17T12:24:09.2596608+01:00</td>\n",
       "    </tr>\n",
       "    <tr>\n",
       "      <th>2</th>\n",
       "      <td>5</td>\n",
       "      <td>3.141500</td>\n",
       "      <td>2</td>\n",
       "      <td>2023-12-17T12:24:16.2907776+01:00</td>\n",
       "    </tr>\n",
       "    <tr>\n",
       "      <th>3</th>\n",
       "      <td>5</td>\n",
       "      <td>3.769911</td>\n",
       "      <td>2</td>\n",
       "      <td>2023-12-17T12:24:29.2541696+01:00</td>\n",
       "    </tr>\n",
       "    <tr>\n",
       "      <th>4</th>\n",
       "      <td>5</td>\n",
       "      <td>3.141500</td>\n",
       "      <td>1</td>\n",
       "      <td>2023-12-17T12:24:36.2617216+01:00</td>\n",
       "    </tr>\n",
       "  </tbody>\n",
       "</table>\n",
       "</div>"
      ],
      "text/plain": [
       "   Radius     Theta  Direction                          Timestamp\n",
       "0       5  3.141500          1  2023-12-17T12:23:48.2339968+01:00\n",
       "1       4  2.094395          1  2023-12-17T12:24:09.2596608+01:00\n",
       "2       5  3.141500          2  2023-12-17T12:24:16.2907776+01:00\n",
       "3       5  3.769911          2  2023-12-17T12:24:29.2541696+01:00\n",
       "4       5  3.141500          1  2023-12-17T12:24:36.2617216+01:00"
      ]
     },
     "execution_count": 1,
     "metadata": {},
     "output_type": "execute_result"
    }
   ],
   "source": [
    "import pandas as pd\n",
    "import numpy as np\n",
    "\n",
    "URL = \"https://raw.githubusercontent.com/vigji/python-cimec-2024/main/lectures/files/stimulus_log.csv\"\n",
    "df = pd.read_csv(URL)\n",
    "\n",
    "df.head()"
   ]
  },
  {
   "cell_type": "markdown",
   "id": "89e08703",
   "metadata": {
    "slideshow": {
     "slide_type": "subslide"
    }
   },
   "source": [
    "### Create `pd.DataFrames`"
   ]
  },
  {
   "cell_type": "markdown",
   "id": "97192672",
   "metadata": {},
   "source": [
    "Tipically, we create a dataframe from a dictionary of arrays (lists):"
   ]
  },
  {
   "cell_type": "code",
   "execution_count": null,
   "id": "3e247691",
   "metadata": {},
   "outputs": [],
   "source": [
    "dict_array = dict(int_col=[1, 2, 3], \n",
    "                  float_col=[4., 5., .6],\n",
    "                  a_constant_val=1,\n",
    "                  str_col=[\"a\", \"b\", \"c\"])\n",
    "\n",
    "pd.DataFrame(dict_array)"
   ]
  },
  {
   "cell_type": "markdown",
   "id": "3dec32a0",
   "metadata": {
    "slideshow": {
     "slide_type": "subslide"
    }
   },
   "source": [
    " or from a list of dictionaries:"
   ]
  },
  {
   "cell_type": "code",
   "execution_count": null,
   "id": "bb180851",
   "metadata": {},
   "outputs": [],
   "source": [
    "pd.DataFrame([dict(int_col=1, float_col=4., str_col=\"a\"),\n",
    "              dict(int_col=2, float_col=5., str_col=\"b\"),\n",
    "              dict(int_col=3, float_col=.6, str_col=\"c\")])"
   ]
  },
  {
   "cell_type": "markdown",
   "id": "7347801d",
   "metadata": {
    "slideshow": {
     "slide_type": "subslide"
    }
   },
   "source": [
    "### From `numpy` arrays\n",
    "\n",
    "We can also create a dataframe from data stored as a numpy array:"
   ]
  },
  {
   "cell_type": "code",
   "execution_count": null,
   "id": "8a06a4aa",
   "metadata": {
    "slideshow": {
     "slide_type": "subslide"
    }
   },
   "outputs": [],
   "source": [
    "twod_array = np.random.rand(4, 3)\n",
    "twod_array"
   ]
  },
  {
   "cell_type": "code",
   "execution_count": null,
   "id": "301aed27",
   "metadata": {
    "slideshow": {
     "slide_type": "-"
    }
   },
   "outputs": [],
   "source": [
    "# We just have to specify the columns names and (optionally) the indexes, if different from default:\n",
    "pd.DataFrame(twod_array, \n",
    "             columns=[\"a\", \"b\", \"c\"], # column names\n",
    "             #index=[\"row1\", \"row2\", \"row3\", \"row4\"], # non numerical indexing\n",
    "            )"
   ]
  },
  {
   "cell_type": "markdown",
   "id": "71dcb889",
   "metadata": {
    "slideshow": {
     "slide_type": "subslide"
    }
   },
   "source": [
    "### Reading from files\n",
    "\n",
    "Many (most?) times we'll be reading directly from a file (a `.csv`, a `.xlsx`...)"
   ]
  },
  {
   "cell_type": "code",
   "execution_count": null,
   "id": "e23a4d04",
   "metadata": {
    "slideshow": {
     "slide_type": "subslide"
    }
   },
   "outputs": [],
   "source": [
    "# For .csv files, we use the read_csv method.\n",
    "# In this notebook we read from the web; if it was a file from your pc, you'd pass the filename\n",
    "# instead of the URL. read_csv takes a bunch of inputs about how your file is formatted\n",
    "\n",
    "URL = \"https://raw.githubusercontent.com/vigji/python-cimec-2024/main/lectures/files/stimulus_log.csv\"\n",
    "df = pd.read_csv(URL)\n",
    "\n",
    "df.head()  # this will show only the first rows!"
   ]
  },
  {
   "cell_type": "markdown",
   "id": "cbd706d5",
   "metadata": {
    "slideshow": {
     "slide_type": "subslide"
    }
   },
   "source": [
    "## Increment existing dataframes"
   ]
  },
  {
   "cell_type": "markdown",
   "id": "b5f1bd86",
   "metadata": {
    "slideshow": {
     "slide_type": "subslide"
    }
   },
   "source": [
    "### Add new columns"
   ]
  },
  {
   "cell_type": "markdown",
   "id": "5da83ccb",
   "metadata": {},
   "source": [
    "We can add new columns to a dataframe:"
   ]
  },
  {
   "cell_type": "code",
   "execution_count": null,
   "id": "dc87494c",
   "metadata": {},
   "outputs": [],
   "source": [
    "df = pd.DataFrame(np.random.rand(3, 3), columns=[\"a\", \"b\", \"c\"], index=[\"row1\", \"row2\", \"row3\"])\n",
    "df"
   ]
  },
  {
   "cell_type": "markdown",
   "id": "16ab5562",
   "metadata": {
    "slideshow": {
     "slide_type": "subslide"
    }
   },
   "source": [
    "To add data, we can use any multi-element varable: `list`s, `array`s..."
   ]
  },
  {
   "cell_type": "code",
   "execution_count": null,
   "id": "4a598df7",
   "metadata": {},
   "outputs": [],
   "source": [
    "# The length of the assignment has to match the length of the dataframe:\n",
    "df[\"a_new_column\"] = [\"A\", \"A\", \"B\"]\n",
    "df"
   ]
  },
  {
   "cell_type": "code",
   "execution_count": null,
   "id": "9b10a691",
   "metadata": {
    "slideshow": {
     "slide_type": "subslide"
    }
   },
   "outputs": [],
   "source": [
    "# We can also assign a single value to fill the whole column with the same content:\n",
    "df[\"new_boring_column\"] = 42\n",
    "df"
   ]
  },
  {
   "cell_type": "markdown",
   "id": "64d8b339",
   "metadata": {
    "slideshow": {
     "slide_type": "subslide"
    }
   },
   "source": [
    "### Add new rows"
   ]
  },
  {
   "cell_type": "markdown",
   "id": "0bac46ca",
   "metadata": {},
   "source": [
    "We can add new rows to a dataframe (more rare). In this case we use concatenation:"
   ]
  },
  {
   "cell_type": "code",
   "execution_count": null,
   "id": "29ff130a",
   "metadata": {},
   "outputs": [],
   "source": [
    "df1 = pd.DataFrame(dict(col1=[99, 95, 92], col2=[95, 90, 99]))\n",
    "df2 = pd.DataFrame(dict(col1=[100], col2=[101]))\n",
    "print(df1)\n",
    "print(\"========\")\n",
    "print(df2)"
   ]
  },
  {
   "cell_type": "code",
   "execution_count": null,
   "id": "a6ebbe03",
   "metadata": {
    "slideshow": {
     "slide_type": "subslide"
    }
   },
   "outputs": [],
   "source": [
    "# Concat dataframes\n",
    "pd.concat([df1, df2])"
   ]
  },
  {
   "cell_type": "markdown",
   "id": "cc149adb",
   "metadata": {},
   "source": [
    "Note how indexes match the indexes of the original arrays! If we want, we can reassign it:"
   ]
  },
  {
   "cell_type": "code",
   "execution_count": null,
   "id": "6caa83ae",
   "metadata": {
    "slideshow": {
     "slide_type": "subslide"
    }
   },
   "outputs": [],
   "source": [
    "pd.concat([df1, df2]).reset_index(drop=True)"
   ]
  },
  {
   "cell_type": "markdown",
   "id": "fb968cfd",
   "metadata": {
    "slideshow": {
     "slide_type": "subslide"
    }
   },
   "source": [
    "## `pandas` handles missing values\n",
    "\n",
    "One convenient feature of dataframes is that we can concatenate mismatching dataframes (with different columns) and pandas fill missing values using `NaN`s"
   ]
  },
  {
   "cell_type": "code",
   "execution_count": null,
   "id": "662e5b63",
   "metadata": {},
   "outputs": [],
   "source": [
    "df1 = pd.DataFrame(dict(col1=[99, 95, 92], col2=[95, 90, 99]))\n",
    "df2 = pd.DataFrame(dict(col1=[100], different_col=[101]))\n",
    "# print(df1)\n",
    "# print(\"========\")\n",
    "# print(df2)"
   ]
  },
  {
   "cell_type": "code",
   "execution_count": null,
   "id": "1117d2e3",
   "metadata": {},
   "outputs": [],
   "source": [
    "pd.concat([df1, df2])"
   ]
  },
  {
   "cell_type": "markdown",
   "id": "1c284825",
   "metadata": {
    "slideshow": {
     "slide_type": "subslide"
    }
   },
   "source": [
    "(Practicals 1.3.0)"
   ]
  },
  {
   "cell_type": "markdown",
   "id": "a03e27bd",
   "metadata": {
    "slideshow": {
     "slide_type": "subslide"
    }
   },
   "source": [
    "### `pd.DataFrame`'s methods"
   ]
  },
  {
   "cell_type": "markdown",
   "id": "940d3497",
   "metadata": {
    "slideshow": {
     "slide_type": "fragment"
    }
   },
   "source": [
    "`pd.DataFrame`s and `pd.Series` have many, many methods!"
   ]
  },
  {
   "cell_type": "markdown",
   "id": "fa24ca0f",
   "metadata": {
    "slideshow": {
     "slide_type": "fragment"
    }
   },
   "source": [
    "It is actually way too many to cover in a single lecture! It is more important to know that they exist, and to know how to find them! (google, stackoverflow, pandas documentation, chatGPT...)"
   ]
  },
  {
   "cell_type": "markdown",
   "id": "d122ea09",
   "metadata": {
    "jupyter": {
     "outputs_hidden": false
    },
    "slideshow": {
     "slide_type": "subslide"
    }
   },
   "source": [
    "### Methods to change the df content"
   ]
  },
  {
   "cell_type": "markdown",
   "id": "1dc8f656",
   "metadata": {},
   "source": [
    "Methods to drop rows/columns:"
   ]
  },
  {
   "cell_type": "code",
   "execution_count": null,
   "id": "38baff29",
   "metadata": {
    "ExecuteTime": {
     "end_time": "2023-05-14T22:23:27.633433Z",
     "start_time": "2023-05-14T22:23:27.630183Z"
    },
    "jupyter": {
     "outputs_hidden": false
    }
   },
   "outputs": [],
   "source": [
    "import pandas as pd\n",
    "\n",
    "dict_array = {\"int_col\": [3, 2, 1, 1], \n",
    "              \"float_col\": [4., 5., .6, 7.], \n",
    "              \"str_col\": [\"a\", \"d\", \"c\", \"a\"]}\n",
    "df = pd.DataFrame(dict_array)\n",
    "\n",
    "df"
   ]
  },
  {
   "cell_type": "code",
   "execution_count": null,
   "id": "4683cb18",
   "metadata": {
    "ExecuteTime": {
     "end_time": "2023-05-14T22:23:27.862596Z",
     "start_time": "2023-05-14T22:23:27.858945Z"
    },
    "jupyter": {
     "outputs_hidden": false
    },
    "slideshow": {
     "slide_type": "subslide"
    }
   },
   "outputs": [],
   "source": [
    "df#.drop(columns=[\"int_col\", \"str_col\"], inplace=True)  # drop columns"
   ]
  },
  {
   "cell_type": "code",
   "execution_count": null,
   "id": "f65bed68",
   "metadata": {
    "ExecuteTime": {
     "end_time": "2023-05-14T22:23:28.410963Z",
     "start_time": "2023-05-14T22:23:28.407455Z"
    },
    "jupyter": {
     "outputs_hidden": false
    },
    "slideshow": {
     "slide_type": "subslide"
    }
   },
   "outputs": [],
   "source": [
    "df.drop(index=[0, 2])  # drop rows"
   ]
  },
  {
   "cell_type": "markdown",
   "id": "1ea8a2d7",
   "metadata": {
    "slideshow": {
     "slide_type": "subslide"
    }
   },
   "source": [
    "Methods to sort rows/columns:"
   ]
  },
  {
   "cell_type": "code",
   "execution_count": null,
   "id": "0ca837cc",
   "metadata": {
    "ExecuteTime": {
     "end_time": "2023-05-14T22:23:49.896491Z",
     "start_time": "2023-05-14T22:23:49.891356Z"
    },
    "jupyter": {
     "outputs_hidden": false
    }
   },
   "outputs": [],
   "source": [
    "df.sort_values(by=\"str_col\") # sort by a column"
   ]
  },
  {
   "cell_type": "code",
   "execution_count": null,
   "id": "bf982f9f",
   "metadata": {
    "ExecuteTime": {
     "end_time": "2023-05-14T22:23:38.158467Z",
     "start_time": "2023-05-14T22:23:38.155604Z"
    },
    "jupyter": {
     "outputs_hidden": false
    },
    "slideshow": {
     "slide_type": "subslide"
    }
   },
   "outputs": [],
   "source": [
    "df.sort_values(by=[\"int_col\", \"float_col\"])  # sort by multiple columns"
   ]
  },
  {
   "cell_type": "markdown",
   "id": "16ae3303",
   "metadata": {
    "slideshow": {
     "slide_type": "subslide"
    }
   },
   "source": [
    "### Methods for statistics"
   ]
  },
  {
   "cell_type": "code",
   "execution_count": null,
   "id": "d9b1673a",
   "metadata": {},
   "outputs": [],
   "source": [
    "# get a pandas sample dataset:\n",
    "def get_meteo_dataset():\n",
    "    URL = \"https://api.open-meteo.com/v1/forecast?latitude=52.52&longitude=13.41&current=temperature_2m,wind_speed_10m&hourly=temperature_2m,relative_humidity_2m,precipitation,wind_speed_10m,winddirection_10m&start_date=2025-04-01&end_date=2025-04-20&format=csv\"\n",
    "    return pd.read_csv(URL, skiprows=5)\n",
    "\n",
    "df = get_meteo_dataset()\n",
    "df.head()"
   ]
  },
  {
   "cell_type": "code",
   "execution_count": null,
   "id": "59a5dcc2",
   "metadata": {
    "ExecuteTime": {
     "end_time": "2023-05-14T22:28:00.182426Z",
     "start_time": "2023-05-14T22:28:00.176234Z"
    },
    "jupyter": {
     "outputs_hidden": false
    },
    "slideshow": {
     "slide_type": "subslide"
    }
   },
   "outputs": [],
   "source": [
    "means = df[\"temperature_2m (°C)\"].mean()\n",
    "means"
   ]
  },
  {
   "cell_type": "code",
   "execution_count": null,
   "id": "bacce83d",
   "metadata": {
    "ExecuteTime": {
     "end_time": "2023-05-14T22:28:00.547235Z",
     "start_time": "2023-05-14T22:28:00.539351Z"
    },
    "jupyter": {
     "outputs_hidden": false
    }
   },
   "outputs": [],
   "source": [
    "df[\"temperature_2m (°C)\"].median()"
   ]
  },
  {
   "cell_type": "code",
   "execution_count": null,
   "id": "62d4c14e",
   "metadata": {
    "ExecuteTime": {
     "end_time": "2023-05-14T22:28:01.070462Z",
     "start_time": "2023-05-14T22:28:01.064676Z"
    },
    "jupyter": {
     "outputs_hidden": false
    }
   },
   "outputs": [],
   "source": [
    "df[\"temperature_2m (°C)\"].std()"
   ]
  },
  {
   "cell_type": "markdown",
   "id": "f3cbf087",
   "metadata": {
    "slideshow": {
     "slide_type": "subslide"
    }
   },
   "source": [
    "We can directly produce a whole summary for columns of the dataset:"
   ]
  },
  {
   "cell_type": "code",
   "execution_count": null,
   "id": "117f52b9",
   "metadata": {
    "ExecuteTime": {
     "end_time": "2023-05-14T22:28:02.512164Z",
     "start_time": "2023-05-14T22:28:02.500136Z"
    },
    "jupyter": {
     "outputs_hidden": false
    },
    "slideshow": {
     "slide_type": "-"
    }
   },
   "outputs": [],
   "source": [
    "df[[\"temperature_2m (°C)\", \"precipitation (mm)\", \"wind_speed_10m (km/h)\"]].describe()"
   ]
  },
  {
   "cell_type": "markdown",
   "id": "08ee8cb7",
   "metadata": {
    "slideshow": {
     "slide_type": "subslide"
    }
   },
   "source": [
    "### `pd.DataFrame`'s plotting methods"
   ]
  },
  {
   "cell_type": "markdown",
   "id": "d785ebb4",
   "metadata": {},
   "source": [
    "`pd.DataFrame`s and `pd.Series` have several plotting methods!"
   ]
  },
  {
   "cell_type": "code",
   "execution_count": null,
   "id": "103ecc2c",
   "metadata": {
    "ExecuteTime": {
     "end_time": "2023-05-14T22:28:12.801832Z",
     "start_time": "2023-05-14T22:28:08.104582Z"
    },
    "jupyter": {
     "outputs_hidden": false
    },
    "slideshow": {
     "slide_type": "subslide"
    }
   },
   "outputs": [],
   "source": [
    "df[\"temperature_2m (°C)\"].plot()"
   ]
  },
  {
   "cell_type": "code",
   "execution_count": null,
   "id": "c0fca7f2",
   "metadata": {
    "ExecuteTime": {
     "end_time": "2023-05-14T22:29:16.679871Z",
     "start_time": "2023-05-14T22:29:16.624756Z"
    },
    "jupyter": {
     "outputs_hidden": false
    },
    "slideshow": {
     "slide_type": "subslide"
    }
   },
   "outputs": [],
   "source": [
    "df[\"temperature_2m (°C)\"].plot(kind=\"box\")"
   ]
  },
  {
   "cell_type": "code",
   "execution_count": null,
   "id": "267b9512",
   "metadata": {
    "ExecuteTime": {
     "end_time": "2023-05-14T22:29:24.482579Z",
     "start_time": "2023-05-14T22:29:24.397528Z"
    },
    "jupyter": {
     "outputs_hidden": false
    },
    "slideshow": {
     "slide_type": "subslide"
    }
   },
   "outputs": [],
   "source": [
    "df[\"temperature_2m (°C)\"].plot(kind=\"hist\")"
   ]
  },
  {
   "cell_type": "code",
   "execution_count": null,
   "id": "2e88fee5",
   "metadata": {
    "ExecuteTime": {
     "end_time": "2023-05-14T22:29:51.353652Z",
     "start_time": "2023-05-14T22:29:51.264424Z"
    },
    "jupyter": {
     "outputs_hidden": false
    },
    "slideshow": {
     "slide_type": "subslide"
    }
   },
   "outputs": [],
   "source": [
    "df.plot(kind=\"scatter\", x=\"temperature_2m (°C)\", y=\"precipitation (mm)\")"
   ]
  },
  {
   "cell_type": "markdown",
   "id": "21b96d82",
   "metadata": {
    "slideshow": {
     "slide_type": "subslide"
    }
   },
   "source": [
    "### Methods to deal with missing data"
   ]
  },
  {
   "cell_type": "markdown",
   "id": "cfdcdc48",
   "metadata": {},
   "source": [
    "As in numpy, we represent missing data by `NaN` (not a number)."
   ]
  },
  {
   "cell_type": "code",
   "execution_count": null,
   "id": "a4a0565a",
   "metadata": {
    "jupyter": {
     "outputs_hidden": false
    },
    "slideshow": {
     "slide_type": "-"
    }
   },
   "outputs": [],
   "source": [
    "df = pd.DataFrame({\"column_a\": [0, 3, 1, 2, np.nan, 4, 10], \n",
    "                   \"column_b\": [7, 6, np.nan, 4, 5, 7, 8]})\n",
    "df"
   ]
  },
  {
   "cell_type": "markdown",
   "id": "52cefcee",
   "metadata": {
    "slideshow": {
     "slide_type": "subslide"
    }
   },
   "source": [
    "We can easily find out where the `NaN` values are using the `isna()` method:"
   ]
  },
  {
   "cell_type": "code",
   "execution_count": null,
   "id": "069c4f25",
   "metadata": {},
   "outputs": [],
   "source": [
    "df.isna()"
   ]
  },
  {
   "cell_type": "markdown",
   "id": "f26af9b8",
   "metadata": {
    "slideshow": {
     "slide_type": "subslide"
    }
   },
   "source": [
    "To deal with missing data, we can use `pd.DataFrame`'s interpolation methods. By default, it will use linear interpolation:"
   ]
  },
  {
   "cell_type": "code",
   "execution_count": null,
   "id": "51eb2891",
   "metadata": {},
   "outputs": [],
   "source": [
    "df.plot()"
   ]
  },
  {
   "cell_type": "code",
   "execution_count": null,
   "id": "0de76b8c",
   "metadata": {
    "slideshow": {
     "slide_type": "subslide"
    }
   },
   "outputs": [],
   "source": [
    "?df.interpolate"
   ]
  },
  {
   "cell_type": "code",
   "execution_count": null,
   "id": "38dabaff",
   "metadata": {
    "slideshow": {
     "slide_type": "subslide"
    }
   },
   "outputs": [],
   "source": [
    "df.interpolate().plot()"
   ]
  },
  {
   "cell_type": "markdown",
   "id": "a505b429",
   "metadata": {
    "slideshow": {
     "slide_type": "subslide"
    }
   },
   "source": [
    "### Methods for doing operations on columns\n",
    "\n",
    "Several, but particulary useful one is `isin()`:"
   ]
  },
  {
   "cell_type": "code",
   "execution_count": null,
   "id": "ba71c9f6",
   "metadata": {},
   "outputs": [],
   "source": [
    "df = pd.DataFrame({\"int_col\": [1, 2, 3], \"str_col\": [\"a\", \"b\", \"c\"]})\n",
    "df"
   ]
  },
  {
   "cell_type": "code",
   "execution_count": null,
   "id": "5c6bfa71",
   "metadata": {},
   "outputs": [],
   "source": [
    "df"
   ]
  },
  {
   "cell_type": "code",
   "execution_count": null,
   "id": "b4bd1885",
   "metadata": {
    "slideshow": {
     "slide_type": "subslide"
    }
   },
   "outputs": [],
   "source": [
    "# Check which rows have int_col values in [1, 2]\n",
    "mask = df[\"int_col\"].isin([1, 3])  # or on strings: df[\"str_col\"].isin([\"a\", \"d\"])\n",
    "print(mask)\n",
    "print(\"=======\")\n",
    "print(df[mask])"
   ]
  },
  {
   "cell_type": "markdown",
   "id": "f84e488c",
   "metadata": {
    "slideshow": {
     "slide_type": "subslide"
    }
   },
   "source": [
    "Another useful function is `between()` - it checks if values are within a range\n"
   ]
  },
  {
   "cell_type": "code",
   "execution_count": null,
   "id": "d7139067",
   "metadata": {},
   "outputs": [],
   "source": [
    "df = pd.DataFrame({\n",
    "    \"int_col\": [1, 2, 3, 1],\n",
    "    \"float_col\": [4.0, 5.0, 0.6, 7.0],\n",
    "    \"str_col\": [\"a\", \"d\", \"c\", \"a\"]\n",
    "})\n",
    "\n",
    "# Check which rows have float_col values between 4 and 6\n",
    "mask = df[\"float_col\"].between(4, 6)  # inclusive by default\n",
    "print(\"\\nRows where float_col is between 4 and 6:\")\n",
    "print(df[mask])\n"
   ]
  },
  {
   "cell_type": "markdown",
   "id": "c386035b",
   "metadata": {
    "slideshow": {
     "slide_type": "subslide"
    }
   },
   "source": [
    "### Additional Useful Pandas Methods\n",
    "\n",
    "Here are some additional useful pandas methods that weren't covered in the lecture:\n",
    "\n",
    "#### Data Cleaning and Transformation\n",
    "- `df.replace()`: Replace values in DataFrame\n",
    "- `df.duplicated()`: Find duplicate rows\n",
    "- `df.drop_duplicates()`: Remove duplicate rows\n",
    "\n",
    "#### Advanced Indexing and Selection\n",
    "- `df.query()`: Filter using a query expression\n",
    "- `df.where()`: Replace values where condition is False\n",
    "- `df.mask()`: Replace values where condition is True\n",
    "- `df.nlargest()` and `df.nsmallest()`: Get n largest/smallest values\n",
    "\n",
    "#### Time Series Operations\n",
    "- `df.resample()`: Resample time series data\n",
    "- `df.rolling()`: Rolling window calculations\n",
    "- `df.diff()`: Calculate difference between consecutive elements\n",
    "\n",
    "#### Data Aggregation and Grouping\n",
    "- `df.agg()`: Aggregate using multiple operations\n",
    "- `df.transform()`: Transform data using a function\n",
    "- `df.pivot_table()`: Create a pivot table\n",
    "- `df.crosstab()`: Compute a cross-tabulation\n",
    "- `df.melt()`: Unpivot DataFrame from wide to long format\n",
    "\n",
    "#### String Operations\n",
    "- `df.str.contains()`: Test if pattern is contained in string\n",
    "- `df.str.extract()`: Extract capture groups\n",
    "- `df.str.split()`: Split strings on delimiter\n",
    "- `df.str.cat()`: Concatenate strings\n",
    "- `df.str.replace()`: Replace occurrences of pattern\n",
    "\n",
    "#### Memory and Performance\n",
    "- `df.memory_usage()`: Get memory usage of columns\n",
    "- `df.convert_dtypes()`: Convert columns to best possible dtypes\n",
    "- `df.astype()`: Cast to specified dtype\n",
    "- `df.select_dtypes()`: Select columns based on dtype\n",
    "\n",
    "#### Advanced Operations\n",
    "- `df.applymap()`: Apply function element-wise\n",
    "- `df.update()`: Update values in place\n",
    "- `df.merge()`: Merge DataFrames (more flexible than join)"
   ]
  },
  {
   "cell_type": "markdown",
   "id": "77fd47a8",
   "metadata": {
    "slideshow": {
     "slide_type": "slide"
    }
   },
   "source": [
    "(Practicals 1.3.1)"
   ]
  }
 ],
 "metadata": {
  "celltoolbar": "Slideshow",
  "kernelspec": {
   "display_name": "course-env",
   "language": "python",
   "name": "python3"
  },
  "language_info": {
   "codemirror_mode": {
    "name": "ipython",
    "version": 3
   },
   "file_extension": ".py",
   "mimetype": "text/x-python",
   "name": "python",
   "nbconvert_exporter": "python",
   "pygments_lexer": "ipython3",
   "version": "3.10.13"
  }
 },
 "nbformat": 4,
 "nbformat_minor": 5
}
