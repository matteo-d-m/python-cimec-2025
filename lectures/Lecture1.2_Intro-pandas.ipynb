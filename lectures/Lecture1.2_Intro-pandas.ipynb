{
 "cells": [
  {
   "cell_type": "markdown",
   "id": "3ca811a3",
   "metadata": {
    "slideshow": {
     "slide_type": "slide"
    }
   },
   "source": [
    "# Python for (open) Neuroscience\n",
    "\n",
    "_Lecture 1.2_ - Intro to `pandas`\n",
    "\n",
    "Luigi Petrucco\n",
    "\n",
    "\n",
    "[![Open In Colab](https://colab.research.google.com/assets/colab-badge.svg)](https://colab.research.google.com/github/vigji/python-cimec-2025/blob/main/lectures/Lecture1.2_Intro-pandas.ipynb)"
   ]
  },
  {
   "cell_type": "markdown",
   "id": "1a362b2f",
   "metadata": {
    "slideshow": {
     "slide_type": "subslide"
    }
   },
   "source": [
    "## Outline\n",
    "\n",
    " - some last bits of `numpy`\n",
    " - introducing `pandas`"
   ]
  },
  {
   "cell_type": "markdown",
   "id": "c08576ea",
   "metadata": {},
   "source": [
    "## Search indexes"
   ]
  },
  {
   "cell_type": "markdown",
   "id": "4b575331",
   "metadata": {},
   "source": [
    "Some functions find indexes of the elements of an array that match some criterion."
   ]
  },
  {
   "cell_type": "markdown",
   "id": "65462254",
   "metadata": {},
   "source": [
    "### `np.argmin()` / `np.argmax()` "
   ]
  },
  {
   "cell_type": "markdown",
   "id": "7bf63eda",
   "metadata": {},
   "source": [
    "Find the position of the maximum or the minimum of an array"
   ]
  },
  {
   "cell_type": "code",
   "execution_count": null,
   "id": "615254e5",
   "metadata": {},
   "outputs": [],
   "source": [
    "arr = np.array([5,  0, 2, 9, 6,])\n",
    "\n",
    "np.argmin(arr)  # give index of smallest element"
   ]
  },
  {
   "cell_type": "code",
   "execution_count": null,
   "id": "71d56223",
   "metadata": {},
   "outputs": [],
   "source": [
    "np.argmax(arr)  # give index of biggest element"
   ]
  },
  {
   "cell_type": "markdown",
   "id": "82d60000",
   "metadata": {},
   "source": [
    "### `np.nonzero()` / `np.argwhere()`"
   ]
  },
  {
   "cell_type": "markdown",
   "id": "38879f63",
   "metadata": {},
   "source": [
    "There are functions that allow us to get the index of all True elements in an array. In this way, we can set a condition (_e.g._, values above a threshold), and find the index of all elements satisfying it!"
   ]
  },
  {
   "cell_type": "markdown",
   "id": "9ebf057f",
   "metadata": {},
   "source": [
    "#### `np.argwhere()`"
   ]
  },
  {
   "cell_type": "markdown",
   "id": "3a8cd1d3",
   "metadata": {},
   "source": [
    "`np.argwhere()` find `True` elements and gives us a `(n_pts, n_matrix_dims)` shaped array of indexes:"
   ]
  },
  {
   "cell_type": "code",
   "execution_count": null,
   "id": "fdaf66a7",
   "metadata": {},
   "outputs": [],
   "source": [
    "arr = np.array([[1, 2, 3, 4, 5], \n",
    "                [0, 5, 0, 3, 1],\n",
    "                [0, 6, 7, 4, 1]])  # define an array\n",
    "boolean_vals = arr > 2  # boolean condition\n",
    "print(\"Original array:\")\n",
    "\n",
    "print(arr)\n",
    "print(\"\\nBoolean array:\")\n",
    "print(boolean_vals)"
   ]
  },
  {
   "cell_type": "code",
   "execution_count": null,
   "id": "fa7d9f95",
   "metadata": {},
   "outputs": [],
   "source": [
    "indexes = np.argwhere(boolean_vals)\n",
    "print(\"\\nTrue elements indexes:\")\n",
    "print(indexes)"
   ]
  },
  {
   "cell_type": "markdown",
   "id": "82fe5cd3",
   "metadata": {},
   "source": [
    "The indexes matrix has one row for every True value, and each column represents the position of that value on the boolean matrix."
   ]
  },
  {
   "cell_type": "markdown",
   "id": "16115313",
   "metadata": {},
   "source": [
    "#### `np.nonzero()`"
   ]
  },
  {
   "cell_type": "markdown",
   "id": "c374c1f6",
   "metadata": {},
   "source": [
    "`np.nonzero()` is very similar to `np.argwhere()`, but instead of a single matrix of indexes (with each column representing the indexes over one dimension for all points), it returns us a tuple of arrays. \n",
    "\n",
    "That is to say, each one of those arrays corresponds to a column of the indexes array returned by `np.argwhere()`."
   ]
  },
  {
   "cell_type": "code",
   "execution_count": null,
   "id": "2451d812",
   "metadata": {},
   "outputs": [],
   "source": [
    "# print(\"\\nBoolean array:\")\n",
    "#print(boolean_vals)\n",
    "\n",
    "indexes_tuple = np.nonzero(boolean_vals)\n",
    "# print(\"\\nTrue elements indexes:\")\n",
    "print(indexes_tuple)"
   ]
  },
  {
   "cell_type": "markdown",
   "id": "c30beeb1",
   "metadata": {},
   "source": [
    "indexes_tuples is a tuple of arrays; each one of thise array corresponds to a column in the indexes matrix above!"
   ]
  },
  {
   "cell_type": "code",
   "execution_count": null,
   "id": "c3ef4fe6",
   "metadata": {},
   "outputs": [],
   "source": [
    "indexes_tuple[0] == indexes[:, 0]"
   ]
  },
  {
   "cell_type": "markdown",
   "id": "1e297be1",
   "metadata": {},
   "source": [
    "Why is it useful to return a tuple of arrays?"
   ]
  },
  {
   "cell_type": "markdown",
   "id": "c2456687",
   "metadata": {},
   "source": [
    "### Array indexes are tuples!"
   ]
  },
  {
   "cell_type": "markdown",
   "id": "d1e071e6",
   "metadata": {},
   "source": [
    "Whenever you are writing something like:"
   ]
  },
  {
   "cell_type": "code",
   "execution_count": null,
   "id": "f55d219b",
   "metadata": {},
   "outputs": [],
   "source": [
    "arr[0, 1]"
   ]
  },
  {
   "cell_type": "markdown",
   "id": "bfe83ddc",
   "metadata": {},
   "source": [
    "You are actually passing a tuple into the square brackets! If you remember, in python, comma separated\n",
    "values with no brakets are automatically put together in a tuple:"
   ]
  },
  {
   "cell_type": "code",
   "execution_count": null,
   "id": "c43cdbc1",
   "metadata": {},
   "outputs": [],
   "source": [
    "a = 1, 2\n",
    "type(a)"
   ]
  },
  {
   "cell_type": "markdown",
   "id": "d3f0cba4",
   "metadata": {},
   "source": [
    "So, writing `arr[0, 1]` is literally the same as writing `arr[(0, 1)]`:"
   ]
  },
  {
   "cell_type": "code",
   "execution_count": null,
   "id": "761e8e45",
   "metadata": {},
   "outputs": [],
   "source": [
    "arr[(0, 1)]"
   ]
  },
  {
   "cell_type": "markdown",
   "id": "f6441124",
   "metadata": {},
   "source": [
    "If you remember, you can pass arrays instead of single numbers for indexing:"
   ]
  },
  {
   "cell_type": "code",
   "execution_count": null,
   "id": "21594c9d",
   "metadata": {},
   "outputs": [],
   "source": [
    "# This code will retrieve three elements from arr:\n",
    "#   - the element in (0, 2)\n",
    "#   - the element in (1, 3)\n",
    "#   - the element in (1, 1)\n",
    "\n",
    "print(arr)\n",
    "print(\"\\nSelected items:\")\n",
    "arr[np.array([0, 1, 1]), np.array([2, 3, 1])]"
   ]
  },
  {
   "cell_type": "markdown",
   "id": "20124887",
   "metadata": {},
   "source": [
    "Therefore, we can directly use the indexes arrays tuple we get from `np.nonzero()` to retrieve all elements of the original matrix that matched the boolean condition!"
   ]
  },
  {
   "cell_type": "code",
   "execution_count": null,
   "id": "c0862c97",
   "metadata": {},
   "outputs": [],
   "source": [
    "arr = np.array([[1, 2, 3, 4, 5], \n",
    "                [0, 5, 0, 3, 1],\n",
    "                [0, 6, 7, 4, 1]])\n",
    "boolean_vals = arr > 2\n",
    "print(\"Original array:\")\n",
    "print(arr)\n",
    "print(\"\\nBoolean array:\")\n",
    "print(boolean_vals)\n",
    "\n",
    "indexes_tuple = np.nonzero(boolean_vals)\n",
    "indexes_tuple"
   ]
  },
  {
   "cell_type": "code",
   "execution_count": null,
   "id": "89a55fc4",
   "metadata": {},
   "outputs": [],
   "source": [
    "filtered_values = arr[indexes_tuple]  # here we directly use the tuple to index the array!\n",
    "print(\"\\nElements bigger than 2:\")\n",
    "print(filtered_values)"
   ]
  },
  {
   "cell_type": "markdown",
   "id": "86a75cc3",
   "metadata": {},
   "source": [
    "(Practicals 1.2.0)"
   ]
  },
  {
   "cell_type": "markdown",
   "id": "7a79971d",
   "metadata": {
    "slideshow": {
     "slide_type": "subslide"
    }
   },
   "source": [
    "### `np.argsort`\n",
    "\n",
    "`argsort` is a powerful function to retrieve the index array that when applied to an array sorts it in ascending or descending order:"
   ]
  },
  {
   "cell_type": "code",
   "execution_count": null,
   "id": "02e4a0b0",
   "metadata": {},
   "outputs": [],
   "source": [
    "scores = np.array([5,  0, 2, 9, 6,])\n",
    "subjects = np.array([\"Tom\", \"Judy\", \"Lara\", \"John\", \"Leah\"])\n",
    "\n",
    "# Get sorting indexes:\n",
    "sorting_idxs = np.argsort(scores)\n",
    "sorting_idxs"
   ]
  },
  {
   "cell_type": "code",
   "execution_count": null,
   "id": "1881ecfd",
   "metadata": {
    "slideshow": {
     "slide_type": "subslide"
    }
   },
   "outputs": [],
   "source": [
    "# applying those indexes we can sort the array:\n",
    "scores[sorting_idxs]"
   ]
  },
  {
   "cell_type": "code",
   "execution_count": null,
   "id": "57327b71",
   "metadata": {
    "slideshow": {
     "slide_type": "-"
    }
   },
   "outputs": [],
   "source": [
    "# But also another array of matching length, eg to sort subjects based on score:\n",
    "subjects[sorting_idxs]"
   ]
  },
  {
   "cell_type": "markdown",
   "id": "08154a6b",
   "metadata": {
    "slideshow": {
     "slide_type": "slide"
    }
   },
   "source": [
    "## `numpy` booleans\n",
    "\n",
    "A final note on `numpy` boolean indexing & arrays"
   ]
  },
  {
   "cell_type": "markdown",
   "id": "dee1cabd",
   "metadata": {
    "slideshow": {
     "slide_type": "subslide"
    }
   },
   "source": [
    "### Boolean operations with arrays"
   ]
  },
  {
   "cell_type": "code",
   "execution_count": 144,
   "id": "ad1f4195",
   "metadata": {
    "ExecuteTime": {
     "end_time": "2023-05-14T21:54:32.878385Z",
     "start_time": "2023-05-14T21:54:32.873620Z"
    },
    "jupyter": {
     "outputs_hidden": false
    }
   },
   "outputs": [],
   "source": [
    "an_array = np.array([1, 2, 3, 4, 5])"
   ]
  },
  {
   "cell_type": "code",
   "execution_count": null,
   "id": "7db2911d",
   "metadata": {
    "ExecuteTime": {
     "end_time": "2023-05-14T21:54:38.017096Z",
     "start_time": "2023-05-14T21:54:38.003359Z"
    },
    "jupyter": {
     "outputs_hidden": false
    }
   },
   "outputs": [],
   "source": [
    "condition_0 = an_array > 2\n",
    "condition_1 = an_array < 5\n",
    "\n",
    "print(condition_0)\n",
    "print(condition_1)"
   ]
  },
  {
   "cell_type": "markdown",
   "id": "fdad147c",
   "metadata": {
    "slideshow": {
     "slide_type": "subslide"
    }
   },
   "source": [
    "### `and` with `&`\n",
    "\n",
    "If we try to use and with the array, it won't work element-wise!"
   ]
  },
  {
   "cell_type": "code",
   "execution_count": null,
   "id": "e4d692f2",
   "metadata": {},
   "outputs": [],
   "source": [
    "condition_0 and condition_1  # DO NOT USE THIS!"
   ]
  },
  {
   "cell_type": "markdown",
   "id": "4d22ffe0",
   "metadata": {
    "slideshow": {
     "slide_type": "subslide"
    }
   },
   "source": [
    "To compute the and condition element-wise we use `&`:"
   ]
  },
  {
   "cell_type": "code",
   "execution_count": null,
   "id": "059c7f93",
   "metadata": {
    "ExecuteTime": {
     "end_time": "2023-05-14T21:52:54.685343Z",
     "start_time": "2023-05-14T21:52:54.679286Z"
    },
    "jupyter": {
     "outputs_hidden": false
    }
   },
   "outputs": [],
   "source": [
    "condition_0 & condition_1"
   ]
  },
  {
   "cell_type": "markdown",
   "id": "a2b6256a",
   "metadata": {
    "slideshow": {
     "slide_type": "subslide"
    }
   },
   "source": [
    "### `or` with `|`"
   ]
  },
  {
   "cell_type": "markdown",
   "id": "4443b9ed",
   "metadata": {},
   "source": [
    "To compute the or condition element-wise we use `|`:"
   ]
  },
  {
   "cell_type": "code",
   "execution_count": null,
   "id": "4daa70b7",
   "metadata": {
    "ExecuteTime": {
     "end_time": "2023-05-14T21:53:06.549484Z",
     "start_time": "2023-05-14T21:53:06.545492Z"
    },
    "jupyter": {
     "outputs_hidden": false
    }
   },
   "outputs": [],
   "source": [
    "condition_0 | condition_1"
   ]
  },
  {
   "cell_type": "markdown",
   "id": "019bf030",
   "metadata": {
    "slideshow": {
     "slide_type": "subslide"
    }
   },
   "source": [
    "### `not` with `~`"
   ]
  },
  {
   "cell_type": "markdown",
   "id": "e2023604",
   "metadata": {},
   "source": [
    "To compute the not condition (over a single array) element-wise we use `~`:"
   ]
  },
  {
   "cell_type": "code",
   "execution_count": null,
   "id": "c2563fd0",
   "metadata": {
    "ExecuteTime": {
     "end_time": "2023-05-14T21:53:44.603417Z",
     "start_time": "2023-05-14T21:53:44.590433Z"
    },
    "jupyter": {
     "outputs_hidden": false
    }
   },
   "outputs": [],
   "source": [
    "~condition_0"
   ]
  },
  {
   "cell_type": "markdown",
   "id": "2d21ae2b",
   "metadata": {
    "slideshow": {
     "slide_type": "subslide"
    }
   },
   "source": [
    "Mind the execution order!"
   ]
  },
  {
   "cell_type": "code",
   "execution_count": null,
   "id": "7c5031b8",
   "metadata": {},
   "outputs": [],
   "source": [
    "an_array > 0 & an_array < 5  # Without brackets & is applied to 0 and an_array!!"
   ]
  },
  {
   "cell_type": "markdown",
   "id": "48cbdfe7",
   "metadata": {
    "slideshow": {
     "slide_type": "subslide"
    }
   },
   "source": [
    "We get the error because we are not ensuring that the array comparisons are executed first!\n",
    "This is how we can fix this:"
   ]
  },
  {
   "cell_type": "code",
   "execution_count": null,
   "id": "db9487b4",
   "metadata": {
    "ExecuteTime": {
     "end_time": "2023-05-14T21:57:30.354290Z",
     "start_time": "2023-05-14T21:57:30.348796Z"
    },
    "jupyter": {
     "outputs_hidden": false
    }
   },
   "outputs": [],
   "source": [
    "# Correct:\n",
    "(an_array > 0) & (an_array < 5)"
   ]
  },
  {
   "cell_type": "markdown",
   "id": "219aac82",
   "metadata": {
    "slideshow": {
     "slide_type": "subslide"
    }
   },
   "source": [
    "(Practicals 1.2.1)"
   ]
  },
  {
   "cell_type": "markdown",
   "id": "8da92ab9",
   "metadata": {
    "slideshow": {
     "slide_type": "subslide"
    }
   },
   "source": [
    "## `pandas`! 🐼"
   ]
  },
  {
   "cell_type": "markdown",
   "id": "f3705dfb",
   "metadata": {},
   "source": [
    "Finally, data sheets in Python!"
   ]
  },
  {
   "cell_type": "markdown",
   "id": "e9d9e6f5",
   "metadata": {},
   "source": [
    "You are mostly familiar with data sheets: `.xlsx`, `.csv`...\n",
    "\n",
    "Some of you might have used `R` to do statistics and data aggregation on those tabular data.\n",
    "\n",
    "The `pandas` library offers the same in Python!"
   ]
  },
  {
   "cell_type": "code",
   "execution_count": 146,
   "id": "401b6244",
   "metadata": {
    "slideshow": {
     "slide_type": "subslide"
    }
   },
   "outputs": [],
   "source": [
    "import pandas as pd  # pandas import"
   ]
  },
  {
   "cell_type": "code",
   "execution_count": null,
   "id": "44e3aff3",
   "metadata": {},
   "outputs": [],
   "source": [
    "# Real world example of stimulus log reading from a csv file:\n",
    "df = pd.read_csv(\"https://raw.githubusercontent.com/vigji/python-cimec-2025/main/lectures/files/stimulus_log.csv\")\n",
    "\n",
    "df.head()  # show the first lines of the dataframe"
   ]
  },
  {
   "cell_type": "code",
   "execution_count": null,
   "id": "7c4c8f3f",
   "metadata": {},
   "outputs": [],
   "source": [
    "# E.g., we can add columns to the datasheet: \n",
    "df[\"Theta degrees\"] = 180 * df[\"Theta\"] / np.pi  # convert angles from radians to degrees\n",
    "\n",
    "df.head()"
   ]
  },
  {
   "cell_type": "markdown",
   "id": "c3b40c7b",
   "metadata": {
    "slideshow": {
     "slide_type": "subslide"
    }
   },
   "source": [
    "### Very convenient data structures!\n",
    "\n",
    "- named columns\n",
    "- mixed data types (integers, strings, booleans, timestamps...)"
   ]
  },
  {
   "cell_type": "markdown",
   "id": "8f1928e9",
   "metadata": {},
   "source": [
    "Also, `pandas` offers very powerful ways of aggregating data - we will have a look at them!"
   ]
  },
  {
   "cell_type": "markdown",
   "id": "7235b342",
   "metadata": {
    "slideshow": {
     "slide_type": "subslide"
    }
   },
   "source": [
    "## The basic data structure: `pd.DataFrame`"
   ]
  },
  {
   "cell_type": "code",
   "execution_count": 149,
   "id": "71be7a3b",
   "metadata": {
    "ExecuteTime": {
     "end_time": "2023-05-14T22:59:59.337019Z",
     "start_time": "2023-05-14T22:59:59.106216Z"
    }
   },
   "outputs": [],
   "source": [
    "import pandas as pd\n",
    "import numpy as np"
   ]
  },
  {
   "cell_type": "code",
   "execution_count": null,
   "id": "813cdf78",
   "metadata": {
    "ExecuteTime": {
     "end_time": "2023-05-15T06:12:45.475012Z",
     "start_time": "2023-05-15T06:12:44.696525Z"
    },
    "jupyter": {
     "outputs_hidden": false
    },
    "slideshow": {
     "slide_type": "subslide"
    }
   },
   "outputs": [],
   "source": [
    "# Read an real example of experimental data with pandas:\n",
    "df = pd.read_csv(\"https://raw.githubusercontent.com/vigji/python-cimec-2024/main/lectures/files/stimulus_log.csv\")\n",
    "\n",
    "df"
   ]
  },
  {
   "cell_type": "code",
   "execution_count": null,
   "id": "265c4f74",
   "metadata": {},
   "outputs": [],
   "source": [
    "type(df)"
   ]
  },
  {
   "cell_type": "markdown",
   "id": "60fd99fe",
   "metadata": {
    "slideshow": {
     "slide_type": "subslide"
    }
   },
   "source": [
    "## `pd.DataFrame`"
   ]
  },
  {
   "cell_type": "markdown",
   "id": "a978e845",
   "metadata": {
    "slideshow": {
     "slide_type": "fragment"
    }
   },
   "source": [
    "2D data structure with labelled **columns** and indexed **rows**"
   ]
  },
  {
   "cell_type": "code",
   "execution_count": null,
   "id": "3ab9b216",
   "metadata": {
    "ExecuteTime": {
     "end_time": "2023-05-15T06:05:48.919843Z",
     "start_time": "2023-05-15T06:05:48.901567Z"
    }
   },
   "outputs": [],
   "source": [
    "simple_df = pd.DataFrame({'positions': [10, 20, 30, 40, 50],\n",
    "                   'contrast': [1., 0.5, 0, 1., .5],\n",
    "                   'condition': [\"A\", \"B\", \"C\", \"D\", \"E\"]})\n",
    "simple_df"
   ]
  },
  {
   "cell_type": "markdown",
   "id": "b0474757",
   "metadata": {
    "slideshow": {
     "slide_type": "subslide"
    }
   },
   "source": [
    "### `pd.DataFrame` attributes"
   ]
  },
  {
   "cell_type": "code",
   "execution_count": null,
   "id": "f2f71216",
   "metadata": {
    "ExecuteTime": {
     "end_time": "2023-05-15T06:06:48.654165Z",
     "start_time": "2023-05-15T06:06:48.648144Z"
    },
    "jupyter": {
     "outputs_hidden": false
    }
   },
   "outputs": [],
   "source": [
    "simple_df.columns  # returns the columns of the dataframe"
   ]
  },
  {
   "cell_type": "code",
   "execution_count": null,
   "id": "8ebc199a",
   "metadata": {
    "ExecuteTime": {
     "end_time": "2023-05-15T06:06:49.074916Z",
     "start_time": "2023-05-15T06:06:49.069726Z"
    },
    "jupyter": {
     "outputs_hidden": false
    },
    "slideshow": {
     "slide_type": "subslide"
    }
   },
   "outputs": [],
   "source": [
    "simple_df.index  # returns the index of the dataframe"
   ]
  },
  {
   "cell_type": "code",
   "execution_count": null,
   "id": "9da4ee73",
   "metadata": {
    "ExecuteTime": {
     "end_time": "2023-05-15T06:07:01.057992Z",
     "start_time": "2023-05-15T06:07:01.051431Z"
    },
    "jupyter": {
     "outputs_hidden": false
    },
    "slideshow": {
     "slide_type": "subslide"
    }
   },
   "outputs": [],
   "source": [
    "simple_df.shape  # returns the shape of the dataframe, as arrays"
   ]
  },
  {
   "cell_type": "code",
   "execution_count": null,
   "id": "1acfadec",
   "metadata": {
    "slideshow": {
     "slide_type": "subslide"
    }
   },
   "outputs": [],
   "source": [
    "simple_df.values # returns the raw content in an array (to be used only on homogenous data)"
   ]
  },
  {
   "cell_type": "markdown",
   "id": "797fb2b3",
   "metadata": {
    "slideshow": {
     "slide_type": "subslide"
    }
   },
   "source": [
    "## `pd.DataFrame` column selection"
   ]
  },
  {
   "cell_type": "markdown",
   "id": "f1170a2b",
   "metadata": {},
   "source": [
    "Index dataframe over columns:"
   ]
  },
  {
   "cell_type": "code",
   "execution_count": null,
   "id": "24dd8131",
   "metadata": {
    "ExecuteTime": {
     "end_time": "2023-05-15T06:09:18.649620Z",
     "start_time": "2023-05-15T06:09:18.628981Z"
    },
    "jupyter": {
     "outputs_hidden": false
    },
    "slideshow": {
     "slide_type": "subslide"
    }
   },
   "outputs": [],
   "source": [
    "df.head()  # show the first lines of the dataframe"
   ]
  },
  {
   "cell_type": "code",
   "execution_count": null,
   "id": "26ad4682",
   "metadata": {
    "slideshow": {
     "slide_type": "subslide"
    }
   },
   "outputs": [],
   "source": [
    "df[\"Radius\"]  # We can index using the name of the column"
   ]
  },
  {
   "cell_type": "code",
   "execution_count": null,
   "id": "2ce8292e",
   "metadata": {
    "slideshow": {
     "slide_type": "subslide"
    }
   },
   "outputs": [],
   "source": [
    "# or multiple columns with a list of multiple column names:\n",
    "\n",
    "df[[\"Radius\", \"Theta\"]]"
   ]
  },
  {
   "cell_type": "markdown",
   "id": "9a2bf155",
   "metadata": {
    "slideshow": {
     "slide_type": "subslide"
    }
   },
   "source": [
    "What is the type of the indexing operation if we select one column?"
   ]
  },
  {
   "cell_type": "code",
   "execution_count": null,
   "id": "c254e1c4",
   "metadata": {},
   "outputs": [],
   "source": [
    "print(type(df[\"Radius\"]))\n",
    "df[\"Radius\"]"
   ]
  },
  {
   "cell_type": "markdown",
   "id": "0f285bd8",
   "metadata": {},
   "source": [
    "Once we have selected a column, what we get is a `pd.Series`"
   ]
  },
  {
   "cell_type": "markdown",
   "id": "1b412956",
   "metadata": {
    "slideshow": {
     "slide_type": "subslide"
    }
   },
   "source": [
    "### `pd.Series`"
   ]
  },
  {
   "cell_type": "markdown",
   "id": "465d12d3",
   "metadata": {
    "slideshow": {
     "slide_type": "fragment"
    }
   },
   "source": [
    "`pd.Series` are 1-dimensional data structures - basically the columns of  `pd.DataFrame`s:"
   ]
  },
  {
   "cell_type": "code",
   "execution_count": null,
   "id": "a6b29b0d",
   "metadata": {},
   "outputs": [],
   "source": [
    "a_series_from_df = df[\"Radius\"]\n",
    "a_series_from_df"
   ]
  },
  {
   "cell_type": "markdown",
   "id": "3099af99",
   "metadata": {
    "slideshow": {
     "slide_type": "subslide"
    }
   },
   "source": [
    "`pd.Series` have indexed rows (the same of the original dataframe), but no columns"
   ]
  },
  {
   "cell_type": "markdown",
   "id": "bdab88c5",
   "metadata": {
    "slideshow": {
     "slide_type": "subslide"
    }
   },
   "source": [
    "### Operations on Series\n",
    "\n",
    "We can operate with the series as we would for a `numpy` array:"
   ]
  },
  {
   "cell_type": "code",
   "execution_count": null,
   "id": "8602cc40",
   "metadata": {},
   "outputs": [],
   "source": [
    "# The result of this operation is an identically indexed Series with new values:\n",
    "a_series_from_df * 10"
   ]
  },
  {
   "cell_type": "code",
   "execution_count": null,
   "id": "0193aa90",
   "metadata": {
    "slideshow": {
     "slide_type": "subslide"
    }
   },
   "outputs": [],
   "source": [
    "# The result of this operation is an identically indexed Series with bolean values:\n",
    "a_series_from_df == 5"
   ]
  },
  {
   "cell_type": "markdown",
   "id": "52935389",
   "metadata": {
    "slideshow": {
     "slide_type": "subslide"
    }
   },
   "source": [
    "### Back to indexing dataframes...\n",
    "\n",
    "DataFrames are smart structures that can understand if we are indexing rows or columns, checking out the values that we are using for indexing:"
   ]
  },
  {
   "cell_type": "code",
   "execution_count": null,
   "id": "ac81e4b2",
   "metadata": {
    "ExecuteTime": {
     "end_time": "2023-05-14T21:41:40.332402Z",
     "start_time": "2023-05-14T21:41:40.317414Z"
    },
    "jupyter": {
     "outputs_hidden": false
    }
   },
   "outputs": [],
   "source": [
    "df[0:2]  # in this case, the indexing refers to rows"
   ]
  },
  {
   "cell_type": "markdown",
   "id": "5c1095b2",
   "metadata": {
    "slideshow": {
     "slide_type": "subslide"
    }
   },
   "source": [
    "Indexing on rows can be slicing (as above) or boolean indexing.\n",
    "\n",
    "Many times row selections are done based on some boolean conditions.\n",
    "\n",
    "E.g. we just want to consider trials where the stimulus `Radius` was `5`:"
   ]
  },
  {
   "cell_type": "code",
   "execution_count": null,
   "id": "f38f0934",
   "metadata": {},
   "outputs": [],
   "source": [
    "boolean_selection = df[\"Radius\"] == 5\n",
    "\n",
    "# As for numpy array, the operation on the Series above returns a series:\n",
    "boolean_selection"
   ]
  },
  {
   "cell_type": "markdown",
   "id": "87407a54",
   "metadata": {
    "slideshow": {
     "slide_type": "subslide"
    }
   },
   "source": [
    "We can use the resulting series to index the original DataFrame:"
   ]
  },
  {
   "cell_type": "code",
   "execution_count": null,
   "id": "3fc46656",
   "metadata": {},
   "outputs": [],
   "source": [
    "df[boolean_selection]"
   ]
  },
  {
   "cell_type": "markdown",
   "id": "4fd0f519",
   "metadata": {
    "slideshow": {
     "slide_type": "subslide"
    }
   },
   "source": [
    "Notice how after filtering the indexes of each row are maintained as in the original dataframe!"
   ]
  },
  {
   "cell_type": "markdown",
   "id": "90e84fb8",
   "metadata": {
    "slideshow": {
     "slide_type": "subslide"
    }
   },
   "source": [
    "### Non-numerical raw indexing\n",
    "\n",
    "One potentially powerful feature of `pd.DataFrame` is the option of using non-numerical indexes"
   ]
  },
  {
   "cell_type": "code",
   "execution_count": null,
   "id": "cfaaa3dd",
   "metadata": {},
   "outputs": [],
   "source": [
    "non_num_idx_df = df.copy()\n",
    "# Replace numerical index with string:\n",
    "non_num_idx_df.index = [f\"trial_{i}\" for i in df.index]\n",
    "\n",
    "non_num_idx_df.head()"
   ]
  },
  {
   "cell_type": "markdown",
   "id": "4b975365",
   "metadata": {},
   "source": [
    "We will see how this can be useful to build tables queriable by trial/subject/experiment ids"
   ]
  },
  {
   "cell_type": "markdown",
   "id": "e18b7f92",
   "metadata": {
    "slideshow": {
     "slide_type": "subslide"
    }
   },
   "source": [
    "### `.loc`"
   ]
  },
  {
   "cell_type": "markdown",
   "id": "c7836a67",
   "metadata": {},
   "source": [
    "If we want to select values over both rows and columns we use `.loc` (highly recommended)\n",
    "\n",
    "**This is not a method!** We need to use the square brackets:"
   ]
  },
  {
   "cell_type": "code",
   "execution_count": null,
   "id": "e87a1f7c",
   "metadata": {
    "ExecuteTime": {
     "end_time": "2023-05-14T21:44:29.621664Z",
     "start_time": "2023-05-14T21:44:29.618985Z"
    },
    "jupyter": {
     "outputs_hidden": false
    }
   },
   "outputs": [],
   "source": [
    "df.loc[::2, [\"Theta\", \"Timestamp\"]]"
   ]
  },
  {
   "cell_type": "markdown",
   "id": "bff4b2a1",
   "metadata": {
    "slideshow": {
     "slide_type": "subslide"
    }
   },
   "source": [
    "Often, we use boolean indexing to select rows:"
   ]
  },
  {
   "cell_type": "code",
   "execution_count": null,
   "id": "ab88d8ec",
   "metadata": {},
   "outputs": [],
   "source": [
    "df.loc[boolean_selection, [\"Theta\", \"Timestamp\", \"Radius\"]]"
   ]
  },
  {
   "cell_type": "markdown",
   "id": "25fde7d0",
   "metadata": {
    "slideshow": {
     "slide_type": "subslide"
    }
   },
   "source": [
    "It is very common to use multiple critieria to select rows:"
   ]
  },
  {
   "cell_type": "code",
   "execution_count": 43,
   "id": "03977d7f",
   "metadata": {},
   "outputs": [],
   "source": [
    "selection_series = (df[\"Radius\"] == 5) & (df[\"Theta\"] > 4)"
   ]
  },
  {
   "cell_type": "code",
   "execution_count": null,
   "id": "712da1ad",
   "metadata": {
    "ExecuteTime": {
     "end_time": "2023-05-14T21:57:56.609094Z",
     "start_time": "2023-05-14T21:57:56.600500Z"
    },
    "jupyter": {
     "outputs_hidden": false
    }
   },
   "outputs": [],
   "source": [
    "df[selection_series]  # note the boolean and operation à là numpy"
   ]
  },
  {
   "cell_type": "markdown",
   "id": "f10116a4",
   "metadata": {
    "slideshow": {
     "slide_type": "subslide"
    }
   },
   "source": [
    "### `.iloc`\n",
    "\n",
    "If we feel like using numpy-like indexing, we can use `.iloc` (usually, discouraged, as it is less readable):"
   ]
  },
  {
   "cell_type": "code",
   "execution_count": null,
   "id": "e11c979e",
   "metadata": {},
   "outputs": [],
   "source": [
    "df.iloc[:5, :2]"
   ]
  },
  {
   "cell_type": "markdown",
   "id": "aee4bd89",
   "metadata": {
    "slideshow": {
     "slide_type": "subslide"
    }
   },
   "source": [
    "(Practicals 1.2.1)"
   ]
  },
  {
   "cell_type": "markdown",
   "id": "f120afdf",
   "metadata": {
    "slideshow": {
     "slide_type": "subslide"
    }
   },
   "source": [
    "### Create `pd.DataFrames`"
   ]
  },
  {
   "cell_type": "markdown",
   "id": "994ea047",
   "metadata": {},
   "source": [
    "Tipically, we create a dataframe from a dictionary of arrays (lists):"
   ]
  },
  {
   "cell_type": "code",
   "execution_count": null,
   "id": "e33691ae",
   "metadata": {
    "ExecuteTime": {
     "end_time": "2023-05-14T21:59:01.600318Z",
     "start_time": "2023-05-14T21:59:01.597275Z"
    },
    "jupyter": {
     "outputs_hidden": false
    }
   },
   "outputs": [],
   "source": [
    "dict_array = dict(int_col=[1, 2, 3], \n",
    "                  float_col=[4., 5., .6],\n",
    "                  a_constant_val=1,\n",
    "                  str_col=[\"a\", \"b\", \"c\"])\n",
    "\n",
    "pd.DataFrame(dict_array)"
   ]
  },
  {
   "cell_type": "markdown",
   "id": "15b6b4b7",
   "metadata": {
    "slideshow": {
     "slide_type": "subslide"
    }
   },
   "source": [
    " or from a list of dictionaries:"
   ]
  },
  {
   "cell_type": "code",
   "execution_count": null,
   "id": "9f3db513",
   "metadata": {
    "ExecuteTime": {
     "end_time": "2023-05-14T21:59:38.769053Z",
     "start_time": "2023-05-14T21:59:38.765802Z"
    },
    "jupyter": {
     "outputs_hidden": false
    }
   },
   "outputs": [],
   "source": [
    "pd.DataFrame([dict(int_col=1, float_col=4., str_col=\"a\"),\n",
    "              dict(int_col=2, float_col=5., str_col=\"b\"),\n",
    "              dict(int_col=3, float_col=.6, str_col=\"c\")])"
   ]
  },
  {
   "cell_type": "markdown",
   "id": "ec2831d5",
   "metadata": {
    "slideshow": {
     "slide_type": "subslide"
    }
   },
   "source": [
    "### From `numpy` arrays\n",
    "\n",
    "We can also create a dataframe from data stored as a numpy array:"
   ]
  },
  {
   "cell_type": "code",
   "execution_count": null,
   "id": "fe61f088",
   "metadata": {},
   "outputs": [],
   "source": [
    "twod_array = np.random.rand(3, 3)\n",
    "twod_array"
   ]
  },
  {
   "cell_type": "code",
   "execution_count": null,
   "id": "56830b4e",
   "metadata": {
    "ExecuteTime": {
     "end_time": "2023-05-14T22:04:03.192256Z",
     "start_time": "2023-05-14T22:04:03.182302Z"
    },
    "jupyter": {
     "outputs_hidden": false
    },
    "slideshow": {
     "slide_type": "subslide"
    }
   },
   "outputs": [],
   "source": [
    "# We just have to specify the columns names and (optionally) the indexes, if different from default:\n",
    "\n",
    "pd.DataFrame(twod_array, \n",
    "             columns=[\"a\", \"b\", \"c\"], # column names\n",
    "             index=[\"row1\", \"row2\", \"row3\"], # non numerical indexing\n",
    "            )"
   ]
  },
  {
   "cell_type": "markdown",
   "id": "6cafa092",
   "metadata": {
    "slideshow": {
     "slide_type": "subslide"
    }
   },
   "source": [
    "### Reading from files\n",
    "\n",
    "Many (most?) times we'll be reading directly from a file (a `.csv`, a `.xlsx`...)"
   ]
  },
  {
   "cell_type": "code",
   "execution_count": null,
   "id": "ae50d853",
   "metadata": {},
   "outputs": [],
   "source": [
    "# For .csv files, we use the read_csv method.\n",
    "# In this notebook we read from the web; if it was a file from your pc, you'd pass the filename\n",
    "# instead of the URL. read_csv takes a bunch of inputs about how your file is formatted\n",
    "\n",
    "URL = \"https://raw.githubusercontent.com/vigji/python-cimec-2024/main/lectures/files/stimulus_log.csv\"\n",
    "df = pd.read_csv(URL)\n",
    "\n",
    "df.head()  # this will show only the first rows!"
   ]
  },
  {
   "cell_type": "markdown",
   "id": "4c0cbb3f",
   "metadata": {},
   "source": [
    "## Increment existing dataframes"
   ]
  },
  {
   "cell_type": "markdown",
   "id": "842bfe7b",
   "metadata": {
    "slideshow": {
     "slide_type": "subslide"
    }
   },
   "source": [
    "### Add new columns"
   ]
  },
  {
   "cell_type": "markdown",
   "id": "1b915a72",
   "metadata": {},
   "source": [
    "We can add new columns to a dataframe:"
   ]
  },
  {
   "cell_type": "code",
   "execution_count": null,
   "id": "c8bc88d5",
   "metadata": {
    "ExecuteTime": {
     "end_time": "2023-05-15T05:59:15.605460Z",
     "start_time": "2023-05-15T05:59:15.597442Z"
    },
    "jupyter": {
     "outputs_hidden": false
    }
   },
   "outputs": [],
   "source": [
    "df = pd.DataFrame(np.random.rand(3, 3), columns=[\"a\", \"b\", \"c\"], index=[\"row1\", \"row2\", \"row3\"])\n",
    "df"
   ]
  },
  {
   "cell_type": "markdown",
   "id": "922b3ba8",
   "metadata": {},
   "source": [
    "To add data, we can use any multi-element varable: `list`s, `array`s..."
   ]
  },
  {
   "cell_type": "code",
   "execution_count": null,
   "id": "1d6fa579",
   "metadata": {
    "ExecuteTime": {
     "end_time": "2023-05-15T05:59:42.539679Z",
     "start_time": "2023-05-15T05:59:42.532833Z"
    },
    "jupyter": {
     "outputs_hidden": false
    }
   },
   "outputs": [],
   "source": [
    "# The length of the assignment has to match the length of the dataframe:\n",
    "df[\"a_new_column\"] = [\"a\", \"b\", \"c\"]\n",
    "df"
   ]
  },
  {
   "cell_type": "code",
   "execution_count": null,
   "id": "79410029",
   "metadata": {},
   "outputs": [],
   "source": [
    "# We can also assign a single value to fill the whole column with the same content:\n",
    "df[\"new_boring_column\"] = 42\n",
    "df"
   ]
  },
  {
   "cell_type": "markdown",
   "id": "ed7b1ae5",
   "metadata": {
    "slideshow": {
     "slide_type": "subslide"
    }
   },
   "source": [
    "### Add new rows"
   ]
  },
  {
   "cell_type": "markdown",
   "id": "f523d424",
   "metadata": {},
   "source": [
    "We can add new rows to a dataframe (more rare). In this case we use concatenation:"
   ]
  },
  {
   "cell_type": "code",
   "execution_count": null,
   "id": "eaad3a39",
   "metadata": {
    "jupyter": {
     "outputs_hidden": false
    }
   },
   "outputs": [],
   "source": [
    "df1 = pd.DataFrame(dict(col1=[99, 95, 92],\n",
    "                        col2=[95, 90, 99]))\n",
    "df1"
   ]
  },
  {
   "cell_type": "code",
   "execution_count": null,
   "id": "5e659152",
   "metadata": {},
   "outputs": [],
   "source": [
    "# Create another dataframe:\n",
    "df2 = pd.DataFrame(dict(col1=[100],\n",
    "                        col2=[101]))\n",
    "df2"
   ]
  },
  {
   "cell_type": "code",
   "execution_count": null,
   "id": "f3b4ebf3",
   "metadata": {},
   "outputs": [],
   "source": [
    "#\n",
    "# Concat dataframes\n",
    "pd.concat([df1, df2])"
   ]
  },
  {
   "cell_type": "markdown",
   "id": "e2e63bd7",
   "metadata": {
    "slideshow": {
     "slide_type": "subslide"
    }
   },
   "source": [
    "Note how indexes match the indexes of the original arrays! If we want, we can reassign it:"
   ]
  },
  {
   "cell_type": "code",
   "execution_count": null,
   "id": "d51b4e11",
   "metadata": {
    "jupyter": {
     "outputs_hidden": false
    }
   },
   "outputs": [],
   "source": [
    "pd.concat([df1, df2]).reset_index()"
   ]
  },
  {
   "cell_type": "markdown",
   "id": "4651d8f9",
   "metadata": {
    "slideshow": {
     "slide_type": "slide"
    }
   },
   "source": [
    "(Practicals 1.2.2)"
   ]
  },
  {
   "cell_type": "markdown",
   "id": "deef409d",
   "metadata": {},
   "source": [
    "## [Bonus] index raveling / unraveling"
   ]
  },
  {
   "cell_type": "markdown",
   "id": "1b08ab25",
   "metadata": {},
   "source": [
    "For a multi-dimensional array:"
   ]
  },
  {
   "cell_type": "code",
   "execution_count": null,
   "id": "eb0c0b0d",
   "metadata": {},
   "outputs": [],
   "source": [
    "arr = np.array([[5, 1, 2], \n",
    "                [3, 0, 4]])\n",
    "print(arr)\n",
    "np.argmin(arr)"
   ]
  },
  {
   "cell_type": "markdown",
   "id": "d8858499",
   "metadata": {},
   "source": [
    "What is this number 4?"
   ]
  },
  {
   "cell_type": "markdown",
   "id": "6717842b",
   "metadata": {},
   "source": [
    "## Flat indexing"
   ]
  },
  {
   "cell_type": "markdown",
   "id": "5910dcef",
   "metadata": {},
   "source": [
    "When you have a multi-dimensional array, you can always index it in two ways:\n",
    " - the standard, multi-dimensional indexing (e.g., `my_array[3,4]`)\n",
    " - with **flat indexing**: we index the array after flattening it out in a single dimension"
   ]
  },
  {
   "cell_type": "code",
   "execution_count": null,
   "id": "4ce562cf",
   "metadata": {},
   "outputs": [],
   "source": [
    "# Example:\n",
    "my_arr = np.random.randint(0, 10, (4, 3))\n",
    "my_arr"
   ]
  },
  {
   "cell_type": "markdown",
   "id": "1d29623f",
   "metadata": {},
   "source": [
    "There is a flatten representation of this array that we can look at with `.flatten()` method we saw in the last lecture:"
   ]
  },
  {
   "cell_type": "code",
   "execution_count": null,
   "id": "e4a5fef9",
   "metadata": {},
   "outputs": [],
   "source": [
    "import numpy as np\n",
    "# When we flatten, we concatenate all values of the matrix in a single dimension.\n",
    "# We keep the order of the dimensions of the matrix (the first 3 elements are the first row, that\n",
    "# is, the first dimension):\n",
    "print(my_arr)\n",
    "min_idx = np.argmin(my_arr)\n",
    "print(min_idx)\n",
    "my_arr.flatten()[min_idx]\n"
   ]
  },
  {
   "cell_type": "markdown",
   "id": "ec1a28a2",
   "metadata": {},
   "source": [
    "The number we got from `np.argmax()` is the number we would need to use over the flattened representation of the array to get the maximum value!"
   ]
  },
  {
   "cell_type": "code",
   "execution_count": null,
   "id": "e6358c18",
   "metadata": {},
   "outputs": [],
   "source": [
    "max_idx = np.argmax(my_arr)  # get max index\n",
    "print(max_idx)\n",
    "\n",
    "flat_array = my_arr.flatten()  # create a flattened array\n",
    "flat_array[max_idx]"
   ]
  },
  {
   "cell_type": "markdown",
   "id": "0c22c14d",
   "metadata": {},
   "source": [
    "One last thing. it is obviously annoying having to create a new flattened array to use the index. Also, we create a duplicated array in memory - not good.\n",
    "\n",
    "The best way to use this indexing it through the `.flat` representation of the matrix:"
   ]
  },
  {
   "cell_type": "code",
   "execution_count": null,
   "id": "e8dd4f81",
   "metadata": {},
   "outputs": [],
   "source": [
    "my_arr.flat[max_idx]"
   ]
  },
  {
   "cell_type": "markdown",
   "id": "376021bc",
   "metadata": {},
   "source": [
    "### Index raveling / unraveling"
   ]
  },
  {
   "cell_type": "markdown",
   "id": "ab01ec26",
   "metadata": {},
   "source": [
    "To convert the flat index to a tuple of matrix indexes, we can use `np.unravel_index()`:"
   ]
  },
  {
   "cell_type": "code",
   "execution_count": null,
   "id": "a031e733",
   "metadata": {},
   "outputs": [],
   "source": [
    "arr = np.array([[5, 1, 2], [3, 3, 0]])\n",
    "idx = np.argmin(arr)\n",
    "\n",
    "# unravel index takes an index of the flattened array, and the shape of the matrix,\n",
    "# and give us the tuple of ordinary indexes that correspond to that flat index.\n",
    "np.unravel_index(idx, arr.shape)  "
   ]
  },
  {
   "cell_type": "markdown",
   "id": "541ecfce",
   "metadata": {},
   "source": [
    "This is an illustration of what happens. Flat indexes (_left_) are converted to tuple indexes (_right_):\n",
    "(there is a bug in the image, last value should be 11!)\n",
    "\n",
    "![unravel illustration](https://i.stack.imgur.com/sxwBU.png)"
   ]
  },
  {
   "cell_type": "markdown",
   "id": "1497f48c",
   "metadata": {},
   "source": [
    "The converse operation, called unravel, can be done with `np.ravel_multi_index()`, and it goes from the right representation to the left one:"
   ]
  },
  {
   "cell_type": "code",
   "execution_count": null,
   "id": "0b4f3bcc",
   "metadata": {},
   "outputs": [],
   "source": [
    "np.ravel_multi_index((1, 1), arr.shape)"
   ]
  }
 ],
 "metadata": {
  "celltoolbar": "Slideshow",
  "kernelspec": {
   "display_name": "course-env",
   "language": "python",
   "name": "course-env"
  },
  "language_info": {
   "codemirror_mode": {
    "name": "ipython",
    "version": 3
   },
   "file_extension": ".py",
   "mimetype": "text/x-python",
   "name": "python",
   "nbconvert_exporter": "python",
   "pygments_lexer": "ipython3",
   "version": "3.10.13"
  }
 },
 "nbformat": 4,
 "nbformat_minor": 5
}
