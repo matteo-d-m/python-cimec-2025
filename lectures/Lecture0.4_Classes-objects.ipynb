{
 "cells": [
  {
   "cell_type": "markdown",
   "id": "142c8979",
   "metadata": {
    "slideshow": {
     "slide_type": "subslide"
    }
   },
   "source": [
    "# Python for (open) Neuroscience\n",
    "\n",
    "_Lecture 0.4_ - Functions / Classes and objects\n",
    "\n",
    "Luigi Petrucco\n",
    "\n",
    "\n",
    "[![Open In Colab](https://colab.research.google.com/assets/colab-badge.svg)](https://colab.research.google.com/github/vigji/python-cimec-2025/blob/main/lectures/Lecture0.4_Classes-objects.ipynb)"
   ]
  },
  {
   "cell_type": "markdown",
   "id": "ef091a6d",
   "metadata": {
    "slideshow": {
     "slide_type": "subslide"
    }
   },
   "source": [
    "## Lecture outline\n",
    "- recap on functions\n",
    "- intro to classes and objects"
   ]
  },
  {
   "cell_type": "markdown",
   "id": "e0409787",
   "metadata": {
    "slideshow": {
     "slide_type": "subslide"
    }
   },
   "source": [
    "### Functions - recap"
   ]
  },
  {
   "cell_type": "markdown",
   "id": "59812e75",
   "metadata": {},
   "source": [
    "<p align=\"center\">\n",
    "  <img src=\"./files/function_anatomy.png\" />\n",
    "</p>"
   ]
  },
  {
   "cell_type": "code",
   "execution_count": 2,
   "id": "007de134",
   "metadata": {
    "slideshow": {
     "slide_type": "subslide"
    }
   },
   "outputs": [
    {
     "ename": "TypeError",
     "evalue": "print_args_and_sum() missing 1 required positional argument: 'b'",
     "output_type": "error",
     "traceback": [
      "\u001b[0;31m---------------------------------------------------------------------------\u001b[0m",
      "\u001b[0;31mTypeError\u001b[0m                                 Traceback (most recent call last)",
      "Cell \u001b[0;32mIn[2], line 7\u001b[0m\n\u001b[1;32m      2\u001b[0m     \u001b[38;5;28mprint\u001b[39m(\u001b[38;5;124mf\u001b[39m\u001b[38;5;124m\"\u001b[39m\u001b[38;5;124ma=\u001b[39m\u001b[38;5;132;01m{\u001b[39;00ma\u001b[38;5;132;01m}\u001b[39;00m\u001b[38;5;124m, b=\u001b[39m\u001b[38;5;132;01m{\u001b[39;00mb\u001b[38;5;132;01m}\u001b[39;00m\u001b[38;5;124m, c=\u001b[39m\u001b[38;5;132;01m{\u001b[39;00mc\u001b[38;5;132;01m}\u001b[39;00m\u001b[38;5;124m\"\u001b[39m)\n\u001b[1;32m      4\u001b[0m     \u001b[38;5;28;01mreturn\u001b[39;00m a \u001b[38;5;241m+\u001b[39m b \u001b[38;5;241m+\u001b[39m c\n\u001b[0;32m----> 7\u001b[0m values_sum \u001b[38;5;241m=\u001b[39m \u001b[43mprint_args_and_sum\u001b[49m\u001b[43m(\u001b[49m\u001b[38;5;241;43m1\u001b[39;49m\u001b[43m)\u001b[49m\n\u001b[1;32m      8\u001b[0m \u001b[38;5;28mprint\u001b[39m(values_sum)\n",
      "\u001b[0;31mTypeError\u001b[0m: print_args_and_sum() missing 1 required positional argument: 'b'"
     ]
    }
   ],
   "source": [
    "def print_args_and_sum(a, b, c=3):\n",
    "    print(f\"a={a}, b={b}, c={c}\")\n",
    "\n",
    "    return a + b + c\n",
    "\n",
    "\n",
    "values_sum = print_args_and_sum(1)\n",
    "print(values_sum)"
   ]
  },
  {
   "cell_type": "markdown",
   "id": "97d35907",
   "metadata": {
    "slideshow": {
     "slide_type": "subslide"
    }
   },
   "source": [
    "### The scope of function variables"
   ]
  },
  {
   "cell_type": "markdown",
   "id": "121c9fdf",
   "metadata": {},
   "source": [
    "<span style=\"color:indianred\">scope</span> of a variable is the technical term to indicate the parts of your code where that variable will be known to the interpreter"
   ]
  },
  {
   "cell_type": "markdown",
   "id": "6c726405",
   "metadata": {
    "slideshow": {
     "slide_type": "fragment"
    }
   },
   "source": [
    "Variables defined inside the function will live only during the execution of the function!"
   ]
  },
  {
   "cell_type": "code",
   "execution_count": 3,
   "id": "dd4fed8a",
   "metadata": {
    "slideshow": {
     "slide_type": "subslide"
    }
   },
   "outputs": [
    {
     "ename": "NameError",
     "evalue": "name 'local_sum_variable' is not defined",
     "output_type": "error",
     "traceback": [
      "\u001b[0;31m---------------------------------------------------------------------------\u001b[0m",
      "\u001b[0;31mNameError\u001b[0m                                 Traceback (most recent call last)",
      "Cell \u001b[0;32mIn[3], line 17\u001b[0m\n\u001b[1;32m     13\u001b[0m d \u001b[38;5;241m=\u001b[39m sum_vals(a, b)\n\u001b[1;32m     15\u001b[0m \u001b[38;5;66;03m# this will fail, as the scope of this variable is only the function body: \u001b[39;00m\n\u001b[1;32m     16\u001b[0m \u001b[38;5;66;03m# it will live and die within the function execution:\u001b[39;00m\n\u001b[0;32m---> 17\u001b[0m \u001b[38;5;28mprint\u001b[39m(\u001b[43mlocal_sum_variable\u001b[49m)\n",
      "\u001b[0;31mNameError\u001b[0m: name 'local_sum_variable' is not defined"
     ]
    }
   ],
   "source": [
    "def sum_vals(a, b):\n",
    "    local_sum_variable = a + b\n",
    "    return local_sum_variable\n",
    "\n",
    "\n",
    "\n",
    "a = 1\n",
    "b = 2\n",
    "d = sum_vals(a, b)\n",
    "\n",
    "a = 2\n",
    "b = 3\n",
    "d = sum_vals(a, b)\n",
    "\n",
    "# this will fail, as the scope of this variable is only the function body: \n",
    "# it will live and die within the function execution:\n",
    "print(local_sum_variable)"
   ]
  },
  {
   "cell_type": "markdown",
   "id": "45c86f05",
   "metadata": {
    "slideshow": {
     "slide_type": "subslide"
    }
   },
   "source": [
    "[A resource that you can use to explore scopes and variable assignments on and out from functions is [Python tutor](https://pythontutor.com/render.html#mode=display), a tool that helps you display the flow of small snippets of python code. Try it out if you want! (but don't worry if it looks confusing - it can be a bit advanced)]"
   ]
  },
  {
   "cell_type": "markdown",
   "id": "2cccad32",
   "metadata": {
    "slideshow": {
     "slide_type": "subslide"
    }
   },
   "source": [
    "On the other side, functions can have access to variables defined outside the function. However, we should not use them in the function code!"
   ]
  },
  {
   "cell_type": "code",
   "execution_count": 6,
   "id": "caf034e7",
   "metadata": {
    "slideshow": {
     "slide_type": "subslide"
    }
   },
   "outputs": [
    {
     "name": "stdout",
     "output_type": "stream",
     "text": [
      "[1, 2]\n"
     ]
    }
   ],
   "source": [
    "def sum_vals(a, b):\n",
    "    # This will not fail. However, it should be avoided in general! it makes running the function\n",
    "    # implicitely relying on code in the rest script.\n",
    "    # This line will fail if we move the function to another notebook!\n",
    "    print(a_var_not_passed)  \n",
    "    return a + b\n",
    "\n",
    "\n",
    "a = 1\n",
    "b = 2\n",
    "a_var_not_passed = [1, 2]\n",
    "d = sum_vals(a, b)\n"
   ]
  },
  {
   "cell_type": "markdown",
   "id": "2d22a6ff",
   "metadata": {
    "slideshow": {
     "slide_type": "subslide"
    }
   },
   "source": [
    "A function should in general be an **independent** piece of code that can be executed everywhere. If we make it dependent on variables in the script this makes it very context dependent! (you won't be able to run it in another notebook or script) "
   ]
  },
  {
   "cell_type": "markdown",
   "id": "5568f623",
   "metadata": {
    "slideshow": {
     "slide_type": "subslide"
    }
   },
   "source": [
    "## Side effects\n",
    "\n",
    "**Avoid <span style=\"color:indianred\">side effects</span>!** Do not modify the passed values or variables existing ouside the function scope. \n",
    "\n",
    "If you want to do it, do it consciously and make it very explicit in the name of the function or in the docstring!"
   ]
  },
  {
   "cell_type": "code",
   "execution_count": 10,
   "id": "b842d900",
   "metadata": {
    "slideshow": {
     "slide_type": "subslide"
    }
   },
   "outputs": [
    {
     "name": "stdout",
     "output_type": "stream",
     "text": [
      "Last element is:  3\n",
      "[1, 2, 3]\n"
     ]
    }
   ],
   "source": [
    "# Here we will have troubles: the code modifies the list by popping out elements.\n",
    "# A possible solution would be making a copy inside the function \n",
    "# (or write differently the code, but this is just an example)\n",
    "\n",
    "a_list = [1, 2, 3]\n",
    "\n",
    "def take_last(a_list):\n",
    "    a_list_copy = a_list.copy()\n",
    "    return a_list_copy.pop()  # this affects the original list\n",
    "\n",
    "a = take_last(a_list)\n",
    "print(\"Last element is: \", a)\n",
    "print(a_list)"
   ]
  },
  {
   "cell_type": "markdown",
   "id": "5f7a7a94",
   "metadata": {
    "slideshow": {
     "slide_type": "subslide"
    }
   },
   "source": [
    "Sometimes you want to change input variables (eg, when you don't want \n",
    "to duplicate large datasets in memory). In those cases functions\n",
    "should be very explicitly indicating this way of operating on variables.\n",
    "\n",
    "\n",
    "<span style=\"color:indianred\">inplace changes</span> is the term we use to describe modifications to arguments inside the function"
   ]
  },
  {
   "cell_type": "code",
   "execution_count": null,
   "id": "d231009d",
   "metadata": {
    "slideshow": {
     "slide_type": "subslide"
    }
   },
   "outputs": [],
   "source": [
    "def double_list_values_inplace(input_list):\n",
    "    \"\"\"This function doubles values inside a list INPLACE.\n",
    "    \"\"\"\n",
    "    for index, value in enumerate(input_list):\n",
    "        input_list[index] = value*2\n",
    "        \n",
    "    # Note that I do not need to return any value here: I'm changing input_list directly!\n",
    "        \n",
    "str_list = [1, 10, 23]\n",
    "print(str_list)\n",
    "double_list_values_inplace(str_list)\n",
    "print(str_list)  # the same list will contain different values now"
   ]
  },
  {
   "cell_type": "code",
   "execution_count": null,
   "id": "e9be6e62",
   "metadata": {
    "slideshow": {
     "slide_type": "subslide"
    }
   },
   "outputs": [],
   "source": [
    "# Make sure you understand why the above function is different from the following:\n",
    "\n",
    "def double_list_values(input_list):\n",
    "    return [val * 2 for val in input_list]"
   ]
  },
  {
   "cell_type": "markdown",
   "id": "3f88965b",
   "metadata": {
    "slideshow": {
     "slide_type": "subslide"
    }
   },
   "source": [
    "# Imported functions"
   ]
  },
  {
   "cell_type": "markdown",
   "id": "b4d6c1ee",
   "metadata": {},
   "source": [
    "Many times you will import functions from external modules, like `random`. the functions docs give you all the information you need about how to use the function:"
   ]
  },
  {
   "cell_type": "code",
   "execution_count": 11,
   "id": "83b5a560",
   "metadata": {},
   "outputs": [],
   "source": [
    "import random\n",
    "\n",
    "?random.randint"
   ]
  },
  {
   "cell_type": "markdown",
   "id": "24911992",
   "metadata": {
    "slideshow": {
     "slide_type": "subslide"
    }
   },
   "source": [
    "(Practical 0.4.0)"
   ]
  },
  {
   "cell_type": "markdown",
   "id": "7220db85",
   "metadata": {
    "slideshow": {
     "slide_type": "slide"
    }
   },
   "source": [
    "## Classes and objects\n",
    "\n",
    "Deep down the rabbit (Python) hole..."
   ]
  },
  {
   "cell_type": "markdown",
   "id": "ec742383",
   "metadata": {
    "slideshow": {
     "slide_type": "subslide"
    }
   },
   "source": [
    "<div style=\"display: block; margin-left: auto; margin-right: auto; width: 50%;\">\n",
    "  <img src=\"./files/class_structure.jpeg\" width=\"450\" height=\"auto\" />\n",
    "</div>\n",
    "\n",
    "(credits: Heather)"
   ]
  },
  {
   "cell_type": "markdown",
   "id": "9d8f8fae",
   "metadata": {
    "slideshow": {
     "slide_type": "subslide"
    }
   },
   "source": [
    "## Object-oriented programming (OOP)"
   ]
  },
  {
   "cell_type": "markdown",
   "id": "7c26d16b",
   "metadata": {},
   "source": [
    "**Disclaimer 0:** \n",
    "\n",
    "Objects can be confusing at first. You're entering the realm of True Programming Problems! Some concepts might feel a bit metaphysical."
   ]
  },
  {
   "cell_type": "markdown",
   "id": "e3df9290",
   "metadata": {},
   "source": [
    "**Disclaimer 1:**\n",
    "\n",
    "This lecture is aimed more at understanding/reading existing code than at implementation. You probably won't write a lot of classes, but the concepts are very important to understand more Python code!"
   ]
  },
  {
   "cell_type": "markdown",
   "id": "5a55f23c",
   "metadata": {
    "slideshow": {
     "slide_type": "subslide"
    }
   },
   "source": [
    "<span style=\"color:indianred\">Object-oriented programming</span> is a programming paradigm based on the concept of <span style=\"color:indianred\">objects</span>, entities that _bind together data and operations on those data_."
   ]
  },
  {
   "cell_type": "markdown",
   "id": "d82bee46",
   "metadata": {
    "slideshow": {
     "slide_type": "subslide"
    }
   },
   "source": [
    "## An example\n",
    "\n",
    "Let's start with an example..."
   ]
  },
  {
   "cell_type": "markdown",
   "id": "b2952947",
   "metadata": {
    "slideshow": {
     "slide_type": "subslide"
    }
   },
   "source": [
    "Imagine the following scenario:\n",
    "\n",
    " - You have an experiment, containing data, info on subjects, details on experimental stimulus, etc.\n",
    " - You want to implement some functions that operate on this dataset\n",
    " "
   ]
  },
  {
   "cell_type": "markdown",
   "id": "e6cf2e85",
   "metadata": {
    "slideshow": {
     "slide_type": "subslide"
    }
   },
   "source": [
    "**First option**: one entity -> many variables, many functions:"
   ]
  },
  {
   "cell_type": "code",
   "execution_count": null,
   "id": "7bd0054d",
   "metadata": {},
   "outputs": [],
   "source": [
    "# A bunch of variables referring to the same experiment (not defined for real here):\n",
    "imaging_data = ...\n",
    "stimulus_data = ...\n",
    "sampling_frequency = ...\n",
    "\n",
    "# A bunch of functions operating on those variables (not defined for real here):\n",
    "resample(imaging_data, sampling_frequency, new_frequency=...)\n",
    "crop_on_stimulus(imaging_data, stimulus_data, sampling_frequency, padding=...)"
   ]
  },
  {
   "cell_type": "markdown",
   "id": "a40c0582",
   "metadata": {
    "slideshow": {
     "slide_type": "fragment"
    }
   },
   "source": [
    "But: many variables around, even though we always refer to a single entity"
   ]
  },
  {
   "cell_type": "markdown",
   "id": "df8fc516",
   "metadata": {
    "slideshow": {
     "slide_type": "subslide"
    }
   },
   "source": [
    "**Second option**: one entity -> one variable, many functions:"
   ]
  },
  {
   "cell_type": "code",
   "execution_count": null,
   "id": "ec1f64b7",
   "metadata": {},
   "outputs": [],
   "source": [
    "# A dictionary with bunch of keys referring to the same experiment (not defined for real here):\n",
    "data_dictionary = {\"sampling_frequency\": ...,\n",
    "                   \"imaging_data\": ...,\n",
    "                   \"stimulus_data\": ...}\n",
    "\n",
    "# A bunch of functions operating on this dictionary (not defined for real here):\n",
    "resample(data_dictionary, new_frequency=...)\n",
    "crop_on_stimulus(data_dictionary, padding=...)\n",
    "..."
   ]
  },
  {
   "cell_type": "markdown",
   "id": "91763842",
   "metadata": {
    "slideshow": {
     "slide_type": "fragment"
    }
   },
   "source": [
    "But: notice how we have some functions that always require a given variable to run (`data_dictionary`)."
   ]
  },
  {
   "cell_type": "markdown",
   "id": "2f51a222",
   "metadata": {
    "slideshow": {
     "slide_type": "subslide"
    }
   },
   "source": [
    "It could be useful to represent together data that refer to some entity, and operations that we can do on them!"
   ]
  },
  {
   "cell_type": "markdown",
   "id": "20f2eb51",
   "metadata": {
    "slideshow": {
     "slide_type": "subslide"
    }
   },
   "source": [
    "## \\*Enter objects\\*"
   ]
  },
  {
   "cell_type": "markdown",
   "id": "19d90171",
   "metadata": {
    "slideshow": {
     "slide_type": "fragment"
    }
   },
   "source": [
    "Objects are entities that keep together:"
   ]
  },
  {
   "cell_type": "markdown",
   "id": "13789edb",
   "metadata": {},
   "source": [
    " - <span style=\"color:indianred\">Attributes</span>: similar to entries in a dictionary, values of any types kept together in the same place"
   ]
  },
  {
   "cell_type": "markdown",
   "id": "6fa873ef",
   "metadata": {},
   "source": [
    " - <span style=\"color:indianred\">Methods</span>: similar to functions, but operating with and on the attributes of an object (and potentially taking additional inputs)"
   ]
  },
  {
   "cell_type": "markdown",
   "id": "802fcc45",
   "metadata": {
    "slideshow": {
     "slide_type": "subslide"
    }
   },
   "source": [
    "Advantages of object-oriented programming:\n",
    "\n",
    " - represent together data and procedures operating on them\n",
    " - flexible data interface (\"A dictionary on steroids\")\n",
    " - (advanced: nicely define what to expose and what to keep private (abstraction - more on this at the end))"
   ]
  },
  {
   "cell_type": "markdown",
   "id": "a7be77eb",
   "metadata": {
    "slideshow": {
     "slide_type": "subslide"
    }
   },
   "source": [
    "## An example\n",
    "\n",
    "Let's look at an example: an object keeping together experimental metadata info and loading functions"
   ]
  },
  {
   "cell_type": "code",
   "execution_count": 12,
   "id": "0798fcbf",
   "metadata": {
    "slideshow": {
     "slide_type": "subslide"
    }
   },
   "outputs": [],
   "source": [
    "# You don't need to look at code in this cell for now! (Here we are defining the class for our object)\n",
    "class ParticipantData:\n",
    "    \"\"\"Represent data from an experimental subject.\n",
    "    \n",
    "    Methods:\n",
    "    =======\n",
    "    \n",
    "    get_data_path: ...\n",
    "    \n",
    "    get_exp_data: ...\n",
    "    \n",
    "    get_exp_metadata: ...\n",
    "    \n",
    "    Attributes:\n",
    "    ===========\n",
    "    ...\n",
    "    \n",
    "    \"\"\"\n",
    "    def __init__(self, participant_id, age, condition, base_path=\"/path/to/data\"):\n",
    "        self.participant_id = participant_id\n",
    "        self.age = age\n",
    "        self.condition = condition\n",
    "        self.base_path = base_path\n",
    "        self.experiment_name = \"Experiment 1\"\n",
    "    \n",
    "    def get_data_path(self):\n",
    "        \"\"\"Generates a file path for participant data based on their ID and condition.\"\"\"\n",
    "        return f\"{self.base_path}/subject_{self.participant_id}_{self.condition}.csv\"\n",
    "    \n",
    "    def get_exp_metadata(self):\n",
    "        \"\"\"Return participant matadata.\"\"\"\n",
    "        return {\n",
    "            \"id\": self.participant_id,\n",
    "            \"age\": self.age,\n",
    "            \"condition\": self.condition,\n",
    "        }\n",
    "    \n",
    "    def get_exp_data(self):\n",
    "        \"\"\"Loads data for the participant from a file.\"\"\"\n",
    "        data_path = self.get_data_path()\n",
    "        print(f\"Loading data from {data_path}...\")  # We are not really loading here\n",
    "        return [1, 2, 3]  # Dummy measurements"
   ]
  },
  {
   "cell_type": "code",
   "execution_count": 15,
   "id": "d261245c",
   "metadata": {
    "slideshow": {
     "slide_type": "subslide"
    }
   },
   "outputs": [],
   "source": [
    "# Creation of a ParticipantData object: we pass relevant arguments in round brackets,\n",
    "# as when calling functions. This operation is called \"instantiation\":\n",
    "participant_a_data = ParticipantData(participant_id=\"A\", age=28, condition=\"treatment\")"
   ]
  },
  {
   "cell_type": "markdown",
   "id": "093f5fca",
   "metadata": {
    "slideshow": {
     "slide_type": "subslide"
    }
   },
   "source": [
    "### Attributes"
   ]
  },
  {
   "cell_type": "code",
   "execution_count": 16,
   "id": "86e29d18",
   "metadata": {},
   "outputs": [
    {
     "name": "stdout",
     "output_type": "stream",
     "text": [
      "28\n",
      "Experiment 1\n"
     ]
    }
   ],
   "source": [
    "# This object has a bunch of attributes; \n",
    "# in this case, participant_id, age, condition, experiment_name\n",
    "# (Note that objects can have attributes that \n",
    "# we did not pass in the instantiation!\n",
    "# in this case, experiment_name)\n",
    "\n",
    "# We access them using the `object_name.attribute_name` syntax:\n",
    "print(participant_a_data.age)\n",
    "\n",
    "print(participant_a_data.experiment_name)"
   ]
  },
  {
   "cell_type": "markdown",
   "id": "cf085791",
   "metadata": {
    "slideshow": {
     "slide_type": "subslide"
    }
   },
   "source": [
    "Access attributes is conceptually quite similar to access a dictionary, just with a different syntax (`obj_name.attr_name` instead of `dict_name[\"key\"]`)!"
   ]
  },
  {
   "cell_type": "code",
   "execution_count": 17,
   "id": "1ceb0af1",
   "metadata": {},
   "outputs": [
    {
     "data": {
      "text/plain": [
       "28"
      ]
     },
     "execution_count": 17,
     "metadata": {},
     "output_type": "execute_result"
    }
   ],
   "source": [
    "# This is a dictionary and its entry:\n",
    "participant_data_dict = {\"age\": 28, \"participant_id\": \"A\"}\n",
    "participant_data_dict[\"age\"]"
   ]
  },
  {
   "cell_type": "code",
   "execution_count": 9,
   "id": "f407b378",
   "metadata": {},
   "outputs": [
    {
     "data": {
      "text/plain": [
       "28"
      ]
     },
     "execution_count": 9,
     "metadata": {},
     "output_type": "execute_result"
    }
   ],
   "source": [
    "# This is an object and its attribute:\n",
    "participant_data_obj = ParticipantData(participant_id=\"A\", age=28, condition=\"treatment\")\n",
    "participant_data_obj.age"
   ]
  },
  {
   "cell_type": "markdown",
   "id": "4fd7b9f7",
   "metadata": {
    "slideshow": {
     "slide_type": "subslide"
    }
   },
   "source": [
    "There are several advantages with using an object:\n",
    " - we force all objects to have some entries (_e.g._ id, age, condition)\n",
    " - we can implement methods operating on those entries (see later)"
   ]
  },
  {
   "cell_type": "markdown",
   "id": "2b2bbb37",
   "metadata": {
    "slideshow": {
     "slide_type": "subslide"
    }
   },
   "source": [
    "We can actually have a look at all attributes of an object with the `.__dict__` attribute (this is not something you do often, most of the times you'll know what you need from the docs):"
   ]
  },
  {
   "cell_type": "code",
   "execution_count": 18,
   "id": "40813fed",
   "metadata": {
    "slideshow": {
     "slide_type": "-"
    }
   },
   "outputs": [
    {
     "data": {
      "text/plain": [
       "{'participant_id': 'A',\n",
       " 'age': 28,\n",
       " 'condition': 'treatment',\n",
       " 'base_path': '/path/to/data',\n",
       " 'experiment_name': 'Experiment 1'}"
      ]
     },
     "execution_count": 18,
     "metadata": {},
     "output_type": "execute_result"
    }
   ],
   "source": [
    "# There is (most of the times) a .__dict__ attribute containing all attributes!\n",
    "participant_a_data.__dict__"
   ]
  },
  {
   "cell_type": "code",
   "execution_count": 19,
   "id": "aca60ea6",
   "metadata": {},
   "outputs": [
    {
     "data": {
      "text/plain": [
       "{'participant_id': 'A',\n",
       " 'age': 28,\n",
       " 'condition': 'treatment',\n",
       " 'base_path': '/path/to/data',\n",
       " 'experiment_name': 'Experiment 1'}"
      ]
     },
     "execution_count": 19,
     "metadata": {},
     "output_type": "execute_result"
    }
   ],
   "source": [
    "# Alternatively, we can use the vars() function\n",
    "vars(participant_a_data)"
   ]
  },
  {
   "cell_type": "markdown",
   "id": "7fec9873",
   "metadata": {
    "slideshow": {
     "slide_type": "subslide"
    }
   },
   "source": [
    "### Methods\n",
    "\n",
    "Methods are functions that are called directly from objects and operate upon their values.\n",
    "\n",
    "You can generally read about methods in the object documentation (accessible with the usual `?` syntax)"
   ]
  },
  {
   "cell_type": "code",
   "execution_count": 20,
   "id": "f19e20a2",
   "metadata": {},
   "outputs": [],
   "source": [
    "?participant_a_data"
   ]
  },
  {
   "cell_type": "code",
   "execution_count": 21,
   "id": "e87ba0a7",
   "metadata": {
    "slideshow": {
     "slide_type": "subslide"
    }
   },
   "outputs": [
    {
     "data": {
      "text/plain": [
       "'/path/to/data/subject_A_treatment.csv'"
      ]
     },
     "execution_count": 21,
     "metadata": {},
     "output_type": "execute_result"
    }
   ],
   "source": [
    "participant_a_data.get_data_path()  # get location of subject data"
   ]
  },
  {
   "cell_type": "code",
   "execution_count": 22,
   "id": "a71b045b",
   "metadata": {},
   "outputs": [
    {
     "name": "stdout",
     "output_type": "stream",
     "text": [
      "Loading data from /path/to/data/subject_A_treatment.csv...\n"
     ]
    }
   ],
   "source": [
    "data = participant_a_data.get_exp_data()  # load subject data"
   ]
  },
  {
   "cell_type": "markdown",
   "id": "b9403d51",
   "metadata": {},
   "source": [
    "Many times with methods we don't need to pass arguments! They already have all the attributes of the object to operate on."
   ]
  },
  {
   "cell_type": "markdown",
   "id": "2220c848",
   "metadata": {
    "slideshow": {
     "slide_type": "subslide"
    }
   },
   "source": [
    "### Variables as objects\n",
    "\n",
    "We have already introduced the concept of methods: e.g., with lists and strings:"
   ]
  },
  {
   "cell_type": "code",
   "execution_count": 23,
   "id": "565d71d1",
   "metadata": {},
   "outputs": [
    {
     "data": {
      "text/plain": [
       "['Some', 'text']"
      ]
     },
     "execution_count": 23,
     "metadata": {},
     "output_type": "execute_result"
    }
   ],
   "source": [
    "a_string = \"Some text\"\n",
    "\n",
    "a_string.split()  # This is a method! It operates on the text stored in `a_string`\n"
   ]
  },
  {
   "cell_type": "markdown",
   "id": "1e419111",
   "metadata": {
    "slideshow": {
     "slide_type": "subslide"
    }
   },
   "source": [
    "### Classes and objects\n",
    "\n",
    "To use objects, we first have to define (or to import) classes."
   ]
  },
  {
   "cell_type": "markdown",
   "id": "ed94fbe0",
   "metadata": {
    "slideshow": {
     "slide_type": "fragment"
    }
   },
   "source": [
    "- Classes are the blueprint/template from which we generate objects"
   ]
  },
  {
   "cell_type": "markdown",
   "id": "2ac72df1",
   "metadata": {
    "slideshow": {
     "slide_type": "fragment"
    }
   },
   "source": [
    "- In the definition of a class, we write all required arguments for that class, and we define its methods"
   ]
  },
  {
   "cell_type": "markdown",
   "id": "efb4e4c1",
   "metadata": {
    "slideshow": {
     "slide_type": "subslide"
    }
   },
   "source": [
    "- A class stands to objects in the way the concept of a chair stands to each of the real-world chairs you see around, with their specific material, number of legs, etc."
   ]
  },
  {
   "cell_type": "markdown",
   "id": "ae2cd982",
   "metadata": {
    "slideshow": {
     "slide_type": "subslide"
    }
   },
   "source": [
    "For example, using the same \"template\" for subject data above (the class), we can produce different objects for each one of multiple subjects. Objects will have the same methods, and same attributes with different values:"
   ]
  },
  {
   "cell_type": "code",
   "execution_count": null,
   "id": "c2156f00",
   "metadata": {},
   "outputs": [],
   "source": [
    "# An object of the `ParticipantData` class:\n",
    "participant_a_data = ParticipantData(participant_id=\"A\", age=28, condition=\"treatment\")\n",
    "\n",
    "# A different object of the same `ParticipantData` class:\n",
    "participant_b_data = ParticipantData(participant_id=\"B\", age=35, condition=\"control\")"
   ]
  },
  {
   "cell_type": "markdown",
   "id": "c78c2542",
   "metadata": {
    "slideshow": {
     "slide_type": "subslide"
    }
   },
   "source": [
    "## Objects and types in Python\n",
    "\n",
    "You were not aware of this, but you're already a proficient user of objects!\n",
    "\n",
    "In fact, in Python all variables are objects of different classes (the data types). If you remember, you were calling  methods many times!"
   ]
  },
  {
   "cell_type": "code",
   "execution_count": 24,
   "id": "4757cba3",
   "metadata": {},
   "outputs": [
    {
     "data": {
      "text/plain": [
       "['Some', 'text']"
      ]
     },
     "execution_count": 24,
     "metadata": {},
     "output_type": "execute_result"
    }
   ],
   "source": [
    "text = \"Some text\"  # this is an object of \"str\" class!\n",
    "text.split()  # this is simply a method!"
   ]
  },
  {
   "cell_type": "markdown",
   "id": "4ad9315f",
   "metadata": {},
   "source": [
    "In Python, even simpler variables are actually objects! For example, integers:"
   ]
  },
  {
   "cell_type": "code",
   "execution_count": 25,
   "id": "332859d6",
   "metadata": {
    "slideshow": {
     "slide_type": "-"
    }
   },
   "outputs": [
    {
     "data": {
      "text/plain": [
       "b'\\x01'"
      ]
     },
     "execution_count": 25,
     "metadata": {},
     "output_type": "execute_result"
    }
   ],
   "source": [
    "a_int = 1\n",
    "a_int.to_bytes()  # even integers actually have methods!"
   ]
  },
  {
   "cell_type": "markdown",
   "id": "d892bb19",
   "metadata": {
    "slideshow": {
     "slide_type": "subslide"
    }
   },
   "source": [
    "(Advanced: if you play around with standard types, you'll see that they do not really have attributes as we described above, only methods; this is because they are implemented in a way that keep the user away from accessing the data represented in the variable to avoid screw-ups. \n",
    "\n",
    "But this is something you do not need to dig into: be aware that variables are objects and forget about it!"
   ]
  },
  {
   "cell_type": "markdown",
   "id": "4a58d92d",
   "metadata": {
    "slideshow": {
     "slide_type": "subslide"
    }
   },
   "source": [
    "### [optional] Inspect objects with `dir()`"
   ]
  },
  {
   "cell_type": "markdown",
   "id": "8355f829",
   "metadata": {},
   "source": [
    "We can check out attributes and methods of a class with the base Python function `dir`"
   ]
  },
  {
   "cell_type": "code",
   "execution_count": 11,
   "id": "96cd905f",
   "metadata": {},
   "outputs": [
    {
     "data": {
      "text/plain": [
       "['__class__',\n",
       " '__delattr__',\n",
       " '__dict__',\n",
       " '__dir__',\n",
       " '__doc__',\n",
       " '__eq__',\n",
       " '__format__',\n",
       " '__ge__',\n",
       " '__getattribute__',\n",
       " '__getstate__',\n",
       " '__gt__',\n",
       " '__hash__',\n",
       " '__init__',\n",
       " '__init_subclass__',\n",
       " '__le__',\n",
       " '__lt__',\n",
       " '__module__',\n",
       " '__ne__',\n",
       " '__new__',\n",
       " '__reduce__',\n",
       " '__reduce_ex__',\n",
       " '__repr__',\n",
       " '__setattr__',\n",
       " '__sizeof__',\n",
       " '__str__',\n",
       " '__subclasshook__',\n",
       " '__weakref__',\n",
       " 'age',\n",
       " 'base_path',\n",
       " 'condition',\n",
       " 'experiment_name',\n",
       " 'get_data_path',\n",
       " 'get_exp_data',\n",
       " 'get_exp_metadata',\n",
       " 'participant_id']"
      ]
     },
     "execution_count": 11,
     "metadata": {},
     "output_type": "execute_result"
    }
   ],
   "source": [
    "participant_a_data = ParticipantData(participant_id=\"A\", age=28, condition=\"treatment\")\n",
    "\n",
    "dir(participant_a_data)"
   ]
  },
  {
   "cell_type": "markdown",
   "id": "ac013eb7",
   "metadata": {},
   "source": [
    "# `getattr()`\n",
    "\n",
    "If we know the name of an attribute or a method, we can retrieve it with `getattr()`:"
   ]
  },
  {
   "cell_type": "code",
   "execution_count": 12,
   "id": "58b67782",
   "metadata": {},
   "outputs": [
    {
     "data": {
      "text/plain": [
       "28"
      ]
     },
     "execution_count": 12,
     "metadata": {},
     "output_type": "execute_result"
    }
   ],
   "source": [
    "getattr(participant_a_data, \"age\")"
   ]
  },
  {
   "cell_type": "markdown",
   "id": "b1971ea5",
   "metadata": {
    "slideshow": {
     "slide_type": "subslide"
    }
   },
   "source": [
    "### `callable()`"
   ]
  },
  {
   "cell_type": "markdown",
   "id": "883500a2",
   "metadata": {},
   "source": [
    "Ultimately, methods are just callable attributes!\n",
    "\n",
    "We can verify what is callable and what is not using the `callable()` function:"
   ]
  },
  {
   "cell_type": "code",
   "execution_count": 15,
   "id": "46e3ddff",
   "metadata": {},
   "outputs": [
    {
     "name": "stdout",
     "output_type": "stream",
     "text": [
      "`age` attribute. Is it callable? False\n",
      "`get_exp_data` attribute. Is it callable? True\n"
     ]
    }
   ],
   "source": [
    "for attr_name in [\"age\", \"get_exp_data\"]:\n",
    "    attr = getattr(participant_a_data, attr_name)  # get attributes (and methods)\n",
    "    is_callable = callable(attr)  # check if they are callable (if yes, they are methods!)\n",
    "    print(f\"`{attr_name}` attribute. Is it callable? {is_callable}\")\n"
   ]
  },
  {
   "cell_type": "code",
   "execution_count": null,
   "id": "4506d11a",
   "metadata": {},
   "outputs": [],
   "source": []
  }
 ],
 "metadata": {
  "celltoolbar": "Slideshow",
  "kernelspec": {
   "display_name": "Python 3 (ipykernel)",
   "language": "python",
   "name": "python3"
  },
  "language_info": {
   "codemirror_mode": {
    "name": "ipython",
    "version": 3
   },
   "file_extension": ".py",
   "mimetype": "text/x-python",
   "name": "python",
   "nbconvert_exporter": "python",
   "pygments_lexer": "ipython3",
   "version": "3.11.6"
  }
 },
 "nbformat": 4,
 "nbformat_minor": 5
}
