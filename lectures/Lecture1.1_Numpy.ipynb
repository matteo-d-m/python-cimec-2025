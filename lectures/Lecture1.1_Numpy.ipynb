{
 "cells": [
  {
   "cell_type": "markdown",
   "id": "4904afe2",
   "metadata": {
    "slideshow": {
     "slide_type": "slide"
    }
   },
   "source": [
    "# Python for (open) Neuroscience\n",
    "\n",
    "_Lecture 1.1_ - More on `numpy`\n",
    "\n",
    "Luigi Petrucco\n",
    "\n",
    "[![Open In Colab](https://colab.research.google.com/assets/colab-badge.svg)](https://colab.research.google.com/github/vigji/python-cimec-2025/blob/main/lectures/Lecture1.1_Numpy.ipynb)"
   ]
  },
  {
   "cell_type": "markdown",
   "id": "5c8f4bc1",
   "metadata": {
    "slideshow": {
     "slide_type": "subslide"
    }
   },
   "source": [
    "## Lecture outline\n",
    "\n",
    "- Transforming and combining arrays (and practicals)\n",
    "- Operations with arrays (and practicals)\n",
    "- Searching and sorting arrays"
   ]
  },
  {
   "cell_type": "markdown",
   "id": "e256e97f",
   "metadata": {
    "slideshow": {
     "slide_type": "subslide"
    }
   },
   "source": [
    "## Transforming and combining arrays"
   ]
  },
  {
   "cell_type": "markdown",
   "id": "c13fc91a",
   "metadata": {
    "slideshow": {
     "slide_type": "subslide"
    }
   },
   "source": [
    "### `.T`"
   ]
  },
  {
   "cell_type": "markdown",
   "id": "f6eba3f5",
   "metadata": {},
   "source": [
    "We can get a **transposed view** (NOT A COPY) of a matrix with the `.T` attribute:"
   ]
  },
  {
   "cell_type": "code",
   "execution_count": 2,
   "id": "3f81260f",
   "metadata": {},
   "outputs": [
    {
     "name": "stdout",
     "output_type": "stream",
     "text": [
      "[[6 8]\n",
      " [6 4]\n",
      " [1 9]]\n"
     ]
    }
   ],
   "source": [
    "import numpy as np\n",
    "\n",
    "m = np.random.randint(0, 10, (3,2))\n",
    "print(m)"
   ]
  },
  {
   "cell_type": "code",
   "execution_count": 3,
   "id": "334c461b",
   "metadata": {},
   "outputs": [
    {
     "name": "stdout",
     "output_type": "stream",
     "text": [
      "[[6 6 1]\n",
      " [8 4 9]]\n"
     ]
    }
   ],
   "source": [
    "m_t = m.T\n",
    "print(m_t)"
   ]
  },
  {
   "cell_type": "code",
   "execution_count": 22,
   "id": "c07c472e",
   "metadata": {
    "slideshow": {
     "slide_type": "subslide"
    }
   },
   "outputs": [
    {
     "data": {
      "text/plain": [
       "array([[2., 1.],\n",
       "       [1., 1.],\n",
       "       [1., 1.]])"
      ]
     },
     "execution_count": 22,
     "metadata": {},
     "output_type": "execute_result"
    }
   ],
   "source": [
    "m_t[0, 0] = 2  # this is a view: if we change values in the transposed array, we change the original as well:\n",
    "m"
   ]
  },
  {
   "cell_type": "markdown",
   "id": "2abd3f73",
   "metadata": {
    "slideshow": {
     "slide_type": "subslide"
    }
   },
   "source": [
    "### `.flatten()`\n",
    "\n",
    "We can flatten all values of an N-dimensional array into a 1D array with the `.flatten()` syntax. This will make **a copy of the array**!"
   ]
  },
  {
   "cell_type": "code",
   "execution_count": 5,
   "id": "17f26b2c",
   "metadata": {},
   "outputs": [
    {
     "data": {
      "text/plain": [
       "array([1., 1., 1., 1., 1., 1.])"
      ]
     },
     "execution_count": 5,
     "metadata": {},
     "output_type": "execute_result"
    }
   ],
   "source": [
    "m = np.ones((3,2))\n",
    "m.flatten()"
   ]
  },
  {
   "cell_type": "markdown",
   "id": "6f895b43",
   "metadata": {
    "slideshow": {
     "slide_type": "subslide"
    }
   },
   "source": [
    "### `np.concatenate()`\n",
    "\n",
    "We can concatenate arrays along any dimension by putting them in a list and pass the list to the `np.concatenate()` function:"
   ]
  },
  {
   "cell_type": "code",
   "execution_count": 8,
   "id": "d000d326",
   "metadata": {},
   "outputs": [
    {
     "data": {
      "text/plain": [
       "array([0., 0., 0., 1., 1., 1.])"
      ]
     },
     "execution_count": 8,
     "metadata": {},
     "output_type": "execute_result"
    }
   ],
   "source": [
    "arr_list = [np.zeros(3), np.ones(3)]\n",
    "\n",
    "np.concatenate(arr_list) "
   ]
  },
  {
   "cell_type": "markdown",
   "id": "2cf30e5c",
   "metadata": {
    "slideshow": {
     "slide_type": "subslide"
    }
   },
   "source": [
    "By default, we concatenate over the first dimension:"
   ]
  },
  {
   "cell_type": "code",
   "execution_count": 136,
   "id": "0ad897fe",
   "metadata": {},
   "outputs": [
    {
     "data": {
      "text/plain": [
       "[array([[0., 0., 0.],\n",
       "        [0., 0., 0.]]),\n",
       " array([[1., 1., 1.]])]"
      ]
     },
     "execution_count": 136,
     "metadata": {},
     "output_type": "execute_result"
    }
   ],
   "source": [
    "arr_list = [np.zeros((2,3)), np.ones((1,3))]\n",
    "arr_list"
   ]
  },
  {
   "cell_type": "code",
   "execution_count": 137,
   "id": "a137337e",
   "metadata": {},
   "outputs": [
    {
     "data": {
      "text/plain": [
       "array([[0., 0., 0.],\n",
       "       [0., 0., 0.],\n",
       "       [1., 1., 1.]])"
      ]
     },
     "execution_count": 137,
     "metadata": {},
     "output_type": "execute_result"
    }
   ],
   "source": [
    "np.concatenate(arr_list)  # if ndims > 1 by default we concatenate over the first dimension"
   ]
  },
  {
   "cell_type": "markdown",
   "id": "afcf316a",
   "metadata": {
    "slideshow": {
     "slide_type": "subslide"
    }
   },
   "source": [
    "but we can pass an `axis` argument to change the default behavior:"
   ]
  },
  {
   "cell_type": "code",
   "execution_count": 6,
   "id": "0cffde82",
   "metadata": {},
   "outputs": [
    {
     "data": {
      "text/plain": [
       "array([[0., 0., 1., 1.],\n",
       "       [0., 0., 1., 1.],\n",
       "       [0., 0., 1., 1.]])"
      ]
     },
     "execution_count": 6,
     "metadata": {},
     "output_type": "execute_result"
    }
   ],
   "source": [
    "arr_list = [np.zeros((3,2)), np.ones((3,2))]\n",
    "arr_list\n",
    "np.concatenate(arr_list, axis=1) "
   ]
  },
  {
   "cell_type": "markdown",
   "id": "ec1b45ef",
   "metadata": {
    "slideshow": {
     "slide_type": "subslide"
    }
   },
   "source": [
    "### `np.stack()`"
   ]
  },
  {
   "cell_type": "markdown",
   "id": "fd09cca0",
   "metadata": {},
   "source": [
    "We can pile up arrays over a new dimension with  `np.stack()`:"
   ]
  },
  {
   "cell_type": "code",
   "execution_count": 25,
   "id": "5c079461",
   "metadata": {},
   "outputs": [
    {
     "data": {
      "text/plain": [
       "array([[[0., 0.],\n",
       "        [0., 0.],\n",
       "        [0., 0.]],\n",
       "\n",
       "       [[1., 1.],\n",
       "        [1., 1.],\n",
       "        [1., 1.]]])"
      ]
     },
     "execution_count": 25,
     "metadata": {},
     "output_type": "execute_result"
    }
   ],
   "source": [
    "arr_list = [np.zeros((3, 2)), np.ones((3, 2))]\n",
    "#arr_list\n",
    "np.stack(arr_list)"
   ]
  },
  {
   "cell_type": "markdown",
   "id": "0ac9540d",
   "metadata": {
    "slideshow": {
     "slide_type": "subslide"
    }
   },
   "source": [
    "## Array operations"
   ]
  },
  {
   "cell_type": "markdown",
   "id": "3347af5c",
   "metadata": {},
   "source": [
    "We obviously want to do some math with those arrays!"
   ]
  },
  {
   "cell_type": "markdown",
   "id": "9f174807",
   "metadata": {
    "slideshow": {
     "slide_type": "subslide"
    }
   },
   "source": [
    "### Operations with numbers"
   ]
  },
  {
   "cell_type": "markdown",
   "id": "8f022018",
   "metadata": {},
   "source": [
    "Operations with arrays are **by default element-wise**! (performed separately on every number of the array)"
   ]
  },
  {
   "cell_type": "markdown",
   "id": "621cdca1",
   "metadata": {
    "slideshow": {
     "slide_type": "subslide"
    }
   },
   "source": [
    "Sum / subtraction / multiplication / division apply to individual entries of the array:"
   ]
  },
  {
   "cell_type": "code",
   "execution_count": 27,
   "id": "235c1b07",
   "metadata": {},
   "outputs": [
    {
     "data": {
      "text/plain": [
       "array([2., 2., 2.])"
      ]
     },
     "execution_count": 27,
     "metadata": {},
     "output_type": "execute_result"
    }
   ],
   "source": [
    "np.ones(3) + 1"
   ]
  },
  {
   "cell_type": "code",
   "execution_count": 28,
   "id": "47cea6e6",
   "metadata": {},
   "outputs": [
    {
     "data": {
      "text/plain": [
       "array([[100., 100., 100.],\n",
       "       [  1.,   1.,   1.],\n",
       "       [  1.,   1.,   1.],\n",
       "       [  1.,   1.,   1.]])"
      ]
     },
     "execution_count": 28,
     "metadata": {},
     "output_type": "execute_result"
    }
   ],
   "source": [
    "my_arr = np.ones((4,3))\n",
    "my_arr[0, :] = my_arr[0, :]*100  # syntax equivalent to my_arr[0, :] = my_arr[0, :] * 100\n",
    "my_arr"
   ]
  },
  {
   "cell_type": "markdown",
   "id": "c8a487de",
   "metadata": {
    "slideshow": {
     "slide_type": "subslide"
    }
   },
   "source": [
    "Exponentiation also works element-wise:"
   ]
  },
  {
   "cell_type": "code",
   "execution_count": 30,
   "id": "3527a015",
   "metadata": {},
   "outputs": [
    {
     "data": {
      "text/plain": [
       "array([ 1,  8, 27])"
      ]
     },
     "execution_count": 30,
     "metadata": {},
     "output_type": "execute_result"
    }
   ],
   "source": [
    "np.array((1,2,3))**3"
   ]
  },
  {
   "cell_type": "markdown",
   "id": "962c5c09",
   "metadata": {
    "slideshow": {
     "slide_type": "subslide"
    }
   },
   "source": [
    "### Operations between arrays"
   ]
  },
  {
   "cell_type": "markdown",
   "id": "fe14e1fc",
   "metadata": {
    "slideshow": {
     "slide_type": "subslide"
    }
   },
   "source": [
    "`numpy` works element-wise also when operating between arrays:"
   ]
  },
  {
   "cell_type": "code",
   "execution_count": 33,
   "id": "c6019916",
   "metadata": {},
   "outputs": [
    {
     "data": {
      "text/plain": [
       "array([1, 2, 3])"
      ]
     },
     "execution_count": 33,
     "metadata": {},
     "output_type": "execute_result"
    }
   ],
   "source": [
    "np.array([2, 3, 4]) - np.array([1, 1, 1])"
   ]
  },
  {
   "cell_type": "code",
   "execution_count": 34,
   "id": "41326888",
   "metadata": {},
   "outputs": [
    {
     "data": {
      "text/plain": [
       "array([[0, 0],\n",
       "       [0, 8]])"
      ]
     },
     "execution_count": 34,
     "metadata": {},
     "output_type": "execute_result"
    }
   ],
   "source": [
    "arr_1 = np.array([[1,2],\n",
    "                  [3,4]])\n",
    "arr_2 = np.array([[0,0],\n",
    "                  [0,2]])\n",
    "\n",
    "arr_1 * arr_2"
   ]
  },
  {
   "cell_type": "code",
   "execution_count": 35,
   "id": "bff59d1a",
   "metadata": {},
   "outputs": [
    {
     "data": {
      "text/plain": [
       "array([[ 1,  1],\n",
       "       [ 1, 16]])"
      ]
     },
     "execution_count": 35,
     "metadata": {},
     "output_type": "execute_result"
    }
   ],
   "source": [
    "arr_1 ** arr_2"
   ]
  },
  {
   "cell_type": "markdown",
   "id": "c9335267",
   "metadata": {
    "slideshow": {
     "slide_type": "subslide"
    }
   },
   "source": [
    "Therefore, we normally expect arrays of matching shapes, or we get a `ValueError`!"
   ]
  },
  {
   "cell_type": "code",
   "execution_count": 36,
   "id": "a32540cf",
   "metadata": {},
   "outputs": [
    {
     "ename": "ValueError",
     "evalue": "operands could not be broadcast together with shapes (2,3) (4,5) ",
     "output_type": "error",
     "traceback": [
      "\u001b[0;31m---------------------------------------------------------------------------\u001b[0m",
      "\u001b[0;31mValueError\u001b[0m                                Traceback (most recent call last)",
      "Cell \u001b[0;32mIn[36], line 1\u001b[0m\n\u001b[0;32m----> 1\u001b[0m \u001b[43mnp\u001b[49m\u001b[38;5;241;43m.\u001b[39;49m\u001b[43mones\u001b[49m\u001b[43m(\u001b[49m\u001b[43m(\u001b[49m\u001b[38;5;241;43m2\u001b[39;49m\u001b[43m,\u001b[49m\u001b[43m \u001b[49m\u001b[38;5;241;43m3\u001b[39;49m\u001b[43m)\u001b[49m\u001b[43m)\u001b[49m\u001b[43m \u001b[49m\u001b[38;5;241;43m*\u001b[39;49m\u001b[43m \u001b[49m\u001b[43mnp\u001b[49m\u001b[38;5;241;43m.\u001b[39;49m\u001b[43mones\u001b[49m\u001b[43m(\u001b[49m\u001b[43m(\u001b[49m\u001b[38;5;241;43m4\u001b[39;49m\u001b[43m,\u001b[49m\u001b[43m \u001b[49m\u001b[38;5;241;43m5\u001b[39;49m\u001b[43m)\u001b[49m\u001b[43m)\u001b[49m\n",
      "\u001b[0;31mValueError\u001b[0m: operands could not be broadcast together with shapes (2,3) (4,5) "
     ]
    }
   ],
   "source": [
    "np.ones((2, 3)) * np.ones((4, 5))"
   ]
  },
  {
   "cell_type": "markdown",
   "id": "e089d774",
   "metadata": {},
   "source": [
    "Practicals 1.1.0"
   ]
  },
  {
   "cell_type": "markdown",
   "id": "13fd963f",
   "metadata": {
    "slideshow": {
     "slide_type": "subslide"
    }
   },
   "source": [
    "### Broadcasting"
   ]
  },
  {
   "cell_type": "markdown",
   "id": "692edac2",
   "metadata": {},
   "source": [
    "`numpy` has a smart way of dealing with some scenarios of non-matching dimensions, and we should use it!"
   ]
  },
  {
   "cell_type": "markdown",
   "id": "67687757",
   "metadata": {
    "slideshow": {
     "slide_type": "subslide"
    }
   },
   "source": [
    "Can be a bit tricky at the beginning, but it is very important: we can write very efficient and readable code with it!"
   ]
  },
  {
   "cell_type": "code",
   "execution_count": 38,
   "id": "0a63614f",
   "metadata": {},
   "outputs": [
    {
     "data": {
      "text/plain": [
       "(4, 3)"
      ]
     },
     "execution_count": 38,
     "metadata": {},
     "output_type": "execute_result"
    }
   ],
   "source": [
    "# Assume we have a matrix of data:\n",
    "data = np.array([[ 0.0,  0.0,  0.0],\n",
    "                 [10.0, 10.0, 10.0],\n",
    "                 [20.0, 20.0, 20.0],\n",
    "                 [30.0, 30.0, 30.0]])\n",
    "\n",
    "data.shape"
   ]
  },
  {
   "cell_type": "code",
   "execution_count": 39,
   "id": "d26f1a29",
   "metadata": {},
   "outputs": [
    {
     "data": {
      "text/plain": [
       "array([[-1., -2., -3.],\n",
       "       [ 9.,  8.,  7.],\n",
       "       [19., 18., 17.],\n",
       "       [29., 28., 27.]])"
      ]
     },
     "execution_count": 39,
     "metadata": {},
     "output_type": "execute_result"
    }
   ],
   "source": [
    "offsets = np.array([1.0, 2.0, 3.0])  # we want to add an offset to each data column:\n",
    "data - offsets"
   ]
  },
  {
   "cell_type": "markdown",
   "id": "4dc85980",
   "metadata": {
    "slideshow": {
     "slide_type": "subslide"
    }
   },
   "source": [
    "### What is happening?"
   ]
  },
  {
   "cell_type": "markdown",
   "id": "04b925c2",
   "metadata": {},
   "source": [
    "Numpy automatically infer missing values to create arrays of matching shape, where it can the operate element-wise!"
   ]
  },
  {
   "cell_type": "markdown",
   "id": "ebe2bb1c",
   "metadata": {},
   "source": [
    "![Alt Text](https://numpy.org/doc/stable/_images/broadcasting_2.png)"
   ]
  },
  {
   "cell_type": "markdown",
   "id": "c03397ad",
   "metadata": {
    "slideshow": {
     "slide_type": "subslide"
    }
   },
   "source": [
    "## How does broadcasting work"
   ]
  },
  {
   "cell_type": "markdown",
   "id": "70f356d3",
   "metadata": {},
   "source": [
    "When operating on two arrays, NumPy compares their shapes. It starts **with the trailing** dimension - i.e., the rightmost dimension in the `shape` tuple - and works its way left. In a `(2,3)` matrix, broadcasting will start from columns (the `3` in `(2,3)`) and move on to rows (the `2` in `(2,3)`).\n",
    "\n",
    "Two dimensions are compatible when:\n",
    "\n",
    " - they are equal, or\n",
    " - one of them is 1."
   ]
  },
  {
   "cell_type": "markdown",
   "id": "17bb7075",
   "metadata": {
    "slideshow": {
     "slide_type": "subslide"
    }
   },
   "source": [
    "![Alt Text](https://i0.wp.com/andrewm4894.com/wp-content/uploads/2020/10/Annotation-2020-10-15-133235.jpg?w=486&ssl=1)"
   ]
  },
  {
   "cell_type": "markdown",
   "id": "a5e5dd20",
   "metadata": {
    "slideshow": {
     "slide_type": "subslide"
    }
   },
   "source": [
    "In our case:"
   ]
  },
  {
   "cell_type": "code",
   "execution_count": 42,
   "id": "ea8e1c7a",
   "metadata": {},
   "outputs": [
    {
     "name": "stdout",
     "output_type": "stream",
     "text": [
      "shape a: (4, 3)\n",
      "shape b: (3,)\n"
     ]
    }
   ],
   "source": [
    "print(f\"shape a: {data.shape}\")\n",
    "print(f\"shape b: {offsets.shape}\")"
   ]
  },
  {
   "cell_type": "markdown",
   "id": "129e59f5",
   "metadata": {},
   "source": [
    "Shape b matches shape a over the last dimension, and is propagated over the rest of the dimensions"
   ]
  },
  {
   "cell_type": "markdown",
   "id": "8449c080",
   "metadata": {
    "slideshow": {
     "slide_type": "subslide"
    }
   },
   "source": [
    "For example, this operation will not work!"
   ]
  },
  {
   "cell_type": "code",
   "execution_count": 43,
   "id": "a4324f0c",
   "metadata": {},
   "outputs": [
    {
     "name": "stdout",
     "output_type": "stream",
     "text": [
      "[[0 0 0 0]\n",
      " [1 1 1 1]\n",
      " [2 2 2 2]\n",
      " [3 3 3 3]\n",
      " [4 4 4 4]]\n"
     ]
    }
   ],
   "source": [
    "a = np.concatenate([np.full((1,4), i) for i in range(5)], axis=0)\n",
    "print(a)"
   ]
  },
  {
   "cell_type": "code",
   "execution_count": 45,
   "id": "cf0db310",
   "metadata": {
    "slideshow": {
     "slide_type": "-"
    }
   },
   "outputs": [
    {
     "name": "stdout",
     "output_type": "stream",
     "text": [
      "shape a:  (5, 4)\n",
      "shape b:  (5,)\n"
     ]
    },
    {
     "ename": "ValueError",
     "evalue": "operands could not be broadcast together with shapes (5,4) (5,) ",
     "output_type": "error",
     "traceback": [
      "\u001b[0;31m---------------------------------------------------------------------------\u001b[0m",
      "\u001b[0;31mValueError\u001b[0m                                Traceback (most recent call last)",
      "Cell \u001b[0;32mIn[45], line 6\u001b[0m\n\u001b[1;32m      3\u001b[0m \u001b[38;5;28mprint\u001b[39m(\u001b[38;5;124m\"\u001b[39m\u001b[38;5;124mshape b: \u001b[39m\u001b[38;5;124m\"\u001b[39m, b\u001b[38;5;241m.\u001b[39mshape)\n\u001b[1;32m      5\u001b[0m \u001b[38;5;66;03m# this will not work as the rightmost dimensions are 5 and 4:\u001b[39;00m\n\u001b[0;32m----> 6\u001b[0m \u001b[43ma\u001b[49m\u001b[43m \u001b[49m\u001b[38;5;241;43m+\u001b[39;49m\u001b[43m \u001b[49m\u001b[43mb\u001b[49m \n",
      "\u001b[0;31mValueError\u001b[0m: operands could not be broadcast together with shapes (5,4) (5,) "
     ]
    }
   ],
   "source": [
    "b = np.ones(5)\n",
    "print(\"shape a: \", a.shape)\n",
    "print(\"shape b: \", b.shape)\n",
    "\n",
    "# this will not work as the rightmost dimensions are 5 and 4:\n",
    "a + b "
   ]
  },
  {
   "cell_type": "markdown",
   "id": "44862a7e",
   "metadata": {
    "slideshow": {
     "slide_type": "subslide"
    }
   },
   "source": [
    "To make it work, we can use a trick: add a new \"dummy\" singleton dimension to `b` that will be broadcasted with the syntax `[:, np.newaxis]`"
   ]
  },
  {
   "cell_type": "code",
   "execution_count": 49,
   "id": "80f46caf",
   "metadata": {},
   "outputs": [
    {
     "data": {
      "text/plain": [
       "array([[1.],\n",
       "       [1.],\n",
       "       [1.],\n",
       "       [1.],\n",
       "       [1.]])"
      ]
     },
     "execution_count": 49,
     "metadata": {},
     "output_type": "execute_result"
    }
   ],
   "source": [
    "b[:, np.newaxis]"
   ]
  },
  {
   "cell_type": "code",
   "execution_count": 50,
   "id": "afd2e35a",
   "metadata": {},
   "outputs": [
    {
     "name": "stdout",
     "output_type": "stream",
     "text": [
      "shape a:  (5, 4)\n",
      "shape b_twodim:  (5, 1)\n"
     ]
    },
    {
     "data": {
      "text/plain": [
       "array([[1., 1., 1., 1.],\n",
       "       [2., 2., 2., 2.],\n",
       "       [3., 3., 3., 3.],\n",
       "       [4., 4., 4., 4.],\n",
       "       [5., 5., 5., 5.]])"
      ]
     },
     "execution_count": 50,
     "metadata": {},
     "output_type": "execute_result"
    }
   ],
   "source": [
    "b_twodim = b[:, np.newaxis]  # This does the trick by adding a dummy singleton dimension\n",
    "print(\"shape a: \", a.shape)\n",
    "print(\"shape b_twodim: \", b_twodim.shape)\n",
    "a + b_twodim  # now the last dimension is compatible between the two arrays:"
   ]
  },
  {
   "cell_type": "markdown",
   "id": "cece27c9",
   "metadata": {
    "slideshow": {
     "slide_type": "subslide"
    }
   },
   "source": [
    "Practicals 1.1.1"
   ]
  },
  {
   "cell_type": "markdown",
   "id": "75cd41ae",
   "metadata": {
    "slideshow": {
     "slide_type": "slide"
    }
   },
   "source": [
    "## More on `numpy` functions"
   ]
  },
  {
   "cell_type": "markdown",
   "id": "aaeb616a",
   "metadata": {
    "slideshow": {
     "slide_type": "slide"
    }
   },
   "source": [
    "### `np.mean()` / `np.nanmean()`"
   ]
  },
  {
   "cell_type": "markdown",
   "id": "bd1c500d",
   "metadata": {
    "slideshow": {
     "slide_type": "fragment"
    }
   },
   "source": [
    "Calculate the average of an array, either global or along some axis:"
   ]
  },
  {
   "cell_type": "code",
   "execution_count": 51,
   "id": "9ae4da63",
   "metadata": {
    "slideshow": {
     "slide_type": "-"
    }
   },
   "outputs": [
    {
     "name": "stdout",
     "output_type": "stream",
     "text": [
      "[[159  24 145 196 207  36]\n",
      " [127 123 246 155 183  26]\n",
      " [218  53 202  64  14  42]\n",
      " [237  43   5 213 145 153]\n",
      " [ 14 111  99  94 141 112]];\n",
      "mean: 119.56666666666666\n"
     ]
    }
   ],
   "source": [
    "import numpy as np\n",
    "arr = np.random.randint(0, 255, (5, 6))\n",
    "mean = np.mean(arr)  # compute the mean of the whole array\n",
    "\n",
    "print(f\"{arr};\\nmean: {mean}\")"
   ]
  },
  {
   "cell_type": "markdown",
   "id": "83b93581",
   "metadata": {
    "slideshow": {
     "slide_type": "subslide"
    }
   },
   "source": [
    "If we want to take the average along a specific dimension, we can pass the axis as a parameter:"
   ]
  },
  {
   "cell_type": "code",
   "execution_count": 52,
   "id": "5378d984",
   "metadata": {},
   "outputs": [
    {
     "name": "stdout",
     "output_type": "stream",
     "text": [
      "[[169 208  75  32 203  67]\n",
      " [ 70  32 245  72 169  84]\n",
      " [ 20 100 197 193 166 118]];\n",
      "mean: [125.66666667 112.         132.33333333]\n"
     ]
    }
   ],
   "source": [
    "import numpy as np\n",
    "arr = np.random.randint(0, 255, (3, 6))\n",
    "arr_mean = np.mean(arr, axis=1)  # we specify one axis along which to mean\n",
    "\n",
    "print(f\"{arr};\\nmean: {arr_mean}\")"
   ]
  },
  {
   "cell_type": "markdown",
   "id": "4d05dd28",
   "metadata": {
    "slideshow": {
     "slide_type": "subslide"
    }
   },
   "source": [
    "If there are nan values around, we have to use `np.nanmean()`:"
   ]
  },
  {
   "cell_type": "code",
   "execution_count": 54,
   "id": "167a3073",
   "metadata": {},
   "outputs": [
    {
     "name": "stdout",
     "output_type": "stream",
     "text": [
      "[[ nan 246. 232. 178. 127.  14.]\n",
      " [ 89. 203. 215. 114. 177. 215.]\n",
      " [209.  53. 217.   6. 180.  41.]\n",
      " [ 56. 211.  29. 223. 160.  16.]\n",
      " [153.  55. 254. 202. 113. 111.]];\n",
      "regular mean: nan\n",
      "nanmean: 141.3448275862069\n"
     ]
    }
   ],
   "source": [
    "import numpy as np\n",
    "\n",
    "# we need a float dtype to use nan values:\n",
    "arr = np.random.randint(0, 255, (5, 6)).astype(float) \n",
    "\n",
    "arr[0, 0] = np.nan\n",
    "arr_mean = np.mean(arr)  # regular mean\n",
    "arr_nan_mean = np.nanmean(arr)  # use nanmean\n",
    "\n",
    "print(f\"{arr};\\nregular mean: {arr_mean}\\nnanmean: {arr_nan_mean}\")"
   ]
  },
  {
   "cell_type": "markdown",
   "id": "371e7b51",
   "metadata": {
    "slideshow": {
     "slide_type": "subslide"
    }
   },
   "source": [
    "Many of the functions we're about to see behave in this way - assume they have a nan-dealing equivalent!\n",
    "\n",
    " - `np.std()` / `np.nanstd()`\n",
    " - `np.percentile()` / `np.nanpercentile()`\n",
    " - `np.max()` / `np.nanmax()`\n",
    " - ..."
   ]
  },
  {
   "cell_type": "markdown",
   "id": "41a2bb00",
   "metadata": {
    "slideshow": {
     "slide_type": "subslide"
    }
   },
   "source": [
    "### `np.std()` / `np.nanstd()`"
   ]
  },
  {
   "cell_type": "markdown",
   "id": "bb00055f",
   "metadata": {
    "slideshow": {
     "slide_type": "-"
    }
   },
   "source": [
    "Calculate the standard deviation of an array, either global or along some axis:"
   ]
  },
  {
   "cell_type": "code",
   "execution_count": 23,
   "id": "5bb73245",
   "metadata": {},
   "outputs": [
    {
     "data": {
      "text/plain": [
       "2.9911940005367863"
      ]
     },
     "execution_count": 23,
     "metadata": {},
     "output_type": "execute_result"
    }
   ],
   "source": [
    "arr = np.random.normal(0, 3, 1000)\n",
    "np.std(arr)"
   ]
  },
  {
   "cell_type": "markdown",
   "id": "11095118",
   "metadata": {
    "slideshow": {
     "slide_type": "subslide"
    }
   },
   "source": [
    "### `np.median()` / `np.nanmedian()`"
   ]
  },
  {
   "cell_type": "markdown",
   "id": "8d0a144a",
   "metadata": {},
   "source": [
    "Calculate the median of an array, either global or along some axis:"
   ]
  },
  {
   "cell_type": "code",
   "execution_count": 27,
   "id": "e2942579",
   "metadata": {},
   "outputs": [
    {
     "data": {
      "text/plain": [
       "array([51., 49., 49., 49., 51., 50., 49., 47., 49., 53.])"
      ]
     },
     "execution_count": 27,
     "metadata": {},
     "output_type": "execute_result"
    }
   ],
   "source": [
    "arr = np.random.randint(0, 100, (1000, 10))\n",
    "np.median(arr, axis=0)"
   ]
  },
  {
   "cell_type": "markdown",
   "id": "1b81aa46",
   "metadata": {
    "slideshow": {
     "slide_type": "subslide"
    }
   },
   "source": [
    "### `np.max()` / `np.min()`"
   ]
  },
  {
   "cell_type": "markdown",
   "id": "11f5abf6",
   "metadata": {},
   "source": [
    "Calculate the minimum or maximum of an array, either global or along some axis:"
   ]
  },
  {
   "cell_type": "code",
   "execution_count": 28,
   "id": "a3089679",
   "metadata": {},
   "outputs": [
    {
     "data": {
      "text/plain": [
       "(0, 99)"
      ]
     },
     "execution_count": 28,
     "metadata": {},
     "output_type": "execute_result"
    }
   ],
   "source": [
    "arr = np.random.randint(0, 100, 1000)\n",
    "\n",
    "np.min(arr), np.max(arr)  # print min and max together"
   ]
  },
  {
   "cell_type": "markdown",
   "id": "9147b2a1",
   "metadata": {
    "slideshow": {
     "slide_type": "subslide"
    }
   },
   "source": [
    "### `np.percentile()`"
   ]
  },
  {
   "cell_type": "markdown",
   "id": "16f4b233",
   "metadata": {
    "slideshow": {
     "slide_type": "fragment"
    }
   },
   "source": [
    "Calculate a given percentile of an array, either global or along some axis:"
   ]
  },
  {
   "cell_type": "code",
   "execution_count": 55,
   "id": "f5d53f52",
   "metadata": {},
   "outputs": [
    {
     "data": {
      "text/plain": [
       "744.0"
      ]
     },
     "execution_count": 55,
     "metadata": {},
     "output_type": "execute_result"
    }
   ],
   "source": [
    "arr = np.random.randint(0, 1000, 10000)\n",
    "\n",
    "np.percentile(arr, 75)  # print min and max together"
   ]
  },
  {
   "cell_type": "markdown",
   "id": "f6011b04",
   "metadata": {
    "slideshow": {
     "slide_type": "subslide"
    }
   },
   "source": [
    "### `np.unique()`"
   ]
  },
  {
   "cell_type": "markdown",
   "id": "cd5e886f",
   "metadata": {
    "slideshow": {
     "slide_type": "-"
    }
   },
   "source": [
    "Return unique values of an array, and if asked their counts"
   ]
  },
  {
   "cell_type": "code",
   "execution_count": 56,
   "id": "18f5d49d",
   "metadata": {},
   "outputs": [
    {
     "data": {
      "text/plain": [
       "array([1, 2, 3])"
      ]
     },
     "execution_count": 56,
     "metadata": {},
     "output_type": "execute_result"
    }
   ],
   "source": [
    "np.unique(np.array([1, 2, 2, 3, 3, 3]))"
   ]
  },
  {
   "cell_type": "code",
   "execution_count": 58,
   "id": "04f0b5c7",
   "metadata": {
    "slideshow": {
     "slide_type": "subslide"
    }
   },
   "outputs": [
    {
     "name": "stdout",
     "output_type": "stream",
     "text": [
      "unique: [1 2 3]\n",
      "counts: [1 2 1]\n"
     ]
    }
   ],
   "source": [
    "# If we ask we can get counts as well\n",
    "unique_values, counts = np.unique([1,2,2,3], return_counts=True) \n",
    "\n",
    "print(\"unique:\", unique_values)\n",
    "\n",
    "print(\"counts:\", counts)"
   ]
  },
  {
   "cell_type": "code",
   "execution_count": 36,
   "id": "cf8e5801",
   "metadata": {},
   "outputs": [],
   "source": [
    "arr = np.random.normal(0, 1, 1000000)"
   ]
  },
  {
   "cell_type": "markdown",
   "id": "83074349",
   "metadata": {
    "slideshow": {
     "slide_type": "subslide"
    }
   },
   "source": [
    "### `np.diff()` / `np.cumsum()`  "
   ]
  },
  {
   "cell_type": "markdown",
   "id": "8c95f375",
   "metadata": {},
   "source": [
    "We can compute cumulative sums (integrals) of an array with `np.cumsum()`:"
   ]
  },
  {
   "cell_type": "code",
   "execution_count": 59,
   "id": "497b903b",
   "metadata": {},
   "outputs": [
    {
     "data": {
      "text/plain": [
       "array([[1, 2, 3, 4],\n",
       "       [2, 4, 7, 9]])"
      ]
     },
     "execution_count": 59,
     "metadata": {},
     "output_type": "execute_result"
    }
   ],
   "source": [
    "my_arr = np.array([[1,2,3,4],[1,2,4,5]])\n",
    "np.cumsum(my_arr, axis=0)"
   ]
  },
  {
   "cell_type": "markdown",
   "id": "1458d783",
   "metadata": {},
   "source": [
    "We can compute differences between consecutive elements of an array using `np.diff()`:"
   ]
  },
  {
   "cell_type": "code",
   "execution_count": 61,
   "id": "ab5a2e82",
   "metadata": {
    "slideshow": {
     "slide_type": "subslide"
    }
   },
   "outputs": [
    {
     "data": {
      "text/plain": [
       "array([1, 1, 2])"
      ]
     },
     "execution_count": 61,
     "metadata": {},
     "output_type": "execute_result"
    }
   ],
   "source": [
    "my_arr = np.array([1,2,3,5])\n",
    "np.diff(my_arr)"
   ]
  },
  {
   "cell_type": "markdown",
   "id": "3b5f3cca",
   "metadata": {
    "slideshow": {
     "slide_type": "slide"
    }
   },
   "source": [
    "(Practicals 1.1.2)"
   ]
  },
  {
   "cell_type": "markdown",
   "id": "4c9af68d",
   "metadata": {
    "slideshow": {
     "slide_type": "slide"
    }
   },
   "source": [
    "### Write code the `numpy` way"
   ]
  },
  {
   "cell_type": "markdown",
   "id": "58014c7d",
   "metadata": {},
   "source": [
    "When operating with matrices, you should always aim at writing <span style=\"color:indianred\">vectorized</span> code"
   ]
  },
  {
   "cell_type": "markdown",
   "id": "3fe563f6",
   "metadata": {},
   "source": [
    "Vectorized code: code where for loops are replaced by operations over matrix dimensions"
   ]
  },
  {
   "cell_type": "markdown",
   "id": "2af65e86",
   "metadata": {},
   "source": [
    "An very simple example: vectors multiplication"
   ]
  },
  {
   "cell_type": "code",
   "execution_count": 41,
   "id": "5c86633d",
   "metadata": {
    "slideshow": {
     "slide_type": "subslide"
    }
   },
   "outputs": [],
   "source": [
    "vector_1 = np.random.normal(0, 1, (10000000,))\n",
    "vector_2 = np.random.normal(0, 1, (10000000,))"
   ]
  },
  {
   "cell_type": "code",
   "execution_count": 42,
   "id": "4e110f01",
   "metadata": {},
   "outputs": [
    {
     "name": "stdout",
     "output_type": "stream",
     "text": [
      "1.54 s ± 26.6 ms per loop (mean ± std. dev. of 7 runs, 1 loop each)\n"
     ]
    }
   ],
   "source": [
    "%%timeit\n",
    "product = np.zeros(vector_1.shape)  # initialize empty result vector\n",
    "\n",
    "# Compute the multiplication in a loop:\n",
    "for i in range(vector_1.shape[0]):\n",
    "    product[i] = vector_1[i] * vector_2[i]"
   ]
  },
  {
   "cell_type": "code",
   "execution_count": 43,
   "id": "e107c511",
   "metadata": {
    "cell_style": "center",
    "slideshow": {
     "slide_type": "subslide"
    }
   },
   "outputs": [
    {
     "name": "stdout",
     "output_type": "stream",
     "text": [
      "7.77 ms ± 21.9 µs per loop (mean ± std. dev. of 7 runs, 100 loops each)\n"
     ]
    }
   ],
   "source": [
    "%%timeit\n",
    "product = vector_1 * vector_2"
   ]
  },
  {
   "cell_type": "markdown",
   "id": "372460b4",
   "metadata": {
    "slideshow": {
     "slide_type": "subslide"
    }
   },
   "source": [
    "Another example: Z-score the rows of a matrix:"
   ]
  },
  {
   "cell_type": "code",
   "execution_count": 5,
   "id": "47b5f978",
   "metadata": {},
   "outputs": [],
   "source": [
    "data_matrix = np.random.randint(0, 255, (100000, 100))"
   ]
  },
  {
   "cell_type": "code",
   "execution_count": 6,
   "id": "8dfdb4d8",
   "metadata": {},
   "outputs": [
    {
     "name": "stdout",
     "output_type": "stream",
     "text": [
      "1.3 s ± 2.35 ms per loop (mean ± std. dev. of 7 runs, 1 loop each)\n"
     ]
    }
   ],
   "source": [
    "%%timeit\n",
    "normalized_matrix = np.zeros(data_matrix.shape)  # start an empty matrix of matching shape \n",
    "\n",
    "# Loop over rows (first dimension), take mean and std, subtract and divide:\n",
    "for i in range(data_matrix.shape[0]):\n",
    "    row_mean = np.mean(data_matrix[i, :])\n",
    "    row_std = np.std(data_matrix[i, :])\n",
    "    \n",
    "    normalized_matrix[i, :] = (data_matrix[i, :] - row_mean) / row_std"
   ]
  },
  {
   "cell_type": "code",
   "execution_count": 7,
   "id": "57a84d6a",
   "metadata": {
    "slideshow": {
     "slide_type": "subslide"
    }
   },
   "outputs": [
    {
     "name": "stdout",
     "output_type": "stream",
     "text": [
      "43.4 ms ± 918 µs per loop (mean ± std. dev. of 7 runs, 10 loops each)\n"
     ]
    }
   ],
   "source": [
    "%%timeit\n",
    "rows_mean = np.mean(data_matrix, axis=1)  # vectorized mean\n",
    "rows_std = np.std(data_matrix, axis=1)  # vectorized std\n",
    "\n",
    "# Now we write the normalization as a vector operation.\n",
    "# Note how we use broadcasting to make sure the right dimensions are propagated!\n",
    "normalized_matrix = data_matrix - rows_mean[:, np.newaxis] / rows_std[:, np.newaxis]"
   ]
  },
  {
   "cell_type": "code",
   "execution_count": 49,
   "id": "6dde3ed0",
   "metadata": {},
   "outputs": [
    {
     "data": {
      "text/plain": [
       "(100000,)"
      ]
     },
     "execution_count": 49,
     "metadata": {},
     "output_type": "execute_result"
    }
   ],
   "source": [
    "rows_mean.shape"
   ]
  },
  {
   "cell_type": "markdown",
   "id": "c2dc7434",
   "metadata": {
    "slideshow": {
     "slide_type": "slide"
    }
   },
   "source": [
    "## Search indexes"
   ]
  },
  {
   "cell_type": "markdown",
   "id": "1f1acb9e",
   "metadata": {},
   "source": [
    "Some functions find indexes of the elements of an array that match some criterion."
   ]
  },
  {
   "cell_type": "markdown",
   "id": "b17f4c74",
   "metadata": {
    "slideshow": {
     "slide_type": "subslide"
    }
   },
   "source": [
    "### `np.argmin()` / `np.argmax()` "
   ]
  },
  {
   "cell_type": "markdown",
   "id": "2d7bd030",
   "metadata": {
    "slideshow": {
     "slide_type": "fragment"
    }
   },
   "source": [
    "Find the position of the maximum or the minimum of an array"
   ]
  },
  {
   "cell_type": "code",
   "execution_count": 60,
   "id": "1c76d588",
   "metadata": {},
   "outputs": [
    {
     "data": {
      "text/plain": [
       "1"
      ]
     },
     "execution_count": 60,
     "metadata": {},
     "output_type": "execute_result"
    }
   ],
   "source": [
    "arr = np.array([5,  0, 2, 9, 6,])\n",
    "\n",
    "np.argmin(arr)  # give index of smallest element"
   ]
  },
  {
   "cell_type": "code",
   "execution_count": 61,
   "id": "0dc0f933",
   "metadata": {
    "slideshow": {
     "slide_type": "fragment"
    }
   },
   "outputs": [
    {
     "data": {
      "text/plain": [
       "3"
      ]
     },
     "execution_count": 61,
     "metadata": {},
     "output_type": "execute_result"
    }
   ],
   "source": [
    "np.argmax(arr)  # give index of biggest element"
   ]
  },
  {
   "cell_type": "markdown",
   "id": "b593d103",
   "metadata": {
    "slideshow": {
     "slide_type": "subslide"
    }
   },
   "source": [
    "### `np.nonzero()` / `np.argwhere()`"
   ]
  },
  {
   "cell_type": "markdown",
   "id": "79f4cce6",
   "metadata": {},
   "source": [
    "There are functions that allow us to get the index of all True elements in an array. In this way, we can set a condition (_e.g._, values above a threshold), and find the index of all elements satisfying it!"
   ]
  },
  {
   "cell_type": "markdown",
   "id": "dffa0fb0",
   "metadata": {},
   "source": [
    "#### `np.argwhere()`"
   ]
  },
  {
   "cell_type": "markdown",
   "id": "9898ac57",
   "metadata": {
    "slideshow": {
     "slide_type": "subslide"
    }
   },
   "source": [
    "`np.argwhere()` find `True` elements and gives us a `(n_pts, n_matrix_dims)` shaped array of indexes:"
   ]
  },
  {
   "cell_type": "code",
   "execution_count": 12,
   "id": "96c7cda4",
   "metadata": {},
   "outputs": [
    {
     "name": "stdout",
     "output_type": "stream",
     "text": [
      "Original array:\n",
      "[[1 2 3 4 5]\n",
      " [0 5 0 3 1]\n",
      " [0 6 7 4 1]]\n",
      "\n",
      "Boolean array:\n",
      "[[False False  True  True  True]\n",
      " [False  True False  True False]\n",
      " [False  True  True  True False]]\n"
     ]
    }
   ],
   "source": [
    "arr = np.array([[1, 2, 3, 4, 5], \n",
    "                [0, 5, 0, 3, 1],\n",
    "                [0, 6, 7, 4, 1]])  # define an array\n",
    "boolean_vals = arr > 2  # boolean condition\n",
    "print(\"Original array:\")\n",
    "\n",
    "print(arr)\n",
    "print(\"\\nBoolean array:\")\n",
    "print(boolean_vals)"
   ]
  },
  {
   "cell_type": "code",
   "execution_count": 13,
   "id": "caaa8ae7",
   "metadata": {
    "scrolled": true,
    "slideshow": {
     "slide_type": "subslide"
    }
   },
   "outputs": [
    {
     "name": "stdout",
     "output_type": "stream",
     "text": [
      "\n",
      "True elements indexes:\n",
      "[[0 2]\n",
      " [0 3]\n",
      " [0 4]\n",
      " [1 1]\n",
      " [1 3]\n",
      " [2 1]\n",
      " [2 2]\n",
      " [2 3]]\n"
     ]
    }
   ],
   "source": [
    "indexes = np.argwhere(boolean_vals)\n",
    "print(\"\\nTrue elements indexes:\")\n",
    "print(indexes)"
   ]
  },
  {
   "cell_type": "markdown",
   "id": "08074f07",
   "metadata": {},
   "source": [
    "The indexes matrix has one row for every True value, and each column represents the position of that value on the boolean matrix."
   ]
  },
  {
   "cell_type": "markdown",
   "id": "164b960b",
   "metadata": {
    "slideshow": {
     "slide_type": "subslide"
    }
   },
   "source": [
    "#### `np.nonzero()`"
   ]
  },
  {
   "cell_type": "markdown",
   "id": "0016a8e6",
   "metadata": {},
   "source": [
    "`np.nonzero()` is very similar to `np.argwhere()`, but instead of a single matrix of indexes (with each column representing the indexes over one dimension for all points), it returns us a tuple of arrays. \n",
    "\n",
    "That is to say, each one of those arrays corresponds to a column of the indexes array returned by `np.argwhere()`."
   ]
  },
  {
   "cell_type": "code",
   "execution_count": 14,
   "id": "f8575e1c",
   "metadata": {},
   "outputs": [
    {
     "name": "stdout",
     "output_type": "stream",
     "text": [
      "(array([0, 0, 0, 1, 1, 2, 2, 2]), array([2, 3, 4, 1, 3, 1, 2, 3]))\n"
     ]
    }
   ],
   "source": [
    "# print(\"\\nBoolean array:\")\n",
    "#print(boolean_vals)\n",
    "\n",
    "indexes_tuple = np.nonzero(boolean_vals)\n",
    "# print(\"\\nTrue elements indexes:\")\n",
    "print(indexes_tuple)"
   ]
  },
  {
   "cell_type": "markdown",
   "id": "64c57ee0",
   "metadata": {
    "slideshow": {
     "slide_type": "subslide"
    }
   },
   "source": [
    "indexes_tuples is a tuple of arrays; each one of thise array corresponds to a column in the indexes matrix above!"
   ]
  },
  {
   "cell_type": "code",
   "execution_count": 141,
   "id": "e1489ec4",
   "metadata": {},
   "outputs": [
    {
     "data": {
      "text/plain": [
       "array([ True,  True,  True,  True,  True,  True,  True,  True])"
      ]
     },
     "execution_count": 141,
     "metadata": {},
     "output_type": "execute_result"
    }
   ],
   "source": [
    "indexes_tuple[0] == indexes[:, 0]"
   ]
  },
  {
   "cell_type": "markdown",
   "id": "a4515297",
   "metadata": {},
   "source": [
    "Why is it useful to return a tuple of arrays?"
   ]
  },
  {
   "cell_type": "markdown",
   "id": "77577ab1",
   "metadata": {
    "slideshow": {
     "slide_type": "subslide"
    }
   },
   "source": [
    "### Array indexes are tuples!"
   ]
  },
  {
   "cell_type": "markdown",
   "id": "e3dfb5f3",
   "metadata": {},
   "source": [
    "Whenever you are writing something like:"
   ]
  },
  {
   "cell_type": "code",
   "execution_count": 142,
   "id": "38d0e3b2",
   "metadata": {},
   "outputs": [
    {
     "data": {
      "text/plain": [
       "2"
      ]
     },
     "execution_count": 142,
     "metadata": {},
     "output_type": "execute_result"
    }
   ],
   "source": [
    "arr[0, 1]"
   ]
  },
  {
   "cell_type": "markdown",
   "id": "08d8acaa",
   "metadata": {},
   "source": [
    "You are actually passing a tuple into the square brackets! If you remember, in python, comma separated\n",
    "values with no brakets are automatically put together in a tuple:"
   ]
  },
  {
   "cell_type": "code",
   "execution_count": 143,
   "id": "147fd252",
   "metadata": {},
   "outputs": [
    {
     "data": {
      "text/plain": [
       "tuple"
      ]
     },
     "execution_count": 143,
     "metadata": {},
     "output_type": "execute_result"
    }
   ],
   "source": [
    "a = 1, 2\n",
    "type(a)"
   ]
  },
  {
   "cell_type": "markdown",
   "id": "7c23e51e",
   "metadata": {},
   "source": [
    "So, writing `arr[0, 1]` is literally the same as writing `arr[(0, 1)]`:"
   ]
  },
  {
   "cell_type": "code",
   "execution_count": 144,
   "id": "39d7d393",
   "metadata": {},
   "outputs": [
    {
     "data": {
      "text/plain": [
       "2"
      ]
     },
     "execution_count": 144,
     "metadata": {},
     "output_type": "execute_result"
    }
   ],
   "source": [
    "arr[(0, 1)]"
   ]
  },
  {
   "cell_type": "markdown",
   "id": "199bef5c",
   "metadata": {},
   "source": [
    "If you remember, you can pass arrays instead of single numbers for indexing:"
   ]
  },
  {
   "cell_type": "code",
   "execution_count": 150,
   "id": "c7bcc7ce",
   "metadata": {},
   "outputs": [
    {
     "name": "stdout",
     "output_type": "stream",
     "text": [
      "[[1 2 3 4 5]\n",
      " [0 5 0 3 1]\n",
      " [0 6 7 4 1]]\n",
      "\n",
      "Selected items:\n"
     ]
    },
    {
     "data": {
      "text/plain": [
       "array([3, 3, 5])"
      ]
     },
     "execution_count": 150,
     "metadata": {},
     "output_type": "execute_result"
    }
   ],
   "source": [
    "# This code will retrieve three elements from arr:\n",
    "#   - the element in (0, 2)\n",
    "#   - the element in (1, 3)\n",
    "#   - the element in (1, 1)\n",
    "\n",
    "print(arr)\n",
    "print(\"\\nSelected items:\")\n",
    "arr[np.array([0, 1, 1]), np.array([2, 3, 1])]"
   ]
  },
  {
   "cell_type": "markdown",
   "id": "67dbd27b",
   "metadata": {},
   "source": [
    "Therefore, we can directly use the indexes arrays tuple we get from `np.nonzero()` to retrieve all elements of the original matrix that matched the boolean condition!"
   ]
  },
  {
   "cell_type": "code",
   "execution_count": 16,
   "id": "3c2d902b",
   "metadata": {},
   "outputs": [
    {
     "name": "stdout",
     "output_type": "stream",
     "text": [
      "Original array:\n",
      "[[1 2 3 4 5]\n",
      " [0 5 0 3 1]\n",
      " [0 6 7 4 1]]\n",
      "\n",
      "Boolean array:\n",
      "[[False False  True  True  True]\n",
      " [False  True False  True False]\n",
      " [False  True  True  True False]]\n"
     ]
    },
    {
     "data": {
      "text/plain": [
       "(array([0, 0, 0, 1, 1, 2, 2, 2]), array([2, 3, 4, 1, 3, 1, 2, 3]))"
      ]
     },
     "execution_count": 16,
     "metadata": {},
     "output_type": "execute_result"
    }
   ],
   "source": [
    "arr = np.array([[1, 2, 3, 4, 5], \n",
    "                [0, 5, 0, 3, 1],\n",
    "                [0, 6, 7, 4, 1]])\n",
    "boolean_vals = arr > 2\n",
    "print(\"Original array:\")\n",
    "print(arr)\n",
    "print(\"\\nBoolean array:\")\n",
    "print(boolean_vals)\n",
    "\n",
    "indexes_tuple = np.nonzero(boolean_vals)\n",
    "indexes_tuple"
   ]
  },
  {
   "cell_type": "code",
   "execution_count": 17,
   "id": "40714eda",
   "metadata": {},
   "outputs": [
    {
     "name": "stdout",
     "output_type": "stream",
     "text": [
      "\n",
      "Elements bigger than 2:\n",
      "[3 4 5 5 3 6 7 4]\n"
     ]
    }
   ],
   "source": [
    "filtered_values = arr[indexes_tuple]  # here we directly use the tuple to index the array!\n",
    "print(\"\\nElements bigger than 2:\")\n",
    "print(filtered_values)"
   ]
  },
  {
   "cell_type": "markdown",
   "id": "4334a9fb",
   "metadata": {
    "slideshow": {
     "slide_type": "subslide"
    }
   },
   "source": [
    "(Practicals 1.1.3)"
   ]
  },
  {
   "cell_type": "markdown",
   "id": "2fdf15e9",
   "metadata": {},
   "source": [
    "## [Bonus] index raveling / unraveling"
   ]
  },
  {
   "cell_type": "markdown",
   "id": "2d2759df",
   "metadata": {
    "slideshow": {
     "slide_type": "subslide"
    }
   },
   "source": [
    "For a multi-dimensional array:"
   ]
  },
  {
   "cell_type": "code",
   "execution_count": 90,
   "id": "c97fe5d8",
   "metadata": {},
   "outputs": [
    {
     "name": "stdout",
     "output_type": "stream",
     "text": [
      "[[5 1 2]\n",
      " [3 0 4]]\n"
     ]
    },
    {
     "data": {
      "text/plain": [
       "4"
      ]
     },
     "execution_count": 90,
     "metadata": {},
     "output_type": "execute_result"
    }
   ],
   "source": [
    "arr = np.array([[5, 1, 2], \n",
    "                [3, 0, 4]])\n",
    "print(arr)\n",
    "np.argmin(arr)"
   ]
  },
  {
   "cell_type": "markdown",
   "id": "9a3449bc",
   "metadata": {},
   "source": [
    "What is this number 4?"
   ]
  },
  {
   "cell_type": "markdown",
   "id": "3f34ce06",
   "metadata": {
    "slideshow": {
     "slide_type": "subslide"
    }
   },
   "source": [
    "## Flat indexing"
   ]
  },
  {
   "cell_type": "markdown",
   "id": "32fd87ee",
   "metadata": {},
   "source": [
    "When you have a multi-dimensional array, you can always index it in two ways:\n",
    " - the standard, multi-dimensional indexing (e.g., `my_array[3,4]`)\n",
    " - with **flat indexing**: we index the array after flattening it out in a single dimension"
   ]
  },
  {
   "cell_type": "code",
   "execution_count": 4,
   "id": "69583ffa",
   "metadata": {},
   "outputs": [
    {
     "data": {
      "text/plain": [
       "array([[8, 3, 1],\n",
       "       [8, 2, 9],\n",
       "       [9, 1, 1],\n",
       "       [5, 5, 8]])"
      ]
     },
     "execution_count": 4,
     "metadata": {},
     "output_type": "execute_result"
    }
   ],
   "source": [
    "# Example:\n",
    "my_arr = np.random.randint(0, 10, (4, 3))\n",
    "my_arr"
   ]
  },
  {
   "cell_type": "markdown",
   "id": "5d524762",
   "metadata": {
    "slideshow": {
     "slide_type": "subslide"
    }
   },
   "source": [
    "There is a flatten representation of this array that we can look at with `.flatten()` method we saw in the last lecture:"
   ]
  },
  {
   "cell_type": "code",
   "execution_count": 10,
   "id": "ec04905b",
   "metadata": {
    "scrolled": true
   },
   "outputs": [
    {
     "name": "stdout",
     "output_type": "stream",
     "text": [
      "[[8 3 1]\n",
      " [8 2 9]\n",
      " [9 1 1]\n",
      " [5 5 8]]\n",
      "2\n"
     ]
    },
    {
     "data": {
      "text/plain": [
       "1"
      ]
     },
     "execution_count": 10,
     "metadata": {},
     "output_type": "execute_result"
    }
   ],
   "source": [
    "import numpy as np\n",
    "# When we flatten, we concatenate all values of the matrix in a single dimension.\n",
    "# We keep the order of the dimensions of the matrix (the first 3 elements are the first row, that\n",
    "# is, the first dimension):\n",
    "print(my_arr)\n",
    "min_idx = np.argmin(my_arr)\n",
    "print(min_idx)\n",
    "my_arr.flatten()[min_idx]\n"
   ]
  },
  {
   "cell_type": "markdown",
   "id": "1a9f9c29",
   "metadata": {
    "slideshow": {
     "slide_type": "subslide"
    }
   },
   "source": [
    "The number we got from `np.argmax()` is the number we would need to use over the flattened representation of the array to get the maximum value!"
   ]
  },
  {
   "cell_type": "code",
   "execution_count": 118,
   "id": "45e0d4fb",
   "metadata": {},
   "outputs": [
    {
     "name": "stdout",
     "output_type": "stream",
     "text": [
      "2\n"
     ]
    },
    {
     "data": {
      "text/plain": [
       "7"
      ]
     },
     "execution_count": 118,
     "metadata": {},
     "output_type": "execute_result"
    }
   ],
   "source": [
    "max_idx = np.argmax(my_arr)  # get max index\n",
    "print(max_idx)\n",
    "\n",
    "flat_array = my_arr.flatten()  # create a flattened array\n",
    "flat_array[max_idx]"
   ]
  },
  {
   "cell_type": "markdown",
   "id": "c853cff8",
   "metadata": {
    "slideshow": {
     "slide_type": "subslide"
    }
   },
   "source": [
    "One last thing. it is obviously annoying having to create a new flattened array to use the index. Also, we create a duplicated array in memory - not good.\n",
    "\n",
    "The best way to use this indexing it through the `.flat` representation of the matrix:"
   ]
  },
  {
   "cell_type": "code",
   "execution_count": 117,
   "id": "770a0d18",
   "metadata": {},
   "outputs": [
    {
     "data": {
      "text/plain": [
       "7"
      ]
     },
     "execution_count": 117,
     "metadata": {},
     "output_type": "execute_result"
    }
   ],
   "source": [
    "my_arr.flat[max_idx]"
   ]
  },
  {
   "cell_type": "markdown",
   "id": "09f5bb33",
   "metadata": {
    "slideshow": {
     "slide_type": "subslide"
    }
   },
   "source": [
    "### Index raveling / unraveling"
   ]
  },
  {
   "cell_type": "markdown",
   "id": "1841d9b1",
   "metadata": {},
   "source": [
    "To convert the flat index to a tuple of matrix indexes, we can use `np.unravel_index()`:"
   ]
  },
  {
   "cell_type": "code",
   "execution_count": 124,
   "id": "bace9de9",
   "metadata": {},
   "outputs": [
    {
     "data": {
      "text/plain": [
       "(1, 2)"
      ]
     },
     "execution_count": 124,
     "metadata": {},
     "output_type": "execute_result"
    }
   ],
   "source": [
    "arr = np.array([[5, 1, 2], [3, 3, 0]])\n",
    "idx = np.argmin(arr)\n",
    "\n",
    "# unravel index takes an index of the flattened array, and the shape of the matrix,\n",
    "# and give us the tuple of ordinary indexes that correspond to that flat index.\n",
    "np.unravel_index(idx, arr.shape)  "
   ]
  },
  {
   "cell_type": "markdown",
   "id": "0c595f28",
   "metadata": {
    "slideshow": {
     "slide_type": "subslide"
    }
   },
   "source": [
    "This is an illustration of what happens. Flat indexes (_left_) are converted to tuple indexes (_right_):\n",
    "(there is a bug in the image, last value should be 11!)\n",
    "\n",
    "![unravel illustration](https://i.stack.imgur.com/sxwBU.png)"
   ]
  },
  {
   "cell_type": "markdown",
   "id": "b741edde",
   "metadata": {
    "slideshow": {
     "slide_type": "subslide"
    }
   },
   "source": [
    "The converse operation, called unravel, can be done with `np.ravel_multi_index()`, and it goes from the right representation to the left one:"
   ]
  },
  {
   "cell_type": "code",
   "execution_count": 125,
   "id": "b6e78507",
   "metadata": {},
   "outputs": [
    {
     "data": {
      "text/plain": [
       "4"
      ]
     },
     "execution_count": 125,
     "metadata": {},
     "output_type": "execute_result"
    }
   ],
   "source": [
    "np.ravel_multi_index((1, 1), arr.shape)"
   ]
  }
 ],
 "metadata": {
  "celltoolbar": "Slideshow",
  "kernelspec": {
   "display_name": "course-env",
   "language": "python",
   "name": "python3"
  },
  "language_info": {
   "codemirror_mode": {
    "name": "ipython",
    "version": 3
   },
   "file_extension": ".py",
   "mimetype": "text/x-python",
   "name": "python",
   "nbconvert_exporter": "python",
   "pygments_lexer": "ipython3",
   "version": "3.10.13"
  }
 },
 "nbformat": 4,
 "nbformat_minor": 5
}
