{
 "cells": [
  {
   "cell_type": "markdown",
   "id": "4904afe2",
   "metadata": {
    "slideshow": {
     "slide_type": "slide"
    }
   },
   "source": [
    "# Python for (open) Neuroscience\n",
    "\n",
    "_Lecture 1.1_ - More on `numpy`\n",
    "\n",
    "Luigi Petrucco\n",
    "\n",
    "[![Open In Colab](https://colab.research.google.com/assets/colab-badge.svg)](https://colab.research.google.com/github/vigji/python-cimec-2025/blob/main/lectures/Lecture1.1_Numpy.ipynb)"
   ]
  },
  {
   "cell_type": "markdown",
   "id": "5c8f4bc1",
   "metadata": {
    "slideshow": {
     "slide_type": "subslide"
    }
   },
   "source": [
    "## Lecture outline\n",
    "\n",
    "- Transforming and combining arrays (and practicals)\n",
    "- Operations with arrays (and practicals)\n",
    "- Searching and sorting arrays"
   ]
  },
  {
   "cell_type": "markdown",
   "id": "e256e97f",
   "metadata": {
    "slideshow": {
     "slide_type": "subslide"
    }
   },
   "source": [
    "## Transforming and combining arrays"
   ]
  },
  {
   "cell_type": "markdown",
   "id": "c13fc91a",
   "metadata": {
    "slideshow": {
     "slide_type": "subslide"
    }
   },
   "source": [
    "### `.T`"
   ]
  },
  {
   "cell_type": "markdown",
   "id": "f6eba3f5",
   "metadata": {},
   "source": [
    "We can get a **transposed view** (NOT A COPY) of a matrix with the `.T` attribute:"
   ]
  },
  {
   "cell_type": "code",
   "execution_count": 9,
   "id": "3f81260f",
   "metadata": {},
   "outputs": [
    {
     "name": "stdout",
     "output_type": "stream",
     "text": [
      "[[2 9]\n",
      " [1 0]\n",
      " [6 1]]\n"
     ]
    }
   ],
   "source": [
    "import numpy as np\n",
    "\n",
    "m = np.random.randint(0, 10, (3,2))\n",
    "print(m)"
   ]
  },
  {
   "cell_type": "code",
   "execution_count": 10,
   "id": "334c461b",
   "metadata": {},
   "outputs": [
    {
     "name": "stdout",
     "output_type": "stream",
     "text": [
      "[[2 9]\n",
      " [1 0]\n",
      " [6 1]]\n"
     ]
    }
   ],
   "source": [
    "m_t = m.T.copy()\n",
    "m_t[0, 0] = 100\n",
    "print(m)"
   ]
  },
  {
   "cell_type": "code",
   "execution_count": null,
   "id": "c07c472e",
   "metadata": {
    "slideshow": {
     "slide_type": "subslide"
    }
   },
   "outputs": [],
   "source": [
    "m_t[0, 0] = 2  # this is a view: if we change values in the transposed array, we change the original as well:\n",
    "m"
   ]
  },
  {
   "cell_type": "markdown",
   "id": "2abd3f73",
   "metadata": {
    "slideshow": {
     "slide_type": "subslide"
    }
   },
   "source": [
    "### `.flatten()`\n",
    "\n",
    "We can flatten all values of an N-dimensional array into a 1D array with the `.flatten()` syntax. This will make **a copy of the array**!"
   ]
  },
  {
   "cell_type": "code",
   "execution_count": 20,
   "id": "17f26b2c",
   "metadata": {},
   "outputs": [],
   "source": [
    "m = np.random.randint(0, 10, (3,2, 4, 5))"
   ]
  },
  {
   "cell_type": "markdown",
   "id": "6f895b43",
   "metadata": {
    "slideshow": {
     "slide_type": "subslide"
    }
   },
   "source": [
    "### `np.concatenate()`\n",
    "\n",
    "We can concatenate arrays along any dimension by putting them in a list and pass the list to the `np.concatenate()` function:"
   ]
  },
  {
   "cell_type": "code",
   "execution_count": 21,
   "id": "d000d326",
   "metadata": {},
   "outputs": [
    {
     "name": "stdout",
     "output_type": "stream",
     "text": [
      "[array([0., 0., 0.]), array([1., 1., 1.])]\n"
     ]
    },
    {
     "data": {
      "text/plain": [
       "array([0., 0., 0., 1., 1., 1.])"
      ]
     },
     "execution_count": 21,
     "metadata": {},
     "output_type": "execute_result"
    }
   ],
   "source": [
    "arr_list = [np.zeros(3), np.ones(3)]\n",
    "print(arr_list)\n",
    "np.concatenate(arr_list) "
   ]
  },
  {
   "cell_type": "markdown",
   "id": "2cf30e5c",
   "metadata": {
    "slideshow": {
     "slide_type": "subslide"
    }
   },
   "source": [
    "By default, we concatenate over the first dimension:"
   ]
  },
  {
   "cell_type": "code",
   "execution_count": 34,
   "id": "0ad897fe",
   "metadata": {},
   "outputs": [
    {
     "data": {
      "text/plain": [
       "[array([[[0., 0., 0., 0., 0.],\n",
       "         [0., 0., 0., 0., 0.],\n",
       "         [0., 0., 0., 0., 0.],\n",
       "         [0., 0., 0., 0., 0.]],\n",
       " \n",
       "        [[0., 0., 0., 0., 0.],\n",
       "         [0., 0., 0., 0., 0.],\n",
       "         [0., 0., 0., 0., 0.],\n",
       "         [0., 0., 0., 0., 0.]]]),\n",
       " array([[[1., 1., 1., 1., 1.],\n",
       "         [1., 1., 1., 1., 1.],\n",
       "         [1., 1., 1., 1., 1.]],\n",
       " \n",
       "        [[1., 1., 1., 1., 1.],\n",
       "         [1., 1., 1., 1., 1.],\n",
       "         [1., 1., 1., 1., 1.]]])]"
      ]
     },
     "execution_count": 34,
     "metadata": {},
     "output_type": "execute_result"
    }
   ],
   "source": [
    "arr_list = [np.zeros((2,4, 5)), np.ones((2,3, 5))]\n",
    "arr_list"
   ]
  },
  {
   "cell_type": "code",
   "execution_count": 35,
   "id": "a137337e",
   "metadata": {},
   "outputs": [
    {
     "data": {
      "text/plain": [
       "array([[[0., 0., 0., 0., 0.],\n",
       "        [0., 0., 0., 0., 0.],\n",
       "        [0., 0., 0., 0., 0.],\n",
       "        [0., 0., 0., 0., 0.],\n",
       "        [1., 1., 1., 1., 1.],\n",
       "        [1., 1., 1., 1., 1.],\n",
       "        [1., 1., 1., 1., 1.]],\n",
       "\n",
       "       [[0., 0., 0., 0., 0.],\n",
       "        [0., 0., 0., 0., 0.],\n",
       "        [0., 0., 0., 0., 0.],\n",
       "        [0., 0., 0., 0., 0.],\n",
       "        [1., 1., 1., 1., 1.],\n",
       "        [1., 1., 1., 1., 1.],\n",
       "        [1., 1., 1., 1., 1.]]])"
      ]
     },
     "execution_count": 35,
     "metadata": {},
     "output_type": "execute_result"
    }
   ],
   "source": [
    "np.concatenate(arr_list, axis=1)  # if ndims > 1 by default we concatenate over the first dimension"
   ]
  },
  {
   "cell_type": "markdown",
   "id": "afcf316a",
   "metadata": {
    "slideshow": {
     "slide_type": "subslide"
    }
   },
   "source": [
    "but we can pass an `axis` argument to change the default behavior:"
   ]
  },
  {
   "cell_type": "code",
   "execution_count": null,
   "id": "0cffde82",
   "metadata": {},
   "outputs": [],
   "source": [
    "arr_list = [np.zeros((3,2)), np.ones((3,2))]\n",
    "arr_list\n",
    "np.concatenate(arr_list, axis=1) "
   ]
  },
  {
   "cell_type": "markdown",
   "id": "ec1b45ef",
   "metadata": {
    "slideshow": {
     "slide_type": "subslide"
    }
   },
   "source": [
    "### `np.stack()`"
   ]
  },
  {
   "cell_type": "markdown",
   "id": "fd09cca0",
   "metadata": {},
   "source": [
    "We can pile up arrays over a new dimension with  `np.stack()`:"
   ]
  },
  {
   "cell_type": "code",
   "execution_count": 40,
   "id": "5c079461",
   "metadata": {},
   "outputs": [
    {
     "name": "stdout",
     "output_type": "stream",
     "text": [
      "(2, 3, 5)\n",
      "[[[0. 0. 0. 0. 0.]\n",
      "  [0. 0. 0. 0. 0.]\n",
      "  [0. 0. 0. 0. 0.]]\n",
      "\n",
      " [[1. 1. 1. 1. 1.]\n",
      "  [1. 1. 1. 1. 1.]\n",
      "  [1. 1. 1. 1. 1.]]]\n"
     ]
    }
   ],
   "source": [
    "arr_list = [np.zeros((3,5)), np.ones((3,5))]\n",
    "#arr_list\n",
    "stacked = np.stack(arr_list)\n",
    "print(stacked.shape)\n",
    "print(stacked)"
   ]
  },
  {
   "cell_type": "markdown",
   "id": "0ac9540d",
   "metadata": {
    "slideshow": {
     "slide_type": "subslide"
    }
   },
   "source": [
    "## Array operations"
   ]
  },
  {
   "cell_type": "markdown",
   "id": "3347af5c",
   "metadata": {},
   "source": [
    "We obviously want to do some math with those arrays!"
   ]
  },
  {
   "cell_type": "markdown",
   "id": "9f174807",
   "metadata": {
    "slideshow": {
     "slide_type": "subslide"
    }
   },
   "source": [
    "### Operations with numbers"
   ]
  },
  {
   "cell_type": "markdown",
   "id": "8f022018",
   "metadata": {},
   "source": [
    "Operations with arrays are **by default element-wise**! (performed separately on every number of the array)"
   ]
  },
  {
   "cell_type": "markdown",
   "id": "621cdca1",
   "metadata": {
    "slideshow": {
     "slide_type": "subslide"
    }
   },
   "source": [
    "Sum / subtraction / multiplication / division apply to individual entries of the array:"
   ]
  },
  {
   "cell_type": "code",
   "execution_count": 42,
   "id": "235c1b07",
   "metadata": {},
   "outputs": [
    {
     "data": {
      "text/plain": [
       "array([2., 2., 2.])"
      ]
     },
     "execution_count": 42,
     "metadata": {},
     "output_type": "execute_result"
    }
   ],
   "source": [
    "np.ones(3) + 1"
   ]
  },
  {
   "cell_type": "code",
   "execution_count": 44,
   "id": "47cea6e6",
   "metadata": {},
   "outputs": [
    {
     "data": {
      "text/plain": [
       "array([[100., 100., 100.],\n",
       "       [  1.,   1.,   1.],\n",
       "       [  1.,   1.,   1.],\n",
       "       [  1.,   1.,   1.]])"
      ]
     },
     "execution_count": 44,
     "metadata": {},
     "output_type": "execute_result"
    }
   ],
   "source": [
    "my_arr = np.ones((4,3))\n",
    "my_arr[0, :] = my_arr[0, :]*100 \n",
    "my_arr"
   ]
  },
  {
   "cell_type": "markdown",
   "id": "c8a487de",
   "metadata": {
    "slideshow": {
     "slide_type": "subslide"
    }
   },
   "source": [
    "Exponentiation also works element-wise:"
   ]
  },
  {
   "cell_type": "code",
   "execution_count": 45,
   "id": "3527a015",
   "metadata": {},
   "outputs": [
    {
     "data": {
      "text/plain": [
       "array([ 1,  8, 27])"
      ]
     },
     "execution_count": 45,
     "metadata": {},
     "output_type": "execute_result"
    }
   ],
   "source": [
    "np.array((1,2,3))**3"
   ]
  },
  {
   "cell_type": "markdown",
   "id": "962c5c09",
   "metadata": {
    "slideshow": {
     "slide_type": "subslide"
    }
   },
   "source": [
    "### Operations between arrays"
   ]
  },
  {
   "cell_type": "markdown",
   "id": "fe14e1fc",
   "metadata": {
    "slideshow": {
     "slide_type": "subslide"
    }
   },
   "source": [
    "`numpy` works element-wise also when operating between arrays:"
   ]
  },
  {
   "cell_type": "code",
   "execution_count": 48,
   "id": "bc859a04",
   "metadata": {},
   "outputs": [
    {
     "name": "stdout",
     "output_type": "stream",
     "text": [
      "[2 3 4] [1 1 1]\n"
     ]
    },
    {
     "data": {
      "text/plain": [
       "array([1, 2, 3])"
      ]
     },
     "execution_count": 48,
     "metadata": {},
     "output_type": "execute_result"
    }
   ],
   "source": [
    "a1 = np.array([2, 3, 4])\n",
    "a2 = np.array([1, 1, 1])\n",
    "print(a1, a2)\n",
    "\n",
    "a1 - a2"
   ]
  },
  {
   "cell_type": "code",
   "execution_count": 49,
   "id": "41326888",
   "metadata": {},
   "outputs": [
    {
     "data": {
      "text/plain": [
       "array([[0, 0],\n",
       "       [0, 8]])"
      ]
     },
     "execution_count": 49,
     "metadata": {},
     "output_type": "execute_result"
    }
   ],
   "source": [
    "arr_1 = np.array([[1,2],\n",
    "                  [3,4]])\n",
    "arr_2 = np.array([[0,0],\n",
    "                  [0,2]])\n",
    "\n",
    "arr_1 * arr_2"
   ]
  },
  {
   "cell_type": "code",
   "execution_count": 50,
   "id": "bff59d1a",
   "metadata": {},
   "outputs": [
    {
     "data": {
      "text/plain": [
       "array([[ 1,  1],\n",
       "       [ 1, 16]])"
      ]
     },
     "execution_count": 50,
     "metadata": {},
     "output_type": "execute_result"
    }
   ],
   "source": [
    "arr_1 ** arr_2"
   ]
  },
  {
   "cell_type": "markdown",
   "id": "c9335267",
   "metadata": {
    "slideshow": {
     "slide_type": "subslide"
    }
   },
   "source": [
    "Therefore, we normally expect arrays of matching shapes, or we get a `ValueError`!"
   ]
  },
  {
   "cell_type": "code",
   "execution_count": 51,
   "id": "a32540cf",
   "metadata": {},
   "outputs": [
    {
     "ename": "ValueError",
     "evalue": "operands could not be broadcast together with shapes (2,3) (4,5) ",
     "output_type": "error",
     "traceback": [
      "\u001b[0;31m---------------------------------------------------------------------------\u001b[0m",
      "\u001b[0;31mValueError\u001b[0m                                Traceback (most recent call last)",
      "Cell \u001b[0;32mIn[51], line 1\u001b[0m\n\u001b[0;32m----> 1\u001b[0m \u001b[43mnp\u001b[49m\u001b[38;5;241;43m.\u001b[39;49m\u001b[43mones\u001b[49m\u001b[43m(\u001b[49m\u001b[43m(\u001b[49m\u001b[38;5;241;43m2\u001b[39;49m\u001b[43m,\u001b[49m\u001b[43m \u001b[49m\u001b[38;5;241;43m3\u001b[39;49m\u001b[43m)\u001b[49m\u001b[43m)\u001b[49m\u001b[43m \u001b[49m\u001b[38;5;241;43m*\u001b[39;49m\u001b[43m \u001b[49m\u001b[43mnp\u001b[49m\u001b[38;5;241;43m.\u001b[39;49m\u001b[43mones\u001b[49m\u001b[43m(\u001b[49m\u001b[43m(\u001b[49m\u001b[38;5;241;43m4\u001b[39;49m\u001b[43m,\u001b[49m\u001b[43m \u001b[49m\u001b[38;5;241;43m5\u001b[39;49m\u001b[43m)\u001b[49m\u001b[43m)\u001b[49m\n",
      "\u001b[0;31mValueError\u001b[0m: operands could not be broadcast together with shapes (2,3) (4,5) "
     ]
    }
   ],
   "source": [
    "np.ones((2, 3)) * np.ones((4, 5))"
   ]
  },
  {
   "cell_type": "markdown",
   "id": "e089d774",
   "metadata": {},
   "source": [
    "Practicals 1.1.0"
   ]
  },
  {
   "cell_type": "markdown",
   "id": "13fd963f",
   "metadata": {
    "slideshow": {
     "slide_type": "subslide"
    }
   },
   "source": [
    "### Broadcasting"
   ]
  },
  {
   "cell_type": "markdown",
   "id": "692edac2",
   "metadata": {},
   "source": [
    "`numpy` has a smart way of dealing with some scenarios of non-matching dimensions, and we should use it!"
   ]
  },
  {
   "cell_type": "markdown",
   "id": "67687757",
   "metadata": {
    "slideshow": {
     "slide_type": "subslide"
    }
   },
   "source": [
    "Can be a bit tricky at the beginning, but it is very important: we can write very efficient and readable code with it!"
   ]
  },
  {
   "cell_type": "code",
   "execution_count": 60,
   "id": "0a63614f",
   "metadata": {},
   "outputs": [
    {
     "data": {
      "text/plain": [
       "(4, 3)"
      ]
     },
     "execution_count": 60,
     "metadata": {},
     "output_type": "execute_result"
    }
   ],
   "source": [
    "# Assume we have a matrix of data:\n",
    "data = np.array([[ 0.0,  0.0,  0.0],\n",
    "                 [10.0, 10.0, 10.0],\n",
    "                 [20.0, 20.0, 20.0],\n",
    "                 [30.0, 30.0, 30.0]])\n",
    "\n",
    "data.shape"
   ]
  },
  {
   "cell_type": "code",
   "execution_count": 64,
   "id": "d26f1a29",
   "metadata": {},
   "outputs": [
    {
     "name": "stdout",
     "output_type": "stream",
     "text": [
      "(3,)\n"
     ]
    },
    {
     "data": {
      "text/plain": [
       "array([[-100., -200., -300.],\n",
       "       [ -90., -190., -290.],\n",
       "       [ -80., -180., -280.],\n",
       "       [ -70., -170., -270.]])"
      ]
     },
     "execution_count": 64,
     "metadata": {},
     "output_type": "execute_result"
    }
   ],
   "source": [
    "offsets = np.array([100, 200, 300])  # we want to add an offset to each data column:\n",
    "print(offsets.shape)\n",
    "data - offsets"
   ]
  },
  {
   "cell_type": "markdown",
   "id": "4dc85980",
   "metadata": {
    "slideshow": {
     "slide_type": "subslide"
    }
   },
   "source": [
    "### What is happening?"
   ]
  },
  {
   "cell_type": "markdown",
   "id": "04b925c2",
   "metadata": {},
   "source": [
    "Numpy automatically infer missing values to create arrays of matching shape, where it can the operate element-wise!"
   ]
  },
  {
   "cell_type": "markdown",
   "id": "ebe2bb1c",
   "metadata": {},
   "source": [
    "![Alt Text](https://numpy.org/doc/stable/_images/broadcasting_2.png)"
   ]
  },
  {
   "cell_type": "markdown",
   "id": "c03397ad",
   "metadata": {
    "slideshow": {
     "slide_type": "subslide"
    }
   },
   "source": [
    "## How does broadcasting work"
   ]
  },
  {
   "cell_type": "markdown",
   "id": "70f356d3",
   "metadata": {},
   "source": [
    "When operating on two arrays, NumPy compares their shapes. It starts **with the trailing** dimension - i.e., the rightmost dimension in the `shape` tuple - and works its way left. In a `(2,3)` matrix, broadcasting will start from columns (the `3` in `(2,3)`) and move on to rows (the `2` in `(2,3)`).\n",
    "\n",
    "Two dimensions are compatible when:\n",
    "\n",
    " - they are equal, or\n",
    " - one of them is 1."
   ]
  },
  {
   "cell_type": "markdown",
   "id": "17bb7075",
   "metadata": {
    "slideshow": {
     "slide_type": "subslide"
    }
   },
   "source": [
    "![Alt Text](https://i0.wp.com/andrewm4894.com/wp-content/uploads/2020/10/Annotation-2020-10-15-133235.jpg?w=486&ssl=1)"
   ]
  },
  {
   "cell_type": "markdown",
   "id": "a5e5dd20",
   "metadata": {
    "slideshow": {
     "slide_type": "subslide"
    }
   },
   "source": [
    "In our case:"
   ]
  },
  {
   "cell_type": "code",
   "execution_count": 65,
   "id": "ea8e1c7a",
   "metadata": {},
   "outputs": [
    {
     "name": "stdout",
     "output_type": "stream",
     "text": [
      "shape a: (4, 3)\n",
      "shape b: (3,)\n"
     ]
    }
   ],
   "source": [
    "print(f\"shape a: {data.shape}\")\n",
    "print(f\"shape b: {offsets.shape}\")"
   ]
  },
  {
   "cell_type": "markdown",
   "id": "129e59f5",
   "metadata": {},
   "source": [
    "Shape b matches shape a over the last dimension, and is propagated over the rest of the dimensions"
   ]
  },
  {
   "cell_type": "markdown",
   "id": "8449c080",
   "metadata": {
    "slideshow": {
     "slide_type": "subslide"
    }
   },
   "source": [
    "For example, this operation will not work!"
   ]
  },
  {
   "cell_type": "code",
   "execution_count": 66,
   "id": "a4324f0c",
   "metadata": {},
   "outputs": [
    {
     "name": "stdout",
     "output_type": "stream",
     "text": [
      "[[0 0 0 0]\n",
      " [1 1 1 1]\n",
      " [2 2 2 2]\n",
      " [3 3 3 3]\n",
      " [4 4 4 4]] [1. 1. 1. 1. 1.]\n"
     ]
    }
   ],
   "source": [
    "a = np.concatenate([np.full((1,4), i) for i in range(5)], axis=0)\n",
    "b = np.ones(5)\n",
    "print(a, b)"
   ]
  },
  {
   "cell_type": "code",
   "execution_count": 67,
   "id": "cf0db310",
   "metadata": {
    "slideshow": {
     "slide_type": "-"
    }
   },
   "outputs": [
    {
     "name": "stdout",
     "output_type": "stream",
     "text": [
      "shape a:  (5, 4)\n",
      "shape b:  (5,)\n"
     ]
    },
    {
     "ename": "ValueError",
     "evalue": "operands could not be broadcast together with shapes (5,4) (5,) ",
     "output_type": "error",
     "traceback": [
      "\u001b[0;31m---------------------------------------------------------------------------\u001b[0m",
      "\u001b[0;31mValueError\u001b[0m                                Traceback (most recent call last)",
      "Cell \u001b[0;32mIn[67], line 5\u001b[0m\n\u001b[1;32m      2\u001b[0m \u001b[38;5;28mprint\u001b[39m(\u001b[38;5;124m\"\u001b[39m\u001b[38;5;124mshape b: \u001b[39m\u001b[38;5;124m\"\u001b[39m, b\u001b[38;5;241m.\u001b[39mshape)\n\u001b[1;32m      4\u001b[0m \u001b[38;5;66;03m# this will not work as the rightmost dimensions are 5 and 4:\u001b[39;00m\n\u001b[0;32m----> 5\u001b[0m \u001b[43ma\u001b[49m\u001b[43m \u001b[49m\u001b[38;5;241;43m+\u001b[39;49m\u001b[43m \u001b[49m\u001b[43mb\u001b[49m \n",
      "\u001b[0;31mValueError\u001b[0m: operands could not be broadcast together with shapes (5,4) (5,) "
     ]
    }
   ],
   "source": [
    "print(\"shape a: \", a.shape)\n",
    "print(\"shape b: \", b.shape)\n",
    "\n",
    "# this will not work as the rightmost dimensions are 5 and 4:\n",
    "a + b "
   ]
  },
  {
   "cell_type": "markdown",
   "id": "44862a7e",
   "metadata": {
    "slideshow": {
     "slide_type": "subslide"
    }
   },
   "source": [
    "To make it work, we can use a trick: add a new \"dummy\" singleton dimension to `b` that will be broadcasted with the syntax `[:, np.newaxis]`"
   ]
  },
  {
   "cell_type": "code",
   "execution_count": 72,
   "id": "80f46caf",
   "metadata": {},
   "outputs": [
    {
     "data": {
      "text/plain": [
       "array([[1.],\n",
       "       [1.],\n",
       "       [1.],\n",
       "       [1.],\n",
       "       [1.]])"
      ]
     },
     "execution_count": 72,
     "metadata": {},
     "output_type": "execute_result"
    }
   ],
   "source": [
    "b[:, np.newaxis]"
   ]
  },
  {
   "cell_type": "code",
   "execution_count": 69,
   "id": "afd2e35a",
   "metadata": {},
   "outputs": [
    {
     "name": "stdout",
     "output_type": "stream",
     "text": [
      "shape a:  (5, 4)\n",
      "shape b_twodim:  (5, 1)\n"
     ]
    },
    {
     "data": {
      "text/plain": [
       "array([[1., 1., 1., 1.],\n",
       "       [2., 2., 2., 2.],\n",
       "       [3., 3., 3., 3.],\n",
       "       [4., 4., 4., 4.],\n",
       "       [5., 5., 5., 5.]])"
      ]
     },
     "execution_count": 69,
     "metadata": {},
     "output_type": "execute_result"
    }
   ],
   "source": [
    "b_twodim = b[:, np.newaxis]  # This does the trick by adding a dummy singleton dimension\n",
    "print(\"shape a: \", a.shape)\n",
    "print(\"shape b_twodim: \", b_twodim.shape)\n",
    "a + b_twodim  # now the last dimension is compatible between the two arrays:"
   ]
  },
  {
   "cell_type": "markdown",
   "id": "cece27c9",
   "metadata": {
    "slideshow": {
     "slide_type": "subslide"
    }
   },
   "source": [
    "Practicals 1.1.1"
   ]
  },
  {
   "cell_type": "markdown",
   "id": "75cd41ae",
   "metadata": {
    "slideshow": {
     "slide_type": "slide"
    }
   },
   "source": [
    "## More on `numpy` functions"
   ]
  },
  {
   "cell_type": "markdown",
   "id": "aaeb616a",
   "metadata": {
    "slideshow": {
     "slide_type": "slide"
    }
   },
   "source": [
    "### `np.mean()` / `np.nanmean()`"
   ]
  },
  {
   "cell_type": "markdown",
   "id": "bd1c500d",
   "metadata": {
    "slideshow": {
     "slide_type": "fragment"
    }
   },
   "source": [
    "Calculate the average of an array, either global or along some axis:"
   ]
  },
  {
   "cell_type": "code",
   "execution_count": 74,
   "id": "9ae4da63",
   "metadata": {
    "slideshow": {
     "slide_type": "-"
    }
   },
   "outputs": [
    {
     "name": "stdout",
     "output_type": "stream",
     "text": [
      "[[ 70 237 122  55 129   0]\n",
      " [226 172 166 152  58 206]\n",
      " [ 24  28 111 228 114 121]\n",
      " [144  14  74  36 251 113]\n",
      " [ 89 130  83 233 215  86]];\n",
      "mean: 122.9\n"
     ]
    }
   ],
   "source": [
    "import numpy as np\n",
    "arr = np.random.randint(0, 255, (5, 6))\n",
    "mean = np.mean(arr)  # compute the mean of the whole array\n",
    "\n",
    "print(f\"{arr};\\nmean: {mean}\")"
   ]
  },
  {
   "cell_type": "markdown",
   "id": "83b93581",
   "metadata": {
    "slideshow": {
     "slide_type": "subslide"
    }
   },
   "source": [
    "If we want to take the average along a specific dimension, we can pass the axis as a parameter:"
   ]
  },
  {
   "cell_type": "code",
   "execution_count": 79,
   "id": "5378d984",
   "metadata": {},
   "outputs": [
    {
     "name": "stdout",
     "output_type": "stream",
     "text": [
      "[[[161 181]\n",
      "  [133 210]]\n",
      "\n",
      " [[209 177]\n",
      "  [186 220]]\n",
      "\n",
      " [[120   1]\n",
      "  [  7 226]]];\n",
      "mean: [171.25 198.    88.5 ]\n"
     ]
    }
   ],
   "source": [
    "import numpy as np\n",
    "arr = np.random.randint(0, 255, (3, 2, 2))\n",
    "arr_mean = np.mean(arr, axis=(1, 2))  # we specify one axis along which to mean\n",
    "\n",
    "print(f\"{arr};\\nmean: {arr_mean}\")"
   ]
  },
  {
   "cell_type": "markdown",
   "id": "4d05dd28",
   "metadata": {
    "slideshow": {
     "slide_type": "subslide"
    }
   },
   "source": [
    "If there are nan values around, we have to use `np.nanmean()`:"
   ]
  },
  {
   "cell_type": "code",
   "execution_count": 80,
   "id": "167a3073",
   "metadata": {},
   "outputs": [
    {
     "name": "stdout",
     "output_type": "stream",
     "text": [
      "[[ nan 198.  12. 138.  84.   7.]\n",
      " [ 28.  60. 203. 140. 146. 205.]\n",
      " [230.  84.  70. 179. 128. 222.]\n",
      " [204. 166.  82.  26. 213. 123.]\n",
      " [165. 174. 184. 182. 248. 160.]];\n",
      "regular mean: nan\n",
      "nanmean: 140.0344827586207\n"
     ]
    }
   ],
   "source": [
    "import numpy as np\n",
    "\n",
    "# we need a float dtype to use nan values:\n",
    "arr = np.random.randint(0, 255, (5, 6)).astype(float) \n",
    "\n",
    "arr[0, 0] = np.nan\n",
    "arr_mean = np.mean(arr)  # regular mean\n",
    "arr_nan_mean = np.nanmean(arr)  # use nanmean\n",
    "\n",
    "print(f\"{arr};\\nregular mean: {arr_mean}\\nnanmean: {arr_nan_mean}\")"
   ]
  },
  {
   "cell_type": "markdown",
   "id": "371e7b51",
   "metadata": {
    "slideshow": {
     "slide_type": "subslide"
    }
   },
   "source": [
    "Many of the functions we're about to see behave in this way - assume they have a nan-dealing equivalent!\n",
    "\n",
    " - `np.std()` / `np.nanstd()`\n",
    " - `np.percentile()` / `np.nanpercentile()`\n",
    " - `np.max()` / `np.nanmax()`\n",
    " - ..."
   ]
  },
  {
   "cell_type": "markdown",
   "id": "41a2bb00",
   "metadata": {
    "slideshow": {
     "slide_type": "subslide"
    }
   },
   "source": [
    "### `np.std()` / `np.nanstd()`"
   ]
  },
  {
   "cell_type": "markdown",
   "id": "bb00055f",
   "metadata": {
    "slideshow": {
     "slide_type": "-"
    }
   },
   "source": [
    "Calculate the standard deviation of an array, either global or along some axis:"
   ]
  },
  {
   "cell_type": "code",
   "execution_count": 83,
   "id": "5bb73245",
   "metadata": {},
   "outputs": [
    {
     "data": {
      "text/plain": [
       "np.float64(3.054255688975187)"
      ]
     },
     "execution_count": 83,
     "metadata": {},
     "output_type": "execute_result"
    }
   ],
   "source": [
    "arr = np.random.normal(0, 3, 1000)\n",
    "np.std(arr)"
   ]
  },
  {
   "cell_type": "markdown",
   "id": "11095118",
   "metadata": {
    "slideshow": {
     "slide_type": "subslide"
    }
   },
   "source": [
    "### `np.median()` / `np.nanmedian()`"
   ]
  },
  {
   "cell_type": "markdown",
   "id": "8d0a144a",
   "metadata": {},
   "source": [
    "Calculate the median of an array, either global or along some axis:"
   ]
  },
  {
   "cell_type": "code",
   "execution_count": null,
   "id": "e2942579",
   "metadata": {},
   "outputs": [],
   "source": [
    "arr = np.random.randint(0, 100, (1000, 10))\n",
    "np.median(arr, axis=0)"
   ]
  },
  {
   "cell_type": "markdown",
   "id": "1b81aa46",
   "metadata": {
    "slideshow": {
     "slide_type": "subslide"
    }
   },
   "source": [
    "### `np.max()` / `np.min()`"
   ]
  },
  {
   "cell_type": "markdown",
   "id": "11f5abf6",
   "metadata": {},
   "source": [
    "Calculate the minimum or maximum of an array, either global or along some axis:"
   ]
  },
  {
   "cell_type": "code",
   "execution_count": null,
   "id": "a3089679",
   "metadata": {},
   "outputs": [],
   "source": [
    "arr = np.random.randint(0, 100, 1000)\n",
    "\n",
    "np.min(arr), np.max(arr)  # print min and max together"
   ]
  },
  {
   "cell_type": "markdown",
   "id": "9147b2a1",
   "metadata": {
    "slideshow": {
     "slide_type": "subslide"
    }
   },
   "source": [
    "### `np.percentile()`"
   ]
  },
  {
   "cell_type": "markdown",
   "id": "16f4b233",
   "metadata": {
    "slideshow": {
     "slide_type": "fragment"
    }
   },
   "source": [
    "Calculate a given percentile of an array, either global or along some axis:"
   ]
  },
  {
   "cell_type": "code",
   "execution_count": 84,
   "id": "f5d53f52",
   "metadata": {},
   "outputs": [
    {
     "data": {
      "text/plain": [
       "np.float64(742.0)"
      ]
     },
     "execution_count": 84,
     "metadata": {},
     "output_type": "execute_result"
    }
   ],
   "source": [
    "arr = np.random.randint(0, 1000, 10000)\n",
    "\n",
    "np.percentile(arr, 75)  # print min and max together"
   ]
  },
  {
   "cell_type": "markdown",
   "id": "f6011b04",
   "metadata": {
    "slideshow": {
     "slide_type": "subslide"
    }
   },
   "source": [
    "### `np.unique()`"
   ]
  },
  {
   "cell_type": "markdown",
   "id": "cd5e886f",
   "metadata": {
    "slideshow": {
     "slide_type": "-"
    }
   },
   "source": [
    "Return unique values of an array, and if asked their counts"
   ]
  },
  {
   "cell_type": "code",
   "execution_count": 90,
   "id": "18f5d49d",
   "metadata": {},
   "outputs": [
    {
     "data": {
      "text/plain": [
       "(array([1, 2, 3]), array([1, 3, 4]))"
      ]
     },
     "execution_count": 90,
     "metadata": {},
     "output_type": "execute_result"
    }
   ],
   "source": [
    "np.unique(np.array([1, 2, 2, 2, 3, 3, 3, 3]), return_counts=True)"
   ]
  },
  {
   "cell_type": "code",
   "execution_count": null,
   "id": "04f0b5c7",
   "metadata": {
    "slideshow": {
     "slide_type": "subslide"
    }
   },
   "outputs": [],
   "source": [
    "# If we ask we can get counts as well\n",
    "unique_values, counts = np.unique([1,2,2,3], return_counts=True) \n",
    "\n",
    "print(\"unique:\", unique_values)§\n",
    "\n",
    "print(\"counts:\", counts)"
   ]
  },
  {
   "cell_type": "code",
   "execution_count": null,
   "id": "cf8e5801",
   "metadata": {},
   "outputs": [],
   "source": [
    "arr = np.random.normal(0, 1, 1000000)"
   ]
  },
  {
   "cell_type": "markdown",
   "id": "83074349",
   "metadata": {
    "slideshow": {
     "slide_type": "subslide"
    }
   },
   "source": [
    "### `np.diff()` / `np.cumsum()`  "
   ]
  },
  {
   "cell_type": "markdown",
   "id": "8c95f375",
   "metadata": {},
   "source": [
    "We can compute cumulative sums (integrals) of an array with `np.cumsum()`:"
   ]
  },
  {
   "cell_type": "code",
   "execution_count": 93,
   "id": "497b903b",
   "metadata": {},
   "outputs": [
    {
     "data": {
      "text/plain": [
       "array([[ 1,  3,  6, 10],\n",
       "       [ 1,  3,  7, 12]])"
      ]
     },
     "execution_count": 93,
     "metadata": {},
     "output_type": "execute_result"
    }
   ],
   "source": [
    "my_arr = np.array([[1,2,3,4],\n",
    "                   [1,2,4,5]])\n",
    "np.cumsum(my_arr, axis=1)"
   ]
  },
  {
   "cell_type": "markdown",
   "id": "1458d783",
   "metadata": {},
   "source": [
    "We can compute differences between consecutive elements of an array using `np.diff()`:"
   ]
  },
  {
   "cell_type": "code",
   "execution_count": 94,
   "id": "ab5a2e82",
   "metadata": {
    "slideshow": {
     "slide_type": "subslide"
    }
   },
   "outputs": [
    {
     "data": {
      "text/plain": [
       "array([1, 1, 2])"
      ]
     },
     "execution_count": 94,
     "metadata": {},
     "output_type": "execute_result"
    }
   ],
   "source": [
    "my_arr = np.array([1,2,3,5])\n",
    "np.diff(my_arr)"
   ]
  },
  {
   "cell_type": "markdown",
   "id": "3b5f3cca",
   "metadata": {
    "slideshow": {
     "slide_type": "slide"
    }
   },
   "source": [
    "(Practicals 1.1.2)"
   ]
  },
  {
   "cell_type": "markdown",
   "id": "4c9af68d",
   "metadata": {
    "slideshow": {
     "slide_type": "slide"
    }
   },
   "source": [
    "### Write code the `numpy` way"
   ]
  },
  {
   "cell_type": "markdown",
   "id": "58014c7d",
   "metadata": {},
   "source": [
    "When operating with matrices, you should always aim at writing <span style=\"color:indianred\">vectorized</span> code"
   ]
  },
  {
   "cell_type": "markdown",
   "id": "3fe563f6",
   "metadata": {},
   "source": [
    "Vectorized code: code where for loops are replaced by operations over matrix dimensions"
   ]
  },
  {
   "cell_type": "markdown",
   "id": "2af65e86",
   "metadata": {},
   "source": [
    "An very simple example: vectors multiplication"
   ]
  },
  {
   "cell_type": "code",
   "execution_count": 96,
   "id": "5c86633d",
   "metadata": {
    "slideshow": {
     "slide_type": "subslide"
    }
   },
   "outputs": [],
   "source": [
    "vector_1 = np.random.normal(0, 1, (10000000,))\n",
    "vector_2 = np.random.normal(0, 1, (10000000,))"
   ]
  },
  {
   "cell_type": "code",
   "execution_count": 97,
   "id": "4e110f01",
   "metadata": {},
   "outputs": [
    {
     "name": "stdout",
     "output_type": "stream",
     "text": [
      "1.36 s ± 30.4 ms per loop (mean ± std. dev. of 7 runs, 1 loop each)\n"
     ]
    }
   ],
   "source": [
    "%%timeit\n",
    "product = np.zeros(vector_1.shape)  # initialize empty result vector\n",
    "\n",
    "# Compute the multiplication in a loop:\n",
    "for i in range(vector_1.shape[0]):\n",
    "    product[i] = vector_1[i] * vector_2[i]"
   ]
  },
  {
   "cell_type": "code",
   "execution_count": 98,
   "id": "e107c511",
   "metadata": {
    "cell_style": "center",
    "slideshow": {
     "slide_type": "subslide"
    }
   },
   "outputs": [
    {
     "name": "stdout",
     "output_type": "stream",
     "text": [
      "8.1 ms ± 267 µs per loop (mean ± std. dev. of 7 runs, 100 loops each)\n"
     ]
    }
   ],
   "source": [
    "%%timeit\n",
    "product = vector_1 * vector_2"
   ]
  },
  {
   "cell_type": "markdown",
   "id": "372460b4",
   "metadata": {
    "slideshow": {
     "slide_type": "subslide"
    }
   },
   "source": [
    "Another example: Z-score the rows of a matrix:"
   ]
  },
  {
   "cell_type": "code",
   "execution_count": 99,
   "id": "47b5f978",
   "metadata": {},
   "outputs": [],
   "source": [
    "data_matrix = np.random.randint(0, 255, (100000, 100))"
   ]
  },
  {
   "cell_type": "code",
   "execution_count": 100,
   "id": "8dfdb4d8",
   "metadata": {},
   "outputs": [
    {
     "name": "stdout",
     "output_type": "stream",
     "text": [
      "1.1 s ± 7.13 ms per loop (mean ± std. dev. of 7 runs, 1 loop each)\n"
     ]
    }
   ],
   "source": [
    "%%timeit\n",
    "normalized_matrix = np.zeros(data_matrix.shape)  # start an empty matrix of matching shape \n",
    "\n",
    "# Loop over rows (first dimension), take mean and std, subtract and divide:\n",
    "for i in range(data_matrix.shape[0]):\n",
    "    row_mean = np.mean(data_matrix[i, :])\n",
    "    row_std = np.std(data_matrix[i, :])\n",
    "    \n",
    "    normalized_matrix[i, :] = (data_matrix[i, :] - row_mean) / row_std"
   ]
  },
  {
   "cell_type": "code",
   "execution_count": 101,
   "id": "57a84d6a",
   "metadata": {
    "slideshow": {
     "slide_type": "subslide"
    }
   },
   "outputs": [
    {
     "name": "stdout",
     "output_type": "stream",
     "text": [
      "42.1 ms ± 350 µs per loop (mean ± std. dev. of 7 runs, 10 loops each)\n"
     ]
    }
   ],
   "source": [
    "%%timeit\n",
    "rows_mean = np.mean(data_matrix, axis=1)  # vectorized mean\n",
    "rows_std = np.std(data_matrix, axis=1)  # vectorized std\n",
    "\n",
    "# Now we write the normalization as a vector operation.\n",
    "# Note how we use broadcasting to make sure the right dimensions are propagated!\n",
    "normalized_matrix = data_matrix - rows_mean[:, np.newaxis] / rows_std[:, np.newaxis]"
   ]
  }
 ],
 "metadata": {
  "celltoolbar": "Slideshow",
  "kernelspec": {
   "display_name": "course-env",
   "language": "python",
   "name": "python3"
  },
  "language_info": {
   "codemirror_mode": {
    "name": "ipython",
    "version": 3
   },
   "file_extension": ".py",
   "mimetype": "text/x-python",
   "name": "python",
   "nbconvert_exporter": "python",
   "pygments_lexer": "ipython3",
   "version": "3.10.13"
  }
 },
 "nbformat": 4,
 "nbformat_minor": 5
}
