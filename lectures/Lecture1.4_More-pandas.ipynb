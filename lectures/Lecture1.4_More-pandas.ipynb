{
 "cells": [
  {
   "cell_type": "markdown",
   "id": "6af7a192",
   "metadata": {
    "slideshow": {
     "slide_type": "slide"
    }
   },
   "source": [
    "# Python for (open) Neuroscience\n",
    "\n",
    "_Lecture 1.4_ - Advanced `pandas`\n",
    "\n",
    "Luigi Petrucco\n",
    "\n",
    "[![Open In Colab](https://colab.research.google.com/assets/colab-badge.svg)](https://colab.research.google.com/github/vigji/python-cimec-2025/blob/main/lectures/Lecture1.4_More-pandas.ipynb)"
   ]
  },
  {
   "cell_type": "markdown",
   "id": "10dcbc31",
   "metadata": {
    "slideshow": {
     "slide_type": "subslide"
    }
   },
   "source": [
    "## Outline\n",
    " - organise data in dataframes\n",
    " - aggregate statistics with `groupby()`\n",
    " - index broadcasting in `pandas`"
   ]
  },
  {
   "cell_type": "markdown",
   "id": "fa262222",
   "metadata": {
    "slideshow": {
     "slide_type": "subslide"
    }
   },
   "source": [
    "## Organize data in `DataFrame`s"
   ]
  },
  {
   "cell_type": "markdown",
   "id": "4f26b7d1",
   "metadata": {
    "slideshow": {
     "slide_type": "subslide"
    }
   },
   "source": [
    "A very common issue in data science is: how to organize our datasets?"
   ]
  },
  {
   "cell_type": "code",
   "execution_count": 6,
   "id": "c128a5d0",
   "metadata": {
    "slideshow": {
     "slide_type": "skip"
    }
   },
   "outputs": [],
   "source": [
    "import numpy as np\n",
    "import pandas as pd \n",
    "\n",
    "n_subjects = 4\n",
    "n_repetitions = 3\n",
    "subject_data = [{\"accuracy\":np.random.rand(), \"speed\":np.random.rand()}  for _ in range(n_repetitions)]"
   ]
  },
  {
   "cell_type": "code",
   "execution_count": 7,
   "id": "aa1d1010",
   "metadata": {},
   "outputs": [
    {
     "data": {
      "text/plain": [
       "[{'accuracy': 0.5488135039273248, 'speed': 0.7151893663724195},\n",
       " {'accuracy': 0.6027633760716439, 'speed': 0.5448831829968969},\n",
       " {'accuracy': 0.4236547993389047, 'speed': 0.6458941130666561}]"
      ]
     },
     "execution_count": 7,
     "metadata": {},
     "output_type": "execute_result"
    }
   ],
   "source": [
    "# Imagine we present subject with three trials of a stimulus. \n",
    "# during every trial, we measure 2 variables (eg, accuracy and speed).\n",
    "\n",
    "# We could represent the data entries for each stimulus as a dictionary, \n",
    "# and the data for all trials for a subject as a list of dictionaries:\n",
    "subject_data"
   ]
  },
  {
   "cell_type": "code",
   "execution_count": 8,
   "id": "48848855",
   "metadata": {
    "slideshow": {
     "slide_type": "skip"
    }
   },
   "outputs": [
    {
     "data": {
      "text/plain": [
       "{'subj_0': [{'accuracy': 0.4375872112626925, 'speed': 0.8917730007820798},\n",
       "  {'accuracy': 0.9636627605010293, 'speed': 0.3834415188257777},\n",
       "  {'accuracy': 0.7917250380826646, 'speed': 0.5288949197529045}],\n",
       " 'subj_1': [{'accuracy': 0.5680445610939323, 'speed': 0.925596638292661},\n",
       "  {'accuracy': 0.07103605819788694, 'speed': 0.08712929970154071},\n",
       "  {'accuracy': 0.02021839744032572, 'speed': 0.832619845547938}],\n",
       " 'subj_2': [{'accuracy': 0.7781567509498505, 'speed': 0.8700121482468192},\n",
       "  {'accuracy': 0.978618342232764, 'speed': 0.7991585642167236},\n",
       "  {'accuracy': 0.46147936225293185, 'speed': 0.7805291762864555}],\n",
       " 'subj_3': [{'accuracy': 0.11827442586893322, 'speed': 0.6399210213275238},\n",
       "  {'accuracy': 0.1433532874090464, 'speed': 0.9446689170495839},\n",
       "  {'accuracy': 0.5218483217500717, 'speed': 0.4146619399905236}]}"
      ]
     },
     "execution_count": 8,
     "metadata": {},
     "output_type": "execute_result"
    }
   ],
   "source": [
    "all_subjects_data = dict()\n",
    "\n",
    "for i in range(n_subjects):\n",
    "    all_subjects_data[f\"subj_{i}\"] = \\\n",
    "        [{\"accuracy\":np.random.rand(), \"speed\":np.random.rand()} for _ in range(n_repetitions)]\n",
    "all_subjects_data"
   ]
  },
  {
   "cell_type": "code",
   "execution_count": 9,
   "id": "3318286d",
   "metadata": {
    "slideshow": {
     "slide_type": "subslide"
    }
   },
   "outputs": [
    {
     "name": "stdout",
     "output_type": "stream",
     "text": [
      "{'subj_0': [{'accuracy': 0.4375872112626925, 'speed': 0.8917730007820798},\n",
      "            {'accuracy': 0.9636627605010293, 'speed': 0.3834415188257777},\n",
      "            {'accuracy': 0.7917250380826646, 'speed': 0.5288949197529045}],\n",
      " 'subj_1': [{'accuracy': 0.5680445610939323, 'speed': 0.925596638292661},\n",
      "            {'accuracy': 0.07103605819788694, 'speed': 0.08712929970154071},\n",
      "            {'accuracy': 0.02021839744032572, 'speed': 0.832619845547938}],\n",
      " 'subj_2': [{'accuracy': 0.7781567509498505, 'speed': 0.8700121482468192},\n",
      "            {'accuracy': 0.978618342232764, 'speed': 0.7991585642167236},\n",
      "            {'accuracy': 0.46147936225293185, 'speed': 0.7805291762864555}],\n",
      " 'subj_3': [{'accuracy': 0.11827442586893322, 'speed': 0.6399210213275238},\n",
      "            {'accuracy': 0.1433532874090464, 'speed': 0.9446689170495839},\n",
      "            {'accuracy': 0.5218483217500717, 'speed': 0.4146619399905236}]}\n"
     ]
    }
   ],
   "source": [
    "# Imagine we have 4 experimental subjects: we could pool the data \n",
    "# for all subjects as a dictionary of lists of dictionaries.\n",
    "\n",
    "from pprint import pp  # Pretty print function! Just learned about this\n",
    "pp(all_subjects_data)"
   ]
  },
  {
   "cell_type": "markdown",
   "id": "dc9b504f",
   "metadata": {
    "slideshow": {
     "slide_type": "subslide"
    }
   },
   "source": [
    "This is now organized but very **nested**! it is not easy to perform statistics on it."
   ]
  },
  {
   "cell_type": "code",
   "execution_count": 10,
   "id": "00cf09dd",
   "metadata": {},
   "outputs": [
    {
     "data": {
      "text/plain": [
       "0.6748672491683777"
      ]
     },
     "execution_count": 10,
     "metadata": {},
     "output_type": "execute_result"
    }
   ],
   "source": [
    "# Imagine we want to average the results across all subjects for variable_1:\n",
    "means = []\n",
    "for subject_results in all_subjects_data.values():\n",
    "    for result in subject_results:\n",
    "        means.append(result[\"speed\"])\n",
    "np.mean(means)"
   ]
  },
  {
   "cell_type": "markdown",
   "id": "124af170",
   "metadata": {
    "slideshow": {
     "slide_type": "subslide"
    }
   },
   "source": [
    "When we organize data in pandas dataframes, there is an important principle to keep in mind:\n",
    "\n",
    "**keep them as flat as possible**"
   ]
  },
  {
   "cell_type": "markdown",
   "id": "d4264009",
   "metadata": {},
   "source": [
    "`flat` = opposite of nested\n",
    "\n",
    "`nested` = lists of dictionaries of lists of dictionaries of dataframes of...\n",
    "\n"
   ]
  },
  {
   "cell_type": "markdown",
   "id": "461f77b8",
   "metadata": {
    "slideshow": {
     "slide_type": "subslide"
    }
   },
   "source": [
    "Remember!\n",
    "\n",
    "\n",
    "    🪷 The Zen of Python 🪷\n",
    "        \n",
    "        Flat is better than nested"
   ]
  },
  {
   "cell_type": "code",
   "execution_count": 11,
   "id": "8b8c2c8c",
   "metadata": {
    "slideshow": {
     "slide_type": "subslide"
    }
   },
   "outputs": [
    {
     "data": {
      "text/html": [
       "<div>\n",
       "<style scoped>\n",
       "    .dataframe tbody tr th:only-of-type {\n",
       "        vertical-align: middle;\n",
       "    }\n",
       "\n",
       "    .dataframe tbody tr th {\n",
       "        vertical-align: top;\n",
       "    }\n",
       "\n",
       "    .dataframe thead th {\n",
       "        text-align: right;\n",
       "    }\n",
       "</style>\n",
       "<table border=\"1\" class=\"dataframe\">\n",
       "  <thead>\n",
       "    <tr style=\"text-align: right;\">\n",
       "      <th></th>\n",
       "      <th>accuracy</th>\n",
       "      <th>speed</th>\n",
       "      <th>subject</th>\n",
       "      <th>repetition</th>\n",
       "    </tr>\n",
       "  </thead>\n",
       "  <tbody>\n",
       "    <tr>\n",
       "      <th>0</th>\n",
       "      <td>0.437587</td>\n",
       "      <td>0.891773</td>\n",
       "      <td>subj_0</td>\n",
       "      <td>0</td>\n",
       "    </tr>\n",
       "    <tr>\n",
       "      <th>1</th>\n",
       "      <td>0.963663</td>\n",
       "      <td>0.383442</td>\n",
       "      <td>subj_0</td>\n",
       "      <td>1</td>\n",
       "    </tr>\n",
       "    <tr>\n",
       "      <th>2</th>\n",
       "      <td>0.791725</td>\n",
       "      <td>0.528895</td>\n",
       "      <td>subj_0</td>\n",
       "      <td>2</td>\n",
       "    </tr>\n",
       "    <tr>\n",
       "      <th>3</th>\n",
       "      <td>0.568045</td>\n",
       "      <td>0.925597</td>\n",
       "      <td>subj_1</td>\n",
       "      <td>0</td>\n",
       "    </tr>\n",
       "    <tr>\n",
       "      <th>4</th>\n",
       "      <td>0.071036</td>\n",
       "      <td>0.087129</td>\n",
       "      <td>subj_1</td>\n",
       "      <td>1</td>\n",
       "    </tr>\n",
       "    <tr>\n",
       "      <th>5</th>\n",
       "      <td>0.020218</td>\n",
       "      <td>0.832620</td>\n",
       "      <td>subj_1</td>\n",
       "      <td>2</td>\n",
       "    </tr>\n",
       "    <tr>\n",
       "      <th>6</th>\n",
       "      <td>0.778157</td>\n",
       "      <td>0.870012</td>\n",
       "      <td>subj_2</td>\n",
       "      <td>0</td>\n",
       "    </tr>\n",
       "    <tr>\n",
       "      <th>7</th>\n",
       "      <td>0.978618</td>\n",
       "      <td>0.799159</td>\n",
       "      <td>subj_2</td>\n",
       "      <td>1</td>\n",
       "    </tr>\n",
       "    <tr>\n",
       "      <th>8</th>\n",
       "      <td>0.461479</td>\n",
       "      <td>0.780529</td>\n",
       "      <td>subj_2</td>\n",
       "      <td>2</td>\n",
       "    </tr>\n",
       "    <tr>\n",
       "      <th>9</th>\n",
       "      <td>0.118274</td>\n",
       "      <td>0.639921</td>\n",
       "      <td>subj_3</td>\n",
       "      <td>0</td>\n",
       "    </tr>\n",
       "    <tr>\n",
       "      <th>10</th>\n",
       "      <td>0.143353</td>\n",
       "      <td>0.944669</td>\n",
       "      <td>subj_3</td>\n",
       "      <td>1</td>\n",
       "    </tr>\n",
       "    <tr>\n",
       "      <th>11</th>\n",
       "      <td>0.521848</td>\n",
       "      <td>0.414662</td>\n",
       "      <td>subj_3</td>\n",
       "      <td>2</td>\n",
       "    </tr>\n",
       "  </tbody>\n",
       "</table>\n",
       "</div>"
      ],
      "text/plain": [
       "    accuracy     speed subject  repetition\n",
       "0   0.437587  0.891773  subj_0           0\n",
       "1   0.963663  0.383442  subj_0           1\n",
       "2   0.791725  0.528895  subj_0           2\n",
       "3   0.568045  0.925597  subj_1           0\n",
       "4   0.071036  0.087129  subj_1           1\n",
       "5   0.020218  0.832620  subj_1           2\n",
       "6   0.778157  0.870012  subj_2           0\n",
       "7   0.978618  0.799159  subj_2           1\n",
       "8   0.461479  0.780529  subj_2           2\n",
       "9   0.118274  0.639921  subj_3           0\n",
       "10  0.143353  0.944669  subj_3           1\n",
       "11  0.521848  0.414662  subj_3           2"
      ]
     },
     "execution_count": 11,
     "metadata": {},
     "output_type": "execute_result"
    }
   ],
   "source": [
    "# We can turn the data into a dataframe (does not matter how we do it here! this is just an ugly example)\n",
    "flat_list_of_dicts = []\n",
    "\n",
    "for sub in all_subjects_data.keys():\n",
    "    for n_rep in range(n_repetitions):\n",
    "        trial_dict = all_subjects_data[sub][n_rep]\n",
    "        trial_dict.update({\"subject\": sub, \"repetition\": n_rep})\n",
    "        \n",
    "        flat_list_of_dicts.append(trial_dict)\n",
    "                    \n",
    "trials_df = pd.DataFrame(flat_list_of_dicts)\n",
    "trials_df\n"
   ]
  },
  {
   "cell_type": "markdown",
   "id": "a849e7aa",
   "metadata": {
    "slideshow": {
     "slide_type": "subslide"
    }
   },
   "source": [
    "We can now easily perform statistics on the data:"
   ]
  },
  {
   "cell_type": "code",
   "execution_count": 12,
   "id": "d61f1080",
   "metadata": {},
   "outputs": [
    {
     "data": {
      "text/plain": [
       "0.6748672491683777"
      ]
     },
     "execution_count": 12,
     "metadata": {},
     "output_type": "execute_result"
    }
   ],
   "source": [
    "trials_df[\"speed\"].mean()"
   ]
  },
  {
   "cell_type": "markdown",
   "id": "8cb82eed",
   "metadata": {},
   "source": [
    "Or look for _e.g._ max and min values across the dataset:"
   ]
  },
  {
   "cell_type": "code",
   "execution_count": 13,
   "id": "ff079ba3",
   "metadata": {},
   "outputs": [
    {
     "ename": "NameError",
     "evalue": "name 'min_idx' is not defined",
     "output_type": "error",
     "traceback": [
      "\u001b[0;31m---------------------------------------------------------------------------\u001b[0m",
      "\u001b[0;31mNameError\u001b[0m                                 Traceback (most recent call last)",
      "Cell \u001b[0;32mIn[13], line 2\u001b[0m\n\u001b[1;32m      1\u001b[0m max_idx \u001b[38;5;241m=\u001b[39m trials_df[\u001b[38;5;124m\"\u001b[39m\u001b[38;5;124mspeed\u001b[39m\u001b[38;5;124m\"\u001b[39m]\u001b[38;5;241m.\u001b[39margmax()\n\u001b[0;32m----> 2\u001b[0m trials_df\u001b[38;5;241m.\u001b[39mloc[\u001b[43mmin_idx\u001b[49m, :]  \u001b[38;5;66;03m# shows subject and trial with max speed across the dataset\u001b[39;00m\n",
      "\u001b[0;31mNameError\u001b[0m: name 'min_idx' is not defined"
     ]
    }
   ],
   "source": [
    "max_idx = trials_df[\"speed\"].argmax()\n",
    "trials_df.loc[min_idx, :]  # shows subject and trial with max speed across the dataset"
   ]
  },
  {
   "cell_type": "markdown",
   "id": "4c72d4ae",
   "metadata": {
    "slideshow": {
     "slide_type": "subslide"
    }
   },
   "source": [
    "### Principles for organizing `pandas` dataframes"
   ]
  },
  {
   "cell_type": "markdown",
   "id": "8bed0db5",
   "metadata": {
    "slideshow": {
     "slide_type": "subslide"
    }
   },
   "source": [
    "Keep in the same dataset **all the data of the same type** you have **across groups**.\n",
    "\n",
    "E.g.:\n",
    " - A `subject_df` DataFrame for all subjects, across experimental groups\n",
    " - A `trial_df` DataFrame for all trials across subjects\n",
    " - A `response_df` DataFrame with responses across areas and across subjects"
   ]
  },
  {
   "cell_type": "markdown",
   "id": "fb8b3e35",
   "metadata": {
    "slideshow": {
     "slide_type": "subslide"
    }
   },
   "source": [
    "If you load lists of dataframes (e.g., you have separate files for each subject) concatenate them before start working with them!!"
   ]
  },
  {
   "cell_type": "markdown",
   "id": "032ee21d",
   "metadata": {
    "slideshow": {
     "slide_type": "subslide"
    }
   },
   "source": [
    "## Split different information over dataframes\n",
    "\n",
    "Consider having multiple dataframes to describe different aspects of your experiment. For example:\n",
    "\n",
    "- a `subject_dataframe` with the info on your subjects\n",
    "- a `trials_dataframe` with the trial responses across subjects\n",
    "\n",
    "And keep consistent ids / nomenclature to work across both!"
   ]
  },
  {
   "cell_type": "markdown",
   "id": "29cd3855",
   "metadata": {
    "slideshow": {
     "slide_type": "subslide"
    }
   },
   "source": [
    "Example:"
   ]
  },
  {
   "cell_type": "code",
   "execution_count": 15,
   "id": "22f31670",
   "metadata": {},
   "outputs": [],
   "source": [
    "import numpy as np\n",
    "import pandas as pd\n",
    "np.random.seed(0)\n",
    "subjects_df = pd.DataFrame({\"sex\":np.random.choice([\"F\", \"M\"], size=n_subjects),\n",
    "                            \"handedness\": np.random.choice([\"left\", \"right\"], size=n_subjects),\n",
    "                            \"age\": np.random.randint(20, 40, size=n_subjects)})\n",
    "subjects_df.index = [f\"subj_{i}\" for i in range(n_subjects)]"
   ]
  },
  {
   "cell_type": "code",
   "execution_count": 16,
   "id": "ff51dbab",
   "metadata": {},
   "outputs": [
    {
     "data": {
      "text/html": [
       "<div>\n",
       "<style scoped>\n",
       "    .dataframe tbody tr th:only-of-type {\n",
       "        vertical-align: middle;\n",
       "    }\n",
       "\n",
       "    .dataframe tbody tr th {\n",
       "        vertical-align: top;\n",
       "    }\n",
       "\n",
       "    .dataframe thead th {\n",
       "        text-align: right;\n",
       "    }\n",
       "</style>\n",
       "<table border=\"1\" class=\"dataframe\">\n",
       "  <thead>\n",
       "    <tr style=\"text-align: right;\">\n",
       "      <th></th>\n",
       "      <th>sex</th>\n",
       "      <th>handedness</th>\n",
       "      <th>age</th>\n",
       "    </tr>\n",
       "  </thead>\n",
       "  <tbody>\n",
       "    <tr>\n",
       "      <th>subj_0</th>\n",
       "      <td>F</td>\n",
       "      <td>right</td>\n",
       "      <td>29</td>\n",
       "    </tr>\n",
       "    <tr>\n",
       "      <th>subj_1</th>\n",
       "      <td>M</td>\n",
       "      <td>right</td>\n",
       "      <td>39</td>\n",
       "    </tr>\n",
       "    <tr>\n",
       "      <th>subj_2</th>\n",
       "      <td>M</td>\n",
       "      <td>right</td>\n",
       "      <td>38</td>\n",
       "    </tr>\n",
       "    <tr>\n",
       "      <th>subj_3</th>\n",
       "      <td>F</td>\n",
       "      <td>right</td>\n",
       "      <td>24</td>\n",
       "    </tr>\n",
       "  </tbody>\n",
       "</table>\n",
       "</div>"
      ],
      "text/plain": [
       "       sex handedness  age\n",
       "subj_0   F      right   29\n",
       "subj_1   M      right   39\n",
       "subj_2   M      right   38\n",
       "subj_3   F      right   24"
      ]
     },
     "execution_count": 16,
     "metadata": {},
     "output_type": "execute_result"
    }
   ],
   "source": [
    "# This is a subjects dataframe for the experiment above:\n",
    "subjects_df"
   ]
  },
  {
   "cell_type": "markdown",
   "id": "0c7f6ca9",
   "metadata": {
    "slideshow": {
     "slide_type": "subslide"
    }
   },
   "source": [
    "We can now easily filter the subjects we want to work on with smart indexing:"
   ]
  },
  {
   "cell_type": "code",
   "execution_count": 17,
   "id": "7c1b7ea7",
   "metadata": {
    "slideshow": {
     "slide_type": "-"
    }
   },
   "outputs": [
    {
     "name": "stdout",
     "output_type": "stream",
     "text": [
      "       sex handedness  age\n",
      "subj_0   F      right   29\n",
      "subj_3   F      right   24\n"
     ]
    }
   ],
   "source": [
    "selected_subjects_df = subjects_df[(subjects_df[\"age\"] <= 30)]\n",
    "\n",
    "print(selected_subjects_df)"
   ]
  },
  {
   "cell_type": "code",
   "execution_count": 18,
   "id": "d156076a",
   "metadata": {},
   "outputs": [
    {
     "data": {
      "text/plain": [
       "Index(['subj_0', 'subj_3'], dtype='object')"
      ]
     },
     "execution_count": 18,
     "metadata": {},
     "output_type": "execute_result"
    }
   ],
   "source": [
    "# Take all the selected ids:\n",
    "sel_subjects_ids = selected_subjects_df.index\n",
    "sel_subjects_ids"
   ]
  },
  {
   "cell_type": "markdown",
   "id": "c95f9aa4",
   "metadata": {
    "slideshow": {
     "slide_type": "subslide"
    }
   },
   "source": [
    "Now we can restrain our analysis on the trials of these subjects :"
   ]
  },
  {
   "cell_type": "code",
   "execution_count": 19,
   "id": "427abef8",
   "metadata": {},
   "outputs": [
    {
     "data": {
      "text/html": [
       "<div>\n",
       "<style scoped>\n",
       "    .dataframe tbody tr th:only-of-type {\n",
       "        vertical-align: middle;\n",
       "    }\n",
       "\n",
       "    .dataframe tbody tr th {\n",
       "        vertical-align: top;\n",
       "    }\n",
       "\n",
       "    .dataframe thead th {\n",
       "        text-align: right;\n",
       "    }\n",
       "</style>\n",
       "<table border=\"1\" class=\"dataframe\">\n",
       "  <thead>\n",
       "    <tr style=\"text-align: right;\">\n",
       "      <th></th>\n",
       "      <th>accuracy</th>\n",
       "      <th>speed</th>\n",
       "      <th>subject</th>\n",
       "      <th>repetition</th>\n",
       "    </tr>\n",
       "  </thead>\n",
       "  <tbody>\n",
       "    <tr>\n",
       "      <th>0</th>\n",
       "      <td>0.437587</td>\n",
       "      <td>0.891773</td>\n",
       "      <td>subj_0</td>\n",
       "      <td>0</td>\n",
       "    </tr>\n",
       "    <tr>\n",
       "      <th>1</th>\n",
       "      <td>0.963663</td>\n",
       "      <td>0.383442</td>\n",
       "      <td>subj_0</td>\n",
       "      <td>1</td>\n",
       "    </tr>\n",
       "    <tr>\n",
       "      <th>2</th>\n",
       "      <td>0.791725</td>\n",
       "      <td>0.528895</td>\n",
       "      <td>subj_0</td>\n",
       "      <td>2</td>\n",
       "    </tr>\n",
       "    <tr>\n",
       "      <th>3</th>\n",
       "      <td>0.568045</td>\n",
       "      <td>0.925597</td>\n",
       "      <td>subj_1</td>\n",
       "      <td>0</td>\n",
       "    </tr>\n",
       "    <tr>\n",
       "      <th>4</th>\n",
       "      <td>0.071036</td>\n",
       "      <td>0.087129</td>\n",
       "      <td>subj_1</td>\n",
       "      <td>1</td>\n",
       "    </tr>\n",
       "  </tbody>\n",
       "</table>\n",
       "</div>"
      ],
      "text/plain": [
       "   accuracy     speed subject  repetition\n",
       "0  0.437587  0.891773  subj_0           0\n",
       "1  0.963663  0.383442  subj_0           1\n",
       "2  0.791725  0.528895  subj_0           2\n",
       "3  0.568045  0.925597  subj_1           0\n",
       "4  0.071036  0.087129  subj_1           1"
      ]
     },
     "execution_count": 19,
     "metadata": {},
     "output_type": "execute_result"
    }
   ],
   "source": [
    "trials_df.head()"
   ]
  },
  {
   "cell_type": "code",
   "execution_count": 56,
   "id": "abc65939",
   "metadata": {},
   "outputs": [
    {
     "data": {
      "text/plain": [
       "0      True\n",
       "1      True\n",
       "2      True\n",
       "3     False\n",
       "4     False\n",
       "5     False\n",
       "6     False\n",
       "7     False\n",
       "8     False\n",
       "9      True\n",
       "10     True\n",
       "11     True\n",
       "Name: subject, dtype: bool"
      ]
     },
     "execution_count": 56,
     "metadata": {},
     "output_type": "execute_result"
    }
   ],
   "source": [
    "# Here, we'll use another handy pandas method: `.isin()`:\n",
    "\n",
    "selection = trials_df[\"subject\"].isin(sel_subjects_ids)\n",
    "selection\n"
   ]
  },
  {
   "cell_type": "code",
   "execution_count": 57,
   "id": "43dc9881",
   "metadata": {
    "slideshow": {
     "slide_type": "subslide"
    }
   },
   "outputs": [
    {
     "data": {
      "text/plain": [
       "0.39515972317021336"
      ]
     },
     "execution_count": 57,
     "metadata": {},
     "output_type": "execute_result"
    }
   ],
   "source": [
    "trials_df.loc[selection, \"speed\"].mean()  # mean speed for subjects < 30 y.o."
   ]
  },
  {
   "cell_type": "markdown",
   "id": "ddfec30d",
   "metadata": {
    "slideshow": {
     "slide_type": "subslide"
    }
   },
   "source": [
    "## When not to use `pandas`\n",
    "\n",
    "You do not always need pandas dataframes! E.g., it is not efficient with many columns.\n",
    "\n",
    "Many times large raw data (ephys, imaging, videos...) can live in numpy arrays and you work in `pandas` only with  derived quantities (after eving extracted responses, metrics, etc.)."
   ]
  },
  {
   "cell_type": "markdown",
   "id": "47d6dc11",
   "metadata": {
    "slideshow": {
     "slide_type": "subslide"
    }
   },
   "source": [
    "(Practicals 1.4.0)"
   ]
  },
  {
   "cell_type": "markdown",
   "id": "058ff74a",
   "metadata": {
    "slideshow": {
     "slide_type": "subslide"
    }
   },
   "source": [
    "### `.groupby()`"
   ]
  },
  {
   "cell_type": "markdown",
   "id": "d124808d",
   "metadata": {},
   "source": [
    "Using flat datasets allows us do operations within categories with `.groupby()`:\n",
    "\n",
    "The sintax is :\n",
    "```python\n",
    "df.groupby(\"name_of_the_category_column\").operation()\n",
    "```"
   ]
  },
  {
   "cell_type": "markdown",
   "id": "fb7dba9b",
   "metadata": {
    "slideshow": {
     "slide_type": "subslide"
    }
   },
   "source": [
    "Let's go back to the dataframe with trieal data of four subjects:"
   ]
  },
  {
   "cell_type": "code",
   "execution_count": 59,
   "id": "5296bbda",
   "metadata": {
    "ExecuteTime": {
     "end_time": "2023-05-22T06:51:09.299512Z",
     "start_time": "2023-05-22T06:51:09.272746Z"
    },
    "slideshow": {
     "slide_type": "-"
    }
   },
   "outputs": [
    {
     "data": {
      "text/html": [
       "<div>\n",
       "<style scoped>\n",
       "    .dataframe tbody tr th:only-of-type {\n",
       "        vertical-align: middle;\n",
       "    }\n",
       "\n",
       "    .dataframe tbody tr th {\n",
       "        vertical-align: top;\n",
       "    }\n",
       "\n",
       "    .dataframe thead th {\n",
       "        text-align: right;\n",
       "    }\n",
       "</style>\n",
       "<table border=\"1\" class=\"dataframe\">\n",
       "  <thead>\n",
       "    <tr style=\"text-align: right;\">\n",
       "      <th></th>\n",
       "      <th>accuracy</th>\n",
       "      <th>speed</th>\n",
       "      <th>subject</th>\n",
       "      <th>repetition</th>\n",
       "    </tr>\n",
       "  </thead>\n",
       "  <tbody>\n",
       "    <tr>\n",
       "      <th>0</th>\n",
       "      <td>0.867440</td>\n",
       "      <td>0.723095</td>\n",
       "      <td>subj_0</td>\n",
       "      <td>0</td>\n",
       "    </tr>\n",
       "    <tr>\n",
       "      <th>1</th>\n",
       "      <td>0.651919</td>\n",
       "      <td>0.057963</td>\n",
       "      <td>subj_0</td>\n",
       "      <td>1</td>\n",
       "    </tr>\n",
       "    <tr>\n",
       "      <th>2</th>\n",
       "      <td>0.502258</td>\n",
       "      <td>0.673608</td>\n",
       "      <td>subj_0</td>\n",
       "      <td>2</td>\n",
       "    </tr>\n",
       "    <tr>\n",
       "      <th>3</th>\n",
       "      <td>0.776285</td>\n",
       "      <td>0.637295</td>\n",
       "      <td>subj_1</td>\n",
       "      <td>0</td>\n",
       "    </tr>\n",
       "    <tr>\n",
       "      <th>4</th>\n",
       "      <td>0.740939</td>\n",
       "      <td>0.570125</td>\n",
       "      <td>subj_1</td>\n",
       "      <td>1</td>\n",
       "    </tr>\n",
       "    <tr>\n",
       "      <th>5</th>\n",
       "      <td>0.687521</td>\n",
       "      <td>0.753995</td>\n",
       "      <td>subj_1</td>\n",
       "      <td>2</td>\n",
       "    </tr>\n",
       "    <tr>\n",
       "      <th>6</th>\n",
       "      <td>0.233292</td>\n",
       "      <td>0.214416</td>\n",
       "      <td>subj_2</td>\n",
       "      <td>0</td>\n",
       "    </tr>\n",
       "    <tr>\n",
       "      <th>7</th>\n",
       "      <td>0.123205</td>\n",
       "      <td>0.915844</td>\n",
       "      <td>subj_2</td>\n",
       "      <td>1</td>\n",
       "    </tr>\n",
       "    <tr>\n",
       "      <th>8</th>\n",
       "      <td>0.933431</td>\n",
       "      <td>0.983217</td>\n",
       "      <td>subj_2</td>\n",
       "      <td>2</td>\n",
       "    </tr>\n",
       "    <tr>\n",
       "      <th>9</th>\n",
       "      <td>0.240165</td>\n",
       "      <td>0.523521</td>\n",
       "      <td>subj_3</td>\n",
       "      <td>0</td>\n",
       "    </tr>\n",
       "    <tr>\n",
       "      <th>10</th>\n",
       "      <td>0.401549</td>\n",
       "      <td>0.217905</td>\n",
       "      <td>subj_3</td>\n",
       "      <td>1</td>\n",
       "    </tr>\n",
       "    <tr>\n",
       "      <th>11</th>\n",
       "      <td>0.657029</td>\n",
       "      <td>0.174867</td>\n",
       "      <td>subj_3</td>\n",
       "      <td>2</td>\n",
       "    </tr>\n",
       "  </tbody>\n",
       "</table>\n",
       "</div>"
      ],
      "text/plain": [
       "    accuracy     speed subject  repetition\n",
       "0   0.867440  0.723095  subj_0           0\n",
       "1   0.651919  0.057963  subj_0           1\n",
       "2   0.502258  0.673608  subj_0           2\n",
       "3   0.776285  0.637295  subj_1           0\n",
       "4   0.740939  0.570125  subj_1           1\n",
       "5   0.687521  0.753995  subj_1           2\n",
       "6   0.233292  0.214416  subj_2           0\n",
       "7   0.123205  0.915844  subj_2           1\n",
       "8   0.933431  0.983217  subj_2           2\n",
       "9   0.240165  0.523521  subj_3           0\n",
       "10  0.401549  0.217905  subj_3           1\n",
       "11  0.657029  0.174867  subj_3           2"
      ]
     },
     "execution_count": 59,
     "metadata": {},
     "output_type": "execute_result"
    }
   ],
   "source": [
    "trials_df "
   ]
  },
  {
   "cell_type": "markdown",
   "id": "1437a4c1",
   "metadata": {
    "slideshow": {
     "slide_type": "subslide"
    }
   },
   "source": [
    "Imagine that we want the average over subjects. `subject` will be our grouping column, and the operation is `mean()`:"
   ]
  },
  {
   "cell_type": "code",
   "execution_count": 24,
   "id": "8591cf08",
   "metadata": {
    "ExecuteTime": {
     "end_time": "2023-05-22T06:51:14.406183Z",
     "start_time": "2023-05-22T06:51:14.399015Z"
    },
    "slideshow": {
     "slide_type": "fragment"
    }
   },
   "outputs": [
    {
     "data": {
      "text/html": [
       "<div>\n",
       "<style scoped>\n",
       "    .dataframe tbody tr th:only-of-type {\n",
       "        vertical-align: middle;\n",
       "    }\n",
       "\n",
       "    .dataframe tbody tr th {\n",
       "        vertical-align: top;\n",
       "    }\n",
       "\n",
       "    .dataframe thead th {\n",
       "        text-align: right;\n",
       "    }\n",
       "</style>\n",
       "<table border=\"1\" class=\"dataframe\">\n",
       "  <thead>\n",
       "    <tr style=\"text-align: right;\">\n",
       "      <th></th>\n",
       "      <th>accuracy</th>\n",
       "      <th>speed</th>\n",
       "      <th>repetition</th>\n",
       "    </tr>\n",
       "    <tr>\n",
       "      <th>subject</th>\n",
       "      <th></th>\n",
       "      <th></th>\n",
       "      <th></th>\n",
       "    </tr>\n",
       "  </thead>\n",
       "  <tbody>\n",
       "    <tr>\n",
       "      <th>subj_0</th>\n",
       "      <td>0.730992</td>\n",
       "      <td>0.601370</td>\n",
       "      <td>1.0</td>\n",
       "    </tr>\n",
       "    <tr>\n",
       "      <th>subj_1</th>\n",
       "      <td>0.219766</td>\n",
       "      <td>0.615115</td>\n",
       "      <td>1.0</td>\n",
       "    </tr>\n",
       "    <tr>\n",
       "      <th>subj_2</th>\n",
       "      <td>0.739418</td>\n",
       "      <td>0.816567</td>\n",
       "      <td>1.0</td>\n",
       "    </tr>\n",
       "    <tr>\n",
       "      <th>subj_3</th>\n",
       "      <td>0.261159</td>\n",
       "      <td>0.666417</td>\n",
       "      <td>1.0</td>\n",
       "    </tr>\n",
       "  </tbody>\n",
       "</table>\n",
       "</div>"
      ],
      "text/plain": [
       "         accuracy     speed  repetition\n",
       "subject                                \n",
       "subj_0   0.730992  0.601370         1.0\n",
       "subj_1   0.219766  0.615115         1.0\n",
       "subj_2   0.739418  0.816567         1.0\n",
       "subj_3   0.261159  0.666417         1.0"
      ]
     },
     "execution_count": 24,
     "metadata": {},
     "output_type": "execute_result"
    }
   ],
   "source": [
    "subj_means_df = trials_df.groupby(\"subject\").mean()\n",
    "subj_means_df"
   ]
  },
  {
   "cell_type": "markdown",
   "id": "7d8e54ff",
   "metadata": {
    "slideshow": {
     "slide_type": "fragment"
    }
   },
   "source": [
    "Note how the result will have **the `groupby` variable as index**"
   ]
  },
  {
   "cell_type": "markdown",
   "id": "0e383c13",
   "metadata": {
    "slideshow": {
     "slide_type": "subslide"
    }
   },
   "source": [
    "If we want the average across subjects for every experimental trial, we write:"
   ]
  },
  {
   "cell_type": "code",
   "execution_count": 28,
   "id": "e2e4de22",
   "metadata": {},
   "outputs": [
    {
     "data": {
      "text/html": [
       "<div>\n",
       "<style scoped>\n",
       "    .dataframe tbody tr th:only-of-type {\n",
       "        vertical-align: middle;\n",
       "    }\n",
       "\n",
       "    .dataframe tbody tr th {\n",
       "        vertical-align: top;\n",
       "    }\n",
       "\n",
       "    .dataframe thead th {\n",
       "        text-align: right;\n",
       "    }\n",
       "</style>\n",
       "<table border=\"1\" class=\"dataframe\">\n",
       "  <thead>\n",
       "    <tr style=\"text-align: right;\">\n",
       "      <th></th>\n",
       "      <th>accuracy</th>\n",
       "      <th>speed</th>\n",
       "    </tr>\n",
       "    <tr>\n",
       "      <th>repetition</th>\n",
       "      <th></th>\n",
       "      <th></th>\n",
       "    </tr>\n",
       "  </thead>\n",
       "  <tbody>\n",
       "    <tr>\n",
       "      <th>0</th>\n",
       "      <td>0.475516</td>\n",
       "      <td>0.831826</td>\n",
       "    </tr>\n",
       "    <tr>\n",
       "      <th>1</th>\n",
       "      <td>0.539168</td>\n",
       "      <td>0.553600</td>\n",
       "    </tr>\n",
       "    <tr>\n",
       "      <th>2</th>\n",
       "      <td>0.448818</td>\n",
       "      <td>0.639176</td>\n",
       "    </tr>\n",
       "  </tbody>\n",
       "</table>\n",
       "</div>"
      ],
      "text/plain": [
       "            accuracy     speed\n",
       "repetition                    \n",
       "0           0.475516  0.831826\n",
       "1           0.539168  0.553600\n",
       "2           0.448818  0.639176"
      ]
     },
     "execution_count": 28,
     "metadata": {},
     "output_type": "execute_result"
    }
   ],
   "source": [
    "subj_means_df = trials_df.drop([\"subject\"], axis=1).groupby(\"repetition\").mean()\n",
    "subj_means_df"
   ]
  },
  {
   "cell_type": "markdown",
   "id": "82f8456c",
   "metadata": {
    "slideshow": {
     "slide_type": "subslide"
    }
   },
   "source": [
    "## Index broadcasting in `pandas`"
   ]
  },
  {
   "cell_type": "markdown",
   "id": "07390086",
   "metadata": {},
   "source": [
    "We can do operations across pandas dataframes. When we do so, `pandas` uses the column names and labels to match the elements:"
   ]
  },
  {
   "cell_type": "markdown",
   "id": "ea997745",
   "metadata": {
    "slideshow": {
     "slide_type": "subslide"
    }
   },
   "source": [
    "#### Matching over columns"
   ]
  },
  {
   "cell_type": "code",
   "execution_count": 33,
   "id": "7be47ed4",
   "metadata": {
    "slideshow": {
     "slide_type": "-"
    }
   },
   "outputs": [],
   "source": [
    "df_a = pd.DataFrame(dict(col_a=[10, 20], col_b=[15, 25]))\n",
    "df_b = pd.DataFrame(dict(col_b=[1, 2], col_a=[3, 4]))"
   ]
  },
  {
   "cell_type": "code",
   "execution_count": 34,
   "id": "b1c29e42",
   "metadata": {
    "slideshow": {
     "slide_type": "subslide"
    }
   },
   "outputs": [
    {
     "data": {
      "text/html": [
       "<div>\n",
       "<style scoped>\n",
       "    .dataframe tbody tr th:only-of-type {\n",
       "        vertical-align: middle;\n",
       "    }\n",
       "\n",
       "    .dataframe tbody tr th {\n",
       "        vertical-align: top;\n",
       "    }\n",
       "\n",
       "    .dataframe thead th {\n",
       "        text-align: right;\n",
       "    }\n",
       "</style>\n",
       "<table border=\"1\" class=\"dataframe\">\n",
       "  <thead>\n",
       "    <tr style=\"text-align: right;\">\n",
       "      <th></th>\n",
       "      <th>col_a</th>\n",
       "      <th>col_b</th>\n",
       "    </tr>\n",
       "  </thead>\n",
       "  <tbody>\n",
       "    <tr>\n",
       "      <th>0</th>\n",
       "      <td>10</td>\n",
       "      <td>15</td>\n",
       "    </tr>\n",
       "    <tr>\n",
       "      <th>1</th>\n",
       "      <td>20</td>\n",
       "      <td>25</td>\n",
       "    </tr>\n",
       "  </tbody>\n",
       "</table>\n",
       "</div>"
      ],
      "text/plain": [
       "   col_a  col_b\n",
       "0     10     15\n",
       "1     20     25"
      ]
     },
     "execution_count": 34,
     "metadata": {},
     "output_type": "execute_result"
    }
   ],
   "source": [
    "df_a"
   ]
  },
  {
   "cell_type": "code",
   "execution_count": 31,
   "id": "071975c2",
   "metadata": {},
   "outputs": [
    {
     "data": {
      "text/html": [
       "<div>\n",
       "<style scoped>\n",
       "    .dataframe tbody tr th:only-of-type {\n",
       "        vertical-align: middle;\n",
       "    }\n",
       "\n",
       "    .dataframe tbody tr th {\n",
       "        vertical-align: top;\n",
       "    }\n",
       "\n",
       "    .dataframe thead th {\n",
       "        text-align: right;\n",
       "    }\n",
       "</style>\n",
       "<table border=\"1\" class=\"dataframe\">\n",
       "  <thead>\n",
       "    <tr style=\"text-align: right;\">\n",
       "      <th></th>\n",
       "      <th>col_b</th>\n",
       "      <th>col_a</th>\n",
       "    </tr>\n",
       "  </thead>\n",
       "  <tbody>\n",
       "    <tr>\n",
       "      <th>0</th>\n",
       "      <td>1</td>\n",
       "      <td>3</td>\n",
       "    </tr>\n",
       "    <tr>\n",
       "      <th>1</th>\n",
       "      <td>2</td>\n",
       "      <td>4</td>\n",
       "    </tr>\n",
       "  </tbody>\n",
       "</table>\n",
       "</div>"
      ],
      "text/plain": [
       "   col_b  col_a\n",
       "0      1      3\n",
       "1      2      4"
      ]
     },
     "execution_count": 31,
     "metadata": {},
     "output_type": "execute_result"
    }
   ],
   "source": [
    "df_b"
   ]
  },
  {
   "cell_type": "code",
   "execution_count": 32,
   "id": "b4f30550",
   "metadata": {
    "slideshow": {
     "slide_type": "-"
    }
   },
   "outputs": [
    {
     "data": {
      "text/html": [
       "<div>\n",
       "<style scoped>\n",
       "    .dataframe tbody tr th:only-of-type {\n",
       "        vertical-align: middle;\n",
       "    }\n",
       "\n",
       "    .dataframe tbody tr th {\n",
       "        vertical-align: top;\n",
       "    }\n",
       "\n",
       "    .dataframe thead th {\n",
       "        text-align: right;\n",
       "    }\n",
       "</style>\n",
       "<table border=\"1\" class=\"dataframe\">\n",
       "  <thead>\n",
       "    <tr style=\"text-align: right;\">\n",
       "      <th></th>\n",
       "      <th>col_a</th>\n",
       "      <th>col_b</th>\n",
       "    </tr>\n",
       "  </thead>\n",
       "  <tbody>\n",
       "    <tr>\n",
       "      <th>0</th>\n",
       "      <td>7</td>\n",
       "      <td>14</td>\n",
       "    </tr>\n",
       "    <tr>\n",
       "      <th>1</th>\n",
       "      <td>16</td>\n",
       "      <td>23</td>\n",
       "    </tr>\n",
       "  </tbody>\n",
       "</table>\n",
       "</div>"
      ],
      "text/plain": [
       "   col_a  col_b\n",
       "0      7     14\n",
       "1     16     23"
      ]
     },
     "execution_count": 32,
     "metadata": {},
     "output_type": "execute_result"
    }
   ],
   "source": [
    "# The result of this operation matched columns based on their labels, not their order!\n",
    "df_a - df_b"
   ]
  },
  {
   "cell_type": "markdown",
   "id": "94f03116",
   "metadata": {
    "slideshow": {
     "slide_type": "subslide"
    }
   },
   "source": [
    "#### Matching over rows"
   ]
  },
  {
   "cell_type": "code",
   "execution_count": 35,
   "id": "2a1ae559",
   "metadata": {},
   "outputs": [],
   "source": [
    "df_a = pd.DataFrame(dict(col_a=[10, 20], col_b=[15, 25]), index=[\"trial0\", \"trial1\"])\n",
    "df_b = pd.DataFrame(dict(col_b=[1, 2], col_a=[3, 4]), index=[\"trial1\", \"trial0\"])"
   ]
  },
  {
   "cell_type": "code",
   "execution_count": 36,
   "id": "51dc9ed8",
   "metadata": {
    "slideshow": {
     "slide_type": "subslide"
    }
   },
   "outputs": [
    {
     "data": {
      "text/html": [
       "<div>\n",
       "<style scoped>\n",
       "    .dataframe tbody tr th:only-of-type {\n",
       "        vertical-align: middle;\n",
       "    }\n",
       "\n",
       "    .dataframe tbody tr th {\n",
       "        vertical-align: top;\n",
       "    }\n",
       "\n",
       "    .dataframe thead th {\n",
       "        text-align: right;\n",
       "    }\n",
       "</style>\n",
       "<table border=\"1\" class=\"dataframe\">\n",
       "  <thead>\n",
       "    <tr style=\"text-align: right;\">\n",
       "      <th></th>\n",
       "      <th>col_a</th>\n",
       "      <th>col_b</th>\n",
       "    </tr>\n",
       "  </thead>\n",
       "  <tbody>\n",
       "    <tr>\n",
       "      <th>trial0</th>\n",
       "      <td>10</td>\n",
       "      <td>15</td>\n",
       "    </tr>\n",
       "    <tr>\n",
       "      <th>trial1</th>\n",
       "      <td>20</td>\n",
       "      <td>25</td>\n",
       "    </tr>\n",
       "  </tbody>\n",
       "</table>\n",
       "</div>"
      ],
      "text/plain": [
       "        col_a  col_b\n",
       "trial0     10     15\n",
       "trial1     20     25"
      ]
     },
     "execution_count": 36,
     "metadata": {},
     "output_type": "execute_result"
    }
   ],
   "source": [
    "df_a"
   ]
  },
  {
   "cell_type": "code",
   "execution_count": 37,
   "id": "9841fb92",
   "metadata": {},
   "outputs": [
    {
     "data": {
      "text/html": [
       "<div>\n",
       "<style scoped>\n",
       "    .dataframe tbody tr th:only-of-type {\n",
       "        vertical-align: middle;\n",
       "    }\n",
       "\n",
       "    .dataframe tbody tr th {\n",
       "        vertical-align: top;\n",
       "    }\n",
       "\n",
       "    .dataframe thead th {\n",
       "        text-align: right;\n",
       "    }\n",
       "</style>\n",
       "<table border=\"1\" class=\"dataframe\">\n",
       "  <thead>\n",
       "    <tr style=\"text-align: right;\">\n",
       "      <th></th>\n",
       "      <th>col_b</th>\n",
       "      <th>col_a</th>\n",
       "    </tr>\n",
       "  </thead>\n",
       "  <tbody>\n",
       "    <tr>\n",
       "      <th>trial1</th>\n",
       "      <td>1</td>\n",
       "      <td>3</td>\n",
       "    </tr>\n",
       "    <tr>\n",
       "      <th>trial0</th>\n",
       "      <td>2</td>\n",
       "      <td>4</td>\n",
       "    </tr>\n",
       "  </tbody>\n",
       "</table>\n",
       "</div>"
      ],
      "text/plain": [
       "        col_b  col_a\n",
       "trial1      1      3\n",
       "trial0      2      4"
      ]
     },
     "execution_count": 37,
     "metadata": {},
     "output_type": "execute_result"
    }
   ],
   "source": [
    "df_b"
   ]
  },
  {
   "cell_type": "code",
   "execution_count": 72,
   "id": "e45fc178",
   "metadata": {
    "slideshow": {
     "slide_type": "-"
    }
   },
   "outputs": [
    {
     "data": {
      "text/html": [
       "<div>\n",
       "<style scoped>\n",
       "    .dataframe tbody tr th:only-of-type {\n",
       "        vertical-align: middle;\n",
       "    }\n",
       "\n",
       "    .dataframe tbody tr th {\n",
       "        vertical-align: top;\n",
       "    }\n",
       "\n",
       "    .dataframe thead th {\n",
       "        text-align: right;\n",
       "    }\n",
       "</style>\n",
       "<table border=\"1\" class=\"dataframe\">\n",
       "  <thead>\n",
       "    <tr style=\"text-align: right;\">\n",
       "      <th></th>\n",
       "      <th>col_a</th>\n",
       "      <th>col_b</th>\n",
       "    </tr>\n",
       "  </thead>\n",
       "  <tbody>\n",
       "    <tr>\n",
       "      <th>trial0</th>\n",
       "      <td>6</td>\n",
       "      <td>13</td>\n",
       "    </tr>\n",
       "    <tr>\n",
       "      <th>trial1</th>\n",
       "      <td>17</td>\n",
       "      <td>24</td>\n",
       "    </tr>\n",
       "  </tbody>\n",
       "</table>\n",
       "</div>"
      ],
      "text/plain": [
       "        col_a  col_b\n",
       "trial0      6     13\n",
       "trial1     17     24"
      ]
     },
     "execution_count": 72,
     "metadata": {},
     "output_type": "execute_result"
    }
   ],
   "source": [
    "# The result of this operation matched columns based on their labels, \n",
    "# and rows based on their index!\n",
    "df_a - df_b"
   ]
  },
  {
   "cell_type": "markdown",
   "id": "5032ee51",
   "metadata": {
    "slideshow": {
     "slide_type": "subslide"
    }
   },
   "source": [
    "#### Mismatching indexes/columns\n",
    "\n",
    "When `pandas` does not find matching indexes and columns, it leaves `nan`:"
   ]
  },
  {
   "cell_type": "code",
   "execution_count": 38,
   "id": "9854e9bd",
   "metadata": {},
   "outputs": [],
   "source": [
    "df_a = pd.DataFrame(dict(col_a=[10, 20], col_b=[15, 25]), index=[\"trial0\", \"trial1\"])\n",
    "df_b = pd.DataFrame(dict(col_b=[1, 2], col_a=[3, 4], col_c=[0, 0]), index=[\"trial1\", \"trial2\"])"
   ]
  },
  {
   "cell_type": "code",
   "execution_count": 39,
   "id": "e51446df",
   "metadata": {
    "slideshow": {
     "slide_type": "subslide"
    }
   },
   "outputs": [
    {
     "data": {
      "text/html": [
       "<div>\n",
       "<style scoped>\n",
       "    .dataframe tbody tr th:only-of-type {\n",
       "        vertical-align: middle;\n",
       "    }\n",
       "\n",
       "    .dataframe tbody tr th {\n",
       "        vertical-align: top;\n",
       "    }\n",
       "\n",
       "    .dataframe thead th {\n",
       "        text-align: right;\n",
       "    }\n",
       "</style>\n",
       "<table border=\"1\" class=\"dataframe\">\n",
       "  <thead>\n",
       "    <tr style=\"text-align: right;\">\n",
       "      <th></th>\n",
       "      <th>col_a</th>\n",
       "      <th>col_b</th>\n",
       "    </tr>\n",
       "  </thead>\n",
       "  <tbody>\n",
       "    <tr>\n",
       "      <th>trial0</th>\n",
       "      <td>10</td>\n",
       "      <td>15</td>\n",
       "    </tr>\n",
       "    <tr>\n",
       "      <th>trial1</th>\n",
       "      <td>20</td>\n",
       "      <td>25</td>\n",
       "    </tr>\n",
       "  </tbody>\n",
       "</table>\n",
       "</div>"
      ],
      "text/plain": [
       "        col_a  col_b\n",
       "trial0     10     15\n",
       "trial1     20     25"
      ]
     },
     "execution_count": 39,
     "metadata": {},
     "output_type": "execute_result"
    }
   ],
   "source": [
    "df_a"
   ]
  },
  {
   "cell_type": "code",
   "execution_count": 40,
   "id": "5b3b321a",
   "metadata": {},
   "outputs": [
    {
     "data": {
      "text/html": [
       "<div>\n",
       "<style scoped>\n",
       "    .dataframe tbody tr th:only-of-type {\n",
       "        vertical-align: middle;\n",
       "    }\n",
       "\n",
       "    .dataframe tbody tr th {\n",
       "        vertical-align: top;\n",
       "    }\n",
       "\n",
       "    .dataframe thead th {\n",
       "        text-align: right;\n",
       "    }\n",
       "</style>\n",
       "<table border=\"1\" class=\"dataframe\">\n",
       "  <thead>\n",
       "    <tr style=\"text-align: right;\">\n",
       "      <th></th>\n",
       "      <th>col_b</th>\n",
       "      <th>col_a</th>\n",
       "      <th>col_c</th>\n",
       "    </tr>\n",
       "  </thead>\n",
       "  <tbody>\n",
       "    <tr>\n",
       "      <th>trial1</th>\n",
       "      <td>1</td>\n",
       "      <td>3</td>\n",
       "      <td>0</td>\n",
       "    </tr>\n",
       "    <tr>\n",
       "      <th>trial2</th>\n",
       "      <td>2</td>\n",
       "      <td>4</td>\n",
       "      <td>0</td>\n",
       "    </tr>\n",
       "  </tbody>\n",
       "</table>\n",
       "</div>"
      ],
      "text/plain": [
       "        col_b  col_a  col_c\n",
       "trial1      1      3      0\n",
       "trial2      2      4      0"
      ]
     },
     "execution_count": 40,
     "metadata": {},
     "output_type": "execute_result"
    }
   ],
   "source": [
    "df_b"
   ]
  },
  {
   "cell_type": "code",
   "execution_count": 85,
   "id": "4026ac7d",
   "metadata": {},
   "outputs": [
    {
     "data": {
      "text/html": [
       "<div>\n",
       "<style scoped>\n",
       "    .dataframe tbody tr th:only-of-type {\n",
       "        vertical-align: middle;\n",
       "    }\n",
       "\n",
       "    .dataframe tbody tr th {\n",
       "        vertical-align: top;\n",
       "    }\n",
       "\n",
       "    .dataframe thead th {\n",
       "        text-align: right;\n",
       "    }\n",
       "</style>\n",
       "<table border=\"1\" class=\"dataframe\">\n",
       "  <thead>\n",
       "    <tr style=\"text-align: right;\">\n",
       "      <th></th>\n",
       "      <th>col_a</th>\n",
       "      <th>col_b</th>\n",
       "      <th>col_c</th>\n",
       "    </tr>\n",
       "  </thead>\n",
       "  <tbody>\n",
       "    <tr>\n",
       "      <th>trial0</th>\n",
       "      <td>NaN</td>\n",
       "      <td>NaN</td>\n",
       "      <td>NaN</td>\n",
       "    </tr>\n",
       "    <tr>\n",
       "      <th>trial1</th>\n",
       "      <td>17.0</td>\n",
       "      <td>24.0</td>\n",
       "      <td>NaN</td>\n",
       "    </tr>\n",
       "    <tr>\n",
       "      <th>trial2</th>\n",
       "      <td>NaN</td>\n",
       "      <td>NaN</td>\n",
       "      <td>NaN</td>\n",
       "    </tr>\n",
       "  </tbody>\n",
       "</table>\n",
       "</div>"
      ],
      "text/plain": [
       "        col_a  col_b  col_c\n",
       "trial0    NaN    NaN    NaN\n",
       "trial1   17.0   24.0    NaN\n",
       "trial2    NaN    NaN    NaN"
      ]
     },
     "execution_count": 85,
     "metadata": {},
     "output_type": "execute_result"
    }
   ],
   "source": [
    "df_a - df_b"
   ]
  },
  {
   "cell_type": "markdown",
   "id": "1d2c5910",
   "metadata": {
    "slideshow": {
     "slide_type": "subslide"
    }
   },
   "source": [
    "## Combine `groupby` and broadcasting\n",
    "\n",
    "Let's normalize the dataframe by subtracting from each subject the means across trials!"
   ]
  },
  {
   "cell_type": "code",
   "execution_count": 42,
   "id": "bc9a1e9e",
   "metadata": {},
   "outputs": [
    {
     "data": {
      "text/html": [
       "<div>\n",
       "<style scoped>\n",
       "    .dataframe tbody tr th:only-of-type {\n",
       "        vertical-align: middle;\n",
       "    }\n",
       "\n",
       "    .dataframe tbody tr th {\n",
       "        vertical-align: top;\n",
       "    }\n",
       "\n",
       "    .dataframe thead th {\n",
       "        text-align: right;\n",
       "    }\n",
       "</style>\n",
       "<table border=\"1\" class=\"dataframe\">\n",
       "  <thead>\n",
       "    <tr style=\"text-align: right;\">\n",
       "      <th></th>\n",
       "      <th>accuracy</th>\n",
       "      <th>speed</th>\n",
       "      <th>repetition</th>\n",
       "    </tr>\n",
       "    <tr>\n",
       "      <th>subject</th>\n",
       "      <th></th>\n",
       "      <th></th>\n",
       "      <th></th>\n",
       "    </tr>\n",
       "  </thead>\n",
       "  <tbody>\n",
       "    <tr>\n",
       "      <th>subj_0</th>\n",
       "      <td>0.730992</td>\n",
       "      <td>0.601370</td>\n",
       "      <td>1.0</td>\n",
       "    </tr>\n",
       "    <tr>\n",
       "      <th>subj_1</th>\n",
       "      <td>0.219766</td>\n",
       "      <td>0.615115</td>\n",
       "      <td>1.0</td>\n",
       "    </tr>\n",
       "    <tr>\n",
       "      <th>subj_2</th>\n",
       "      <td>0.739418</td>\n",
       "      <td>0.816567</td>\n",
       "      <td>1.0</td>\n",
       "    </tr>\n",
       "  </tbody>\n",
       "</table>\n",
       "</div>"
      ],
      "text/plain": [
       "         accuracy     speed  repetition\n",
       "subject                                \n",
       "subj_0   0.730992  0.601370         1.0\n",
       "subj_1   0.219766  0.615115         1.0\n",
       "subj_2   0.739418  0.816567         1.0"
      ]
     },
     "execution_count": 42,
     "metadata": {},
     "output_type": "execute_result"
    }
   ],
   "source": [
    "# The groupby operation left us with a nice df with subjects as index:\n",
    "subj_means_df = trials_df.groupby(\"subject\").mean()\n",
    "subj_means_df.head(3)"
   ]
  },
  {
   "cell_type": "code",
   "execution_count": 92,
   "id": "3e7b964d",
   "metadata": {
    "ExecuteTime": {
     "end_time": "2023-05-22T06:51:18.794886Z",
     "start_time": "2023-05-22T06:51:18.790746Z"
    },
    "scrolled": true,
    "slideshow": {
     "slide_type": "subslide"
    }
   },
   "outputs": [
    {
     "data": {
      "text/html": [
       "<div>\n",
       "<style scoped>\n",
       "    .dataframe tbody tr th:only-of-type {\n",
       "        vertical-align: middle;\n",
       "    }\n",
       "\n",
       "    .dataframe tbody tr th {\n",
       "        vertical-align: top;\n",
       "    }\n",
       "\n",
       "    .dataframe thead th {\n",
       "        text-align: right;\n",
       "    }\n",
       "</style>\n",
       "<table border=\"1\" class=\"dataframe\">\n",
       "  <thead>\n",
       "    <tr style=\"text-align: right;\">\n",
       "      <th></th>\n",
       "      <th>accuracy</th>\n",
       "      <th>speed</th>\n",
       "      <th>subject</th>\n",
       "      <th>repetition</th>\n",
       "    </tr>\n",
       "  </thead>\n",
       "  <tbody>\n",
       "    <tr>\n",
       "      <th>0</th>\n",
       "      <td>0.867440</td>\n",
       "      <td>0.723095</td>\n",
       "      <td>subj_0</td>\n",
       "      <td>0</td>\n",
       "    </tr>\n",
       "    <tr>\n",
       "      <th>1</th>\n",
       "      <td>0.651919</td>\n",
       "      <td>0.057963</td>\n",
       "      <td>subj_0</td>\n",
       "      <td>1</td>\n",
       "    </tr>\n",
       "    <tr>\n",
       "      <th>2</th>\n",
       "      <td>0.502258</td>\n",
       "      <td>0.673608</td>\n",
       "      <td>subj_0</td>\n",
       "      <td>2</td>\n",
       "    </tr>\n",
       "    <tr>\n",
       "      <th>3</th>\n",
       "      <td>0.776285</td>\n",
       "      <td>0.637295</td>\n",
       "      <td>subj_1</td>\n",
       "      <td>0</td>\n",
       "    </tr>\n",
       "    <tr>\n",
       "      <th>4</th>\n",
       "      <td>0.740939</td>\n",
       "      <td>0.570125</td>\n",
       "      <td>subj_1</td>\n",
       "      <td>1</td>\n",
       "    </tr>\n",
       "  </tbody>\n",
       "</table>\n",
       "</div>"
      ],
      "text/plain": [
       "   accuracy     speed subject  repetition\n",
       "0  0.867440  0.723095  subj_0           0\n",
       "1  0.651919  0.057963  subj_0           1\n",
       "2  0.502258  0.673608  subj_0           2\n",
       "3  0.776285  0.637295  subj_1           0\n",
       "4  0.740939  0.570125  subj_1           1"
      ]
     },
     "execution_count": 92,
     "metadata": {},
     "output_type": "execute_result"
    }
   ],
   "source": [
    "# But our trials dataframe has a numerical index:\n",
    "trials_df.head(5)"
   ]
  },
  {
   "cell_type": "code",
   "execution_count": 43,
   "id": "2547f767",
   "metadata": {
    "ExecuteTime": {
     "end_time": "2023-05-22T06:51:22.292752Z",
     "start_time": "2023-05-22T06:51:22.287443Z"
    },
    "slideshow": {
     "slide_type": "subslide"
    }
   },
   "outputs": [
    {
     "data": {
      "text/html": [
       "<div>\n",
       "<style scoped>\n",
       "    .dataframe tbody tr th:only-of-type {\n",
       "        vertical-align: middle;\n",
       "    }\n",
       "\n",
       "    .dataframe tbody tr th {\n",
       "        vertical-align: top;\n",
       "    }\n",
       "\n",
       "    .dataframe thead th {\n",
       "        text-align: right;\n",
       "    }\n",
       "</style>\n",
       "<table border=\"1\" class=\"dataframe\">\n",
       "  <thead>\n",
       "    <tr style=\"text-align: right;\">\n",
       "      <th></th>\n",
       "      <th>accuracy</th>\n",
       "      <th>repetition</th>\n",
       "      <th>speed</th>\n",
       "      <th>subject</th>\n",
       "    </tr>\n",
       "  </thead>\n",
       "  <tbody>\n",
       "    <tr>\n",
       "      <th>0</th>\n",
       "      <td>NaN</td>\n",
       "      <td>NaN</td>\n",
       "      <td>NaN</td>\n",
       "      <td>NaN</td>\n",
       "    </tr>\n",
       "    <tr>\n",
       "      <th>1</th>\n",
       "      <td>NaN</td>\n",
       "      <td>NaN</td>\n",
       "      <td>NaN</td>\n",
       "      <td>NaN</td>\n",
       "    </tr>\n",
       "    <tr>\n",
       "      <th>2</th>\n",
       "      <td>NaN</td>\n",
       "      <td>NaN</td>\n",
       "      <td>NaN</td>\n",
       "      <td>NaN</td>\n",
       "    </tr>\n",
       "    <tr>\n",
       "      <th>3</th>\n",
       "      <td>NaN</td>\n",
       "      <td>NaN</td>\n",
       "      <td>NaN</td>\n",
       "      <td>NaN</td>\n",
       "    </tr>\n",
       "    <tr>\n",
       "      <th>4</th>\n",
       "      <td>NaN</td>\n",
       "      <td>NaN</td>\n",
       "      <td>NaN</td>\n",
       "      <td>NaN</td>\n",
       "    </tr>\n",
       "    <tr>\n",
       "      <th>5</th>\n",
       "      <td>NaN</td>\n",
       "      <td>NaN</td>\n",
       "      <td>NaN</td>\n",
       "      <td>NaN</td>\n",
       "    </tr>\n",
       "    <tr>\n",
       "      <th>6</th>\n",
       "      <td>NaN</td>\n",
       "      <td>NaN</td>\n",
       "      <td>NaN</td>\n",
       "      <td>NaN</td>\n",
       "    </tr>\n",
       "    <tr>\n",
       "      <th>7</th>\n",
       "      <td>NaN</td>\n",
       "      <td>NaN</td>\n",
       "      <td>NaN</td>\n",
       "      <td>NaN</td>\n",
       "    </tr>\n",
       "    <tr>\n",
       "      <th>8</th>\n",
       "      <td>NaN</td>\n",
       "      <td>NaN</td>\n",
       "      <td>NaN</td>\n",
       "      <td>NaN</td>\n",
       "    </tr>\n",
       "    <tr>\n",
       "      <th>9</th>\n",
       "      <td>NaN</td>\n",
       "      <td>NaN</td>\n",
       "      <td>NaN</td>\n",
       "      <td>NaN</td>\n",
       "    </tr>\n",
       "    <tr>\n",
       "      <th>10</th>\n",
       "      <td>NaN</td>\n",
       "      <td>NaN</td>\n",
       "      <td>NaN</td>\n",
       "      <td>NaN</td>\n",
       "    </tr>\n",
       "    <tr>\n",
       "      <th>11</th>\n",
       "      <td>NaN</td>\n",
       "      <td>NaN</td>\n",
       "      <td>NaN</td>\n",
       "      <td>NaN</td>\n",
       "    </tr>\n",
       "    <tr>\n",
       "      <th>subj_0</th>\n",
       "      <td>NaN</td>\n",
       "      <td>NaN</td>\n",
       "      <td>NaN</td>\n",
       "      <td>NaN</td>\n",
       "    </tr>\n",
       "    <tr>\n",
       "      <th>subj_1</th>\n",
       "      <td>NaN</td>\n",
       "      <td>NaN</td>\n",
       "      <td>NaN</td>\n",
       "      <td>NaN</td>\n",
       "    </tr>\n",
       "    <tr>\n",
       "      <th>subj_2</th>\n",
       "      <td>NaN</td>\n",
       "      <td>NaN</td>\n",
       "      <td>NaN</td>\n",
       "      <td>NaN</td>\n",
       "    </tr>\n",
       "    <tr>\n",
       "      <th>subj_3</th>\n",
       "      <td>NaN</td>\n",
       "      <td>NaN</td>\n",
       "      <td>NaN</td>\n",
       "      <td>NaN</td>\n",
       "    </tr>\n",
       "  </tbody>\n",
       "</table>\n",
       "</div>"
      ],
      "text/plain": [
       "        accuracy  repetition  speed  subject\n",
       "0            NaN         NaN    NaN      NaN\n",
       "1            NaN         NaN    NaN      NaN\n",
       "2            NaN         NaN    NaN      NaN\n",
       "3            NaN         NaN    NaN      NaN\n",
       "4            NaN         NaN    NaN      NaN\n",
       "5            NaN         NaN    NaN      NaN\n",
       "6            NaN         NaN    NaN      NaN\n",
       "7            NaN         NaN    NaN      NaN\n",
       "8            NaN         NaN    NaN      NaN\n",
       "9            NaN         NaN    NaN      NaN\n",
       "10           NaN         NaN    NaN      NaN\n",
       "11           NaN         NaN    NaN      NaN\n",
       "subj_0       NaN         NaN    NaN      NaN\n",
       "subj_1       NaN         NaN    NaN      NaN\n",
       "subj_2       NaN         NaN    NaN      NaN\n",
       "subj_3       NaN         NaN    NaN      NaN"
      ]
     },
     "execution_count": 43,
     "metadata": {},
     "output_type": "execute_result"
    }
   ],
   "source": [
    "# this will try to match indexes of one dataframe with the other. As there won't be matches, \n",
    "# the result will be lots of nans!\n",
    "trials_df - subj_means_df"
   ]
  },
  {
   "cell_type": "code",
   "execution_count": 94,
   "id": "2f698ef9",
   "metadata": {
    "ExecuteTime": {
     "end_time": "2023-05-22T06:51:27.450544Z",
     "start_time": "2023-05-22T06:51:27.440474Z"
    },
    "slideshow": {
     "slide_type": "subslide"
    }
   },
   "outputs": [
    {
     "data": {
      "text/html": [
       "<div>\n",
       "<style scoped>\n",
       "    .dataframe tbody tr th:only-of-type {\n",
       "        vertical-align: middle;\n",
       "    }\n",
       "\n",
       "    .dataframe tbody tr th {\n",
       "        vertical-align: top;\n",
       "    }\n",
       "\n",
       "    .dataframe thead th {\n",
       "        text-align: right;\n",
       "    }\n",
       "</style>\n",
       "<table border=\"1\" class=\"dataframe\">\n",
       "  <thead>\n",
       "    <tr style=\"text-align: right;\">\n",
       "      <th></th>\n",
       "      <th>accuracy</th>\n",
       "      <th>speed</th>\n",
       "      <th>repetition</th>\n",
       "    </tr>\n",
       "    <tr>\n",
       "      <th>subject</th>\n",
       "      <th></th>\n",
       "      <th></th>\n",
       "      <th></th>\n",
       "    </tr>\n",
       "  </thead>\n",
       "  <tbody>\n",
       "    <tr>\n",
       "      <th>subj_0</th>\n",
       "      <td>0.867440</td>\n",
       "      <td>0.723095</td>\n",
       "      <td>0</td>\n",
       "    </tr>\n",
       "    <tr>\n",
       "      <th>subj_0</th>\n",
       "      <td>0.651919</td>\n",
       "      <td>0.057963</td>\n",
       "      <td>1</td>\n",
       "    </tr>\n",
       "    <tr>\n",
       "      <th>subj_0</th>\n",
       "      <td>0.502258</td>\n",
       "      <td>0.673608</td>\n",
       "      <td>2</td>\n",
       "    </tr>\n",
       "    <tr>\n",
       "      <th>subj_1</th>\n",
       "      <td>0.776285</td>\n",
       "      <td>0.637295</td>\n",
       "      <td>0</td>\n",
       "    </tr>\n",
       "    <tr>\n",
       "      <th>subj_1</th>\n",
       "      <td>0.740939</td>\n",
       "      <td>0.570125</td>\n",
       "      <td>1</td>\n",
       "    </tr>\n",
       "    <tr>\n",
       "      <th>subj_1</th>\n",
       "      <td>0.687521</td>\n",
       "      <td>0.753995</td>\n",
       "      <td>2</td>\n",
       "    </tr>\n",
       "    <tr>\n",
       "      <th>subj_2</th>\n",
       "      <td>0.233292</td>\n",
       "      <td>0.214416</td>\n",
       "      <td>0</td>\n",
       "    </tr>\n",
       "    <tr>\n",
       "      <th>subj_2</th>\n",
       "      <td>0.123205</td>\n",
       "      <td>0.915844</td>\n",
       "      <td>1</td>\n",
       "    </tr>\n",
       "    <tr>\n",
       "      <th>subj_2</th>\n",
       "      <td>0.933431</td>\n",
       "      <td>0.983217</td>\n",
       "      <td>2</td>\n",
       "    </tr>\n",
       "    <tr>\n",
       "      <th>subj_3</th>\n",
       "      <td>0.240165</td>\n",
       "      <td>0.523521</td>\n",
       "      <td>0</td>\n",
       "    </tr>\n",
       "    <tr>\n",
       "      <th>subj_3</th>\n",
       "      <td>0.401549</td>\n",
       "      <td>0.217905</td>\n",
       "      <td>1</td>\n",
       "    </tr>\n",
       "    <tr>\n",
       "      <th>subj_3</th>\n",
       "      <td>0.657029</td>\n",
       "      <td>0.174867</td>\n",
       "      <td>2</td>\n",
       "    </tr>\n",
       "  </tbody>\n",
       "</table>\n",
       "</div>"
      ],
      "text/plain": [
       "         accuracy     speed  repetition\n",
       "subject                                \n",
       "subj_0   0.867440  0.723095           0\n",
       "subj_0   0.651919  0.057963           1\n",
       "subj_0   0.502258  0.673608           2\n",
       "subj_1   0.776285  0.637295           0\n",
       "subj_1   0.740939  0.570125           1\n",
       "subj_1   0.687521  0.753995           2\n",
       "subj_2   0.233292  0.214416           0\n",
       "subj_2   0.123205  0.915844           1\n",
       "subj_2   0.933431  0.983217           2\n",
       "subj_3   0.240165  0.523521           0\n",
       "subj_3   0.401549  0.217905           1\n",
       "subj_3   0.657029  0.174867           2"
      ]
     },
     "execution_count": 94,
     "metadata": {},
     "output_type": "execute_result"
    }
   ],
   "source": [
    "# But we reindex the trials dataframe to make indexes consistent!\n",
    "trials_df.set_index(\"subject\")"
   ]
  },
  {
   "cell_type": "markdown",
   "id": "6cc991e9",
   "metadata": {
    "slideshow": {
     "slide_type": "subslide"
    }
   },
   "source": [
    "So now we can write:"
   ]
  },
  {
   "cell_type": "code",
   "execution_count": 95,
   "id": "f19d711e",
   "metadata": {
    "ExecuteTime": {
     "end_time": "2023-05-22T06:51:29.746540Z",
     "start_time": "2023-05-22T06:51:29.741953Z"
    },
    "slideshow": {
     "slide_type": "-"
    }
   },
   "outputs": [
    {
     "data": {
      "text/html": [
       "<div>\n",
       "<style scoped>\n",
       "    .dataframe tbody tr th:only-of-type {\n",
       "        vertical-align: middle;\n",
       "    }\n",
       "\n",
       "    .dataframe tbody tr th {\n",
       "        vertical-align: top;\n",
       "    }\n",
       "\n",
       "    .dataframe thead th {\n",
       "        text-align: right;\n",
       "    }\n",
       "</style>\n",
       "<table border=\"1\" class=\"dataframe\">\n",
       "  <thead>\n",
       "    <tr style=\"text-align: right;\">\n",
       "      <th></th>\n",
       "      <th>accuracy</th>\n",
       "      <th>speed</th>\n",
       "      <th>repetition</th>\n",
       "    </tr>\n",
       "    <tr>\n",
       "      <th>subject</th>\n",
       "      <th></th>\n",
       "      <th></th>\n",
       "      <th></th>\n",
       "    </tr>\n",
       "  </thead>\n",
       "  <tbody>\n",
       "    <tr>\n",
       "      <th>subj_0</th>\n",
       "      <td>0.193568</td>\n",
       "      <td>0.238206</td>\n",
       "      <td>-1.0</td>\n",
       "    </tr>\n",
       "    <tr>\n",
       "      <th>subj_0</th>\n",
       "      <td>-0.021953</td>\n",
       "      <td>-0.426926</td>\n",
       "      <td>0.0</td>\n",
       "    </tr>\n",
       "    <tr>\n",
       "      <th>subj_0</th>\n",
       "      <td>-0.171614</td>\n",
       "      <td>0.188720</td>\n",
       "      <td>1.0</td>\n",
       "    </tr>\n",
       "    <tr>\n",
       "      <th>subj_1</th>\n",
       "      <td>0.041371</td>\n",
       "      <td>-0.016510</td>\n",
       "      <td>-1.0</td>\n",
       "    </tr>\n",
       "    <tr>\n",
       "      <th>subj_1</th>\n",
       "      <td>0.006024</td>\n",
       "      <td>-0.083680</td>\n",
       "      <td>0.0</td>\n",
       "    </tr>\n",
       "    <tr>\n",
       "      <th>subj_1</th>\n",
       "      <td>-0.047394</td>\n",
       "      <td>0.100190</td>\n",
       "      <td>1.0</td>\n",
       "    </tr>\n",
       "    <tr>\n",
       "      <th>subj_2</th>\n",
       "      <td>-0.196684</td>\n",
       "      <td>-0.490076</td>\n",
       "      <td>-1.0</td>\n",
       "    </tr>\n",
       "    <tr>\n",
       "      <th>subj_2</th>\n",
       "      <td>-0.306771</td>\n",
       "      <td>0.211352</td>\n",
       "      <td>0.0</td>\n",
       "    </tr>\n",
       "    <tr>\n",
       "      <th>subj_2</th>\n",
       "      <td>0.503455</td>\n",
       "      <td>0.278724</td>\n",
       "      <td>1.0</td>\n",
       "    </tr>\n",
       "    <tr>\n",
       "      <th>subj_3</th>\n",
       "      <td>-0.192749</td>\n",
       "      <td>0.218090</td>\n",
       "      <td>-1.0</td>\n",
       "    </tr>\n",
       "    <tr>\n",
       "      <th>subj_3</th>\n",
       "      <td>-0.031365</td>\n",
       "      <td>-0.087526</td>\n",
       "      <td>0.0</td>\n",
       "    </tr>\n",
       "    <tr>\n",
       "      <th>subj_3</th>\n",
       "      <td>0.224114</td>\n",
       "      <td>-0.130564</td>\n",
       "      <td>1.0</td>\n",
       "    </tr>\n",
       "  </tbody>\n",
       "</table>\n",
       "</div>"
      ],
      "text/plain": [
       "         accuracy     speed  repetition\n",
       "subject                                \n",
       "subj_0   0.193568  0.238206        -1.0\n",
       "subj_0  -0.021953 -0.426926         0.0\n",
       "subj_0  -0.171614  0.188720         1.0\n",
       "subj_1   0.041371 -0.016510        -1.0\n",
       "subj_1   0.006024 -0.083680         0.0\n",
       "subj_1  -0.047394  0.100190         1.0\n",
       "subj_2  -0.196684 -0.490076        -1.0\n",
       "subj_2  -0.306771  0.211352         0.0\n",
       "subj_2   0.503455  0.278724         1.0\n",
       "subj_3  -0.192749  0.218090        -1.0\n",
       "subj_3  -0.031365 -0.087526         0.0\n",
       "subj_3   0.224114 -0.130564         1.0"
      ]
     },
     "execution_count": 95,
     "metadata": {},
     "output_type": "execute_result"
    }
   ],
   "source": [
    "trials_df.set_index(\"subject\") - trials_df.groupby(\"subject\").mean()"
   ]
  },
  {
   "cell_type": "markdown",
   "id": "7e836975",
   "metadata": {
    "slideshow": {
     "slide_type": "subslide"
    }
   },
   "source": [
    "From each entry in the trials dataframe, numpy will broadcast the correct value of the mean for that subject!"
   ]
  },
  {
   "cell_type": "markdown",
   "id": "06d02b33",
   "metadata": {
    "slideshow": {
     "slide_type": "slide"
    }
   },
   "source": [
    "(Practicals 1.4.1)"
   ]
  },
  {
   "cell_type": "markdown",
   "id": "e6f83cb9",
   "metadata": {
    "slideshow": {
     "slide_type": "subslide"
    }
   },
   "source": [
    "## Multi-indexing"
   ]
  },
  {
   "cell_type": "markdown",
   "id": "d7ee103e",
   "metadata": {},
   "source": [
    "Sometimes, we might want to average keeping the segregation over multiple categories:"
   ]
  },
  {
   "cell_type": "code",
   "execution_count": 61,
   "id": "23a7631a",
   "metadata": {},
   "outputs": [
    {
     "data": {
      "text/html": [
       "<div>\n",
       "<style scoped>\n",
       "    .dataframe tbody tr th:only-of-type {\n",
       "        vertical-align: middle;\n",
       "    }\n",
       "\n",
       "    .dataframe tbody tr th {\n",
       "        vertical-align: top;\n",
       "    }\n",
       "\n",
       "    .dataframe thead th {\n",
       "        text-align: right;\n",
       "    }\n",
       "</style>\n",
       "<table border=\"1\" class=\"dataframe\">\n",
       "  <thead>\n",
       "    <tr style=\"text-align: right;\">\n",
       "      <th></th>\n",
       "      <th>subject</th>\n",
       "      <th>trial_type</th>\n",
       "      <th>accuracy</th>\n",
       "      <th>rt</th>\n",
       "    </tr>\n",
       "  </thead>\n",
       "  <tbody>\n",
       "    <tr>\n",
       "      <th>0</th>\n",
       "      <td>subj0</td>\n",
       "      <td>type0</td>\n",
       "      <td>0.926437</td>\n",
       "      <td>22.426808</td>\n",
       "    </tr>\n",
       "    <tr>\n",
       "      <th>1</th>\n",
       "      <td>subj0</td>\n",
       "      <td>type0</td>\n",
       "      <td>0.342887</td>\n",
       "      <td>30.346110</td>\n",
       "    </tr>\n",
       "    <tr>\n",
       "      <th>2</th>\n",
       "      <td>subj0</td>\n",
       "      <td>type1</td>\n",
       "      <td>0.572582</td>\n",
       "      <td>86.570512</td>\n",
       "    </tr>\n",
       "    <tr>\n",
       "      <th>3</th>\n",
       "      <td>subj0</td>\n",
       "      <td>type1</td>\n",
       "      <td>0.637211</td>\n",
       "      <td>6.728407</td>\n",
       "    </tr>\n",
       "    <tr>\n",
       "      <th>4</th>\n",
       "      <td>subj1</td>\n",
       "      <td>type0</td>\n",
       "      <td>0.757419</td>\n",
       "      <td>4.163872</td>\n",
       "    </tr>\n",
       "  </tbody>\n",
       "</table>\n",
       "</div>"
      ],
      "text/plain": [
       "  subject trial_type  accuracy         rt\n",
       "0   subj0      type0  0.926437  22.426808\n",
       "1   subj0      type0  0.342887  30.346110\n",
       "2   subj0      type1  0.572582  86.570512\n",
       "3   subj0      type1  0.637211   6.728407\n",
       "4   subj1      type0  0.757419   4.163872"
      ]
     },
     "execution_count": 61,
     "metadata": {},
     "output_type": "execute_result"
    }
   ],
   "source": [
    "# Create again a trials_df:\n",
    "trials_df = pd.DataFrame(dict(subject=[f\"subj{i}\" for i in range(n_subjects) for _ in range(n_trials)],\n",
    "                              trial_type=[f\"type{n//2}\" for i in range(n_subjects) for n in range(n_trials)],\n",
    "                              accuracy=np.random.uniform(0, 1, n_trials*n_subjects),\n",
    "                              rt=np.random.uniform(0, 100, n_trials*n_subjects)))\n",
    "\n",
    "trials_df.head()"
   ]
  },
  {
   "cell_type": "code",
   "execution_count": 62,
   "id": "51db3773",
   "metadata": {
    "slideshow": {
     "slide_type": "subslide"
    }
   },
   "outputs": [
    {
     "data": {
      "text/html": [
       "<div>\n",
       "<style scoped>\n",
       "    .dataframe tbody tr th:only-of-type {\n",
       "        vertical-align: middle;\n",
       "    }\n",
       "\n",
       "    .dataframe tbody tr th {\n",
       "        vertical-align: top;\n",
       "    }\n",
       "\n",
       "    .dataframe thead th {\n",
       "        text-align: right;\n",
       "    }\n",
       "</style>\n",
       "<table border=\"1\" class=\"dataframe\">\n",
       "  <thead>\n",
       "    <tr style=\"text-align: right;\">\n",
       "      <th></th>\n",
       "      <th></th>\n",
       "      <th>accuracy</th>\n",
       "      <th>rt</th>\n",
       "    </tr>\n",
       "    <tr>\n",
       "      <th>subject</th>\n",
       "      <th>trial_type</th>\n",
       "      <th></th>\n",
       "      <th></th>\n",
       "    </tr>\n",
       "  </thead>\n",
       "  <tbody>\n",
       "    <tr>\n",
       "      <th rowspan=\"2\" valign=\"top\">subj0</th>\n",
       "      <th>type0</th>\n",
       "      <td>0.634662</td>\n",
       "      <td>26.386459</td>\n",
       "    </tr>\n",
       "    <tr>\n",
       "      <th>type1</th>\n",
       "      <td>0.604897</td>\n",
       "      <td>46.649460</td>\n",
       "    </tr>\n",
       "    <tr>\n",
       "      <th rowspan=\"2\" valign=\"top\">subj1</th>\n",
       "      <th>type0</th>\n",
       "      <td>0.532339</td>\n",
       "      <td>22.757244</td>\n",
       "    </tr>\n",
       "    <tr>\n",
       "      <th>type1</th>\n",
       "      <td>0.636751</td>\n",
       "      <td>65.897157</td>\n",
       "    </tr>\n",
       "    <tr>\n",
       "      <th rowspan=\"2\" valign=\"top\">subj2</th>\n",
       "      <th>type0</th>\n",
       "      <td>0.700396</td>\n",
       "      <td>43.425382</td>\n",
       "    </tr>\n",
       "    <tr>\n",
       "      <th>type1</th>\n",
       "      <td>0.652593</td>\n",
       "      <td>72.750561</td>\n",
       "    </tr>\n",
       "  </tbody>\n",
       "</table>\n",
       "</div>"
      ],
      "text/plain": [
       "                    accuracy         rt\n",
       "subject trial_type                     \n",
       "subj0   type0       0.634662  26.386459\n",
       "        type1       0.604897  46.649460\n",
       "subj1   type0       0.532339  22.757244\n",
       "        type1       0.636751  65.897157\n",
       "subj2   type0       0.700396  43.425382\n",
       "        type1       0.652593  72.750561"
      ]
     },
     "execution_count": 62,
     "metadata": {},
     "output_type": "execute_result"
    }
   ],
   "source": [
    "trial_subj_avg = trials_df.groupby([\"subject\", \"trial_type\"]).mean()\n",
    "trial_subj_avg"
   ]
  },
  {
   "cell_type": "code",
   "execution_count": 64,
   "id": "f239401e",
   "metadata": {},
   "outputs": [
    {
     "data": {
      "text/html": [
       "<div>\n",
       "<style scoped>\n",
       "    .dataframe tbody tr th:only-of-type {\n",
       "        vertical-align: middle;\n",
       "    }\n",
       "\n",
       "    .dataframe tbody tr th {\n",
       "        vertical-align: top;\n",
       "    }\n",
       "\n",
       "    .dataframe thead th {\n",
       "        text-align: right;\n",
       "    }\n",
       "</style>\n",
       "<table border=\"1\" class=\"dataframe\">\n",
       "  <thead>\n",
       "    <tr style=\"text-align: right;\">\n",
       "      <th></th>\n",
       "      <th></th>\n",
       "      <th>accuracy</th>\n",
       "      <th>rt</th>\n",
       "    </tr>\n",
       "    <tr>\n",
       "      <th>subject</th>\n",
       "      <th>trial_type</th>\n",
       "      <th></th>\n",
       "      <th></th>\n",
       "    </tr>\n",
       "  </thead>\n",
       "  <tbody>\n",
       "    <tr>\n",
       "      <th rowspan=\"4\" valign=\"top\">subj0</th>\n",
       "      <th>type0</th>\n",
       "      <td>0.291775</td>\n",
       "      <td>-3.959651</td>\n",
       "    </tr>\n",
       "    <tr>\n",
       "      <th>type0</th>\n",
       "      <td>-0.291775</td>\n",
       "      <td>3.959651</td>\n",
       "    </tr>\n",
       "    <tr>\n",
       "      <th>type1</th>\n",
       "      <td>-0.032315</td>\n",
       "      <td>39.921053</td>\n",
       "    </tr>\n",
       "    <tr>\n",
       "      <th>type1</th>\n",
       "      <td>0.032315</td>\n",
       "      <td>-39.921053</td>\n",
       "    </tr>\n",
       "    <tr>\n",
       "      <th rowspan=\"4\" valign=\"top\">subj1</th>\n",
       "      <th>type0</th>\n",
       "      <td>0.225081</td>\n",
       "      <td>-18.593371</td>\n",
       "    </tr>\n",
       "    <tr>\n",
       "      <th>type0</th>\n",
       "      <td>-0.225081</td>\n",
       "      <td>18.593371</td>\n",
       "    </tr>\n",
       "    <tr>\n",
       "      <th>type1</th>\n",
       "      <td>0.170966</td>\n",
       "      <td>26.402576</td>\n",
       "    </tr>\n",
       "    <tr>\n",
       "      <th>type1</th>\n",
       "      <td>-0.170966</td>\n",
       "      <td>-26.402576</td>\n",
       "    </tr>\n",
       "    <tr>\n",
       "      <th rowspan=\"4\" valign=\"top\">subj2</th>\n",
       "      <th>type0</th>\n",
       "      <td>-0.099937</td>\n",
       "      <td>-1.685576</td>\n",
       "    </tr>\n",
       "    <tr>\n",
       "      <th>type0</th>\n",
       "      <td>0.099937</td>\n",
       "      <td>1.685576</td>\n",
       "    </tr>\n",
       "    <tr>\n",
       "      <th>type1</th>\n",
       "      <td>-0.321424</td>\n",
       "      <td>25.010144</td>\n",
       "    </tr>\n",
       "    <tr>\n",
       "      <th>type1</th>\n",
       "      <td>0.321424</td>\n",
       "      <td>-25.010144</td>\n",
       "    </tr>\n",
       "  </tbody>\n",
       "</table>\n",
       "</div>"
      ],
      "text/plain": [
       "                    accuracy         rt\n",
       "subject trial_type                     \n",
       "subj0   type0       0.291775  -3.959651\n",
       "        type0      -0.291775   3.959651\n",
       "        type1      -0.032315  39.921053\n",
       "        type1       0.032315 -39.921053\n",
       "subj1   type0       0.225081 -18.593371\n",
       "        type0      -0.225081  18.593371\n",
       "        type1       0.170966  26.402576\n",
       "        type1      -0.170966 -26.402576\n",
       "subj2   type0      -0.099937  -1.685576\n",
       "        type0       0.099937   1.685576\n",
       "        type1      -0.321424  25.010144\n",
       "        type1       0.321424 -25.010144"
      ]
     },
     "execution_count": 64,
     "metadata": {},
     "output_type": "execute_result"
    }
   ],
   "source": [
    "trials_df.set_index([\"subject\", \"trial_type\"]) - trial_subj_avg"
   ]
  },
  {
   "cell_type": "markdown",
   "id": "4a83dc66",
   "metadata": {
    "slideshow": {
     "slide_type": "subslide"
    }
   },
   "source": [
    "## Rolling functions with `.rolling()`"
   ]
  },
  {
   "cell_type": "markdown",
   "id": "f0113fee",
   "metadata": {
    "slideshow": {
     "slide_type": "fragment"
    }
   },
   "source": [
    "Imagine we have a time series of data, and we want to compute the mean in a sliding window (e.g., for smoothing)."
   ]
  },
  {
   "cell_type": "code",
   "execution_count": 19,
   "id": "f7dacf7b",
   "metadata": {
    "ExecuteTime": {
     "end_time": "2023-05-22T08:16:52.984252Z",
     "start_time": "2023-05-22T08:16:52.871359Z"
    },
    "slideshow": {
     "slide_type": "-"
    }
   },
   "outputs": [
    {
     "data": {
      "text/plain": [
       "<Axes: >"
      ]
     },
     "execution_count": 19,
     "metadata": {},
     "output_type": "execute_result"
    },
    {
     "data": {
      "image/png": "[encoded data removed]",
      "text/plain": [
       "<Figure size 640x480 with 1 Axes>"
      ]
     },
     "metadata": {},
     "output_type": "display_data"
    }
   ],
   "source": [
    "# Let's create a time series:\n",
    "time_series = pd.Series(np.random.rand(100))\n",
    "time_series.plot()"
   ]
  },
  {
   "cell_type": "code",
   "execution_count": 67,
   "id": "0168f7e8",
   "metadata": {
    "ExecuteTime": {
     "end_time": "2023-05-22T08:19:07.033667Z",
     "start_time": "2023-05-22T08:19:07.031930Z"
    },
    "slideshow": {
     "slide_type": "subslide"
    }
   },
   "outputs": [],
   "source": [
    "# This will compute the mean in a rolling window - ie, smooth it!\n",
    "rolling_wnd_size = 10\n",
    "smoothed = time_series.rolling(rolling_wnd_size).mean()"
   ]
  },
  {
   "cell_type": "code",
   "execution_count": 68,
   "id": "2f62c490",
   "metadata": {
    "ExecuteTime": {
     "end_time": "2023-05-22T08:16:55.203816Z",
     "start_time": "2023-05-22T08:16:55.133381Z"
    },
    "slideshow": {
     "slide_type": "subslide"
    }
   },
   "outputs": [
    {
     "data": {
      "text/plain": [
       "<Axes: >"
      ]
     },
     "execution_count": 68,
     "metadata": {},
     "output_type": "execute_result"
    },
    {
     "data": {
      "image/png": "[encoded data removed]",
      "text/plain": [
       "<Figure size 640x480 with 1 Axes>"
      ]
     },
     "metadata": {},
     "output_type": "display_data"
    }
   ],
   "source": [
    "time_series.plot(legend=\"Original\")\n",
    "smoothed.plot(legend=\"Time averaged\")"
   ]
  },
  {
   "cell_type": "markdown",
   "id": "548ac227",
   "metadata": {
    "slideshow": {
     "slide_type": "fragment"
    }
   },
   "source": [
    "Note that there will be nan values at the borders, where we do not have enough data to compute the mean"
   ]
  },
  {
   "cell_type": "markdown",
   "id": "05694426",
   "metadata": {
    "slideshow": {
     "slide_type": "subslide"
    }
   },
   "source": [
    "By default, the window will not be centered:"
   ]
  },
  {
   "cell_type": "code",
   "execution_count": 69,
   "id": "ac759b57",
   "metadata": {
    "slideshow": {
     "slide_type": "fragment"
    }
   },
   "outputs": [],
   "source": [
    "dirac_series = pd.Series(np.zeros(30))\n",
    "dirac_series[15] = 1"
   ]
  },
  {
   "cell_type": "code",
   "execution_count": 70,
   "id": "84ba4955",
   "metadata": {
    "ExecuteTime": {
     "end_time": "2023-05-22T08:26:49.242687Z",
     "start_time": "2023-05-22T08:26:49.190840Z"
    },
    "slideshow": {
     "slide_type": "-"
    }
   },
   "outputs": [
    {
     "data": {
      "text/plain": [
       "<Axes: >"
      ]
     },
     "execution_count": 70,
     "metadata": {},
     "output_type": "execute_result"
    },
    {
     "data": {
      "image/png": "[encoded data removed]",
      "text/plain": [
       "<Figure size 300x200 with 1 Axes>"
      ]
     },
     "metadata": {},
     "output_type": "display_data"
    }
   ],
   "source": [
    "dirac_series.plot(figsize=(3,2))\n",
    "dirac_series.rolling(8).mean().plot()"
   ]
  },
  {
   "cell_type": "markdown",
   "id": "ffa0c92d",
   "metadata": {
    "slideshow": {
     "slide_type": "subslide"
    }
   },
   "source": [
    "We can center the window with the `center=True` argument:"
   ]
  },
  {
   "cell_type": "code",
   "execution_count": 24,
   "id": "f365f21c",
   "metadata": {
    "ExecuteTime": {
     "end_time": "2023-05-22T08:27:18.196352Z",
     "start_time": "2023-05-22T08:27:18.136583Z"
    },
    "slideshow": {
     "slide_type": "-"
    }
   },
   "outputs": [
    {
     "data": {
      "text/plain": [
       "<Axes: >"
      ]
     },
     "execution_count": 24,
     "metadata": {},
     "output_type": "execute_result"
    },
    {
     "data": {
      "image/png": "[encoded data removed]",
      "text/plain": [
       "<Figure size 300x200 with 1 Axes>"
      ]
     },
     "metadata": {},
     "output_type": "display_data"
    }
   ],
   "source": [
    "dirac_series.plot(figsize=(3,2))\n",
    "dirac_series.rolling(8, center=True).mean().plot()"
   ]
  },
  {
   "cell_type": "markdown",
   "id": "882c6b00",
   "metadata": {
    "slideshow": {
     "slide_type": "subslide"
    }
   },
   "source": [
    "### Usage of `.rolling()`"
   ]
  },
  {
   "cell_type": "markdown",
   "id": "60c390a2",
   "metadata": {
    "slideshow": {
     "slide_type": "fragment"
    }
   },
   "source": [
    "When done with averaging, same results as other smoothing tools"
   ]
  },
  {
   "cell_type": "markdown",
   "id": "f8c6c740",
   "metadata": {
    "slideshow": {
     "slide_type": "fragment"
    }
   },
   "source": [
    "But now we can use arbitrary functions! (standard deviation, significance tests, etc)"
   ]
  },
  {
   "cell_type": "markdown",
   "id": "579dd4bc",
   "metadata": {
    "slideshow": {
     "slide_type": "subslide"
    }
   },
   "source": [
    "For example, we can look at the range of an oscillation with rolling `max()` and `min()`:"
   ]
  },
  {
   "cell_type": "code",
   "execution_count": 25,
   "id": "c7112545",
   "metadata": {
    "ExecuteTime": {
     "end_time": "2023-05-22T08:28:04.669459Z",
     "start_time": "2023-05-22T08:28:04.588269Z"
    },
    "slideshow": {
     "slide_type": "fragment"
    }
   },
   "outputs": [
    {
     "data": {
      "text/plain": [
       "<Axes: >"
      ]
     },
     "execution_count": 25,
     "metadata": {},
     "output_type": "execute_result"
    },
    {
     "data": {
      "image/png": "[encoded data removed]",
      "text/plain": [
       "<Figure size 640x480 with 1 Axes>"
      ]
     },
     "metadata": {},
     "output_type": "display_data"
    }
   ],
   "source": [
    "win_size = 10\n",
    "time_series.plot()\n",
    "time_series.rolling(window=win_size, center=True).min().plot()\n",
    "time_series.rolling(window=win_size, center=True).max().plot()"
   ]
  },
  {
   "cell_type": "markdown",
   "id": "629c086c",
   "metadata": {
    "slideshow": {
     "slide_type": "slide"
    }
   },
   "source": [
    "(Practicals 1.4.2)"
   ]
  },
  {
   "cell_type": "code",
   "execution_count": null,
   "id": "4223d230",
   "metadata": {},
   "outputs": [],
   "source": []
  }
 ],
 "metadata": {
  "celltoolbar": "Slideshow",
  "kernelspec": {
   "display_name": "course-env",
   "language": "python",
   "name": "course-env"
  },
  "language_info": {
   "codemirror_mode": {
    "name": "ipython",
    "version": 3
   },
   "file_extension": ".py",
   "mimetype": "text/x-python",
   "name": "python",
   "nbconvert_exporter": "python",
   "pygments_lexer": "ipython3",
   "version": "3.10.13"
  }
 },
 "nbformat": 4,
 "nbformat_minor": 5
}
