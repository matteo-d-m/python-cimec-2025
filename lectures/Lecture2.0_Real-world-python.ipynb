{
 "cells": [
  {
   "cell_type": "markdown",
   "id": "3ca811a3",
   "metadata": {
    "slideshow": {
     "slide_type": "slide"
    }
   },
   "source": [
    "# Python for (open) Neuroscience\n",
    "\n",
    "_Lecture 2.0_ - Real world Python \n",
    "\n",
    "Luigi Petrucco\n",
    "\n",
    "[![Open In Colab](https://colab.research.google.com/assets/colab-badge.svg)](https://colab.research.google.com/github/vigji/python-cimec-2025/blob/main/lectures/Lecture2.0_Real-world-Python.ipynb)"
   ]
  },
  {
   "cell_type": "code",
   "execution_count": null,
   "id": "729419c4",
   "metadata": {},
   "outputs": [],
   "source": []
  },
  {
   "cell_type": "markdown",
   "id": "9afe297b",
   "metadata": {
    "slideshow": {
     "slide_type": "subslide"
    }
   },
   "source": [
    "## Disclaimer \n",
    "\n",
    "- The content of this lecture is not essential to the usage of Python itself"
   ]
  },
  {
   "cell_type": "markdown",
   "id": "f798904d",
   "metadata": {
    "slideshow": {
     "slide_type": "fragment"
    }
   },
   "source": [
    " - knowing those topics makes it easier to orient yourself in debugging issues with Python installations"
   ]
  },
  {
   "cell_type": "markdown",
   "id": "7f12dadb",
   "metadata": {
    "slideshow": {
     "slide_type": "subslide"
    }
   },
   "source": [
    "## Your local Python, demystified!\n",
    "\n",
    "You have installed Python (and a bunch of other things)\n",
    "\n",
    "what does that mean?"
   ]
  },
  {
   "cell_type": "markdown",
   "id": "09e46885",
   "metadata": {
    "slideshow": {
     "slide_type": "subslide"
    }
   },
   "source": [
    "(Python's main issue is notoriously the bugs that can arise from python and packages versioning. Therefore, understanding a bit of what hides there is very useful!)"
   ]
  },
  {
   "cell_type": "markdown",
   "id": "c0309e01",
   "metadata": {
    "slideshow": {
     "slide_type": "subslide"
    }
   },
   "source": [
    "<p align=\"center\" style=\"width:600px\">\n",
    "  <img src=\"./files/python_environment_2x.png\" />\n",
    "</p>"
   ]
  },
  {
   "cell_type": "markdown",
   "id": "13d65fad",
   "metadata": {
    "slideshow": {
     "slide_type": "subslide"
    }
   },
   "source": [
    "### Preface: using the terminal"
   ]
  },
  {
   "cell_type": "markdown",
   "id": "bf0a3eb5",
   "metadata": {},
   "source": [
    "Many, many things in dealing with a local Python installation are smoother if we learn the very basics of what we can do when we write stuff in the <span style=\"color:indianred\">terminal/prompt</span> of your operative systems."
   ]
  },
  {
   "cell_type": "markdown",
   "id": "cef6355f",
   "metadata": {
    "slideshow": {
     "slide_type": "subslide"
    }
   },
   "source": [
    "For Windows users, the terminal to use will be <span style=\"color:indianred\">Anaconda prompt</span>* ; for mac users, the <span style=\"color:indianred\">Terminal</span>"
   ]
  },
  {
   "cell_type": "markdown",
   "id": "5940f397",
   "metadata": {},
   "source": [
    "\\* the anaconda prompt is just a normal Command Prompt with some configurations on where to find our Python installation files!"
   ]
  },
  {
   "cell_type": "markdown",
   "id": "7e92d48e",
   "metadata": {
    "slideshow": {
     "slide_type": "subslide"
    }
   },
   "source": [
    "### Running programs from the terminal"
   ]
  },
  {
   "cell_type": "markdown",
   "id": "00bc1ee5",
   "metadata": {},
   "source": [
    "The main thing we will do from the terminal is to run programs. Those programs can do many things - as many as the programs you are used to open with mouse clicking and use with a graphical interface!"
   ]
  },
  {
   "cell_type": "markdown",
   "id": "71fac1bd",
   "metadata": {
    "slideshow": {
     "slide_type": "subslide"
    }
   },
   "source": [
    "For example, if we write on the terminal:\n",
    "\n",
    "```bash\n",
    "> python\n",
    "```\n",
    "\n",
    "We are doing the equivalent of mouse-clicking the icon of a Python application installed on the device."
   ]
  },
  {
   "cell_type": "markdown",
   "id": "8e48a521",
   "metadata": {
    "slideshow": {
     "slide_type": "subslide"
    }
   },
   "source": [
    "The terminal must know where to look for the executable we call. This is configured in a bunch of scary looking files we seldomly (and carefully!!) edit (like the PATH file).\n",
    "\n",
    "If the string you write is not linked to any program, the terminal will tell you something like `command not found: xxxxxxx` (on a mac)"
   ]
  },
  {
   "cell_type": "markdown",
   "id": "419eb4b0",
   "metadata": {
    "slideshow": {
     "slide_type": "subslide"
    }
   },
   "source": [
    "In what follows, remember that every time we are writing a name on the terminal, what we are actually doing is to call the executable linked with that name!"
   ]
  },
  {
   "cell_type": "markdown",
   "id": "bba17bdb",
   "metadata": {
    "slideshow": {
     "slide_type": "subslide"
    }
   },
   "source": [
    "### Components of a Python installation"
   ]
  },
  {
   "cell_type": "markdown",
   "id": "a331e6f1",
   "metadata": {},
   "source": [
    "Here we give an overview of the parts that make a local Python installation, a bunch of stuff you will find in your local Python folder!\n",
    "\n",
    "(The folder structure might be slightly different in old versions of Python/conda, but the parts are the same)"
   ]
  },
  {
   "cell_type": "markdown",
   "id": "11494e3b",
   "metadata": {
    "slideshow": {
     "slide_type": "subslide"
    }
   },
   "source": [
    "<p align=\"center\" style=\"width:800px\">\n",
    "  <img src=\"./files/folderschema-02.png\" />\n",
    "</p>"
   ]
  },
  {
   "cell_type": "markdown",
   "id": "1bab45e8",
   "metadata": {
    "slideshow": {
     "slide_type": "subslide"
    }
   },
   "source": [
    "### Essential components of a Python installation"
   ]
  },
  {
   "cell_type": "markdown",
   "id": "5fa4ccd4",
   "metadata": {},
   "source": [
    " - Python interpreter\n",
    " - Python standard library\n",
    " - A package manager (and third-party packages installed)"
   ]
  },
  {
   "cell_type": "markdown",
   "id": "0fadd64e",
   "metadata": {
    "slideshow": {
     "slide_type": "subslide"
    }
   },
   "source": [
    "<span style=\"color:indianred\">Python interpreter</span>: the Python interpreter is the main program that runs line by line the instructions that we write in our Python code. \n",
    "\n",
    "The Python interpreter is an executable compiled for your specific operative system (as any other program - .exe/.app), and kept at a specific location."
   ]
  },
  {
   "cell_type": "markdown",
   "id": "b08ca1be",
   "metadata": {
    "slideshow": {
     "slide_type": "subslide"
    }
   },
   "source": [
    "<p align=\"center\" style=\"width:600px\">\n",
    "  <img src=\"./files/folderschema-03.png\" />\n",
    "</p>"
   ]
  },
  {
   "cell_type": "markdown",
   "id": "f47923d5",
   "metadata": {
    "slideshow": {
     "slide_type": "subslide"
    }
   },
   "source": [
    "<span style=\"color:indianred\">The standard library</span>: each Python interpreter comes with a bunch of pre-installed modules that we do not have to install.\n",
    "\n",
    "For example, `random` is one of such modules; others are for example `sys`, `os` or `math`. Together, all those modules form the standard library."
   ]
  },
  {
   "cell_type": "markdown",
   "id": "be623d7e",
   "metadata": {
    "slideshow": {
     "slide_type": "subslide"
    }
   },
   "source": [
    "<p align=\"center\" style=\"width:800px\">\n",
    "  <img src=\"./files/folderschema-04.png\" />\n",
    "</p>"
   ]
  },
  {
   "cell_type": "markdown",
   "id": "52d8bc1a",
   "metadata": {
    "slideshow": {
     "slide_type": "subslide"
    }
   },
   "source": [
    "<span style=\"color:indianred\">A package manager</span>: to use third-party packages, we have to download and install them. a package manager is a tool that allows us to do that! `pip` and `conda` are the most common ones. More on them later!"
   ]
  },
  {
   "cell_type": "markdown",
   "id": "31581175",
   "metadata": {
    "slideshow": {
     "slide_type": "subslide"
    }
   },
   "source": [
    "<p align=\"center\" style=\"width:800px\">\n",
    "  <img src=\"./files/folderschema-06.png\" />\n",
    "</p>"
   ]
  },
  {
   "cell_type": "markdown",
   "id": "a4e36342",
   "metadata": {
    "slideshow": {
     "slide_type": "subslide"
    }
   },
   "source": [
    "<span style=\"color:indianred\">Third party packages</span>: Many useful packages are not pre-installed, and we  need to install them ourselves\n",
    "\n",
    "`numpy` and  `pandas` are examples of such packages. Although broadly used, they are not \"standard Python\", they come from different developers."
   ]
  },
  {
   "cell_type": "markdown",
   "id": "457a2893",
   "metadata": {
    "slideshow": {
     "slide_type": "subslide"
    }
   },
   "source": [
    "<p align=\"center\" style=\"width:800px\">\n",
    "  <img src=\"./files/folderschema-04.png\" />\n",
    "</p>"
   ]
  },
  {
   "cell_type": "markdown",
   "id": "871abefb",
   "metadata": {
    "slideshow": {
     "slide_type": "subslide"
    }
   },
   "source": [
    "(Note that the Python interpreter that was running our Google Colab notebooks already had everything installed, so we never had to deal with an installation)"
   ]
  },
  {
   "cell_type": "markdown",
   "id": "4e7d2a33",
   "metadata": {
    "slideshow": {
     "slide_type": "subslide"
    }
   },
   "source": [
    "### Optional parts"
   ]
  },
  {
   "cell_type": "markdown",
   "id": "efd51a72",
   "metadata": {
    "slideshow": {
     "slide_type": "-"
    }
   },
   "source": [
    "Some elements of a Python installation are not strictly mandatory but we generally use them as they can be very convenient in the every day usage of Python:\n",
    "\n",
    " - An integrated development environment (IDE)\n",
    " - An environment manager (potentially supporting notebooks)\n",
    " - Custom libraries"
   ]
  },
  {
   "cell_type": "markdown",
   "id": "aeea9916",
   "metadata": {
    "slideshow": {
     "slide_type": "subslide"
    }
   },
   "source": [
    "An <span style=\"color:indianred\">integrated development environment</span>: while in principle you could code everything on any text editor, we generally use programs that are **code-aware** and allow us to easily run the code we write. Examples are:\n",
    "\n",
    " - Spyder (distributed by Anaconda)\n",
    " - Jupyter notebook/lab (distributed by Anaconda)\n",
    " - VS Code (not distributed by Anaconda)\n",
    " - PyCharm (not distributed by Anaconda)"
   ]
  },
  {
   "cell_type": "markdown",
   "id": "b996ee22",
   "metadata": {
    "slideshow": {
     "slide_type": "subslide"
    }
   },
   "source": [
    "<span style=\"color:indianred\">An environment manager</span>: environments are compartimentalized python interpreters that do not mess with each other. This is convenient because different projects might require different versions of Python/packages, and we don't want to mess one up by upgrading/downgrading the other. "
   ]
  },
  {
   "cell_type": "markdown",
   "id": "8d7aa642",
   "metadata": {
    "slideshow": {
     "slide_type": "subslide"
    }
   },
   "source": [
    "<p align=\"center\" style=\"width:600px\">\n",
    "  <img src=\"./files/folderschema-01.png\" />\n",
    "</p>"
   ]
  },
  {
   "cell_type": "markdown",
   "id": "1746066a",
   "metadata": {
    "slideshow": {
     "slide_type": "subslide"
    }
   },
   "source": [
    "An <span style=\"color:indianred\">notebook runner package</span>: to be able to use Python notebooks, instead of just scripts, we need a specific package that allows us to work with them. `jupyter` is a special third-party package that lets us open notebooks on a browser. We'll have a look later!"
   ]
  },
  {
   "cell_type": "markdown",
   "id": "5dd836cd",
   "metadata": {
    "slideshow": {
     "slide_type": "subslide"
    }
   },
   "source": [
    "<span style=\"color:indianred\">Custom libraries</span>: we can also create a bunch of custom libraries where we organize the functions that we want to use over many different projects/notebooks, so that we can `import` them any time we need. There are multiple ways in which they can be made visible to the python interpreter - we'll see some later!"
   ]
  },
  {
   "cell_type": "markdown",
   "id": "d2621d50",
   "metadata": {
    "slideshow": {
     "slide_type": "subslide"
    }
   },
   "source": [
    "### Using Python and related tools"
   ]
  },
  {
   "cell_type": "markdown",
   "id": "2faf70d6",
   "metadata": {},
   "source": [
    "We interact with all those tools from the terminal"
   ]
  },
  {
   "cell_type": "markdown",
   "id": "c73a8986",
   "metadata": {
    "slideshow": {
     "slide_type": "subslide"
    }
   },
   "source": [
    "For example, if we just write in the terminal:\n",
    "\n",
    "```bash\n",
    "> python \n",
    "```\n",
    "\n",
    "This will open a (pretty useless) Python interface where we can directly send instructions to a Python interpreter"
   ]
  },
  {
   "cell_type": "markdown",
   "id": "73b72f25",
   "metadata": {
    "slideshow": {
     "slide_type": "subslide"
    }
   },
   "source": [
    "You will probably have more than one Python executable on your computer!\n",
    "\n",
    "To see which python executable you are running when you type  `python`, you can:\n",
    "1. Run `python` in the terminal\n",
    "2. `import sys`\n",
    "3. `sys.executable` prints the location of the python interpreter"
   ]
  },
  {
   "cell_type": "markdown",
   "id": "8970990b",
   "metadata": {
    "slideshow": {
     "slide_type": "subslide"
    }
   },
   "source": [
    "We will be calling other tools from the terminal:\n",
    "\n",
    " - `conda/pip install ...` installs new packages\n",
    " - `jupyter notebook` opens an interface to run notebooks\n",
    " - `conda env create...` creates new Python environments\n",
    " \n",
    "etc etc."
   ]
  },
  {
   "cell_type": "markdown",
   "id": "7f63ec87",
   "metadata": {
    "slideshow": {
     "slide_type": "subslide"
    }
   },
   "source": [
    "## Python environments"
   ]
  },
  {
   "cell_type": "markdown",
   "id": "bccd5c54",
   "metadata": {},
   "source": [
    "if you followed my installation instructions, you should have two Python interpreters:\n",
    "\n",
    " - a base Python\n",
    " - an environment called `course-env`"
   ]
  },
  {
   "cell_type": "markdown",
   "id": "ab0b55cb",
   "metadata": {
    "slideshow": {
     "slide_type": "subslide"
    }
   },
   "source": [
    "<p align=\"center\" style=\"width:600px\">\n",
    "  <img src=\"./files/folderschema-07.png\" />\n",
    "</p>"
   ]
  },
  {
   "cell_type": "markdown",
   "id": "0580604d",
   "metadata": {
    "slideshow": {
     "slide_type": "subslide"
    }
   },
   "source": [
    "### The base Python"
   ]
  },
  {
   "cell_type": "markdown",
   "id": "49cd5a41",
   "metadata": {},
   "source": [
    "The base `python` is in the main `miniconda3` folder, under `bin/`:\n",
    " - `/Users/username/miniconda3/bin/python.app` (for mac users)\n",
    " - `C:\\Users\\username\\miniconda3\\bin\\python.exe` (for windows users)\n",
    " \n",
    " (note: `bin` folders - short for `binary` - usually contains executable files!)"
   ]
  },
  {
   "cell_type": "markdown",
   "id": "117b698d",
   "metadata": {
    "slideshow": {
     "slide_type": "subslide"
    }
   },
   "source": [
    "- This is the executable that is called if you open a new terminal (windows: anaconda prompt) and write `python`.\n",
    "\n",
    "- This Python serves the enviroment management - ideally, you don't run your code from base, only from environments!"
   ]
  },
  {
   "cell_type": "markdown",
   "id": "6910bf56",
   "metadata": {
    "slideshow": {
     "slide_type": "subslide"
    }
   },
   "source": [
    "### the `course-env` environment python"
   ]
  },
  {
   "cell_type": "markdown",
   "id": "338ffe8f",
   "metadata": {},
   "source": [
    "a`python` of the  `course-env` environment that we created, inside the environment folder:\n",
    " - `/Users/username/miniconda3/envs/course-env/bin/python.app` (for mac users)\n",
    " - `C:\\Users\\username\\miniconda3\\envs\\course-env\\bin\\python.exe` (for windows users)"
   ]
  },
  {
   "cell_type": "markdown",
   "id": "34da1766",
   "metadata": {
    "slideshow": {
     "slide_type": "subslide"
    }
   },
   "source": [
    "If we want to work with the environment python from the terminal, we always first to activate the environment. We do this with `conda activate`:\n",
    "\n",
    "```bash\n",
    "conda activate\n",
    "```\n",
    "\n",
    "**Note** After you activate the environment, you should see its name in brackets in the terminal:\n",
    "\n",
    "```bash\n",
    "(course-env) > \n",
    "```"
   ]
  },
  {
   "cell_type": "markdown",
   "id": "3a7fcdec",
   "metadata": {},
   "source": [
    "If we first **activate the environment** with `conda activate course-env` and then write `python`, we run the python interpreter from the environment."
   ]
  },
  {
   "cell_type": "markdown",
   "id": "f87b4a62",
   "metadata": {
    "slideshow": {
     "slide_type": "slide"
    }
   },
   "source": [
    "Practical 2.0.0:\n",
    " - localize your base `python` executable and the `python` executable of the `course-env` environment!\n",
    " - run your base python from the terminal (/anaconda prompt) writing `python`\n",
    " - check the file location with `import sys; sys.executable`\n",
    " - Activate the `course-env` and run environment base python writing `python`\n",
    " - check the file location with `import sys; sys.executable`"
   ]
  },
  {
   "cell_type": "markdown",
   "id": "e27265a4",
   "metadata": {
    "slideshow": {
     "slide_type": "subslide"
    }
   },
   "source": [
    "## Running Python scripts"
   ]
  },
  {
   "cell_type": "markdown",
   "id": "4d1f0553",
   "metadata": {},
   "source": [
    "Scripts are the most minimal way to run Python code!"
   ]
  },
  {
   "cell_type": "markdown",
   "id": "0cae6552",
   "metadata": {},
   "source": [
    "We can just put together a bunch of Python code lines in a text file and run it with a Python interpreter."
   ]
  },
  {
   "cell_type": "markdown",
   "id": "666ba692",
   "metadata": {
    "slideshow": {
     "slide_type": "subslide"
    }
   },
   "source": [
    "**By convention**, we always name text files containing python code with the extension `.py`."
   ]
  },
  {
   "cell_type": "markdown",
   "id": "5ce8ee41",
   "metadata": {},
   "source": [
    "(We also generally use editors that are more convenient than NotePad to edit our code!)"
   ]
  },
  {
   "cell_type": "markdown",
   "id": "0d7a95da",
   "metadata": {
    "slideshow": {
     "slide_type": "slide"
    }
   },
   "source": [
    "Practical 2.0.1:\n",
    " - using the text editor of your OS, create a test_script.txt file with some code lines\n",
    " ```\n",
    " i = 0\n",
    " b = \"a\"\n",
    " print(i, b)\n",
    " ```\n",
    " - Save it somewhere and get the full path of the file\n",
    " - In the terminal, write\n",
    " ```bash\n",
    " > python full_path/to/thefile/test_script.txt\n",
    " ```"
   ]
  },
  {
   "cell_type": "markdown",
   "id": "423a360b",
   "metadata": {
    "slideshow": {
     "slide_type": "subslide"
    }
   },
   "source": [
    "## Python packages"
   ]
  },
  {
   "cell_type": "markdown",
   "id": "5ce45682",
   "metadata": {},
   "source": [
    "Python packages contain a bunch of functions and classes that we can import from any script/notebook."
   ]
  },
  {
   "cell_type": "markdown",
   "id": "86a1981b",
   "metadata": {
    "slideshow": {
     "slide_type": "subslide"
    }
   },
   "source": [
    "### Where are your packages?"
   ]
  },
  {
   "cell_type": "markdown",
   "id": "835e1d1d",
   "metadata": {},
   "source": [
    "Modules of the standard library are all contained in a folder under `.../miniconda3/envs/course_env/lib/python3.11/`. They are mostly a bunch of `.py` files of some hundreds of lines, defining classes and functions we import in our code."
   ]
  },
  {
   "cell_type": "markdown",
   "id": "0aa682ff",
   "metadata": {
    "slideshow": {
     "slide_type": "subslide"
    }
   },
   "source": [
    "Practical 2.0.2:\n",
    " - locate on your machine the folder of the standard library\n",
    " - find the `random.py` file\n",
    " - Using the text editor of your machine or another code editor, open `random.py` and add a new first line saying \n",
    " ```\n",
    " print(\"Hey! I'm editing the standard library!\")\n",
    " ```\n",
    " - DO NOT CHANGE ANYTHING ELSE IN THIS FILE/FOLDER!\n",
    " - Open the terminal. \n",
    " - conda-activate the `course-env` environment \n",
    " - open the Python interface writing `python`. \n",
    " - Import the `random` library. Do you get your salutation?\n"
   ]
  },
  {
   "cell_type": "markdown",
   "id": "32a7ebcd",
   "metadata": {
    "slideshow": {
     "slide_type": "subslide"
    }
   },
   "source": [
    "### Installing new packages"
   ]
  },
  {
   "cell_type": "markdown",
   "id": "a354c9d9",
   "metadata": {},
   "source": [
    "One of the essential features of Python is the availability of third-party libraries that everyone in the world can work on!"
   ]
  },
  {
   "cell_type": "markdown",
   "id": "e7c22ce1",
   "metadata": {
    "slideshow": {
     "slide_type": "subslide"
    }
   },
   "source": [
    "The **most essential survival skill** for working locally with a Python version is installing new packages we might need as we go further in our analyses."
   ]
  },
  {
   "cell_type": "markdown",
   "id": "ef74ebec",
   "metadata": {
    "slideshow": {
     "slide_type": "subslide"
    }
   },
   "source": [
    "This can be done with a package manager, either `conda` or `pip`. The basic instruction is very simple:\n",
    "\n",
    "```bash\n",
    "> conda install name-of-the-package\n",
    "```\n",
    "\n",
    "or\n",
    "\n",
    "```bash\n",
    "> pip install name-of-the-package\n",
    "```\n",
    "\n",
    "What are those commands doing?"
   ]
  },
  {
   "cell_type": "markdown",
   "id": "8fca072a",
   "metadata": {
    "slideshow": {
     "slide_type": "subslide"
    }
   },
   "source": [
    "`pip` and `conda` are little programs that **look online** (they'll need internet) inside databases with thousands of packages (`pip` goes to [PyPI](https://pypi.org), `conda` goes to [Anaconda, Inc. servers](https://anaconda.org))\n",
    " \n",
    " "
   ]
  },
  {
   "cell_type": "markdown",
   "id": "fff8ee35",
   "metadata": {},
   "source": [
    "Warning\n",
    "\n",
    "`conda` is actually both a **package manager** and an **environment manager** as we saw before"
   ]
  },
  {
   "cell_type": "markdown",
   "id": "5c6d468f",
   "metadata": {
    "slideshow": {
     "slide_type": "subslide"
    }
   },
   "source": [
    " - they search for a version of the package that is compatible with what we have on our machine - most importantly, our Python version"
   ]
  },
  {
   "cell_type": "markdown",
   "id": "194b27bb",
   "metadata": {
    "slideshow": {
     "slide_type": "subslide"
    }
   },
   "source": [
    " - they check if the package depends on some additional packages we do not have yet; if it does, install them"
   ]
  },
  {
   "cell_type": "markdown",
   "id": "58a54bde",
   "metadata": {
    "slideshow": {
     "slide_type": "subslide"
    }
   },
   "source": [
    "\n",
    " - Finally, they download the package **only for the active environment**\n",
    " - The package is downloaded in the `site-packages` folder\n",
    " \n",
    " full path: `lib/.../miniconda3/envs/course_env/lib/python3.11/`"
   ]
  },
  {
   "cell_type": "markdown",
   "id": "f4e22635",
   "metadata": {
    "slideshow": {
     "slide_type": "subslide"
    }
   },
   "source": [
    "### Anaconda and pip"
   ]
  },
  {
   "cell_type": "markdown",
   "id": "355d1bc4",
   "metadata": {},
   "source": [
    "When to use `conda`? When to use `pip`?\n",
    "\n",
    "In most cases, it won't really matter. `conda` can be smoother if you are working with `conda` environments, but there are more packages available with `pip` compared to `conda`.\n",
    "\n",
    "My suggestion is to always try `conda` first. If what you're looking for is not available in `conda`'s database, use `pip`."
   ]
  },
  {
   "cell_type": "markdown",
   "id": "34904862",
   "metadata": {
    "slideshow": {
     "slide_type": "subslide"
    }
   },
   "source": [
    "**Note**: by default, `conda` environments will have `conda` installed but not `pip`! But since `pip` is just another package, you can install it with `conda`:\n",
    "\n",
    "```bash\n",
    "> conda install pip\n",
    "```"
   ]
  },
  {
   "cell_type": "markdown",
   "id": "418304a7",
   "metadata": {},
   "source": [
    "Practical 2.0.3:\n",
    "- Open your terminal (or anaconda prompt). \n",
    "- Activate the course environment using `conda activate`\n",
    "- install the `faker` package using `conda install`\n",
    "- Go and find `faker` in the `site-packages` folder!\n",
    "    "
   ]
  },
  {
   "cell_type": "code",
   "execution_count": null,
   "id": "478d326d",
   "metadata": {},
   "outputs": [],
   "source": []
  }
 ],
 "metadata": {
  "celltoolbar": "Slideshow",
  "kernelspec": {
   "display_name": "Python (course-env)",
   "language": "python",
   "name": "course-env"
  },
  "language_info": {
   "codemirror_mode": {
    "name": "ipython",
    "version": 3
   },
   "file_extension": ".py",
   "mimetype": "text/x-python",
   "name": "python",
   "nbconvert_exporter": "python",
   "pygments_lexer": "ipython3",
   "version": "3.11.12"
  }
 },
 "nbformat": 4,
 "nbformat_minor": 5
}
