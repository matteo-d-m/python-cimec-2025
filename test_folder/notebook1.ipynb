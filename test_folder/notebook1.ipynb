{
 "cells": [
  {
   "cell_type": "code",
   "execution_count": 1,
   "id": "3daf5b10",
   "metadata": {},
   "outputs": [],
   "source": [
    "from utils import test_function"
   ]
  },
  {
   "cell_type": "code",
   "execution_count": 2,
   "id": "da14ae0c",
   "metadata": {},
   "outputs": [
    {
     "name": "stdout",
     "output_type": "stream",
     "text": [
      "aaaaaaa\n"
     ]
    }
   ],
   "source": [
    "test_function()"
   ]
  },
  {
   "cell_type": "code",
   "execution_count": null,
   "id": "66ce8d10",
   "metadata": {},
   "outputs": [],
   "source": []
  }
 ],
 "metadata": {
  "kernelspec": {
   "display_name": "Python (course-env)",
   "language": "python",
   "name": "course-env"
  },
  "language_info": {
   "codemirror_mode": {
    "name": "ipython",
    "version": 3
   },
   "file_extension": ".py",
   "mimetype": "text/x-python",
   "name": "python",
   "nbconvert_exporter": "python",
   "pygments_lexer": "ipython3",
   "version": "3.11.12"
  }
 },
 "nbformat": 4,
 "nbformat_minor": 5
}
