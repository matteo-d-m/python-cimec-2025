{
  "cells": [
    {
      "cell_type": "markdown",
      "metadata": {
        "id": "view-in-github",
        "colab_type": "text"
      },
      "source": [
        "<a href=\"https://colab.research.google.com/github/vigji/python-cimec-2025/blob/mila/practicals/Practicals_1_0.ipynb\" target=\"_parent\"><img src=\"https://colab.research.google.com/assets/colab-badge.svg\" alt=\"Open In Colab\"/></a>"
      ]
    },
    {
      "cell_type": "markdown",
      "id": "03a44e75",
      "metadata": {
        "id": "03a44e75"
      },
      "source": [
        "# Practicals for lecture 1.0\n",
        "\n",
        "[![Open In Colab](https://colab.research.google.com/assets/colab-badge.svg)](https://colab.research.google.com/github/vigji/python-cimec-2025/blob/main/practicals/Practicals_1.0.ipynb)"
      ]
    },
    {
      "cell_type": "markdown",
      "id": "2d2a4f38",
      "metadata": {
        "id": "2d2a4f38"
      },
      "source": [
        "## Introduction to `numpy`"
      ]
    },
    {
      "cell_type": "markdown",
      "id": "99d801e0",
      "metadata": {
        "id": "99d801e0"
      },
      "source": [
        "#### 1.0.0 Creating numpy arrays"
      ]
    },
    {
      "cell_type": "code",
      "execution_count": null,
      "id": "3be7ff9f",
      "metadata": {
        "id": "3be7ff9f"
      },
      "outputs": [],
      "source": [
        "import numpy as np"
      ]
    },
    {
      "cell_type": "code",
      "execution_count": null,
      "id": "7d604249",
      "metadata": {
        "id": "7d604249"
      },
      "outputs": [],
      "source": [
        "# Create a numpy array from this list:\n",
        "\n",
        "my_list = [3,2,4,5,6,1]\n"
      ]
    },
    {
      "cell_type": "code",
      "execution_count": null,
      "id": "e6ff392e",
      "metadata": {
        "id": "e6ff392e"
      },
      "outputs": [],
      "source": [
        "# What shape do you expect to see in the array that come from converting\n",
        "# to numpy this list of lists of lists? Make your prediction, then convert list to array\n",
        "# and check the result!\n",
        "my_list_of_lists = [[[1, 2, 3, 4], [5,6,7,8], [9,10,11,12]],\n",
        "                    [[13,14,15,16], [17,18,19,20], [21,22,23,24]]]\n",
        "\n"
      ]
    },
    {
      "cell_type": "code",
      "execution_count": null,
      "id": "e2943acb",
      "metadata": {
        "id": "e2943acb"
      },
      "outputs": [],
      "source": [
        "# Initialize a 3D numpy array full of zeros of shape (3, 2, 10).\n",
        "# Check its  `ndim` and `shape` attributes to make sure it is correct!\n",
        "\n",
        "my_array = ..."
      ]
    },
    {
      "cell_type": "code",
      "execution_count": null,
      "id": "0e68980b",
      "metadata": {
        "id": "0e68980b"
      },
      "outputs": [],
      "source": [
        "# Initialize a numpy array full of ones of shape (3, 2, 10). Make it of data type np.uint16!\n",
        "# Bonus: check its size in memory and compare it with the size of the zeros array we defined above!\n",
        "# You can use the sys.getsizeof() function to check the size in memory of the array (you have to import sys first!)\n",
        "\n",
        "my_array = ..."
      ]
    },
    {
      "cell_type": "code",
      "execution_count": null,
      "id": "097ed893",
      "metadata": {
        "id": "097ed893"
      },
      "outputs": [],
      "source": [
        "# Initialize an array of shape (3, 2, 10) full of nans:\n",
        "\n",
        "my_array = ..."
      ]
    },
    {
      "cell_type": "code",
      "execution_count": null,
      "id": "261247fb",
      "metadata": {
        "id": "261247fb"
      },
      "outputs": [],
      "source": [
        "# Initialize a 1D array containing all even numbers from 0 to 100:\n",
        "my_array = ..."
      ]
    },
    {
      "cell_type": "code",
      "execution_count": null,
      "id": "a6737560",
      "metadata": {
        "id": "a6737560"
      },
      "outputs": [],
      "source": [
        "# Google (or ask chatGPT) how to use np.random to generate normally distributed values.\n",
        "# Then, create an array of normally distributed values and shape (4,5,2) called random_matrix.\n",
        "\n",
        "random_array = ..."
      ]
    },
    {
      "cell_type": "code",
      "execution_count": null,
      "id": "77402a0a",
      "metadata": {
        "id": "77402a0a"
      },
      "outputs": [],
      "source": [
        "# [Advanced]:\n",
        "# 1) Another useful np.random function is shuffle, to change the order of elements in a list/array.\n",
        "# try it out! Does it return a new array or does it work inplace?\n",
        "\n",
        "# 2) try initializing arrays of float type of different sizes;\n",
        "# Try to figure out how much memory is required to store each number of the array,\n",
        "# and how much memory is allocated as an overhead just to initialize the array\n",
        "\n",
        "# 3) From the exercise above, you can imagine that sometimes using u/int8 or u/int16 can spare a lot of space\n",
        "# when working with arrays. However, those types can only store integers. Can you imagine what you could do\n",
        "# to store float values between 0 and 1 in a compressed format using uint16? write a function that takes\n",
        "# as input an array of floats between 0 and 1 and convert it in uint16 format maintaning as much information\n",
        "# as possible. Write also a function to transform the array back to the original float form.\n",
        "\n",
        "# 4) Can you calculate how much error you are introducing when compressing an array in this way?"
      ]
    },
    {
      "cell_type": "markdown",
      "id": "4c7a5116",
      "metadata": {
        "id": "4c7a5116"
      },
      "source": [
        "#### 1.0.1 Indexing and plotting"
      ]
    },
    {
      "cell_type": "code",
      "execution_count": null,
      "id": "57b9def5",
      "metadata": {
        "id": "57b9def5"
      },
      "outputs": [],
      "source": [
        "# You are given this 2D array:\n",
        "np.random.seed(42)\n",
        "random_array = np.random.normal(0, 1, (4, 5))\n",
        "\n",
        "# use numpy indexing to address the element (0, 1) (first row, second column) from random_array:"
      ]
    },
    {
      "cell_type": "code",
      "execution_count": null,
      "id": "63bb4bab",
      "metadata": {
        "id": "63bb4bab"
      },
      "outputs": [],
      "source": [
        "# use numpy indexing to select all values in the second row from random_matrix above:\n"
      ]
    },
    {
      "cell_type": "code",
      "execution_count": null,
      "id": "9da177f7",
      "metadata": {
        "id": "9da177f7"
      },
      "outputs": [],
      "source": [
        "# Set to replace with np.nan all the negative values in the matrix below:\n",
        "np.random.seed(42)\n",
        "random_matrix = np.random.normal(0, 1, (3,2))\n",
        "\n"
      ]
    },
    {
      "cell_type": "code",
      "execution_count": null,
      "id": "fc40fecf",
      "metadata": {
        "id": "fc40fecf"
      },
      "outputs": [],
      "source": [
        "# Images are just arrays! This is one of the reasons working with arrays is so important!\n",
        "# (Usually images are H x W x 3 arrays, with the third dimension storing the values\n",
        "# for each of the RGB channels. Here the image will be grayscale, so we only have 2D - no colors!).\n",
        "\n",
        "# Use the function below to download an image, and print the shape of the array to know the number of pixels.\n",
        "# Then, use plt.matshow to visualize it.\n",
        "\n",
        "def fetch_image():\n",
        "    \"\"\"Fetch exercise data from github repo.\n",
        "\n",
        "    Returns:\n",
        "        np.ndarray\n",
        "            Array with the exercise data.\n",
        "\n",
        "    \"\"\"\n",
        "\n",
        "    # You should never import stuff in a function! I'm doing it here\n",
        "    # just to keep together all the code that you don't really need to read now.\n",
        "    import numpy as np\n",
        "    import requests\n",
        "    from io import BytesIO\n",
        "\n",
        "    # URL of the .npy file on GitHub:\n",
        "    URL = \"https://github.com/vigji/python-cimec/raw/main/practicals/data/corrupted_img.npy\"\n",
        "\n",
        "    response = requests.get(URL)\n",
        "\n",
        "    return np.load(BytesIO(response.content))\n",
        "\n",
        "\n",
        "# Tip 1: remember to import matplotlib.pyplot first - and give it an alias! (\"import ... as ...\")\n",
        "# Tip 2: to make the image grayscale, you can pass the cmap=\"gray\" argument to the matshow() function!\n",
        "\n",
        "img = fetch_image()  # print its shape to know the number of pixels"
      ]
    },
    {
      "cell_type": "code",
      "execution_count": null,
      "id": "11c9a982",
      "metadata": {
        "id": "11c9a982"
      },
      "outputs": [],
      "source": [
        "# It looks like the image got corrupted with some noise!\n",
        "# To understand the noise pattern, you can try to look closer to it.\n",
        "# Zoom in the image: plot it again, but selecting a small region using indexing\n",
        "# (e.g., img[10:80, 70:130])\n",
        "plt.matshow(img[10:80, 70:130], cmap=\"gray\")"
      ]
    },
    {
      "cell_type": "code",
      "execution_count": null,
      "id": "9bc78853",
      "metadata": {
        "id": "9bc78853"
      },
      "outputs": [],
      "source": [
        "# Can you understand what is going on? Can you think of an indexing strategy\n",
        "# that would filter out the noise?\n",
        "# Try to retrieve the uncorrupted image with an indexing operation, and plot it!\n",
        "\n",
        "# (See cell below if you are really stuck!)\n"
      ]
    },
    {
      "cell_type": "code",
      "execution_count": null,
      "id": "695ee116",
      "metadata": {
        "id": "695ee116"
      },
      "outputs": [],
      "source": [
        "# Hint: it looks like one every two columns of pixels has weird values! You could try to keep only one column every two..."
      ]
    },
    {
      "cell_type": "code",
      "execution_count": null,
      "id": "0dddce28",
      "metadata": {
        "id": "0dddce28"
      },
      "outputs": [],
      "source": [
        "# [Advanced]\n",
        "# 1) check the type of the image array. Then, check its maximum. Is this data represented efficiently?\n",
        "#   If not, convert it to the format that would preserve information with the maximum memory efficiency\n",
        "\n",
        "# 2) As we mentioned, color images are just (w, h, 3) arrays where the third dimension correspond to color.\n",
        "# Color is represented by triplets of numbers indicating the load over the Red, the Blue, and the Green axis.\n",
        "# Let's make a colored version of the image, where the left side of the image appears red, the center blue,\n",
        "# and the right green!\n",
        "# To do so, initialize an empty (w,h,3) array and use indexing to fill with the image values the correct\n",
        "# channels in different parts of the image. Bonus points: do it with a loop.\n",
        "# After you have done it, consider this question: were you working inplace or on copies?\n"
      ]
    },
    {
      "cell_type": "code",
      "source": [
        "# [Advanced]\n",
        "\n",
        "#Load a single fmri scan into an array (fmri_array) by running the code below (don't worry about how it works).\n",
        "# This scan consists of 50x59 voxels in each slice, 50 axial slices, 168 timepoints.\n",
        "!pip install nilearn\n",
        "from nilearn import datasets, image, plotting\n",
        "data = datasets.fetch_development_fmri(n_subjects=1)\n",
        "fmri_img = image.load_img(data.func[0])\n",
        "fmri_array = image.get_data(fmri_img)\n",
        "\n",
        "# Output the shape of the scan:"
      ],
      "metadata": {
        "id": "jgU7PI6v2LPy"
      },
      "id": "jgU7PI6v2LPy",
      "execution_count": null,
      "outputs": []
    },
    {
      "cell_type": "code",
      "source": [
        "# Plot slice 20 at the 100th timepoint\n",
        "\n",
        "\n",
        "#To improve the contrast a bit, plot the same slice but with the square of the intensities.\n",
        "# Bonus: check the documentation of plt.imshow and play with the vmin and vmax arguments (even if you're using matshow, it's inheriting this argument from imshow).\n",
        "\n",
        "\n",
        "# Does the orientation of the slice match the standard orientation of axial brain images? Manipulate the dimensions until looks correct.\n",
        "# Bonus: check the documentation of plt.imshow and try changing the default for the 'origin' argument (even if you're using matshow, it's inheriting this argument from imshow).\n",
        "\n",
        "\n",
        "# Lets say that you know that timepoints 30-40 and 99-114 are corrupted by high levels of motion, so you want to remove them (an approach known as motion censoring).\n",
        "# Create a boolean array that indicates which timepoints need to be censored - a censoring timeseries essentially. The number of timepoints in your array should be match the number of timepoints in your scan.\n",
        "\n",
        "\n",
        "# Now apply the censoring timeseries to your scan to remove the corrupted timepoints. Check that the number of remaining timepoints is as you expect."
      ],
      "metadata": {
        "id": "2gBbiB_bPJ7k"
      },
      "id": "2gBbiB_bPJ7k",
      "execution_count": null,
      "outputs": []
    },
    {
      "cell_type": "code",
      "source": [],
      "metadata": {
        "id": "6Gaf02KGPZO5"
      },
      "id": "6Gaf02KGPZO5",
      "execution_count": null,
      "outputs": []
    }
  ],
  "metadata": {
    "kernelspec": {
      "display_name": "course-env",
      "language": "python",
      "name": "python3"
    },
    "language_info": {
      "codemirror_mode": {
        "name": "ipython",
        "version": 3
      },
      "file_extension": ".py",
      "mimetype": "text/x-python",
      "name": "python",
      "nbconvert_exporter": "python",
      "pygments_lexer": "ipython3",
      "version": "3.10.13"
    },
    "colab": {
      "provenance": [],
      "include_colab_link": true
    }
  },
  "nbformat": 4,
  "nbformat_minor": 5
}