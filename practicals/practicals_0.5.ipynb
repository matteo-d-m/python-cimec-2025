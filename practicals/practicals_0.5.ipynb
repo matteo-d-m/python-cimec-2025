{
 "cells": [
  {
   "cell_type": "markdown",
   "id": "622aecef",
   "metadata": {},
   "source": [
    "# Practicals for lecture 0.5\n",
    "\n",
    "[![Open In Colab](https://colab.research.google.com/assets/colab-badge.svg)](https://colab.research.google.com/github/vigji/python-cimec-2025/blob/main/practicals/practicals_0.5.ipynb)"
   ]
  },
  {
   "cell_type": "markdown",
   "id": "96833fbc",
   "metadata": {},
   "source": [
    "#### 0.5.0 Creating objects, attributes"
   ]
  },
  {
   "cell_type": "code",
   "execution_count": 34,
   "id": "57476abf",
   "metadata": {},
   "outputs": [
    {
     "data": {
      "text/plain": [
       "[0.21, 0.44, 0.37, 0.35, 0.28, 0.51, 0.97, 0.38, 0.19, 0.5]"
      ]
     },
     "execution_count": 34,
     "metadata": {},
     "output_type": "execute_result"
    }
   ],
   "source": [
    "class ParticipantRtData:\n",
    "    \"\"\"\n",
    "    Represent reaction times data from an experimental subject.\n",
    "    \n",
    "    Attributes:\n",
    "    ===========\n",
    "    reaction_times: list or reaction times\n",
    "    participant_id: ID of the participant.\n",
    "    age: Age of the participant.\n",
    "    condition: Experimental condition.\n",
    "    experiment_name: Name of the experiment.\n",
    "    \n",
    "    \n",
    "    Methods:\n",
    "    =======    \n",
    "    get_exp_data: Loads dummy data for the participant.\n",
    "    \n",
    "    get_exp_metadata: Returns participant metadata.\n",
    "\n",
    "    \"\"\"\n",
    "    def __init__(self, reaction_times, participant_id, age, condition, sex, valid_trials=None):\n",
    "        self.participant_id = participant_id\n",
    "        self.age = age\n",
    "        self.condition = condition\n",
    "        \n",
    "        assert sex in [\"M\", \"F\"], f\"Sex has to be either M or F, got {sex} instead!\"\n",
    "        self.sex = sex\n",
    "        self.experiment_name = \"Experiment 1\"\n",
    "        self._reaction_times = reaction_times.copy()\n",
    "\n",
    "        self._valid_trials = valid_trials.copy() if valid_trials is not None else []        \n",
    "\n",
    "    def get_exp_metadata(self):\n",
    "        \"\"\"Return participant metadata.\"\"\"\n",
    "        return {\n",
    "            \"id\": self.participant_id,\n",
    "            \"age\": self.age,\n",
    "            \"condition\": self.condition,\n",
    "        }\n",
    "    \n",
    "    def get_exp_data(self):\n",
    "        \"\"\"Calling this method is very similar to just \n",
    "        access object_name.reaction_times in your code.\n",
    "        However, it leaves the option to implement some checks (e.g.,\n",
    "        quality checks) before returning the values, or to add some filter.\n",
    "        \"\"\"\n",
    "        return self._reaction_times\n",
    "    \n",
    "    def get_rt_average(self):\n",
    "        return sum(self._reaction_times) / len(self._reaction_times)\n",
    "    \n",
    "    def filter_data(self, threshold):\n",
    "        return [rt for rt in self._reaction_times if rt < threshold]\n",
    "    \n",
    "    def add_measurement(self, new_measure):\n",
    "        self._reaction_times.append(new_measure)\n",
    "        \n",
    "    def get_n_trials(self):\n",
    "        return len(self._reaction_times)\n",
    "    \n",
    "    def get_filtered_data(self, threshold=0.4):\n",
    "        return [rt for rt in self._reaction_times if rt < threshold]\n",
    "    \n",
    "    def add_measurement(self, new_measurement):\n",
    "        self._reaction_times.append(new_measurement)\n",
    "    \n",
    "\n",
    "participant_test_obj = ParticipantRtData(reaction_times=reaction_times_list, \n",
    "                  participant_id=\"ID1\", \n",
    "                  age=2, \n",
    "                  sex=\"F\",\n",
    "                  condition=\"Control\",\n",
    "                 )\n",
    "\n",
    "participant_test_obj.get_filtered_data(0.3)\n",
    "\n",
    "participant_test_obj.add_measurement(0.5)\n",
    "participant_test_obj._reaction_times\n"
   ]
  },
  {
   "cell_type": "code",
   "execution_count": 20,
   "id": "f3ac54b2",
   "metadata": {},
   "outputs": [
    {
     "ename": "TypeError",
     "evalue": "ParticipantRtData.__init__() missing 1 required positional argument: 'sex'",
     "output_type": "error",
     "traceback": [
      "\u001b[0;31m---------------------------------------------------------------------------\u001b[0m",
      "\u001b[0;31mTypeError\u001b[0m                                 Traceback (most recent call last)",
      "Cell \u001b[0;32mIn[20], line 6\u001b[0m\n\u001b[1;32m      1\u001b[0m \u001b[38;5;66;03m# Try to create a new ParticipantRtData object passing all the required arguments\u001b[39;00m\n\u001b[1;32m      2\u001b[0m \u001b[38;5;66;03m# for the object instantiation (read them from the __init__ above).\u001b[39;00m\n\u001b[1;32m      3\u001b[0m \u001b[38;5;66;03m# For this and the following instantiations you can use this list of reaction times:\u001b[39;00m\n\u001b[1;32m      4\u001b[0m reaction_times_list \u001b[38;5;241m=\u001b[39m [\u001b[38;5;241m.21\u001b[39m, \u001b[38;5;241m.44\u001b[39m, \u001b[38;5;241m.37\u001b[39m, \u001b[38;5;241m.35\u001b[39m, \u001b[38;5;241m.28\u001b[39m, \u001b[38;5;241m.51\u001b[39m, \u001b[38;5;241m.97\u001b[39m, \u001b[38;5;241m.38\u001b[39m, \u001b[38;5;241m.19\u001b[39m]\n\u001b[0;32m----> 6\u001b[0m \u001b[43mParticipantRtData\u001b[49m\u001b[43m(\u001b[49m\u001b[43mreaction_times\u001b[49m\u001b[38;5;241;43m=\u001b[39;49m\u001b[43mreaction_times_list\u001b[49m\u001b[43m,\u001b[49m\u001b[43m \u001b[49m\n\u001b[1;32m      7\u001b[0m \u001b[43m                  \u001b[49m\u001b[43mparticipant_id\u001b[49m\u001b[38;5;241;43m=\u001b[39;49m\u001b[38;5;124;43m\"\u001b[39;49m\u001b[38;5;124;43mID1\u001b[39;49m\u001b[38;5;124;43m\"\u001b[39;49m\u001b[43m,\u001b[49m\u001b[43m \u001b[49m\n\u001b[1;32m      8\u001b[0m \u001b[43m                  \u001b[49m\u001b[43mage\u001b[49m\u001b[38;5;241;43m=\u001b[39;49m\u001b[38;5;241;43m2\u001b[39;49m\u001b[43m,\u001b[49m\u001b[43m \u001b[49m\n\u001b[1;32m      9\u001b[0m \u001b[43m                  \u001b[49m\u001b[43mcondition\u001b[49m\u001b[38;5;241;43m=\u001b[39;49m\u001b[38;5;124;43m\"\u001b[39;49m\u001b[38;5;124;43mControl\u001b[39;49m\u001b[38;5;124;43m\"\u001b[39;49m\u001b[43m)\u001b[49m\n",
      "\u001b[0;31mTypeError\u001b[0m: ParticipantRtData.__init__() missing 1 required positional argument: 'sex'"
     ]
    }
   ],
   "source": [
    "# Try to create a new ParticipantRtData object passing all the required arguments\n",
    "# for the object instantiation (read them from the __init__ above).\n",
    "# For this and the following instantiations you can use this list of reaction times:\n",
    "reaction_times_list = [.21, .44, .37, .35, .28, .51, .97, .38, .19]\n",
    "\n",
    "ParticipantRtData(reaction_times=reaction_times_list, \n",
    "                  participant_id=\"ID1\", \n",
    "                  age=2, \n",
    "                  condition=\"Control\")\n"
   ]
  },
  {
   "cell_type": "code",
   "execution_count": 21,
   "id": "b534a473",
   "metadata": {},
   "outputs": [
    {
     "ename": "AssertionError",
     "evalue": "Sex has to be either M or F, got Female instead!",
     "output_type": "error",
     "traceback": [
      "\u001b[0;31m---------------------------------------------------------------------------\u001b[0m",
      "\u001b[0;31mAssertionError\u001b[0m                            Traceback (most recent call last)",
      "Cell \u001b[0;32mIn[21], line 5\u001b[0m\n\u001b[1;32m      1\u001b[0m \u001b[38;5;66;03m# Let's add a sex field! First, change the definition of the __init__ to require a \"sex\" argument.\u001b[39;00m\n\u001b[1;32m      2\u001b[0m \u001b[38;5;66;03m# Then, set the value of this input to an attribute named \"sex\".\u001b[39;00m\n\u001b[1;32m      3\u001b[0m \u001b[38;5;66;03m# Finally, create a new object from the ParticipantRtData class to test your new attribute.\u001b[39;00m\n\u001b[1;32m      4\u001b[0m \u001b[38;5;66;03m# Print out the sex for the subject:\u001b[39;00m\n\u001b[0;32m----> 5\u001b[0m \u001b[43mParticipantRtData\u001b[49m\u001b[43m(\u001b[49m\u001b[43mreaction_times\u001b[49m\u001b[38;5;241;43m=\u001b[39;49m\u001b[43mreaction_times_list\u001b[49m\u001b[43m,\u001b[49m\u001b[43m \u001b[49m\n\u001b[1;32m      6\u001b[0m \u001b[43m                  \u001b[49m\u001b[43mparticipant_id\u001b[49m\u001b[38;5;241;43m=\u001b[39;49m\u001b[38;5;124;43m\"\u001b[39;49m\u001b[38;5;124;43mID1\u001b[39;49m\u001b[38;5;124;43m\"\u001b[39;49m\u001b[43m,\u001b[49m\u001b[43m \u001b[49m\n\u001b[1;32m      7\u001b[0m \u001b[43m                  \u001b[49m\u001b[43mage\u001b[49m\u001b[38;5;241;43m=\u001b[39;49m\u001b[38;5;241;43m2\u001b[39;49m\u001b[43m,\u001b[49m\u001b[43m \u001b[49m\n\u001b[1;32m      8\u001b[0m \u001b[43m                  \u001b[49m\u001b[43msex\u001b[49m\u001b[38;5;241;43m=\u001b[39;49m\u001b[38;5;124;43m\"\u001b[39;49m\u001b[38;5;124;43mFemale\u001b[39;49m\u001b[38;5;124;43m\"\u001b[39;49m\u001b[43m,\u001b[49m\n\u001b[1;32m      9\u001b[0m \u001b[43m                  \u001b[49m\u001b[43mcondition\u001b[49m\u001b[38;5;241;43m=\u001b[39;49m\u001b[38;5;124;43m\"\u001b[39;49m\u001b[38;5;124;43mControl\u001b[39;49m\u001b[38;5;124;43m\"\u001b[39;49m\u001b[43m,\u001b[49m\n\u001b[1;32m     10\u001b[0m \u001b[43m                 \u001b[49m\u001b[43m)\u001b[49m\n",
      "Cell \u001b[0;32mIn[19], line 26\u001b[0m, in \u001b[0;36mParticipantRtData.__init__\u001b[0;34m(self, reaction_times, participant_id, age, condition, sex, valid_trials)\u001b[0m\n\u001b[1;32m     23\u001b[0m \u001b[38;5;28mself\u001b[39m\u001b[38;5;241m.\u001b[39mage \u001b[38;5;241m=\u001b[39m age\n\u001b[1;32m     24\u001b[0m \u001b[38;5;28mself\u001b[39m\u001b[38;5;241m.\u001b[39mcondition \u001b[38;5;241m=\u001b[39m condition\n\u001b[0;32m---> 26\u001b[0m \u001b[38;5;28;01massert\u001b[39;00m sex \u001b[38;5;129;01min\u001b[39;00m [\u001b[38;5;124m\"\u001b[39m\u001b[38;5;124mM\u001b[39m\u001b[38;5;124m\"\u001b[39m, \u001b[38;5;124m\"\u001b[39m\u001b[38;5;124mF\u001b[39m\u001b[38;5;124m\"\u001b[39m], \u001b[38;5;124mf\u001b[39m\u001b[38;5;124m\"\u001b[39m\u001b[38;5;124mSex has to be either M or F, got \u001b[39m\u001b[38;5;132;01m{\u001b[39;00msex\u001b[38;5;132;01m}\u001b[39;00m\u001b[38;5;124m instead!\u001b[39m\u001b[38;5;124m\"\u001b[39m\n\u001b[1;32m     27\u001b[0m \u001b[38;5;28mself\u001b[39m\u001b[38;5;241m.\u001b[39msex \u001b[38;5;241m=\u001b[39m sex\n\u001b[1;32m     28\u001b[0m \u001b[38;5;28mself\u001b[39m\u001b[38;5;241m.\u001b[39mexperiment_name \u001b[38;5;241m=\u001b[39m \u001b[38;5;124m\"\u001b[39m\u001b[38;5;124mExperiment 1\u001b[39m\u001b[38;5;124m\"\u001b[39m\n",
      "\u001b[0;31mAssertionError\u001b[0m: Sex has to be either M or F, got Female instead!"
     ]
    }
   ],
   "source": [
    "# Let's add a sex field! First, change the definition of the __init__ to require a \"sex\" argument.\n",
    "# Then, set the value of this input to an attribute named \"sex\".\n",
    "# Finally, create a new object from the ParticipantRtData class to test your new attribute.\n",
    "# Print out the sex for the subject:\n",
    "ParticipantRtData(reaction_times=reaction_times_list, \n",
    "                  participant_id=\"ID1\", \n",
    "                  age=2, \n",
    "                  sex=\"Female\",\n",
    "                  condition=\"Control\",\n",
    "                 )\n"
   ]
  },
  {
   "cell_type": "code",
   "execution_count": 17,
   "id": "14801530",
   "metadata": {},
   "outputs": [
    {
     "data": {
      "text/plain": [
       "2"
      ]
     },
     "execution_count": 17,
     "metadata": {},
     "output_type": "execute_result"
    }
   ],
   "source": [
    "# For consistency, we might want sex to be either \"M\" or \"F\".\n",
    "# One way of enforcing some values in the inputs, is by using `assert`:\n",
    "# assert false_statement will raise an AssertionError and the program will stop.\n",
    "\n",
    "# For example, if we want a function to take only positive values, we can write:\n",
    "def example_function(a):\n",
    "    assert a >= 0\n",
    "    return 2**a\n",
    "\n",
    "example_function(1)  # this will raise an error with negative inputs.\n",
    "\n",
    "\n",
    "# Ad an `assert` in the init above to check that the specified sex is \n",
    "# either the \"M\" or \"F\" string! Then test it out by trying to instantiate an object with a wrong\n",
    "# sex input, like \"pippo\"\n"
   ]
  },
  {
   "cell_type": "markdown",
   "id": "baff362a",
   "metadata": {},
   "source": [
    "#### 0.5.1 Creating methods"
   ]
  },
  {
   "cell_type": "code",
   "execution_count": 24,
   "id": "315753e4",
   "metadata": {},
   "outputs": [],
   "source": [
    "# In the class above, implement a get_n_trials() method with no arguments that returns the number\n",
    "# of trials stored in the data object.\n",
    "# Then, create a ParticipantRtData object and test it:\n"
   ]
  },
  {
   "cell_type": "code",
   "execution_count": 23,
   "id": "e5fbe10b",
   "metadata": {},
   "outputs": [
    {
     "data": {
      "text/plain": [
       "[0.21, 0.44, 0.37, 0.35, 0.28, 0.38, 0.19]"
      ]
     },
     "execution_count": 23,
     "metadata": {},
     "output_type": "execute_result"
    }
   ],
   "source": [
    "# Implement a method get_filtered_data() that filters self.reaction_times smaller \n",
    "# than a threshold and returns the filtered list. The threshold should be passed as an argument (it can have a default).\n",
    "# Then, create a ParticipantRtData object and test it:\n",
    "\n",
    "subject = ParticipantRtData(reaction_times_list, \"Pippo\", 28, \"control\", \"M\")\n",
    "\n",
    "subject.filter_data(threshold=0.5)\n"
   ]
  },
  {
   "cell_type": "code",
   "execution_count": 13,
   "id": "2117d385",
   "metadata": {},
   "outputs": [],
   "source": [
    "# Implement an add_measurement() method that adds a new measurement to self.reaction_times.\n",
    "# Then, create a ParticipantRtData object and test it:\n"
   ]
  },
  {
   "cell_type": "markdown",
   "id": "41bd4e63",
   "metadata": {},
   "source": [
    "#### 0.5.2 Properties"
   ]
  },
  {
   "cell_type": "code",
   "execution_count": null,
   "id": "882137a9",
   "metadata": {},
   "outputs": [],
   "source": [
    "# Let's make a property-based version of the class above! You can either overwrite your previous definition\n",
    "# or make a copy of the whole class below, maybe with a different name (ParticipantRtDataWithProperties).\n",
    "\n",
    "# 1) Make all the attributes protected (or private) by changing their names\n",
    "\n",
    "# 2) Then, \"expose\" them as properties using the @property decorator. Exposing an attribute \n",
    "# means making it accessible as object_name.attribute_name (where attribute_name will actually be\n",
    "# the name of the property, and the attribute will be _attribute_name).\n",
    "# Note that in this way we can remove the get_exp_data() method.\n",
    "\n",
    "# 3) Replace the get_exp_metadata() with a property that returns the metadata dictionary.\n",
    "\n",
    "# 4) Replace the get_rt_average() method with a property average_rt that returns the average of self.reaction_times.\n",
    "\n",
    "# 5) Add a threshold argument to the object instantiation to filter the data, and set it as a non-protected attribute.\n",
    "# Then, replace the filter_data() method with a property filtered_data that returns the filtered data, and use it\n",
    "# instead of the whole reaction times list in average_rt property. \n",
    "# Then, explore the effects of changing the threshold value on the average_rt property by printing average_rt before and after changing the threshold."
   ]
  },
  {
   "cell_type": "markdown",
   "id": "f75768d9",
   "metadata": {},
   "source": [
    "#### Bonus tracks"
   ]
  },
  {
   "cell_type": "code",
   "execution_count": null,
   "id": "baf83068",
   "metadata": {},
   "outputs": [],
   "source": [
    "# [Advanced] (check out bonus track slides before)\n",
    "\n",
    "# 1) Implement the __eq__ default method in a way that returns True if two\n",
    "# objects have the same participant_id attribute value but raises a warning\n",
    "# (either printing a message or using the warnings library) if they have different data\n",
    "\n",
    "# 2) Implement the __str__ default method in a way that prints out info\n",
    "# on subject metadata when we print a participant object\n",
    "\n",
    "# 3) Implement the __getitem__ default method so that the index passed \n",
    "#    to getitem is used to index the data list returned by self.get_exp_data()\n",
    "\n",
    "# 4) Write a subclass AdvancedParticipantRtData that accept an additional\n",
    "#    argument for experiment notes. use super().__init__ to\n",
    "#    initialize all other attributes of AdvancedParticipantRtData\n",
    "\n",
    "# 5) Write a n_measurements property to RtParticipantData that computes on the fly the\n",
    "#    number of datapoints we have in our class, and returns it\n",
    "\n",
    "# 6) Convert reaction_times to a protected attribute and define a reaction_times property\n",
    "#    with a setter value to add new datapoints, controlling that they are not negative"
   ]
  },
  {
   "cell_type": "code",
   "execution_count": 60,
   "id": "0a4278d2",
   "metadata": {},
   "outputs": [
    {
     "name": "stdout",
     "output_type": "stream",
     "text": [
      "True\n"
     ]
    }
   ],
   "source": [
    "# 1\n",
    "subject1 = ParticipantRtData(reaction_times_list, \"Pippo\", 28, \"control\", \"M\")\n",
    "subject1mod = ParticipantRtData(reaction_times_list + [1,], \"Pippo\", 28, \"extended\", \"M\")\n",
    "subject2 = ParticipantRtData([.2, .3, .4], \"Mery\", 26, \"extended\", \"F\")\n",
    "\n",
    "print(subject1 == subject1)"
   ]
  },
  {
   "cell_type": "code",
   "execution_count": 61,
   "id": "a7eb4904",
   "metadata": {},
   "outputs": [
    {
     "name": "stdout",
     "output_type": "stream",
     "text": [
      "Warning! Same participant id but different data!\n",
      "True\n"
     ]
    }
   ],
   "source": [
    "print(subject1 == subject1mod)"
   ]
  },
  {
   "cell_type": "code",
   "execution_count": 62,
   "id": "96580241",
   "metadata": {},
   "outputs": [
    {
     "name": "stdout",
     "output_type": "stream",
     "text": [
      "False\n"
     ]
    }
   ],
   "source": [
    "print(subject1 == subject2)"
   ]
  },
  {
   "cell_type": "code",
   "execution_count": 81,
   "id": "b3508095",
   "metadata": {},
   "outputs": [
    {
     "name": "stdout",
     "output_type": "stream",
     "text": [
      "Subject ID: Mery\n",
      "   - sex: F\n",
      "   - age: 26\n",
      "   - condition: extended\n",
      "\n"
     ]
    }
   ],
   "source": [
    "# 2\n",
    "subj_data = ParticipantRtData([.2, .3, .4], \"Mery\", 26, \"extended\", \"F\")\n",
    "print(subj_data)"
   ]
  },
  {
   "cell_type": "code",
   "execution_count": 84,
   "id": "32d7a3d2",
   "metadata": {},
   "outputs": [
    {
     "data": {
      "text/plain": [
       "0.2"
      ]
     },
     "execution_count": 84,
     "metadata": {},
     "output_type": "execute_result"
    }
   ],
   "source": [
    "# 3\n",
    "subj_data = ParticipantRtData([.2, .3, .4], \"Mery\", 26, \"extended\", \"F\")\n",
    "subj_data[0]"
   ]
  },
  {
   "cell_type": "code",
   "execution_count": 83,
   "id": "bdc5150f",
   "metadata": {},
   "outputs": [
    {
     "data": {
      "text/plain": [
       "3"
      ]
     },
     "execution_count": 83,
     "metadata": {},
     "output_type": "execute_result"
    }
   ],
   "source": [
    "# 4\n",
    "subj_data = ParticipantRtData([.2, .3, .4], \"Mery\", 26, \"extended\", \"F\")\n",
    "subj_data.n_measurements"
   ]
  },
  {
   "cell_type": "code",
   "execution_count": 80,
   "id": "ded51871",
   "metadata": {},
   "outputs": [
    {
     "data": {
      "text/plain": [
       "'some noise'"
      ]
     },
     "execution_count": 80,
     "metadata": {},
     "output_type": "execute_result"
    }
   ],
   "source": [
    "# 5\n",
    "data = AdvancedParticipantRtData([.2, .3, .4], \"Mery\", 26, \"extended\", \"F\", notes=\"some noise\")\n",
    "data.notes"
   ]
  },
  {
   "cell_type": "code",
   "execution_count": null,
   "id": "065e4bf8",
   "metadata": {},
   "outputs": [],
   "source": []
  }
 ],
 "metadata": {
  "kernelspec": {
   "display_name": "Python 3 (ipykernel)",
   "language": "python",
   "name": "python3"
  },
  "language_info": {
   "codemirror_mode": {
    "name": "ipython",
    "version": 3
   },
   "file_extension": ".py",
   "mimetype": "text/x-python",
   "name": "python",
   "nbconvert_exporter": "python",
   "pygments_lexer": "ipython3",
   "version": "3.11.6"
  }
 },
 "nbformat": 4,
 "nbformat_minor": 5
}
