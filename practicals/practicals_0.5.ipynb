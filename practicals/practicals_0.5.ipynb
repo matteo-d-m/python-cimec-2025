{
 "cells": [
  {
   "cell_type": "markdown",
   "id": "622aecef",
   "metadata": {},
   "source": [
    "# Practicals for lecture 0.5\n",
    "\n",
    "[![Open In Colab](https://colab.research.google.com/assets/colab-badge.svg)](https://colab.research.google.com/github/vigji/python-cimec-2025/blob/main/practicals/Practicals_0.5.ipynb)"
   ]
  },
  {
   "cell_type": "markdown",
   "id": "96833fbc",
   "metadata": {},
   "source": [
    "#### 0.5.0 Creating objects"
   ]
  },
  {
   "cell_type": "code",
   "execution_count": 8,
   "id": "57476abf",
   "metadata": {},
   "outputs": [],
   "source": [
    "class ParticipantRtData:\n",
    "    \"\"\"\n",
    "    Represent reaction times data from an experimental subject.\n",
    "    \n",
    "    Attributes:\n",
    "    ===========\n",
    "    reaction_times: list or reaction times\n",
    "    participant_id: ID of the participant.\n",
    "    age: Age of the participant.\n",
    "    condition: Experimental condition.\n",
    "    experiment_name: Name of the experiment.\n",
    "    \n",
    "    \n",
    "    Methods:\n",
    "    =======    \n",
    "    get_exp_data: Loads dummy data for the participant.\n",
    "    \n",
    "    get_exp_metadata: Returns participant metadata.\n",
    "\n",
    "    \"\"\"\n",
    "    def __init__(self, reaction_times, participant_id, age, condition, valid_trials=None):\n",
    "        self.participant_id = participant_id\n",
    "        self.age = age\n",
    "        self.condition = condition\n",
    "        self.experiment_name = \"Experiment 1\"\n",
    "        self._reaction_times = reaction_times.copy()\n",
    "\n",
    "        self._valid_trials = valid_trials.copy() if valid_trials is not None else []        \n",
    "\n",
    "    def get_exp_metadata(self):\n",
    "        \"\"\"Return participant metadata.\"\"\"\n",
    "        return {\n",
    "            \"id\": self.participant_id,\n",
    "            \"age\": self.age,\n",
    "            \"condition\": self.condition,\n",
    "        }\n",
    "    \n",
    "    def get_exp_data(self):\n",
    "        \"\"\"Calling this method is very similar to just \n",
    "        access object_name.reaction_times in your code.\n",
    "        However, it leaves the option to implement some checks (e.g.,\n",
    "        quality checks) before returning the values, or to add some filter.\n",
    "        \"\"\"\n",
    "        return self._reaction_times\n",
    "    \n",
    "    def get_rt_average(self):\n",
    "        return sum(self._reaction_times) / len(self._reaction_times)\n",
    "    \n",
    "    def filter_data(self, threshold):\n",
    "        return [rt for rt in self._reaction_times if rt < threshold]\n",
    "    \n",
    "    def add_measurement(self, new_measure):\n",
    "        self._reaction_times.append(new_measure)\n",
    "\n",
    "    \n"
   ]
  },
  {
   "cell_type": "code",
   "execution_count": 9,
   "id": "f3ac54b2",
   "metadata": {},
   "outputs": [],
   "source": [
    "# Try to create a new ParticipantRtData object passing all the required arguments\n",
    "# for the object instantiation (read them from the __init__ above).\n",
    "# For this and the following instantiations you can use this list of reaction times:\n",
    "reaction_times_list = [.21, .44, .37, .35, .28, .51, .97, .38, .19]\n"
   ]
  },
  {
   "cell_type": "code",
   "execution_count": 11,
   "id": "b534a473",
   "metadata": {},
   "outputs": [],
   "source": [
    "# Add a new sex attribute in the class definition!\n",
    "# Then, create a new object from the ParticipantRtData class to test your new attribute.\n",
    "# Print out the sex for the subject:\n"
   ]
  },
  {
   "cell_type": "code",
   "execution_count": 12,
   "id": "14801530",
   "metadata": {},
   "outputs": [
    {
     "data": {
      "text/plain": [
       "2"
      ]
     },
     "execution_count": 12,
     "metadata": {},
     "output_type": "execute_result"
    }
   ],
   "source": [
    "# For consistency, we might want sex to be either \"M\" or \"F\".\n",
    "# One way of enforcing some values in the inputs, is by using `assert`:\n",
    "# assert false_statement will raise an AssertionError and the program will stop.\n",
    "\n",
    "# For example, if we want a function to take only positive values, we can write:\n",
    "def example_function(a):\n",
    "    assert a >= 0\n",
    "    return 2**a\n",
    "\n",
    "example_function(1)  # this will raise an error with negative inputs.\n",
    "\n",
    "\n",
    "# Ad an `assert` in the init above to check that the specified sex is \n",
    "# either the \"M\" or \"F\" string! Then test it out by trying to instantiate an object with a wrong\n",
    "# sex input, like \"pippo\"\n"
   ]
  },
  {
   "cell_type": "markdown",
   "id": "baff362a",
   "metadata": {},
   "source": [
    "#### 0.5.1 Creating methods"
   ]
  },
  {
   "cell_type": "code",
   "execution_count": 39,
   "id": "315753e4",
   "metadata": {},
   "outputs": [
    {
     "data": {
      "text/plain": [
       "0.4111111111111111"
      ]
     },
     "execution_count": 39,
     "metadata": {},
     "output_type": "execute_result"
    }
   ],
   "source": [
    "# In the class above, implement a get_n_trials() method with no arguments that returns the number\n",
    "# of trials stored in the data object.\n",
    "# Then, create a ParticipantRtData object and test it:\n"
   ]
  },
  {
   "cell_type": "code",
   "execution_count": 45,
   "id": "e5fbe10b",
   "metadata": {},
   "outputs": [
    {
     "data": {
      "text/plain": [
       "[0.21, 0.44, 0.37, 0.35, 0.28, 0.38, 0.19]"
      ]
     },
     "execution_count": 45,
     "metadata": {},
     "output_type": "execute_result"
    }
   ],
   "source": [
    "# Implement a method get_filtered_data() that filters self.reaction_times smaller \n",
    "# than a threshold and returns the filtered list. The threshold should be passed as an argument (it can have a default).\n",
    "# Then, create a ParticipantRtData object and test it:\n",
    "\n",
    "subject = ParticipantRtData(reaction_times_list, \"Pippo\", 28, \"control\", \"M\")\n",
    "\n",
    "subject.filter_data(threshold=0.5)\n"
   ]
  },
  {
   "cell_type": "code",
   "execution_count": 13,
   "id": "2117d385",
   "metadata": {},
   "outputs": [],
   "source": [
    "# Implement an add_measurement() method that adds a new measurement to self.reaction_times.\n",
    "# Then, create a ParticipantRtData object and test it:\n"
   ]
  },
  {
   "cell_type": "markdown",
   "id": "41bd4e63",
   "metadata": {},
   "source": [
    "#### 0.5.2 Properties"
   ]
  },
  {
   "cell_type": "code",
   "execution_count": null,
   "id": "882137a9",
   "metadata": {},
   "outputs": [],
   "source": [
    "# Let's make a property-based version of the class above! You can either overwrite your previous definition\n",
    "# or make a copy of the whole class below, maybe with a different name (ParticipantRtDataWithProperties).\n",
    "\n",
    "# 1) Make all the attributes protected (or private) by changing their names\n",
    "\n",
    "# 2) Then, \"expose\" them as properties using the @property decorator. Exposing an attribute \n",
    "# means making it accessible as object_name.attribute_name (where attribute_name will actually be\n",
    "# the name of the property, and the attribute will be _attribute_name).\n",
    "# Note that in this way we can remove the get_exp_data() method.\n",
    "\n",
    "# 3) Replace the get_exp_metadata() with a property that returns the metadata dictionary.\n",
    "\n",
    "# 4) Replace the get_rt_average() method with a property average_rt that returns the average of self.reaction_times.\n",
    "\n",
    "# 5) Add a threshold argument to the object instantiation to filter the data, and set it as a non-protected attribute.\n",
    "# Then, replace the filter_data() method with a property filtered_data that returns the filtered data, and use it\n",
    "# instead of the whole reaction times list in average_rt property. \n",
    "# Then, explore the effects of changing the threshold value on the average_rt property by printing average_rt before and after changing the threshold."
   ]
  },
  {
   "cell_type": "markdown",
   "id": "f75768d9",
   "metadata": {},
   "source": [
    "#### Bonus tracks"
   ]
  },
  {
   "cell_type": "code",
   "execution_count": null,
   "id": "baf83068",
   "metadata": {},
   "outputs": [],
   "source": [
    "# [Advanced] (check out bonus track slides before)\n",
    "\n",
    "# 1) Implement the __eq__ default method in a way that returns True if two\n",
    "# objects have the same participant_id attribute value but raises a warning\n",
    "# (either printing a message or using the warnings library) if they have different data\n",
    "\n",
    "# 2) Implement the __str__ default method in a way that prints out info\n",
    "# on subject metadata when we print a participant object\n",
    "\n",
    "# 3) Implement the __getitem__ default method so that the index passed \n",
    "#    to getitem is used to index the data list returned by self.get_exp_data()\n",
    "\n",
    "# 4) Write a subclass AdvancedParticipantRtData that accept an additional\n",
    "#    argument for experiment notes. use super().__init__ to\n",
    "#    initialize all other attributes of AdvancedParticipantRtData\n",
    "\n",
    "# 5) Write a n_measurements property to RtParticipantData that computes on the fly the\n",
    "#    number of datapoints we have in our class, and returns it\n",
    "\n",
    "# 6) Convert reaction_times to a protected attribute and define a reaction_times property\n",
    "#    with a setter value to add new datapoints, controlling that they are not negative"
   ]
  },
  {
   "cell_type": "code",
   "execution_count": 60,
   "id": "0a4278d2",
   "metadata": {},
   "outputs": [
    {
     "name": "stdout",
     "output_type": "stream",
     "text": [
      "True\n"
     ]
    }
   ],
   "source": [
    "# 1\n",
    "subject1 = ParticipantRtData(reaction_times_list, \"Pippo\", 28, \"control\", \"M\")\n",
    "subject1mod = ParticipantRtData(reaction_times_list + [1,], \"Pippo\", 28, \"extended\", \"M\")\n",
    "subject2 = ParticipantRtData([.2, .3, .4], \"Mery\", 26, \"extended\", \"F\")\n",
    "\n",
    "print(subject1 == subject1)"
   ]
  },
  {
   "cell_type": "code",
   "execution_count": 61,
   "id": "a7eb4904",
   "metadata": {},
   "outputs": [
    {
     "name": "stdout",
     "output_type": "stream",
     "text": [
      "Warning! Same participant id but different data!\n",
      "True\n"
     ]
    }
   ],
   "source": [
    "print(subject1 == subject1mod)"
   ]
  },
  {
   "cell_type": "code",
   "execution_count": 62,
   "id": "96580241",
   "metadata": {},
   "outputs": [
    {
     "name": "stdout",
     "output_type": "stream",
     "text": [
      "False\n"
     ]
    }
   ],
   "source": [
    "print(subject1 == subject2)"
   ]
  },
  {
   "cell_type": "code",
   "execution_count": 81,
   "id": "b3508095",
   "metadata": {},
   "outputs": [
    {
     "name": "stdout",
     "output_type": "stream",
     "text": [
      "Subject ID: Mery\n",
      "   - sex: F\n",
      "   - age: 26\n",
      "   - condition: extended\n",
      "\n"
     ]
    }
   ],
   "source": [
    "# 2\n",
    "subj_data = ParticipantRtData([.2, .3, .4], \"Mery\", 26, \"extended\", \"F\")\n",
    "print(subj_data)"
   ]
  },
  {
   "cell_type": "code",
   "execution_count": 84,
   "id": "32d7a3d2",
   "metadata": {},
   "outputs": [
    {
     "data": {
      "text/plain": [
       "0.2"
      ]
     },
     "execution_count": 84,
     "metadata": {},
     "output_type": "execute_result"
    }
   ],
   "source": [
    "# 3\n",
    "subj_data = ParticipantRtData([.2, .3, .4], \"Mery\", 26, \"extended\", \"F\")\n",
    "subj_data[0]"
   ]
  },
  {
   "cell_type": "code",
   "execution_count": 83,
   "id": "bdc5150f",
   "metadata": {},
   "outputs": [
    {
     "data": {
      "text/plain": [
       "3"
      ]
     },
     "execution_count": 83,
     "metadata": {},
     "output_type": "execute_result"
    }
   ],
   "source": [
    "# 4\n",
    "subj_data = ParticipantRtData([.2, .3, .4], \"Mery\", 26, \"extended\", \"F\")\n",
    "subj_data.n_measurements"
   ]
  },
  {
   "cell_type": "code",
   "execution_count": 80,
   "id": "ded51871",
   "metadata": {},
   "outputs": [
    {
     "data": {
      "text/plain": [
       "'some noise'"
      ]
     },
     "execution_count": 80,
     "metadata": {},
     "output_type": "execute_result"
    }
   ],
   "source": [
    "# 5\n",
    "data = AdvancedParticipantRtData([.2, .3, .4], \"Mery\", 26, \"extended\", \"F\", notes=\"some noise\")\n",
    "data.notes"
   ]
  },
  {
   "cell_type": "code",
   "execution_count": null,
   "id": "065e4bf8",
   "metadata": {},
   "outputs": [],
   "source": []
  }
 ],
 "metadata": {
  "kernelspec": {
   "display_name": "course-env",
   "language": "python",
   "name": "python3"
  },
  "language_info": {
   "codemirror_mode": {
    "name": "ipython",
    "version": 3
   },
   "file_extension": ".py",
   "mimetype": "text/x-python",
   "name": "python",
   "nbconvert_exporter": "python",
   "pygments_lexer": "ipython3",
   "version": "3.10.13"
  }
 },
 "nbformat": 4,
 "nbformat_minor": 5
}
