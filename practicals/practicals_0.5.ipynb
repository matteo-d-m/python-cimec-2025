{
 "cells": [
  {
   "cell_type": "markdown",
   "id": "622aecef",
   "metadata": {},
   "source": [
    "# Practicals for lecture 0.5\n",
    "\n",
    "[![Open In Colab](https://colab.research.google.com/assets/colab-badge.svg)](https://colab.research.google.com/github/vigji/python-cimec-2025/blob/main/practicals/Practicals_0.5.ipynb)"
   ]
  },
  {
   "cell_type": "markdown",
   "id": "96833fbc",
   "metadata": {},
   "source": [
    "#### 0.5.1 Creating objects"
   ]
  },
  {
   "cell_type": "code",
   "execution_count": 78,
   "id": "57476abf",
   "metadata": {},
   "outputs": [],
   "source": [
    "class ParticipantRtData:\n",
    "    \"\"\"\n",
    "    Represent reaction times data from an experimental subject.\n",
    "    \n",
    "    Attributes:\n",
    "    ===========\n",
    "    reaction_times: list or reaction times\n",
    "    participant_id: ID of the participant.\n",
    "    age: Age of the participant.\n",
    "    condition: Experimental condition.\n",
    "    experiment_name: Name of the experiment.\n",
    "    \n",
    "    \n",
    "    Methods:\n",
    "    =======    \n",
    "    get_exp_data: Loads dummy data for the participant.\n",
    "    \n",
    "    get_exp_metadata: Returns participant metadata.\n",
    "\n",
    "    \"\"\"\n",
    "    def __init__(self, reaction_times, participant_id, age, condition, sex):\n",
    "        self.participant_id = participant_id\n",
    "        self.age = age\n",
    "        self.condition = condition\n",
    "        self.experiment_name = \"Experiment 1\"\n",
    "        \n",
    "        # If we do not copy here the list that we pass to the class will be updated!\n",
    "        self._reaction_times = reaction_times.copy()\n",
    "        \n",
    "        # Solution addition: sex label check\n",
    "        assert sex in [\"M\", \"F\"], \"Sex should be either M or F (we can use strings after assertion to control the displayed message)\"\n",
    "        \n",
    "        # Solution addition: sex attribute\n",
    "        self.sex = sex\n",
    "\n",
    "    def get_exp_metadata(self):\n",
    "        \"\"\"Return participant metadata.\"\"\"\n",
    "        return {\n",
    "            \"id\": self.participant_id,\n",
    "            \"age\": self.age,\n",
    "            \"condition\": self.condition,\n",
    "            \"sex\": self.sex,  # Include the new attribute in the metadata\n",
    "        }\n",
    "    \n",
    "    def get_exp_data(self):\n",
    "        \"\"\"Calling this method is very similar to just \n",
    "        access object_name.reaction_times in your code.\n",
    "        However, it leaves the option to implement some checks (e.g.,\n",
    "        quality checks) before returning the values, or to add some filter.\n",
    "        \"\"\"\n",
    "        return self._reaction_times\n",
    "    \n",
    "    def get_rt_average(self):\n",
    "        return sum(self._reaction_times) / len(self._reaction_times)\n",
    "    \n",
    "    def filter_data(self, threshold):\n",
    "        return [rt for rt in self._reaction_times if rt < threshold]\n",
    "    \n",
    "    def add_measurement(self, new_measure):\n",
    "        self._reaction_times.append(new_measure)\n",
    "        \n",
    "        \n",
    "    # Solutions for the advanced exercises:\n",
    "    \n",
    "    # 1) Implement the __eq__ default method in a way that returns True if two\n",
    "    # objects have the same participant_id attribute value but raises a warning\n",
    "    # (either printing a message or using the warnings library) if they have different data\n",
    "    \n",
    "    def __eq__(self, other):\n",
    "        assert type(self) is type(other), \"You should compare with ParticipantRtData objects!\"\n",
    "        \n",
    "        is_same = other.participant_id == self.participant_id\n",
    "        \n",
    "        if is_same and self._reaction_times != other._reaction_times:\n",
    "            print(\"Warning! Same participant id but different data!\")\n",
    "            \n",
    "        return is_same\n",
    "    \n",
    "    # 2) Implement the __str__ default method in a way that prints out info\n",
    "    #    on subject metadata when we print a participant object\n",
    "    def __str__(self):\n",
    "        string_to_print = f\"Subject ID: {self.participant_id}\\n\"\n",
    "        for key_to_print in [\"sex\", \"age\", \"condition\"]:\n",
    "            string_to_print += f\"   - {key_to_print}: {getattr(self, key_to_print)}\\n\"\n",
    "            \n",
    "        return string_to_print\n",
    "\n",
    "    # 3) Implement the __getitem__ default method so that the index passed \n",
    "    #    to getitem is used to index the data list returned by self.get_exp_data()\n",
    "    \n",
    "    def __getitem__(self, idx):\n",
    "        return self.get_exp_data()[idx]\n",
    "\n",
    "    # 5) Write a n_measurements property to RtParticipantData that computes on the fly the\n",
    "    #    number of datapoints we have in our class, and returns it\n",
    "    @property\n",
    "    def n_measurements(self):\n",
    "        return len(self._reaction_times)\n",
    "\n",
    "    \n",
    "# 4) Write a subclass AdvancedParticipantRtData that accept an additional\n",
    "#    argument for experiment notes. use super().__init__ to\n",
    "#    initialize all other attributes of AdvancedParticipantRtData\n",
    "class AdvancedParticipantRtData(ParticipantRtData):\n",
    "    def __init__(self, *args, notes=\"\", **kwargs):\n",
    "        \n",
    "        super().__init__(*args, **kwargs)\n",
    "        self.notes = notes\n"
   ]
  },
  {
   "cell_type": "code",
   "execution_count": 33,
   "id": "f3ac54b2",
   "metadata": {},
   "outputs": [
    {
     "ename": "TypeError",
     "evalue": "ParticipantRtData.__init__() missing 1 required positional argument: 'sex'",
     "output_type": "error",
     "traceback": [
      "\u001b[0;31m---------------------------------------------------------------------------\u001b[0m",
      "\u001b[0;31mTypeError\u001b[0m                                 Traceback (most recent call last)",
      "Cell \u001b[0;32mIn[33], line 6\u001b[0m\n\u001b[1;32m      1\u001b[0m \u001b[38;5;66;03m# Try to create a new ParticipantRtData object passing all the required arguments\u001b[39;00m\n\u001b[1;32m      2\u001b[0m \u001b[38;5;66;03m# for the object instantiation (read them from the __init__!).\u001b[39;00m\n\u001b[1;32m      3\u001b[0m \u001b[38;5;66;03m# For this and the following instantiations you can use this list of reaction times:\u001b[39;00m\n\u001b[1;32m      4\u001b[0m reaction_times_list \u001b[38;5;241m=\u001b[39m [\u001b[38;5;241m.21\u001b[39m, \u001b[38;5;241m.44\u001b[39m, \u001b[38;5;241m.37\u001b[39m, \u001b[38;5;241m.35\u001b[39m, \u001b[38;5;241m.28\u001b[39m, \u001b[38;5;241m.51\u001b[39m, \u001b[38;5;241m.97\u001b[39m, \u001b[38;5;241m.38\u001b[39m, \u001b[38;5;241m.19\u001b[39m]\n\u001b[0;32m----> 6\u001b[0m subject \u001b[38;5;241m=\u001b[39m \u001b[43mParticipantRtData\u001b[49m\u001b[43m(\u001b[49m\u001b[43mreaction_times_list\u001b[49m\u001b[43m,\u001b[49m\u001b[43m \u001b[49m\u001b[38;5;124;43m\"\u001b[39;49m\u001b[38;5;124;43mPippo\u001b[39;49m\u001b[38;5;124;43m\"\u001b[39;49m\u001b[43m,\u001b[49m\u001b[43m \u001b[49m\u001b[38;5;241;43m28\u001b[39;49m\u001b[43m,\u001b[49m\u001b[43m \u001b[49m\u001b[38;5;124;43m\"\u001b[39;49m\u001b[38;5;124;43mcontrol\u001b[39;49m\u001b[38;5;124;43m\"\u001b[39;49m\u001b[43m)\u001b[49m\n",
      "\u001b[0;31mTypeError\u001b[0m: ParticipantRtData.__init__() missing 1 required positional argument: 'sex'"
     ]
    }
   ],
   "source": [
    "# Try to create a new ParticipantRtData object passing all the required arguments\n",
    "# for the object instantiation (read them from the __init__!).\n",
    "# For this and the following instantiations you can use this list of reaction times:\n",
    "reaction_times_list = [.21, .44, .37, .35, .28, .51, .97, .38, .19]\n",
    "\n",
    "subject = ParticipantRtData(reaction_times_list, \"Pippo\", 28, \"control\")"
   ]
  },
  {
   "cell_type": "code",
   "execution_count": 34,
   "id": "b534a473",
   "metadata": {},
   "outputs": [
    {
     "name": "stdout",
     "output_type": "stream",
     "text": [
      "M\n"
     ]
    }
   ],
   "source": [
    "# Add a new sex attribute in the class definition!\n",
    "# Then, create a new object from the ParticipantRtData class to test your new attribute.\n",
    "# Print out the sex for the subject:\n",
    "\n",
    "subject = ParticipantRtData(reaction_times_list, \"Pippo\", 28, \"control\", \"M\")\n",
    "print(subject.sex)"
   ]
  },
  {
   "cell_type": "code",
   "execution_count": 35,
   "id": "14801530",
   "metadata": {},
   "outputs": [
    {
     "data": {
      "text/plain": [
       "2"
      ]
     },
     "execution_count": 35,
     "metadata": {},
     "output_type": "execute_result"
    }
   ],
   "source": [
    "# For consistency, we might want sex to be either \"M\" or \"F\".\n",
    "# One way of enforcing some values in the inputs, is by using `assert`:\n",
    "# assert false_statement will raise an AssertionError and the program will stop.\n",
    "\n",
    "# For example, if we want a function to take only positive values, we can write:\n",
    "def example_function(a):\n",
    "    assert a >= 0\n",
    "    return 2**a\n",
    "\n",
    "example_function(1)  # this will raise an error with negative inputs.\n",
    "\n",
    "\n",
    "# Ad an `assert` in the init above to check that the specified sex is \n",
    "# either the \"M\" or \"F\" string! Then test it out creating an object with a wrong\n",
    "# sex input:\n"
   ]
  },
  {
   "cell_type": "code",
   "execution_count": 65,
   "id": "f1fbf8c5",
   "metadata": {},
   "outputs": [
    {
     "ename": "AssertionError",
     "evalue": "Sex should be either M or F (we can use strings after assertion to control the displayed message)",
     "output_type": "error",
     "traceback": [
      "\u001b[0;31m---------------------------------------------------------------------------\u001b[0m",
      "\u001b[0;31mAssertionError\u001b[0m                            Traceback (most recent call last)",
      "Cell \u001b[0;32mIn[65], line 1\u001b[0m\n\u001b[0;32m----> 1\u001b[0m subject \u001b[38;5;241m=\u001b[39m \u001b[43mParticipantRtData\u001b[49m\u001b[43m(\u001b[49m\u001b[43mreaction_times_list\u001b[49m\u001b[43m,\u001b[49m\u001b[43m \u001b[49m\u001b[38;5;124;43m\"\u001b[39;49m\u001b[38;5;124;43mPippo\u001b[39;49m\u001b[38;5;124;43m\"\u001b[39;49m\u001b[43m,\u001b[49m\u001b[43m \u001b[49m\u001b[38;5;241;43m28\u001b[39;49m\u001b[43m,\u001b[49m\u001b[43m \u001b[49m\u001b[38;5;124;43m\"\u001b[39;49m\u001b[38;5;124;43mcontrol\u001b[39;49m\u001b[38;5;124;43m\"\u001b[39;49m\u001b[43m,\u001b[49m\u001b[43m \u001b[49m\u001b[38;5;124;43m\"\u001b[39;49m\u001b[38;5;124;43mwronginput\u001b[39;49m\u001b[38;5;124;43m\"\u001b[39;49m\u001b[43m)\u001b[49m\n",
      "Cell \u001b[0;32mIn[64], line 31\u001b[0m, in \u001b[0;36mParticipantRtData.__init__\u001b[0;34m(self, reaction_times, participant_id, age, condition, sex)\u001b[0m\n\u001b[1;32m     28\u001b[0m \u001b[38;5;28mself\u001b[39m\u001b[38;5;241m.\u001b[39m_reaction_times \u001b[38;5;241m=\u001b[39m reaction_times\u001b[38;5;241m.\u001b[39mcopy()\n\u001b[1;32m     30\u001b[0m \u001b[38;5;66;03m# Solution addition: sex label check\u001b[39;00m\n\u001b[0;32m---> 31\u001b[0m \u001b[38;5;28;01massert\u001b[39;00m sex \u001b[38;5;129;01min\u001b[39;00m [\u001b[38;5;124m\"\u001b[39m\u001b[38;5;124mM\u001b[39m\u001b[38;5;124m\"\u001b[39m, \u001b[38;5;124m\"\u001b[39m\u001b[38;5;124mF\u001b[39m\u001b[38;5;124m\"\u001b[39m], \u001b[38;5;124m\"\u001b[39m\u001b[38;5;124mSex should be either M or F (we can use strings after assertion to control the displayed message)\u001b[39m\u001b[38;5;124m\"\u001b[39m\n\u001b[1;32m     33\u001b[0m \u001b[38;5;66;03m# Solution addition: sex attribute\u001b[39;00m\n\u001b[1;32m     34\u001b[0m \u001b[38;5;28mself\u001b[39m\u001b[38;5;241m.\u001b[39msex \u001b[38;5;241m=\u001b[39m sex\n",
      "\u001b[0;31mAssertionError\u001b[0m: Sex should be either M or F (we can use strings after assertion to control the displayed message)"
     ]
    }
   ],
   "source": [
    "subject = ParticipantRtData(reaction_times_list, \"Pippo\", 28, \"control\", \"wronginput\")"
   ]
  },
  {
   "cell_type": "code",
   "execution_count": 37,
   "id": "deef331f",
   "metadata": {},
   "outputs": [],
   "source": [
    "subject = ParticipantRtData(reaction_times_list, \"Pippo\", 28, \"control\", \"M\")"
   ]
  },
  {
   "cell_type": "markdown",
   "id": "baff362a",
   "metadata": {},
   "source": [
    "#### 0.5.2 Creating methods"
   ]
  },
  {
   "cell_type": "code",
   "execution_count": 39,
   "id": "315753e4",
   "metadata": {},
   "outputs": [
    {
     "data": {
      "text/plain": [
       "0.4111111111111111"
      ]
     },
     "execution_count": 39,
     "metadata": {},
     "output_type": "execute_result"
    }
   ],
   "source": [
    "# In the class above, implement a get_rt_average() method with no arguments that calculates \n",
    "# the average of self.reaction_times. \n",
    "# Then, create a ParticipantRtData object and test it:\n",
    "subject = ParticipantRtData(reaction_times_list, \"Pippo\", 28, \"control\", \"M\")\n",
    "\n",
    "subject.get_rt_average()"
   ]
  },
  {
   "cell_type": "code",
   "execution_count": 45,
   "id": "e5fbe10b",
   "metadata": {},
   "outputs": [
    {
     "data": {
      "text/plain": [
       "[0.21, 0.44, 0.37, 0.35, 0.28, 0.38, 0.19]"
      ]
     },
     "execution_count": 45,
     "metadata": {},
     "output_type": "execute_result"
    }
   ],
   "source": [
    "# Implement a method filter_data() with arguments that filters self.reaction_times smaller \n",
    "# than a threshold and returns the filtered list.\n",
    "# Then, create a ParticipantRtData object and test it:\n",
    "\n",
    "subject = ParticipantRtData(reaction_times_list, \"Pippo\", 28, \"control\", \"M\")\n",
    "\n",
    "subject.filter_data(threshold=0.5)\n"
   ]
  },
  {
   "cell_type": "code",
   "execution_count": 48,
   "id": "2117d385",
   "metadata": {},
   "outputs": [
    {
     "data": {
      "text/plain": [
       "[0.21, 0.44, 0.37, 0.35, 0.28, 0.51, 0.97, 0.38, 0.19, 0.5, 0.5, 0.7]"
      ]
     },
     "execution_count": 48,
     "metadata": {},
     "output_type": "execute_result"
    }
   ],
   "source": [
    "# Implement an add_measurement() method that adds a new measurement to self.reaction_times.\n",
    "# Then, create a ParticipantRtData object and test it:\n",
    "\n",
    "# NOTE: See my comment on class initialization; in the code I gave you the init was not copying\n",
    "# the reaction times list. If we do not, all objects instantiated passing the list will always refer to\n",
    "# and update the same list!\n",
    "\n",
    "\n",
    "subject = ParticipantRtData(reaction_times_list, \"Pippo\", 28, \"control\", \"M\")\n",
    "\n",
    "subject.add_measurement(0.7)\n",
    "\n",
    "subject._reaction_times"
   ]
  },
  {
   "cell_type": "markdown",
   "id": "f75768d9",
   "metadata": {},
   "source": [
    "#### Bonus tracks"
   ]
  },
  {
   "cell_type": "code",
   "execution_count": null,
   "id": "baf83068",
   "metadata": {},
   "outputs": [],
   "source": [
    "# [Advanced] (check out bonus track slides before)\n",
    "\n",
    "# 1) Implement the __eq__ default method in a way that returns True if two\n",
    "# objects have the same participant_id attribute value but raises a warning\n",
    "# (either printing a message or using the warnings library) if they have different data\n",
    "\n",
    "# 2) Implement the __str__ default method in a way that prints out info\n",
    "# on subject metadata when we print a participant object\n",
    "\n",
    "# 3) Implement the __getitem__ default method so that the index passed \n",
    "#    to getitem is used to index the data list returned by self.get_exp_data()\n",
    "\n",
    "# 4) Write a subclass AdvancedParticipantRtData that accept an additional\n",
    "#    argument for experiment notes. use super().__init__ to\n",
    "#    initialize all other attributes of AdvancedParticipantRtData\n",
    "\n",
    "# 5) Write a n_measurements property to RtParticipantData that computes on the fly the\n",
    "#    number of datapoints we have in our class, and returns it\n",
    "\n",
    "# 6) Convert reaction_times to a protected attribute and define a reaction_times property\n",
    "#    with a setter value to add new datapoints, controlling that they are not negative"
   ]
  },
  {
   "cell_type": "code",
   "execution_count": 60,
   "id": "0a4278d2",
   "metadata": {},
   "outputs": [
    {
     "name": "stdout",
     "output_type": "stream",
     "text": [
      "True\n"
     ]
    }
   ],
   "source": [
    "# 1\n",
    "subject1 = ParticipantRtData(reaction_times_list, \"Pippo\", 28, \"control\", \"M\")\n",
    "subject1mod = ParticipantRtData(reaction_times_list + [1,], \"Pippo\", 28, \"extended\", \"M\")\n",
    "subject2 = ParticipantRtData([.2, .3, .4], \"Mery\", 26, \"extended\", \"F\")\n",
    "\n",
    "print(subject1 == subject1)"
   ]
  },
  {
   "cell_type": "code",
   "execution_count": 61,
   "id": "a7eb4904",
   "metadata": {},
   "outputs": [
    {
     "name": "stdout",
     "output_type": "stream",
     "text": [
      "Warning! Same participant id but different data!\n",
      "True\n"
     ]
    }
   ],
   "source": [
    "print(subject1 == subject1mod)"
   ]
  },
  {
   "cell_type": "code",
   "execution_count": 62,
   "id": "96580241",
   "metadata": {},
   "outputs": [
    {
     "name": "stdout",
     "output_type": "stream",
     "text": [
      "False\n"
     ]
    }
   ],
   "source": [
    "print(subject1 == subject2)"
   ]
  },
  {
   "cell_type": "code",
   "execution_count": 81,
   "id": "b3508095",
   "metadata": {},
   "outputs": [
    {
     "name": "stdout",
     "output_type": "stream",
     "text": [
      "Subject ID: Mery\n",
      "   - sex: F\n",
      "   - age: 26\n",
      "   - condition: extended\n",
      "\n"
     ]
    }
   ],
   "source": [
    "# 2\n",
    "subj_data = ParticipantRtData([.2, .3, .4], \"Mery\", 26, \"extended\", \"F\")\n",
    "print(subj_data)"
   ]
  },
  {
   "cell_type": "code",
   "execution_count": 84,
   "id": "32d7a3d2",
   "metadata": {},
   "outputs": [
    {
     "data": {
      "text/plain": [
       "0.2"
      ]
     },
     "execution_count": 84,
     "metadata": {},
     "output_type": "execute_result"
    }
   ],
   "source": [
    "# 3\n",
    "subj_data = ParticipantRtData([.2, .3, .4], \"Mery\", 26, \"extended\", \"F\")\n",
    "subj_data[0]"
   ]
  },
  {
   "cell_type": "code",
   "execution_count": 83,
   "id": "bdc5150f",
   "metadata": {},
   "outputs": [
    {
     "data": {
      "text/plain": [
       "3"
      ]
     },
     "execution_count": 83,
     "metadata": {},
     "output_type": "execute_result"
    }
   ],
   "source": [
    "# 4\n",
    "subj_data = ParticipantRtData([.2, .3, .4], \"Mery\", 26, \"extended\", \"F\")\n",
    "subj_data.n_measurements"
   ]
  },
  {
   "cell_type": "code",
   "execution_count": 80,
   "id": "ded51871",
   "metadata": {},
   "outputs": [
    {
     "data": {
      "text/plain": [
       "'some noise'"
      ]
     },
     "execution_count": 80,
     "metadata": {},
     "output_type": "execute_result"
    }
   ],
   "source": [
    "# 5\n",
    "data = AdvancedParticipantRtData([.2, .3, .4], \"Mery\", 26, \"extended\", \"F\", notes=\"some noise\")\n",
    "data.notes"
   ]
  },
  {
   "cell_type": "code",
   "execution_count": null,
   "id": "065e4bf8",
   "metadata": {},
   "outputs": [],
   "source": []
  }
 ],
 "metadata": {
  "kernelspec": {
   "display_name": "Python 3 (ipykernel)",
   "language": "python",
   "name": "python3"
  },
  "language_info": {
   "codemirror_mode": {
    "name": "ipython",
    "version": 3
   },
   "file_extension": ".py",
   "mimetype": "text/x-python",
   "name": "python",
   "nbconvert_exporter": "python",
   "pygments_lexer": "ipython3",
   "version": "3.11.6"
  }
 },
 "nbformat": 4,
 "nbformat_minor": 5
}
