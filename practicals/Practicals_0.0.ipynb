{
 "cells": [
  {
   "cell_type": "markdown",
   "id": "03a44e75",
   "metadata": {},
   "source": [
    "# Practicals for lecture 0.0\n",
    "\n",
    "[![Open In Colab](https://colab.research.google.com/assets/colab-badge.svg)](https://colab.research.google.com/github/vigji/python-cimec-2024/blob/main/practicals/Practicals_0.0.ipynb)"
   ]
  },
  {
   "cell_type": "markdown",
   "id": "356aaff5",
   "metadata": {},
   "source": [
    "### Practicals"
   ]
  },
  {
   "cell_type": "markdown",
   "id": "1b2a9c8a",
   "metadata": {},
   "source": [
    "####  0.0.0 Basic notebook usage"
   ]
  },
  {
   "cell_type": "code",
   "execution_count": null,
   "id": "0fa2575a",
   "metadata": {},
   "outputs": [],
   "source": [
    "# Explore the basic functionalities of a notebook.\n",
    "# Create a new comment cell and a new code cell below:"
   ]
  },
  {
   "cell_type": "markdown",
   "id": "7e0f15f2",
   "metadata": {},
   "source": [
    "Comment cell"
   ]
  },
  {
   "cell_type": "code",
   "execution_count": 1,
   "id": "d558d0e7",
   "metadata": {},
   "outputs": [],
   "source": [
    "# code cell"
   ]
  },
  {
   "cell_type": "markdown",
   "id": "28220626",
   "metadata": {},
   "source": [
    "#### 0.0.1 Variables and types"
   ]
  },
  {
   "cell_type": "code",
   "execution_count": 2,
   "id": "57d6d00d",
   "metadata": {},
   "outputs": [
    {
     "data": {
      "text/plain": [
       "1"
      ]
     },
     "execution_count": 2,
     "metadata": {},
     "output_type": "execute_result"
    }
   ],
   "source": [
    "# Assign to a variable the value 1. \n",
    "a = 1\n",
    "\n",
    "# To check the variable value, you can just write the variable name in the last line of a cell. Try it out!\n",
    "\n",
    "a"
   ]
  },
  {
   "cell_type": "code",
   "execution_count": 3,
   "id": "b5be9133",
   "metadata": {},
   "outputs": [
    {
     "name": "stdout",
     "output_type": "stream",
     "text": [
      "1\n"
     ]
    },
    {
     "data": {
      "text/plain": [
       "int"
      ]
     },
     "execution_count": 3,
     "metadata": {},
     "output_type": "execute_result"
    }
   ],
   "source": [
    "# Use the print() and the type() function to show the variable value and type:\n",
    "print(a)\n",
    "type(a)"
   ]
  },
  {
   "cell_type": "markdown",
   "id": "9ce5ba5d",
   "metadata": {},
   "source": [
    "#### 0.0.2 Basic maths"
   ]
  },
  {
   "cell_type": "code",
   "execution_count": null,
   "id": "8c099b85",
   "metadata": {},
   "outputs": [],
   "source": [
    "# Average those numbers: 49, 12, 86. then calculate the cube of the average and assign it to a variable.\n",
    "\n",
    "average = (49 + 12 + 86) / 3  # replace the dots with your solution code!"
   ]
  },
  {
   "cell_type": "code",
   "execution_count": null,
   "id": "92c30b30",
   "metadata": {},
   "outputs": [],
   "source": [
    "# Convert the result to an integer and print it! To convert to integer, you can use the int() function\n",
    "\n",
    "int(average)\n"
   ]
  },
  {
   "cell_type": "code",
   "execution_count": 1,
   "id": "8316e465",
   "metadata": {},
   "outputs": [],
   "source": [
    "# Assign to two variables the integer quotient and remainder from the following calculation: 12 divided by 5\n",
    "\n",
    "quotient = 12 // 5\n",
    "reminder = 12 % 5"
   ]
  },
  {
   "cell_type": "markdown",
   "id": "a9ff7c1e",
   "metadata": {},
   "source": [
    "#### 0.0.3 Boolean aritmetics"
   ]
  },
  {
   "cell_type": "code",
   "execution_count": 3,
   "id": "49e60625",
   "metadata": {},
   "outputs": [
    {
     "data": {
      "text/plain": [
       "False"
      ]
     },
     "execution_count": 3,
     "metadata": {},
     "output_type": "execute_result"
    }
   ],
   "source": [
    "# Define a variable a and a variable b. Then, assign a variable both_types_int that is true if both \n",
    "# variables have int as the type. Change the values of a and b to check the results!\n",
    "\n",
    "a = 1\n",
    "b = 2.\n",
    "\n",
    "both_types_int = type(a) == int and type(b) == int\n",
    "both_types_int"
   ]
  },
  {
   "cell_type": "markdown",
   "id": "31d0ec9e",
   "metadata": {},
   "source": [
    "#### 0.0.4 Strings"
   ]
  },
  {
   "cell_type": "code",
   "execution_count": 4,
   "id": "c557f71a",
   "metadata": {},
   "outputs": [
    {
     "data": {
      "text/plain": [
       "'ChinaChinaChinaChinaChinaChinaChinaChinaChinaChinaChinaChinaChinaChinaChinaChinaChinaChinaChinaChinaChinaChinaChinaChinaChinaChinaChinaChinaChinaChinaChinaChinaChinaChinaChinaChinaChinaChinaChinaChina'"
      ]
     },
     "execution_count": 4,
     "metadata": {},
     "output_type": "execute_result"
    }
   ],
   "source": [
    "# Create a Trump quote generator (https://www.youtube.com/watch?v=RDrfE9I8_hs)\n",
    "# by repeating 40 times the word \"China\". Start from the existing variable:\n",
    "quote = \"China\"\n",
    "\n",
    "# And remember what we have seen on matematical operations with strings!\n",
    "quote * 40"
   ]
  },
  {
   "cell_type": "code",
   "execution_count": 9,
   "id": "b31d6cd9",
   "metadata": {},
   "outputs": [
    {
     "data": {
      "text/plain": [
       "'China China China China China China China China China China China China China China China China China China China China China China China China China China China China China China China China China China China China China China China China '"
      ]
     },
     "execution_count": 9,
     "metadata": {},
     "output_type": "execute_result"
    }
   ],
   "source": [
    "# Repeat the above, but incorporate spaces between the repeats\n",
    "# (keep using the variable defined above without redefining anything, and remember math with strings!):\n",
    "\n",
    "repeated_word = (quote + \" \") * 40\n",
    "repeated_word"
   ]
  },
  {
   "cell_type": "code",
   "execution_count": 10,
   "id": "ad114c2c",
   "metadata": {},
   "outputs": [
    {
     "data": {
      "text/plain": [
       "\"Let's say: China China China China China China China China China China China China China China China China China China China China China China China China China China China China China China China China China China China China China China China China !\""
      ]
     },
     "execution_count": 10,
     "metadata": {},
     "output_type": "execute_result"
    }
   ],
   "source": [
    "# To complete the quote, format the result of the above operation \n",
    "# into the following string:\n",
    "\n",
    "incipit = \"Let's say: {}!\"\n",
    "incipit.format(repeated_word)"
   ]
  },
  {
   "cell_type": "code",
   "execution_count": 12,
   "id": "5e90532f",
   "metadata": {},
   "outputs": [
    {
     "data": {
      "text/plain": [
       "['Betty',\n",
       " 'Botter',\n",
       " 'bought',\n",
       " 'some',\n",
       " 'butter',\n",
       " 'but,',\n",
       " 'said',\n",
       " 'she,',\n",
       " 'the',\n",
       " 'butter’s',\n",
       " 'bitter.',\n",
       " 'If',\n",
       " 'I',\n",
       " 'put',\n",
       " 'it',\n",
       " 'in',\n",
       " 'my',\n",
       " 'batter,',\n",
       " 'it',\n",
       " 'will',\n",
       " 'make',\n",
       " 'my',\n",
       " 'batter',\n",
       " 'bitter.']"
      ]
     },
     "execution_count": 12,
     "metadata": {},
     "output_type": "execute_result"
    }
   ],
   "source": [
    "# Split the following text in a list of individual words using the \n",
    "# .split() method.\n",
    "# Assign the result of split() to a word_list variable:\n",
    "\n",
    "text = \" Betty Botter bought some butter but, said she, the butter’s bitter. If I put it in my batter, it will make my batter bitter.\"\n",
    "\n",
    "text.split()"
   ]
  },
  {
   "cell_type": "code",
   "execution_count": 13,
   "id": "a40782c6",
   "metadata": {},
   "outputs": [
    {
     "data": {
      "text/plain": [
       "list"
      ]
     },
     "execution_count": 13,
     "metadata": {},
     "output_type": "execute_result"
    }
   ],
   "source": [
    "# What is the type of the word_list variable?\n",
    "type(text.split())"
   ]
  },
  {
   "cell_type": "code",
   "execution_count": null,
   "id": "e0661aa0",
   "metadata": {},
   "outputs": [],
   "source": []
  }
 ],
 "metadata": {
  "kernelspec": {
   "display_name": "Python 3 (ipykernel)",
   "language": "python",
   "name": "python3"
  },
  "language_info": {
   "codemirror_mode": {
    "name": "ipython",
    "version": 3
   },
   "file_extension": ".py",
   "mimetype": "text/x-python",
   "name": "python",
   "nbconvert_exporter": "python",
   "pygments_lexer": "ipython3",
   "version": "3.11.6"
  }
 },
 "nbformat": 4,
 "nbformat_minor": 5
}
