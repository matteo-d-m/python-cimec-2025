{
 "cells": [
  {
   "cell_type": "markdown",
   "id": "03a44e75",
   "metadata": {},
   "source": [
    "# Practicals for lecture 0.0\n",
    "\n",
    "[![Open In Colab](https://colab.research.google.com/assets/colab-badge.svg)](https://colab.research.google.com/github/vigji/python-cimec-2024/blob/main/practicals/Practicals_0.0.ipynb)"
   ]
  },
  {
   "cell_type": "markdown",
   "id": "356aaff5",
   "metadata": {},
   "source": [
    "### Practicals"
   ]
  },
  {
   "cell_type": "markdown",
   "id": "1b2a9c8a",
   "metadata": {},
   "source": [
    "####  0.0.0 Basic notebook usage"
   ]
  },
  {
   "cell_type": "code",
   "execution_count": null,
   "id": "0fa2575a",
   "metadata": {},
   "outputs": [],
   "source": [
    "# Explore the basic functionalities of a notebook.\n",
    "# Create a new comment cell and a new code cell below\n",
    "#  write anythin in the code cell and run it"
   ]
  },
  {
   "cell_type": "markdown",
   "id": "28220626",
   "metadata": {},
   "source": [
    "#### 0.0.1 Variables and types"
   ]
  },
  {
   "cell_type": "code",
   "execution_count": null,
   "id": "57d6d00d",
   "metadata": {},
   "outputs": [],
   "source": [
    "# Assign to a variable the value 1. \n",
    "\n",
    "# To check the variable value, you can \n",
    "# either write the variable name in the last line of a cell,\n",
    "# Try to do it!"
   ]
  },
  {
   "cell_type": "code",
   "execution_count": null,
   "id": "b5be9133",
   "metadata": {},
   "outputs": [],
   "source": [
    "# Use the print() and the type() function to show the variable value and type:\n"
   ]
  },
  {
   "cell_type": "code",
   "execution_count": null,
   "id": "d6a70423",
   "metadata": {},
   "outputs": [],
   "source": [
    "# Which of the following are not valid variable names?\n",
    "# \"a_float\"   -> valid\n",
    "# \"2var\"  -> ...\n",
    "# \"my-var\"\n",
    "# \"my_var\" \n",
    "# \"myVar\"\n",
    "# \"class\"\n",
    "# \"my var\"\n",
    "# \"myVar\"\n"
   ]
  },
  {
   "cell_type": "markdown",
   "id": "9ce5ba5d",
   "metadata": {},
   "source": [
    "#### 0.0.2 Basic maths"
   ]
  },
  {
   "cell_type": "code",
   "execution_count": null,
   "id": "8c099b85",
   "metadata": {},
   "outputs": [],
   "source": [
    "# Average those numbers: 49, 12, 86. then calculate the cube of the average and assign it to a variable.\n",
    "\n",
    "# Here and in future exercises, always replace the dots with your solution code!\n",
    "average = ...  "
   ]
  },
  {
   "cell_type": "code",
   "execution_count": null,
   "id": "92c30b30",
   "metadata": {},
   "outputs": [],
   "source": [
    "# Convert the result to an integer and print it! To convert to integer, you can use the int() function\n",
    "\n"
   ]
  },
  {
   "cell_type": "code",
   "execution_count": 1,
   "id": "8316e465",
   "metadata": {},
   "outputs": [],
   "source": [
    "# Assign to two variables the integer quotient and remainder from the following calculation: 12 divided by 5\n",
    "\n"
   ]
  },
  {
   "cell_type": "code",
   "execution_count": null,
   "id": "6ea68155",
   "metadata": {},
   "outputs": [],
   "source": [
    "# [Advanced] The tricky business of floating point numbers\n",
    "# Create a variable that stores 0.1 + 0.2\n",
    "# Create another variable that stores 0.3\n",
    "\n",
    "# Print whether they are equal (using ==)...what is happening? google it out\n",
    "# Can you find the difference?\n",
    "# can you rewrite the comparison to account for the precision? (Hint: define a tolerance)"
   ]
  },
  {
   "cell_type": "markdown",
   "id": "a9ff7c1e",
   "metadata": {},
   "source": [
    "#### 0.0.3 Boolean aritmetics"
   ]
  },
  {
   "cell_type": "code",
   "execution_count": null,
   "id": "49e60625",
   "metadata": {},
   "outputs": [],
   "source": [
    "# Define a variable a and a variable b. Then, assign a variable both_types_int that is true if both \n",
    "# variables have int as their type. Change the values of a and b to check the results!\n"
   ]
  },
  {
   "cell_type": "code",
   "execution_count": null,
   "id": "e8c9084e",
   "metadata": {},
   "outputs": [],
   "source": [
    "# Create a variable that checks if a number is both even and positive\n",
    "# Hint: remember the modulo operator...\n",
    "number = 42\n",
    "is_even_and_positive = ..."
   ]
  },
  {
   "cell_type": "code",
   "execution_count": null,
   "id": "810bae70",
   "metadata": {},
   "outputs": [],
   "source": [
    "# [Advanced]\n",
    "# Rectified Linear Units (ReLU) are the most common activation function in neural networks.\n",
    "# See: https://en.wikipedia.org/wiki/Rectifier_(neural_networks)\n",
    "# Implement a ReLU (Rectified Linear Unit) operation without using if statements\n",
    "# ReLU returns:\n",
    "# - the number itself if it's positive\n",
    "# - zero if it's negative or zero\n",
    "# Hint: use boolean arithmetic and multiplication\n",
    "# Bonus: can you explain why this works?\n",
    "\n",
    "x = -3\n",
    "relu_x = ..."
   ]
  },
  {
   "cell_type": "markdown",
   "id": "31d0ec9e",
   "metadata": {},
   "source": [
    "#### 0.0.4 Strings"
   ]
  },
  {
   "cell_type": "code",
   "execution_count": null,
   "id": "c557f71a",
   "metadata": {},
   "outputs": [],
   "source": [
    "# Create a Trump quote generator (https://www.youtube.com/watch?v=RDrfE9I8_hs)\n",
    "# by repeating 40 times the word \"China\". Start from the existing variable:\n",
    "quote = \"China\"\n",
    "\n",
    "# And use mathematical operators with strings!\n",
    "full_quote = ..."
   ]
  },
  {
   "cell_type": "code",
   "execution_count": null,
   "id": "b31d6cd9",
   "metadata": {},
   "outputs": [],
   "source": [
    "# Repeat the above, but incorporate spaces between the repeats\n",
    "# (keep using the variable defined above, and remember math with strings!):\n",
    "\n",
    "full_quote_with_spaces = ..."
   ]
  },
  {
   "cell_type": "code",
   "execution_count": null,
   "id": "ad114c2c",
   "metadata": {},
   "outputs": [],
   "source": [
    "# To complete the quote, format the result of the above operation \n",
    "# into the following string and print it:\n",
    "\n",
    "incipit = \"Let's say: {}!\"\n",
    "\n",
    "quote_with_incipit = ..."
   ]
  },
  {
   "cell_type": "code",
   "execution_count": null,
   "id": "5e90532f",
   "metadata": {},
   "outputs": [],
   "source": [
    "# Split the following text in a list of individual words using the \n",
    "# .split() method.\n",
    "# Assign the result of split() to a word_list variable, and print it.\n",
    "\n",
    "text = \" Betty Botter bought some butter but, said she, the butter’s bitter. If I put it in my batter, it will make my batter bitter.\"\n",
    "\n",
    "word_list = ..."
   ]
  },
  {
   "cell_type": "code",
   "execution_count": null,
   "id": "a40782c6",
   "metadata": {},
   "outputs": [],
   "source": [
    "# What is the type of the word_list variable?\n"
   ]
  }
 ],
 "metadata": {
  "kernelspec": {
   "display_name": "course-env",
   "language": "python",
   "name": "python3"
  },
  "language_info": {
   "codemirror_mode": {
    "name": "ipython",
    "version": 3
   },
   "file_extension": ".py",
   "mimetype": "text/x-python",
   "name": "python",
   "nbconvert_exporter": "python",
   "pygments_lexer": "ipython3",
   "version": "3.10.13"
  }
 },
 "nbformat": 4,
 "nbformat_minor": 5
}
