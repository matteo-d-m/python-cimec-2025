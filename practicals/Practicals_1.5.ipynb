{
 "cells": [
  {
   "cell_type": "markdown",
   "id": "fb5bdd4c",
   "metadata": {},
   "source": [
    "# Practicals for lecture 1.5\n",
    "\n",
    "[![Open In Colab](https://colab.research.google.com/assets/colab-badge.svg)](https://colab.research.google.com/github/vigji/python-cimec-2025/blob/main/practicals/Practicals_1.5.ipynb)"
   ]
  },
  {
   "cell_type": "markdown",
   "id": "f44bfe04",
   "metadata": {},
   "source": [
    "#### 1.5.0 Plotting with `matplotlib`\n"
   ]
  },
  {
   "cell_type": "code",
   "execution_count": null,
   "id": "0cc9a7a2",
   "metadata": {},
   "outputs": [],
   "source": [
    "# Take the meteo dataset using the function below\n",
    "import numpy as np\n",
    "import pandas as pd\n",
    "\n",
    "def get_meteo_dataset():\n",
    "    \"\"\"Get a meteo dataset from the open-meteo API using a fixed window.\n",
    "    Note how easy it is to get data from the web with pandas! As long as we give the URL of the csv data, pandas can read it.\n",
    "    \"\"\"\n",
    "    np.random.seed(42)\n",
    "    # URL = \"https://api.open-meteo.com/v1/forecast?latitude=52.52&longitude=13.41&current=temperature_2m,relativehumidity_2m,precipitation,windspeed_10m,winddirection_10m&start_date=2023-02-10&end_date=2023-05-28&format=csv\"\n",
    "    URL = \"https://api.open-meteo.com/v1/forecast?latitude=52.52&longitude=13.41&current=temperature_2m,wind_speed_10m&hourly=temperature_2m,relative_humidity_2m,precipitation,wind_speed_10m,winddirection_10m&start_date=2025-02-25&end_date=2025-05-04&format=csv\"\n",
    "    df = pd.read_csv(URL, skiprows=6)  # read the csv file, skipping the first 3 rows (a header)\n",
    "    df.columns = [col.split(\" \")[0] for col in df.columns]  # simplify column names\n",
    "    df[\"time\"] = pd.to_datetime(df[\"time\"])  # convert the time column to datetime\n",
    "    df[\"month\"] = df[\"time\"].dt.month\n",
    "    df[\"hour\"], df[\"dayofyear\"] = df[\"time\"].dt.hour, df[\"time\"].dt.dayofyear  # extract the hour and day of year\n",
    "    return df\n",
    "\n",
    "# This new meteo dataset has columns for the day of the year, \n",
    "# hour of the day, and day of the week.\n",
    "meteo_df = get_meteo_dataset()\n",
    "meteo_df.head()"
   ]
  },
  {
   "cell_type": "code",
   "execution_count": 2,
   "id": "36801c65",
   "metadata": {
    "ExecuteTime": {
     "end_time": "2023-05-22T07:47:41.732619Z",
     "start_time": "2023-05-22T07:47:41.653063Z"
    }
   },
   "outputs": [],
   "source": [
    "# Use matplotlib obj oriented interface to create a figure and axis object, \n",
    "# and scatter the wind speed vs the relative humidity.\n",
    "\n",
    "# Use methods of the axis object to set the axes names, \n",
    "# and restrict the wind speed axis between 0 and 30 km/h\n"
   ]
  },
  {
   "cell_type": "code",
   "execution_count": 3,
   "id": "e9cc4e3f",
   "metadata": {},
   "outputs": [],
   "source": [
    "# Make a new plot and specify an alpha value < 1 (transparency) for the scatterplot:\n"
   ]
  },
  {
   "cell_type": "code",
   "execution_count": 14,
   "id": "85608182",
   "metadata": {},
   "outputs": [],
   "source": [
    "# Use boolean selection on the dataframe to show in blue points for day times (h8-20) and in green\n",
    "# points for night times (h 0-8 and 20-23) (with some transparency if you like)\n"
   ]
  },
  {
   "cell_type": "code",
   "execution_count": null,
   "id": "76026140",
   "metadata": {},
   "outputs": [],
   "source": [
    "# Make a new line plot showing temperature over time, making sure you properly label your axes \n",
    "\n",
    "# Use axvspan to visualize the time interval corresponding to March:\n"
   ]
  },
  {
   "cell_type": "code",
   "execution_count": 20,
   "id": "f9f187d0",
   "metadata": {},
   "outputs": [],
   "source": [
    "# Do again the line plot for temperature, but now highlight all hours with a temperature above 20 degrees.\n",
    "# Visualize the threshold using axhline and use scatter() to show all hours above the threshold overlayed\n",
    "# over (! make sure they are over) the line plot:"
   ]
  },
  {
   "cell_type": "markdown",
   "id": "c14d7073",
   "metadata": {},
   "source": [
    "#### 1.5.1 Subplots"
   ]
  },
  {
   "cell_type": "code",
   "execution_count": 22,
   "id": "8cd71084",
   "metadata": {
    "ExecuteTime": {
     "end_time": "2023-05-22T07:56:17.962405Z",
     "start_time": "2023-05-22T07:56:17.956215Z"
    }
   },
   "outputs": [],
   "source": [
    "# Create two plots one on top of the other using matplotlib's subplots function.\n",
    "\n",
    "# In the top plot, show temperature series.\n",
    "\n",
    "# In the bottom plot, show the relative humidity series.\n",
    "\n",
    "# Make sure the two plots share the same x axis (if you are using an interactive backend, x axis will remain link as you explore the plot)\n",
    "\n",
    "# Hint: you can pass the sharex=True argument to the subplots function to easily \n",
    "# make the two plots share the same x axis:"
   ]
  },
  {
   "cell_type": "code",
   "execution_count": null,
   "id": "8b283fcf",
   "metadata": {},
   "outputs": [],
   "source": [
    "# Create a 2 x 2 grid of plots using matplotlib's subplots function.\n",
    "\n",
    "# In each plot, we will show the correlation of a variable with the temperature. \n",
    "# Temperature should always be on the x axis, and the other variable on the y axis.\n",
    "\n",
    "# Top left should show the correlation of temperature with relative humidity, top right with wind speed,\n",
    "# bottom left with precipitation, bottom right with time of the day.\n",
    "\n",
    "# Try to use a for loop to iterate over the axes of the grid, and use the .scatter() method to plot the data!\n"
   ]
  },
  {
   "cell_type": "code",
   "execution_count": null,
   "id": "dcaacab3",
   "metadata": {},
   "outputs": [],
   "source": [
    "# Try to save the image as pdf and download it to your computer:\n"
   ]
  },
  {
   "cell_type": "markdown",
   "id": "0cd37f5f",
   "metadata": {},
   "source": [
    "#### 1.5.2 the `seaborn` library"
   ]
  },
  {
   "cell_type": "code",
   "execution_count": null,
   "id": "330ba920",
   "metadata": {},
   "outputs": [],
   "source": [
    "# Make a violinplot to show the distribution of wind speeds for "
   ]
  },
  {
   "cell_type": "code",
   "execution_count": null,
   "id": "028aee55",
   "metadata": {},
   "outputs": [],
   "source": [
    "# Make a swarmplot to show the distribution of temperature for each of the first 4 months of the year\n",
    "# (each month should appear as a different column of points!)\n"
   ]
  },
  {
   "cell_type": "code",
   "execution_count": 31,
   "id": "d483f446",
   "metadata": {},
   "outputs": [],
   "source": [
    "# Make a lmplot showing the correlation between temperature and time of the day for each different\n",
    "# month of the year:\n"
   ]
  },
  {
   "cell_type": "code",
   "execution_count": null,
   "id": "60e96b8c",
   "metadata": {},
   "outputs": [],
   "source": [
    "# plot all the variables in one plot (except precipitation) using seaborn's relplot and the x, y, hue, size and col options.\n",
    "# You can choose to which variable to use for x,y, size etc, but make an informed choice based on what you know about the data.\n"
   ]
  },
  {
   "cell_type": "code",
   "execution_count": null,
   "id": "5ea50e27",
   "metadata": {},
   "outputs": [],
   "source": [
    "# combine seaborn and matplotlib - back to the Allen brain example from last time\n",
    "\n",
    "# Use the read_csv function to read data from the links!\n",
    "import pandas as pd\n",
    "root_url_string = \"https://github.com/vigji/python-cimec-2024/raw/main/practicals/data/\"\n",
    "neuron_df = pd.read_csv(root_url_string + \"allen_neurons.csv\")\n",
    "channel_df = pd.read_csv(root_url_string + \"allen_channels.csv\")\n",
    "session_df = pd.read_csv(root_url_string + \"allen_sessions.csv\")\n",
    "\n",
    "# create a publication-ready figure with 2 subplots. You can use either seaborn or matplotlib.\n",
    "# the left plot should show all the mouse demographics so that the audience can tell the age, sex and strain of every mouse used.\n",
    "# the right plot should show a distribution of the firing rates\n",
    "# make sure that the axes have no underscores, all the labels are readable and the legend is well positioned. It should look literally look ready to publish!\n",
    "\n",
    "\n"
   ]
  }
 ],
 "metadata": {
  "kernelspec": {
   "display_name": "lab-env",
   "language": "python",
   "name": "python3"
  },
  "language_info": {
   "codemirror_mode": {
    "name": "ipython",
    "version": 3
   },
   "file_extension": ".py",
   "mimetype": "text/x-python",
   "name": "python",
   "nbconvert_exporter": "python",
   "pygments_lexer": "ipython3",
   "version": "3.10.0"
  }
 },
 "nbformat": 4,
 "nbformat_minor": 5
}
