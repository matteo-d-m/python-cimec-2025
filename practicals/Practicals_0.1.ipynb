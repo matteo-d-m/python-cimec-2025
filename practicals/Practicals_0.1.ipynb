{
 "cells": [
  {
   "cell_type": "markdown",
   "id": "03a44e75",
   "metadata": {},
   "source": [
    "# Practicals for lecture 0.1\n",
    "\n",
    "[![Open In Colab](https://colab.research.google.com/assets/colab-badge.svg)](https://colab.research.google.com/github/vigji/python-cimec-2025/blob/main/practicals/Practicals_0.1.ipynb)"
   ]
  },
  {
   "cell_type": "markdown",
   "id": "1a9cd770",
   "metadata": {},
   "source": [
    "## 0.1.0 Strings"
   ]
  },
  {
   "cell_type": "code",
   "execution_count": null,
   "id": "4fa90744",
   "metadata": {},
   "outputs": [],
   "source": [
    "# Create a Trump quote generator (https://www.youtube.com/watch?v=RDrfE9I8_hs)\n",
    "# by repeating 40 times the word \"China\". Start from the existing variable.\n",
    "quote = \"China\"\n",
    "\n",
    "# And use mathematical operators with strings!\n",
    "full_quote = ...\n",
    "\n",
    "# The old quirks of this characters make its 2022 persona \n",
    "# look almost endearing compared to the current presidency..."
   ]
  },
  {
   "cell_type": "code",
   "execution_count": null,
   "id": "9311a294",
   "metadata": {},
   "outputs": [],
   "source": [
    "# Repeat the above, but incorporate spaces between the repeats\n",
    "# (keep using the variable defined above, and remember math with strings!):\n",
    "\n",
    "full_quote_with_spaces = ..."
   ]
  },
  {
   "cell_type": "code",
   "execution_count": null,
   "id": "7d79d391",
   "metadata": {},
   "outputs": [],
   "source": [
    "# Find the length of the final quote (remember, you can use a function for this)"
   ]
  },
  {
   "cell_type": "code",
   "execution_count": null,
   "id": "3a23458f",
   "metadata": {},
   "outputs": [],
   "source": [
    "# To complete the quote, format the result of the above operation \n",
    "# into the following string and print it:\n",
    "\n",
    "incipit = \"Let's say: {}!\"\n",
    "\n",
    "quote_with_incipit = ..."
   ]
  },
  {
   "cell_type": "code",
   "execution_count": null,
   "id": "5af7bb1e",
   "metadata": {},
   "outputs": [],
   "source": [
    "# Split the following text in a list of individual words using the \n",
    "# .split() method.\n",
    "# Assign the result of split() to a word_list variable, and print it.\n",
    "\n",
    "text = \" Betty Botter bought some butter but, said she, the butter’s bitter. If I put it in my batter, it will make my batter bitter.\"\n",
    "\n",
    "word_list = ..."
   ]
  },
  {
   "cell_type": "code",
   "execution_count": null,
   "id": "c93591c3",
   "metadata": {},
   "outputs": [],
   "source": [
    "# Convert the text to uppercase:\n",
    "text_upper = ...\n"
   ]
  },
  {
   "cell_type": "code",
   "execution_count": null,
   "id": "64ca06dc",
   "metadata": {},
   "outputs": [],
   "source": [
    "# Take one every two characters from the first 10 characters of the text:\n",
    "text_every_two = ...\n",
    "\n",
    "# Take the last 10 characters of the text:\n",
    "text_last_ten = ...\n",
    "\n"
   ]
  },
  {
   "cell_type": "code",
   "execution_count": null,
   "id": "0b1f4c83",
   "metadata": {},
   "outputs": [],
   "source": [
    "# Check if a word is a palindrome:\n",
    "word = \"radar\"\n",
    "\n",
    "is_palindrome = ..."
   ]
  },
  {
   "cell_type": "code",
   "execution_count": null,
   "id": "fa6635d9",
   "metadata": {},
   "outputs": [],
   "source": [
    "# [Advanced]: Password Strength Validator\n",
    "\n",
    "# Write a Python program that validates the strength of a password based on the following rules:\n",
    "\n",
    "# The password must be at least 8 characters long.\n",
    "# The password must contain at least one uppercase letter.\n",
    "# The password must contain at least one lowercase letter.\n",
    "# The password must contain at least one digit.\n",
    "# The password must contain at least one special character (e.g., !, @, #, $, %, etc.).\n",
    "# Hint: you can check if a string contains only letters with the `isalpha()` method, \n",
    "# and if it contains only digits with the `isdigit()` method.\n",
    "\n",
    "# The solution does not require loops - but you can use them if you want to!\n",
    "\n",
    "good_password = \"Password123!\"\n",
    "bad_password = \"weak\"\n",
    "bad_password_2 = \"Short1!\"\n",
    "bad_password_3 = \"nouppercase!\"\n",
    "bad_password_4 = \"nodigits!\"\n",
    "\n",
    "...\n",
    "is_good_password = ..."
   ]
  },
  {
   "cell_type": "markdown",
   "id": "5333bf92",
   "metadata": {},
   "source": [
    "## Data containers"
   ]
  },
  {
   "cell_type": "markdown",
   "id": "cefcbc31",
   "metadata": {},
   "source": [
    "#### 0.1.0 Lists"
   ]
  },
  {
   "cell_type": "code",
   "execution_count": 2,
   "id": "d36921d1",
   "metadata": {},
   "outputs": [
    {
     "data": {
      "text/plain": [
       "['The',\n",
       " 'brain',\n",
       " 'is',\n",
       " 'a',\n",
       " 'world',\n",
       " 'consisting',\n",
       " 'of',\n",
       " 'a',\n",
       " 'number',\n",
       " 'of',\n",
       " 'unexplored',\n",
       " 'continents',\n",
       " 'and',\n",
       " 'great',\n",
       " 'stretches',\n",
       " 'of',\n",
       " 'unknown',\n",
       " 'territory.']"
      ]
     },
     "execution_count": 2,
     "metadata": {},
     "output_type": "execute_result"
    }
   ],
   "source": [
    "# Use the .split() method to create a list of words from this string and assign it to a variable:\n",
    "a_string = \"The brain is a world consisting of a number of unexplored continents and great stretches of unknown territory.\"\n"
   ]
  },
  {
   "cell_type": "code",
   "execution_count": 3,
   "id": "1d7c75e2",
   "metadata": {},
   "outputs": [
    {
     "data": {
      "text/plain": [
       "['The', 'is', 'world', 'of', 'number']"
      ]
     },
     "execution_count": 3,
     "metadata": {},
     "output_type": "execute_result"
    }
   ],
   "source": [
    "# Using indexing, make a new list named `selected_elements` taking one every two \n",
    "# of the first 10 elements from the `a_string` list:\n",
    "selected_elements = ..."
   ]
  },
  {
   "cell_type": "code",
   "execution_count": 4,
   "id": "3751c1c3",
   "metadata": {},
   "outputs": [
    {
     "data": {
      "text/plain": [
       "['The new value', 'is', 'world', 'of', 'number']"
      ]
     },
     "execution_count": 4,
     "metadata": {},
     "output_type": "execute_result"
    }
   ],
   "source": [
    "# Then, replace the first element of `selected_elements` with a new string of your choice:\n",
    "selected_elements[0] = \"The new value\"\n",
    "selected_elements"
   ]
  },
  {
   "cell_type": "code",
   "execution_count": 5,
   "id": "0b479eb3",
   "metadata": {},
   "outputs": [
    {
     "data": {
      "text/plain": [
       "['The new value', 'is', 'world', 'of', 'number', 'new value at the end']"
      ]
     },
     "execution_count": 5,
     "metadata": {},
     "output_type": "execute_result"
    }
   ],
   "source": [
    "# Use the .append() method to join one additional string of your choice to `selected_elements`, and \n",
    "# print it again:"
   ]
  },
  {
   "cell_type": "code",
   "execution_count": 6,
   "id": "1e33e3d5",
   "metadata": {},
   "outputs": [],
   "source": [
    "# What happens if you try to .append() a list of values instead of a single value?\n",
    "# Try to .append() a list of words to the selected_elements:\n"
   ]
  },
  {
   "cell_type": "code",
   "execution_count": 8,
   "id": "5ae095de",
   "metadata": {},
   "outputs": [],
   "source": [
    "# This is not what we want to obtain if what we want to do is concatenate lists!\n",
    "# Use the correct operator to concatenate the `to concatenate` list to the `selected_elements` list:\n",
    "to_concatenate = [\"a\", \"b\", \"c\"]\n",
    "\n"
   ]
  },
  {
   "cell_type": "markdown",
   "id": "d44e8874",
   "metadata": {},
   "source": [
    "#### 0.1.1 Dictionaries"
   ]
  },
  {
   "cell_type": "code",
   "execution_count": 4,
   "id": "614e9c24",
   "metadata": {},
   "outputs": [
    {
     "data": {
      "text/plain": [
       "'The'"
      ]
     },
     "execution_count": 4,
     "metadata": {},
     "output_type": "execute_result"
    }
   ],
   "source": [
    "# From the first three words of the word_list variable, create a dictionary with three entries.\n",
    "\n",
    "# For each entry:\n",
    "#   the keyword will be the word\n",
    "#   the value will be the length of the string (calculate it with `len()`)\n",
    "\n",
    "# (if you know them, you can use for loops)\n"
   ]
  },
  {
   "cell_type": "markdown",
   "id": "e0c52ebb",
   "metadata": {},
   "source": [
    "#### 0.1.2 Tuples"
   ]
  },
  {
   "cell_type": "code",
   "execution_count": 3,
   "id": "61ae9855",
   "metadata": {},
   "outputs": [
    {
     "ename": "TypeError",
     "evalue": "'tuple' object does not support item assignment",
     "output_type": "error",
     "traceback": [
      "\u001b[0;31m---------------------------------------------------------------------------\u001b[0m",
      "\u001b[0;31mTypeError\u001b[0m                                 Traceback (most recent call last)",
      "Cell \u001b[0;32mIn[3], line 5\u001b[0m\n\u001b[1;32m      2\u001b[0m word_tuple \u001b[38;5;241m=\u001b[39m \u001b[38;5;28mtuple\u001b[39m(word_list)\n\u001b[1;32m      4\u001b[0m \u001b[38;5;66;03m# Can you change the first element of the tuple? Can you try appending new values? Can you use the +/* operators? \u001b[39;00m\n\u001b[0;32m----> 5\u001b[0m \u001b[43mword_tuple\u001b[49m\u001b[43m[\u001b[49m\u001b[38;5;241;43m0\u001b[39;49m\u001b[43m]\u001b[49m \u001b[38;5;241m=\u001b[39m \u001b[38;5;124m\"\u001b[39m\u001b[38;5;124mnew_word\u001b[39m\u001b[38;5;124m\"\u001b[39m  \u001b[38;5;66;03m# try changing the values will result in a value error\u001b[39;00m\n",
      "\u001b[0;31mTypeError\u001b[0m: 'tuple' object does not support item assignment"
     ]
    }
   ],
   "source": [
    "# Convert to a tuple the word list `word_list` defined above.\n",
    "word_tuple = ...\n",
    "\n",
    "# Can you change the first element of the tuple? Can you try appending new values? \n",
    "# Can you use the +/* operators? \n"
   ]
  },
  {
   "cell_type": "markdown",
   "id": "c7a1589a",
   "metadata": {},
   "source": [
    "#### 0.1.3 Sets"
   ]
  },
  {
   "cell_type": "code",
   "execution_count": 14,
   "id": "f215b3a8",
   "metadata": {},
   "outputs": [
    {
     "data": {
      "text/plain": [
       "False"
      ]
     },
     "execution_count": 14,
     "metadata": {},
     "output_type": "execute_result"
    }
   ],
   "source": [
    "# We want to know if two lists of values contain the same items.\n",
    "\n",
    "items_list1 = [20, 19, 32, 1, 3, 45, 2, 5, 4, 12, 7]\n",
    "items_list2 = [45, 2, 12, 19, 32, 4, 7, 3, 5, 1, 20]\n",
    "\n",
    "# Can we just check if the lists are the same with a `==` operation? If no, why?\n"
   ]
  },
  {
   "cell_type": "code",
   "execution_count": 16,
   "id": "8f249317",
   "metadata": {},
   "outputs": [
    {
     "data": {
      "text/plain": [
       "True"
      ]
     },
     "execution_count": 16,
     "metadata": {},
     "output_type": "execute_result"
    }
   ],
   "source": [
    "# Try then to convert them to set before performing the comparison:\n"
   ]
  },
  {
   "cell_type": "code",
   "execution_count": 5,
   "id": "885efb60",
   "metadata": {},
   "outputs": [],
   "source": [
    "# Use sets operations to find the a place that might fit the preferences of Mark, Melissa and Mattew:\n",
    "mark_top_three = [\"Putipù\", \"Pizzangolo\", \"Christian\"]\n",
    "melissa_top_three = [\"Dogali\", \"Christian\", \"River\"]\n",
    "mattew_top_three = [\"Christian\", \"Putipù\", \"Pizzangolo\"]\n"
   ]
  },
  {
   "cell_type": "code",
   "execution_count": null,
   "id": "694c734b",
   "metadata": {},
   "outputs": [],
   "source": [
    "# Combine what you know about sets and strings and test if word1 is an anagram of word2:\n",
    "word1 = \"listen\"\n",
    "word2 = \"silent\"\n",
    "\n",
    "... \n",
    "\n"
   ]
  },
  {
   "cell_type": "code",
   "execution_count": null,
   "id": "02b8eeca",
   "metadata": {},
   "outputs": [],
   "source": []
  }
 ],
 "metadata": {
  "kernelspec": {
   "display_name": "Python 3 (ipykernel)",
   "language": "python",
   "name": "python3"
  },
  "language_info": {
   "codemirror_mode": {
    "name": "ipython",
    "version": 3
   },
   "file_extension": ".py",
   "mimetype": "text/x-python",
   "name": "python",
   "nbconvert_exporter": "python",
   "pygments_lexer": "ipython3",
   "version": "3.11.6"
  }
 },
 "nbformat": 4,
 "nbformat_minor": 5
}
