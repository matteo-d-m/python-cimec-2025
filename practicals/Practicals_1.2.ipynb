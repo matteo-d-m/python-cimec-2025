{
 "cells": [
  {
   "cell_type": "markdown",
   "id": "c6cb4678",
   "metadata": {},
   "source": [
    "# Practicals for lecture 1.2\n",
    "\n",
    "[![Open In Colab](https://colab.research.google.com/assets/colab-badge.svg)](https://colab.research.google.com/github/vigji/python-cimec-2025/blob/main/practicals/Practicals_1.2.ipynb)"
   ]
  },
  {
   "cell_type": "markdown",
   "id": "65a0bb4d",
   "metadata": {},
   "source": [
    "#### 1.2.0 "
   ]
  },
  {
   "cell_type": "code",
   "execution_count": 2,
   "id": "f572e5f3",
   "metadata": {},
   "outputs": [],
   "source": [
    "import numpy as np\n",
    "import pandas as pd\n",
    "from matplotlib import pyplot as plt"
   ]
  },
  {
   "cell_type": "code",
   "execution_count": null,
   "id": "46dbd51b",
   "metadata": {},
   "outputs": [],
   "source": [
    "def generate_RT_data(n_subjects=200, n_samples_per_subject=1000):\n",
    "    \"\"\"Generates Reaction Time data for a given number of subjects\"\"\"\n",
    "    np.random.seed(0)  # For reproducibility\n",
    "    shift = 0.500  # Shift of the distribution\n",
    "    # Initialize an empty array to store the RT times for all subjects\n",
    "    RT_data = np.empty((n_subjects, n_samples_per_subject))\n",
    "    \n",
    "    for i in range(n_subjects):\n",
    "        # Assuming mu ranges from 90 to 110 and sigma from 10 to 20 for the subjects\n",
    "        mu = np.random.uniform(0.090, 0.110)\n",
    "        sigma = np.random.uniform(0.10, 0.20)\n",
    "        RT_data[i] = np.random.normal(mu, sigma, n_samples_per_subject) + shift\n",
    "    \n",
    "    return RT_data\n",
    "\n",
    "# This is our data matrix (200 subjects, 1000 RTs each)\n",
    "rt_data = generate_RT_data()\n",
    "\n",
    "# Assume that w consider outliers the RTs longer than 0.7 seconds. \n",
    "# Compute again the mean RTs after having excluded such outliers (make sure you use only vector operations)\n",
    "\n",
    "# (Hint: an easy way to exclude outliers without using loops is by setting nans in the matrix)\n"
   ]
  },
  {
   "cell_type": "code",
   "execution_count": null,
   "id": "75f181c7",
   "metadata": {},
   "outputs": [],
   "source": [
    "# Find the shortest RT of the whole dataset; then, find its index to know the subject and the trial number:\n"
   ]
  },
  {
   "cell_type": "code",
   "execution_count": null,
   "id": "ba8f66c1",
   "metadata": {},
   "outputs": [],
   "source": [
    "def download_meteo_data(start_date=\"2022-01-01\", end_date=\"2022-12-31\",\n",
    "                        latitude=\"45.88204\", longitude=\"11.03647\",\n",
    "                        data=\"temperature_2m\"):\n",
    "    \"\"\"Download meteo historical data from open-meteo.com.\"\"\"\n",
    "\n",
    "    import requests\n",
    "    import json\n",
    "\n",
    "    BASE_URL = \"https://archive-api.open-meteo.com/v1/\"\n",
    "    query = f\"archive?latitude={latitude}&longitude={longitude}&start_date={start_date}&end_date={end_date}&hourly={data}\"\n",
    "\n",
    "    r = requests.get(BASE_URL + query)\n",
    "    json_dict = json.loads(r.text)\n",
    "    \n",
    "    if \"hourly\" not in json_dict.keys():\n",
    "        print(json_dict)\n",
    "        return None, None\n",
    "    else:\n",
    "        return np.array(json_dict[\"hourly\"][\"time\"]).reshape(-1, 24), np.array(json_dict[\"hourly\"][data]).reshape(-1, 24)\n",
    "\n",
    "# Find the index for the highest temperature in the temperature_array.\n",
    "# Then, apply the index you have found over timestamps_array to read out the corresponding timestamp(s).\n",
    "\n",
    "# (Hint:\n",
    "# Remember, you have to either: \n",
    "#  - use np.argmax, and to work with the flattened() arrays when using the index you found;\n",
    "#  - find maximum value using np.max, and then use np.nonzero to get the indexes of values \n",
    "#    equal to the max over both dimensions of the array)\n",
    "\n",
    "timestamps_array, temperatures_array = download_meteo_data()"
   ]
  },
  {
   "cell_type": "code",
   "execution_count": 4,
   "id": "7cabb529",
   "metadata": {},
   "outputs": [],
   "source": [
    "# The following code gives you a matrix of zeros and ones:\n",
    "import numpy as np\n",
    "np.random.seed(42)\n",
    "data = np.random.randint(0, 2, size=(5, 6))\n",
    "\n",
    "\n",
    "# Find the rows and columns of all the ones in the matrix:"
   ]
  },
  {
   "cell_type": "code",
   "execution_count": null,
   "id": "3270e47c",
   "metadata": {},
   "outputs": [],
   "source": [
    "# Then, replace them with nans using the indexes you found; \n",
    "# can you do it without changing the dtype of the array?"
   ]
  },
  {
   "cell_type": "code",
   "execution_count": null,
   "id": "d1f2d9a1",
   "metadata": {},
   "outputs": [],
   "source": [
    "# This array represents a stupid example signal with some noise.\n",
    "# Without using loops, find the indexes of the peaks in the signal.\n",
    "# Peaks are defined as consecutive numbers in the array that are larger than the numbers immediately before and after them.\n",
    "\n",
    "signal = np.array([1, 3, 7, 1, 2, 6, 0, 1])"
   ]
  },
  {
   "cell_type": "markdown",
   "id": "7e16a0ce",
   "metadata": {},
   "source": [
    "#### Practicals 1.2.1"
   ]
  },
  {
   "cell_type": "code",
   "execution_count": null,
   "id": "cfdcefb1",
   "metadata": {},
   "outputs": [],
   "source": [
    "# Now compute the 1D array of average temperatures per day.\n",
    "# Build a boolean selector to filter all mean temperatures above 10 and below 25 degrees:\n"
   ]
  },
  {
   "cell_type": "code",
   "execution_count": 44,
   "id": "bc7a812e",
   "metadata": {},
   "outputs": [],
   "source": [
    "# For the array of integer numbers below, use array boolean operations to filter out the numbers that \n",
    "# are greater than 5 AND less than 8, OR that are multiple of 7.\n",
    "# USe the selector to create a new array with the included numbers.\n",
    "np.random.seed(42)\n",
    "an_array = np.random.randint(0, 10, 100)\n"
   ]
  },
  {
   "cell_type": "code",
   "execution_count": null,
   "id": "653fc7b8",
   "metadata": {},
   "outputs": [],
   "source": [
    "# We can use the np.argsort() function to produce the indexes array required to\n",
    "# order an array in ascending or descending values.\n",
    "\n",
    "# For example:\n",
    "random_arr = np.array([0.1, 5, 3.4, 2.3])\n",
    "ordering_idxs = np.argsort(random_arr)\n",
    "random_arr[ordering_idxs]  # with this index, this is now ordered!\n",
    "\n",
    "# Let's make a ranking of the 5 warmest hours of the dataset!\n",
    "# Sort the (flattened) temperature array using the indexes produced by np.argsort.\n",
    "# so that the first elements are the highest temperatures.\n",
    "# Then sort the timestamps array with the same indexes, and take the first 5.\n",
    "#\n",
    "# Double check you match the result that you have got in the exercises above!"
   ]
  },
  {
   "cell_type": "markdown",
   "id": "472faa0d",
   "metadata": {},
   "source": [
    "#### 1.2.2 Introduction to `pandas` DataFrames"
   ]
  },
  {
   "cell_type": "code",
   "execution_count": 45,
   "id": "9be7cc7a",
   "metadata": {},
   "outputs": [],
   "source": [
    "import pandas as pd"
   ]
  },
  {
   "cell_type": "code",
   "execution_count": null,
   "id": "9dfb088f",
   "metadata": {},
   "outputs": [],
   "source": [
    "# Consider the following dataset with info about subject in an experiment:\n",
    "np.random.seed(42)\n",
    "n_subjects = 100\n",
    "subjects_df = pd.DataFrame({\n",
    "    'age': np.random.randint(20, 40, n_subjects),\n",
    "    'weight': np.random.randint(50, 100, n_subjects),\n",
    "    'height': np.random.randint(150, 200, n_subjects),\n",
    "    'sex': np.random.choice(['M', 'F'], n_subjects),\n",
    "    'handedness': np.random.choice(['R', 'L'], n_subjects),\n",
    "    'group': np.random.choice(['control', 'patient'], n_subjects)})\n",
    "\n",
    "subjects_df.head()"
   ]
  },
  {
   "cell_type": "code",
   "execution_count": null,
   "id": "0e56c387",
   "metadata": {},
   "outputs": [],
   "source": [
    "# Select the first two rows of the dataframe:\n"
   ]
  },
  {
   "cell_type": "code",
   "execution_count": null,
   "id": "abeaa819",
   "metadata": {},
   "outputs": [],
   "source": [
    "# Select the column of the dataframe containing the subjects weight using the name of the column:\n"
   ]
  },
  {
   "cell_type": "code",
   "execution_count": null,
   "id": "dced9106",
   "metadata": {},
   "outputs": [],
   "source": [
    "# Select the `weight` column of the dataframe filtering only rows of subjects > 34 years old:\n"
   ]
  },
  {
   "cell_type": "code",
   "execution_count": null,
   "id": "1a597fed",
   "metadata": {},
   "outputs": [],
   "source": [
    "# Count how many males and how many females above age 30 are left-handed or right handed.\n",
    "# (Hint: use the same element-wise operators we were using for numpy arrays)\n"
   ]
  },
  {
   "cell_type": "code",
   "execution_count": null,
   "id": "2d753478",
   "metadata": {},
   "outputs": [],
   "source": [
    "# Use .iloc to select one every two rows for the first 3 columns:\n"
   ]
  },
  {
   "cell_type": "code",
   "execution_count": null,
   "id": "5446f27b",
   "metadata": {},
   "outputs": [],
   "source": [
    "# Redefine the dataset index to be \"subject_n_sex\" \n",
    "# (where n is progressive number of the subject and sex the sex of the subject)\n"
   ]
  },
  {
   "cell_type": "markdown",
   "id": "6906d54a",
   "metadata": {},
   "source": [
    "#### 1.2.2"
   ]
  },
  {
   "cell_type": "code",
   "execution_count": null,
   "id": "93c787e1",
   "metadata": {},
   "outputs": [
    {
     "data": {
      "text/html": [
       "<div>\n",
       "<style scoped>\n",
       "    .dataframe tbody tr th:only-of-type {\n",
       "        vertical-align: middle;\n",
       "    }\n",
       "\n",
       "    .dataframe tbody tr th {\n",
       "        vertical-align: top;\n",
       "    }\n",
       "\n",
       "    .dataframe thead th {\n",
       "        text-align: right;\n",
       "    }\n",
       "</style>\n",
       "<table border=\"1\" class=\"dataframe\">\n",
       "  <thead>\n",
       "    <tr style=\"text-align: right;\">\n",
       "      <th></th>\n",
       "      <th>age</th>\n",
       "      <th>weight</th>\n",
       "      <th>height</th>\n",
       "      <th>sex</th>\n",
       "      <th>handedness</th>\n",
       "      <th>group</th>\n",
       "    </tr>\n",
       "  </thead>\n",
       "  <tbody>\n",
       "    <tr>\n",
       "      <th>0</th>\n",
       "      <td>26</td>\n",
       "      <td>84</td>\n",
       "      <td>175</td>\n",
       "      <td>M</td>\n",
       "      <td>L</td>\n",
       "      <td>patient</td>\n",
       "    </tr>\n",
       "    <tr>\n",
       "      <th>1</th>\n",
       "      <td>39</td>\n",
       "      <td>93</td>\n",
       "      <td>181</td>\n",
       "      <td>M</td>\n",
       "      <td>R</td>\n",
       "      <td>patient</td>\n",
       "    </tr>\n",
       "    <tr>\n",
       "      <th>2</th>\n",
       "      <td>34</td>\n",
       "      <td>89</td>\n",
       "      <td>155</td>\n",
       "      <td>F</td>\n",
       "      <td>L</td>\n",
       "      <td>patient</td>\n",
       "    </tr>\n",
       "    <tr>\n",
       "      <th>3</th>\n",
       "      <td>30</td>\n",
       "      <td>71</td>\n",
       "      <td>181</td>\n",
       "      <td>M</td>\n",
       "      <td>R</td>\n",
       "      <td>patient</td>\n",
       "    </tr>\n",
       "    <tr>\n",
       "      <th>4</th>\n",
       "      <td>27</td>\n",
       "      <td>76</td>\n",
       "      <td>153</td>\n",
       "      <td>F</td>\n",
       "      <td>L</td>\n",
       "      <td>control</td>\n",
       "    </tr>\n",
       "  </tbody>\n",
       "</table>\n",
       "</div>"
      ],
      "text/plain": [
       "   age  weight  height sex handedness    group\n",
       "0   26      84     175   M          L  patient\n",
       "1   39      93     181   M          R  patient\n",
       "2   34      89     155   F          L  patient\n",
       "3   30      71     181   M          R  patient\n",
       "4   27      76     153   F          L  control"
      ]
     },
     "metadata": {},
     "output_type": "display_data"
    }
   ],
   "source": [
    "# Create a dataframe from the following info about subject in an experiment:\n",
    "np.random.seed(42)\n",
    "n_subjects = 100\n",
    "subjects_data_dictionary = {\n",
    "    'age': np.random.randint(20, 40, n_subjects),\n",
    "    'weight': np.random.randint(50, 100, n_subjects),\n",
    "    'height': np.random.randint(150, 200, n_subjects),\n",
    "    'sex': np.random.choice(['M', 'F'], n_subjects),\n",
    "    'handedness': np.random.choice(['R', 'L'], n_subjects),\n",
    "    'group': np.random.choice(['control', 'patient'], n_subjects)}\n"
   ]
  },
  {
   "cell_type": "code",
   "execution_count": null,
   "id": "82b97923",
   "metadata": {},
   "outputs": [
    {
     "data": {
      "text/html": [
       "<div>\n",
       "<style scoped>\n",
       "    .dataframe tbody tr th:only-of-type {\n",
       "        vertical-align: middle;\n",
       "    }\n",
       "\n",
       "    .dataframe tbody tr th {\n",
       "        vertical-align: top;\n",
       "    }\n",
       "\n",
       "    .dataframe thead th {\n",
       "        text-align: right;\n",
       "    }\n",
       "</style>\n",
       "<table border=\"1\" class=\"dataframe\">\n",
       "  <thead>\n",
       "    <tr style=\"text-align: right;\">\n",
       "      <th></th>\n",
       "      <th>age</th>\n",
       "      <th>weight</th>\n",
       "      <th>height</th>\n",
       "      <th>sex</th>\n",
       "      <th>handedness</th>\n",
       "      <th>group</th>\n",
       "      <th>height_m</th>\n",
       "      <th>BMI</th>\n",
       "    </tr>\n",
       "  </thead>\n",
       "  <tbody>\n",
       "    <tr>\n",
       "      <th>0</th>\n",
       "      <td>26</td>\n",
       "      <td>84</td>\n",
       "      <td>175</td>\n",
       "      <td>M</td>\n",
       "      <td>L</td>\n",
       "      <td>patient</td>\n",
       "      <td>1.75</td>\n",
       "      <td>27.428571</td>\n",
       "    </tr>\n",
       "    <tr>\n",
       "      <th>1</th>\n",
       "      <td>39</td>\n",
       "      <td>93</td>\n",
       "      <td>181</td>\n",
       "      <td>M</td>\n",
       "      <td>R</td>\n",
       "      <td>patient</td>\n",
       "      <td>1.81</td>\n",
       "      <td>28.387412</td>\n",
       "    </tr>\n",
       "    <tr>\n",
       "      <th>2</th>\n",
       "      <td>34</td>\n",
       "      <td>89</td>\n",
       "      <td>155</td>\n",
       "      <td>F</td>\n",
       "      <td>L</td>\n",
       "      <td>patient</td>\n",
       "      <td>1.55</td>\n",
       "      <td>37.044745</td>\n",
       "    </tr>\n",
       "    <tr>\n",
       "      <th>3</th>\n",
       "      <td>30</td>\n",
       "      <td>71</td>\n",
       "      <td>181</td>\n",
       "      <td>M</td>\n",
       "      <td>R</td>\n",
       "      <td>patient</td>\n",
       "      <td>1.81</td>\n",
       "      <td>21.672110</td>\n",
       "    </tr>\n",
       "    <tr>\n",
       "      <th>4</th>\n",
       "      <td>27</td>\n",
       "      <td>76</td>\n",
       "      <td>153</td>\n",
       "      <td>F</td>\n",
       "      <td>L</td>\n",
       "      <td>control</td>\n",
       "      <td>1.53</td>\n",
       "      <td>32.466145</td>\n",
       "    </tr>\n",
       "  </tbody>\n",
       "</table>\n",
       "</div>"
      ],
      "text/plain": [
       "   age  weight  height sex handedness    group  height_m        BMI\n",
       "0   26      84     175   M          L  patient      1.75  27.428571\n",
       "1   39      93     181   M          R  patient      1.81  28.387412\n",
       "2   34      89     155   F          L  patient      1.55  37.044745\n",
       "3   30      71     181   M          R  patient      1.81  21.672110\n",
       "4   27      76     153   F          L  control      1.53  32.466145"
      ]
     },
     "metadata": {},
     "output_type": "display_data"
    }
   ],
   "source": [
    "# We can calculate the BMI as :\n",
    "# (body weight in kgs) /  ( (height in meters) ** 2) \n",
    "\n",
    "# Define a new column where you compute the BMI for every subject:\n"
   ]
  },
  {
   "cell_type": "code",
   "execution_count": null,
   "id": "3a2cda45",
   "metadata": {},
   "outputs": [
    {
     "data": {
      "text/html": [
       "<div>\n",
       "<style scoped>\n",
       "    .dataframe tbody tr th:only-of-type {\n",
       "        vertical-align: middle;\n",
       "    }\n",
       "\n",
       "    .dataframe tbody tr th {\n",
       "        vertical-align: top;\n",
       "    }\n",
       "\n",
       "    .dataframe thead th {\n",
       "        text-align: right;\n",
       "    }\n",
       "</style>\n",
       "<table border=\"1\" class=\"dataframe\">\n",
       "  <thead>\n",
       "    <tr style=\"text-align: right;\">\n",
       "      <th></th>\n",
       "      <th>string_data</th>\n",
       "      <th>int_data</th>\n",
       "      <th>float_data</th>\n",
       "    </tr>\n",
       "  </thead>\n",
       "  <tbody>\n",
       "    <tr>\n",
       "      <th>0</th>\n",
       "      <td>cabbage</td>\n",
       "      <td>1</td>\n",
       "      <td>0.1</td>\n",
       "    </tr>\n",
       "    <tr>\n",
       "      <th>1</th>\n",
       "      <td>artichoke</td>\n",
       "      <td>2</td>\n",
       "      <td>0.2</td>\n",
       "    </tr>\n",
       "    <tr>\n",
       "      <th>2</th>\n",
       "      <td>banana</td>\n",
       "      <td>3</td>\n",
       "      <td>0.3</td>\n",
       "    </tr>\n",
       "    <tr>\n",
       "      <th>3</th>\n",
       "      <td>avocado</td>\n",
       "      <td>4</td>\n",
       "      <td>0.4</td>\n",
       "    </tr>\n",
       "    <tr>\n",
       "      <th>4</th>\n",
       "      <td>apple</td>\n",
       "      <td>5</td>\n",
       "      <td>0.5</td>\n",
       "    </tr>\n",
       "  </tbody>\n",
       "</table>\n",
       "</div>"
      ],
      "text/plain": [
       "  string_data  int_data  float_data\n",
       "0     cabbage         1         0.1\n",
       "1   artichoke         2         0.2\n",
       "2      banana         3         0.3\n",
       "3     avocado         4         0.4\n",
       "4       apple         5         0.5"
      ]
     },
     "metadata": {},
     "output_type": "display_data"
    }
   ],
   "source": [
    "string_data = ['cabbage', 'artichoke', 'banana', 'avocado', 'apple', 'orange']\n",
    "int_data = [1, 2, 3, 4, 5, 6]\n",
    "float_data = [0.1, 0.2, 0.3, 0.4, 0.5, 0.6]\n",
    "\n",
    "# organize the data above in a dictionary and from it define a new DataFrame:\n"
   ]
  },
  {
   "cell_type": "code",
   "execution_count": null,
   "id": "d800681a",
   "metadata": {},
   "outputs": [
    {
     "data": {
      "text/html": [
       "<div>\n",
       "<style scoped>\n",
       "    .dataframe tbody tr th:only-of-type {\n",
       "        vertical-align: middle;\n",
       "    }\n",
       "\n",
       "    .dataframe tbody tr th {\n",
       "        vertical-align: top;\n",
       "    }\n",
       "\n",
       "    .dataframe thead th {\n",
       "        text-align: right;\n",
       "    }\n",
       "</style>\n",
       "<table border=\"1\" class=\"dataframe\">\n",
       "  <thead>\n",
       "    <tr style=\"text-align: right;\">\n",
       "      <th></th>\n",
       "      <th>string_data</th>\n",
       "      <th>int_data</th>\n",
       "      <th>float_data</th>\n",
       "    </tr>\n",
       "  </thead>\n",
       "  <tbody>\n",
       "    <tr>\n",
       "      <th>0</th>\n",
       "      <td>cabbage</td>\n",
       "      <td>1</td>\n",
       "      <td>0.1</td>\n",
       "    </tr>\n",
       "    <tr>\n",
       "      <th>1</th>\n",
       "      <td>artichoke</td>\n",
       "      <td>2</td>\n",
       "      <td>0.2</td>\n",
       "    </tr>\n",
       "    <tr>\n",
       "      <th>2</th>\n",
       "      <td>banana</td>\n",
       "      <td>3</td>\n",
       "      <td>0.3</td>\n",
       "    </tr>\n",
       "    <tr>\n",
       "      <th>3</th>\n",
       "      <td>avocado</td>\n",
       "      <td>4</td>\n",
       "      <td>0.4</td>\n",
       "    </tr>\n",
       "    <tr>\n",
       "      <th>4</th>\n",
       "      <td>apple</td>\n",
       "      <td>5</td>\n",
       "      <td>0.5</td>\n",
       "    </tr>\n",
       "    <tr>\n",
       "      <th>5</th>\n",
       "      <td>orange</td>\n",
       "      <td>6</td>\n",
       "      <td>0.6</td>\n",
       "    </tr>\n",
       "  </tbody>\n",
       "</table>\n",
       "</div>"
      ],
      "text/plain": [
       "  string_data  int_data  float_data\n",
       "0     cabbage         1         0.1\n",
       "1   artichoke         2         0.2\n",
       "2      banana         3         0.3\n",
       "3     avocado         4         0.4\n",
       "4       apple         5         0.5\n",
       "5      orange         6         0.6"
      ]
     },
     "metadata": {},
     "output_type": "display_data"
    }
   ],
   "source": [
    "# Now, reorganize the data in a list of dictionaries \n",
    "# (one for every row) and from it define a new DataFrame:\n",
    "\n"
   ]
  },
  {
   "cell_type": "code",
   "execution_count": null,
   "id": "c1180f7f",
   "metadata": {},
   "outputs": [
    {
     "data": {
      "text/html": [
       "<div>\n",
       "<style scoped>\n",
       "    .dataframe tbody tr th:only-of-type {\n",
       "        vertical-align: middle;\n",
       "    }\n",
       "\n",
       "    .dataframe tbody tr th {\n",
       "        vertical-align: top;\n",
       "    }\n",
       "\n",
       "    .dataframe thead th {\n",
       "        text-align: right;\n",
       "    }\n",
       "</style>\n",
       "<table border=\"1\" class=\"dataframe\">\n",
       "  <thead>\n",
       "    <tr style=\"text-align: right;\">\n",
       "      <th></th>\n",
       "      <th>age</th>\n",
       "      <th>weight</th>\n",
       "      <th>height</th>\n",
       "      <th>sex</th>\n",
       "      <th>handedness</th>\n",
       "      <th>group</th>\n",
       "    </tr>\n",
       "  </thead>\n",
       "  <tbody>\n",
       "    <tr>\n",
       "      <th>0</th>\n",
       "      <td>25</td>\n",
       "      <td>78</td>\n",
       "      <td>170</td>\n",
       "      <td>M</td>\n",
       "      <td>R</td>\n",
       "      <td>patient</td>\n",
       "    </tr>\n",
       "  </tbody>\n",
       "</table>\n",
       "</div>"
      ],
      "text/plain": [
       "   age  weight  height sex handedness    group\n",
       "0   25      78     170   M          R  patient"
      ]
     },
     "metadata": {},
     "output_type": "display_data"
    }
   ],
   "source": [
    "# Extend the subject dataset above adding two subjects for which you have the following info:\n",
    "# (Hint: start by defining a new dataframe, and then concatenate it)\n",
    "\n",
    "new_subject1 = {'age': 25,\n",
    "    'weight': 78,\n",
    "    'height': 170,\n",
    "    'sex': \"M\",\n",
    "    'handedness': \"R\",\n",
    "    'group': \"patient\"}\n",
    "new_subject2 = {'age': 35,\n",
    "    'weight': 65,\n",
    "    'height': 165,\n",
    "    'sex': \"F\",\n",
    "    'handedness': \"R\",\n",
    "    'group': \"control\"}\n",
    "\n",
    "# Make sure the new dataset has univoque indexing! \n"
   ]
  },
  {
   "cell_type": "code",
   "execution_count": null,
   "id": "71fba63b",
   "metadata": {},
   "outputs": [],
   "source": [
    "# [Advanced]\n",
    "# In the above exercise, we're 'adding new rows\" to our dataframe with pd.concat.\n",
    "# Is this process truly modifying the original subjects_df object or are we creating a new object in memory? Write down your guess then verify it using python's \"is\" keyword.\n",
    "# (as in \"df_a is df_b\"; will return True if df_a and df_b are the same object in memory)\n",
    "\n",
    "# Based on this information, would it be efficient to add a large number of subjects to a dataframe in a for loop using pd.concat?\n"
   ]
  },
  {
   "cell_type": "code",
   "execution_count": null,
   "id": "6005f7fe",
   "metadata": {},
   "outputs": [],
   "source": [
    "# Iteratively growing a dataframe\n",
    "# write 4 different functions for iteratively adding subject numbers (from 1 to 100) row by row to an empty dataframe\n",
    "# to be clear, the final output is a dataframe with column name \"subject\" and 100 rows [0,1,2,...100] - very simple output but we want to know which approach is most efficient\n",
    "\n",
    "\n",
    "def append_with_concat():\n",
    "  df = pd.DataFrame(columns = ['subject']) # create an empty dataframe with only the column name\n",
    "  for subject_num in range(100):\n",
    "     ...\n",
    "    #create a dataframe to store subject_num (i.e. 1 row), and add it to df using pd.concat\"\n",
    "\n",
    "def collect_dfs_then_concat():\n",
    "  list_of_dfs = []\n",
    "  for subject_num in range(100):\n",
    "     ...\n",
    "    #create a dataframe to store subject_num (i.e. 1 row) then add this dataframe to the list_of_dfs\n",
    "  #outside the for loop, combine all the dfs from the list_of_dfs as well as the empty one into a single df with pd.concat\n",
    "\n",
    "def append_to_list_then_convert_to_df():\n",
    "  list_of_subject_nums = []\n",
    "  for subject_num in range(100):\n",
    "     ...\n",
    "    #append to the list\n",
    "  #outside the for loop, convert the list to a df\n",
    "\n",
    "def preallocate_numpy_array():\n",
    "    array = np.zeros((100, 1))\n",
    "    for subject_num in range(100):\n",
    "       ...\n",
    "        #replace the zeros in the array with the subject_num\n",
    "    #outside the for loop, convert the array into a df"
   ]
  },
  {
   "cell_type": "code",
   "execution_count": null,
   "id": "c2f1fe2d",
   "metadata": {},
   "outputs": [],
   "source": [
    "# let's compare how fast each option is!\n",
    "%timeit append_with_concat()\n",
    "%timeit collect_dfs_then_concat()\n",
    "%timeit append_to_list_then_convert_to_df()\n",
    "%timeit preallocate_numpy_array()\n",
    "# the example was ridiculously simple (100 rows and 1 column) so if you're working with a larger dataset you'll feel the difference between these even more\n",
    "# in general, you should really avoid appending to a dataframe. If you need to iteratively construct a data container, work with lists, arrays or dicts then only convert to\n",
    "# dataframes at the end for extracting info from your final dataframe"
   ]
  }
 ],
 "metadata": {
  "kernelspec": {
   "display_name": "course-env",
   "language": "python",
   "name": "python3"
  },
  "language_info": {
   "codemirror_mode": {
    "name": "ipython",
    "version": 3
   },
   "file_extension": ".py",
   "mimetype": "text/x-python",
   "name": "python",
   "nbconvert_exporter": "python",
   "pygments_lexer": "ipython3",
   "version": "3.10.13"
  }
 },
 "nbformat": 4,
 "nbformat_minor": 5
}
