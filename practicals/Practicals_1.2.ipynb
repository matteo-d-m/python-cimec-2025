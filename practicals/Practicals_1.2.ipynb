{
 "cells": [
  {
   "cell_type": "markdown",
   "id": "c6cb4678",
   "metadata": {},
   "source": [
    "# Practicals for lecture 1.2\n",
    "\n",
    "[![Open In Colab](https://colab.research.google.com/assets/colab-badge.svg)](https://colab.research.google.com/github/vigji/python-cimec-2025/blob/main/practicals/Practicals_1.2.ipynb)"
   ]
  },
  {
   "cell_type": "markdown",
   "id": "65a0bb4d",
   "metadata": {},
   "source": [
    "#### 1.1.3 "
   ]
  },
  {
   "cell_type": "code",
   "execution_count": null,
   "id": "46dbd51b",
   "metadata": {},
   "outputs": [],
   "source": [
    "# Go back to the RT data. Assume that w consider outliers the RTs longer than 0.7 seconds. \n",
    "# Compute again the mean RTs after having excluded such outliers, but make sure you use only vector operations!\n",
    "\n",
    "# (Hint: an easy way to exclude outliers without using loops is by setting nans in the matrix)\n"
   ]
  },
  {
   "cell_type": "code",
   "execution_count": null,
   "id": "4b11fd1a",
   "metadata": {},
   "outputs": [],
   "source": [
    "# Find the index of the subject with the shortest trial reaction time of the whole dataset \n",
    "# (not shortest average!)\n",
    "# (Hint: you will need two operations...)\n",
    "\n"
   ]
  },
  {
   "cell_type": "code",
   "execution_count": null,
   "id": "ba8f66c1",
   "metadata": {},
   "outputs": [],
   "source": [
    "# Use argmax to find the index of the warmest hour in the (non-reshaped) temperature_array.\n",
    "# Then, use the index over timestamps_array to read out the corresponding timestamp.\n",
    "timestamps_array, temperatures_array = download_meteo_data()"
   ]
  },
  {
   "cell_type": "code",
   "execution_count": null,
   "id": "e06c4d5f",
   "metadata": {},
   "outputs": [],
   "source": [
    "# (Bonus: we did not do this in class!)\n",
    "# We can use the np.argsort() function to produce the indexes array required to\n",
    "# order an array in ascending or descending values.\n",
    "\n",
    "# For example:\n",
    "random_arr = np.array([0.1, 5, 3.4, 2.3])\n",
    "ordering_idxs = np.argsort(random_arr)\n",
    "random_arr[ordering_idxs]  # with this index, this is now ordered!\n",
    "\n",
    "# Let's make a ranking of the 5 warmest hours of 2022! \n",
    "# Sort the (non-reshaped) temperature array using the indexes produced by np.argsort.\n",
    "# so that the first elements are the highest temperatures.\n",
    "# Then sort the imestamps array with the same indexes, and take the first 5.\n",
    "#\n",
    "# Double check you match the result that you have got in the exercises above!"
   ]
  },
  {
   "cell_type": "markdown",
   "id": "9f912d13",
   "metadata": {},
   "source": [
    "#### 1.2.0 "
   ]
  },
  {
   "cell_type": "code",
   "execution_count": 2,
   "id": "ef491f76",
   "metadata": {},
   "outputs": [],
   "source": [
    "import numpy as np\n",
    "import requests\n",
    "import json\n",
    "\n",
    "\n",
    "def generate_RT_data(n_subjects=200, n_samples_per_subject=1000):\n",
    "    \"\"\"\n",
    "    Generates Reaction Time data for a given number of subjects, each with their own distribution parameters.\n",
    "    \n",
    "    Parameters:\n",
    "    n_subjects (int): Number of subjects\n",
    "    n_samples_per_subject (int): Number of samples (RT times) per subject\n",
    "    \n",
    "    Returns:\n",
    "    np.ndarray: A 2D array where each row represents the RT times for a subject\n",
    "    \"\"\"\n",
    "    np.random.seed(0)  # For reproducibility\n",
    "    shift = 0.500  # Shift of the distribution\n",
    "    # Initialize an empty array to store the RT times for all subjects\n",
    "    RT_data = np.empty((n_subjects, n_samples_per_subject))\n",
    "    \n",
    "    for i in range(n_subjects):\n",
    "        # Assuming mu ranges from 90 to 110 and sigma from 10 to 20 for the subjects\n",
    "        mu = np.random.uniform(0.090, 0.110)\n",
    "        sigma = np.random.uniform(0.10, 0.20)\n",
    "        RT_data[i] = np.random.normal(mu, sigma, n_samples_per_subject) + shift\n",
    "    \n",
    "    return RT_data\n",
    "\n",
    "\n",
    "def download_meteo_data(start_date=\"2022-01-01\", end_date=\"2022-12-31\",\n",
    "                        latitude=\"45.88204\", longitude=\"11.03647\",\n",
    "                        data=\"temperature_2m\"):\n",
    "    \"\"\"Download meteo historical data from open-meteo.com.\n",
    "    \"\"\"\n",
    "    BASE_URL = \"https://archive-api.open-meteo.com/v1/\"\n",
    "    query = f\"archive?latitude={latitude}&longitude={longitude}&start_date={start_date}&end_date={end_date}&hourly={data}\"\n",
    "\n",
    "    r = requests.get(BASE_URL + query)\n",
    "    json_dict = json.loads(r.text)\n",
    "    \n",
    "    if \"hourly\" not in json_dict.keys():\n",
    "        print(json_dict)\n",
    "        return None, None\n",
    "    else:\n",
    "        return (np.array(json_dict[\"hourly\"][k]) for k in [\"time\", data])"
   ]
  },
  {
   "cell_type": "code",
   "execution_count": 30,
   "id": "55078aa5",
   "metadata": {},
   "outputs": [
    {
     "data": {
      "text/plain": [
       "1"
      ]
     },
     "execution_count": 30,
     "metadata": {},
     "output_type": "execute_result"
    }
   ],
   "source": [
    "# Find the index of the subject with the shortest trial reaction time of the whole dataset \n",
    "# (not shortest average!)\n",
    "# (Hint: you will need two operations...)\n",
    "# (You can read a second hint scrolling right in the cell:                                                                                               : you have to do one max and one argmax...)\n",
    "\n",
    "rt_data = generate_RT_data(n_subjects=10)\n",
    "rt_data.shape\n",
    "\n",
    "np.argmin(np.min(rt_data, axis=1))"
   ]
  },
  {
   "cell_type": "code",
   "execution_count": 37,
   "id": "e8dbe38f",
   "metadata": {},
   "outputs": [
    {
     "data": {
      "text/plain": [
       "'2022-07-22T13:00'"
      ]
     },
     "execution_count": 37,
     "metadata": {},
     "output_type": "execute_result"
    }
   ],
   "source": [
    "# Use argmax to find the index of the warmest hour in the (non-reshaped) temperature_array.\n",
    "# Then, use the index over timestamps_array to read out the corresponding timestamp.\n",
    "timestamps_array, temperatures_array = download_meteo_data()\n",
    "\n",
    "warmest_index = np.argmax(temperatures_array)\n",
    "timestamps_array[warmest_index]"
   ]
  },
  {
   "cell_type": "code",
   "execution_count": 43,
   "id": "50091306",
   "metadata": {},
   "outputs": [
    {
     "data": {
      "text/plain": [
       "array(['2022-07-22T11:00', '2022-07-25T13:00', '2022-07-26T12:00',\n",
       "       '2022-07-22T12:00', '2022-07-22T13:00'], dtype='<U16')"
      ]
     },
     "execution_count": 43,
     "metadata": {},
     "output_type": "execute_result"
    }
   ],
   "source": [
    "# We can use the np.argsort() function to produce the indexes array required to\n",
    "# order an array in ascending or descending values.\n",
    "\n",
    "# Let's make a ranking of the 5 warmest hours of 2022! \n",
    "# Sort the (non-reshaped) temperature array using the indexes produced by np.argsort.\n",
    "# so that the first elements are the highest temperatures.\n",
    "# Then sort the timestamps array with the same indexes, and take the first 5.\n",
    "sorted_by_temp_indexes = np.argsort(temperatures_array)\n",
    "timestamps_array[sorted_by_temp_indexes][-5:]"
   ]
  },
  {
   "cell_type": "code",
   "execution_count": null,
   "id": "cfdcefb1",
   "metadata": {},
   "outputs": [],
   "source": [
    "# Build a boolean selector to filter all temperatures above 10 and below 25 degrees:\n",
    "selector = (temperatures_array > 10) & (temperatures_array < 25)"
   ]
  },
  {
   "cell_type": "code",
   "execution_count": 62,
   "id": "b24cff3b",
   "metadata": {},
   "outputs": [
    {
     "data": {
      "text/plain": [
       "array([False, False, False, ..., False, False, False])"
      ]
     },
     "execution_count": 62,
     "metadata": {},
     "output_type": "execute_result"
    }
   ],
   "source": [
    "# (Bonus):\n",
    "# Let's do the same, but only for the months between january and March, and only for hours between 08 and 18.\n",
    "\n",
    "# To get the condition on month and hours, you will have to parse the timestamp string, or explore\n",
    "# the timedate library for more elegant solutions!\n",
    "from datetime import datetime\n",
    "\n",
    "timestamps_list = [datetime.fromisoformat(t) for t in timestamps_array]\n",
    "\n",
    "hours_array = np.array([timestamp.hour for timestamp in timestamps_list])\n",
    "month_array = np.array([timestamp.month for timestamp in timestamps_list])\n",
    "\n",
    "selector = (temperatures_array > 10) & (temperatures_array < 25) & \\\n",
    "            (hours_array > 8) & (hours_array < 18) & \\\n",
    "             (month_array < 3)\n",
    "selector"
   ]
  },
  {
   "cell_type": "code",
   "execution_count": 44,
   "id": "bc7a812e",
   "metadata": {},
   "outputs": [],
   "source": [
    "# (Bonus) Take the array of integer numbers below. Use array boolean operations to filter out the numbers that \n",
    "# are greater than 5 AND less than 8, OR that are multiple of 7.\n",
    "np.random.seed(42)\n",
    "an_array = np.random.randint(0, 10, 100)\n",
    "\n",
    "((an_array >  5) & (an_array < 8)) | (an_array % 7 == 0) "
   ]
  },
  {
   "cell_type": "markdown",
   "id": "2d2a4f38",
   "metadata": {},
   "source": [
    "## Introduction to `pandas`"
   ]
  },
  {
   "cell_type": "markdown",
   "id": "472faa0d",
   "metadata": {},
   "source": [
    "#### 1.2.1 DataFrames"
   ]
  },
  {
   "cell_type": "code",
   "execution_count": 45,
   "id": "9be7cc7a",
   "metadata": {},
   "outputs": [],
   "source": [
    "import pandas as pd"
   ]
  },
  {
   "cell_type": "code",
   "execution_count": 46,
   "id": "9dfb088f",
   "metadata": {},
   "outputs": [
    {
     "data": {
      "text/html": [
       "<div>\n",
       "<style scoped>\n",
       "    .dataframe tbody tr th:only-of-type {\n",
       "        vertical-align: middle;\n",
       "    }\n",
       "\n",
       "    .dataframe tbody tr th {\n",
       "        vertical-align: top;\n",
       "    }\n",
       "\n",
       "    .dataframe thead th {\n",
       "        text-align: right;\n",
       "    }\n",
       "</style>\n",
       "<table border=\"1\" class=\"dataframe\">\n",
       "  <thead>\n",
       "    <tr style=\"text-align: right;\">\n",
       "      <th></th>\n",
       "      <th>age</th>\n",
       "      <th>weight</th>\n",
       "      <th>height</th>\n",
       "      <th>sex</th>\n",
       "      <th>handedness</th>\n",
       "      <th>group</th>\n",
       "    </tr>\n",
       "  </thead>\n",
       "  <tbody>\n",
       "    <tr>\n",
       "      <th>0</th>\n",
       "      <td>26</td>\n",
       "      <td>84</td>\n",
       "      <td>175</td>\n",
       "      <td>M</td>\n",
       "      <td>L</td>\n",
       "      <td>patient</td>\n",
       "    </tr>\n",
       "    <tr>\n",
       "      <th>1</th>\n",
       "      <td>39</td>\n",
       "      <td>93</td>\n",
       "      <td>181</td>\n",
       "      <td>M</td>\n",
       "      <td>R</td>\n",
       "      <td>patient</td>\n",
       "    </tr>\n",
       "    <tr>\n",
       "      <th>2</th>\n",
       "      <td>34</td>\n",
       "      <td>89</td>\n",
       "      <td>155</td>\n",
       "      <td>F</td>\n",
       "      <td>L</td>\n",
       "      <td>patient</td>\n",
       "    </tr>\n",
       "    <tr>\n",
       "      <th>3</th>\n",
       "      <td>30</td>\n",
       "      <td>71</td>\n",
       "      <td>181</td>\n",
       "      <td>M</td>\n",
       "      <td>R</td>\n",
       "      <td>patient</td>\n",
       "    </tr>\n",
       "    <tr>\n",
       "      <th>4</th>\n",
       "      <td>27</td>\n",
       "      <td>76</td>\n",
       "      <td>153</td>\n",
       "      <td>F</td>\n",
       "      <td>L</td>\n",
       "      <td>control</td>\n",
       "    </tr>\n",
       "  </tbody>\n",
       "</table>\n",
       "</div>"
      ],
      "text/plain": [
       "   age  weight  height sex handedness    group\n",
       "0   26      84     175   M          L  patient\n",
       "1   39      93     181   M          R  patient\n",
       "2   34      89     155   F          L  patient\n",
       "3   30      71     181   M          R  patient\n",
       "4   27      76     153   F          L  control"
      ]
     },
     "execution_count": 46,
     "metadata": {},
     "output_type": "execute_result"
    }
   ],
   "source": [
    "# Consider the following dataset with info about subject in an experiment:\n",
    "np.random.seed(42)\n",
    "n_subjects = 100\n",
    "subjects_df = pd.DataFrame({\n",
    "    'age': np.random.randint(20, 40, n_subjects),\n",
    "    'weight': np.random.randint(50, 100, n_subjects),\n",
    "    'height': np.random.randint(150, 200, n_subjects),\n",
    "    'sex': np.random.choice(['M', 'F'], n_subjects),\n",
    "    'handedness': np.random.choice(['R', 'L'], n_subjects),\n",
    "    'group': np.random.choice(['control', 'patient'], n_subjects)})\n",
    "\n",
    "subjects_df.head()"
   ]
  },
  {
   "cell_type": "code",
   "execution_count": 47,
   "id": "0e56c387",
   "metadata": {},
   "outputs": [
    {
     "data": {
      "text/html": [
       "<div>\n",
       "<style scoped>\n",
       "    .dataframe tbody tr th:only-of-type {\n",
       "        vertical-align: middle;\n",
       "    }\n",
       "\n",
       "    .dataframe tbody tr th {\n",
       "        vertical-align: top;\n",
       "    }\n",
       "\n",
       "    .dataframe thead th {\n",
       "        text-align: right;\n",
       "    }\n",
       "</style>\n",
       "<table border=\"1\" class=\"dataframe\">\n",
       "  <thead>\n",
       "    <tr style=\"text-align: right;\">\n",
       "      <th></th>\n",
       "      <th>age</th>\n",
       "      <th>weight</th>\n",
       "      <th>height</th>\n",
       "      <th>sex</th>\n",
       "      <th>handedness</th>\n",
       "      <th>group</th>\n",
       "    </tr>\n",
       "  </thead>\n",
       "  <tbody>\n",
       "    <tr>\n",
       "      <th>0</th>\n",
       "      <td>26</td>\n",
       "      <td>84</td>\n",
       "      <td>175</td>\n",
       "      <td>M</td>\n",
       "      <td>L</td>\n",
       "      <td>patient</td>\n",
       "    </tr>\n",
       "    <tr>\n",
       "      <th>1</th>\n",
       "      <td>39</td>\n",
       "      <td>93</td>\n",
       "      <td>181</td>\n",
       "      <td>M</td>\n",
       "      <td>R</td>\n",
       "      <td>patient</td>\n",
       "    </tr>\n",
       "  </tbody>\n",
       "</table>\n",
       "</div>"
      ],
      "text/plain": [
       "   age  weight  height sex handedness    group\n",
       "0   26      84     175   M          L  patient\n",
       "1   39      93     181   M          R  patient"
      ]
     },
     "execution_count": 47,
     "metadata": {},
     "output_type": "execute_result"
    }
   ],
   "source": [
    "# Select the first two rows of the dataframe:\n",
    "subjects_df[:2]"
   ]
  },
  {
   "cell_type": "code",
   "execution_count": 48,
   "id": "abeaa819",
   "metadata": {},
   "outputs": [
    {
     "data": {
      "text/plain": [
       "0     84\n",
       "1     93\n",
       "2     89\n",
       "3     71\n",
       "4     76\n",
       "      ..\n",
       "95    82\n",
       "96    50\n",
       "97    68\n",
       "98    51\n",
       "99    93\n",
       "Name: weight, Length: 100, dtype: int64"
      ]
     },
     "execution_count": 48,
     "metadata": {},
     "output_type": "execute_result"
    }
   ],
   "source": [
    "# Select the column of the dataframe containing the subjects weight using the name of the column:\n",
    "subjects_df[\"weight\"]"
   ]
  },
  {
   "cell_type": "code",
   "execution_count": 51,
   "id": "dced9106",
   "metadata": {},
   "outputs": [
    {
     "data": {
      "text/plain": [
       "1     93\n",
       "6     50\n",
       "19    64\n",
       "21    75\n",
       "24    81\n",
       "26    98\n",
       "29    79\n",
       "33    94\n",
       "36    78\n",
       "39    81\n",
       "47    77\n",
       "49    93\n",
       "56    88\n",
       "62    52\n",
       "67    58\n",
       "69    82\n",
       "82    51\n",
       "83    52\n",
       "98    51\n",
       "Name: weight, dtype: int64"
      ]
     },
     "execution_count": 51,
     "metadata": {},
     "output_type": "execute_result"
    }
   ],
   "source": [
    "# Select the `weight` column of the dataframe filtering only rows of subjects > 34 years old:\n",
    "subjects_df.loc[subjects_df[\"age\"] > 34, \"weight\"]"
   ]
  },
  {
   "cell_type": "code",
   "execution_count": 55,
   "id": "1a597fed",
   "metadata": {},
   "outputs": [
    {
     "name": "stdout",
     "output_type": "stream",
     "text": [
      "For sex M 27 subjects are of handedness L\n",
      "For sex M 23 subjects are of handedness R\n",
      "For sex F 29 subjects are of handedness L\n",
      "For sex F 21 subjects are of handedness R\n"
     ]
    }
   ],
   "source": [
    "# Count how many males and how many females above age 30 are left-handed or right handed.\n",
    "# (Hint: use the same element-wise operators we were using for numpy arrays)\n",
    "\n",
    "for sex in \"M\", \"F\":\n",
    "    for handedness in \"L\", \"R\":\n",
    "        boolean_selector = (subjects_df[\"sex\"] == sex) & (subjects_df[\"handedness\"] == handedness)\n",
    "        count = sum(boolean_selector)\n",
    "        print(f\"For sex {sex} {count} subjects are of handedness {handedness}\")\n",
    "    "
   ]
  },
  {
   "cell_type": "code",
   "execution_count": null,
   "id": "2d753478",
   "metadata": {},
   "outputs": [],
   "source": [
    "# Use .iloc to select one every two rows for the first 3 columns:\n",
    "subjects_df.iloc[::2, :3]"
   ]
  },
  {
   "cell_type": "code",
   "execution_count": 54,
   "id": "5446f27b",
   "metadata": {},
   "outputs": [
    {
     "data": {
      "text/html": [
       "<div>\n",
       "<style scoped>\n",
       "    .dataframe tbody tr th:only-of-type {\n",
       "        vertical-align: middle;\n",
       "    }\n",
       "\n",
       "    .dataframe tbody tr th {\n",
       "        vertical-align: top;\n",
       "    }\n",
       "\n",
       "    .dataframe thead th {\n",
       "        text-align: right;\n",
       "    }\n",
       "</style>\n",
       "<table border=\"1\" class=\"dataframe\">\n",
       "  <thead>\n",
       "    <tr style=\"text-align: right;\">\n",
       "      <th></th>\n",
       "      <th>age</th>\n",
       "      <th>weight</th>\n",
       "      <th>height</th>\n",
       "      <th>sex</th>\n",
       "      <th>handedness</th>\n",
       "      <th>group</th>\n",
       "    </tr>\n",
       "  </thead>\n",
       "  <tbody>\n",
       "    <tr>\n",
       "      <th>subject_0_M</th>\n",
       "      <td>26</td>\n",
       "      <td>84</td>\n",
       "      <td>175</td>\n",
       "      <td>M</td>\n",
       "      <td>L</td>\n",
       "      <td>patient</td>\n",
       "    </tr>\n",
       "    <tr>\n",
       "      <th>subject_1_M</th>\n",
       "      <td>39</td>\n",
       "      <td>93</td>\n",
       "      <td>181</td>\n",
       "      <td>M</td>\n",
       "      <td>R</td>\n",
       "      <td>patient</td>\n",
       "    </tr>\n",
       "    <tr>\n",
       "      <th>subject_2_F</th>\n",
       "      <td>34</td>\n",
       "      <td>89</td>\n",
       "      <td>155</td>\n",
       "      <td>F</td>\n",
       "      <td>L</td>\n",
       "      <td>patient</td>\n",
       "    </tr>\n",
       "    <tr>\n",
       "      <th>subject_3_M</th>\n",
       "      <td>30</td>\n",
       "      <td>71</td>\n",
       "      <td>181</td>\n",
       "      <td>M</td>\n",
       "      <td>R</td>\n",
       "      <td>patient</td>\n",
       "    </tr>\n",
       "    <tr>\n",
       "      <th>subject_4_F</th>\n",
       "      <td>27</td>\n",
       "      <td>76</td>\n",
       "      <td>153</td>\n",
       "      <td>F</td>\n",
       "      <td>L</td>\n",
       "      <td>control</td>\n",
       "    </tr>\n",
       "    <tr>\n",
       "      <th>...</th>\n",
       "      <td>...</td>\n",
       "      <td>...</td>\n",
       "      <td>...</td>\n",
       "      <td>...</td>\n",
       "      <td>...</td>\n",
       "      <td>...</td>\n",
       "    </tr>\n",
       "    <tr>\n",
       "      <th>subject_95_M</th>\n",
       "      <td>31</td>\n",
       "      <td>82</td>\n",
       "      <td>170</td>\n",
       "      <td>M</td>\n",
       "      <td>L</td>\n",
       "      <td>patient</td>\n",
       "    </tr>\n",
       "    <tr>\n",
       "      <th>subject_96_F</th>\n",
       "      <td>21</td>\n",
       "      <td>50</td>\n",
       "      <td>197</td>\n",
       "      <td>F</td>\n",
       "      <td>L</td>\n",
       "      <td>control</td>\n",
       "    </tr>\n",
       "    <tr>\n",
       "      <th>subject_97_F</th>\n",
       "      <td>20</td>\n",
       "      <td>68</td>\n",
       "      <td>169</td>\n",
       "      <td>F</td>\n",
       "      <td>R</td>\n",
       "      <td>patient</td>\n",
       "    </tr>\n",
       "    <tr>\n",
       "      <th>subject_98_M</th>\n",
       "      <td>35</td>\n",
       "      <td>51</td>\n",
       "      <td>157</td>\n",
       "      <td>M</td>\n",
       "      <td>R</td>\n",
       "      <td>control</td>\n",
       "    </tr>\n",
       "    <tr>\n",
       "      <th>subject_99_M</th>\n",
       "      <td>24</td>\n",
       "      <td>93</td>\n",
       "      <td>156</td>\n",
       "      <td>M</td>\n",
       "      <td>L</td>\n",
       "      <td>control</td>\n",
       "    </tr>\n",
       "  </tbody>\n",
       "</table>\n",
       "<p>100 rows × 6 columns</p>\n",
       "</div>"
      ],
      "text/plain": [
       "              age  weight  height sex handedness    group\n",
       "subject_0_M    26      84     175   M          L  patient\n",
       "subject_1_M    39      93     181   M          R  patient\n",
       "subject_2_F    34      89     155   F          L  patient\n",
       "subject_3_M    30      71     181   M          R  patient\n",
       "subject_4_F    27      76     153   F          L  control\n",
       "...           ...     ...     ...  ..        ...      ...\n",
       "subject_95_M   31      82     170   M          L  patient\n",
       "subject_96_F   21      50     197   F          L  control\n",
       "subject_97_F   20      68     169   F          R  patient\n",
       "subject_98_M   35      51     157   M          R  control\n",
       "subject_99_M   24      93     156   M          L  control\n",
       "\n",
       "[100 rows x 6 columns]"
      ]
     },
     "execution_count": 54,
     "metadata": {},
     "output_type": "execute_result"
    }
   ],
   "source": [
    "# Redefine the dataset index to be \"subject_n_sex\" \n",
    "# (where n is progressive number of the subject and sex the sex of the subject)\n",
    "\n",
    "subjects_df.index = [f\"subject_{n}_{sex}\" for n, sex in enumerate(subjects_df[\"sex\"])]\n",
    "subjects_df"
   ]
  }
 ],
 "metadata": {
  "kernelspec": {
   "display_name": "course-env",
   "language": "python",
   "name": "course-env"
  },
  "language_info": {
   "codemirror_mode": {
    "name": "ipython",
    "version": 3
   },
   "file_extension": ".py",
   "mimetype": "text/x-python",
   "name": "python",
   "nbconvert_exporter": "python",
   "pygments_lexer": "ipython3",
   "version": "3.10.13"
  }
 },
 "nbformat": 4,
 "nbformat_minor": 5
}
