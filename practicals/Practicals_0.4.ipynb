{
 "cells": [
  {
   "cell_type": "markdown",
   "id": "622aecef",
   "metadata": {},
   "source": [
    "# Practicals for lecture 0.4\n",
    "\n",
    "[![Open In Colab](https://colab.research.google.com/assets/colab-badge.svg)](https://colab.research.google.com/github/vigji/python-cimec-2024/blob/main/practicals/Practicals_0.4.ipynb)"
   ]
  },
  {
   "cell_type": "markdown",
   "id": "290245a9",
   "metadata": {},
   "source": [
    "#### 0.4.0 Functions"
   ]
  },
  {
   "cell_type": "code",
   "execution_count": 2,
   "id": "042ba945",
   "metadata": {},
   "outputs": [
    {
     "data": {
      "text/plain": [
       "'Like the ### in search of ### ### my ### has chased in the ### of the grey matter cells with ### and ### ### the ### ### of the soul, whose ### of wings may one day reveal to us the ### of the mind.'"
      ]
     },
     "execution_count": 2,
     "metadata": {},
     "output_type": "execute_result"
    }
   ],
   "source": [
    "# Write a function that takes a string as an argument, \n",
    "# and returns a new list\n",
    "# where all words that are longer than 6 characters \n",
    "# are replaced with \"###\".\n",
    "\n",
    "# Hint: \n",
    "\n",
    "\n",
    "example_input = \"Like the entomologist in search of colorful butterflies, my attention has chased in the gardens of the grey matter cells with delicate and elegant shapes, the mysterious butterflies of the soul, whose beating of wings may one day reveal to us the secrets of the mind.\"\n",
    "\n",
    "\n",
    "def redact_long_words(text):\n",
    "    \"\"\"Redact long words out of a piece of text.\n",
    "\n",
    "    Parameters:\n",
    "        text : str\n",
    "            The input original text\n",
    "\n",
    "    Returns:\n",
    "        str : The redacted text\n",
    "\n",
    "    \"\"\"\n",
    "\n",
    "    word_list = text.split()\n",
    "    # redacted_word_list = []\n",
    "    \n",
    "    for index, word in enumerate(word_list):\n",
    "        if len(word) > 6:\n",
    "            word_list[index] = \"###\"\n",
    "    #    if len(word) > 6:\n",
    "    #        redacted_word_list.append(\"###\")\n",
    "    #    else:\n",
    "    #        redacted_word_list.append(word)\n",
    "    \n",
    "    return \" \".join(word_list)\n",
    "\n",
    "\n",
    "\n",
    "redact_long_words(example_input)"
   ]
  },
  {
   "cell_type": "code",
   "execution_count": 14,
   "id": "a1e0f179",
   "metadata": {},
   "outputs": [
    {
     "data": {
      "text/plain": [
       "4.0"
      ]
     },
     "execution_count": 14,
     "metadata": {},
     "output_type": "execute_result"
    }
   ],
   "source": [
    "# Write a function that calculates the perimeter of an arbitrary polygon!\n",
    "# We can describe any polygon with a list of the coordinates of its vertices.\n",
    "\n",
    "# Write a function that takes as input a list of coordinates (each element\n",
    "# should be a list - or tuple! - containing two numbers, position over x and y),\n",
    "# and returns the perimeter of the polygon described by those vertices!\n",
    "# Hint: divide this operation over two functions: one to calculate the distances \n",
    "# between a polygon's vertices, the other to...\"   \n",
    "\n",
    "# Test it on a simple shape like a square to check if the solution is correct.\n",
    "\n",
    "square_coordinates = [(0, 0), (1, 0), (1, 1), (0, 1), (0, 0)]\n",
    "\n",
    "\n",
    "def pairwise_distance(p1, p2):\n",
    "    return ((p1[0] - p2[0])**2 + (p1[1] - p2[1])**2)**(1/2)\n",
    "\n",
    "\n",
    "def polygon_perimeter(coordinates):\n",
    "    edges_length = []\n",
    "    for index in range(len(coordinates) - 1):\n",
    "        edge = pairwise_distance(coordinates[index], coordinates[index+1])\n",
    "        \n",
    "        edges_length.append(edge)\n",
    "        \n",
    "    return sum(edges_length)\n",
    "\n",
    "polygon_perimeter(square_coordinates)"
   ]
  },
  {
   "cell_type": "code",
   "execution_count": 17,
   "id": "2b00072d-df45-4cb7-8e0a-7b68e3e4605d",
   "metadata": {
    "tags": []
   },
   "outputs": [
    {
     "data": {
      "text/plain": [
       "[[0.0, 1.0, 1.4142135623730951, 1.0, 0.0],\n",
       " [1.0, 0.0, 1.0, 1.4142135623730951, 1.0],\n",
       " [1.4142135623730951, 1.0, 0.0, 1.0, 1.4142135623730951],\n",
       " [1.0, 1.4142135623730951, 1.0, 0.0, 1.0],\n",
       " [0.0, 1.0, 1.4142135623730951, 1.0, 0.0]]"
      ]
     },
     "execution_count": 17,
     "metadata": {},
     "output_type": "execute_result"
    }
   ],
   "source": [
    "# [ADVANCED (Credits to Matteo)]: if you finished early all exercises below, \n",
    "# and want a further challenge, you can try to:\n",
    "# 1) Write another function to calculate the polygon's area\n",
    "def polygon_area(coords):\n",
    "    \"\"\"There's a bunch of possible formulas: https://en.wikipedia.org/wiki/Shoelace_formula\"\"\"\n",
    "    return (1/2)*sum([(c1[1]+c2[1])*(c1[0]-c2[0]) for c1, c2 in zip(coords[:-1], coords[1:])])\n",
    "\n",
    "\n",
    "# 2) Apply the concept of distance to something more complex than plain geometry. \n",
    "#    Can you write a function that computes pairwise distances between points in spaces of an arbitrary \n",
    "#    number of dimensions?\n",
    "def ndim_pairwise_distance(p1, p2):\n",
    "    # This is how we can potentially check for correct inputs:\n",
    "    if len(p1) != len(p1):\n",
    "        raise ValueError(\"Points must have the same number of dimensions\")\n",
    "        \n",
    "    n_dimensions = len(p1)\n",
    "\n",
    "    return sum([(p1_i - p2_i)**2 for p1_i, p2_i in zip(p1, p2)])**(1/2)\n",
    "\n",
    "# 3) Write a function that returns the pairwise distance matrix across all pairs of points\n",
    "#    in a list of points that is passed as the argument. Make sure it works for points in spaces\n",
    "#    with an arbitrary number of dimensions.\n",
    "#    You can use lists of lists to represent a matrix!\n",
    "def get_distance_matrix(coords):\n",
    "    distance_mat = []\n",
    "    for p1 in coords:\n",
    "        distance_mat_row = []\n",
    "        for p2 in coords:\n",
    "            dist = ndim_pairwise_distance(p1, p2)\n",
    "            distance_mat_row.append(dist)\n",
    "            \n",
    "        distance_mat.append(distance_mat_row)\n",
    "        \n",
    "    return distance_mat\n",
    "        "
   ]
  },
  {
   "cell_type": "code",
   "execution_count": 21,
   "id": "25918a37",
   "metadata": {
    "tags": []
   },
   "outputs": [
    {
     "data": {
      "text/plain": [
       "[-0.02300773896674339,\n",
       " -0.12340514536707806,\n",
       " 0.21543610123405144,\n",
       " -0.22380255176741273,\n",
       " 0.05229031583350762,\n",
       " 0.10248901903367494]"
      ]
     },
     "execution_count": 21,
     "metadata": {},
     "output_type": "execute_result"
    }
   ],
   "source": [
    "# Write a function that takes as input a list, and returnes a Z-scored version of it\n",
    "# (z-scoring means trasforming so to have mean 0 and standard dev. 1).\n",
    "# Do not import functions from modules! \n",
    "# To do so, we will split the code over multiple functions:\n",
    "\n",
    "data_list = [2.1, 1.3, 4, 0.5, 2.7, 3.1]\n",
    "\n",
    "\n",
    "def mean(a_list):\n",
    "    \"\"\"Compute the mean of a list.\"\"\"\n",
    "    return sum(data_list) / len(data_list)\n",
    "\n",
    "\n",
    "def std(a_list):\n",
    "    \"\"\"Compute the standard deviation of a list.\"\"\"\n",
    "    mean_val = mean(a_list)\n",
    "    return sum([(val - mean_val)**2 for val in a_list])\n",
    "\n",
    "\n",
    "def z_score(a_list):\n",
    "    \"\"\"Z-score a list.\"\"\"\n",
    "    mean_val = mean(a_list)\n",
    "    std_val = std(a_list)\n",
    "    \n",
    "    return [(val-mean_val) / std_val for val in a_list]\n",
    "\n",
    "z_score(data_list)"
   ]
  },
  {
   "cell_type": "code",
   "execution_count": 42,
   "id": "c281f5bc-0ed4-4720-8aa1-9ec079618008",
   "metadata": {},
   "outputs": [
    {
     "data": {
      "text/plain": [
       "[0.7098315094048449,\n",
       " 1.853710334402688,\n",
       " 0.7909374335238685,\n",
       " -0.21427423875644305,\n",
       " 1.2913587336631904,\n",
       " -0.8251245480080271,\n",
       " 0.41198131930436543,\n",
       " 0.09712015900045137,\n",
       " 1.1130428377028119,\n",
       " -0.937121661068175]"
      ]
     },
     "execution_count": 42,
     "metadata": {},
     "output_type": "execute_result"
    }
   ],
   "source": [
    "# [ADVANCED (Credits to Matteo)]: if you finished early all exercises below, \n",
    "# and want a further challenge, you can try to:\n",
    "# 1) Write another function to generate a list of random data points \n",
    "# (i.e., fill up the 'data_list' variable above\n",
    "#    with random values instead of manually inserted values)\n",
    "\n",
    "\n",
    "# 2) Write another function that generates random values from one of \n",
    "# several distributions (e.g., Normal, uniform, etc.), depending on \n",
    "# an input you provide it with (imagine it being a string with the distribution name,\n",
    "# and maybe the number of datapoints you want to generate).\n",
    "# Make sure you generate the right number of random values and return them in some data container form\n",
    "import random\n",
    "\n",
    "\n",
    "def get_random_values(distribution_name, n_datapoints):\n",
    "    # This is a trick you can use to avoid many conditionals:\n",
    "    functions_dictionary = {\"Uniform\": random.uniform,\n",
    "                            \"Normal\": random.gauss}  # you could add more\n",
    "    random_function = functions_dictionary[distribution_name]\n",
    "    return [random_function() for _ in range(n_datapoints)]\n",
    "\n",
    "\n",
    "get_random_values(\"Normal\", 10)"
   ]
  },
  {
   "cell_type": "code",
   "execution_count": 38,
   "id": "2f250346",
   "metadata": {},
   "outputs": [
    {
     "data": {
      "text/plain": [
       "1.8328567061132481"
      ]
     },
     "execution_count": 38,
     "metadata": {},
     "output_type": "execute_result"
    }
   ],
   "source": [
    "import random\n",
    "random.lognormvariate(0, 1)"
   ]
  },
  {
   "cell_type": "code",
   "execution_count": 51,
   "id": "8d1d81fa",
   "metadata": {},
   "outputs": [
    {
     "data": {
      "text/plain": [
       "5"
      ]
     },
     "execution_count": 51,
     "metadata": {},
     "output_type": "execute_result"
    }
   ],
   "source": [
    "# Encapsulate the Netflix session generator from last lecture\n",
    "# inside a function that takes as arguments \n",
    "# all the parameters (probability, cliffhanger probability, etc.)\n",
    "# and returns the number of watched episodes.\n",
    "\n",
    "# Define it in a way that the cliffhanger effect can be inactivated in\n",
    "# the simulation if the cliffhanger_prob argument is set to None:\n",
    "\n",
    "import random\n",
    "\n",
    "\n",
    "def netflix_simulator(\n",
    "    max_score=10, crappiness_threshold=3, cliffhanger_prob=0.2\n",
    "):\n",
    "    \"\"\"Simulate a session of Netflix binging.\n",
    "    \"\"\"\n",
    "    episodes_count = 0\n",
    "    while True:\n",
    "        episodes_count += 1 # add one to the count\n",
    "        episode_rating = random.randint(0, max_score)\n",
    "        cliffhanger = random.uniform(0, 1) < cliffhanger_prob  # this is True with p < 1/5 (see exercise above)\n",
    "        if episode_rating < crappiness_threshold and not cliffhanger:\n",
    "            break\n",
    "    return episodes_count\n",
    "\n",
    "\n",
    "netflix_simulator()"
   ]
  },
  {
   "cell_type": "code",
   "execution_count": null,
   "id": "58e9ce9d",
   "metadata": {},
   "outputs": [],
   "source": [
    "# Go over all the previously defined functions and \n",
    "# make sure they stick to the principles we have\n",
    "# been introducing:\n",
    "#  - meaningful variable names\n",
    "#  - non-duplicated, readable code\n",
    "#\n",
    "# Make also sure all functions have an informative docstring \n",
    "# that describes parameters and output!"
   ]
  }
 ],
 "metadata": {
  "kernelspec": {
   "display_name": "Python 3 (ipykernel)",
   "language": "python",
   "name": "python3"
  },
  "language_info": {
   "codemirror_mode": {
    "name": "ipython",
    "version": 3
   },
   "file_extension": ".py",
   "mimetype": "text/x-python",
   "name": "python",
   "nbconvert_exporter": "python",
   "pygments_lexer": "ipython3",
   "version": "3.11.6"
  }
 },
 "nbformat": 4,
 "nbformat_minor": 5
}
