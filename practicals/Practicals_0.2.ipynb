{
 "cells": [
  {
   "cell_type": "markdown",
   "id": "e26640ea",
   "metadata": {},
   "source": [
    "# Practicals for lecture 0.2\n",
    "\n",
    "[![Open In Colab](https://colab.research.google.com/assets/colab-badge.svg)](https://colab.research.google.com/github/vigji/python-cimec-2025/blob/main/practicals/Practicals_0.2.ipynb)"
   ]
  },
  {
   "cell_type": "markdown",
   "id": "e0c52ebb",
   "metadata": {},
   "source": [
    "#### 0.2.0 Tuples"
   ]
  },
  {
   "cell_type": "code",
   "execution_count": null,
   "id": "61ae9855",
   "metadata": {},
   "outputs": [],
   "source": [
    "# Convert to a tuple the word list `word_list` defined above.\n",
    "word_tuple = ...\n",
    "\n",
    "# Can you change the first element of the tuple? Can you try appending new values? \n",
    "# Can you use the +/* operators? \n"
   ]
  },
  {
   "cell_type": "markdown",
   "id": "c7a1589a",
   "metadata": {},
   "source": [
    "#### 0.2.1 Sets"
   ]
  },
  {
   "cell_type": "code",
   "execution_count": null,
   "id": "f215b3a8",
   "metadata": {},
   "outputs": [],
   "source": [
    "# We want to know if two lists of values contain the same items.\n",
    "\n",
    "items_list1 = [20, 19, 32, 1, 3, 45, 2, 5, 4, 12, 7]\n",
    "items_list2 = [45, 2, 12, 19, 32, 4, 7, 3, 5, 1, 20]\n",
    "\n",
    "# Can we just check if the lists are the same with a `==` operation? If no, why?\n"
   ]
  },
  {
   "cell_type": "code",
   "execution_count": null,
   "id": "8f249317",
   "metadata": {},
   "outputs": [],
   "source": [
    "# Try then to convert them to set before performing the comparison:\n"
   ]
  },
  {
   "cell_type": "code",
   "execution_count": null,
   "id": "885efb60",
   "metadata": {},
   "outputs": [],
   "source": [
    "# Use sets operations to find the a place that might fit the preferences of Mark, Melissa and Mattew:\n",
    "mark_top_three = [\"Putipù\", \"Pizzangolo\", \"Christian\"]\n",
    "melissa_top_three = [\"Dogali\", \"Christian\", \"River\"]\n",
    "mattew_top_three = [\"Christian\", \"Putipù\", \"Pizzangolo\"]\n"
   ]
  },
  {
   "cell_type": "code",
   "execution_count": null,
   "id": "694c734b",
   "metadata": {},
   "outputs": [],
   "source": [
    "# Combine what you know about sets and strings and test if word1 is an anagram of word2:\n",
    "word1 = \"listen\"\n",
    "word2 = \"silent\"\n",
    "\n",
    "... \n",
    "\n"
   ]
  },
  {
   "cell_type": "code",
   "execution_count": null,
   "id": "02b8eeca",
   "metadata": {},
   "outputs": [],
   "source": [
    "# [Advanced] Efficiency of search operations\n",
    "# Let's compare how fast it is to search in lists vs sets!\n",
    "# First, let's create a large list of numbers and convert it to a set\n",
    "import time\n",
    "\n",
    "# Create a large list of random numbers\n",
    "numbers = list(range(10_000_000))  # 10 million numbers\n",
    "number_set = set(numbers)         # convert to set\n",
    "\n",
    "# If you play around changing the number to search, you can maybe understand \n",
    "# why list search is so slow...\n",
    "number_to_search = 9_999_999\n",
    "\n",
    "# Time list search\n",
    "start_time = time.time()  # this is a function that returns the current time\n",
    "## code for search in list here\n",
    "list_time = time.time() - start_time  # delta time gets us the time spent executing code in between\n",
    "\n",
    "# Time set search\n",
    "start_time = time.time()\n",
    "## code for search in set here\n",
    "set_time = time.time() - start_time\n",
    "\n",
    "#Calculate the ratio of the time it takes to search in a set vs a list, and print it:"
   ]
  },
  {
   "cell_type": "code",
   "execution_count": null,
   "id": "e07ed737",
   "metadata": {},
   "outputs": [],
   "source": [
    "# [Advance, part 2]\n",
    "# Can you use a list as the key of a dictionary? Can you use a tuple?\n",
    "# Try it out, and then think about why this is the case considering what you discovered in the previous exercise.\n"
   ]
  },
  {
   "cell_type": "markdown",
   "id": "2d2a4f38",
   "metadata": {},
   "source": [
    "## Flow control"
   ]
  },
  {
   "cell_type": "markdown",
   "id": "5066fd11",
   "metadata": {},
   "source": [
    "#### 0.2.2 Conditionals with `if`"
   ]
  },
  {
   "cell_type": "code",
   "execution_count": 1,
   "id": "01da4096",
   "metadata": {},
   "outputs": [],
   "source": [
    "# Write a program that prints out if a given number is even or odd (tip: use the modulo operator %)\n",
    "\n",
    "number_to_test = 30  # change the value of this variable to test other cases\n"
   ]
  },
  {
   "cell_type": "code",
   "execution_count": 2,
   "id": "021d9f83",
   "metadata": {},
   "outputs": [
    {
     "data": {
      "text/plain": [
       "Ellipsis"
      ]
     },
     "execution_count": 2,
     "metadata": {},
     "output_type": "execute_result"
    }
   ],
   "source": [
    "# Write code that checks out if a string is a palindrome, and if it is, prints \"{word} is palindrome!\"\n",
    "# Hint: remember how to revert a string with indices...\n",
    "\n",
    "word = \"kayak\"\n",
    "\n",
    "..."
   ]
  },
  {
   "cell_type": "code",
   "execution_count": 16,
   "id": "7c86051e",
   "metadata": {},
   "outputs": [],
   "source": [
    "# The code below gives you electrophysiological data \n",
    "# consisting of a list of 0s and 1s, where the ones \n",
    "# correspond to the occurrence of action potentials. \n",
    "# The trace is 1 second long - so the firing rate correspond to the number of spikes\n",
    "# (you do not care about the function content right now)\n",
    "def generate_trace(seed=1, trace_len=1000, firing_rate=5):\n",
    "    \"\"\"Generate a list with action potential occurrencies.\"\"\"\n",
    "    import random\n",
    "    random.seed(seed)\n",
    "\n",
    "    return [int(random.randint(0, 1000) < firing_rate) for _ in range(trace_len)]\n",
    "\n",
    "neuron_trace = generate_trace()\n",
    "    \n",
    "# Compute the firing rate i.e. the number of action potentials per second for the neuron:\n",
    "firing_rate = ..."
   ]
  },
  {
   "cell_type": "code",
   "execution_count": 4,
   "id": "deb396af",
   "metadata": {},
   "outputs": [
    {
     "data": {
      "text/plain": [
       "Ellipsis"
      ]
     },
     "execution_count": 4,
     "metadata": {},
     "output_type": "execute_result"
    }
   ],
   "source": [
    "# Now print \"high firing rate\" if rate is > 10 Hz, \n",
    "# \"medium firing rate\" if rate is between 5 and 10 Hz, and\n",
    "# \"low firing rate\" if rate is lower than 5 Hz:\n",
    "\n",
    "..."
   ]
  },
  {
   "cell_type": "code",
   "execution_count": 3,
   "id": "d04bd6cc",
   "metadata": {},
   "outputs": [
    {
     "data": {
      "text/plain": [
       "1"
      ]
     },
     "execution_count": 3,
     "metadata": {},
     "output_type": "execute_result"
    }
   ],
   "source": [
    "# [Advanced]\n",
    "# Python offers a compact way to write simple if-else statements called conditional expressions\n",
    "# (sometimes called the \"ternary operator\"). It follows the pattern:\n",
    "# value_if_true if condition else value_if_false\n",
    "# Moreover, conditional expressions can be nested:\n",
    "# a = 1 if 2 > 1 else 0 if 1 > 2 else 2\n",
    "\n",
    "# use a one-line solution for the neuron classification problem above:\n",
    "label = ..."
   ]
  },
  {
   "cell_type": "code",
   "execution_count": 13,
   "id": "8c5cddc8",
   "metadata": {},
   "outputs": [
    {
     "ename": "ZeroDivisionError",
     "evalue": "division by zero",
     "output_type": "error",
     "traceback": [
      "\u001b[0;31m---------------------------------------------------------------------------\u001b[0m",
      "\u001b[0;31mZeroDivisionError\u001b[0m                         Traceback (most recent call last)",
      "Cell \u001b[0;32mIn[13], line 10\u001b[0m\n\u001b[1;32m      7\u001b[0m denominator \u001b[38;5;241m=\u001b[39m \u001b[38;5;241m0\u001b[39m\n\u001b[1;32m      8\u001b[0m numerator \u001b[38;5;241m=\u001b[39m \u001b[38;5;241m10\u001b[39m\n\u001b[0;32m---> 10\u001b[0m \u001b[38;5;28;01mif\u001b[39;00m \u001b[43mnumerator\u001b[49m\u001b[43m \u001b[49m\u001b[38;5;241;43m/\u001b[39;49m\u001b[43m \u001b[49m\u001b[43mdenominator\u001b[49m \u001b[38;5;241m>\u001b[39m \u001b[38;5;241m10\u001b[39m \u001b[38;5;129;01mand\u001b[39;00m denominator \u001b[38;5;241m!=\u001b[39m \u001b[38;5;241m0\u001b[39m:\n\u001b[1;32m     11\u001b[0m     \u001b[38;5;28;01mpass\u001b[39;00m\n\u001b[1;32m     12\u001b[0m \u001b[38;5;28mprint\u001b[39m(\u001b[38;5;124m\"\u001b[39m\u001b[38;5;124mGot here with no error!\u001b[39m\u001b[38;5;124m\"\u001b[39m)\n",
      "\u001b[0;31mZeroDivisionError\u001b[0m: division by zero"
     ]
    }
   ],
   "source": [
    "# [Advanced]\n",
    "# Short-circuit evaluation\n",
    "# Python evaluates expressions from left to right and stops when the result is determined.\n",
    "# This is called short-circuit evaluation.\n",
    "# For example, in an `and` expression, if the first expression is `False`, the second is not evaluated.\n",
    "# Fix this conditional statem so that it does not produce an error anymore, without adding any other condition!\n",
    "denominator = 0\n",
    "numerator = 10\n",
    "\n",
    "if numerator / denominator > 10 and denominator != 0:\n",
    "    pass\n",
    "print(\"Got here with no error!\")\n"
   ]
  },
  {
   "cell_type": "code",
   "execution_count": 12,
   "id": "195665d9",
   "metadata": {},
   "outputs": [
    {
     "name": "stdout",
     "output_type": "stream",
     "text": [
      "False\n"
     ]
    }
   ],
   "source": [
    "# [Advanced]\n",
    "# You can use short circuit evaluation to assign inline variables safely, knowning that if\n",
    "# the left part is true, the value on the right is assigned to the variable, otherwise the variable\n",
    "# is false.\n",
    "\n",
    "a = True  # play with true and false\n",
    "b = 5  # play with different values\n",
    "c = a and b\n",
    "print(c)\n",
    "\n",
    "# Can you use this to define a variable that is the last element of a list, or False if the list is empty?\n",
    "test_list = [1, 2, 3]  # try with an empty list too\n",
    "safe_last_element = ...\n",
    "\n"
   ]
  },
  {
   "cell_type": "markdown",
   "id": "8bc85d05",
   "metadata": {},
   "source": [
    "#### 0.2.3 Iterations with for"
   ]
  },
  {
   "cell_type": "code",
   "execution_count": null,
   "id": "1e1d414f",
   "metadata": {},
   "outputs": [],
   "source": [
    "# Split the words of this long sentence in a list:\n",
    "a_sentence = \"Any person could, if they were so inclined, be the sculptor of their own brain.\"\n",
    "...\n",
    "\n",
    "# now initialize an empty list and append to it only the words that are longer than 3 characters:\n",
    "long_words = []\n",
    "..."
   ]
  },
  {
   "cell_type": "code",
   "execution_count": null,
   "id": "fdd086e1",
   "metadata": {},
   "outputs": [],
   "source": [
    "# Can you do the same operation in one line with a list comprehension?\n",
    "\n",
    "long_words = ...  # use a one-line solution!"
   ]
  },
  {
   "cell_type": "code",
   "execution_count": null,
   "id": "f7eed002",
   "metadata": {},
   "outputs": [],
   "source": [
    "# Here we use the function defined above to generate a list of traces for 10 neurons:\n",
    "neuron_traces = [generate_trace(seed=i) for i in range(10)]\n",
    "\n",
    "# Now compute the firing rate for each neuron and put it in a list; you can try to use a single line!m\n"
   ]
  },
  {
   "cell_type": "code",
   "execution_count": null,
   "id": "b9d71cae",
   "metadata": {},
   "outputs": [],
   "source": [
    "# Next, compute the average firing rate across all neurons:\n"
   ]
  },
  {
   "cell_type": "code",
   "execution_count": null,
   "id": "75e38951",
   "metadata": {},
   "outputs": [],
   "source": [
    "# If you haven't, can you do the above operations in one line using a list comprehension?\n",
    "firing_rates = ..."
   ]
  },
  {
   "cell_type": "code",
   "execution_count": null,
   "id": "491d3ed6",
   "metadata": {},
   "outputs": [],
   "source": [
    "# Now store firing rates in a dictionary with keys going from \"neuron_0\" to \"neuron_9\"\n",
    "# You can either use a for loop (after initializing an empty dictionary) \n",
    "# or a dictionary comprehension. \n",
    "# Hint: you can use the `enumerate` function to get both the index and the value of a list.\n",
    "\n",
    "firing_rates_dict = {}\n",
    "\n",
    "..."
   ]
  },
  {
   "cell_type": "code",
   "execution_count": null,
   "id": "02e9a149",
   "metadata": {},
   "outputs": [],
   "source": [
    "# Iter over the dictionary keys and values and create a list with the neurons that have a firing rate > 5 Hz:\n",
    "\n",
    "high_firing_rate_list = []\n",
    "\n",
    "..."
   ]
  },
  {
   "cell_type": "code",
   "execution_count": 25,
   "id": "1da12927",
   "metadata": {},
   "outputs": [
    {
     "data": {
      "text/plain": [
       "Ellipsis"
      ]
     },
     "execution_count": 25,
     "metadata": {},
     "output_type": "execute_result"
    }
   ],
   "source": [
    "# [Advanced]\n",
    "# Performance of list comprehensions vs for loops\n",
    "# List comprehensions are faster than for loops in Python!  (slightly)\n",
    "# Let's try to dig deeper into this:\n",
    "import time\n",
    "import random\n",
    "\n",
    "# Generate a large list of random numbers\n",
    "\n",
    "# Task: Use a list comprehension to square all numbers greater than 50 from this list,\n",
    "# using a traditional for loop with if and append and a list comprehension.\n",
    "\n",
    "# Print the resulting times and check out their ratio!\n",
    "data = [random.randint(1, 100) for _ in range(1_000_000)]\n",
    "\n",
    "\n",
    "...\n",
    "\n",
    "# Check out why this is the case!\n"
   ]
  },
  {
   "cell_type": "code",
   "execution_count": null,
   "id": "5d849d66",
   "metadata": {},
   "outputs": [],
   "source": [
    "# [Advanced]\n",
    "# The funnily named walrus operator (:=) allows you to assign values to \n",
    "# variables as part of an expression. (it was only added in Python 3.8, won't work in older versions)\n",
    "# \n",
    "# This can make your code more concise in certain situations (and less readable in others...)\n",
    "\n",
    "# In a simple statement, you can for example write:\n",
    "# Basic assignment in an expression\n",
    "a = (x := 10) + 5  # Assigns 10 to x and evaluates to 15\n",
    "print(f\"The value of x is {x} and a is {a}\")\n",
    "\n",
    "# Use the walrus operator in the following if statement to avoid the explicit assignment of the sum to a variable\n",
    "numbers = [1, 2, 3, 4, 5]\n",
    "total = sum(numbers)  # remove this line using the walrus operator\n",
    "if total > 10:\n",
    "    print(f\"The sum {total} is greater than 10\")\n",
    "\n",
    "# your solution:\n",
    "..."
   ]
  }
 ],
 "metadata": {
  "kernelspec": {
   "display_name": "course-env",
   "language": "python",
   "name": "python3"
  },
  "language_info": {
   "codemirror_mode": {
    "name": "ipython",
    "version": 3
   },
   "file_extension": ".py",
   "mimetype": "text/x-python",
   "name": "python",
   "nbconvert_exporter": "python",
   "pygments_lexer": "ipython3",
   "version": "3.10.13"
  }
 },
 "nbformat": 4,
 "nbformat_minor": 5
}
