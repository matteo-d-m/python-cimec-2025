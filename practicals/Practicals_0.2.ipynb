{
 "cells": [
  {
   "cell_type": "markdown",
   "id": "03a44e75",
   "metadata": {},
   "source": [
    "# Practicals for lecture 0.2\n",
    "\n",
    "[![Open In Colab](https://colab.research.google.com/assets/colab-badge.svg)](https://colab.research.google.com/github/vigji/python-cimec-2025/blob/main/practicals/Practicals_0.2.ipynb)"
   ]
  },
  {
   "cell_type": "markdown",
   "id": "2d2a4f38",
   "metadata": {},
   "source": [
    "## Flow control"
   ]
  },
  {
   "cell_type": "markdown",
   "id": "5066fd11",
   "metadata": {},
   "source": [
    "#### 0.2.0 Conditionals with `if`"
   ]
  },
  {
   "cell_type": "code",
   "execution_count": null,
   "id": "01da4096",
   "metadata": {},
   "outputs": [],
   "source": [
    "# Write a program that prints out if a given number is even or odd (tip: use the modulo operator %)\n",
    "\n",
    "number_to_test = 30  # change the value of this variable to test other cases\n"
   ]
  },
  {
   "cell_type": "code",
   "execution_count": null,
   "id": "021d9f83",
   "metadata": {},
   "outputs": [],
   "source": [
    "# Write code that checks out if a string is a palindrome, and if it is, prints \"{word} is palindrome!\"\n",
    "# Hint: remember how to revert a string with indices...\n",
    "\n",
    "word = \"kayak\"\n",
    "\n",
    "..."
   ]
  },
  {
   "cell_type": "code",
   "execution_count": null,
   "id": "7c86051e",
   "metadata": {},
   "outputs": [],
   "source": [
    "# The code below gives you electrophysiological data \n",
    "# consisting of a list of 0s and 1s, where the ones \n",
    "# correspond to the occurrence of action potentials. \n",
    "# The trace is 1 second long - so the firing rate correspond to the number of spikes\n",
    "# (you do not care about the function content right now)\n",
    "def generate_trace(seed=1, trace_len=1000, firing_rate=5):\n",
    "    \"\"\"Generate a list with action potential occurrencies.\"\"\"\n",
    "    import random\n",
    "    random.seed(seed)\n",
    "\n",
    "    return [int(random.randint(0, 1000) < firing_rate) for _ in range(trace_len)]\n",
    "\n",
    "neuron_trace = generate_trace()\n",
    "    \n",
    "# Compute the firing rate i.e. the number of action potentials per second for the neuron:\n",
    "firing_rate = ..."
   ]
  },
  {
   "cell_type": "code",
   "execution_count": null,
   "id": "deb396af",
   "metadata": {},
   "outputs": [],
   "source": [
    "# Now print \"high firing rate\" if rate is > 10 Hz, \n",
    "# \"medium firing rate\" if rate is between 5 and 10 Hz, and\n",
    "# \"low firing rate\" if rate is lower than 5 Hz:\n",
    "\n",
    "..."
   ]
  },
  {
   "cell_type": "markdown",
   "id": "8bc85d05",
   "metadata": {},
   "source": [
    "#### 0.2.1 Iterations with for"
   ]
  },
  {
   "cell_type": "code",
   "execution_count": null,
   "id": "1e1d414f",
   "metadata": {},
   "outputs": [],
   "source": [
    "# Split the words of this long sentence in a list:\n",
    "a_sentence = \"Any person could, if they were so inclined, be the sculptor of their own brain.\"\n",
    "...\n",
    "\n",
    "# now initialize an empty list and append to it only the words that are longer than 3 characters:\n",
    "long_words = []\n",
    "..."
   ]
  },
  {
   "cell_type": "code",
   "execution_count": null,
   "id": "fdd086e1",
   "metadata": {},
   "outputs": [],
   "source": [
    "# Can you do the same operation in one line with a list comprehension?\n",
    "\n",
    "long_words = ...  # use a one-line solution!"
   ]
  },
  {
   "cell_type": "code",
   "execution_count": null,
   "id": "f7eed002",
   "metadata": {},
   "outputs": [],
   "source": [
    "# Here we use the function defined above to generate a list of traces for 10 neurons:\n",
    "neuron_traces = [generate_trace(seed=i) for i in range(10)]\n",
    "\n",
    "# Now compute the firing rate for each neuron and put it in a list; you can try to use a single line!m\n"
   ]
  },
  {
   "cell_type": "code",
   "execution_count": null,
   "id": "b9d71cae",
   "metadata": {},
   "outputs": [],
   "source": [
    "# Next, compute the average firing rate across all neurons:\n"
   ]
  },
  {
   "cell_type": "code",
   "execution_count": null,
   "id": "75e38951",
   "metadata": {},
   "outputs": [],
   "source": [
    "# If you haven't, can you do the above operations in one line using a list comprehension?\n",
    "firing_rates = ..."
   ]
  },
  {
   "cell_type": "code",
   "execution_count": null,
   "id": "491d3ed6",
   "metadata": {},
   "outputs": [],
   "source": [
    "# Now store firing rates in a dictionary with keys going from \"neuron_0\" to \"neuron_9\"\n",
    "# You can either use a for loop (after initializing an empty dictionary) \n",
    "# or a dictionary comprehension. \n",
    "# Hint: you can use the `enumerate` function to get both the index and the value of a list.\n",
    "\n",
    "firing_rates_dict = {}\n",
    "\n",
    "..."
   ]
  },
  {
   "cell_type": "code",
   "execution_count": null,
   "id": "02e9a149",
   "metadata": {},
   "outputs": [],
   "source": [
    "# Iter over the dictionary keys and values and create a list with the neurons that have a firing rate > 5 Hz:\n",
    "\n",
    "high_firing_rate_list = []\n",
    "\n",
    "..."
   ]
  }
 ],
 "metadata": {
  "kernelspec": {
   "display_name": "Python 3 (ipykernel)",
   "language": "python",
   "name": "python3"
  },
  "language_info": {
   "codemirror_mode": {
    "name": "ipython",
    "version": 3
   },
   "file_extension": ".py",
   "mimetype": "text/x-python",
   "name": "python",
   "nbconvert_exporter": "python",
   "pygments_lexer": "ipython3",
   "version": "3.11.6"
  }
 },
 "nbformat": 4,
 "nbformat_minor": 5
}
