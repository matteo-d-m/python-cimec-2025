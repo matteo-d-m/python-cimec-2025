{
 "cells": [
  {
   "cell_type": "markdown",
   "id": "6e846e6c",
   "metadata": {},
   "source": [
    "# Practicals for lecture 1.3\n",
    "\n",
    "[![Open In Colab](https://colab.research.google.com/assets/colab-badge.svg)](https://colab.research.google.com/github/vigji/python-cimec-2024/blob/main/practicals/Practicals_1.3.ipynb)"
   ]
  },
  {
   "cell_type": "code",
   "execution_count": 2,
   "id": "100e0fe2",
   "metadata": {},
   "outputs": [],
   "source": [
    "import pandas as pd\n",
    "import numpy as np\n",
    "from matplotlib import pyplot as plt"
   ]
  },
  {
   "cell_type": "markdown",
   "id": "786369d9",
   "metadata": {},
   "source": [
    "#### 1.3.0"
   ]
  },
  {
   "cell_type": "code",
   "execution_count": 1,
   "id": "bccded90",
   "metadata": {},
   "outputs": [
    {
     "ename": "NameError",
     "evalue": "name 'np' is not defined",
     "output_type": "error",
     "traceback": [
      "\u001b[0;31m---------------------------------------------------------------------------\u001b[0m",
      "\u001b[0;31mNameError\u001b[0m                                 Traceback (most recent call last)",
      "Cell \u001b[0;32mIn[1], line 2\u001b[0m\n\u001b[1;32m      1\u001b[0m \u001b[38;5;66;03m# Create a dataframe from the following info about subject in an experiment:\u001b[39;00m\n\u001b[0;32m----> 2\u001b[0m \u001b[43mnp\u001b[49m\u001b[38;5;241m.\u001b[39mrandom\u001b[38;5;241m.\u001b[39mseed(\u001b[38;5;241m42\u001b[39m)\n\u001b[1;32m      3\u001b[0m n_subjects \u001b[38;5;241m=\u001b[39m \u001b[38;5;241m100\u001b[39m\n\u001b[1;32m      4\u001b[0m subjects_data_dictionary \u001b[38;5;241m=\u001b[39m {\n\u001b[1;32m      5\u001b[0m     \u001b[38;5;124m'\u001b[39m\u001b[38;5;124mage\u001b[39m\u001b[38;5;124m'\u001b[39m: np\u001b[38;5;241m.\u001b[39mrandom\u001b[38;5;241m.\u001b[39mrandint(\u001b[38;5;241m20\u001b[39m, \u001b[38;5;241m40\u001b[39m, n_subjects),\n\u001b[1;32m      6\u001b[0m     \u001b[38;5;124m'\u001b[39m\u001b[38;5;124mweight\u001b[39m\u001b[38;5;124m'\u001b[39m: np\u001b[38;5;241m.\u001b[39mrandom\u001b[38;5;241m.\u001b[39mrandint(\u001b[38;5;241m50\u001b[39m, \u001b[38;5;241m100\u001b[39m, n_subjects),\n\u001b[0;32m   (...)\u001b[0m\n\u001b[1;32m      9\u001b[0m     \u001b[38;5;124m'\u001b[39m\u001b[38;5;124mhandedness\u001b[39m\u001b[38;5;124m'\u001b[39m: np\u001b[38;5;241m.\u001b[39mrandom\u001b[38;5;241m.\u001b[39mchoice([\u001b[38;5;124m'\u001b[39m\u001b[38;5;124mR\u001b[39m\u001b[38;5;124m'\u001b[39m, \u001b[38;5;124m'\u001b[39m\u001b[38;5;124mL\u001b[39m\u001b[38;5;124m'\u001b[39m], n_subjects),\n\u001b[1;32m     10\u001b[0m     \u001b[38;5;124m'\u001b[39m\u001b[38;5;124mgroup\u001b[39m\u001b[38;5;124m'\u001b[39m: np\u001b[38;5;241m.\u001b[39mrandom\u001b[38;5;241m.\u001b[39mchoice([\u001b[38;5;124m'\u001b[39m\u001b[38;5;124mcontrol\u001b[39m\u001b[38;5;124m'\u001b[39m, \u001b[38;5;124m'\u001b[39m\u001b[38;5;124mpatient\u001b[39m\u001b[38;5;124m'\u001b[39m], n_subjects)}\n",
      "\u001b[0;31mNameError\u001b[0m: name 'np' is not defined"
     ]
    }
   ],
   "source": [
    "# Create a dataframe from the following info about subject in an experiment:\n",
    "np.random.seed(42)\n",
    "n_subjects = 100\n",
    "subjects_data_dictionary = {\n",
    "    'age': np.random.randint(20, 40, n_subjects),\n",
    "    'weight': np.random.randint(50, 100, n_subjects),\n",
    "    'height': np.random.randint(150, 200, n_subjects),\n",
    "    'sex': np.random.choice(['M', 'F'], n_subjects),\n",
    "    'handedness': np.random.choice(['R', 'L'], n_subjects),\n",
    "    'group': np.random.choice(['control', 'patient'], n_subjects)}\n"
   ]
  },
  {
   "cell_type": "code",
   "execution_count": null,
   "id": "71ea2049",
   "metadata": {},
   "outputs": [],
   "source": [
    "# We can calculate the BMI as :\n",
    "# (body weight in kgs) /  ( (height in meters) ** 2) \n",
    "\n",
    "# Define a new column where you compute the BMI for every subject:\n"
   ]
  },
  {
   "cell_type": "code",
   "execution_count": null,
   "id": "89453d37",
   "metadata": {},
   "outputs": [],
   "source": [
    "string_data = ['cabbage', 'artichoke', 'banana', 'avocado', 'apple', 'orange']\n",
    "int_data = [1, 2, 3, 4, 5, 6]\n",
    "float_data = [0.1, 0.2, 0.3, 0.4, 0.5, 0.6]\n",
    "\n",
    "# organize the data above in a dictionary and from it define a new DataFrame:\n"
   ]
  },
  {
   "cell_type": "code",
   "execution_count": null,
   "id": "28bd4448",
   "metadata": {},
   "outputs": [],
   "source": [
    "# Now, reorganize the data in a list of dictionaries \n",
    "# (one for every row: {string_data: 'cabbage', int_data: 1, float_data: 0.1}, etc. Do it using a for loop, and ideally use zip) \n",
    "# and from it define a new DataFrame:\n",
    "\n"
   ]
  },
  {
   "cell_type": "code",
   "execution_count": null,
   "id": "83005832",
   "metadata": {},
   "outputs": [],
   "source": [
    "# Extend the subject dataset above adding two subjects for which you have the following info:\n",
    "# (Hint: start by defining a new dataframe, and then concatenate it)\n",
    "\n",
    "new_subject1 = {'age': 25,\n",
    "    'weight': 78,\n",
    "    'height': 170,\n",
    "    'sex': \"M\",\n",
    "    'handedness': \"R\",\n",
    "    'group': \"patient\"}\n",
    "new_subject2 = {'age': 35,\n",
    "    'weight': 65,\n",
    "    'height': 165,\n",
    "    'sex': \"F\",\n",
    "    'handedness': \"R\",\n",
    "    'group': \"control\"}\n",
    "\n",
    "# Make sure the new dataset has univoque indexing! (no two rows should have the same index)\n"
   ]
  },
  {
   "cell_type": "code",
   "execution_count": null,
   "id": "b73e5bf2",
   "metadata": {},
   "outputs": [],
   "source": [
    "# [Advanced]\n",
    "# In the above exercise, we're 'adding new rows\" to our dataframe with pd.concat.\n",
    "# Is this process truly modifying the original subjects_df object or are we creating a new object in memory? Write down your guess then verify it using python's \"is\" keyword.\n",
    "# (as in \"df_a is df_b\"; will return True if df_a and df_b are the same object in memory)\n",
    "\n",
    "# Based on this information, would it be efficient to add a large number of subjects to a dataframe in a for loop using pd.concat?\n"
   ]
  },
  {
   "cell_type": "code",
   "execution_count": null,
   "id": "75e46a14",
   "metadata": {},
   "outputs": [],
   "source": [
    "# Iteratively growing a dataframe\n",
    "# write 4 different functions for iteratively adding subject numbers (from 1 to 100) row by row to an empty dataframe\n",
    "# to be clear, the final output is a dataframe with column name \"subject\" and 100 rows [0,1,2,...100] - very simple output but we want to know which approach is most efficient\n",
    "\n",
    "\n",
    "def append_with_concat():\n",
    "  df = pd.DataFrame(columns = ['subject']) # create an empty dataframe with only the column name\n",
    "  for subject_num in range(100):\n",
    "     ...\n",
    "    #create a dataframe to store subject_num (i.e. 1 row), and add it to df using pd.concat\"\n",
    "\n",
    "def collect_dfs_then_concat():\n",
    "  list_of_dfs = []\n",
    "  for subject_num in range(100):\n",
    "     ...\n",
    "    #create a dataframe to store subject_num (i.e. 1 row) then add this dataframe to the list_of_dfs\n",
    "  #outside the for loop, combine all the dfs from the list_of_dfs as well as the empty one into a single df with pd.concat\n",
    "\n",
    "def append_to_list_then_convert_to_df():\n",
    "  list_of_subject_nums = []\n",
    "  for subject_num in range(100):\n",
    "     ...\n",
    "    #append to the list\n",
    "  #outside the for loop, convert the list to a df\n",
    "\n",
    "def preallocate_numpy_array():\n",
    "    array = np.zeros((100, 1))\n",
    "    for subject_num in range(100):\n",
    "       ...\n",
    "        #replace the zeros in the array with the subject_num\n",
    "    #outside the for loop, convert the array into a df"
   ]
  },
  {
   "cell_type": "code",
   "execution_count": null,
   "id": "0190e15e",
   "metadata": {},
   "outputs": [],
   "source": [
    "# let's compare how fast each option is!\n",
    "%timeit append_with_concat()\n",
    "%timeit collect_dfs_then_concat()\n",
    "%timeit append_to_list_then_convert_to_df()\n",
    "%timeit preallocate_numpy_array()\n",
    "# the example was ridiculously simple (100 rows and 1 column) so if you're working with a larger dataset you'll feel the difference between these even more\n",
    "# in general, you should really avoid appending to a dataframe. If you need to iteratively construct a data container, work with lists, arrays or dicts then only convert to\n",
    "# dataframes at the end for extracting info from your final dataframe"
   ]
  },
  {
   "cell_type": "markdown",
   "id": "33fbab31",
   "metadata": {},
   "source": [
    "#### 1.3.1 Methods of `pandas` dataframes"
   ]
  },
  {
   "cell_type": "code",
   "execution_count": null,
   "id": "c20a15d6",
   "metadata": {},
   "outputs": [],
   "source": [
    "# Here we create a fake dataframe containing the results of a psychological test with 30 subjects.\n",
    "# Subjects can be left-handed or right-handed.\n",
    "# The test has 2 measures (reaction time - RT, and accuracy)\n",
    "def create_data_df():\n",
    "    np.random.seed(42)\n",
    "    subject_ability = np.random.uniform(0, 1, 30)\n",
    "    return pd.DataFrame({'subject': [f\"subject_{i}\" for i in range(30)],\n",
    "                       'handedness': np.random.choice(['left', 'right'], 30),\n",
    "                       'RT': subject_ability*100 + np.random.uniform(0, 50, 30),\n",
    "                       'accuracy': subject_ability + np.random.normal(0.8, 0.1, 30)})\n",
    "df = create_data_df()\n",
    "df.head()"
   ]
  },
  {
   "cell_type": "code",
   "execution_count": null,
   "id": "581126bb",
   "metadata": {},
   "outputs": [],
   "source": [
    "# sort the dataframe by RT:\n"
   ]
  },
  {
   "cell_type": "code",
   "execution_count": null,
   "id": "f400f63d",
   "metadata": {},
   "outputs": [],
   "source": [
    "# Compute the mean and standard deviation of the RT and accuracy across the dataset:\n"
   ]
  },
  {
   "cell_type": "code",
   "execution_count": null,
   "id": "9ba8c60e",
   "metadata": {},
   "outputs": [],
   "source": [
    "# Use indexing to select the RT of the left-handed subjects, and compute its 90% percentile:\n"
   ]
  },
  {
   "cell_type": "code",
   "execution_count": null,
   "id": "5544450f",
   "metadata": {},
   "outputs": [],
   "source": [
    "# Now use the percentile to select the accuracy for left-handed subjects with RT above the 90% percentile:\n"
   ]
  },
  {
   "cell_type": "code",
   "execution_count": null,
   "id": "23f238b4",
   "metadata": {},
   "outputs": [],
   "source": [
    "# Create a scatter plot of RT vs accuracy for the right-handed subjects:\n"
   ]
  },
  {
   "cell_type": "code",
   "execution_count": 20,
   "id": "291a2f1c",
   "metadata": {},
   "outputs": [],
   "source": [
    "# Take the meteo dataset using the function below\n",
    "def get_meteo_dataset():\n",
    "    \"\"\"Get the meteo dataset from the open-meteo API.\n",
    "    Note how easy it is to get data from the web with pandas! As long as we give the URL of the csv data, pandas can read it.\n",
    "    \"\"\"\n",
    "    np.random.seed(42)\n",
    "    URL = \"https://api.open-meteo.com/v1/forecast?latitude=52.52&longitude=13.41&current=temperature_2m,wind_speed_10m&hourly=temperature_2m,relative_humidity_2m,precipitation,wind_speed_10m,winddirection_10m&start_date=2025-03-01&end_date=2025-04-20&format=csv\"\n",
    "    df = pd.read_csv(URL, skiprows=6)  # read the csv file, skipping the first 3 rows (a header)\n",
    "    df.columns = [col.split(\" \")[0] for col in df.columns]  # simplify column names\n",
    "    df[\"time\"] = pd.to_datetime(df[\"time\"])  # convert the time column to datetime\n",
    "    df[\"hour\"], df[\"dayofyear\"] = df[\"time\"].dt.hour, df[\"time\"].dt.dayofyear  # extract the hour and day of year\n",
    "    df[\"weekdays\"] = df[\"time\"].dt.day_name()  # extract the day of the week\n",
    "\n",
    "    # Here we artificially corrupt some of the data to make it more interesting\n",
    "    missing_idx = np.random.choice(df.index[:1000], 100)\n",
    "    df.loc[missing_idx, :] = np.nan\n",
    "    return df\n",
    "\n",
    "meteo_df = get_meteo_dataset()"
   ]
  },
  {
   "cell_type": "code",
   "execution_count": 21,
   "id": "3b74c498",
   "metadata": {},
   "outputs": [
    {
     "data": {
      "text/html": [
       "<div>\n",
       "<style scoped>\n",
       "    .dataframe tbody tr th:only-of-type {\n",
       "        vertical-align: middle;\n",
       "    }\n",
       "\n",
       "    .dataframe tbody tr th {\n",
       "        vertical-align: top;\n",
       "    }\n",
       "\n",
       "    .dataframe thead th {\n",
       "        text-align: right;\n",
       "    }\n",
       "</style>\n",
       "<table border=\"1\" class=\"dataframe\">\n",
       "  <thead>\n",
       "    <tr style=\"text-align: right;\">\n",
       "      <th></th>\n",
       "      <th>time</th>\n",
       "      <th>temperature_2m</th>\n",
       "      <th>relative_humidity_2m</th>\n",
       "      <th>precipitation</th>\n",
       "      <th>wind_speed_10m</th>\n",
       "      <th>winddirection_10m</th>\n",
       "      <th>hour</th>\n",
       "      <th>dayofyear</th>\n",
       "      <th>weekdays</th>\n",
       "    </tr>\n",
       "  </thead>\n",
       "  <tbody>\n",
       "    <tr>\n",
       "      <th>0</th>\n",
       "      <td>2025-03-01 00:00:00</td>\n",
       "      <td>3.6</td>\n",
       "      <td>86.0</td>\n",
       "      <td>0.0</td>\n",
       "      <td>11.9</td>\n",
       "      <td>2.0</td>\n",
       "      <td>0.0</td>\n",
       "      <td>60.0</td>\n",
       "      <td>Saturday</td>\n",
       "    </tr>\n",
       "    <tr>\n",
       "      <th>1</th>\n",
       "      <td>NaT</td>\n",
       "      <td>NaN</td>\n",
       "      <td>NaN</td>\n",
       "      <td>NaN</td>\n",
       "      <td>NaN</td>\n",
       "      <td>NaN</td>\n",
       "      <td>NaN</td>\n",
       "      <td>NaN</td>\n",
       "      <td>NaN</td>\n",
       "    </tr>\n",
       "    <tr>\n",
       "      <th>2</th>\n",
       "      <td>2025-03-01 02:00:00</td>\n",
       "      <td>3.4</td>\n",
       "      <td>84.0</td>\n",
       "      <td>0.0</td>\n",
       "      <td>11.2</td>\n",
       "      <td>360.0</td>\n",
       "      <td>2.0</td>\n",
       "      <td>60.0</td>\n",
       "      <td>Saturday</td>\n",
       "    </tr>\n",
       "    <tr>\n",
       "      <th>3</th>\n",
       "      <td>2025-03-01 03:00:00</td>\n",
       "      <td>3.6</td>\n",
       "      <td>85.0</td>\n",
       "      <td>0.0</td>\n",
       "      <td>7.8</td>\n",
       "      <td>13.0</td>\n",
       "      <td>3.0</td>\n",
       "      <td>60.0</td>\n",
       "      <td>Saturday</td>\n",
       "    </tr>\n",
       "    <tr>\n",
       "      <th>4</th>\n",
       "      <td>2025-03-01 04:00:00</td>\n",
       "      <td>3.5</td>\n",
       "      <td>87.0</td>\n",
       "      <td>0.0</td>\n",
       "      <td>7.9</td>\n",
       "      <td>344.0</td>\n",
       "      <td>4.0</td>\n",
       "      <td>60.0</td>\n",
       "      <td>Saturday</td>\n",
       "    </tr>\n",
       "    <tr>\n",
       "      <th>...</th>\n",
       "      <td>...</td>\n",
       "      <td>...</td>\n",
       "      <td>...</td>\n",
       "      <td>...</td>\n",
       "      <td>...</td>\n",
       "      <td>...</td>\n",
       "      <td>...</td>\n",
       "      <td>...</td>\n",
       "      <td>...</td>\n",
       "    </tr>\n",
       "    <tr>\n",
       "      <th>1219</th>\n",
       "      <td>2025-04-20 19:00:00</td>\n",
       "      <td>17.6</td>\n",
       "      <td>51.0</td>\n",
       "      <td>0.0</td>\n",
       "      <td>5.2</td>\n",
       "      <td>25.0</td>\n",
       "      <td>19.0</td>\n",
       "      <td>110.0</td>\n",
       "      <td>Sunday</td>\n",
       "    </tr>\n",
       "    <tr>\n",
       "      <th>1220</th>\n",
       "      <td>2025-04-20 20:00:00</td>\n",
       "      <td>16.4</td>\n",
       "      <td>57.0</td>\n",
       "      <td>0.0</td>\n",
       "      <td>3.6</td>\n",
       "      <td>53.0</td>\n",
       "      <td>20.0</td>\n",
       "      <td>110.0</td>\n",
       "      <td>Sunday</td>\n",
       "    </tr>\n",
       "    <tr>\n",
       "      <th>1221</th>\n",
       "      <td>2025-04-20 21:00:00</td>\n",
       "      <td>15.5</td>\n",
       "      <td>74.0</td>\n",
       "      <td>0.0</td>\n",
       "      <td>3.2</td>\n",
       "      <td>90.0</td>\n",
       "      <td>21.0</td>\n",
       "      <td>110.0</td>\n",
       "      <td>Sunday</td>\n",
       "    </tr>\n",
       "    <tr>\n",
       "      <th>1222</th>\n",
       "      <td>2025-04-20 22:00:00</td>\n",
       "      <td>14.8</td>\n",
       "      <td>75.0</td>\n",
       "      <td>0.0</td>\n",
       "      <td>2.9</td>\n",
       "      <td>97.0</td>\n",
       "      <td>22.0</td>\n",
       "      <td>110.0</td>\n",
       "      <td>Sunday</td>\n",
       "    </tr>\n",
       "    <tr>\n",
       "      <th>1223</th>\n",
       "      <td>2025-04-20 23:00:00</td>\n",
       "      <td>14.3</td>\n",
       "      <td>75.0</td>\n",
       "      <td>0.0</td>\n",
       "      <td>3.1</td>\n",
       "      <td>126.0</td>\n",
       "      <td>23.0</td>\n",
       "      <td>110.0</td>\n",
       "      <td>Sunday</td>\n",
       "    </tr>\n",
       "  </tbody>\n",
       "</table>\n",
       "<p>1224 rows × 9 columns</p>\n",
       "</div>"
      ],
      "text/plain": [
       "                    time  temperature_2m  relative_humidity_2m  precipitation  \\\n",
       "0    2025-03-01 00:00:00             3.6                  86.0            0.0   \n",
       "1                    NaT             NaN                   NaN            NaN   \n",
       "2    2025-03-01 02:00:00             3.4                  84.0            0.0   \n",
       "3    2025-03-01 03:00:00             3.6                  85.0            0.0   \n",
       "4    2025-03-01 04:00:00             3.5                  87.0            0.0   \n",
       "...                  ...             ...                   ...            ...   \n",
       "1219 2025-04-20 19:00:00            17.6                  51.0            0.0   \n",
       "1220 2025-04-20 20:00:00            16.4                  57.0            0.0   \n",
       "1221 2025-04-20 21:00:00            15.5                  74.0            0.0   \n",
       "1222 2025-04-20 22:00:00            14.8                  75.0            0.0   \n",
       "1223 2025-04-20 23:00:00            14.3                  75.0            0.0   \n",
       "\n",
       "      wind_speed_10m  winddirection_10m  hour  dayofyear  weekdays  \n",
       "0               11.9                2.0   0.0       60.0  Saturday  \n",
       "1                NaN                NaN   NaN        NaN       NaN  \n",
       "2               11.2              360.0   2.0       60.0  Saturday  \n",
       "3                7.8               13.0   3.0       60.0  Saturday  \n",
       "4                7.9              344.0   4.0       60.0  Saturday  \n",
       "...              ...                ...   ...        ...       ...  \n",
       "1219             5.2               25.0  19.0      110.0    Sunday  \n",
       "1220             3.6               53.0  20.0      110.0    Sunday  \n",
       "1221             3.2               90.0  21.0      110.0    Sunday  \n",
       "1222             2.9               97.0  22.0      110.0    Sunday  \n",
       "1223             3.1              126.0  23.0      110.0    Sunday  \n",
       "\n",
       "[1224 rows x 9 columns]"
      ]
     },
     "execution_count": 21,
     "metadata": {},
     "output_type": "execute_result"
    }
   ],
   "source": [
    "meteo_df#[meteo_df[\"time\"].isna()]#.loc[:1000, \"temperature_2m\"]"
   ]
  },
  {
   "cell_type": "code",
   "execution_count": 23,
   "id": "c4c78a9b",
   "metadata": {},
   "outputs": [
    {
     "data": {
      "text/plain": [
       "[<matplotlib.lines.Line2D at 0x119f97b50>]"
      ]
     },
     "execution_count": 23,
     "metadata": {},
     "output_type": "execute_result"
    },
    {
     "data": {
      "image/png": "[encoded data removed]",
      "text/plain": [
       "<Figure size 640x480 with 1 Axes>"
      ]
     },
     "metadata": {},
     "output_type": "display_data"
    }
   ],
   "source": [
    "# Plot the temperature and relative humidity for the first 1000 time points. \n",
    "# Find points where there's missing data (interrupted line).\n",
    "plt.plot(meteo_df[\"time\"], meteo_df[\"temperature_2m\"])\n"
   ]
  },
  {
   "cell_type": "code",
   "execution_count": 6,
   "id": "599b76c3",
   "metadata": {},
   "outputs": [],
   "source": [
    "# Create a new interpolated temperature column by interpolating the temperature column of the dataframe:\n",
    "\n"
   ]
  },
  {
   "cell_type": "code",
   "execution_count": null,
   "id": "805126a9",
   "metadata": {},
   "outputs": [],
   "source": [
    "# Make a new plot with the interpolated temperature and the non-interpolated temperature \n",
    "# (plot the interpolated first!)\n"
   ]
  },
  {
   "cell_type": "markdown",
   "id": "2260373b",
   "metadata": {},
   "source": [
    "#### 1.3.2 Organize a dataframe"
   ]
  },
  {
   "cell_type": "code",
   "execution_count": null,
   "id": "0f2f3e6e",
   "metadata": {},
   "outputs": [],
   "source": [
    "# Let's have a look into how to organize data in a dataframe.\n",
    "\n",
    "# Use the following function that generates results for many subjects on\n",
    "# an experiment with experimental trials of different difficulty levels.\n",
    "\n",
    "def get_experiment_block_data(n_subjects=50, difficulty_levels=(1, 2, 3, 4, 5), n_repetitions=50):\n",
    "    \"\"\"Generate a dataframe with results from an experiment with experimental blocks.\n",
    "\n",
    "    Parameters\n",
    "    ----------\n",
    "    n_reps : int\n",
    "        Number of experimental blocks.\n",
    "    n_subjects : int\n",
    "        Number of subjects.\n",
    "    difficulty_levels : tuple\n",
    "        Difficulty levels of the experimental blocks.\n",
    "\n",
    "    Returns\n",
    "    -------\n",
    "    dict\n",
    "        A dictionary with the results of the experiment for each subject.\n",
    "\n",
    "\n",
    "    \"\"\"\n",
    "\n",
    "\n",
    "    np.random.seed(42)\n",
    "    subject_dict = dict()\n",
    "    for subject in range(n_subjects):\n",
    "        subject_ability = np.random.randint(1, 6)\n",
    "        difficulty_level_arr = np.random.choice(difficulty_levels, size=n_repetitions)\n",
    "        rt = np.random.normal(1000, 100, size=n_repetitions) * difficulty_level_arr / subject_ability\n",
    "        error = np.random.uniform(0, 1000*difficulty_level_arr / subject_ability, size=n_repetitions)\n",
    "\n",
    "        subject_dict[f\"subject_{subject}\"] = dict(\n",
    "            difficulty_level=difficulty_level_arr,\n",
    "            rt=rt,\n",
    "            error=error,\n",
    "        )\n",
    "\n",
    "    return subject_dict\n",
    "\n",
    "\n",
    "# Run the function to generate the data dictionary.\n",
    "# Every entry of the dictionary (a subject) contains arrays \n",
    "# for the trial difficulty level, reaction time, and error:\n",
    "data = get_experiment_block_data()\n",
    "\n",
    "# Convert the nested data to a (flat) dataframe:"
   ]
  },
  {
   "cell_type": "code",
   "execution_count": null,
   "id": "c01fd768",
   "metadata": {},
   "outputs": [],
   "source": [
    "# Select the data for subject 0, and create a scatter plot with the reaction time as a function of the trial difficulty level:\n"
   ]
  },
  {
   "cell_type": "code",
   "execution_count": 24,
   "id": "77864f09",
   "metadata": {},
   "outputs": [
    {
     "data": {
      "text/html": [
       "<div>\n",
       "<style scoped>\n",
       "    .dataframe tbody tr th:only-of-type {\n",
       "        vertical-align: middle;\n",
       "    }\n",
       "\n",
       "    .dataframe tbody tr th {\n",
       "        vertical-align: top;\n",
       "    }\n",
       "\n",
       "    .dataframe thead th {\n",
       "        text-align: right;\n",
       "    }\n",
       "</style>\n",
       "<table border=\"1\" class=\"dataframe\">\n",
       "  <thead>\n",
       "    <tr style=\"text-align: right;\">\n",
       "      <th></th>\n",
       "      <th>sex</th>\n",
       "      <th>handedness</th>\n",
       "      <th>age</th>\n",
       "    </tr>\n",
       "  </thead>\n",
       "  <tbody>\n",
       "    <tr>\n",
       "      <th>subject_0</th>\n",
       "      <td>F</td>\n",
       "      <td>left</td>\n",
       "      <td>37</td>\n",
       "    </tr>\n",
       "    <tr>\n",
       "      <th>subject_1</th>\n",
       "      <td>M</td>\n",
       "      <td>right</td>\n",
       "      <td>31</td>\n",
       "    </tr>\n",
       "    <tr>\n",
       "      <th>subject_2</th>\n",
       "      <td>F</td>\n",
       "      <td>left</td>\n",
       "      <td>21</td>\n",
       "    </tr>\n",
       "    <tr>\n",
       "      <th>subject_3</th>\n",
       "      <td>F</td>\n",
       "      <td>right</td>\n",
       "      <td>29</td>\n",
       "    </tr>\n",
       "    <tr>\n",
       "      <th>subject_4</th>\n",
       "      <td>F</td>\n",
       "      <td>left</td>\n",
       "      <td>23</td>\n",
       "    </tr>\n",
       "  </tbody>\n",
       "</table>\n",
       "</div>"
      ],
      "text/plain": [
       "          sex handedness  age\n",
       "subject_0   F       left   37\n",
       "subject_1   M      right   31\n",
       "subject_2   F       left   21\n",
       "subject_3   F      right   29\n",
       "subject_4   F       left   23"
      ]
     },
     "execution_count": 24,
     "metadata": {},
     "output_type": "execute_result"
    }
   ],
   "source": [
    "# Load the subjects dataframe from the csv file at the url:\n",
    "# https://raw.githubusercontent.com/vigji/python-cimec/main/practicals/data/subjects_df.csv\n",
    "\n",
    "subject_df = pd.read_csv(\"https://raw.githubusercontent.com/vigji/python-cimec/main/practicals/data/subjects_df.csv\",\n",
    "                         index_col=0)\n",
    "subject_df.head()"
   ]
  },
  {
   "cell_type": "code",
   "execution_count": null,
   "id": "f5a1d632",
   "metadata": {},
   "outputs": [],
   "source": [
    "# Now use boolean indexing on the subject dataframe to include only left-handed males \n",
    "# above 30 years in the analysis.\n",
    "# Plot the reaction time as a function of the trial difficulty level for this subpopulation:\n"
   ]
  }
 ],
 "metadata": {
  "kernelspec": {
   "display_name": "lab-env",
   "language": "python",
   "name": "python3"
  },
  "language_info": {
   "codemirror_mode": {
    "name": "ipython",
    "version": 3
   },
   "file_extension": ".py",
   "mimetype": "text/x-python",
   "name": "python",
   "nbconvert_exporter": "python",
   "pygments_lexer": "ipython3",
   "version": "3.10.0"
  }
 },
 "nbformat": 4,
 "nbformat_minor": 5
}
